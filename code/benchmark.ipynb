{
 "cells": [
  {
   "cell_type": "code",
   "execution_count": 1,
   "metadata": {},
   "outputs": [],
   "source": [
    "import gzip\n",
    "import os\n",
    "import numpy as np\n",
    "import datetime\n",
    "import matplotlib.pyplot as plt\n",
    "import torch\n",
    "from torch import nn\n",
    "from torch import optim\n",
    "from tqdm import tqdm\n",
    "from sklearn.model_selection import train_test_split\n",
    "from sklearn.metrics import f1_score, r2_score\n",
    "import pandas as pd\n",
    "from ctgan.synthesizers import CTGAN, TVAE\n",
    "from sdv.evaluation import evaluate"
   ]
  },
  {
   "cell_type": "code",
   "execution_count": 2,
   "metadata": {},
   "outputs": [],
   "source": [
    "class BenchmarkMLP(nn.Module):\n",
    "    def __init__(self, input_dim=784, output_dim=10, hidden_dim=100) -> None:\n",
    "        super(BenchmarkMLP, self).__init__()\n",
    "        num_layers = 1\n",
    "        layer_dim = (hidden_dim,)\n",
    "        self.layers = []\n",
    "        dim = input_dim\n",
    "        for i in range(num_layers):\n",
    "            self.layers.append(\n",
    "                nn.Linear(dim, layer_dim[i])\n",
    "            )\n",
    "            self.layers.append(nn.ReLU())\n",
    "            dim = layer_dim[i]\n",
    "        self.layers.append(\n",
    "            nn.Linear(dim, output_dim)\n",
    "        )\n",
    "        self.layers = nn.ModuleList(self.layers)\n",
    "        self.layers.apply(self.init_weights)\n",
    "\n",
    "    def init_weights(self, layer):\n",
    "        if isinstance(layer, nn.Linear):\n",
    "            torch.nn.init.xavier_uniform_(layer.weight)\n",
    "\n",
    "    def forward(self, x):\n",
    "        for layer in self.layers:\n",
    "            x = layer(x)\n",
    "        return x"
   ]
  },
  {
   "cell_type": "code",
   "execution_count": 43,
   "metadata": {},
   "outputs": [],
   "source": [
    "def scorer(output, target, scorer_type, model_type, f1_class):\n",
    "    if scorer_type == \"f1_macro\" and model_type == \"classification\":\n",
    "        return f1_score(target.argmax(-1), output.argmax(-1), average=\"macro\")\n",
    "    elif scorer_type == \"f1_micro\" and model_type == \"classification\":\n",
    "        return f1_score(target.argmax(-1), output.argmax(-1), average=\"micro\")\n",
    "    elif scorer_type == \"accuracy\" and model_type == \"classification\":\n",
    "        correct = (target.argmax(-1) == output.argmax(-1)).sum()\n",
    "        total = target.shape[0]\n",
    "        return correct/total\n",
    "    elif scorer_type in (\"f1_minority\", \"f1_majority\") and model_type == \"classification\" and f1_class is not None:\n",
    "        return f1_score(target.argmax(-1), output.argmax(-1), average=\"binary\", pos_label=f1_class)\n",
    "    elif scorer_type == \"r2\" and model_type == \"regression\":\n",
    "        return r2_score(target, output)\n",
    "    else:\n",
    "        raise Exception(f\"Invalid scorer type: {scorer_type} and model type: {model_type} combination\")\n",
    "\n",
    "def train_model(\n",
    "    train_X,\n",
    "    train_y,\n",
    "    valid_X,\n",
    "    valid_y,\n",
    "    test_X,\n",
    "    test_y,\n",
    "    input_dim=784,\n",
    "    output_dim=10,\n",
    "    num_epochs=10,\n",
    "    batch_size=64,\n",
    "    device=\"cuda\",\n",
    "    model_type=\"classification\",\n",
    "    verbose=True,\n",
    "    use_best_validation=True,\n",
    "    hidden_dim=100,\n",
    "    show_print_training_score=False,\n",
    "    scorer_type=\"f1_macro\"\n",
    "):\n",
    "    # scorer_type supported: f1_macro, f1_micro, f1_minority, f1_majority, r2, accuracy\n",
    "    # model_type supported: regression, classification\n",
    "    train_len = train_X.shape[0]\n",
    "    num_batches_per_epoch = train_len // batch_size\n",
    "    if train_len % batch_size != 0:\n",
    "        num_batches_per_epoch += 1\n",
    "    if model_type == \"classification\":\n",
    "        critetion = nn.CrossEntropyLoss()\n",
    "        unique_elements, counts = np.unique(train_y.argmax(-1), return_counts=True)\n",
    "        if scorer_type == \"f1_minority\":\n",
    "            f1_class = unique_elements[np.argmin(counts)]\n",
    "        elif scorer_type == \"f1_majority\":\n",
    "            f1_class = unique_elements[np.argmax(counts)]\n",
    "        else:\n",
    "            f1_class = None\n",
    "    elif model_type == \"regression\":\n",
    "        critetion = nn.MSELoss()\n",
    "        f1_class = None\n",
    "    else:\n",
    "        raise Exception(\"Invalid model_type argument\")\n",
    "\n",
    "    model = BenchmarkMLP(input_dim=input_dim, output_dim=output_dim, hidden_dim=hidden_dim).to(device)\n",
    "    optimizer = optim.Adam(model.parameters())\n",
    "\n",
    "    train_X = torch.Tensor(train_X).to(device)\n",
    "    train_y = torch.Tensor(train_y).to(device)\n",
    "    valid_X = torch.Tensor(valid_X).to(device)\n",
    "    valid_y = torch.Tensor(valid_y).to(device)\n",
    "    test_X = torch.Tensor(test_X).to(device)\n",
    "    test_y = torch.Tensor(test_y).to(device)\n",
    "\n",
    "    best_valid_score = -float(\"inf\")\n",
    "    best_model_weights = model.state_dict()\n",
    "    for epoch in tqdm(range(num_epochs)):\n",
    "        model.train()\n",
    "        idx = 0\n",
    "        epoch_loss = 0\n",
    "        train_score = 0\n",
    "        # Shuffle train_X and train_y before every epoch\n",
    "        random_ids = np.random.permutation(train_len)\n",
    "        train_X = train_X[random_ids]\n",
    "        train_y = train_y[random_ids]\n",
    "        for _ in range(num_batches_per_epoch):\n",
    "            input = train_X[idx : idx + batch_size]\n",
    "            targets = train_y[idx : idx + batch_size]\n",
    "            idx += batch_size\n",
    "            output = model(input)\n",
    "            loss = critetion(output, targets)\n",
    "            if show_print_training_score:\n",
    "                train_score += scorer(output.cpu().detach(), targets.cpu().detach(), scorer_type, model_type, f1_class)\n",
    "            epoch_loss += loss.item()\n",
    "            optimizer.zero_grad()\n",
    "            loss.backward()\n",
    "            optimizer.step()\n",
    "\n",
    "        if model_type == \"classification\":\n",
    "            epoch_loss = epoch_loss / train_len\n",
    "        elif model_type == \"regression\":\n",
    "            epoch_loss = epoch_loss / num_batches_per_epoch\n",
    "        else:\n",
    "            raise Exception(\"Invalid model_type argument\")\n",
    "        train_score = train_score / num_batches_per_epoch\n",
    "\n",
    "        model.eval()\n",
    "        with torch.no_grad():\n",
    "            output = model(valid_X)\n",
    "            if model_type == \"classification\":\n",
    "                valid_loss = critetion(output, valid_y) / valid_y.shape[0]\n",
    "            elif model_type == \"regression\":\n",
    "                valid_loss = critetion(output, valid_y)\n",
    "            else:\n",
    "                raise Exception(\"Invalid model_type argument\")\n",
    "            valid_score = scorer(output.cpu().detach(), valid_y.cpu().detach(), scorer_type, model_type, f1_class)\n",
    "            if valid_score > best_valid_score:\n",
    "                best_valid_score = valid_score\n",
    "                best_model_weights = model.state_dict()\n",
    "\n",
    "        if verbose or epoch % 25 == 0:\n",
    "            if show_print_training_score:\n",
    "                print(f\"Epoch: {epoch + 1}, Training Loss: {epoch_loss:.4f}, Training Score: {train_score:.4f}, Valid Loss: {valid_loss:.4f}, Valid score: {valid_score:.4f}\")\n",
    "            else:\n",
    "                print(f\"Epoch: {epoch + 1}, Training Loss: {epoch_loss:.4f}, Valid Loss: {valid_loss:.4f}, Valid score: {valid_score:.4f}\")\n",
    "\n",
    "    print(f\"Best validation score: {best_valid_score}\")\n",
    "    if use_best_validation:\n",
    "        model.load_state_dict(best_model_weights)\n",
    "    model.eval()\n",
    "    with torch.no_grad():\n",
    "        output = model(test_X)\n",
    "        test_score = scorer(output.cpu().detach(), test_y.cpu().detach(), scorer_type, model_type, f1_class)\n",
    "    \n",
    "    return test_score"
   ]
  },
  {
   "cell_type": "code",
   "execution_count": 164,
   "metadata": {},
   "outputs": [],
   "source": [
    "def load_mnist(path=\"dataset/mnist/\"):\n",
    "    r\"\"\"Return (train_images, train_labels, test_images, test_labels).\n",
    "\n",
    "    Args:\n",
    "        path (str): Directory containing MNIST. Default is\n",
    "            /home/USER/data/mnist or C:\\Users\\USER\\data\\mnist.\n",
    "            Create if nonexistant. Download any missing files.\n",
    "\n",
    "    Returns:\n",
    "        Tuple of (train_images, train_labels, test_images, test_labels), each\n",
    "            a matrix. Rows are examples. Columns of images are pixel values.\n",
    "            Columns of labels are a onehot encoding of the correct class.\n",
    "\n",
    "    https://mattpetersen.github.io/load-mnist-with-numpy\n",
    "    Load from /home/USER/data/mnist or elsewhere; download if missing.\n",
    "    \"\"\"\n",
    "\n",
    "    files = ['train-images-idx3-ubyte.gz',\n",
    "             'train-labels-idx1-ubyte.gz',\n",
    "             't10k-images-idx3-ubyte.gz',\n",
    "             't10k-labels-idx1-ubyte.gz']\n",
    "\n",
    "    def _images(path):\n",
    "        \"\"\"Return images loaded locally.\"\"\"\n",
    "        with gzip.open(path) as f:\n",
    "            # First 16 bytes are magic_number, n_imgs, n_rows, n_cols\n",
    "            pixels = np.frombuffer(f.read(), 'B', offset=16)\n",
    "        # return pixels.reshape(-1, 784).astype('float32') / 255\n",
    "        return (pixels.reshape(-1, 784) != 0).astype(np.int8)\n",
    "\n",
    "    def _labels(path):\n",
    "        \"\"\"Return labels loaded locally.\"\"\"\n",
    "        with gzip.open(path) as f:\n",
    "            # First 8 bytes are magic_number, n_labels\n",
    "            integer_labels = np.frombuffer(f.read(), 'B', offset=8)\n",
    "\n",
    "        def _onehot(integer_labels):\n",
    "            \"\"\"Return matrix whose rows are onehot encodings of integers.\"\"\"\n",
    "            n_rows = len(integer_labels)\n",
    "            n_cols = integer_labels.max() + 1\n",
    "            onehot = np.zeros((n_rows, n_cols), dtype='uint8')\n",
    "            onehot[np.arange(n_rows), integer_labels] = 1\n",
    "            return onehot\n",
    "\n",
    "        return _onehot(integer_labels)\n",
    "\n",
    "    train_images = _images(os.path.join(path, files[0]))\n",
    "    train_labels = _labels(os.path.join(path, files[1]))\n",
    "    mnist_test_X = _images(os.path.join(path, files[2]))\n",
    "    mnist_test_y = _labels(os.path.join(path, files[3]))\n",
    "\n",
    "    mnist_train_X, mnist_valid_X, mnist_train_y, mnist_valid_y = train_test_split(train_images, train_labels, test_size=0.1, random_state=1, shuffle=True, stratify=train_labels.argmax(-1))\n",
    "\n",
    "    return mnist_train_X, mnist_train_y, mnist_valid_X, mnist_valid_y, mnist_test_X, mnist_test_y"
   ]
  },
  {
   "cell_type": "code",
   "execution_count": 163,
   "metadata": {},
   "outputs": [],
   "source": [
    "def load_fake_mnist(path=\"dataset/mnist/\", synthesizer=\"ctgan\", num_epochs=30, pretrained=\"\"):\n",
    "    r\"\"\"Return (train_images, train_labels, test_images, test_labels).\n",
    "\n",
    "    Args:\n",
    "        path (str): Directory containing MNIST. Default is\n",
    "            /home/USER/data/mnist or C:\\Users\\USER\\data\\mnist.\n",
    "            Create if nonexistant. Download any missing files.\n",
    "\n",
    "    Returns:\n",
    "        Tuple of (train_images, train_labels, test_images, test_labels), each\n",
    "            a matrix. Rows are examples. Columns of images are pixel values.\n",
    "            Columns of labels are a onehot encoding of the correct class.\n",
    "\n",
    "    https://mattpetersen.github.io/load-mnist-with-numpy\n",
    "    Load from /home/USER/data/mnist or elsewhere; download if missing.\n",
    "    \"\"\"\n",
    "\n",
    "    files = [\n",
    "        'train-images-idx3-ubyte.gz',\n",
    "        'train-labels-idx1-ubyte.gz',\n",
    "    ]\n",
    "\n",
    "    def _images(path):\n",
    "        \"\"\"Return images loaded locally.\"\"\"\n",
    "        with gzip.open(path) as f:\n",
    "            # First 16 bytes are magic_number, n_imgs, n_rows, n_cols\n",
    "            pixels = np.frombuffer(f.read(), 'B', offset=16)\n",
    "        # return pixels.reshape(-1, 784).astype('float32') / 255\n",
    "        return (pixels.reshape(-1, 784) != 0).astype(np.int8)\n",
    "\n",
    "    def _labels(path):\n",
    "        \"\"\"Return labels loaded locally.\"\"\"\n",
    "        with gzip.open(path) as f:\n",
    "            # First 8 bytes are magic_number, n_labels\n",
    "            integer_labels = np.frombuffer(f.read(), 'B', offset=8)\n",
    "\n",
    "        def _onehot(integer_labels):\n",
    "            \"\"\"Return matrix whose rows are onehot encodings of integers.\"\"\"\n",
    "            n_rows = len(integer_labels)\n",
    "            n_cols = integer_labels.max() + 1\n",
    "            onehot = np.zeros((n_rows, n_cols), dtype='uint8')\n",
    "            onehot[np.arange(n_rows), integer_labels] = 1\n",
    "            return onehot\n",
    "\n",
    "        return _onehot(integer_labels)\n",
    "\n",
    "    train_images = _images(os.path.join(path, files[0]))\n",
    "    train_labels = _labels(os.path.join(path, files[1]))\n",
    "    train_data = np.concatenate((train_images, train_labels.argmax(-1)[:,None]), axis=1)\n",
    "    if synthesizer == \"ctgan\":\n",
    "        if pretrained:\n",
    "            model = CTGAN.load(pretrained)\n",
    "        else:\n",
    "            model = CTGAN(batch_size=10**3, epochs=num_epochs)\n",
    "    elif synthesizer == \"tvae\":\n",
    "        if pretrained:\n",
    "            model = TVAE.load(pretrained)\n",
    "        else:\n",
    "            model = TVAE(batch_size=10**3, epochs=num_epochs)\n",
    "    else:\n",
    "        print(f\"Synthesizer {synthesizer} not defined!\")\n",
    "        return\n",
    "    if not pretrained:\n",
    "        model.fit(train_data, discrete_columns=list(range(train_data.shape[1])))\n",
    "        # Training fake data synthesizer for MNIST takes a lot of time, save the model to reuse it\n",
    "        now = datetime.datetime.now()\n",
    "        current_time = now.strftime(\"%d-%m-%Y-%H-%M-%S\")\n",
    "        model.save(f\"../models/mnist_{synthesizer}_{num_epochs}_epochs_{current_time}.pkl\")\n",
    "    fake_data = model.sample(train_data.shape[0])\n",
    "\n",
    "    mnist_fake_train_X, mnist_fake_valid_X, mnist_fake_train_y, mnist_fake_valid_y = train_test_split(fake_data[:,:-1], np.eye(10)[fake_data[:,-1]], test_size=0.1, random_state=1, shuffle=True, stratify=fake_data[:,-1])\n",
    "\n",
    "    return mnist_fake_train_X, mnist_fake_train_y, mnist_fake_valid_X, mnist_fake_valid_y"
   ]
  },
  {
   "cell_type": "code",
   "execution_count": 15,
   "metadata": {},
   "outputs": [],
   "source": [
    "def load_credit(path=\"dataset/credit/\"):\n",
    "    credit_df = pd.read_csv(f\"{path}creditcard.csv\")\n",
    "    credit_train_y = credit_df.pop(\"Class\").to_numpy()\n",
    "    credit_train_y = np.eye(2)[credit_train_y]\n",
    "    credit_train_X = credit_df.to_numpy()\n",
    "    credit_train_X, credit_test_X, credit_train_y, credit_test_y = train_test_split(credit_train_X, credit_train_y, test_size=20000, random_state=1, shuffle=True, stratify=credit_train_y)\n",
    "    credit_train_X, credit_valid_X, credit_train_y, credit_valid_y = train_test_split(credit_train_X, credit_train_y, test_size=10000, random_state=1, shuffle=True, stratify=credit_train_y)\n",
    "\n",
    "    return credit_train_X, credit_train_y, credit_valid_X, credit_valid_y, credit_test_X, credit_test_y"
   ]
  },
  {
   "cell_type": "code",
   "execution_count": 161,
   "metadata": {},
   "outputs": [],
   "source": [
    "def load_fake_credit(path=\"../dataset/credit/\", synthesizer=\"ctgan\", num_epochs=50, pretrained=\"\", data_fraction=0.25):\n",
    "    credit_df = pd.read_csv(f\"{path}creditcard.csv\")\n",
    "    # Only use a fraction of dataset using stratified sampling to maintain class samples ratio\n",
    "    # This is especially useful for hyperparameter tuning of epochs\n",
    "    credit_df = credit_df.groupby(\"Class\").apply(lambda x: x.sample(frac=data_fraction))\n",
    "    if synthesizer == \"ctgan\":\n",
    "        if pretrained:\n",
    "            model = CTGAN.load(pretrained)\n",
    "        else:\n",
    "            model = CTGAN(epochs=num_epochs)\n",
    "    elif synthesizer == \"tvae\":\n",
    "        if pretrained:\n",
    "            model = TVAE.load(pretrained)\n",
    "        else:\n",
    "            model = TVAE(epochs=num_epochs)\n",
    "    else:\n",
    "        print(f\"Synthesizer {synthesizer} not defined!\")\n",
    "        return\n",
    "    if not pretrained:\n",
    "        model.fit(credit_df, discrete_columns=[\"Class\"])\n",
    "        # Training fake data synthesizer for credit takes a lot of time, save the model to reuse it\n",
    "        now = datetime.datetime.now()\n",
    "        current_time = now.strftime(\"%d-%m-%Y-%H-%M-%S\")\n",
    "        model.save(f\"../models/credit_{synthesizer}_{num_epochs}_epochs_{current_time}.pkl\")\n",
    "    fake_df = model.sample(credit_df.shape[0])\n",
    "    credit_fake_train_y = fake_df.pop(\"Class\").to_numpy()\n",
    "    credit_fake_train_y = np.eye(2)[credit_fake_train_y]\n",
    "    credit_fake_train_X = fake_df.to_numpy()\n",
    "    credit_fake_train_X, credit_fake_valid_X, credit_fake_train_y, credit_fake_valid_y = train_test_split(\n",
    "        credit_fake_train_X,\n",
    "        credit_fake_train_y,\n",
    "        test_size=0.1,\n",
    "        random_state=1,\n",
    "        shuffle=True,\n",
    "        stratify=credit_fake_train_y.argmax(-1)\n",
    "    )\n",
    "    return credit_fake_train_X, credit_fake_train_y, credit_fake_valid_X, credit_fake_valid_y\n"
   ]
  },
  {
   "cell_type": "code",
   "execution_count": 46,
   "metadata": {},
   "outputs": [],
   "source": [
    "def load_adult(path=\"dataset/adult/\"):\n",
    "    adult_train_df = pd.read_csv(f\"{path}adult.data\", header=None)\n",
    "    adult_test_df = pd.read_csv(f\"{path}adult.test\", header=None)\n",
    "    columns = [\"age\", \"workclass\", \"fnlwgt\", \"education\", \"education-num\", \"marital-status\", \"occupation\", \"relationship\", \"race\", \"sex\", \"capital-gain\", \"capital-loss\", \"hours-per-week\", \"native-country\", \"income_50k\"]\n",
    "    cat_columns = [\"workclass\", \"education\", \"marital-status\", \"occupation\", \"relationship\", \"race\", \"sex\", \"native-country\", \"income_50k\"]\n",
    "    adult_train_df.columns = columns\n",
    "    adult_test_df.columns = columns\n",
    "    adult_train_df = pd.get_dummies(adult_train_df, cat_columns)\n",
    "    adult_test_df = pd.get_dummies(adult_test_df, cat_columns)\n",
    "    # Remove extra . at the end in the test set\n",
    "    adult_test_df[\"income_50k_ >50K\"] = adult_test_df.pop(\"income_50k_ >50K.\")\n",
    "    adult_test_df[\"income_50k_ <=50K\"] = adult_test_df.pop(\"income_50k_ <=50K.\")\n",
    "    # Add missing columns in test\n",
    "    missing_columns = list(set(adult_train_df.columns) - set(adult_test_df.columns))\n",
    "    for col_name in missing_columns:\n",
    "        adult_test_df[col_name] = 0\n",
    "    # Sort columns to ensure same ordering in train and test data frames\n",
    "    adult_train_df = adult_train_df.reindex(sorted(adult_train_df.columns), axis=1)\n",
    "    adult_test_df = adult_test_df.reindex(sorted(adult_train_df.columns), axis=1)\n",
    "    adult_train_y = adult_train_df[[\"income_50k_ >50K\", \"income_50k_ <=50K\"]].to_numpy()\n",
    "    adult_train_X = adult_train_df.drop([\"income_50k_ >50K\", \"income_50k_ <=50K\"], axis=1).to_numpy()\n",
    "    adult_test_y = adult_test_df[[\"income_50k_ >50K\", \"income_50k_ <=50K\"]].to_numpy()\n",
    "    adult_test_X = adult_test_df.drop([\"income_50k_ >50K\", \"income_50k_ <=50K\"], axis=1).to_numpy()\n",
    "    adult_train_X, adult_valid_X, adult_train_y, adult_valid_y = train_test_split(adult_train_X, adult_train_y, test_size=0.1, random_state=1, shuffle=True, stratify=adult_train_y.argmax(-1))\n",
    "\n",
    "    return adult_train_X, adult_train_y, adult_valid_X, adult_valid_y, adult_test_X, adult_test_y "
   ]
  },
  {
   "cell_type": "code",
   "execution_count": 7,
   "metadata": {},
   "outputs": [],
   "source": [
    "def load_fake_adult(path=\"dataset/adult/\", synthesizer=\"ctgan\", num_epochs=50):\n",
    "    adult_train_df = pd.read_csv(f\"{path}adult.data\", header=None)\n",
    "    columns = [\"age\", \"workclass\", \"fnlwgt\", \"education\", \"education-num\", \"marital-status\", \"occupation\", \"relationship\", \"race\", \"sex\", \"capital-gain\", \"capital-loss\", \"hours-per-week\", \"native-country\", \"income_50k\"]\n",
    "    cat_columns = [\"workclass\", \"education\", \"marital-status\", \"occupation\", \"relationship\", \"race\", \"sex\", \"native-country\", \"income_50k\"]\n",
    "    adult_train_df.columns = columns\n",
    "\n",
    "    if synthesizer == \"ctgan\":\n",
    "        model = CTGAN(epochs=num_epochs)\n",
    "    elif synthesizer == \"tvae\":\n",
    "        model = TVAE(epochs=num_epochs)\n",
    "    else:\n",
    "        print(f\"Synthesizer {synthesizer} not defined!\")\n",
    "        return\n",
    "    model.fit(adult_train_df, discrete_columns=cat_columns)\n",
    "    fake_df = model.sample(adult_train_df.shape[0])\n",
    "    fake_df = pd.get_dummies(fake_df, cat_columns)\n",
    "    adult_train_df = pd.get_dummies(adult_train_df, cat_columns)\n",
    "    # Add missing columns in test\n",
    "    missing_columns = list(set(adult_train_df.columns) - set(fake_df.columns))\n",
    "    for col_name in missing_columns:\n",
    "        fake_df[col_name] = 0\n",
    "    # Sort columns to ensure same ordering in train and test data frames\n",
    "    fake_df = fake_df.reindex(sorted(adult_train_df.columns), axis=1)\n",
    "    adult_fake_train_X = fake_df.drop([\"income_50k_ >50K\", \"income_50k_ <=50K\"], axis=1).to_numpy()\n",
    "    adult_fake_train_y = fake_df[[\"income_50k_ >50K\", \"income_50k_ <=50K\"]].to_numpy()\n",
    "    adult_fake_train_X, adult_fake_valid_X, adult_fake_train_y, adult_fake_valid_y = train_test_split(\n",
    "        adult_fake_train_X, adult_fake_train_y, test_size=0.1, random_state=1, shuffle=True, stratify=adult_fake_train_y.argmax(-1)\n",
    "    )\n",
    "\n",
    "    return adult_fake_train_X, adult_fake_train_y, adult_fake_valid_X, adult_fake_valid_y"
   ]
  },
  {
   "cell_type": "code",
   "execution_count": 59,
   "metadata": {},
   "outputs": [],
   "source": [
    "def load_news(path=\"../dataset/news/\"):\n",
    "    news_df = pd.read_csv(f\"{path}/OnlineNewsPopularity.csv\")\n",
    "    # Remove leading whitespace from column names\n",
    "    news_df.columns = [col_name.lstrip() for col_name in news_df.columns.to_list()]\n",
    "    # Set categorical columns\n",
    "    cat_columns = [\n",
    "        \"data_channel_is_lifestyle\",\n",
    "        \"data_channel_is_entertainment\",\n",
    "        \"data_channel_is_bus\",\n",
    "        \"data_channel_is_socmed\",\n",
    "        \"data_channel_is_tech\",\n",
    "        \"data_channel_is_world\",\n",
    "        \"weekday_is_monday\",\n",
    "        \"weekday_is_tuesday\",\n",
    "        \"weekday_is_wednesday\",\n",
    "        \"weekday_is_thursday\",\n",
    "        \"weekday_is_friday\",\n",
    "        \"weekday_is_saturday\",\n",
    "        \"weekday_is_sunday\",\n",
    "        \"is_weekend\",\n",
    "    ]\n",
    "    for col_name in cat_columns:\n",
    "        news_df[col_name] = news_df[col_name].astype(\"category\")\n",
    "    # Remove url column\n",
    "    news_df = news_df.drop(columns=[\"url\"])\n",
    "    # Do not perform one hot encoding since the categorical columns are already binary valued\n",
    "    news_train_y = news_df.pop(\"shares\").to_numpy()[..., None]\n",
    "    news_train_X = news_df.to_numpy()\n",
    "    news_train_X, news_test_X, news_train_y, news_test_y = train_test_split(news_train_X, news_train_y, test_size=8000, random_state=1, shuffle=True)\n",
    "    news_train_X, news_valid_X, news_train_y, news_valid_y = train_test_split(news_train_X, news_train_y, test_size=0.1, random_state=1, shuffle=True)\n",
    "    return news_train_X, news_train_y, news_valid_X, news_valid_y, news_test_X, news_test_y"
   ]
  },
  {
   "cell_type": "code",
   "execution_count": 70,
   "metadata": {},
   "outputs": [],
   "source": [
    "def load_intrusion(path=\"../dataset/intrusion/\"):\n",
    "    columns = [\n",
    "        \"duration\",\n",
    "        \"protocol_type\",\n",
    "        \"service\",\n",
    "        \"flag\",\n",
    "        \"src_bytes\",\n",
    "        \"dst_bytes\",\n",
    "        \"land\",\n",
    "        \"wrong_fragment\",\n",
    "        \"urgent\",\n",
    "        \"hot\",\n",
    "        \"num_failed_logins\",\n",
    "        \"logged_in\",\n",
    "        \"num_compromised\",\n",
    "        \"root_shell\",\n",
    "        \"su_attempted\",\n",
    "        \"num_root\",\n",
    "        \"num_file_creations\",\n",
    "        \"num_shells\",\n",
    "        \"num_access_files\",\n",
    "        \"num_outbound_cmds\",\n",
    "        \"is_host_login\",\n",
    "        \"is_guest_login\",\n",
    "        \"count\",\n",
    "        \"srv_count\",\n",
    "        \"serror_rate\",\n",
    "        \"srv_serror_rate\",\n",
    "        \"rerror_rate\",\n",
    "        \"srv_rerror_rate\",\n",
    "        \"same_srv_rate\",\n",
    "        \"diff_srv_rate\",\n",
    "        \"srv_diff_host_rate\",\n",
    "        \"dst_host_count\",\n",
    "        \"dst_host_srv_count\",\n",
    "        \"dst_host_same_srv_rate\",\n",
    "        \"dst_host_diff_srv_rate\",\n",
    "        \"dst_host_same_src_port_rate\",\n",
    "        \"dst_host_srv_diff_host_rate\",\n",
    "        \"dst_host_serror_rate\",\n",
    "        \"dst_host_srv_serror_rate\",\n",
    "        \"dst_host_rerror_rate\",\n",
    "        \"dst_host_srv_rerror_rate\",\n",
    "        \"class\"\n",
    "    ]\n",
    "    multi_class_columns = [\n",
    "        \"wrong_fragment\",\n",
    "        \"urgent\",\n",
    "        \"hot\",\n",
    "        \"num_failed_logins\",\n",
    "        \"num_compromised\",\n",
    "        \"su_attempted\",\n",
    "        \"num_root\",\n",
    "        \"num_file_creations\",\n",
    "        \"num_shells\",\n",
    "        \"num_access_files\",\n",
    "        \"protocol_type\",\n",
    "        \"service\",\n",
    "        \"flag\",\n",
    "    ]\n",
    "    binary_columns = [\"land\", \"logged_in\", \"root_shell\", \"is_guest_login\"]\n",
    "\n",
    "    intrusion_df = pd.read_csv(f\"{path}kddcup.data_10_percent\", header=None)\n",
    "    intrusion_df.columns = columns\n",
    "    # remove columns: num_outbound_cmds, is_host_login since they contain the same value and provide no extra information\n",
    "    intrusion_df = intrusion_df.drop(columns=[\"num_outbound_cmds\", \"is_host_login\"])\n",
    "    for col in binary_columns:\n",
    "        intrusion_df[col] = intrusion_df[col].astype(np.int8)\n",
    "    for col in multi_class_columns:\n",
    "        intrusion_df[col] = intrusion_df[col].astype(\"category\")\n",
    "    intrusion_df = pd.get_dummies(intrusion_df, columns=multi_class_columns)\n",
    "\n",
    "    intrusion_y = pd.get_dummies(intrusion_df[\"class\"]).to_numpy()\n",
    "    intrusion_X = intrusion_df.drop(columns=[\"class\"]).to_numpy()\n",
    "\n",
    "    intrusion_train_X, intrusion_test_X, intrusion_train_y, intrusion_test_y = train_test_split(\n",
    "        intrusion_X, intrusion_y, test_size=int(1e5), random_state=1, shuffle=True, stratify=intrusion_y.argmax(-1)\n",
    "    )\n",
    "    intrusion_train_X, intrusion_valid_X, intrusion_train_y, intrusion_valid_y = train_test_split(\n",
    "        intrusion_train_X, intrusion_train_y, test_size=0.1, random_state=1, shuffle=True, stratify=intrusion_train_y.argmax(-1)\n",
    "    )\n",
    "    return intrusion_train_X, intrusion_train_y, intrusion_valid_X, intrusion_valid_y, intrusion_test_X, intrusion_test_y"
   ]
  },
  {
   "cell_type": "code",
   "execution_count": 78,
   "metadata": {},
   "outputs": [],
   "source": [
    "def load_covtype(path=\"../dataset/covtype/\"):\n",
    "    covtype_arr = pd.read_csv(f\"{path}covtype.data\", header=None).to_numpy()\n",
    "    num_classes = np.unique(covtype_arr[:,-1]).shape[0]\n",
    "    # classes are from 1 to 7 so subtract by one\n",
    "    covtype_y = np.eye(num_classes)[covtype_arr[:,-1] - 1]\n",
    "    covtype_X = covtype_arr[:,:-1]\n",
    "    covtype_train_X, covtype_test_X, covtype_train_y, covtype_test_y = train_test_split(\n",
    "        covtype_X, covtype_y, test_size=int(1e5), random_state=1, shuffle=True, stratify=covtype_y.argmax(-1)\n",
    "    )\n",
    "    covtype_train_X, covtype_valid_X, covtype_train_y, covtype_valid_y = train_test_split(\n",
    "        covtype_train_X, covtype_train_y, test_size=0.1, random_state=1, shuffle=True, stratify=covtype_train_y.argmax(-1)\n",
    "    )\n",
    "    return covtype_train_X, covtype_train_y, covtype_valid_X, covtype_valid_y, covtype_test_X, covtype_test_y"
   ]
  },
  {
   "cell_type": "code",
   "execution_count": 24,
   "metadata": {},
   "outputs": [],
   "source": [
    "def load_census(path=\"../dataset/census/\"):\n",
    "    columns = [\n",
    "        \"age\",\n",
    "        \"class of worker\",\n",
    "        \"detailed industry recode\",\n",
    "        \"detailed occupation recode\",\n",
    "        \"education\",\n",
    "        \"wage per hour\",\n",
    "        \"enroll in edu inst last wk\",\n",
    "        \"marital stat\",\n",
    "        \"major industry code\",\n",
    "        \"major occupation code\",\n",
    "        \"race\",\n",
    "        \"hispanic origin\",\n",
    "        \"sex\",\n",
    "        \"member of a labor union\",\n",
    "        \"reason for unemployment\",\n",
    "        \"full or part time employment stat\",\n",
    "        \"capital gains\",\n",
    "        \"capital losses\",\n",
    "        \"dividends from stocks\",\n",
    "        \"tax filer stat\",\n",
    "        \"region of previous residence\",\n",
    "        \"state of previous residence\",\n",
    "        \"detailed household and family stat\",\n",
    "        \"detailed household summary in household\",\n",
    "        \"instance weight\",\n",
    "        \"migration code-change in msa\",\n",
    "        \"migration code-change in reg\",\n",
    "        \"migration code-move within reg\",\n",
    "        \"live in this house 1 year ago\",\n",
    "        \"migration prev res in sunbelt\",\n",
    "        \"num persons worked for employer\",\n",
    "        \"family members under 18\",\n",
    "        \"country of birth father\",\n",
    "        \"country of birth mother\",\n",
    "        \"country of birth self\",\n",
    "        \"citizenship\",\n",
    "        \"own business or self employed\",\n",
    "        \"fill inc questionnaire for veteran's admin\",\n",
    "        \"veterans benefits\",\n",
    "        \"weeks worked in year\",\n",
    "        \"year\",\n",
    "        \"income\"\n",
    "    ]\n",
    "    binary_columns = [\n",
    "        \"sex\",\n",
    "        \"year\",\n",
    "        \"income\",\n",
    "    ]\n",
    "    cont_columns = [\n",
    "        \"age\",\n",
    "        \"wage per hour\",\n",
    "        \"capital gains\",\n",
    "        \"capital losses\",\n",
    "        \"dividends from stocks\",\n",
    "        \"num persons worked for employer\",\n",
    "        \"weeks worked in year\",\n",
    "        \"instance weight\",\n",
    "    ]\n",
    "    multi_class_columns = list(set(columns) - set(binary_columns) - set(cont_columns))\n",
    "\n",
    "    census_df_train = pd.read_csv(f\"{path}/census-income.data\", header=None)\n",
    "    census_df_test = pd.read_csv(f\"{path}/census-income.test\", header=None)\n",
    "    census_df_train.columns = columns\n",
    "    census_df_test.columns = columns\n",
    "    # Set correct datatype\n",
    "    for col in binary_columns:\n",
    "        # Perform binary encoding\n",
    "        val_dict = dict((val, pos) for pos, val in enumerate(census_df_train[col].unique()))\n",
    "        census_df_train[col] = census_df_train[col].replace(val_dict)\n",
    "        census_df_test[col] = census_df_test[col].replace(val_dict)\n",
    "        census_df_train[col] = census_df_train[col].astype(np.uint8)\n",
    "        census_df_test[col] = census_df_train[col].astype(np.uint8)\n",
    "    for col in cont_columns:\n",
    "        census_df_train[col] = census_df_train[col].astype(np.float32)\n",
    "        census_df_test[col] = census_df_train[col].astype(np.float32)\n",
    "    for col in multi_class_columns:\n",
    "        census_df_train[col] = census_df_train[col].astype(\"category\")\n",
    "        census_df_test[col] = census_df_train[col].astype(\"category\")\n",
    "    # Perform one hot encoding of multi class columns\n",
    "    census_df_train = pd.get_dummies(census_df_train, columns=multi_class_columns)\n",
    "    census_df_test = pd.get_dummies(census_df_test, columns=multi_class_columns)\n",
    "    # Split into X and y\n",
    "    census_train_y = census_df_train.pop(\"income\").to_numpy()\n",
    "    census_train_y = np.eye(2)[census_train_y]\n",
    "    census_train_X = census_df_train.to_numpy()\n",
    "    census_test_y = census_df_test.pop(\"income\").to_numpy()[..., None]\n",
    "    census_test_y = np.eye(2)[census_test_y]\n",
    "    census_test_X = census_df_test.to_numpy()\n",
    "    # Create validation data\n",
    "    census_train_X, census_valid_X, census_train_y, census_valid_y = train_test_split(\n",
    "        census_train_X, census_train_y, test_size=0.1, random_state=1, shuffle=True, stratify=census_train_y\n",
    "    )\n",
    "    return census_train_X, census_train_y, census_valid_X, census_valid_y, census_test_X, census_test_y"
   ]
  },
  {
   "cell_type": "code",
   "execution_count": 168,
   "metadata": {},
   "outputs": [],
   "source": [
    "mnist_train_X, mnist_train_y, mnist_valid_X, mnist_valid_y, mnist_test_X, mnist_test_y = load_mnist(\"../dataset/mnist/\")"
   ]
  },
  {
   "attachments": {},
   "cell_type": "markdown",
   "metadata": {},
   "source": [
    "test_score = train_model(\n",
    "    mnist_train_X,\n",
    "    mnist_train_y,\n",
    "    mnist_valid_X,\n",
    "    mnist_valid_y,\n",
    "    mnist_test_X,\n",
    "    mnist_test_y,\n",
    "    input_dim=784,\n",
    "    output_dim=10,\n",
    "    batch_size=64,\n",
    "    num_epochs=10,\n",
    "    model_type=\"classification\"\n",
    ")\n",
    "print(f\"Test score: {test_score}\")"
   ]
  },
  {
   "attachments": {},
   "cell_type": "markdown",
   "metadata": {},
   "source": [
    "#### Best test F1 macro score for real mnist train data is: 0.96"
   ]
  },
  {
   "cell_type": "code",
   "execution_count": 16,
   "metadata": {},
   "outputs": [],
   "source": [
    "credit_train_X, credit_train_y, credit_valid_X, credit_valid_y, credit_test_X, credit_test_y = load_credit(\"../dataset/credit/\")"
   ]
  },
  {
   "cell_type": "markdown",
   "metadata": {},
   "source": [
    "test_score = train_model(\n",
    "    credit_train_X,\n",
    "    credit_train_y,\n",
    "    credit_valid_X,\n",
    "    credit_valid_y,\n",
    "    credit_test_X,\n",
    "    credit_test_y,\n",
    "    input_dim=30,\n",
    "    output_dim=2,\n",
    "    batch_size=2**12,\n",
    "    num_epochs=200,\n",
    "    model_type=\"classification\",\n",
    "    scorer_type=\"f1_minority\",\n",
    "    verbose=False,\n",
    ")\n",
    "print(f\"Test score: {test_score}\")"
   ]
  },
  {
   "attachments": {},
   "cell_type": "markdown",
   "metadata": {},
   "source": [
    "#### Best test minority class F1 score for real credit train data is: 0.63"
   ]
  },
  {
   "cell_type": "code",
   "execution_count": 47,
   "metadata": {},
   "outputs": [],
   "source": [
    "adult_train_X, adult_train_y, adult_valid_X, adult_valid_y, adult_test_X, adult_test_y = load_adult(\"../dataset/adult/\")"
   ]
  },
  {
   "cell_type": "markdown",
   "metadata": {},
   "source": [
    "test_score = train_model(\n",
    "    adult_train_X,\n",
    "    adult_train_y,\n",
    "    adult_valid_X,\n",
    "    adult_valid_y,\n",
    "    adult_test_X,\n",
    "    adult_test_y,\n",
    "    input_dim=108,\n",
    "    output_dim=2,\n",
    "    batch_size=256,\n",
    "    num_epochs=100,\n",
    "    model_type=\"classification\",\n",
    "    verbose=False,\n",
    "    scorer_type=\"f1_minority\",\n",
    ")\n",
    "print(f\"Test score: {test_score}\")"
   ]
  },
  {
   "attachments": {},
   "cell_type": "markdown",
   "metadata": {},
   "source": [
    "#### Best test minority class F1 macro score for real adult train data is: 0.60"
   ]
  },
  {
   "cell_type": "code",
   "execution_count": 60,
   "metadata": {},
   "outputs": [],
   "source": [
    "news_train_X, news_train_y, news_valid_X, news_valid_y, news_test_X, news_test_y = load_news(\"../dataset/news/\")"
   ]
  },
  {
   "cell_type": "markdown",
   "metadata": {},
   "source": [
    "test_score = train_model(\n",
    "    news_train_X,\n",
    "    news_train_y,\n",
    "    news_valid_X,\n",
    "    news_valid_y,\n",
    "    news_test_X,\n",
    "    news_test_y,\n",
    "    input_dim=59,\n",
    "    output_dim=1,\n",
    "    batch_size=256,\n",
    "    num_epochs=100,\n",
    "    model_type=\"regression\",\n",
    "    show_print_training_score=False,\n",
    "    scorer_type=\"r2\",\n",
    "    verbose=False\n",
    ")\n",
    "print(f\"Test score: {test_score}\")"
   ]
  },
  {
   "attachments": {},
   "cell_type": "markdown",
   "metadata": {},
   "source": [
    "#### Best test R2 score for real news train data is: 0.027"
   ]
  },
  {
   "cell_type": "code",
   "execution_count": 71,
   "metadata": {},
   "outputs": [],
   "source": [
    "intrusion_train_X, intrusion_train_y, intrusion_valid_X, intrusion_valid_y, intrusion_test_X, intrusion_test_y = load_intrusion(\"../dataset/intrusion/\")"
   ]
  },
  {
   "cell_type": "markdown",
   "metadata": {},
   "source": [
    "test_score = train_model(\n",
    "    intrusion_train_X,\n",
    "    intrusion_train_y,\n",
    "    intrusion_valid_X,\n",
    "    intrusion_valid_y,\n",
    "    intrusion_test_X,\n",
    "    intrusion_test_y,\n",
    "    input_dim=215,\n",
    "    output_dim=23,\n",
    "    batch_size=2**12,\n",
    "    num_epochs=300,\n",
    "    model_type=\"classification\",\n",
    "    show_print_training_score=False,\n",
    "    verbose=False,\n",
    "    scorer_type=\"f1_macro\",\n",
    ")\n",
    "print(f\"Test score: {test_score}\")"
   ]
  },
  {
   "attachments": {},
   "cell_type": "markdown",
   "metadata": {},
   "source": [
    "#### Best test F1 macro score for real intrusion train data is: 0.70"
   ]
  },
  {
   "cell_type": "code",
   "execution_count": 79,
   "metadata": {},
   "outputs": [],
   "source": [
    "covtype_train_X, covtype_train_y, covtype_valid_X, covtype_valid_y, covtype_test_X, covtype_test_y = load_covtype(\"../dataset/covtype/\")"
   ]
  },
  {
   "cell_type": "markdown",
   "metadata": {},
   "source": [
    "test_score = train_model(\n",
    "    covtype_train_X,\n",
    "    covtype_train_y,\n",
    "    covtype_valid_X,\n",
    "    covtype_valid_y,\n",
    "    covtype_test_X,\n",
    "    covtype_test_y,\n",
    "    input_dim=54,\n",
    "    output_dim=7,\n",
    "    batch_size=2**12,\n",
    "    num_epochs=300,\n",
    "    model_type=\"classification\",\n",
    "    show_print_training_score=False,\n",
    "    verbose=False,\n",
    "    scorer_type=\"f1_macro\"\n",
    ")\n",
    "print(f\"Test score: {test_score}\")"
   ]
  },
  {
   "attachments": {},
   "cell_type": "markdown",
   "metadata": {},
   "source": [
    "#### Best test F1 macro score for real covtype train data is: 0.63"
   ]
  },
  {
   "cell_type": "code",
   "execution_count": 82,
   "metadata": {},
   "outputs": [],
   "source": [
    "census_train_X, census_train_y, census_valid_X, census_valid_y, census_test_X, census_test_y = load_census(\"../dataset/census/\")"
   ]
  },
  {
   "cell_type": "markdown",
   "metadata": {},
   "source": [
    "test_score = train_model(\n",
    "    census_train_X,\n",
    "    census_train_y,\n",
    "    census_valid_X,\n",
    "    census_valid_y,\n",
    "    census_test_X,\n",
    "    census_test_y,\n",
    "    input_dim=509,\n",
    "    output_dim=2,\n",
    "    batch_size=2**12,\n",
    "    num_epochs=200,\n",
    "    model_type=\"classification\",\n",
    "    show_print_training_score=False,\n",
    "    verbose=False,\n",
    "    scorer_type=\"f1_minority\"\n",
    ")\n",
    "print(f\"Test score: {test_score}\")"
   ]
  },
  {
   "attachments": {},
   "cell_type": "markdown",
   "metadata": {},
   "source": [
    "#### Best test minority class F1 score for real census train data is: 0.59"
   ]
  },
  {
   "attachments": {},
   "cell_type": "markdown",
   "metadata": {},
   "source": [
    "## MNIST dataset"
   ]
  },
  {
   "cell_type": "markdown",
   "metadata": {},
   "source": [
    "### CTGAN"
   ]
  },
  {
   "cell_type": "code",
   "execution_count": 21,
   "metadata": {},
   "outputs": [],
   "source": [
    "mnist_fake_train_X, mnist_fake_train_y, mnist_fake_valid_X, mnist_fake_valid_y = load_fake_mnist(\n",
    "    \"../dataset/mnist/\",\n",
    "    synthesizer=\"ctgan\",\n",
    "    num_epochs=30,\n",
    "    pretrained=\"../models/mnist_ctgan_200_epochs_02-04-2023-01-10-12.pkl\"\n",
    ")"
   ]
  },
  {
   "cell_type": "code",
   "execution_count": 37,
   "metadata": {},
   "outputs": [
    {
     "name": "stdout",
     "output_type": "stream",
     "text": [
      "8\n"
     ]
    },
    {
     "data": {
      "image/png": "[encoded data removed]",
      "text/plain": [
       "<Figure size 640x480 with 1 Axes>"
      ]
     },
     "metadata": {},
     "output_type": "display_data"
    }
   ],
   "source": [
    "idx = np.random.randint(1, mnist_fake_train_X.shape[0])\n",
    "plt.imshow(mnist_fake_train_X[idx,:].reshape(28, 28), cmap=\"gray\")\n",
    "print(mnist_fake_train_y[idx].argmax(-1))"
   ]
  },
  {
   "attachments": {},
   "cell_type": "markdown",
   "metadata": {},
   "source": [
    "test_score = train_model(\n",
    "    mnist_fake_train_X,\n",
    "    mnist_fake_train_y,\n",
    "    mnist_fake_valid_X,\n",
    "    mnist_fake_valid_y,\n",
    "    mnist_test_X,\n",
    "    mnist_test_y,\n",
    "    input_dim=784,\n",
    "    output_dim=10,\n",
    "    batch_size=64,\n",
    "    num_epochs=10,\n",
    "    model_type=\"classification\"\n",
    ")\n",
    "print(f\"Test score: {test_score}\")"
   ]
  },
  {
   "attachments": {},
   "cell_type": "markdown",
   "metadata": {},
   "source": [
    "#### Best test (real data) F1 macro score for fake mnist CTGAN (200 epochs) train data is: 0.39"
   ]
  },
  {
   "attachments": {},
   "cell_type": "markdown",
   "metadata": {},
   "source": [
    "#### I did not perform number of epochs tuning for MNIST CTGAN, however, 200 epochs produces the same result as mentioned in CTGAN paper"
   ]
  },
  {
   "attachments": {},
   "cell_type": "markdown",
   "metadata": {},
   "source": [
    "### TVAE"
   ]
  },
  {
   "attachments": {},
   "cell_type": "markdown",
   "metadata": {},
   "source": [
    "### TVAE mode collapses for more than 100 epochs"
   ]
  },
  {
   "cell_type": "code",
   "execution_count": 18,
   "metadata": {},
   "outputs": [
    {
     "name": "stdout",
     "output_type": "stream",
     "text": [
      "Num epoch: 130\n",
      "Num epoch: 100\n",
      "Num epoch: 90\n",
      "Num epoch: 70\n",
      "Num epoch: 50\n",
      "Num epoch: 30\n"
     ]
    }
   ],
   "source": [
    "result_dict = dict()\n",
    "files_dict = {\n",
    "    130: \"../models/mnist_tvae_130_epochs_03-04-2023-07-10-43.pkl\",\n",
    "    100: \"../models/mnist_tvae_100_epochs_03-04-2023-03-44-27.pkl\",\n",
    "    90: \"../models/mnist_tvae_90_epochs_03-04-2023-06-45-09.pkl\",\n",
    "    70: \"../models/mnist_tvae_70_epochs_03-04-2023-06-26-29.pkl\",\n",
    "    50: \"../models/mnist_tvae_50_epochs_03-04-2023-06-11-41.pkl\",\n",
    "    30: \"../models/mnist_tvae_30_epochs_03-04-2023-02-37-09.pkl\"\n",
    "}\n",
    "train_data = np.concatenate((mnist_train_X, mnist_train_y.argmax(-1)[:,None]), axis=1)\n",
    "for num_epoch in files_dict:\n",
    "    print(f\"Num epoch: {num_epoch}\")\n",
    "    model = TVAE.load(files_dict[num_epoch])\n",
    "    fake_data = model.sample(train_data.shape[0])\n",
    "    score = evaluate(pd.DataFrame(fake_data), pd.DataFrame(train_data))\n",
    "    result_dict[num_epoch] = score"
   ]
  },
  {
   "cell_type": "code",
   "execution_count": 20,
   "metadata": {},
   "outputs": [
    {
     "data": {
      "text/plain": [
       "<matplotlib.collections.PathCollection at 0x7fdc11471bb0>"
      ]
     },
     "execution_count": 20,
     "metadata": {},
     "output_type": "execute_result"
    },
    {
     "data": {
      "image/png": "[encoded data removed]",
      "text/plain": [
       "<Figure size 640x480 with 1 Axes>"
      ]
     },
     "metadata": {},
     "output_type": "display_data"
    }
   ],
   "source": [
    "epochs_list = list(result_dict.keys())\n",
    "plt.scatter(x=epochs_list, y=[result_dict[num_epoch] for num_epoch in epochs_list])"
   ]
  },
  {
   "attachments": {},
   "cell_type": "markdown",
   "metadata": {},
   "source": [
    "### 100 epochs seems to produce the best result"
   ]
  },
  {
   "cell_type": "code",
   "execution_count": 22,
   "metadata": {},
   "outputs": [
    {
     "name": "stdout",
     "output_type": "stream",
     "text": [
      "2\n"
     ]
    },
    {
     "data": {
      "image/png": "[encoded data removed]",
      "text/plain": [
       "<Figure size 640x480 with 1 Axes>"
      ]
     },
     "metadata": {},
     "output_type": "display_data"
    }
   ],
   "source": [
    "tvae = TVAE.load(\"../models/mnist_tvae_100_epochs_03-04-2023-03-44-27.pkl\")\n",
    "fake = tvae.sample(1)\n",
    "plt.imshow(fake[0][:-1].reshape(28, 28), cmap=\"gray\")\n",
    "print(fake[0][-1])"
   ]
  },
  {
   "cell_type": "code",
   "execution_count": 31,
   "metadata": {},
   "outputs": [],
   "source": [
    "mnist_fake_train_X, mnist_fake_train_y, mnist_fake_valid_X, mnist_fake_valid_y = load_fake_mnist(\n",
    "    \"../dataset/mnist/\",\n",
    "    synthesizer=\"tvae\",\n",
    "    num_epochs=100,\n",
    "    pretrained=\"../models/mnist_tvae_30_epochs_03-04-2023-02-37-09.pkl\",\n",
    ")"
   ]
  },
  {
   "cell_type": "markdown",
   "metadata": {},
   "source": [
    "test_score = train_model(\n",
    "    mnist_fake_train_X,\n",
    "    mnist_fake_train_y,\n",
    "    mnist_fake_valid_X,\n",
    "    mnist_fake_valid_y,\n",
    "    mnist_test_X,\n",
    "    mnist_test_y,\n",
    "    input_dim=784,\n",
    "    output_dim=10,\n",
    "    batch_size=64,\n",
    "    num_epochs=10,\n",
    "    model_type=\"classification\"\n",
    ")\n",
    "print(f\"Test score: {test_score}\")"
   ]
  },
  {
   "attachments": {},
   "cell_type": "markdown",
   "metadata": {},
   "source": [
    "#### Best test (real data) F1 macro score for fake mnist VAE (100 epochs) train data is: 0.91"
   ]
  },
  {
   "attachments": {},
   "cell_type": "markdown",
   "metadata": {},
   "source": [
    "## Adult dataset"
   ]
  },
  {
   "attachments": {},
   "cell_type": "markdown",
   "metadata": {},
   "source": [
    "#### CTGAN"
   ]
  },
  {
   "cell_type": "code",
   "execution_count": 12,
   "metadata": {},
   "outputs": [
    {
     "data": {
      "text/plain": [
       "<matplotlib.collections.PathCollection at 0x7f0b6e22d2e0>"
      ]
     },
     "execution_count": 12,
     "metadata": {},
     "output_type": "execute_result"
    },
    {
     "data": {
      "image/png": "[encoded data removed]",
      "text/plain": [
       "<Figure size 640x480 with 1 Axes>"
      ]
     },
     "metadata": {},
     "output_type": "display_data"
    }
   ],
   "source": [
    "plt.scatter(x=results.keys(), y=results.values())"
   ]
  },
  {
   "attachments": {},
   "cell_type": "markdown",
   "metadata": {},
   "source": [
    "##### 50 epochs produced the best SDV fake data evaluation score for CTGAN, we will use 50 epochs for VAE as well"
   ]
  },
  {
   "attachments": {},
   "cell_type": "markdown",
   "metadata": {},
   "source": [
    "### TVAE"
   ]
  },
  {
   "cell_type": "code",
   "execution_count": 27,
   "metadata": {},
   "outputs": [
    {
     "data": {
      "text/plain": [
       "<matplotlib.collections.PathCollection at 0x7f760c36af70>"
      ]
     },
     "execution_count": 27,
     "metadata": {},
     "output_type": "execute_result"
    },
    {
     "data": {
      "image/png": "[encoded data removed]",
      "text/plain": [
       "<Figure size 640x480 with 1 Axes>"
      ]
     },
     "metadata": {},
     "output_type": "display_data"
    }
   ],
   "source": [
    "# VAE is unable to train for >= 100 epochs\n",
    "vae_results\n",
    "plt.scatter(x=vae_results.keys(), y=vae_results.values())"
   ]
  },
  {
   "attachments": {},
   "cell_type": "markdown",
   "metadata": {},
   "source": [
    "### TVAE decoder sigmas gets nan if we train for more than 100 epochs"
   ]
  },
  {
   "attachments": {},
   "cell_type": "markdown",
   "metadata": {},
   "source": [
    "### ML efficacy of CTGAN on Adult dataset"
   ]
  },
  {
   "cell_type": "code",
   "execution_count": 30,
   "metadata": {},
   "outputs": [
    {
     "name": "stderr",
     "output_type": "stream",
     "text": [
      "100%|██████████| 50/50 [01:32<00:00,  1.84s/it]\n"
     ]
    },
    {
     "name": "stdout",
     "output_type": "stream",
     "text": [
      "SDV fake data evaluation score: 0.8906754803308501\n"
     ]
    }
   ],
   "source": [
    "adult_fake_train_X, adult_fake_train_y, adult_fake_valid_X, adult_fake_valid_y = load_fake_adult(path=\"../dataset/adult/\", synthesizer=\"ctgan\")"
   ]
  },
  {
   "cell_type": "markdown",
   "metadata": {},
   "source": [
    "test_score = train_model(\n",
    "    adult_fake_train_X,\n",
    "    adult_fake_train_y,\n",
    "    adult_fake_valid_X,\n",
    "    adult_fake_valid_y,\n",
    "    adult_test_X,\n",
    "    adult_test_y,\n",
    "    input_dim=108,\n",
    "    output_dim=2,\n",
    "    batch_size=128,\n",
    "    num_epochs=50,\n",
    "    model_type=\"classification\",\n",
    "    verbose=False,\n",
    ")\n",
    "print(f\"Test score: {test_score}\")"
   ]
  },
  {
   "attachments": {},
   "cell_type": "markdown",
   "metadata": {},
   "source": [
    "#### Best test (real data) F1 macro score for fake adult CTGAN (50 epochs) train data is: 0.70"
   ]
  },
  {
   "cell_type": "markdown",
   "metadata": {},
   "source": [
    "### ML efficacy of TVAE on Adult dataset"
   ]
  },
  {
   "cell_type": "code",
   "execution_count": 32,
   "metadata": {},
   "outputs": [
    {
     "name": "stderr",
     "output_type": "stream",
     "text": [
      "100%|██████████| 50/50 [00:34<00:00,  1.44it/s]\n"
     ]
    },
    {
     "name": "stdout",
     "output_type": "stream",
     "text": [
      "SDV fake data evaluation score: 0.8878818538755011\n"
     ]
    }
   ],
   "source": [
    "adult_fake_train_X, adult_fake_train_y, adult_fake_valid_X, adult_fake_valid_y = load_fake_adult(path=\"../dataset/adult/\", synthesizer=\"tvae\")"
   ]
  },
  {
   "cell_type": "markdown",
   "metadata": {},
   "source": [
    "test_score = train_model(\n",
    "    adult_fake_train_X,\n",
    "    adult_fake_train_y,\n",
    "    adult_fake_valid_X,\n",
    "    adult_fake_valid_y,\n",
    "    adult_test_X,\n",
    "    adult_test_y,\n",
    "    input_dim=108,\n",
    "    output_dim=2,\n",
    "    batch_size=128,\n",
    "    num_epochs=50,\n",
    "    model_type=\"classification\",\n",
    "    verbose=False,\n",
    ")\n",
    "print(f\"Test score: {test_score}\")"
   ]
  },
  {
   "attachments": {},
   "cell_type": "markdown",
   "metadata": {},
   "source": [
    "#### Best test (real data) F1 macro score for fake adult TVAE (50 epochs) train data is: 0.70"
   ]
  },
  {
   "cell_type": "markdown",
   "metadata": {},
   "source": [
    "## Credit dataset"
   ]
  },
  {
   "attachments": {},
   "cell_type": "markdown",
   "metadata": {},
   "source": [
    "### For epoch tuning use only 25% of stratified data"
   ]
  },
  {
   "attachments": {},
   "cell_type": "markdown",
   "metadata": {},
   "source": [
    "### CTGAN"
   ]
  },
  {
   "cell_type": "code",
   "execution_count": null,
   "metadata": {},
   "outputs": [],
   "source": [
    "result_dict = dict()\n",
    "files_dict = {\n",
    "    30: \"../models/credit_ctgan_30_epochs_03-04-2023-00-28-44.pkl\",\n",
    "    50: \"../models/credit_ctgan_50_epochs_03-04-2023-00-35-27.pkl\",\n",
    "    75: \"../models/credit_ctgan_75_epochs_03-04-2023-00-44-07.pkl\",\n",
    "    100: \"../models/credit_ctgan_100_epochs_03-04-2023-00-54-47.pkl\",\n",
    "    200: \"../models/credit_ctgan_200_epochs_03-04-2023-01-13-22.pkl\",\n",
    "}\n",
    "for num_epoch in files_dict:\n",
    "    print(f\"Num epoch: {num_epoch}\")\n",
    "    credit_fake_train_X, credit_fake_train_y, credit_fake_valid_X, credit_fake_valid_y = load_fake_credit(\n",
    "        path=\"../dataset/credit/\", synthesizer=\"ctgan\", pretrained=files_dict[num_epoch]\n",
    "    )\n",
    "    score = evaluate(pd.DataFrame(credit_fake_train_X), pd.DataFrame(credit_train_X))\n",
    "    result_dict[num_epoch] = score"
   ]
  },
  {
   "cell_type": "code",
   "execution_count": 14,
   "metadata": {},
   "outputs": [
    {
     "data": {
      "text/plain": [
       "<matplotlib.collections.PathCollection at 0x7fdc0fae7af0>"
      ]
     },
     "execution_count": 14,
     "metadata": {},
     "output_type": "execute_result"
    },
    {
     "data": {
      "image/png": "[encoded data removed]",
      "text/plain": [
       "<Figure size 640x480 with 1 Axes>"
      ]
     },
     "metadata": {},
     "output_type": "display_data"
    }
   ],
   "source": [
    "epochs_list = list(result_dict.keys())\n",
    "plt.scatter(x=epochs_list, y=[result_dict[num_epoch] for num_epoch in epochs_list])"
   ]
  },
  {
   "attachments": {},
   "cell_type": "markdown",
   "metadata": {},
   "source": [
    "#### 200 epochs seems to give the best result"
   ]
  },
  {
   "attachments": {},
   "cell_type": "markdown",
   "metadata": {},
   "source": [
    "### TVAE"
   ]
  },
  {
   "cell_type": "code",
   "execution_count": null,
   "metadata": {},
   "outputs": [],
   "source": [
    "result_dict = dict()\n",
    "files_dict = {\n",
    "    30: \"../models/credit_tvae_30_epochs_03-04-2023-01-17-32.pkl\",\n",
    "    50: \"../models/credit_tvae_50_epochs_03-04-2023-01-22-37.pkl\",\n",
    "    75: \"../models/credit_tvae_75_epochs_03-04-2023-01-28-54.pkl\",\n",
    "    100: \"../models/credit_tvae_100_epochs_03-04-2023-01-36-23.pkl\",\n",
    "    200: \"../models/credit_tvae_200_epochs_03-04-2023-01-48-38.pkl\",\n",
    "}\n",
    "for num_epoch in files_dict:\n",
    "    print(f\"Num epoch: {num_epoch}\")\n",
    "    credit_fake_train_X, credit_fake_train_y, credit_fake_valid_X, credit_fake_valid_y = load_fake_credit(\n",
    "        path=\"../dataset/credit/\", synthesizer=\"tvae\", pretrained=files_dict[num_epoch]\n",
    "    )\n",
    "    score = evaluate(pd.DataFrame(credit_fake_train_X), pd.DataFrame(credit_train_X))\n",
    "    result_dict[num_epoch] = score"
   ]
  },
  {
   "cell_type": "code",
   "execution_count": 22,
   "metadata": {},
   "outputs": [
    {
     "data": {
      "text/plain": [
       "<matplotlib.collections.PathCollection at 0x7fdc10cdf820>"
      ]
     },
     "execution_count": 22,
     "metadata": {},
     "output_type": "execute_result"
    },
    {
     "data": {
      "image/png": "[encoded data removed]",
      "text/plain": [
       "<Figure size 640x480 with 1 Axes>"
      ]
     },
     "metadata": {},
     "output_type": "display_data"
    }
   ],
   "source": [
    "epochs_list = list(result_dict.keys())\n",
    "plt.scatter(x=epochs_list, y=[result_dict[num_epoch] for num_epoch in epochs_list])"
   ]
  },
  {
   "attachments": {},
   "cell_type": "markdown",
   "metadata": {},
   "source": [
    "### TVAE decoder sigmas gets nan if we train for more than 30 epochs"
   ]
  },
  {
   "attachments": {},
   "cell_type": "markdown",
   "metadata": {},
   "source": [
    "### Train models (CTGAN for 200 epochs and TVAE for 30 epochs) on whole dataset"
   ]
  },
  {
   "attachments": {},
   "cell_type": "markdown",
   "metadata": {},
   "source": [
    "### ML efficacy of CTGAN on Credit dataset"
   ]
  },
  {
   "cell_type": "code",
   "execution_count": 270,
   "metadata": {},
   "outputs": [
    {
     "name": "stderr",
     "output_type": "stream",
     "text": [
      "/home/vigu/pyenvs/vanilla/lib/python3.8/site-packages/sklearn/base.py:288: UserWarning: Trying to unpickle estimator BayesianGaussianMixture from version 1.2.2 when using version 1.2.0. This might lead to breaking code or invalid results. Use at your own risk. For more info please refer to:\n",
      "https://scikit-learn.org/stable/model_persistence.html#security-maintainability-limitations\n",
      "  warnings.warn(\n"
     ]
    },
    {
     "name": "stdout",
     "output_type": "stream",
     "text": [
      "0.8453021381237456\n"
     ]
    }
   ],
   "source": [
    "credit_fake_train_X, credit_fake_train_y, credit_fake_valid_X, credit_fake_valid_y = load_fake_credit(\n",
    "    path=\"../dataset/credit/\", synthesizer=\"ctgan\", pretrained=\"../models/credit_ctgan_200_epochs_03-04-2023-12-59-48.pkl\", data_fraction=1.0\n",
    ")\n",
    "score = evaluate(pd.DataFrame(credit_fake_train_X), pd.DataFrame(credit_train_X))\n",
    "print(score)"
   ]
  },
  {
   "cell_type": "markdown",
   "metadata": {},
   "source": [
    "test_score = train_model(\n",
    "    credit_fake_train_X,\n",
    "    credit_fake_train_y,\n",
    "    credit_fake_valid_X,\n",
    "    credit_fake_valid_y,\n",
    "    credit_test_X,\n",
    "    credit_test_y,\n",
    "    input_dim=30,\n",
    "    output_dim=2,\n",
    "    batch_size=256,\n",
    "    num_epochs=20,\n",
    "    model_type=\"classification\",\n",
    ")\n",
    "print(f\"Test score: {test_score}\")"
   ]
  },
  {
   "attachments": {},
   "cell_type": "markdown",
   "metadata": {},
   "source": [
    "#### Best test (real data) F1 macro score for fake credit CTGAN (200 epochs) train data is: 0.56"
   ]
  },
  {
   "attachments": {},
   "cell_type": "markdown",
   "metadata": {},
   "source": [
    "### CTGAN model trained on 25% data performs comparable to that trained on 100% data!"
   ]
  },
  {
   "attachments": {},
   "cell_type": "markdown",
   "metadata": {},
   "source": [
    "### ML efficacy of TVAE on Credit dataset"
   ]
  },
  {
   "cell_type": "code",
   "execution_count": 281,
   "metadata": {},
   "outputs": [
    {
     "name": "stderr",
     "output_type": "stream",
     "text": [
      "/home/vigu/pyenvs/vanilla/lib/python3.8/site-packages/sklearn/base.py:288: UserWarning: Trying to unpickle estimator BayesianGaussianMixture from version 1.2.2 when using version 1.2.0. This might lead to breaking code or invalid results. Use at your own risk. For more info please refer to:\n",
      "https://scikit-learn.org/stable/model_persistence.html#security-maintainability-limitations\n",
      "  warnings.warn(\n"
     ]
    },
    {
     "name": "stdout",
     "output_type": "stream",
     "text": [
      "0.9544779128701518\n"
     ]
    }
   ],
   "source": [
    "credit_fake_train_X, credit_fake_train_y, credit_fake_valid_X, credit_fake_valid_y = load_fake_credit(\n",
    "    path=\"../dataset/credit/\", synthesizer=\"tvae\", pretrained=\"../models/credit_tvae_30_epochs_03-04-2023-01-17-32.pkl\", data_fraction=1.0\n",
    ")\n",
    "score = evaluate(pd.DataFrame(credit_fake_train_X), pd.DataFrame(credit_train_X))\n",
    "print(score)"
   ]
  },
  {
   "cell_type": "markdown",
   "metadata": {},
   "source": [
    "test_score = train_model(\n",
    "    credit_fake_train_X,\n",
    "    credit_fake_train_y,\n",
    "    credit_fake_valid_X,\n",
    "    credit_fake_valid_y,\n",
    "    credit_test_X,\n",
    "    credit_test_y,\n",
    "    input_dim=30,\n",
    "    output_dim=2,\n",
    "    batch_size=256,\n",
    "    num_epochs=20,\n",
    "    model_type=\"classification\",\n",
    "    verbose=False,\n",
    ")\n",
    "print(f\"Test score: {test_score}\")"
   ]
  },
  {
   "attachments": {},
   "cell_type": "markdown",
   "metadata": {},
   "source": [
    "### TVAE decoder sigmas gets nan if we train on whole dataset for 30 epochs"
   ]
  },
  {
   "attachments": {},
   "cell_type": "markdown",
   "metadata": {},
   "source": [
    "#### Best test (real data) F1 macro score for fake credit TVAE (30 epochs) train data is: 0.60"
   ]
  }
 ],
 "metadata": {
  "kernelspec": {
   "display_name": "vanilla",
   "language": "python",
   "name": "python3"
  },
  "language_info": {
   "codemirror_mode": {
    "name": "ipython",
    "version": 3
   },
   "file_extension": ".py",
   "mimetype": "text/x-python",
   "name": "python",
   "nbconvert_exporter": "python",
   "pygments_lexer": "ipython3",
   "version": "3.8.0"
  },
  "orig_nbformat": 4,
  "vscode": {
   "interpreter": {
    "hash": "e79bffa39ae3b34dd6a67cfb7a86efb7a981f71c16a69aea29c61b44b39f0d36"
   }
  }
 },
 "nbformat": 4,
 "nbformat_minor": 2
}
