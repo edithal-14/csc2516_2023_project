{
 "cells": [
  {
   "cell_type": "code",
   "execution_count": 2,
   "metadata": {},
   "outputs": [],
   "source": [
    "import gzip\n",
    "import os\n",
    "import numpy as np\n",
    "import datetime\n",
    "import matplotlib.pyplot as plt\n",
    "import torch\n",
    "from torch import nn\n",
    "from torch import optim\n",
    "from tqdm import tqdm\n",
    "from sklearn.model_selection import train_test_split\n",
    "from sklearn.metrics import f1_score\n",
    "import pandas as pd\n",
    "from ctgan.synthesizers import CTGAN, TVAE\n",
    "from sdv.evaluation import evaluate"
   ]
  },
  {
   "cell_type": "code",
   "execution_count": 26,
   "metadata": {},
   "outputs": [],
   "source": [
    "class BenchmarkMLP(nn.Module):\n",
    "    def __init__(self, input_dim=784, output_dim=10) -> None:\n",
    "        super(BenchmarkMLP, self).__init__()\n",
    "        num_layers = 1\n",
    "        layer_dim = (100,)\n",
    "        self.layers = []\n",
    "        dim = input_dim\n",
    "        for i in range(num_layers):\n",
    "            self.layers.append(\n",
    "                nn.Linear(dim, layer_dim[i])\n",
    "            )\n",
    "            self.layers.append(nn.ReLU())\n",
    "            dim = layer_dim[i]\n",
    "        self.layers.append(\n",
    "            nn.Linear(dim, output_dim)\n",
    "        )\n",
    "        self.layers = nn.ModuleList(self.layers)\n",
    "        self.layers.apply(self.init_weights)\n",
    "\n",
    "    def init_weights(self, layer):\n",
    "        if isinstance(layer, nn.Linear):\n",
    "            torch.nn.init.xavier_uniform_(layer.weight)\n",
    "\n",
    "\n",
    "    \n",
    "    def forward(self, x):\n",
    "        for layer in self.layers:\n",
    "            x = layer(x)\n",
    "        out = torch.squeeze(x, -1)\n",
    "        return out"
   ]
  },
  {
   "cell_type": "code",
   "execution_count": 27,
   "metadata": {},
   "outputs": [],
   "source": [
    "def train_model(\n",
    "    train_X,\n",
    "    train_y,\n",
    "    valid_X,\n",
    "    valid_y,\n",
    "    test_X,\n",
    "    test_y,\n",
    "    input_dim=784,\n",
    "    output_dim=10,\n",
    "    num_epochs=10,\n",
    "    batch_size=64,\n",
    "    device=\"cuda\",\n",
    "    model_type=\"classification\",\n",
    "    verbose=True\n",
    "):\n",
    "    # Training\n",
    "    train_len = train_X.shape[0]\n",
    "    num_batches_per_epoch = train_len // batch_size\n",
    "    if train_len % batch_size != 0:\n",
    "        num_batches_per_epoch += 1\n",
    "    if model_type == \"classification\":\n",
    "        critetion = nn.CrossEntropyLoss()\n",
    "    elif model_type == \"regression\":\n",
    "        critetion = nn.MSELoss()\n",
    "    else:\n",
    "        print(\"Invalid model_type argument\")\n",
    "        return\n",
    "\n",
    "    model = BenchmarkMLP(input_dim=input_dim, output_dim=output_dim).to(device)\n",
    "    optimizer = optim.Adam(model.parameters())\n",
    "\n",
    "    train_X = torch.Tensor(train_X).to(device)\n",
    "    train_y = torch.Tensor(train_y).to(device)\n",
    "    valid_X = torch.Tensor(valid_X).to(device)\n",
    "    valid_y = torch.Tensor(valid_y).to(device)\n",
    "    test_X = torch.Tensor(test_X).to(device)\n",
    "    test_y = torch.Tensor(test_y).to(device)\n",
    "\n",
    "    best_valid_score = -float(\"inf\")\n",
    "    best_model_weights = model.state_dict()\n",
    "    for epoch in tqdm(range(num_epochs)):\n",
    "        model.train()\n",
    "        idx = 0\n",
    "        epoch_loss = 0\n",
    "        for _ in range(num_batches_per_epoch):\n",
    "            input = train_X[idx : idx + batch_size]\n",
    "            targets = train_y[idx : idx + batch_size]\n",
    "            idx += batch_size\n",
    "            output = model(input)\n",
    "            loss = critetion(output, targets)\n",
    "            epoch_loss += loss.item()\n",
    "            optimizer.zero_grad()\n",
    "            loss.backward()\n",
    "            optimizer.step()\n",
    "        epoch_loss = epoch_loss / train_len\n",
    "\n",
    "        model.eval()\n",
    "        with torch.no_grad():\n",
    "            output = model(valid_X)\n",
    "            valid_loss = critetion(output, valid_y) / valid_y.shape[0]\n",
    "            output = torch.argmax(output, -1)\n",
    "            valid_score = f1_score(output.cpu(), valid_y.argmax(-1).cpu(), average=\"macro\")\n",
    "            if valid_score > best_valid_score:\n",
    "                best_valid_score = valid_score\n",
    "                best_model_weights = model.state_dict()\n",
    "\n",
    "        if verbose or epoch % 25 == 0:\n",
    "            print(f\"Epoch: {epoch + 1}, Training Loss: {epoch_loss:.4f}, Valid Loss: {valid_loss:.8f}, Valid score: {valid_score:.4f}\")\n",
    "\n",
    "    print(f\"Best validation score: {best_valid_score}\")\n",
    "    model.load_state_dict(best_model_weights)\n",
    "    model.eval()\n",
    "    with torch.no_grad():\n",
    "        output = model(test_X)\n",
    "        valid_loss = critetion(output, test_y) / test_y.shape[0]\n",
    "        output = torch.argmax(output, -1)\n",
    "        test_score = f1_score(output.cpu(), test_y.argmax(-1).cpu(), average=\"macro\")\n",
    "    \n",
    "    return test_score"
   ]
  },
  {
   "cell_type": "code",
   "execution_count": 5,
   "metadata": {},
   "outputs": [],
   "source": [
    "def load_mnist(path=\"dataset/mnist/\"):\n",
    "    r\"\"\"Return (train_images, train_labels, test_images, test_labels).\n",
    "\n",
    "    Args:\n",
    "        path (str): Directory containing MNIST. Default is\n",
    "            /home/USER/data/mnist or C:\\Users\\USER\\data\\mnist.\n",
    "            Create if nonexistant. Download any missing files.\n",
    "\n",
    "    Returns:\n",
    "        Tuple of (train_images, train_labels, test_images, test_labels), each\n",
    "            a matrix. Rows are examples. Columns of images are pixel values.\n",
    "            Columns of labels are a onehot encoding of the correct class.\n",
    "\n",
    "    https://mattpetersen.github.io/load-mnist-with-numpy\n",
    "    Load from /home/USER/data/mnist or elsewhere; download if missing.\n",
    "    \"\"\"\n",
    "\n",
    "    files = ['train-images-idx3-ubyte.gz',\n",
    "             'train-labels-idx1-ubyte.gz',\n",
    "             't10k-images-idx3-ubyte.gz',\n",
    "             't10k-labels-idx1-ubyte.gz']\n",
    "\n",
    "    def _images(path):\n",
    "        \"\"\"Return images loaded locally.\"\"\"\n",
    "        with gzip.open(path) as f:\n",
    "            # First 16 bytes are magic_number, n_imgs, n_rows, n_cols\n",
    "            pixels = np.frombuffer(f.read(), 'B', offset=16)\n",
    "        # return pixels.reshape(-1, 784).astype('float32') / 255\n",
    "        return (pixels.reshape(-1, 784) != 0).astype(np.int8)\n",
    "\n",
    "    def _labels(path):\n",
    "        \"\"\"Return labels loaded locally.\"\"\"\n",
    "        with gzip.open(path) as f:\n",
    "            # First 8 bytes are magic_number, n_labels\n",
    "            integer_labels = np.frombuffer(f.read(), 'B', offset=8)\n",
    "\n",
    "        def _onehot(integer_labels):\n",
    "            \"\"\"Return matrix whose rows are onehot encodings of integers.\"\"\"\n",
    "            n_rows = len(integer_labels)\n",
    "            n_cols = integer_labels.max() + 1\n",
    "            onehot = np.zeros((n_rows, n_cols), dtype='uint8')\n",
    "            onehot[np.arange(n_rows), integer_labels] = 1\n",
    "            return onehot\n",
    "\n",
    "        return _onehot(integer_labels)\n",
    "\n",
    "    train_images = _images(os.path.join(path, files[0]))\n",
    "    train_labels = _labels(os.path.join(path, files[1]))\n",
    "    mnist_test_X = _images(os.path.join(path, files[2]))\n",
    "    mnist_test_y = _labels(os.path.join(path, files[3]))\n",
    "\n",
    "    mnist_train_X, mnist_valid_X, mnist_train_y, mnist_valid_y = train_test_split(train_images, train_labels, test_size=0.1, random_state=1, shuffle=True, stratify=train_labels.argmax(-1))\n",
    "\n",
    "    return mnist_train_X, mnist_train_y, mnist_valid_X, mnist_valid_y, mnist_test_X, mnist_test_y"
   ]
  },
  {
   "cell_type": "code",
   "execution_count": 3,
   "metadata": {},
   "outputs": [],
   "source": [
    "def load_fake_mnist(path=\"dataset/mnist/\", synthesizer=\"ctgan\", num_epochs=30, pretrained=\"\"):\n",
    "    r\"\"\"Return (train_images, train_labels, test_images, test_labels).\n",
    "\n",
    "    Args:\n",
    "        path (str): Directory containing MNIST. Default is\n",
    "            /home/USER/data/mnist or C:\\Users\\USER\\data\\mnist.\n",
    "            Create if nonexistant. Download any missing files.\n",
    "\n",
    "    Returns:\n",
    "        Tuple of (train_images, train_labels, test_images, test_labels), each\n",
    "            a matrix. Rows are examples. Columns of images are pixel values.\n",
    "            Columns of labels are a onehot encoding of the correct class.\n",
    "\n",
    "    https://mattpetersen.github.io/load-mnist-with-numpy\n",
    "    Load from /home/USER/data/mnist or elsewhere; download if missing.\n",
    "    \"\"\"\n",
    "\n",
    "    files = [\n",
    "        'train-images-idx3-ubyte.gz',\n",
    "        'train-labels-idx1-ubyte.gz',\n",
    "    ]\n",
    "\n",
    "    def _images(path):\n",
    "        \"\"\"Return images loaded locally.\"\"\"\n",
    "        with gzip.open(path) as f:\n",
    "            # First 16 bytes are magic_number, n_imgs, n_rows, n_cols\n",
    "            pixels = np.frombuffer(f.read(), 'B', offset=16)\n",
    "        # return pixels.reshape(-1, 784).astype('float32') / 255\n",
    "        return (pixels.reshape(-1, 784) != 0).astype(np.int8)\n",
    "\n",
    "    def _labels(path):\n",
    "        \"\"\"Return labels loaded locally.\"\"\"\n",
    "        with gzip.open(path) as f:\n",
    "            # First 8 bytes are magic_number, n_labels\n",
    "            integer_labels = np.frombuffer(f.read(), 'B', offset=8)\n",
    "\n",
    "        def _onehot(integer_labels):\n",
    "            \"\"\"Return matrix whose rows are onehot encodings of integers.\"\"\"\n",
    "            n_rows = len(integer_labels)\n",
    "            n_cols = integer_labels.max() + 1\n",
    "            onehot = np.zeros((n_rows, n_cols), dtype='uint8')\n",
    "            onehot[np.arange(n_rows), integer_labels] = 1\n",
    "            return onehot\n",
    "\n",
    "        return _onehot(integer_labels)\n",
    "\n",
    "    train_images = _images(os.path.join(path, files[0]))\n",
    "    train_labels = _labels(os.path.join(path, files[1]))\n",
    "    train_data = np.concatenate((train_images, train_labels.argmax(-1)[:,None]), axis=1)\n",
    "    if synthesizer == \"ctgan\":\n",
    "        if pretrained:\n",
    "            model = CTGAN.load(pretrained)\n",
    "        else:\n",
    "            model = CTGAN(batch_size=10**3, epochs=num_epochs)\n",
    "    elif synthesizer == \"tvae\":\n",
    "        if pretrained:\n",
    "            model = TVAE.load(pretrained)\n",
    "        else:\n",
    "            model = TVAE(batch_size=10**3, epochs=num_epochs)\n",
    "    else:\n",
    "        print(f\"Synthesizer {synthesizer} not defined!\")\n",
    "        return\n",
    "    if not pretrained:\n",
    "        model.fit(train_data, discrete_columns=list(range(train_data.shape[1])))\n",
    "        # Training fake data synthesizer for MNIST takes a lot of time, save the model to reuse it\n",
    "        now = datetime.datetime.now()\n",
    "        current_time = now.strftime(\"%d-%m-%Y-%H-%M-%S\")\n",
    "        model.save(f\"../models/mnist_{synthesizer}_{num_epochs}_epochs_{current_time}.pkl\")\n",
    "    fake_data = model.sample(train_data.shape[0])\n",
    "\n",
    "    mnist_fake_train_X, mnist_fake_valid_X, mnist_fake_train_y, mnist_fake_valid_y = train_test_split(fake_data[:,:-1], np.eye(10)[fake_data[:,-1]], test_size=0.1, random_state=1, shuffle=True, stratify=fake_data[:,-1])\n",
    "\n",
    "    return mnist_fake_train_X, mnist_fake_train_y, mnist_fake_valid_X, mnist_fake_valid_y"
   ]
  },
  {
   "cell_type": "code",
   "execution_count": 41,
   "metadata": {},
   "outputs": [],
   "source": [
    "def load_credit(path=\"dataset/credit/\"):\n",
    "    credit_df = pd.read_csv(f\"{path}creditcard.csv\")\n",
    "    credit_train_y = credit_df.pop(\"Class\").to_numpy()\n",
    "    credit_train_y = np.eye(2)[credit_train_y]\n",
    "    credit_train_X = credit_df.to_numpy()\n",
    "    credit_train_X, credit_test_X, credit_train_y, credit_test_y = train_test_split(credit_train_X, credit_train_y, test_size=20000, random_state=1, shuffle=True, stratify=credit_train_y)\n",
    "    credit_train_X, credit_valid_X, credit_train_y, credit_valid_y = train_test_split(credit_train_X, credit_train_y, test_size=10000, random_state=1, shuffle=True, stratify=credit_train_y)\n",
    "\n",
    "    return credit_train_X, credit_train_y, credit_valid_X, credit_valid_y, credit_test_X, credit_test_y"
   ]
  },
  {
   "cell_type": "code",
   "execution_count": 55,
   "metadata": {},
   "outputs": [],
   "source": [
    "def load_fake_credit(path=\"dataset/credit/\", synthesizer=\"ctgan\", num_epochs=50):\n",
    "    credit_df = pd.read_csv(f\"{path}creditcard.csv\")\n",
    "    if synthesizer == \"ctgan\":\n",
    "        model = CTGAN(epochs=num_epochs)\n",
    "    elif synthesizer == \"tvae\":\n",
    "        model = TVAE(epochs=num_epochs)\n",
    "    else:\n",
    "        print(f\"Synthesizer {synthesizer} not defined!\")\n",
    "        return\n",
    "    model.fit(credit_df, discrete_columns=[\"Class\"])\n",
    "    fake_df = model.sample(credit_df.shape[0])\n",
    "    score = evaluate(fake_df, credit_df)\n",
    "    print(f\"SDV fake data evaluation score: {score}\")\n",
    "    credit_fake_train_y = fake_df.pop(\"Class\").to_numpy()\n",
    "    credit_fake_train_y = np.eye(2)[credit_fake_train_y]\n",
    "    credit_fake_train_X = fake_df.to_numpy()\n",
    "    credit_fake_train_X, credit_fake_valid_X, credit_fake_train_y, credit_fake_valid_y = train_test_split(\n",
    "        credit_fake_train_X,\n",
    "        credit_fake_train_y,\n",
    "        test_size=20000,\n",
    "        random_state=1,\n",
    "        shuffle=True,\n",
    "        stratify=credit_fake_train_y.argmax(-1)\n",
    "    )\n",
    "    return credit_fake_train_X, credit_fake_train_y, credit_fake_valid_X, credit_fake_valid_y\n"
   ]
  },
  {
   "cell_type": "code",
   "execution_count": 7,
   "metadata": {},
   "outputs": [],
   "source": [
    "def load_adult(path=\"dataset/adult/\"):\n",
    "    adult_train_df = pd.read_csv(f\"{path}adult.data\", header=None)\n",
    "    adult_test_df = pd.read_csv(f\"{path}adult.test\", header=None)\n",
    "    columns = [\"age\", \"workclass\", \"fnlwgt\", \"education\", \"education-num\", \"marital-status\", \"occupation\", \"relationship\", \"race\", \"sex\", \"capital-gain\", \"capital-loss\", \"hours-per-week\", \"native-country\", \"income_50k\"]\n",
    "    cat_columns = [\"workclass\", \"education\", \"marital-status\", \"occupation\", \"relationship\", \"race\", \"sex\", \"native-country\", \"income_50k\"]\n",
    "    adult_train_df.columns = columns\n",
    "    adult_test_df.columns = columns\n",
    "    adult_train_df = pd.get_dummies(adult_train_df, cat_columns)\n",
    "    adult_test_df = pd.get_dummies(adult_test_df, cat_columns)\n",
    "    # Remove extra . at the end in the test set\n",
    "    adult_test_df[\"income_50k_ >50K\"] = adult_test_df.pop(\"income_50k_ >50K.\")\n",
    "    adult_test_df[\"income_50k_ <=50K\"] = adult_test_df.pop(\"income_50k_ <=50K.\")\n",
    "    # Add missing columns in test\n",
    "    missing_columns = list(set(adult_train_df.columns) - set(adult_test_df.columns))\n",
    "    for col_name in missing_columns:\n",
    "        adult_test_df[col_name] = 0\n",
    "    # Sort columns to ensure same ordering in train and test data frames\n",
    "    adult_train_df = adult_train_df.reindex(sorted(adult_train_df.columns), axis=1)\n",
    "    adult_test_df = adult_test_df.reindex(sorted(adult_train_df.columns), axis=1)\n",
    "    adult_train_y = adult_train_df[[\"income_50k_ >50K\", \"income_50k_ <=50K\"]].to_numpy()\n",
    "    adult_train_X = adult_train_df.drop([\"income_50k_ >50K\", \"income_50k_ <=50K\"], axis=1).to_numpy()\n",
    "    adult_test_y = adult_test_df[[\"income_50k_ >50K\", \"income_50k_ <=50K\"]].to_numpy()\n",
    "    adult_test_X = adult_test_df.drop([\"income_50k_ >50K\", \"income_50k_ <=50K\"], axis=1).to_numpy()\n",
    "    adult_train_X, adult_valid_X, adult_train_y, adult_valid_y = train_test_split(adult_train_X, adult_train_y, test_size=0.1, random_state=1, shuffle=True, stratify=adult_train_y.argmax(-1))\n",
    "\n",
    "    return adult_train_X, adult_train_y, adult_valid_X, adult_valid_y, adult_test_X, adult_test_y "
   ]
  },
  {
   "cell_type": "code",
   "execution_count": 8,
   "metadata": {},
   "outputs": [],
   "source": [
    "def load_fake_adult(path=\"dataset/adult/\", synthesizer=\"ctgan\", num_epochs=50):\n",
    "    adult_train_df = pd.read_csv(f\"{path}adult.data\", header=None)\n",
    "    columns = [\"age\", \"workclass\", \"fnlwgt\", \"education\", \"education-num\", \"marital-status\", \"occupation\", \"relationship\", \"race\", \"sex\", \"capital-gain\", \"capital-loss\", \"hours-per-week\", \"native-country\", \"income_50k\"]\n",
    "    cat_columns = [\"workclass\", \"education\", \"marital-status\", \"occupation\", \"relationship\", \"race\", \"sex\", \"native-country\", \"income_50k\"]\n",
    "    adult_train_df.columns = columns\n",
    "\n",
    "    if synthesizer == \"ctgan\":\n",
    "        model = CTGAN(epochs=num_epochs)\n",
    "    elif synthesizer == \"tvae\":\n",
    "        model = TVAE(epochs=num_epochs)\n",
    "    else:\n",
    "        print(f\"Synthesizer {synthesizer} not defined!\")\n",
    "        return\n",
    "\n",
    "    model.fit(adult_train_df, discrete_columns=cat_columns)\n",
    "    fake_df = model.sample(adult_train_df.shape[0])\n",
    "    score = evaluate(fake_df, adult_train_df)\n",
    "    print(f\"SDV fake data evaluation score: {score}\")\n",
    "\n",
    "    fake_df = pd.get_dummies(fake_df, cat_columns)\n",
    "    adult_train_df = pd.get_dummies(adult_train_df, cat_columns)\n",
    "    # Add missing columns in test\n",
    "    missing_columns = list(set(adult_train_df.columns) - set(fake_df.columns))\n",
    "    for col_name in missing_columns:\n",
    "        fake_df[col_name] = 0\n",
    "    # Sort columns to ensure same ordering in train and test data frames\n",
    "    fake_df = fake_df.reindex(sorted(adult_train_df.columns), axis=1)\n",
    "    adult_fake_train_X = fake_df.drop([\"income_50k_ >50K\", \"income_50k_ <=50K\"], axis=1).to_numpy()\n",
    "    adult_fake_train_y = fake_df[[\"income_50k_ >50K\", \"income_50k_ <=50K\"]].to_numpy()\n",
    "    adult_fake_train_X, adult_fake_valid_X, adult_fake_train_y, adult_fake_valid_y = train_test_split(\n",
    "        adult_fake_train_X, adult_fake_train_y, test_size=0.1, random_state=1, shuffle=True, stratify=adult_fake_train_y.argmax(-1)\n",
    "    )\n",
    "\n",
    "    return adult_fake_train_X, adult_fake_train_y, adult_fake_valid_X, adult_fake_valid_y"
   ]
  },
  {
   "cell_type": "code",
   "execution_count": 24,
   "metadata": {},
   "outputs": [],
   "source": [
    "mnist_train_X, mnist_train_y, mnist_valid_X, mnist_valid_y, mnist_test_X, mnist_test_y = load_mnist(\"../dataset/mnist/\")"
   ]
  },
  {
   "attachments": {},
   "cell_type": "markdown",
   "metadata": {},
   "source": [
    "test_score = train_model(\n",
    "    mnist_train_X,\n",
    "    mnist_train_y,\n",
    "    mnist_valid_X,\n",
    "    mnist_valid_y,\n",
    "    mnist_test_X,\n",
    "    mnist_test_y,\n",
    "    input_dim=784,\n",
    "    output_dim=10,\n",
    "    batch_size=64,\n",
    "    num_epochs=10,\n",
    "    model_type=\"classification\"\n",
    ")\n",
    "print(f\"Test score: {test_score}\")"
   ]
  },
  {
   "cell_type": "markdown",
   "metadata": {},
   "source": [
    "#### Best test (real data) F1 macro score for real mnist train data is: 0.96"
   ]
  },
  {
   "cell_type": "code",
   "execution_count": 42,
   "metadata": {},
   "outputs": [],
   "source": [
    "credit_train_X, credit_train_y, credit_valid_X, credit_valid_y, credit_test_X, credit_test_y = load_credit(\"../dataset/credit/\")"
   ]
  },
  {
   "cell_type": "markdown",
   "metadata": {},
   "source": [
    "test_score = train_model(\n",
    "    credit_train_X,\n",
    "    credit_train_y,\n",
    "    credit_valid_X,\n",
    "    credit_valid_y,\n",
    "    credit_test_X,\n",
    "    credit_test_y,\n",
    "    input_dim=30,\n",
    "    output_dim=2,\n",
    "    batch_size=256,\n",
    "    num_epochs=20,\n",
    "    model_type=\"classification\"\n",
    ")\n",
    "print(f\"Test score: {test_score}\")"
   ]
  },
  {
   "attachments": {},
   "cell_type": "markdown",
   "metadata": {},
   "source": [
    "#### Best test (real data) F1 macro score for real credit train data is: 0.75"
   ]
  },
  {
   "cell_type": "code",
   "execution_count": 24,
   "metadata": {},
   "outputs": [],
   "source": [
    "adult_train_X, adult_train_y, adult_valid_X, adult_valid_y, adult_test_X, adult_test_y = load_adult(\"../dataset/adult/\")"
   ]
  },
  {
   "cell_type": "markdown",
   "metadata": {},
   "source": [
    "test_score = train_model(\n",
    "    adult_train_X,\n",
    "    adult_train_y,\n",
    "    adult_valid_X,\n",
    "    adult_valid_y,\n",
    "    adult_test_X,\n",
    "    adult_test_y,\n",
    "    input_dim=108,\n",
    "    output_dim=2,\n",
    "    batch_size=128,\n",
    "    num_epochs=50,\n",
    "    model_type=\"classification\",\n",
    "    verbose=False,\n",
    ")\n",
    "print(f\"Test score: {test_score}\")"
   ]
  },
  {
   "attachments": {},
   "cell_type": "markdown",
   "metadata": {},
   "source": [
    "#### Best test (real data) F1 macro score for real adult train data is: 0.75"
   ]
  },
  {
   "attachments": {},
   "cell_type": "markdown",
   "metadata": {},
   "source": [
    "## MNIST dataset"
   ]
  },
  {
   "cell_type": "markdown",
   "metadata": {},
   "source": [
    "### CTGAN"
   ]
  },
  {
   "cell_type": "code",
   "execution_count": 21,
   "metadata": {},
   "outputs": [],
   "source": [
    "mnist_fake_train_X, mnist_fake_train_y, mnist_fake_valid_X, mnist_fake_valid_y = load_fake_mnist(\n",
    "    \"../dataset/mnist/\",\n",
    "    synthesizer=\"ctgan\",\n",
    "    num_epochs=30,\n",
    "    pretrained=\"../models/mnist_ctgan_200_epochs_02-04-2023-01-10-12.pkl\"\n",
    ")"
   ]
  },
  {
   "cell_type": "code",
   "execution_count": 37,
   "metadata": {},
   "outputs": [
    {
     "name": "stdout",
     "output_type": "stream",
     "text": [
      "8\n"
     ]
    },
    {
     "data": {
      "image/png": "[encoded data removed]",
      "text/plain": [
       "<Figure size 640x480 with 1 Axes>"
      ]
     },
     "metadata": {},
     "output_type": "display_data"
    }
   ],
   "source": [
    "idx = np.random.randint(1, mnist_fake_train_X.shape[0])\n",
    "plt.imshow(mnist_fake_train_X[idx,:].reshape(28, 28), cmap=\"gray\")\n",
    "print(mnist_fake_train_y[idx].argmax(-1))"
   ]
  },
  {
   "attachments": {},
   "cell_type": "markdown",
   "metadata": {},
   "source": [
    "test_score = train_model(\n",
    "    mnist_fake_train_X,\n",
    "    mnist_fake_train_y,\n",
    "    mnist_fake_valid_X,\n",
    "    mnist_fake_valid_y,\n",
    "    mnist_test_X,\n",
    "    mnist_test_y,\n",
    "    input_dim=784,\n",
    "    output_dim=10,\n",
    "    batch_size=64,\n",
    "    num_epochs=10,\n",
    "    model_type=\"classification\"\n",
    ")\n",
    "print(f\"Test score: {test_score}\")"
   ]
  },
  {
   "attachments": {},
   "cell_type": "markdown",
   "metadata": {},
   "source": [
    "#### Best test (real data) F1 macro score for fake mnist CTGAN (200 epochs) train data is: 0.39"
   ]
  },
  {
   "attachments": {},
   "cell_type": "markdown",
   "metadata": {},
   "source": [
    "#### I did not perform number of epochs tuning for MNIST CTGAN, however, 200 epochs produces the same result as mentioned in CTGAN paper"
   ]
  },
  {
   "attachments": {},
   "cell_type": "markdown",
   "metadata": {},
   "source": [
    "### TVAE"
   ]
  },
  {
   "attachments": {},
   "cell_type": "markdown",
   "metadata": {},
   "source": [
    "### TVAE mode collapses for more than 100 epochs"
   ]
  },
  {
   "cell_type": "code",
   "execution_count": 19,
   "metadata": {},
   "outputs": [
    {
     "name": "stdout",
     "output_type": "stream",
     "text": [
      "Num epoch: 130\n",
      "Num epoch: 100\n",
      "Num epoch: 90\n",
      "Num epoch: 70\n",
      "Num epoch: 50\n",
      "Num epoch: 30\n"
     ]
    }
   ],
   "source": [
    "result_dict = dict()\n",
    "files_dict = {\n",
    "    130: \"../models/mnist_tvae_130_epochs_03-04-2023-07-10-43.pkl\",\n",
    "    100: \"../models/mnist_tvae_100_epochs_03-04-2023-03-44-27.pkl\",\n",
    "    90: \"../models/mnist_tvae_90_epochs_03-04-2023-06-45-09.pkl\",\n",
    "    70: \"../models/mnist_tvae_70_epochs_03-04-2023-06-26-29.pkl\",\n",
    "    50: \"../models/mnist_tvae_50_epochs_03-04-2023-06-11-41.pkl\",\n",
    "    30: \"../models/mnist_tvae_30_epochs_03-04-2023-02-37-09.pkl\"\n",
    "}\n",
    "train_data = np.concatenate((mnist_train_X, mnist_train_y.argmax(-1)[:,None]), axis=1)\n",
    "for num_epoch in files_dict:\n",
    "    print(f\"Num epoch: {num_epoch}\")\n",
    "    model = TVAE.load(files_dict[num_epoch])\n",
    "    fake_data = model.sample(train_data.shape[0])\n",
    "    score = evaluate(pd.DataFrame(fake_data), pd.DataFrame(train_data))\n",
    "    result_dict[num_epoch] = score"
   ]
  },
  {
   "cell_type": "code",
   "execution_count": 20,
   "metadata": {},
   "outputs": [
    {
     "data": {
      "text/plain": [
       "<matplotlib.collections.PathCollection at 0x7f0b04368880>"
      ]
     },
     "execution_count": 20,
     "metadata": {},
     "output_type": "execute_result"
    },
    {
     "data": {
      "image/png": "[encoded data removed]",
      "text/plain": [
       "<Figure size 640x480 with 1 Axes>"
      ]
     },
     "metadata": {},
     "output_type": "display_data"
    }
   ],
   "source": [
    "plt.scatter(x=result_dict.keys(), y=result_dict.values())"
   ]
  },
  {
   "attachments": {},
   "cell_type": "markdown",
   "metadata": {},
   "source": [
    "### 100 epochs seems to produce the best result"
   ]
  },
  {
   "cell_type": "code",
   "execution_count": 22,
   "metadata": {},
   "outputs": [
    {
     "name": "stdout",
     "output_type": "stream",
     "text": [
      "2\n"
     ]
    },
    {
     "data": {
      "image/png": "[encoded data removed]",
      "text/plain": [
       "<Figure size 640x480 with 1 Axes>"
      ]
     },
     "metadata": {},
     "output_type": "display_data"
    }
   ],
   "source": [
    "tvae = TVAE.load(\"../models/mnist_tvae_100_epochs_03-04-2023-03-44-27.pkl\")\n",
    "fake = tvae.sample(1)\n",
    "plt.imshow(fake[0][:-1].reshape(28, 28), cmap=\"gray\")\n",
    "print(fake[0][-1])"
   ]
  },
  {
   "cell_type": "code",
   "execution_count": 31,
   "metadata": {},
   "outputs": [],
   "source": [
    "mnist_fake_train_X, mnist_fake_train_y, mnist_fake_valid_X, mnist_fake_valid_y = load_fake_mnist(\n",
    "    \"../dataset/mnist/\",\n",
    "    synthesizer=\"tvae\",\n",
    "    num_epochs=100,\n",
    "    pretrained=\"../models/mnist_tvae_30_epochs_03-04-2023-02-37-09.pkl\",\n",
    ")"
   ]
  },
  {
   "cell_type": "markdown",
   "metadata": {},
   "source": [
    "test_score = train_model(\n",
    "    mnist_fake_train_X,\n",
    "    mnist_fake_train_y,\n",
    "    mnist_fake_valid_X,\n",
    "    mnist_fake_valid_y,\n",
    "    mnist_test_X,\n",
    "    mnist_test_y,\n",
    "    input_dim=784,\n",
    "    output_dim=10,\n",
    "    batch_size=64,\n",
    "    num_epochs=10,\n",
    "    model_type=\"classification\"\n",
    ")\n",
    "print(f\"Test score: {test_score}\")"
   ]
  },
  {
   "attachments": {},
   "cell_type": "markdown",
   "metadata": {},
   "source": [
    "#### Best test (real data) F1 macro score for fake mnist VAE (100 epochs) train data is: 0.91"
   ]
  },
  {
   "attachments": {},
   "cell_type": "markdown",
   "metadata": {},
   "source": [
    "## Adult dataset"
   ]
  },
  {
   "attachments": {},
   "cell_type": "markdown",
   "metadata": {},
   "source": [
    "#### CTGAN"
   ]
  },
  {
   "cell_type": "code",
   "execution_count": 12,
   "metadata": {},
   "outputs": [
    {
     "data": {
      "text/plain": [
       "<matplotlib.collections.PathCollection at 0x7f0b6e22d2e0>"
      ]
     },
     "execution_count": 12,
     "metadata": {},
     "output_type": "execute_result"
    },
    {
     "data": {
      "image/png": "[encoded data removed]",
      "text/plain": [
       "<Figure size 640x480 with 1 Axes>"
      ]
     },
     "metadata": {},
     "output_type": "display_data"
    }
   ],
   "source": [
    "plt.scatter(x=results.keys(), y=results.values())"
   ]
  },
  {
   "attachments": {},
   "cell_type": "markdown",
   "metadata": {},
   "source": [
    "##### 50 epochs produced the best SDV fake data evaluation score for CTGAN, we will use 50 epochs for VAE as well"
   ]
  },
  {
   "attachments": {},
   "cell_type": "markdown",
   "metadata": {},
   "source": [
    "### TVAE"
   ]
  },
  {
   "cell_type": "code",
   "execution_count": 27,
   "metadata": {},
   "outputs": [
    {
     "data": {
      "text/plain": [
       "<matplotlib.collections.PathCollection at 0x7f760c36af70>"
      ]
     },
     "execution_count": 27,
     "metadata": {},
     "output_type": "execute_result"
    },
    {
     "data": {
      "image/png": "[encoded data removed]",
      "text/plain": [
       "<Figure size 640x480 with 1 Axes>"
      ]
     },
     "metadata": {},
     "output_type": "display_data"
    }
   ],
   "source": [
    "# VAE is unable to train for >= 100 epochs\n",
    "vae_results\n",
    "plt.scatter(x=vae_results.keys(), y=vae_results.values())"
   ]
  },
  {
   "attachments": {},
   "cell_type": "markdown",
   "metadata": {},
   "source": [
    "### ML efficacy of CTGAN on Adult dataset"
   ]
  },
  {
   "cell_type": "code",
   "execution_count": 30,
   "metadata": {},
   "outputs": [
    {
     "name": "stderr",
     "output_type": "stream",
     "text": [
      "100%|██████████| 50/50 [01:32<00:00,  1.84s/it]\n"
     ]
    },
    {
     "name": "stdout",
     "output_type": "stream",
     "text": [
      "SDV fake data evaluation score: 0.8906754803308501\n"
     ]
    }
   ],
   "source": [
    "adult_fake_train_X, adult_fake_train_y, adult_fake_valid_X, adult_fake_valid_y = load_fake_adult(path=\"../dataset/adult/\", synthesizer=\"ctgan\")"
   ]
  },
  {
   "cell_type": "markdown",
   "metadata": {},
   "source": [
    "test_score = train_model(\n",
    "    adult_fake_train_X,\n",
    "    adult_fake_train_y,\n",
    "    adult_fake_valid_X,\n",
    "    adult_fake_valid_y,\n",
    "    adult_test_X,\n",
    "    adult_test_y,\n",
    "    input_dim=108,\n",
    "    output_dim=2,\n",
    "    batch_size=128,\n",
    "    num_epochs=50,\n",
    "    model_type=\"classification\",\n",
    "    verbose=False,\n",
    ")\n",
    "print(f\"Test score: {test_score}\")"
   ]
  },
  {
   "attachments": {},
   "cell_type": "markdown",
   "metadata": {},
   "source": [
    "#### Best test (real data) F1 macro score for fake adult CTGAN (50 epochs) train data is: 0.70"
   ]
  },
  {
   "cell_type": "markdown",
   "metadata": {},
   "source": [
    "### ML efficacy of TVAE on Adult dataset"
   ]
  },
  {
   "cell_type": "code",
   "execution_count": 32,
   "metadata": {},
   "outputs": [
    {
     "name": "stderr",
     "output_type": "stream",
     "text": [
      "100%|██████████| 50/50 [00:34<00:00,  1.44it/s]\n"
     ]
    },
    {
     "name": "stdout",
     "output_type": "stream",
     "text": [
      "SDV fake data evaluation score: 0.8878818538755011\n"
     ]
    }
   ],
   "source": [
    "adult_fake_train_X, adult_fake_train_y, adult_fake_valid_X, adult_fake_valid_y = load_fake_adult(path=\"../dataset/adult/\", synthesizer=\"tvae\")"
   ]
  },
  {
   "cell_type": "markdown",
   "metadata": {},
   "source": [
    "test_score = train_model(\n",
    "    adult_fake_train_X,\n",
    "    adult_fake_train_y,\n",
    "    adult_fake_valid_X,\n",
    "    adult_fake_valid_y,\n",
    "    adult_test_X,\n",
    "    adult_test_y,\n",
    "    input_dim=108,\n",
    "    output_dim=2,\n",
    "    batch_size=128,\n",
    "    num_epochs=50,\n",
    "    model_type=\"classification\",\n",
    "    verbose=False,\n",
    ")\n",
    "print(f\"Test score: {test_score}\")"
   ]
  },
  {
   "attachments": {},
   "cell_type": "markdown",
   "metadata": {},
   "source": [
    "#### Best test (real data) F1 macro score for fake adult TVAE (50 epochs) train data is: 0.70"
   ]
  },
  {
   "cell_type": "markdown",
   "metadata": {},
   "source": [
    "## Credit dataset"
   ]
  },
  {
   "cell_type": "code",
   "execution_count": 61,
   "metadata": {},
   "outputs": [
    {
     "name": "stderr",
     "output_type": "stream",
     "text": [
      "100%|██████████| 2/2 [00:39<00:00, 19.72s/it]\n"
     ]
    },
    {
     "name": "stdout",
     "output_type": "stream",
     "text": [
      "SDV fake data evaluation score: 0.8143408263909788\n"
     ]
    }
   ],
   "source": [
    "credit_fake_train_X, credit_fake_train_y, credit_fake_valid_X, credit_fake_valid_y = load_fake_credit(path=\"../dataset/credit/\", synthesizer=\"tvae\", num_epochs=2)"
   ]
  }
 ],
 "metadata": {
  "kernelspec": {
   "display_name": "vanilla",
   "language": "python",
   "name": "python3"
  },
  "language_info": {
   "codemirror_mode": {
    "name": "ipython",
    "version": 3
   },
   "file_extension": ".py",
   "mimetype": "text/x-python",
   "name": "python",
   "nbconvert_exporter": "python",
   "pygments_lexer": "ipython3",
   "version": "3.8.0"
  },
  "orig_nbformat": 4
 },
 "nbformat": 4,
 "nbformat_minor": 2
}
