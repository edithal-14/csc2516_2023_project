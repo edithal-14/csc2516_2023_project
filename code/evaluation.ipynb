{
 "cells": [
  {
   "cell_type": "markdown",
   "metadata": {},
   "source": [
    "### RUN ONLY ONCE\n",
    "from ctgan.utils import save_real_df, save_fake_df, ohe_cat\n",
    "for dset in ['loan']:\n",
    "    save_real_df(dset)\n",
    "    save_fake_df(dset)\n",
    "    ohe_cat(dset)"
   ]
  },
  {
   "cell_type": "code",
   "execution_count": null,
   "metadata": {},
   "outputs": [],
   "source": [
    "import json\n",
    "\n",
    "from evaluation import get_utility_metrics, stat_sim\n",
    "from ctgan.utils import BASE_DIR, get_cols\n",
    "\n",
    "AE_TYPES = ['vanilla', 'denoising', 'vae', 'ee']\n",
    "PATHS = {\n",
    "    'adult': {\n",
    "        'real' : {\n",
    "            'train': f\"{BASE_DIR}/dataset/adult/real_data.csv\",\n",
    "            'test': f\"{BASE_DIR}/dataset/adult/real_test.csv\"\n",
    "        },\n",
    "        'fake' : {\n",
    "            'train': {\n",
    "                'vanilla' : f\"{BASE_DIR}/dataset/adult/fake_data_vanilla.csv\",\n",
    "                'denoising' : f\"{BASE_DIR}/dataset/adult/fake_data_denoising.csv\",\n",
    "                'vae' : f\"{BASE_DIR}/dataset/adult/fake_data_vae.csv\",\n",
    "                'ee' : f\"{BASE_DIR}/dataset/adult/fake_data_ee.csv\"\n",
    "            },\n",
    "            'test': {\n",
    "                'vanilla' : f\"{BASE_DIR}/dataset/adult/fake_test_vanilla.csv\",\n",
    "                'denoising' : f\"{BASE_DIR}/dataset/adult/fake_test_denoising.csv\",\n",
    "                'vae' : f\"{BASE_DIR}/dataset/adult/fake_test_vae.csv\",\n",
    "                'ee' : f\"{BASE_DIR}/dataset/adult/fake_test_ee.csv\"\n",
    "            }\n",
    "        }\n",
    "    }\n",
    "}\n",
    "\n",
    "with open(f\"{BASE_DIR}/results/stat_sim.json\", 'r') as f:\n",
    "    STAT_SIM = json.load(f)\n",
    "\n",
    "with open(f\"{BASE_DIR}/results/ml_efficacy.json\", 'r') as f:\n",
    "    ML_EFFICACY = json.load(f)"
   ]
  },
  {
   "attachments": {},
   "cell_type": "markdown",
   "metadata": {},
   "source": [
    "## Adult"
   ]
  },
  {
   "attachments": {},
   "cell_type": "markdown",
   "metadata": {},
   "source": [
    "#### ML Efficacy"
   ]
  },
  {
   "cell_type": "markdown",
   "metadata": {},
   "source": [
    "for ae_type in AE_TYPES:\n",
    "    try:\n",
    "        ML_EFFICACY['adult'][ae_type] = get_utility_metrics(real_path=PATHS['adult']['real']['test'],\n",
    "                                                        fake_paths=[PATHS['adult']['fake']['test'][ae_type]]).tolist()\n",
    "    except Exception as e:\n",
    "        print(f\"Mode Collapse Detected for AE_TYPE: {ae_type}\")\n",
    "        print(e)\n",
    "\n",
    "with open(f\"{BASE_DIR}/results/ml_efficacy.json\", 'w') as f:\n",
    "    f.write(json.dumps(ML_EFFICACY))"
   ]
  },
  {
   "attachments": {},
   "cell_type": "markdown",
   "metadata": {},
   "source": [
    "#### Statistical Similarity"
   ]
  },
  {
   "cell_type": "code",
   "execution_count": null,
   "metadata": {},
   "outputs": [],
   "source": [
    "out = get_cols(\"adult\")\n",
    "\n",
    "for ae_type in AE_TYPES:\n",
    "    STAT_SIM['adult'][ae_type] = stat_sim(real_path=PATHS['adult']['real']['train'],\n",
    "                                          fake_path=PATHS['adult']['fake']['train'][ae_type],\n",
    "                                          cat_cols=out['discrete_cols'][1])\n",
    "\n",
    "with open(f\"{BASE_DIR}/results/stat_sim.json\", 'w') as f:\n",
    "    f.write(json.dumps(STAT_SIM))"
   ]
  },
  {
   "cell_type": "code",
   "execution_count": null,
   "metadata": {},
   "outputs": [],
   "source": []
  }
 ],
 "metadata": {
  "kernelspec": {
   "display_name": "csc2516",
   "language": "python",
   "name": "python3"
  },
  "language_info": {
   "codemirror_mode": {
    "name": "ipython",
    "version": 3
   },
   "file_extension": ".py",
   "mimetype": "text/x-python",
   "name": "python",
   "nbconvert_exporter": "python",
   "pygments_lexer": "ipython3",
   "version": "3.9.16"
  },
  "orig_nbformat": 4
 },
 "nbformat": 4,
 "nbformat_minor": 2
}
