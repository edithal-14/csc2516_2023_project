{
 "cells": [
  {
   "cell_type": "code",
   "execution_count": 1,
   "metadata": {},
   "outputs": [],
   "source": [
    "from ctgan.synthesizers.ae_gan import CTGANV2, AutoEncoderType\n",
    "from aegan_utils import load_news, get_news_Xy, train_model\n",
    "from sklearn.model_selection import train_test_split\n",
    "import datetime\n",
    "import pandas as pd\n",
    "import numpy as np\n",
    "import pickle"
   ]
  },
  {
   "attachments": {},
   "cell_type": "markdown",
   "metadata": {},
   "source": [
    "## news dataset"
   ]
  },
  {
   "cell_type": "code",
   "execution_count": 2,
   "metadata": {},
   "outputs": [],
   "source": [
    "news_train_df, news_valid_df, news_test_df, news_discrete_columns = load_news(path=\"../dataset/news/\")"
   ]
  },
  {
   "attachments": {},
   "cell_type": "markdown",
   "metadata": {},
   "source": [
    "### Vanilla AE"
   ]
  },
  {
   "attachments": {},
   "cell_type": "markdown",
   "metadata": {},
   "source": [
    "### Result section (R2 score on real news validation dataset)\n",
    "\n",
    "- AE dimension\n",
    "    - (256, 128)\n",
    "        - -0.09\n",
    "    - (256, 128, 64)\n",
    "        - -0.09\n",
    "    - (256, 128, 64, 32)\n",
    "        - -0.04\n",
    "    - Best: (256, 128, 64, 32)\n",
    "\n",
    ".\n",
    "\n",
    "- G hidden dimension\n",
    "    - 64\n",
    "        - -0.24\n",
    "    - 128\n",
    "        - -0.07\n",
    "    - 256\n",
    "        - -1.36\n",
    "    - Best: 128\n",
    "\n",
    ".\n",
    "\n",
    "- G and D layers\n",
    "  - 256 * 2\n",
    "    - -0.01\n",
    "  - 256 * 4\n",
    "    - -0.1\n",
    "  - Best: 256 * 2\n",
    "\n",
    ".\n",
    "\n",
    "- D steps (1, 5) and PAC value (4, 8, 16)\n",
    "  - 1, 4\n",
    "    - -0.32\n",
    "  - 1, 8\n",
    "    - -0.34\n",
    "  - 1, 16\n",
    "    - -0.12\n",
    "  - 5, 4\n",
    "    - -0.04\n",
    "  - 5, 8\n",
    "    - -0.20\n",
    "  - 5, 16\n",
    "    - -0.02\n",
    "  - Best: D steps = 5, PAC value = 16\n",
    "\n",
    ".\n",
    "\n",
    "- LR, batch size, epochs\n",
    "  - AE LR: 1e-4, GAN LR: 1e-5, batch size: 512, GAN epochs: 300, AE epochs: 100\n",
    "  - AE LR: 1e-4, GAN LR: 1e-5, batch size: 256, GAN epochs: 150, AE epochs: 50\n",
    "  - AE LR: 1e-4, GAN LR: 2e-4, batch size: 512, GAN epochs: 300, AE epochs: 100\n",
    "  - AE LR: 1e-4, GAN LR: 2e-4, batch size: 256, GAN epochs: 150, AE epochs: 50\n",
    "  - AE LR: 2e-4, GAN LR: 1e-5, batch size: 512, GAN epochs: 300, AE epochs: 100\n",
    "  - AE LR: 2e-4, GAN LR: 1e-5, batch size: 256, GAN epochs: 150, AE epochs: 50\n",
    "  - AE LR: 2e-4, GAN LR: 2e-4, batch size: 512, GAN epochs: 300, AE epochs: 100\n",
    "  - AE LR: 2e-4, GAN LR: 2e-4, batch size: 256, GAN epochs: 150, AE epochs: 50\n",
    "  - AE LR: 1e-3, GAN LR: 1e-5, batch size: 512, GAN epochs: 300, AE epochs: 100\n",
    "  - AE LR: 1e-3, GAN LR: 1e-5, batch size: 256, GAN epochs: 150, AE epochs: 50\n",
    "  - AE LR: 1e-3, GAN LR: 2e-4, batch size: 512, GAN epochs: 300, AE epochs: 100\n",
    "  - AE LR: 1e-4, GAN LR: 2e-4, batch size: 256, GAN epochs: 150, AE epochs: 50"
   ]
  },
  {
   "cell_type": "code",
   "execution_count": 3,
   "metadata": {},
   "outputs": [],
   "source": [
    "# synthesizer = \"ae_gan_vanilla\""
   ]
  },
  {
   "cell_type": "code",
   "execution_count": 4,
   "metadata": {},
   "outputs": [],
   "source": [
    "# model = CTGANV2(\n",
    "#     ae_type=AutoEncoderType.VANILLA,\n",
    "#     ae_dim=(256, 128),\n",
    "# )"
   ]
  },
  {
   "cell_type": "code",
   "execution_count": 5,
   "metadata": {},
   "outputs": [],
   "source": [
    "# news_trans = model.transform(news_train_df, discrete_columns=news_discrete_columns)"
   ]
  },
  {
   "cell_type": "code",
   "execution_count": 6,
   "metadata": {},
   "outputs": [],
   "source": [
    "# Save data transformer and transformed data to a file\n",
    "# with open(\"../dataset/news/data_transformer.pkl\", \"wb\") as fp:\n",
    "#     pickle.dump(model._transformer, fp)\n",
    "# with open(\"../dataset/news/transformed_data.pkl\", \"wb\") as fp:\n",
    "#     pickle.dump(news_trans, fp)"
   ]
  },
  {
   "cell_type": "code",
   "execution_count": 7,
   "metadata": {},
   "outputs": [],
   "source": [
    "# Load data transformer and transformed data\n",
    "# with open(\"../dataset/news/data_transformer.pkl\", \"rb\") as fp:\n",
    "#     dt = pickle.load(fp)\n",
    "# with open(\"../dataset/news/transformed_data.pkl\", \"rb\") as fp:\n",
    "#     news_trans = pickle.load(fp)"
   ]
  },
  {
   "cell_type": "code",
   "execution_count": 8,
   "metadata": {},
   "outputs": [
    {
     "name": "stdout",
     "output_type": "stream",
     "text": [
      "Training AE\n"
     ]
    },
    {
     "name": "stderr",
     "output_type": "stream",
     "text": [
      "100%|██████████| 100/100 [00:05<00:00, 19.82it/s]\n"
     ]
    },
    {
     "name": "stdout",
     "output_type": "stream",
     "text": [
      "Training AE-GAN\n"
     ]
    },
    {
     "name": "stderr",
     "output_type": "stream",
     "text": [
      "100%|██████████| 1/1 [00:02<00:00,  2.03s/it]\n"
     ]
    }
   ],
   "source": [
    "# model.fit(news_trans, discrete_columns=news_discrete_columns, dt=dt, is_pre_transformed=True, epochs=1)"
   ]
  },
  {
   "cell_type": "code",
   "execution_count": 9,
   "metadata": {},
   "outputs": [],
   "source": [
    "# now = datetime.datetime.now()\n",
    "# current_time = now.strftime(\"%d-%m-%Y-%H-%M-%S\")\n",
    "# model.save(\n",
    "#     f\"../models/news_{synthesizer}.pkl\"\n",
    "# )"
   ]
  },
  {
   "cell_type": "code",
   "execution_count": 22,
   "metadata": {},
   "outputs": [],
   "source": [
    "# model = CTGANV2.load(\"../models/news_ae_gan_vanilla_3.pkl\")"
   ]
  },
  {
   "cell_type": "code",
   "execution_count": 23,
   "metadata": {},
   "outputs": [],
   "source": [
    "# Sample fake train and validation data\n",
    "# news_fake_df = model.sample(news_train_df.shape[0] + news_valid_df.shape[0])\n",
    "# news_fake_X, news_fake_y = get_news_Xy(news_fake_df)\n",
    "# news_fake_train_X, news_fake_valid_X, news_fake_train_y, news_fake_valid_y = train_test_split(\n",
    "#     news_fake_X, news_fake_y, test_size=news_valid_df.shape[0], random_state=1, shuffle=True\n",
    "# )"
   ]
  },
  {
   "cell_type": "code",
   "execution_count": 5,
   "metadata": {},
   "outputs": [],
   "source": [
    "# Get real validation data\n",
    "# news_valid_X, news_valid_y = get_news_Xy(news_valid_df)"
   ]
  },
  {
   "cell_type": "code",
   "execution_count": 29,
   "metadata": {},
   "outputs": [
    {
     "name": "stderr",
     "output_type": "stream",
     "text": [
      "  2%|▏         | 2/100 [00:00<00:08, 11.80it/s]"
     ]
    },
    {
     "name": "stdout",
     "output_type": "stream",
     "text": [
      "Epoch: 1, Training Loss: 121852885.7348, Valid Loss: 1080381.3750, Valid score: 0.0000\n"
     ]
    },
    {
     "name": "stderr",
     "output_type": "stream",
     "text": [
      " 28%|██▊       | 28/100 [00:02<00:04, 14.55it/s]"
     ]
    },
    {
     "name": "stdout",
     "output_type": "stream",
     "text": [
      "Epoch: 26, Training Loss: 7280.6473, Valid Loss: 4899.1392, Valid score: 0.0000\n"
     ]
    },
    {
     "name": "stderr",
     "output_type": "stream",
     "text": [
      " 54%|█████▍    | 54/100 [00:03<00:02, 16.10it/s]"
     ]
    },
    {
     "name": "stdout",
     "output_type": "stream",
     "text": [
      "Epoch: 51, Training Loss: 76464.3518, Valid Loss: 150094.3125, Valid score: 0.0000\n"
     ]
    },
    {
     "name": "stderr",
     "output_type": "stream",
     "text": [
      " 78%|███████▊  | 78/100 [00:05<00:01, 15.77it/s]"
     ]
    },
    {
     "name": "stdout",
     "output_type": "stream",
     "text": [
      "Epoch: 76, Training Loss: 85254.9430, Valid Loss: 3745.7354, Valid score: 0.0000\n"
     ]
    },
    {
     "name": "stderr",
     "output_type": "stream",
     "text": [
      "100%|██████████| 100/100 [00:06<00:00, 14.79it/s]"
     ]
    },
    {
     "name": "stdout",
     "output_type": "stream",
     "text": [
      "Best validation score: 0.0\n",
      "Test score: -0.3383517058726977\n"
     ]
    },
    {
     "name": "stderr",
     "output_type": "stream",
     "text": [
      "\n"
     ]
    }
   ],
   "source": [
    "# Check ML efficacy\n",
    "test_score = train_model(\n",
    "    news_fake_train_X,\n",
    "    news_fake_train_y,\n",
    "    news_fake_valid_X,\n",
    "    news_fake_valid_y,\n",
    "    news_valid_X,\n",
    "    news_valid_y,\n",
    "    input_dim=59,\n",
    "    output_dim=1,\n",
    "    batch_size=256,\n",
    "    num_epochs=100,\n",
    "    model_type=\"regression\",\n",
    "    show_print_training_score=False,\n",
    "    scorer_type=\"r2\",\n",
    "    verbose=False\n",
    ")\n",
    "print(f\"Test score: {test_score}\")"
   ]
  },
  {
   "cell_type": "code",
   "execution_count": null,
   "metadata": {},
   "outputs": [],
   "source": [
    "news_valid_X, news_valid_y = get_news_Xy(news_valid_df)\n",
    "\n",
    "n_models = 12\n",
    "model_files = [f\"../models/news_ae_gan_vanilla_{i+1}.pkl\" for i in range(n_models)]\n",
    "\n",
    "scores = []\n",
    "\n",
    "for model_file in model_files:\n",
    "    model = CTGANV2.load(model_file)\n",
    "    # Sample fake train and validation data\n",
    "    news_fake_df = model.sample(news_train_df.shape[0] + news_valid_df.shape[0])\n",
    "    news_fake_X, news_fake_y = get_news_Xy(news_fake_df)\n",
    "    news_fake_train_X, news_fake_valid_X, news_fake_train_y, news_fake_valid_y = train_test_split(\n",
    "        news_fake_X, news_fake_y, test_size=news_valid_df.shape[0], random_state=1, shuffle=True\n",
    "    )\n",
    "\n",
    "    best_test_score = -float(\"inf\")\n",
    "    for i in range(5):\n",
    "        test_score = train_model(\n",
    "            news_fake_train_X,\n",
    "            news_fake_train_y,\n",
    "            news_fake_valid_X,\n",
    "            news_fake_valid_y,\n",
    "            news_valid_X,\n",
    "            news_valid_y,\n",
    "            input_dim=59,\n",
    "            output_dim=1,\n",
    "            batch_size=256,\n",
    "            num_epochs=100,\n",
    "            model_type=\"regression\",\n",
    "            show_print_training_score=False,\n",
    "            scorer_type=\"r2\",\n",
    "            verbose=False\n",
    "        )\n",
    "        if test_score > best_test_score:\n",
    "            best_test_score = test_score\n",
    "    print(f\"Test score: {best_test_score}\")\n",
    "    scores.append(best_test_score)"
   ]
  }
 ],
 "metadata": {
  "kernelspec": {
   "display_name": "vanilla",
   "language": "python",
   "name": "python3"
  },
  "language_info": {
   "codemirror_mode": {
    "name": "ipython",
    "version": 3
   },
   "file_extension": ".py",
   "mimetype": "text/x-python",
   "name": "python",
   "nbconvert_exporter": "python",
   "pygments_lexer": "ipython3",
   "version": "3.10.11"
  },
  "orig_nbformat": 4
 },
 "nbformat": 4,
 "nbformat_minor": 2
}
