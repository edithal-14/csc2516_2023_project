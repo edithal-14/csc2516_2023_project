{
 "cells": [
  {
   "cell_type": "code",
   "execution_count": 1,
   "metadata": {},
   "outputs": [],
   "source": [
    "from ctgan.synthesizers.ae_gan import CTGANV2, AutoEncoderType\n",
    "from aegan_utils import load_news, get_news_Xy, train_model\n",
    "from sklearn.model_selection import train_test_split\n",
    "import datetime\n",
    "import pandas as pd\n",
    "import numpy as np\n",
    "import pickle"
   ]
  },
  {
   "attachments": {},
   "cell_type": "markdown",
   "metadata": {},
   "source": [
    "## news dataset"
   ]
  },
  {
   "cell_type": "code",
   "execution_count": 2,
   "metadata": {},
   "outputs": [],
   "source": [
    "news_train_df, news_valid_df, news_test_df, news_discrete_columns = load_news(path=\"../dataset/news/\")"
   ]
  },
  {
   "attachments": {},
   "cell_type": "markdown",
   "metadata": {},
   "source": [
    "### Vanilla AE"
   ]
  },
  {
   "attachments": {},
   "cell_type": "markdown",
   "metadata": {},
   "source": [
    "### Result section (R2 score on real news validation dataset)\n",
    "\n",
    "- AE dimension\n",
    "    - (256, 128)\n",
    "        - -0.09\n",
    "    - (256, 128, 64)\n",
    "        - -0.09\n",
    "    - (256, 128, 64, 32)\n",
    "        - -0.04\n",
    "    - Best: (256, 128, 64, 32)\n",
    "\n",
    "- G hidden dimension\n",
    "    - 64\n",
    "        - -0.24\n",
    "    - 128\n",
    "        - -0.07\n",
    "    - 256\n",
    "        - -1.36\n",
    "    - Best: 128\n",
    "\n",
    "- G and D layers\n",
    "  - 256 * 2\n",
    "    - -0.01\n",
    "  - 256 * 4\n",
    "    - -0.1\n",
    "  - Best: 256 * 2\n",
    "\n",
    "- D steps (1, 5) and PAC value (4, 8, 16)\n",
    "  - 1, 4\n",
    "  - 1, 8\n",
    "  - 1, 16\n",
    "  - 5, 4\n",
    "  - 5, 8\n",
    "  - 5, 16"
   ]
  },
  {
   "cell_type": "code",
   "execution_count": 3,
   "metadata": {},
   "outputs": [],
   "source": [
    "synthesizer = \"ae_gan_vanilla\""
   ]
  },
  {
   "cell_type": "code",
   "execution_count": 4,
   "metadata": {},
   "outputs": [],
   "source": [
    "model = CTGANV2(\n",
    "    ae_type=AutoEncoderType.VANILLA,\n",
    "    ae_dim=(256, 128),\n",
    ")"
   ]
  },
  {
   "cell_type": "code",
   "execution_count": 5,
   "metadata": {},
   "outputs": [],
   "source": [
    "# news_trans = model.transform(news_train_df, discrete_columns=news_discrete_columns)"
   ]
  },
  {
   "cell_type": "code",
   "execution_count": 6,
   "metadata": {},
   "outputs": [],
   "source": [
    "# Save data transformer and transformed data to a file\n",
    "# with open(\"../dataset/news/data_transformer.pkl\", \"wb\") as fp:\n",
    "#     pickle.dump(model._transformer, fp)\n",
    "# with open(\"../dataset/news/transformed_data.pkl\", \"wb\") as fp:\n",
    "#     pickle.dump(news_trans, fp)"
   ]
  },
  {
   "cell_type": "code",
   "execution_count": 7,
   "metadata": {},
   "outputs": [],
   "source": [
    "# Load data transformer and transformed data\n",
    "# with open(\"../dataset/news/data_transformer.pkl\", \"rb\") as fp:\n",
    "#     dt = pickle.load(fp)\n",
    "# with open(\"../dataset/news/transformed_data.pkl\", \"rb\") as fp:\n",
    "#     news_trans = pickle.load(fp)"
   ]
  },
  {
   "cell_type": "code",
   "execution_count": 8,
   "metadata": {},
   "outputs": [
    {
     "name": "stdout",
     "output_type": "stream",
     "text": [
      "Training AE\n"
     ]
    },
    {
     "name": "stderr",
     "output_type": "stream",
     "text": [
      "100%|██████████| 100/100 [00:05<00:00, 19.82it/s]\n"
     ]
    },
    {
     "name": "stdout",
     "output_type": "stream",
     "text": [
      "Training AE-GAN\n"
     ]
    },
    {
     "name": "stderr",
     "output_type": "stream",
     "text": [
      "100%|██████████| 1/1 [00:02<00:00,  2.03s/it]\n"
     ]
    }
   ],
   "source": [
    "# model.fit(news_trans, discrete_columns=news_discrete_columns, dt=dt, is_pre_transformed=True, epochs=1)"
   ]
  },
  {
   "cell_type": "code",
   "execution_count": 9,
   "metadata": {},
   "outputs": [],
   "source": [
    "# now = datetime.datetime.now()\n",
    "# current_time = now.strftime(\"%d-%m-%Y-%H-%M-%S\")\n",
    "# model.save(\n",
    "#     f\"../models/news_{synthesizer}.pkl\"\n",
    "# )"
   ]
  },
  {
   "cell_type": "code",
   "execution_count": 10,
   "metadata": {},
   "outputs": [],
   "source": [
    "model = CTGANV2.load(\"../models/news_ae_gan_vanilla_2.pkl\")"
   ]
  },
  {
   "cell_type": "code",
   "execution_count": 17,
   "metadata": {},
   "outputs": [],
   "source": [
    "# Sample fake train and validation data\n",
    "news_fake_df = model.sample(news_train_df.shape[0] + news_valid_df.shape[0])\n",
    "news_fake_X, news_fake_y = get_news_Xy(news_fake_df)\n",
    "news_fake_train_X, news_fake_valid_X, news_fake_train_y, news_fake_valid_y = train_test_split(\n",
    "    news_fake_X, news_fake_y, test_size=news_valid_df.shape[0], random_state=1, shuffle=True\n",
    ")"
   ]
  },
  {
   "cell_type": "code",
   "execution_count": 6,
   "metadata": {},
   "outputs": [],
   "source": [
    "# Get real validation data\n",
    "news_valid_X, news_valid_y = get_news_Xy(news_valid_df)"
   ]
  },
  {
   "cell_type": "code",
   "execution_count": 22,
   "metadata": {},
   "outputs": [
    {
     "name": "stderr",
     "output_type": "stream",
     "text": [
      "  4%|▍         | 4/100 [00:00<00:05, 16.20it/s]"
     ]
    },
    {
     "name": "stdout",
     "output_type": "stream",
     "text": [
      "Epoch: 1, Training Loss: 439623277.8788, Valid Loss: 17821210.0000, Valid score: -7124.8910\n"
     ]
    },
    {
     "name": "stderr",
     "output_type": "stream",
     "text": [
      " 28%|██▊       | 28/100 [00:01<00:04, 16.57it/s]"
     ]
    },
    {
     "name": "stdout",
     "output_type": "stream",
     "text": [
      "Epoch: 26, Training Loss: 663.6340, Valid Loss: 855.5732, Valid score: 0.6579\n"
     ]
    },
    {
     "name": "stderr",
     "output_type": "stream",
     "text": [
      " 54%|█████▍    | 54/100 [00:03<00:02, 15.64it/s]"
     ]
    },
    {
     "name": "stdout",
     "output_type": "stream",
     "text": [
      "Epoch: 51, Training Loss: 596.8318, Valid Loss: 732.1336, Valid score: 0.7073\n"
     ]
    },
    {
     "name": "stderr",
     "output_type": "stream",
     "text": [
      " 78%|███████▊  | 78/100 [00:04<00:01, 17.29it/s]"
     ]
    },
    {
     "name": "stdout",
     "output_type": "stream",
     "text": [
      "Epoch: 76, Training Loss: 109397.5369, Valid Loss: 10846.7617, Valid score: -3.3371\n"
     ]
    },
    {
     "name": "stderr",
     "output_type": "stream",
     "text": [
      "100%|██████████| 100/100 [00:06<00:00, 16.36it/s]"
     ]
    },
    {
     "name": "stdout",
     "output_type": "stream",
     "text": [
      "Best validation score: 0.8390796802015947\n",
      "Test score: -0.17714503125909142\n"
     ]
    },
    {
     "name": "stderr",
     "output_type": "stream",
     "text": [
      "\n"
     ]
    }
   ],
   "source": [
    "# Check ML efficacy\n",
    "test_score = train_model(\n",
    "    news_fake_train_X,\n",
    "    news_fake_train_y,\n",
    "    news_fake_valid_X,\n",
    "    news_fake_valid_y,\n",
    "    news_valid_X,\n",
    "    news_valid_y,\n",
    "    input_dim=59,\n",
    "    output_dim=1,\n",
    "    batch_size=256,\n",
    "    num_epochs=100,\n",
    "    model_type=\"regression\",\n",
    "    show_print_training_score=False,\n",
    "    scorer_type=\"r2\",\n",
    "    verbose=False\n",
    ")\n",
    "print(f\"Test score: {test_score}\")"
   ]
  }
 ],
 "metadata": {
  "kernelspec": {
   "display_name": "vanilla",
   "language": "python",
   "name": "python3"
  },
  "language_info": {
   "codemirror_mode": {
    "name": "ipython",
    "version": 3
   },
   "file_extension": ".py",
   "mimetype": "text/x-python",
   "name": "python",
   "nbconvert_exporter": "python",
   "pygments_lexer": "ipython3",
   "version": "3.10.11"
  },
  "orig_nbformat": 4
 },
 "nbformat": 4,
 "nbformat_minor": 2
}
