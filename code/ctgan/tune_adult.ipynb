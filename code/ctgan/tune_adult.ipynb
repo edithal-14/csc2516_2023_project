{
 "cells": [
  {
   "cell_type": "markdown",
   "metadata": {},
   "source": [
    "from utils import write_transform_to_file\n",
    "write_transform_to_file('adult') # needs to be run only once per dataset"
   ]
  },
  {
   "attachments": {},
   "cell_type": "markdown",
   "metadata": {},
   "source": [
    "#### Load the data transformer and the transformed data"
   ]
  },
  {
   "cell_type": "code",
   "execution_count": 1,
   "metadata": {},
   "outputs": [
    {
     "name": "stdout",
     "output_type": "stream",
     "text": [
      "Data transformer loaded\n",
      "Transformed data loaded\n"
     ]
    }
   ],
   "source": [
    "import json\n",
    "import itertools\n",
    "import os\n",
    "import torch\n",
    "\n",
    "from ctgan.synthesizers.ae_gan import CTGANV2\n",
    "from benchmark import train_model\n",
    "from utils import load_transform_from_file, read_target_idx, sample_fake_adult\n",
    "\n",
    "\n",
    "AE_TYPES = ['vanilla', 'denoising', 'vae', 'ee']\n",
    "HP = {\n",
    "    'ae_dim' : [(256,128), (256,128,64), (256,128,64,32)], # (1)\n",
    "    'embedding_dim' : [64, 128, 256], #(2)\n",
    "    'gan_layers': [(256,256), (256,256,256,256)], # (3)\n",
    "    'discriminator_steps': [1, 5], # (4)\n",
    "    'pac': [4, 8, 16], # (4)\n",
    "    'gan_lr': [1e-5, 2e-4], # (5)\n",
    "    'gan_batch_epoch': [(256,150), (512,300)], # (5)\n",
    "    'ae_lr': [1e-4, 2e-4, 1e-3], # (5)\n",
    "    'ae_batch_epoch': [(256,50), (512,100)], # (5)\n",
    "}\n",
    "if os.path.exists(\"adult_opt_hp.json\"):\n",
    "    with open(\"adult_opt_hp.json\", 'r') as f:\n",
    "        hp_vals = json.load(f)\n",
    "else:\n",
    "    hp_vals = {k:dict.fromkeys(HP.keys()) for k in AE_TYPES}\n",
    "    for method in hp_vals.keys():\n",
    "        hp_vals[method]['dstep_pac'] = hp_vals[method].pop('discriminator_steps')\n",
    "        del hp_vals[method]['pac']\n",
    "        hp_vals[method]['gbe_aeb'] = hp_vals[method].pop('gan_lr')\n",
    "        del hp_vals[method]['gan_batch_epoch']\n",
    "        del hp_vals[method]['ae_lr']\n",
    "        del hp_vals[method]['ae_batch_epoch']\n",
    "\n",
    "# Load the transformed data\n",
    "dt, td = load_transform_from_file('adult')\n",
    "target_idx = read_target_idx('adult')"
   ]
  },
  {
   "attachments": {},
   "cell_type": "markdown",
   "metadata": {},
   "source": [
    "#### (1) Find the optimal AE dimension"
   ]
  },
  {
   "cell_type": "code",
   "execution_count": 2,
   "metadata": {},
   "outputs": [
    {
     "name": "stdout",
     "output_type": "stream",
     "text": [
      "Loading CTGAN: vanilla - ae_dim - (256, 128)\n",
      "Benchmarking on MLP100\n"
     ]
    },
    {
     "data": {
      "application/vnd.jupyter.widget-view+json": {
       "model_id": "e49cd69d41e2491c80ab541e38681cdc",
       "version_major": 2,
       "version_minor": 0
      },
      "text/plain": [
       "  0%|          | 0/100 [00:00<?, ?it/s]"
      ]
     },
     "metadata": {},
     "output_type": "display_data"
    },
    {
     "name": "stdout",
     "output_type": "stream",
     "text": [
      "Best validation score: 0.8885135054588318\n"
     ]
    },
    {
     "data": {
      "application/vnd.jupyter.widget-view+json": {
       "model_id": "b3f87811cd334f1981e78988adcc0937",
       "version_major": 2,
       "version_minor": 0
      },
      "text/plain": [
       "  0%|          | 0/100 [00:00<?, ?it/s]"
      ]
     },
     "metadata": {},
     "output_type": "display_data"
    },
    {
     "name": "stdout",
     "output_type": "stream",
     "text": [
      "Best validation score: 0.9006449580192566\n"
     ]
    },
    {
     "data": {
      "application/vnd.jupyter.widget-view+json": {
       "model_id": "3b976cf7adc74aee8bee969e668fbca3",
       "version_major": 2,
       "version_minor": 0
      },
      "text/plain": [
       "  0%|          | 0/100 [00:00<?, ?it/s]"
      ]
     },
     "metadata": {},
     "output_type": "display_data"
    },
    {
     "name": "stdout",
     "output_type": "stream",
     "text": [
      "Best validation score: 0.9055589437484741\n",
      "Benchmark Complete!\n",
      "<class 'float'>\n",
      "Loading CTGAN: vanilla - ae_dim - (256, 128, 64)\n",
      "Benchmarking on MLP100\n"
     ]
    },
    {
     "data": {
      "application/vnd.jupyter.widget-view+json": {
       "model_id": "87a4b78a827b47d09d58217cff5755f7",
       "version_major": 2,
       "version_minor": 0
      },
      "text/plain": [
       "  0%|          | 0/100 [00:00<?, ?it/s]"
      ]
     },
     "metadata": {},
     "output_type": "display_data"
    },
    {
     "name": "stdout",
     "output_type": "stream",
     "text": [
      "Best validation score: 1.0\n"
     ]
    },
    {
     "data": {
      "application/vnd.jupyter.widget-view+json": {
       "model_id": "f9b926a42730433086b66bcdd6222d2c",
       "version_major": 2,
       "version_minor": 0
      },
      "text/plain": [
       "  0%|          | 0/100 [00:00<?, ?it/s]"
      ]
     },
     "metadata": {},
     "output_type": "display_data"
    },
    {
     "name": "stdout",
     "output_type": "stream",
     "text": [
      "Best validation score: 1.0\n"
     ]
    },
    {
     "data": {
      "application/vnd.jupyter.widget-view+json": {
       "model_id": "a3cefe518b274b89b97ae9d48de684b3",
       "version_major": 2,
       "version_minor": 0
      },
      "text/plain": [
       "  0%|          | 0/100 [00:00<?, ?it/s]"
      ]
     },
     "metadata": {},
     "output_type": "display_data"
    },
    {
     "name": "stdout",
     "output_type": "stream",
     "text": [
      "Best validation score: 1.0\n",
      "Benchmark Complete!\n",
      "<class 'float'>\n",
      "Loading CTGAN: vanilla - ae_dim - (256, 128, 64, 32)\n",
      "Benchmarking on MLP100\n"
     ]
    },
    {
     "data": {
      "application/vnd.jupyter.widget-view+json": {
       "model_id": "d9ac3fe7dd1e497ab4b536382d34f07c",
       "version_major": 2,
       "version_minor": 0
      },
      "text/plain": [
       "  0%|          | 0/100 [00:00<?, ?it/s]"
      ]
     },
     "metadata": {},
     "output_type": "display_data"
    },
    {
     "name": "stdout",
     "output_type": "stream",
     "text": [
      "Best validation score: 1.0\n"
     ]
    },
    {
     "data": {
      "application/vnd.jupyter.widget-view+json": {
       "model_id": "2c1574b52aa044a7a7af23e057765b3b",
       "version_major": 2,
       "version_minor": 0
      },
      "text/plain": [
       "  0%|          | 0/100 [00:00<?, ?it/s]"
      ]
     },
     "metadata": {},
     "output_type": "display_data"
    },
    {
     "name": "stdout",
     "output_type": "stream",
     "text": [
      "Best validation score: 1.0\n"
     ]
    },
    {
     "data": {
      "application/vnd.jupyter.widget-view+json": {
       "model_id": "1885293b4c734f9781a2c0f5c8d5c058",
       "version_major": 2,
       "version_minor": 0
      },
      "text/plain": [
       "  0%|          | 0/100 [00:00<?, ?it/s]"
      ]
     },
     "metadata": {},
     "output_type": "display_data"
    },
    {
     "name": "stdout",
     "output_type": "stream",
     "text": [
      "Best validation score: 1.0\n",
      "Benchmark Complete!\n",
      "<class 'float'>\n",
      "Training CTGAN: denoising - ae_dim - (256, 128)\n",
      "Training Complete!\n",
      "Benchmarking on MLP100\n"
     ]
    },
    {
     "data": {
      "application/vnd.jupyter.widget-view+json": {
       "model_id": "7fb00af500054403aa21bf2b08cd64ec",
       "version_major": 2,
       "version_minor": 0
      },
      "text/plain": [
       "  0%|          | 0/100 [00:00<?, ?it/s]"
      ]
     },
     "metadata": {},
     "output_type": "display_data"
    },
    {
     "name": "stdout",
     "output_type": "stream",
     "text": [
      "Best validation score: 0.8991093635559082\n"
     ]
    },
    {
     "data": {
      "application/vnd.jupyter.widget-view+json": {
       "model_id": "1224e4ba40f3411198b61a84f1a0aa7c",
       "version_major": 2,
       "version_minor": 0
      },
      "text/plain": [
       "  0%|          | 0/100 [00:00<?, ?it/s]"
      ]
     },
     "metadata": {},
     "output_type": "display_data"
    },
    {
     "name": "stdout",
     "output_type": "stream",
     "text": [
      "Best validation score: 0.896652340888977\n"
     ]
    },
    {
     "data": {
      "application/vnd.jupyter.widget-view+json": {
       "model_id": "612874ff3792460cbfb0fc89be3cd954",
       "version_major": 2,
       "version_minor": 0
      },
      "text/plain": [
       "  0%|          | 0/100 [00:00<?, ?it/s]"
      ]
     },
     "metadata": {},
     "output_type": "display_data"
    },
    {
     "name": "stdout",
     "output_type": "stream",
     "text": [
      "Best validation score: 0.9018734693527222\n",
      "Benchmark Complete!\n",
      "<class 'float'>\n",
      "Training CTGAN: denoising - ae_dim - (256, 128, 64)\n",
      "Training Complete!\n",
      "Benchmarking on MLP100\n"
     ]
    },
    {
     "data": {
      "application/vnd.jupyter.widget-view+json": {
       "model_id": "7e12fa5d5aa543439b1b45d6305516f4",
       "version_major": 2,
       "version_minor": 0
      },
      "text/plain": [
       "  0%|          | 0/100 [00:00<?, ?it/s]"
      ]
     },
     "metadata": {},
     "output_type": "display_data"
    },
    {
     "name": "stdout",
     "output_type": "stream",
     "text": [
      "Best validation score: 0.898034393787384\n"
     ]
    },
    {
     "data": {
      "application/vnd.jupyter.widget-view+json": {
       "model_id": "134bf6d2059146a1b73884031c684238",
       "version_major": 2,
       "version_minor": 0
      },
      "text/plain": [
       "  0%|          | 0/100 [00:00<?, ?it/s]"
      ]
     },
     "metadata": {},
     "output_type": "display_data"
    },
    {
     "name": "stdout",
     "output_type": "stream",
     "text": [
      "Best validation score: 0.9077088236808777\n"
     ]
    },
    {
     "data": {
      "application/vnd.jupyter.widget-view+json": {
       "model_id": "4c9468b5ea8741729234da278ea15067",
       "version_major": 2,
       "version_minor": 0
      },
      "text/plain": [
       "  0%|          | 0/100 [00:00<?, ?it/s]"
      ]
     },
     "metadata": {},
     "output_type": "display_data"
    },
    {
     "name": "stdout",
     "output_type": "stream",
     "text": [
      "Best validation score: 0.8992629051208496\n",
      "Benchmark Complete!\n",
      "<class 'float'>\n",
      "Training CTGAN: denoising - ae_dim - (256, 128, 64, 32)\n",
      "Training Complete!\n",
      "Benchmarking on MLP100\n"
     ]
    },
    {
     "data": {
      "application/vnd.jupyter.widget-view+json": {
       "model_id": "ac8596732f9a466faea838fc4f158536",
       "version_major": 2,
       "version_minor": 0
      },
      "text/plain": [
       "  0%|          | 0/100 [00:00<?, ?it/s]"
      ]
     },
     "metadata": {},
     "output_type": "display_data"
    },
    {
     "name": "stdout",
     "output_type": "stream",
     "text": [
      "Best validation score: 1.0\n"
     ]
    },
    {
     "data": {
      "application/vnd.jupyter.widget-view+json": {
       "model_id": "35018c271613480abf4fa92490063358",
       "version_major": 2,
       "version_minor": 0
      },
      "text/plain": [
       "  0%|          | 0/100 [00:00<?, ?it/s]"
      ]
     },
     "metadata": {},
     "output_type": "display_data"
    },
    {
     "name": "stdout",
     "output_type": "stream",
     "text": [
      "Best validation score: 1.0\n"
     ]
    },
    {
     "data": {
      "application/vnd.jupyter.widget-view+json": {
       "model_id": "db0090411d004600bdee5d61ad0a871e",
       "version_major": 2,
       "version_minor": 0
      },
      "text/plain": [
       "  0%|          | 0/100 [00:00<?, ?it/s]"
      ]
     },
     "metadata": {},
     "output_type": "display_data"
    },
    {
     "name": "stdout",
     "output_type": "stream",
     "text": [
      "Best validation score: 1.0\n",
      "Benchmark Complete!\n",
      "<class 'float'>\n",
      "Training CTGAN: vae - ae_dim - (256, 128)\n",
      "Training Complete!\n",
      "Benchmarking on MLP100\n"
     ]
    },
    {
     "data": {
      "application/vnd.jupyter.widget-view+json": {
       "model_id": "af5387f37fbd484697fff250106a62bb",
       "version_major": 2,
       "version_minor": 0
      },
      "text/plain": [
       "  0%|          | 0/100 [00:00<?, ?it/s]"
      ]
     },
     "metadata": {},
     "output_type": "display_data"
    },
    {
     "name": "stdout",
     "output_type": "stream",
     "text": [
      "Best validation score: 1.0\n"
     ]
    },
    {
     "data": {
      "application/vnd.jupyter.widget-view+json": {
       "model_id": "148476f072e74ac3b1f205fab5dc22cd",
       "version_major": 2,
       "version_minor": 0
      },
      "text/plain": [
       "  0%|          | 0/100 [00:00<?, ?it/s]"
      ]
     },
     "metadata": {},
     "output_type": "display_data"
    },
    {
     "name": "stdout",
     "output_type": "stream",
     "text": [
      "Best validation score: 1.0\n"
     ]
    },
    {
     "data": {
      "application/vnd.jupyter.widget-view+json": {
       "model_id": "5d16ebbaae8242bc8668f7503c406455",
       "version_major": 2,
       "version_minor": 0
      },
      "text/plain": [
       "  0%|          | 0/100 [00:00<?, ?it/s]"
      ]
     },
     "metadata": {},
     "output_type": "display_data"
    },
    {
     "name": "stdout",
     "output_type": "stream",
     "text": [
      "Best validation score: 1.0\n",
      "Benchmark Complete!\n",
      "<class 'float'>\n",
      "Training CTGAN: vae - ae_dim - (256, 128, 64)\n",
      "Training Complete!\n",
      "Benchmarking on MLP100\n"
     ]
    },
    {
     "name": "stderr",
     "output_type": "stream",
     "text": [
      "/home/y2k/CSC2516_Project/code/ctgan/utils.py:132: PerformanceWarning: DataFrame is highly fragmented.  This is usually the result of calling `frame.insert` many times, which has poor performance.  Consider joining all columns at once using pd.concat(axis=1) instead. To get a de-fragmented frame, use `newframe = frame.copy()`\n",
      "  fake_df[col_name] = 0\n"
     ]
    },
    {
     "data": {
      "application/vnd.jupyter.widget-view+json": {
       "model_id": "725d6ce8cf9c491fb02490918538438c",
       "version_major": 2,
       "version_minor": 0
      },
      "text/plain": [
       "  0%|          | 0/100 [00:00<?, ?it/s]"
      ]
     },
     "metadata": {},
     "output_type": "display_data"
    },
    {
     "name": "stdout",
     "output_type": "stream",
     "text": [
      "Best validation score: 1.0\n"
     ]
    },
    {
     "data": {
      "application/vnd.jupyter.widget-view+json": {
       "model_id": "cece79c5a8614756b022cde615310984",
       "version_major": 2,
       "version_minor": 0
      },
      "text/plain": [
       "  0%|          | 0/100 [00:00<?, ?it/s]"
      ]
     },
     "metadata": {},
     "output_type": "display_data"
    },
    {
     "name": "stdout",
     "output_type": "stream",
     "text": [
      "Best validation score: 1.0\n"
     ]
    },
    {
     "data": {
      "application/vnd.jupyter.widget-view+json": {
       "model_id": "46bfc8e6fd974b24a9c6dca4f0b35d9a",
       "version_major": 2,
       "version_minor": 0
      },
      "text/plain": [
       "  0%|          | 0/100 [00:00<?, ?it/s]"
      ]
     },
     "metadata": {},
     "output_type": "display_data"
    },
    {
     "name": "stdout",
     "output_type": "stream",
     "text": [
      "Best validation score: 1.0\n",
      "Benchmark Complete!\n",
      "<class 'float'>\n",
      "Training CTGAN: vae - ae_dim - (256, 128, 64, 32)\n",
      "Training Complete!\n",
      "Benchmarking on MLP100\n"
     ]
    },
    {
     "name": "stderr",
     "output_type": "stream",
     "text": [
      "/home/y2k/CSC2516_Project/code/ctgan/utils.py:132: PerformanceWarning: DataFrame is highly fragmented.  This is usually the result of calling `frame.insert` many times, which has poor performance.  Consider joining all columns at once using pd.concat(axis=1) instead. To get a de-fragmented frame, use `newframe = frame.copy()`\n",
      "  fake_df[col_name] = 0\n"
     ]
    },
    {
     "data": {
      "application/vnd.jupyter.widget-view+json": {
       "model_id": "2885f48753a349a38bbf39a9148f4ea3",
       "version_major": 2,
       "version_minor": 0
      },
      "text/plain": [
       "  0%|          | 0/100 [00:00<?, ?it/s]"
      ]
     },
     "metadata": {},
     "output_type": "display_data"
    },
    {
     "name": "stdout",
     "output_type": "stream",
     "text": [
      "Best validation score: 1.0\n"
     ]
    },
    {
     "data": {
      "application/vnd.jupyter.widget-view+json": {
       "model_id": "53b806b6d02c464fa1b13174c84cad8d",
       "version_major": 2,
       "version_minor": 0
      },
      "text/plain": [
       "  0%|          | 0/100 [00:00<?, ?it/s]"
      ]
     },
     "metadata": {},
     "output_type": "display_data"
    },
    {
     "name": "stdout",
     "output_type": "stream",
     "text": [
      "Best validation score: 1.0\n"
     ]
    },
    {
     "data": {
      "application/vnd.jupyter.widget-view+json": {
       "model_id": "60020383ddf346f698c8eb8e331b8d91",
       "version_major": 2,
       "version_minor": 0
      },
      "text/plain": [
       "  0%|          | 0/100 [00:00<?, ?it/s]"
      ]
     },
     "metadata": {},
     "output_type": "display_data"
    },
    {
     "name": "stdout",
     "output_type": "stream",
     "text": [
      "Best validation score: 1.0\n",
      "Benchmark Complete!\n",
      "<class 'float'>\n",
      "Training CTGAN: ee - ae_dim - (256, 128)\n",
      "Training Complete!\n",
      "Benchmarking on MLP100\n"
     ]
    },
    {
     "data": {
      "application/vnd.jupyter.widget-view+json": {
       "model_id": "d6613911823b42aa8246bf20cf99eda0",
       "version_major": 2,
       "version_minor": 0
      },
      "text/plain": [
       "  0%|          | 0/100 [00:00<?, ?it/s]"
      ]
     },
     "metadata": {},
     "output_type": "display_data"
    },
    {
     "name": "stdout",
     "output_type": "stream",
     "text": [
      "Best validation score: 0.8929668068885803\n"
     ]
    },
    {
     "data": {
      "application/vnd.jupyter.widget-view+json": {
       "model_id": "52812aae607c4b54824b3098d350767e",
       "version_major": 2,
       "version_minor": 0
      },
      "text/plain": [
       "  0%|          | 0/100 [00:00<?, ?it/s]"
      ]
     },
     "metadata": {},
     "output_type": "display_data"
    },
    {
     "name": "stdout",
     "output_type": "stream",
     "text": [
      "Best validation score: 0.8657862544059753\n"
     ]
    },
    {
     "data": {
      "application/vnd.jupyter.widget-view+json": {
       "model_id": "58ba8a13714a46c7ae6b4d288b5522b1",
       "version_major": 2,
       "version_minor": 0
      },
      "text/plain": [
       "  0%|          | 0/100 [00:00<?, ?it/s]"
      ]
     },
     "metadata": {},
     "output_type": "display_data"
    },
    {
     "name": "stdout",
     "output_type": "stream",
     "text": [
      "Best validation score: 0.8650184273719788\n",
      "Benchmark Complete!\n",
      "<class 'float'>\n",
      "Training CTGAN: ee - ae_dim - (256, 128, 64)\n",
      "Training Complete!\n",
      "Benchmarking on MLP100\n"
     ]
    },
    {
     "data": {
      "application/vnd.jupyter.widget-view+json": {
       "model_id": "eb95348c1ed34d02b8c811b2273a5b03",
       "version_major": 2,
       "version_minor": 0
      },
      "text/plain": [
       "  0%|          | 0/100 [00:00<?, ?it/s]"
      ]
     },
     "metadata": {},
     "output_type": "display_data"
    },
    {
     "name": "stdout",
     "output_type": "stream",
     "text": [
      "Best validation score: 0.999539315700531\n"
     ]
    },
    {
     "data": {
      "application/vnd.jupyter.widget-view+json": {
       "model_id": "009f3d08808441ea992a52cde91ffbe6",
       "version_major": 2,
       "version_minor": 0
      },
      "text/plain": [
       "  0%|          | 0/100 [00:00<?, ?it/s]"
      ]
     },
     "metadata": {},
     "output_type": "display_data"
    },
    {
     "name": "stdout",
     "output_type": "stream",
     "text": [
      "Best validation score: 0.999539315700531\n"
     ]
    },
    {
     "data": {
      "application/vnd.jupyter.widget-view+json": {
       "model_id": "017e3ac3898349a0a8301d92c0d23a2a",
       "version_major": 2,
       "version_minor": 0
      },
      "text/plain": [
       "  0%|          | 0/100 [00:00<?, ?it/s]"
      ]
     },
     "metadata": {},
     "output_type": "display_data"
    },
    {
     "name": "stdout",
     "output_type": "stream",
     "text": [
      "Best validation score: 0.999539315700531\n",
      "Benchmark Complete!\n",
      "<class 'float'>\n",
      "Training CTGAN: ee - ae_dim - (256, 128, 64, 32)\n",
      "Training Complete!\n",
      "Benchmarking on MLP100\n"
     ]
    },
    {
     "name": "stderr",
     "output_type": "stream",
     "text": [
      "/home/y2k/CSC2516_Project/code/ctgan/utils.py:132: PerformanceWarning: DataFrame is highly fragmented.  This is usually the result of calling `frame.insert` many times, which has poor performance.  Consider joining all columns at once using pd.concat(axis=1) instead. To get a de-fragmented frame, use `newframe = frame.copy()`\n",
      "  fake_df[col_name] = 0\n",
      "/home/y2k/CSC2516_Project/code/ctgan/utils.py:132: PerformanceWarning: DataFrame is highly fragmented.  This is usually the result of calling `frame.insert` many times, which has poor performance.  Consider joining all columns at once using pd.concat(axis=1) instead. To get a de-fragmented frame, use `newframe = frame.copy()`\n",
      "  fake_df[col_name] = 0\n"
     ]
    },
    {
     "data": {
      "application/vnd.jupyter.widget-view+json": {
       "model_id": "0c443f51f33b46e59701deadc789279f",
       "version_major": 2,
       "version_minor": 0
      },
      "text/plain": [
       "  0%|          | 0/100 [00:00<?, ?it/s]"
      ]
     },
     "metadata": {},
     "output_type": "display_data"
    },
    {
     "name": "stdout",
     "output_type": "stream",
     "text": [
      "Best validation score: 1.0\n"
     ]
    },
    {
     "data": {
      "application/vnd.jupyter.widget-view+json": {
       "model_id": "01347a7e42ff490387a12cfb9c727abc",
       "version_major": 2,
       "version_minor": 0
      },
      "text/plain": [
       "  0%|          | 0/100 [00:00<?, ?it/s]"
      ]
     },
     "metadata": {},
     "output_type": "display_data"
    },
    {
     "name": "stdout",
     "output_type": "stream",
     "text": [
      "Best validation score: 1.0\n"
     ]
    },
    {
     "data": {
      "application/vnd.jupyter.widget-view+json": {
       "model_id": "7b63e7d7ab6c4ae78887eb3e07680ab4",
       "version_major": 2,
       "version_minor": 0
      },
      "text/plain": [
       "  0%|          | 0/100 [00:00<?, ?it/s]"
      ]
     },
     "metadata": {},
     "output_type": "display_data"
    },
    {
     "name": "stdout",
     "output_type": "stream",
     "text": [
      "Best validation score: 1.0\n",
      "Benchmark Complete!\n",
      "<class 'float'>\n",
      "{\n",
      "    \"vanilla\": {\n",
      "        \"ae_dim\": {\n",
      "            \"256_128\": 0.7751842737197876,\n",
      "            \"256_128_64\": 0.7592137455940247,\n",
      "            \"256_128_64_32\": 0.7598280310630798\n",
      "        },\n",
      "        \"embedding_dim\": null,\n",
      "        \"gan_layers\": null,\n",
      "        \"discriminator_steps\": null,\n",
      "        \"pac\": null,\n",
      "        \"gan_lr\": null,\n",
      "        \"gan_batch_epoch\": null,\n",
      "        \"ae_lr\": null,\n",
      "        \"ae_batch_epoch\": null\n",
      "    },\n",
      "    \"denoising\": {\n",
      "        \"ae_dim\": {\n",
      "            \"256_128\": 0.7714987993240356,\n",
      "            \"256_128_64\": 0.30850738286972046,\n",
      "            \"256_128_64_32\": 0.7624385952949524\n",
      "        },\n",
      "        \"embedding_dim\": null,\n",
      "        \"gan_layers\": null,\n",
      "        \"discriminator_steps\": null,\n",
      "        \"pac\": null,\n",
      "        \"gan_lr\": null,\n",
      "        \"gan_batch_epoch\": null,\n",
      "        \"ae_lr\": null,\n",
      "        \"ae_batch_epoch\": null\n",
      "    },\n",
      "    \"vae\": {\n",
      "        \"ae_dim\": {\n",
      "            \"256_128\": 0.7592137455940247,\n",
      "            \"256_128_64\": 0.7593673467636108,\n",
      "            \"256_128_64_32\": 0.7619779109954834\n",
      "        },\n",
      "        \"embedding_dim\": null,\n",
      "        \"gan_layers\": null,\n",
      "        \"discriminator_steps\": null,\n",
      "        \"pac\": null,\n",
      "        \"gan_lr\": null,\n",
      "        \"gan_batch_epoch\": null,\n",
      "        \"ae_lr\": null,\n",
      "        \"ae_batch_epoch\": null\n",
      "    },\n",
      "    \"ee\": {\n",
      "        \"ae_dim\": {\n",
      "            \"256_128\": 0.7599815726280212,\n",
      "            \"256_128_64\": 0.7693489193916321,\n",
      "            \"256_128_64_32\": 0.7595208883285522\n",
      "        },\n",
      "        \"embedding_dim\": null,\n",
      "        \"gan_layers\": null,\n",
      "        \"discriminator_steps\": null,\n",
      "        \"pac\": null,\n",
      "        \"gan_lr\": null,\n",
      "        \"gan_batch_epoch\": null,\n",
      "        \"ae_lr\": null,\n",
      "        \"ae_batch_epoch\": null\n",
      "    }\n",
      "}\n"
     ]
    }
   ],
   "source": [
    "hp = 'ae_dim'\n",
    "\n",
    "for ae_type in AE_TYPES:\n",
    "    hp_scores = dict()\n",
    "    for v in HP[hp]:\n",
    "        k = '_'.join(str(i) for i in v)\n",
    "        if not os.path.exists(f\"../../models/ae_gan_{ae_type}_{hp}_{k}.pth\"):\n",
    "            # Train the AE_GAN\n",
    "            print(f\"Training CTGAN: {ae_type} - {hp} - {v}\")\n",
    "            ae_gan = CTGANV2(ae_type=ae_type, ae_dim=v)\n",
    "            ae_gan.fit(td['train'],dt=dt,is_transformed=True, target_index=target_idx)\n",
    "            print(\"Training Complete!\")\n",
    "            # save model\n",
    "            ae_gan.save(f\"../../models/ae_gan_{ae_type}_{hp}_{k}.pth\")\n",
    "        else:\n",
    "            print(f\"Loading CTGAN: {ae_type} - {hp} - {v}\")\n",
    "            ae_gan = CTGANV2().load(f\"../../models/ae_gan_{ae_type}_{hp}_{k}.pth\")\n",
    "\n",
    "        best_score = torch.tensor([0.0])\n",
    "        try:\n",
    "            # Sample fake data\n",
    "            fake_data, real_data = sample_fake_adult(dt,td,ae_gan)\n",
    "            \n",
    "            print(\"Benchmarking on MLP100\")\n",
    "            # Train the MLP on fake validation data\n",
    "            for _ in range(3):\n",
    "                test_score = train_model(\n",
    "                                fake_data[0],\n",
    "                                fake_data[1],\n",
    "                                fake_data[2],\n",
    "                                fake_data[3],\n",
    "                                real_data[0],\n",
    "                                real_data[1],\n",
    "                                batch_size=256,\n",
    "                                num_epochs=100,\n",
    "                                model_type=\"classification\",\n",
    "                                verbose=False,\n",
    "                                scorer_type=\"accuracy\",\n",
    "                            )\n",
    "                if test_score > best_score:\n",
    "                    best_score = test_score\n",
    "            print(\"Benchmark Complete!\")\n",
    "        except:\n",
    "            pass\n",
    "        hp_scores[k] = best_score.item()\n",
    "    \n",
    "    hp_vals[ae_type][hp] = hp_scores\n",
    "    with open(\"adult_opt_hp.json\", 'w') as f:\n",
    "        f.write(json.dumps(hp_vals))"
   ]
  },
  {
   "attachments": {},
   "cell_type": "markdown",
   "metadata": {},
   "source": [
    "#### (2) Find the optimal G latent dimension"
   ]
  },
  {
   "cell_type": "code",
   "execution_count": 8,
   "metadata": {},
   "outputs": [
    {
     "name": "stdout",
     "output_type": "stream",
     "text": [
      "Loading CTGAN: vanilla - ae_dim - 256_128 - embedding_dim - 64\n",
      "Benchmarking on MLP100\n"
     ]
    },
    {
     "data": {
      "application/vnd.jupyter.widget-view+json": {
       "model_id": "1ede670df30f44a580ce3629433d1e27",
       "version_major": 2,
       "version_minor": 0
      },
      "text/plain": [
       "  0%|          | 0/100 [00:00<?, ?it/s]"
      ]
     },
     "metadata": {},
     "output_type": "display_data"
    },
    {
     "name": "stdout",
     "output_type": "stream",
     "text": [
      "Best validation score: 0.937039315700531\n"
     ]
    },
    {
     "data": {
      "application/vnd.jupyter.widget-view+json": {
       "model_id": "8320a10bc75a49c9b673023fb98404eb",
       "version_major": 2,
       "version_minor": 0
      },
      "text/plain": [
       "  0%|          | 0/100 [00:00<?, ?it/s]"
      ]
     },
     "metadata": {},
     "output_type": "display_data"
    },
    {
     "name": "stdout",
     "output_type": "stream",
     "text": [
      "Best validation score: 0.9348894357681274\n"
     ]
    },
    {
     "data": {
      "application/vnd.jupyter.widget-view+json": {
       "model_id": "9c056205453a4dc08292b22277e60d31",
       "version_major": 2,
       "version_minor": 0
      },
      "text/plain": [
       "  0%|          | 0/100 [00:00<?, ?it/s]"
      ]
     },
     "metadata": {},
     "output_type": "display_data"
    },
    {
     "name": "stdout",
     "output_type": "stream",
     "text": [
      "Best validation score: 0.9298218488693237\n",
      "Benchmark Complete!\n",
      "Loading CTGAN: vanilla - ae_dim - 256_128 - embedding_dim - 128\n",
      "Benchmarking on MLP100\n"
     ]
    },
    {
     "data": {
      "application/vnd.jupyter.widget-view+json": {
       "model_id": "06caa41520b94ee780c7911ab13cfcc3",
       "version_major": 2,
       "version_minor": 0
      },
      "text/plain": [
       "  0%|          | 0/100 [00:00<?, ?it/s]"
      ]
     },
     "metadata": {},
     "output_type": "display_data"
    },
    {
     "name": "stdout",
     "output_type": "stream",
     "text": [
      "Best validation score: 0.8582616448402405\n"
     ]
    },
    {
     "data": {
      "application/vnd.jupyter.widget-view+json": {
       "model_id": "86cc20f56aed419990b383a6d9b911d3",
       "version_major": 2,
       "version_minor": 0
      },
      "text/plain": [
       "  0%|          | 0/100 [00:00<?, ?it/s]"
      ]
     },
     "metadata": {},
     "output_type": "display_data"
    },
    {
     "name": "stdout",
     "output_type": "stream",
     "text": [
      "Best validation score: 0.8816031813621521\n"
     ]
    },
    {
     "data": {
      "application/vnd.jupyter.widget-view+json": {
       "model_id": "1d2e423f1c254cf9affe8e477e59a8b1",
       "version_major": 2,
       "version_minor": 0
      },
      "text/plain": [
       "  0%|          | 0/100 [00:00<?, ?it/s]"
      ]
     },
     "metadata": {},
     "output_type": "display_data"
    },
    {
     "name": "stdout",
     "output_type": "stream",
     "text": [
      "Best validation score: 0.8828316926956177\n",
      "Benchmark Complete!\n",
      "Loading CTGAN: vanilla - ae_dim - 256_128 - embedding_dim - 256\n",
      "Benchmarking on MLP100\n"
     ]
    },
    {
     "data": {
      "application/vnd.jupyter.widget-view+json": {
       "model_id": "f95e24ee7f7b4b7ba684a6e989a272e3",
       "version_major": 2,
       "version_minor": 0
      },
      "text/plain": [
       "  0%|          | 0/100 [00:00<?, ?it/s]"
      ]
     },
     "metadata": {},
     "output_type": "display_data"
    },
    {
     "name": "stdout",
     "output_type": "stream",
     "text": [
      "Best validation score: 0.9190725088119507\n"
     ]
    },
    {
     "data": {
      "application/vnd.jupyter.widget-view+json": {
       "model_id": "57b80b822c3c4c2b9d036c44f85b4f08",
       "version_major": 2,
       "version_minor": 0
      },
      "text/plain": [
       "  0%|          | 0/100 [00:00<?, ?it/s]"
      ]
     },
     "metadata": {},
     "output_type": "display_data"
    },
    {
     "name": "stdout",
     "output_type": "stream",
     "text": [
      "Best validation score: 0.9179975390434265\n"
     ]
    },
    {
     "data": {
      "application/vnd.jupyter.widget-view+json": {
       "model_id": "cfbf0df0797b43b3934718a07ec0bd81",
       "version_major": 2,
       "version_minor": 0
      },
      "text/plain": [
       "  0%|          | 0/100 [00:00<?, ?it/s]"
      ]
     },
     "metadata": {},
     "output_type": "display_data"
    },
    {
     "name": "stdout",
     "output_type": "stream",
     "text": [
      "Best validation score: 0.9252150058746338\n",
      "Benchmark Complete!\n",
      "Loading CTGAN: denoising - ae_dim - 256_128 - embedding_dim - 64\n",
      "Benchmarking on MLP100\n"
     ]
    },
    {
     "data": {
      "application/vnd.jupyter.widget-view+json": {
       "model_id": "bcc59317761a4da4846a3202d3d4b6e8",
       "version_major": 2,
       "version_minor": 0
      },
      "text/plain": [
       "  0%|          | 0/100 [00:00<?, ?it/s]"
      ]
     },
     "metadata": {},
     "output_type": "display_data"
    },
    {
     "name": "stdout",
     "output_type": "stream",
     "text": [
      "Best validation score: 0.9037162065505981\n"
     ]
    },
    {
     "data": {
      "application/vnd.jupyter.widget-view+json": {
       "model_id": "5c503bf2034f4fde88a9013f430e437f",
       "version_major": 2,
       "version_minor": 0
      },
      "text/plain": [
       "  0%|          | 0/100 [00:00<?, ?it/s]"
      ]
     },
     "metadata": {},
     "output_type": "display_data"
    },
    {
     "name": "stdout",
     "output_type": "stream",
     "text": [
      "Best validation score: 0.8802211284637451\n"
     ]
    },
    {
     "data": {
      "application/vnd.jupyter.widget-view+json": {
       "model_id": "22d4e4e51dd34035a0029ae0bf643484",
       "version_major": 2,
       "version_minor": 0
      },
      "text/plain": [
       "  0%|          | 0/100 [00:00<?, ?it/s]"
      ]
     },
     "metadata": {},
     "output_type": "display_data"
    },
    {
     "name": "stdout",
     "output_type": "stream",
     "text": [
      "Best validation score: 0.9077088236808777\n",
      "Benchmark Complete!\n",
      "Loading CTGAN: denoising - ae_dim - 256_128 - embedding_dim - 128\n",
      "Benchmarking on MLP100\n"
     ]
    },
    {
     "data": {
      "application/vnd.jupyter.widget-view+json": {
       "model_id": "e974db2b2bde46f7b2dd2277f223cd54",
       "version_major": 2,
       "version_minor": 0
      },
      "text/plain": [
       "  0%|          | 0/100 [00:00<?, ?it/s]"
      ]
     },
     "metadata": {},
     "output_type": "display_data"
    },
    {
     "name": "stdout",
     "output_type": "stream",
     "text": [
      "Best validation score: 0.8687039017677307\n"
     ]
    },
    {
     "data": {
      "application/vnd.jupyter.widget-view+json": {
       "model_id": "d0c0091ea41747beb10cc756fad8995f",
       "version_major": 2,
       "version_minor": 0
      },
      "text/plain": [
       "  0%|          | 0/100 [00:00<?, ?it/s]"
      ]
     },
     "metadata": {},
     "output_type": "display_data"
    },
    {
     "name": "stdout",
     "output_type": "stream",
     "text": [
      "Best validation score: 0.8493550419807434\n"
     ]
    },
    {
     "data": {
      "application/vnd.jupyter.widget-view+json": {
       "model_id": "ec1b9d8932764aedb787a0842cfd39c6",
       "version_major": 2,
       "version_minor": 0
      },
      "text/plain": [
       "  0%|          | 0/100 [00:00<?, ?it/s]"
      ]
     },
     "metadata": {},
     "output_type": "display_data"
    },
    {
     "name": "stdout",
     "output_type": "stream",
     "text": [
      "Best validation score: 0.8690110445022583\n",
      "Benchmark Complete!\n",
      "Loading CTGAN: denoising - ae_dim - 256_128 - embedding_dim - 256\n",
      "Benchmarking on MLP100\n"
     ]
    },
    {
     "data": {
      "application/vnd.jupyter.widget-view+json": {
       "model_id": "77b473e7972a40698d90df10b2375dad",
       "version_major": 2,
       "version_minor": 0
      },
      "text/plain": [
       "  0%|          | 0/100 [00:00<?, ?it/s]"
      ]
     },
     "metadata": {},
     "output_type": "display_data"
    },
    {
     "name": "stdout",
     "output_type": "stream",
     "text": [
      "Best validation score: 0.9950860142707825\n"
     ]
    },
    {
     "data": {
      "application/vnd.jupyter.widget-view+json": {
       "model_id": "b3309a47c3dc44f9a2b18977308fed30",
       "version_major": 2,
       "version_minor": 0
      },
      "text/plain": [
       "  0%|          | 0/100 [00:00<?, ?it/s]"
      ]
     },
     "metadata": {},
     "output_type": "display_data"
    },
    {
     "name": "stdout",
     "output_type": "stream",
     "text": [
      "Best validation score: 0.9946253299713135\n"
     ]
    },
    {
     "data": {
      "application/vnd.jupyter.widget-view+json": {
       "model_id": "1234a66d1f8b44e6b552f746a22b7df4",
       "version_major": 2,
       "version_minor": 0
      },
      "text/plain": [
       "  0%|          | 0/100 [00:00<?, ?it/s]"
      ]
     },
     "metadata": {},
     "output_type": "display_data"
    },
    {
     "name": "stdout",
     "output_type": "stream",
     "text": [
      "Best validation score: 0.9950860142707825\n",
      "Benchmark Complete!\n",
      "Loading CTGAN: vae - ae_dim - 256_128_64_32 - embedding_dim - 64\n",
      "Benchmarking on MLP100\n"
     ]
    },
    {
     "name": "stderr",
     "output_type": "stream",
     "text": [
      "/home/y2k/CSC2516_Project/code/ctgan/utils.py:132: PerformanceWarning: DataFrame is highly fragmented.  This is usually the result of calling `frame.insert` many times, which has poor performance.  Consider joining all columns at once using pd.concat(axis=1) instead. To get a de-fragmented frame, use `newframe = frame.copy()`\n",
      "  fake_df[col_name] = 0\n"
     ]
    },
    {
     "data": {
      "application/vnd.jupyter.widget-view+json": {
       "model_id": "3d3ab40027f44a068ca663489d70fdb9",
       "version_major": 2,
       "version_minor": 0
      },
      "text/plain": [
       "  0%|          | 0/100 [00:00<?, ?it/s]"
      ]
     },
     "metadata": {},
     "output_type": "display_data"
    },
    {
     "name": "stdout",
     "output_type": "stream",
     "text": [
      "Best validation score: 1.0\n"
     ]
    },
    {
     "data": {
      "application/vnd.jupyter.widget-view+json": {
       "model_id": "82285febe70044ed85d009fbb5cfc82c",
       "version_major": 2,
       "version_minor": 0
      },
      "text/plain": [
       "  0%|          | 0/100 [00:00<?, ?it/s]"
      ]
     },
     "metadata": {},
     "output_type": "display_data"
    },
    {
     "name": "stdout",
     "output_type": "stream",
     "text": [
      "Best validation score: 1.0\n"
     ]
    },
    {
     "data": {
      "application/vnd.jupyter.widget-view+json": {
       "model_id": "72b77375d0e34ef3a2dffea8176cbbf2",
       "version_major": 2,
       "version_minor": 0
      },
      "text/plain": [
       "  0%|          | 0/100 [00:00<?, ?it/s]"
      ]
     },
     "metadata": {},
     "output_type": "display_data"
    },
    {
     "name": "stdout",
     "output_type": "stream",
     "text": [
      "Best validation score: 1.0\n",
      "Benchmark Complete!\n",
      "Loading CTGAN: vae - ae_dim - 256_128_64_32 - embedding_dim - 128\n",
      "Benchmarking on MLP100\n"
     ]
    },
    {
     "name": "stderr",
     "output_type": "stream",
     "text": [
      "/home/y2k/CSC2516_Project/code/ctgan/utils.py:132: PerformanceWarning: DataFrame is highly fragmented.  This is usually the result of calling `frame.insert` many times, which has poor performance.  Consider joining all columns at once using pd.concat(axis=1) instead. To get a de-fragmented frame, use `newframe = frame.copy()`\n",
      "  fake_df[col_name] = 0\n",
      "/home/y2k/CSC2516_Project/code/ctgan/utils.py:132: PerformanceWarning: DataFrame is highly fragmented.  This is usually the result of calling `frame.insert` many times, which has poor performance.  Consider joining all columns at once using pd.concat(axis=1) instead. To get a de-fragmented frame, use `newframe = frame.copy()`\n",
      "  fake_df[col_name] = 0\n"
     ]
    },
    {
     "data": {
      "application/vnd.jupyter.widget-view+json": {
       "model_id": "cfa0d6a20ca94c1cb4fe13e24176bebb",
       "version_major": 2,
       "version_minor": 0
      },
      "text/plain": [
       "  0%|          | 0/100 [00:00<?, ?it/s]"
      ]
     },
     "metadata": {},
     "output_type": "display_data"
    },
    {
     "name": "stdout",
     "output_type": "stream",
     "text": [
      "Best validation score: 1.0\n"
     ]
    },
    {
     "data": {
      "application/vnd.jupyter.widget-view+json": {
       "model_id": "ad69c5d4ca324866800dea86b79e2071",
       "version_major": 2,
       "version_minor": 0
      },
      "text/plain": [
       "  0%|          | 0/100 [00:00<?, ?it/s]"
      ]
     },
     "metadata": {},
     "output_type": "display_data"
    },
    {
     "name": "stdout",
     "output_type": "stream",
     "text": [
      "Best validation score: 1.0\n"
     ]
    },
    {
     "data": {
      "application/vnd.jupyter.widget-view+json": {
       "model_id": "ab822941fe21494cbcd0342c0dac09b5",
       "version_major": 2,
       "version_minor": 0
      },
      "text/plain": [
       "  0%|          | 0/100 [00:00<?, ?it/s]"
      ]
     },
     "metadata": {},
     "output_type": "display_data"
    },
    {
     "name": "stdout",
     "output_type": "stream",
     "text": [
      "Best validation score: 1.0\n",
      "Benchmark Complete!\n",
      "Loading CTGAN: vae - ae_dim - 256_128_64_32 - embedding_dim - 256\n",
      "Benchmarking on MLP100\n"
     ]
    },
    {
     "name": "stderr",
     "output_type": "stream",
     "text": [
      "/home/y2k/CSC2516_Project/code/ctgan/utils.py:132: PerformanceWarning: DataFrame is highly fragmented.  This is usually the result of calling `frame.insert` many times, which has poor performance.  Consider joining all columns at once using pd.concat(axis=1) instead. To get a de-fragmented frame, use `newframe = frame.copy()`\n",
      "  fake_df[col_name] = 0\n"
     ]
    },
    {
     "data": {
      "application/vnd.jupyter.widget-view+json": {
       "model_id": "04733c69d3554f30b78bf5b7e00ce565",
       "version_major": 2,
       "version_minor": 0
      },
      "text/plain": [
       "  0%|          | 0/100 [00:00<?, ?it/s]"
      ]
     },
     "metadata": {},
     "output_type": "display_data"
    },
    {
     "name": "stdout",
     "output_type": "stream",
     "text": [
      "Best validation score: 1.0\n"
     ]
    },
    {
     "data": {
      "application/vnd.jupyter.widget-view+json": {
       "model_id": "46e05f1fc8944314ae162b67a1207511",
       "version_major": 2,
       "version_minor": 0
      },
      "text/plain": [
       "  0%|          | 0/100 [00:00<?, ?it/s]"
      ]
     },
     "metadata": {},
     "output_type": "display_data"
    },
    {
     "name": "stdout",
     "output_type": "stream",
     "text": [
      "Best validation score: 1.0\n"
     ]
    },
    {
     "data": {
      "application/vnd.jupyter.widget-view+json": {
       "model_id": "3099f03bc5534d5784d2adc1cad4eae2",
       "version_major": 2,
       "version_minor": 0
      },
      "text/plain": [
       "  0%|          | 0/100 [00:00<?, ?it/s]"
      ]
     },
     "metadata": {},
     "output_type": "display_data"
    },
    {
     "name": "stdout",
     "output_type": "stream",
     "text": [
      "Best validation score: 1.0\n",
      "Benchmark Complete!\n",
      "Loading CTGAN: ee - ae_dim - 256_128_64 - embedding_dim - 64\n",
      "Benchmarking on MLP100\n"
     ]
    },
    {
     "data": {
      "application/vnd.jupyter.widget-view+json": {
       "model_id": "820c31cb9be645c4a39aefab7413d812",
       "version_major": 2,
       "version_minor": 0
      },
      "text/plain": [
       "  0%|          | 0/100 [00:00<?, ?it/s]"
      ]
     },
     "metadata": {},
     "output_type": "display_data"
    },
    {
     "name": "stdout",
     "output_type": "stream",
     "text": [
      "Best validation score: 0.9887899160385132\n"
     ]
    },
    {
     "data": {
      "application/vnd.jupyter.widget-view+json": {
       "model_id": "c84c6d44a3604173b332b63d0406c43e",
       "version_major": 2,
       "version_minor": 0
      },
      "text/plain": [
       "  0%|          | 0/100 [00:00<?, ?it/s]"
      ]
     },
     "metadata": {},
     "output_type": "display_data"
    },
    {
     "name": "stdout",
     "output_type": "stream",
     "text": [
      "Best validation score: 0.9872543215751648\n"
     ]
    },
    {
     "data": {
      "application/vnd.jupyter.widget-view+json": {
       "model_id": "153a730609324be8b960132126c3551b",
       "version_major": 2,
       "version_minor": 0
      },
      "text/plain": [
       "  0%|          | 0/100 [00:00<?, ?it/s]"
      ]
     },
     "metadata": {},
     "output_type": "display_data"
    },
    {
     "name": "stdout",
     "output_type": "stream",
     "text": [
      "Best validation score: 0.9832616448402405\n",
      "Benchmark Complete!\n",
      "Loading CTGAN: ee - ae_dim - 256_128_64 - embedding_dim - 128\n",
      "Benchmarking on MLP100\n"
     ]
    },
    {
     "data": {
      "application/vnd.jupyter.widget-view+json": {
       "model_id": "cc9d6d44bcfe4775b7cbbc5f46db3774",
       "version_major": 2,
       "version_minor": 0
      },
      "text/plain": [
       "  0%|          | 0/100 [00:00<?, ?it/s]"
      ]
     },
     "metadata": {},
     "output_type": "display_data"
    },
    {
     "name": "stdout",
     "output_type": "stream",
     "text": [
      "Best validation score: 1.0\n"
     ]
    },
    {
     "data": {
      "application/vnd.jupyter.widget-view+json": {
       "model_id": "4c5534a375b441c18946a3438ea07e23",
       "version_major": 2,
       "version_minor": 0
      },
      "text/plain": [
       "  0%|          | 0/100 [00:00<?, ?it/s]"
      ]
     },
     "metadata": {},
     "output_type": "display_data"
    },
    {
     "name": "stdout",
     "output_type": "stream",
     "text": [
      "Best validation score: 1.0\n"
     ]
    },
    {
     "data": {
      "application/vnd.jupyter.widget-view+json": {
       "model_id": "a84e9ee30696412b91c3d0be383210d9",
       "version_major": 2,
       "version_minor": 0
      },
      "text/plain": [
       "  0%|          | 0/100 [00:00<?, ?it/s]"
      ]
     },
     "metadata": {},
     "output_type": "display_data"
    },
    {
     "name": "stdout",
     "output_type": "stream",
     "text": [
      "Best validation score: 1.0\n",
      "Benchmark Complete!\n",
      "Loading CTGAN: ee - ae_dim - 256_128_64 - embedding_dim - 256\n"
     ]
    }
   ],
   "source": [
    "hp = 'embedding_dim'\n",
    "\n",
    "for ae_type in AE_TYPES:\n",
    "    hp_scores = dict()\n",
    "    printable_ae_dim = max(hp_vals[ae_type]['ae_dim'].items(), key=lambda x: x[1])[0]\n",
    "    ae_dim = tuple(map(int, printable_ae_dim.split('_')))\n",
    "    for v in HP[hp]:\n",
    "        if not os.path.exists(f\"../../models/ae_gan_{ae_type}_ae_dim_{printable_ae_dim}_{hp}_{v}.pth\"):\n",
    "            # Train the AE_GAN\n",
    "            print(f\"Training CTGAN: {ae_type} - ae_dim - {printable_ae_dim} - {hp} - {v}\")\n",
    "            ae_gan = CTGANV2(ae_type=ae_type, ae_dim=ae_dim, embedding_dim=v)\n",
    "            ae_gan.fit(td['train'],dt=dt,is_transformed=True, target_index=target_idx)\n",
    "            print(\"Training Complete!\")\n",
    "            # save model\n",
    "            ae_gan.save(f\"../../models/ae_gan_{ae_type}_ae_dim_{printable_ae_dim}_{hp}_{v}.pth\")\n",
    "        else:\n",
    "            print(f\"Loading CTGAN: {ae_type} - ae_dim - {printable_ae_dim} - {hp} - {v}\")\n",
    "            ae_gan = CTGANV2().load(f\"../../models/ae_gan_{ae_type}_ae_dim_{printable_ae_dim}_{hp}_{v}.pth\")\n",
    "\n",
    "        best_score = torch.tensor([0.0])\n",
    "        try:\n",
    "            # Sample fake data\n",
    "            fake_data, real_data = sample_fake_adult(dt,td,ae_gan)\n",
    "            \n",
    "            print(\"Benchmarking on MLP100\")\n",
    "            # Train the MLP on fake validation data\n",
    "            for _ in range(3):\n",
    "                test_score = train_model(\n",
    "                                fake_data[0],\n",
    "                                fake_data[1],\n",
    "                                fake_data[2],\n",
    "                                fake_data[3],\n",
    "                                real_data[0],\n",
    "                                real_data[1],\n",
    "                                batch_size=256,\n",
    "                                num_epochs=100,\n",
    "                                model_type=\"classification\",\n",
    "                                verbose=False,\n",
    "                                scorer_type=\"accuracy\",\n",
    "                            )\n",
    "                if test_score > best_score:\n",
    "                    best_score = test_score\n",
    "            print(\"Benchmark Complete!\")\n",
    "        except:\n",
    "            pass\n",
    "        hp_scores[v] = best_score.item()\n",
    "    \n",
    "    hp_vals[ae_type][hp] = hp_scores\n",
    "    with open(\"adult_opt_hp.json\", 'w') as f:\n",
    "        f.write(json.dumps(hp_vals))"
   ]
  },
  {
   "attachments": {},
   "cell_type": "markdown",
   "metadata": {},
   "source": [
    "#### (3) Find the optimal no G/D layers"
   ]
  },
  {
   "cell_type": "code",
   "execution_count": 10,
   "metadata": {},
   "outputs": [
    {
     "name": "stdout",
     "output_type": "stream",
     "text": [
      "Training CTGAN: vanilla - ae_dim - 256_128 - embed_dim - 64 - gan_layers - (256, 256)\n",
      "Training Complete!\n",
      "Benchmarking on MLP100\n"
     ]
    },
    {
     "data": {
      "application/vnd.jupyter.widget-view+json": {
       "model_id": "772eb9293d4e44919382d44fa1b87a64",
       "version_major": 2,
       "version_minor": 0
      },
      "text/plain": [
       "  0%|          | 0/100 [00:00<?, ?it/s]"
      ]
     },
     "metadata": {},
     "output_type": "display_data"
    },
    {
     "name": "stdout",
     "output_type": "stream",
     "text": [
      "Best validation score: 0.9887899160385132\n"
     ]
    },
    {
     "data": {
      "application/vnd.jupyter.widget-view+json": {
       "model_id": "d671f2baf992414fa7c2217d223b3737",
       "version_major": 2,
       "version_minor": 0
      },
      "text/plain": [
       "  0%|          | 0/100 [00:00<?, ?it/s]"
      ]
     },
     "metadata": {},
     "output_type": "display_data"
    },
    {
     "name": "stdout",
     "output_type": "stream",
     "text": [
      "Best validation score: 0.9874078631401062\n"
     ]
    },
    {
     "data": {
      "application/vnd.jupyter.widget-view+json": {
       "model_id": "cfd2c6f7f80b40719bc564e2d0d8b4e3",
       "version_major": 2,
       "version_minor": 0
      },
      "text/plain": [
       "  0%|          | 0/100 [00:00<?, ?it/s]"
      ]
     },
     "metadata": {},
     "output_type": "display_data"
    },
    {
     "name": "stdout",
     "output_type": "stream",
     "text": [
      "Best validation score: 0.9883292317390442\n",
      "Benchmark Complete!\n",
      "Training CTGAN: vanilla - ae_dim - 256_128 - embed_dim - 64 - gan_layers - (256, 256, 256, 256)\n",
      "Training Complete!\n",
      "Benchmarking on MLP100\n"
     ]
    },
    {
     "data": {
      "application/vnd.jupyter.widget-view+json": {
       "model_id": "af7d319f487d46d2acbcc6bce3531823",
       "version_major": 2,
       "version_minor": 0
      },
      "text/plain": [
       "  0%|          | 0/100 [00:00<?, ?it/s]"
      ]
     },
     "metadata": {},
     "output_type": "display_data"
    },
    {
     "name": "stdout",
     "output_type": "stream",
     "text": [
      "Best validation score: 0.9141584634780884\n"
     ]
    },
    {
     "data": {
      "application/vnd.jupyter.widget-view+json": {
       "model_id": "a356510220494c93b177e0e6f2256375",
       "version_major": 2,
       "version_minor": 0
      },
      "text/plain": [
       "  0%|          | 0/100 [00:00<?, ?it/s]"
      ]
     },
     "metadata": {},
     "output_type": "display_data"
    },
    {
     "name": "stdout",
     "output_type": "stream",
     "text": [
      "Best validation score: 0.913083553314209\n"
     ]
    },
    {
     "data": {
      "application/vnd.jupyter.widget-view+json": {
       "model_id": "6f50865f2531454eb4d4d9f3aeb73d8e",
       "version_major": 2,
       "version_minor": 0
      },
      "text/plain": [
       "  0%|          | 0/100 [00:00<?, ?it/s]"
      ]
     },
     "metadata": {},
     "output_type": "display_data"
    },
    {
     "name": "stdout",
     "output_type": "stream",
     "text": [
      "Best validation score: 0.8997235894203186\n",
      "Benchmark Complete!\n",
      "Training CTGAN: denoising - ae_dim - 256_128 - embed_dim - 256 - gan_layers - (256, 256)\n",
      "Training Complete!\n",
      "Benchmarking on MLP100\n"
     ]
    },
    {
     "data": {
      "application/vnd.jupyter.widget-view+json": {
       "model_id": "e23d30af4bd944bfb7e18e725ab04e6d",
       "version_major": 2,
       "version_minor": 0
      },
      "text/plain": [
       "  0%|          | 0/100 [00:00<?, ?it/s]"
      ]
     },
     "metadata": {},
     "output_type": "display_data"
    },
    {
     "name": "stdout",
     "output_type": "stream",
     "text": [
      "Best validation score: 0.8518120646476746\n"
     ]
    },
    {
     "data": {
      "application/vnd.jupyter.widget-view+json": {
       "model_id": "95068122558c4bc7a46853a288a3f4a7",
       "version_major": 2,
       "version_minor": 0
      },
      "text/plain": [
       "  0%|          | 0/100 [00:00<?, ?it/s]"
      ]
     },
     "metadata": {},
     "output_type": "display_data"
    },
    {
     "name": "stdout",
     "output_type": "stream",
     "text": [
      "Best validation score: 0.8780712485313416\n"
     ]
    },
    {
     "data": {
      "application/vnd.jupyter.widget-view+json": {
       "model_id": "04cc69badad64286b93a67ebb202d53e",
       "version_major": 2,
       "version_minor": 0
      },
      "text/plain": [
       "  0%|          | 0/100 [00:00<?, ?it/s]"
      ]
     },
     "metadata": {},
     "output_type": "display_data"
    },
    {
     "name": "stdout",
     "output_type": "stream",
     "text": [
      "Best validation score: 0.8648648858070374\n",
      "Benchmark Complete!\n",
      "Training CTGAN: denoising - ae_dim - 256_128 - embed_dim - 256 - gan_layers - (256, 256, 256, 256)\n",
      "Training Complete!\n",
      "Benchmarking on MLP100\n"
     ]
    },
    {
     "data": {
      "application/vnd.jupyter.widget-view+json": {
       "model_id": "a2ddc064990542df8bf01b03503ad59d",
       "version_major": 2,
       "version_minor": 0
      },
      "text/plain": [
       "  0%|          | 0/100 [00:00<?, ?it/s]"
      ]
     },
     "metadata": {},
     "output_type": "display_data"
    },
    {
     "name": "stdout",
     "output_type": "stream",
     "text": [
      "Best validation score: 0.8725429773330688\n"
     ]
    },
    {
     "data": {
      "application/vnd.jupyter.widget-view+json": {
       "model_id": "e387ce09dd4e4754b8abfc1c5a0c7f7f",
       "version_major": 2,
       "version_minor": 0
      },
      "text/plain": [
       "  0%|          | 0/100 [00:00<?, ?it/s]"
      ]
     },
     "metadata": {},
     "output_type": "display_data"
    },
    {
     "name": "stdout",
     "output_type": "stream",
     "text": [
      "Best validation score: 0.8808353543281555\n"
     ]
    },
    {
     "data": {
      "application/vnd.jupyter.widget-view+json": {
       "model_id": "c1754fc24b5b4d1ba9060287717dde06",
       "version_major": 2,
       "version_minor": 0
      },
      "text/plain": [
       "  0%|          | 0/100 [00:00<?, ?it/s]"
      ]
     },
     "metadata": {},
     "output_type": "display_data"
    },
    {
     "name": "stdout",
     "output_type": "stream",
     "text": [
      "Best validation score: 0.8952702879905701\n",
      "Benchmark Complete!\n",
      "Training CTGAN: vae - ae_dim - 256_128_64_32 - embed_dim - 64 - gan_layers - (256, 256)\n",
      "Training Complete!\n",
      "Benchmarking on MLP100\n"
     ]
    },
    {
     "name": "stderr",
     "output_type": "stream",
     "text": [
      "/home/y2k/CSC2516_Project/code/ctgan/utils.py:132: PerformanceWarning: DataFrame is highly fragmented.  This is usually the result of calling `frame.insert` many times, which has poor performance.  Consider joining all columns at once using pd.concat(axis=1) instead. To get a de-fragmented frame, use `newframe = frame.copy()`\n",
      "  fake_df[col_name] = 0\n"
     ]
    },
    {
     "data": {
      "application/vnd.jupyter.widget-view+json": {
       "model_id": "d9e24aedea6a4042918b3c74de557eb6",
       "version_major": 2,
       "version_minor": 0
      },
      "text/plain": [
       "  0%|          | 0/100 [00:00<?, ?it/s]"
      ]
     },
     "metadata": {},
     "output_type": "display_data"
    },
    {
     "name": "stdout",
     "output_type": "stream",
     "text": [
      "Best validation score: 1.0\n"
     ]
    },
    {
     "data": {
      "application/vnd.jupyter.widget-view+json": {
       "model_id": "f67e0647db2b4e3792c52e3632df2c2c",
       "version_major": 2,
       "version_minor": 0
      },
      "text/plain": [
       "  0%|          | 0/100 [00:00<?, ?it/s]"
      ]
     },
     "metadata": {},
     "output_type": "display_data"
    },
    {
     "name": "stdout",
     "output_type": "stream",
     "text": [
      "Best validation score: 1.0\n"
     ]
    },
    {
     "data": {
      "application/vnd.jupyter.widget-view+json": {
       "model_id": "01ff3afe38c9445eb2200cffbf270543",
       "version_major": 2,
       "version_minor": 0
      },
      "text/plain": [
       "  0%|          | 0/100 [00:00<?, ?it/s]"
      ]
     },
     "metadata": {},
     "output_type": "display_data"
    },
    {
     "name": "stdout",
     "output_type": "stream",
     "text": [
      "Best validation score: 1.0\n",
      "Benchmark Complete!\n",
      "Training CTGAN: vae - ae_dim - 256_128_64_32 - embed_dim - 64 - gan_layers - (256, 256, 256, 256)\n",
      "Training Complete!\n",
      "Benchmarking on MLP100\n"
     ]
    },
    {
     "name": "stderr",
     "output_type": "stream",
     "text": [
      "/home/y2k/CSC2516_Project/code/ctgan/utils.py:132: PerformanceWarning: DataFrame is highly fragmented.  This is usually the result of calling `frame.insert` many times, which has poor performance.  Consider joining all columns at once using pd.concat(axis=1) instead. To get a de-fragmented frame, use `newframe = frame.copy()`\n",
      "  fake_df[col_name] = 0\n",
      "/home/y2k/CSC2516_Project/code/ctgan/utils.py:132: PerformanceWarning: DataFrame is highly fragmented.  This is usually the result of calling `frame.insert` many times, which has poor performance.  Consider joining all columns at once using pd.concat(axis=1) instead. To get a de-fragmented frame, use `newframe = frame.copy()`\n",
      "  fake_df[col_name] = 0\n"
     ]
    },
    {
     "data": {
      "application/vnd.jupyter.widget-view+json": {
       "model_id": "dffdc9cea9c64012a91eb6d7480f95d8",
       "version_major": 2,
       "version_minor": 0
      },
      "text/plain": [
       "  0%|          | 0/100 [00:00<?, ?it/s]"
      ]
     },
     "metadata": {},
     "output_type": "display_data"
    },
    {
     "name": "stdout",
     "output_type": "stream",
     "text": [
      "Best validation score: 1.0\n"
     ]
    },
    {
     "data": {
      "application/vnd.jupyter.widget-view+json": {
       "model_id": "94399073dbab4439ae392dfa5c571c72",
       "version_major": 2,
       "version_minor": 0
      },
      "text/plain": [
       "  0%|          | 0/100 [00:00<?, ?it/s]"
      ]
     },
     "metadata": {},
     "output_type": "display_data"
    },
    {
     "name": "stdout",
     "output_type": "stream",
     "text": [
      "Best validation score: 1.0\n"
     ]
    },
    {
     "data": {
      "application/vnd.jupyter.widget-view+json": {
       "model_id": "cb231e474cf14d319001a1b306ac87fa",
       "version_major": 2,
       "version_minor": 0
      },
      "text/plain": [
       "  0%|          | 0/100 [00:00<?, ?it/s]"
      ]
     },
     "metadata": {},
     "output_type": "display_data"
    },
    {
     "name": "stdout",
     "output_type": "stream",
     "text": [
      "Best validation score: 1.0\n",
      "Benchmark Complete!\n",
      "Training CTGAN: ee - ae_dim - 256_128_64 - embed_dim - 128 - gan_layers - (256, 256)\n",
      "Training Complete!\n",
      "Benchmarking on MLP100\n"
     ]
    },
    {
     "data": {
      "application/vnd.jupyter.widget-view+json": {
       "model_id": "92cc547b4868454183c886f6960c57e7",
       "version_major": 2,
       "version_minor": 0
      },
      "text/plain": [
       "  0%|          | 0/100 [00:00<?, ?it/s]"
      ]
     },
     "metadata": {},
     "output_type": "display_data"
    },
    {
     "name": "stdout",
     "output_type": "stream",
     "text": [
      "Best validation score: 0.9680589437484741\n"
     ]
    },
    {
     "data": {
      "application/vnd.jupyter.widget-view+json": {
       "model_id": "81bdf64f4af94aa0a28d3c5b91cbb8fc",
       "version_major": 2,
       "version_minor": 0
      },
      "text/plain": [
       "  0%|          | 0/100 [00:00<?, ?it/s]"
      ]
     },
     "metadata": {},
     "output_type": "display_data"
    },
    {
     "name": "stdout",
     "output_type": "stream",
     "text": [
      "Best validation score: 0.9685196280479431\n"
     ]
    },
    {
     "data": {
      "application/vnd.jupyter.widget-view+json": {
       "model_id": "fc4f0b2837c5432aac6b6f76afce02d2",
       "version_major": 2,
       "version_minor": 0
      },
      "text/plain": [
       "  0%|          | 0/100 [00:00<?, ?it/s]"
      ]
     },
     "metadata": {},
     "output_type": "display_data"
    },
    {
     "name": "stdout",
     "output_type": "stream",
     "text": [
      "Best validation score: 0.9700552821159363\n",
      "Benchmark Complete!\n",
      "Training CTGAN: ee - ae_dim - 256_128_64 - embed_dim - 128 - gan_layers - (256, 256, 256, 256)\n",
      "Training Complete!\n",
      "Benchmarking on MLP100\n"
     ]
    },
    {
     "data": {
      "application/vnd.jupyter.widget-view+json": {
       "model_id": "824583d2cbb8463fbc48ead099b8aed3",
       "version_major": 2,
       "version_minor": 0
      },
      "text/plain": [
       "  0%|          | 0/100 [00:00<?, ?it/s]"
      ]
     },
     "metadata": {},
     "output_type": "display_data"
    },
    {
     "name": "stdout",
     "output_type": "stream",
     "text": [
      "Best validation score: 0.9989250898361206\n"
     ]
    },
    {
     "data": {
      "application/vnd.jupyter.widget-view+json": {
       "model_id": "336139aa894c454190bd3feba91f20f1",
       "version_major": 2,
       "version_minor": 0
      },
      "text/plain": [
       "  0%|          | 0/100 [00:00<?, ?it/s]"
      ]
     },
     "metadata": {},
     "output_type": "display_data"
    },
    {
     "name": "stdout",
     "output_type": "stream",
     "text": [
      "Best validation score: 0.9987714886665344\n"
     ]
    },
    {
     "data": {
      "application/vnd.jupyter.widget-view+json": {
       "model_id": "ecd1db908348474981bf015c9a00a414",
       "version_major": 2,
       "version_minor": 0
      },
      "text/plain": [
       "  0%|          | 0/100 [00:00<?, ?it/s]"
      ]
     },
     "metadata": {},
     "output_type": "display_data"
    },
    {
     "name": "stdout",
     "output_type": "stream",
     "text": [
      "Best validation score: 0.9989250898361206\n",
      "Benchmark Complete!\n"
     ]
    }
   ],
   "source": [
    "hp = 'gan_layers'\n",
    "\n",
    "for ae_type in AE_TYPES:\n",
    "    hp_scores = dict()\n",
    "    printable_ae_dim = max(hp_vals[ae_type]['ae_dim'].items(), key=lambda x: x[1])[0]\n",
    "    ae_dim = tuple(map(int, printable_ae_dim.split('_')))\n",
    "    embedding_dim = int(max(hp_vals[ae_type]['embedding_dim'].items(), key=lambda x: x[1])[0])\n",
    "    for v in HP[hp]:\n",
    "        k = '_'.join(str(i) for i in v)\n",
    "        if not os.path.exists(f\"../../models/ae_gan_{ae_type}_ae_dim_{printable_ae_dim}_emb_{embedding_dim}_{hp}_{v}.pth\"):\n",
    "            # Train the AE_GAN\n",
    "            print(f\"Training CTGAN: {ae_type} - ae_dim - {printable_ae_dim} - embed_dim - {embedding_dim} - {hp} - {v}\")\n",
    "            ae_gan = CTGANV2(ae_type=ae_type, ae_dim=ae_dim,\n",
    "                             embedding_dim=embedding_dim, generator_dim=v, discriminator_dim=v)\n",
    "            ae_gan.fit(td['train'], dt=dt, is_transformed=True, target_index=target_idx)\n",
    "            print(\"Training Complete!\")\n",
    "            # save model\n",
    "            ae_gan.save(f\"../../models/ae_gan_{ae_type}_ae_dim_{printable_ae_dim}_emb_{embedding_dim}_{hp}_{v}.pth\")\n",
    "        else:\n",
    "            print(f\"Loading CTGAN: {ae_type} - ae_dim - {printable_ae_dim} - embed_dim - {embedding_dim} - {hp} - {v}\")\n",
    "            ae_gan = CTGANV2().load(f\"../../models/ae_gan_{ae_type}_ae_dim_{printable_ae_dim}_emb_{embedding_dim}_{hp}_{v}.pth\")\n",
    "\n",
    "        best_score = torch.tensor([0.0])\n",
    "        try:\n",
    "            # Sample fake data\n",
    "            fake_data, real_data = sample_fake_adult(dt,td,ae_gan)\n",
    "            \n",
    "            print(\"Benchmarking on MLP100\")\n",
    "            # Train the MLP on fake validation data\n",
    "            for _ in range(3):\n",
    "                test_score = train_model(\n",
    "                                fake_data[0],\n",
    "                                fake_data[1],\n",
    "                                fake_data[2],\n",
    "                                fake_data[3],\n",
    "                                real_data[0],\n",
    "                                real_data[1],\n",
    "                                batch_size=256,\n",
    "                                num_epochs=100,\n",
    "                                model_type=\"classification\",\n",
    "                                verbose=False,\n",
    "                                scorer_type=\"accuracy\",\n",
    "                            )\n",
    "                if test_score > best_score:\n",
    "                    best_score = test_score\n",
    "            print(\"Benchmark Complete!\")\n",
    "        except:\n",
    "            pass\n",
    "        hp_scores[k] = best_score.item()\n",
    "    \n",
    "    hp_vals[ae_type][hp] = hp_scores\n",
    "    with open(\"adult_opt_hp.json\", 'w') as f:\n",
    "        f.write(json.dumps(hp_vals))"
   ]
  },
  {
   "attachments": {},
   "cell_type": "markdown",
   "metadata": {},
   "source": [
    "#### (4) Find the optimal no D_steps and pac"
   ]
  },
  {
   "cell_type": "code",
   "execution_count": 2,
   "metadata": {},
   "outputs": [
    {
     "name": "stdout",
     "output_type": "stream",
     "text": [
      "Training CTGAN: vanilla - ae_dim - 256_128 - embed_dim - 64 - gan_layers - 256_256 - dstep - 1 - pac - 4\n",
      "Training Complete!\n",
      "Benchmarking on MLP100\n"
     ]
    },
    {
     "data": {
      "application/vnd.jupyter.widget-view+json": {
       "model_id": "6f84b0ff937142128a19dd557f45bc18",
       "version_major": 2,
       "version_minor": 0
      },
      "text/plain": [
       "  0%|          | 0/100 [00:00<?, ?it/s]"
      ]
     },
     "metadata": {},
     "output_type": "display_data"
    },
    {
     "name": "stdout",
     "output_type": "stream",
     "text": [
      "Best validation score: 0.9390356540679932\n"
     ]
    },
    {
     "data": {
      "application/vnd.jupyter.widget-view+json": {
       "model_id": "f539f22a11b6457590d26278910146ef",
       "version_major": 2,
       "version_minor": 0
      },
      "text/plain": [
       "  0%|          | 0/100 [00:00<?, ?it/s]"
      ]
     },
     "metadata": {},
     "output_type": "display_data"
    },
    {
     "name": "stdout",
     "output_type": "stream",
     "text": [
      "Best validation score: 0.9269042015075684\n"
     ]
    },
    {
     "data": {
      "application/vnd.jupyter.widget-view+json": {
       "model_id": "8a3f83c140f34cefaf33467bed13092c",
       "version_major": 2,
       "version_minor": 0
      },
      "text/plain": [
       "  0%|          | 0/100 [00:00<?, ?it/s]"
      ]
     },
     "metadata": {},
     "output_type": "display_data"
    },
    {
     "name": "stdout",
     "output_type": "stream",
     "text": [
      "Best validation score: 0.9206081032752991\n",
      "Benchmark Complete!\n",
      "Training CTGAN: vanilla - ae_dim - 256_128 - embed_dim - 64 - gan_layers - 256_256 - dstep - 1 - pac - 8\n",
      "Training Complete!\n",
      "Benchmarking on MLP100\n"
     ]
    },
    {
     "data": {
      "application/vnd.jupyter.widget-view+json": {
       "model_id": "485b686c9d43431d82fa6edaae2ad809",
       "version_major": 2,
       "version_minor": 0
      },
      "text/plain": [
       "  0%|          | 0/100 [00:00<?, ?it/s]"
      ]
     },
     "metadata": {},
     "output_type": "display_data"
    },
    {
     "name": "stdout",
     "output_type": "stream",
     "text": [
      "Best validation score: 0.8725429773330688\n"
     ]
    },
    {
     "data": {
      "application/vnd.jupyter.widget-view+json": {
       "model_id": "001f3360810a4c92a98f7a77086a4aa4",
       "version_major": 2,
       "version_minor": 0
      },
      "text/plain": [
       "  0%|          | 0/100 [00:00<?, ?it/s]"
      ]
     },
     "metadata": {},
     "output_type": "display_data"
    },
    {
     "name": "stdout",
     "output_type": "stream",
     "text": [
      "Best validation score: 0.8817567825317383\n"
     ]
    },
    {
     "data": {
      "application/vnd.jupyter.widget-view+json": {
       "model_id": "f4b1ef431b904ba38edb5952c5997eaa",
       "version_major": 2,
       "version_minor": 0
      },
      "text/plain": [
       "  0%|          | 0/100 [00:00<?, ?it/s]"
      ]
     },
     "metadata": {},
     "output_type": "display_data"
    },
    {
     "name": "stdout",
     "output_type": "stream",
     "text": [
      "Best validation score: 0.852886974811554\n",
      "Benchmark Complete!\n",
      "Training CTGAN: vanilla - ae_dim - 256_128 - embed_dim - 64 - gan_layers - 256_256 - dstep - 1 - pac - 16\n",
      "Training Complete!\n",
      "Benchmarking on MLP100\n"
     ]
    },
    {
     "data": {
      "application/vnd.jupyter.widget-view+json": {
       "model_id": "09d868513d644b68b55bcae6b6c2f423",
       "version_major": 2,
       "version_minor": 0
      },
      "text/plain": [
       "  0%|          | 0/100 [00:00<?, ?it/s]"
      ]
     },
     "metadata": {},
     "output_type": "display_data"
    },
    {
     "name": "stdout",
     "output_type": "stream",
     "text": [
      "Best validation score: 0.8177211284637451\n"
     ]
    },
    {
     "data": {
      "application/vnd.jupyter.widget-view+json": {
       "model_id": "88d9296131cf456ebdc7d3d8b2ffa28e",
       "version_major": 2,
       "version_minor": 0
      },
      "text/plain": [
       "  0%|          | 0/100 [00:00<?, ?it/s]"
      ]
     },
     "metadata": {},
     "output_type": "display_data"
    },
    {
     "name": "stdout",
     "output_type": "stream",
     "text": [
      "Best validation score: 0.8249385952949524\n"
     ]
    },
    {
     "data": {
      "application/vnd.jupyter.widget-view+json": {
       "model_id": "28551cf2428e4f2dbaf0c2c0a3e1fb48",
       "version_major": 2,
       "version_minor": 0
      },
      "text/plain": [
       "  0%|          | 0/100 [00:00<?, ?it/s]"
      ]
     },
     "metadata": {},
     "output_type": "display_data"
    },
    {
     "name": "stdout",
     "output_type": "stream",
     "text": [
      "Best validation score: 0.8198710083961487\n",
      "Benchmark Complete!\n",
      "Training CTGAN: vanilla - ae_dim - 256_128 - embed_dim - 64 - gan_layers - 256_256 - dstep - 5 - pac - 4\n",
      "Training Complete!\n",
      "Benchmarking on MLP100\n"
     ]
    },
    {
     "data": {
      "application/vnd.jupyter.widget-view+json": {
       "model_id": "da4f20824c4347bd9b94bd9a18b5bc49",
       "version_major": 2,
       "version_minor": 0
      },
      "text/plain": [
       "  0%|          | 0/100 [00:00<?, ?it/s]"
      ]
     },
     "metadata": {},
     "output_type": "display_data"
    },
    {
     "name": "stdout",
     "output_type": "stream",
     "text": [
      "Best validation score: 0.9527027010917664\n"
     ]
    },
    {
     "data": {
      "application/vnd.jupyter.widget-view+json": {
       "model_id": "a5c3d487354a41119d9c317f60976857",
       "version_major": 2,
       "version_minor": 0
      },
      "text/plain": [
       "  0%|          | 0/100 [00:00<?, ?it/s]"
      ]
     },
     "metadata": {},
     "output_type": "display_data"
    },
    {
     "name": "stdout",
     "output_type": "stream",
     "text": [
      "Best validation score: 0.9594594836235046\n"
     ]
    },
    {
     "data": {
      "application/vnd.jupyter.widget-view+json": {
       "model_id": "194625b392334f849359343cc4f24360",
       "version_major": 2,
       "version_minor": 0
      },
      "text/plain": [
       "  0%|          | 0/100 [00:00<?, ?it/s]"
      ]
     },
     "metadata": {},
     "output_type": "display_data"
    },
    {
     "name": "stdout",
     "output_type": "stream",
     "text": [
      "Best validation score: 0.9522420167922974\n",
      "Benchmark Complete!\n",
      "Training CTGAN: vanilla - ae_dim - 256_128 - embed_dim - 64 - gan_layers - 256_256 - dstep - 5 - pac - 8\n",
      "Training Complete!\n",
      "Benchmarking on MLP100\n"
     ]
    },
    {
     "data": {
      "application/vnd.jupyter.widget-view+json": {
       "model_id": "f65098658a8541dcb7e9e39248e3f386",
       "version_major": 2,
       "version_minor": 0
      },
      "text/plain": [
       "  0%|          | 0/100 [00:00<?, ?it/s]"
      ]
     },
     "metadata": {},
     "output_type": "display_data"
    },
    {
     "name": "stdout",
     "output_type": "stream",
     "text": [
      "Best validation score: 0.9473280310630798\n"
     ]
    },
    {
     "data": {
      "application/vnd.jupyter.widget-view+json": {
       "model_id": "167754b541174318a32101901c52e545",
       "version_major": 2,
       "version_minor": 0
      },
      "text/plain": [
       "  0%|          | 0/100 [00:00<?, ?it/s]"
      ]
     },
     "metadata": {},
     "output_type": "display_data"
    },
    {
     "name": "stdout",
     "output_type": "stream",
     "text": [
      "Best validation score: 0.9282862544059753\n"
     ]
    },
    {
     "data": {
      "application/vnd.jupyter.widget-view+json": {
       "model_id": "6b93a518e5e346c1b36f3b5071899032",
       "version_major": 2,
       "version_minor": 0
      },
      "text/plain": [
       "  0%|          | 0/100 [00:00<?, ?it/s]"
      ]
     },
     "metadata": {},
     "output_type": "display_data"
    },
    {
     "name": "stdout",
     "output_type": "stream",
     "text": [
      "Best validation score: 0.9460995197296143\n",
      "Benchmark Complete!\n",
      "Training CTGAN: vanilla - ae_dim - 256_128 - embed_dim - 64 - gan_layers - 256_256 - dstep - 5 - pac - 16\n",
      "Training Complete!\n",
      "Benchmarking on MLP100\n"
     ]
    },
    {
     "data": {
      "application/vnd.jupyter.widget-view+json": {
       "model_id": "0f4bc6986928453ca179a4db6ef9d0f3",
       "version_major": 2,
       "version_minor": 0
      },
      "text/plain": [
       "  0%|          | 0/100 [00:00<?, ?it/s]"
      ]
     },
     "metadata": {},
     "output_type": "display_data"
    },
    {
     "name": "stdout",
     "output_type": "stream",
     "text": [
      "Best validation score: 0.9212223291397095\n"
     ]
    },
    {
     "data": {
      "application/vnd.jupyter.widget-view+json": {
       "model_id": "6255983f441e48d98117d79366ad939e",
       "version_major": 2,
       "version_minor": 0
      },
      "text/plain": [
       "  0%|          | 0/100 [00:00<?, ?it/s]"
      ]
     },
     "metadata": {},
     "output_type": "display_data"
    },
    {
     "name": "stdout",
     "output_type": "stream",
     "text": [
      "Best validation score: 0.9175368547439575\n"
     ]
    },
    {
     "data": {
      "application/vnd.jupyter.widget-view+json": {
       "model_id": "42a586d77e30463d8296e45c84b53033",
       "version_major": 2,
       "version_minor": 0
      },
      "text/plain": [
       "  0%|          | 0/100 [00:00<?, ?it/s]"
      ]
     },
     "metadata": {},
     "output_type": "display_data"
    },
    {
     "name": "stdout",
     "output_type": "stream",
     "text": [
      "Best validation score: 0.9087837934494019\n",
      "Benchmark Complete!\n",
      "Training CTGAN: denoising - ae_dim - 256_128 - embed_dim - 256 - gan_layers - 256_256 - dstep - 1 - pac - 4\n",
      "Training Complete!\n",
      "Benchmarking on MLP100\n"
     ]
    },
    {
     "data": {
      "application/vnd.jupyter.widget-view+json": {
       "model_id": "053026cd1ce8403aa683e148933b129c",
       "version_major": 2,
       "version_minor": 0
      },
      "text/plain": [
       "  0%|          | 0/100 [00:00<?, ?it/s]"
      ]
     },
     "metadata": {},
     "output_type": "display_data"
    },
    {
     "name": "stdout",
     "output_type": "stream",
     "text": [
      "Best validation score: 0.889127790927887\n"
     ]
    },
    {
     "data": {
      "application/vnd.jupyter.widget-view+json": {
       "model_id": "b9f41117edea42acb1b9df2b0f634216",
       "version_major": 2,
       "version_minor": 0
      },
      "text/plain": [
       "  0%|          | 0/100 [00:00<?, ?it/s]"
      ]
     },
     "metadata": {},
     "output_type": "display_data"
    },
    {
     "name": "stdout",
     "output_type": "stream",
     "text": [
      "Best validation score: 0.8871314525604248\n"
     ]
    },
    {
     "data": {
      "application/vnd.jupyter.widget-view+json": {
       "model_id": "78aa38d9a11845488b3c99f61d60379d",
       "version_major": 2,
       "version_minor": 0
      },
      "text/plain": [
       "  0%|          | 0/100 [00:00<?, ?it/s]"
      ]
     },
     "metadata": {},
     "output_type": "display_data"
    },
    {
     "name": "stdout",
     "output_type": "stream",
     "text": [
      "Best validation score: 0.8792997598648071\n",
      "Benchmark Complete!\n",
      "Training CTGAN: denoising - ae_dim - 256_128 - embed_dim - 256 - gan_layers - 256_256 - dstep - 1 - pac - 8\n",
      "Training Complete!\n",
      "Benchmarking on MLP100\n"
     ]
    },
    {
     "data": {
      "application/vnd.jupyter.widget-view+json": {
       "model_id": "5cf4526b1d0143c7b735d36b9de1c720",
       "version_major": 2,
       "version_minor": 0
      },
      "text/plain": [
       "  0%|          | 0/100 [00:00<?, ?it/s]"
      ]
     },
     "metadata": {},
     "output_type": "display_data"
    },
    {
     "name": "stdout",
     "output_type": "stream",
     "text": [
      "Best validation score: 0.871775209903717\n"
     ]
    },
    {
     "data": {
      "application/vnd.jupyter.widget-view+json": {
       "model_id": "1f340afd04d644cea17d745c5badf1cb",
       "version_major": 2,
       "version_minor": 0
      },
      "text/plain": [
       "  0%|          | 0/100 [00:00<?, ?it/s]"
      ]
     },
     "metadata": {},
     "output_type": "display_data"
    },
    {
     "name": "stdout",
     "output_type": "stream",
     "text": [
      "Best validation score: 0.8868243098258972\n"
     ]
    },
    {
     "data": {
      "application/vnd.jupyter.widget-view+json": {
       "model_id": "4993739ed9f64374a52dd92d413841e6",
       "version_major": 2,
       "version_minor": 0
      },
      "text/plain": [
       "  0%|          | 0/100 [00:00<?, ?it/s]"
      ]
     },
     "metadata": {},
     "output_type": "display_data"
    },
    {
     "name": "stdout",
     "output_type": "stream",
     "text": [
      "Best validation score: 0.8842137455940247\n",
      "Benchmark Complete!\n",
      "Training CTGAN: denoising - ae_dim - 256_128 - embed_dim - 256 - gan_layers - 256_256 - dstep - 1 - pac - 16\n",
      "Training Complete!\n",
      "Benchmarking on MLP100\n"
     ]
    },
    {
     "data": {
      "application/vnd.jupyter.widget-view+json": {
       "model_id": "5d5cfc0158bb44ea88407084e032f17e",
       "version_major": 2,
       "version_minor": 0
      },
      "text/plain": [
       "  0%|          | 0/100 [00:00<?, ?it/s]"
      ]
     },
     "metadata": {},
     "output_type": "display_data"
    },
    {
     "name": "stdout",
     "output_type": "stream",
     "text": [
      "Best validation score: 0.7882370948791504\n"
     ]
    },
    {
     "data": {
      "application/vnd.jupyter.widget-view+json": {
       "model_id": "5cc597cd322e4149891f77c9da4c7241",
       "version_major": 2,
       "version_minor": 0
      },
      "text/plain": [
       "  0%|          | 0/100 [00:00<?, ?it/s]"
      ]
     },
     "metadata": {},
     "output_type": "display_data"
    },
    {
     "name": "stdout",
     "output_type": "stream",
     "text": [
      "Best validation score: 0.789004921913147\n"
     ]
    },
    {
     "data": {
      "application/vnd.jupyter.widget-view+json": {
       "model_id": "ad899f0747cc43ccb80213f9de1a09e5",
       "version_major": 2,
       "version_minor": 0
      },
      "text/plain": [
       "  0%|          | 0/100 [00:00<?, ?it/s]"
      ]
     },
     "metadata": {},
     "output_type": "display_data"
    },
    {
     "name": "stdout",
     "output_type": "stream",
     "text": [
      "Best validation score: 0.789926290512085\n",
      "Benchmark Complete!\n",
      "Training CTGAN: denoising - ae_dim - 256_128 - embed_dim - 256 - gan_layers - 256_256 - dstep - 5 - pac - 4\n",
      "Training Complete!\n",
      "Benchmarking on MLP100\n"
     ]
    },
    {
     "data": {
      "application/vnd.jupyter.widget-view+json": {
       "model_id": "f26023097b5f487c9c60351ade6b680f",
       "version_major": 2,
       "version_minor": 0
      },
      "text/plain": [
       "  0%|          | 0/100 [00:00<?, ?it/s]"
      ]
     },
     "metadata": {},
     "output_type": "display_data"
    },
    {
     "name": "stdout",
     "output_type": "stream",
     "text": [
      "Best validation score: 0.9318181872367859\n"
     ]
    },
    {
     "data": {
      "application/vnd.jupyter.widget-view+json": {
       "model_id": "c889e09e815b4242b96eb273beb19c9b",
       "version_major": 2,
       "version_minor": 0
      },
      "text/plain": [
       "  0%|          | 0/100 [00:00<?, ?it/s]"
      ]
     },
     "metadata": {},
     "output_type": "display_data"
    },
    {
     "name": "stdout",
     "output_type": "stream",
     "text": [
      "Best validation score: 0.9179975390434265\n"
     ]
    },
    {
     "data": {
      "application/vnd.jupyter.widget-view+json": {
       "model_id": "fef216321d794ce7848d1a14d25312c2",
       "version_major": 2,
       "version_minor": 0
      },
      "text/plain": [
       "  0%|          | 0/100 [00:00<?, ?it/s]"
      ]
     },
     "metadata": {},
     "output_type": "display_data"
    },
    {
     "name": "stdout",
     "output_type": "stream",
     "text": [
      "Best validation score: 0.9413390755653381\n",
      "Benchmark Complete!\n",
      "Training CTGAN: denoising - ae_dim - 256_128 - embed_dim - 256 - gan_layers - 256_256 - dstep - 5 - pac - 8\n",
      "Training Complete!\n",
      "Benchmarking on MLP100\n"
     ]
    },
    {
     "data": {
      "application/vnd.jupyter.widget-view+json": {
       "model_id": "a200c82288924fc89a26373ab05e4baa",
       "version_major": 2,
       "version_minor": 0
      },
      "text/plain": [
       "  0%|          | 0/100 [00:00<?, ?it/s]"
      ]
     },
     "metadata": {},
     "output_type": "display_data"
    },
    {
     "name": "stdout",
     "output_type": "stream",
     "text": [
      "Best validation score: 0.8859029412269592\n"
     ]
    },
    {
     "data": {
      "application/vnd.jupyter.widget-view+json": {
       "model_id": "7ab97a4d53a94a7aae9fbb2911fae9f6",
       "version_major": 2,
       "version_minor": 0
      },
      "text/plain": [
       "  0%|          | 0/100 [00:00<?, ?it/s]"
      ]
     },
     "metadata": {},
     "output_type": "display_data"
    },
    {
     "name": "stdout",
     "output_type": "stream",
     "text": [
      "Best validation score: 0.8823710083961487\n"
     ]
    },
    {
     "data": {
      "application/vnd.jupyter.widget-view+json": {
       "model_id": "74dfed5bd1bf442eb2335d1c879ecce3",
       "version_major": 2,
       "version_minor": 0
      },
      "text/plain": [
       "  0%|          | 0/100 [00:00<?, ?it/s]"
      ]
     },
     "metadata": {},
     "output_type": "display_data"
    },
    {
     "name": "stdout",
     "output_type": "stream",
     "text": [
      "Best validation score: 0.8819103240966797\n",
      "Benchmark Complete!\n",
      "Training CTGAN: denoising - ae_dim - 256_128 - embed_dim - 256 - gan_layers - 256_256 - dstep - 5 - pac - 16\n",
      "Training Complete!\n",
      "Benchmarking on MLP100\n"
     ]
    },
    {
     "data": {
      "application/vnd.jupyter.widget-view+json": {
       "model_id": "40fc93bc9a1d4c2e9a67d81c79bf5350",
       "version_major": 2,
       "version_minor": 0
      },
      "text/plain": [
       "  0%|          | 0/100 [00:00<?, ?it/s]"
      ]
     },
     "metadata": {},
     "output_type": "display_data"
    },
    {
     "name": "stdout",
     "output_type": "stream",
     "text": [
      "Best validation score: 0.9313575029373169\n"
     ]
    },
    {
     "data": {
      "application/vnd.jupyter.widget-view+json": {
       "model_id": "4d5e35b19f0b4e6f9b63b4fbcaad4f46",
       "version_major": 2,
       "version_minor": 0
      },
      "text/plain": [
       "  0%|          | 0/100 [00:00<?, ?it/s]"
      ]
     },
     "metadata": {},
     "output_type": "display_data"
    },
    {
     "name": "stdout",
     "output_type": "stream",
     "text": [
      "Best validation score: 0.9235258102416992\n"
     ]
    },
    {
     "data": {
      "application/vnd.jupyter.widget-view+json": {
       "model_id": "58122e939f394bd7aa9c89e531232100",
       "version_major": 2,
       "version_minor": 0
      },
      "text/plain": [
       "  0%|          | 0/100 [00:00<?, ?it/s]"
      ]
     },
     "metadata": {},
     "output_type": "display_data"
    },
    {
     "name": "stdout",
     "output_type": "stream",
     "text": [
      "Best validation score: 0.9457923769950867\n",
      "Benchmark Complete!\n",
      "Training CTGAN: vae - ae_dim - 256_128_64_32 - embed_dim - 64 - gan_layers - 256_256 - dstep - 1 - pac - 4\n",
      "Training Complete!\n",
      "Benchmarking on MLP100\n"
     ]
    },
    {
     "data": {
      "application/vnd.jupyter.widget-view+json": {
       "model_id": "634ea0b2af26460c9e553ac5303b270b",
       "version_major": 2,
       "version_minor": 0
      },
      "text/plain": [
       "  0%|          | 0/100 [00:00<?, ?it/s]"
      ]
     },
     "metadata": {},
     "output_type": "display_data"
    },
    {
     "name": "stdout",
     "output_type": "stream",
     "text": [
      "Best validation score: 1.0\n"
     ]
    },
    {
     "data": {
      "application/vnd.jupyter.widget-view+json": {
       "model_id": "ba9c3a8f7e624101bdf8ad5597e5ae40",
       "version_major": 2,
       "version_minor": 0
      },
      "text/plain": [
       "  0%|          | 0/100 [00:00<?, ?it/s]"
      ]
     },
     "metadata": {},
     "output_type": "display_data"
    },
    {
     "name": "stdout",
     "output_type": "stream",
     "text": [
      "Best validation score: 1.0\n"
     ]
    },
    {
     "data": {
      "application/vnd.jupyter.widget-view+json": {
       "model_id": "4a6bd7237ef6496990a379eb6e7b3ca7",
       "version_major": 2,
       "version_minor": 0
      },
      "text/plain": [
       "  0%|          | 0/100 [00:00<?, ?it/s]"
      ]
     },
     "metadata": {},
     "output_type": "display_data"
    },
    {
     "name": "stdout",
     "output_type": "stream",
     "text": [
      "Best validation score: 1.0\n",
      "Benchmark Complete!\n",
      "Training CTGAN: vae - ae_dim - 256_128_64_32 - embed_dim - 64 - gan_layers - 256_256 - dstep - 1 - pac - 8\n",
      "Training Complete!\n",
      "Benchmarking on MLP100\n"
     ]
    },
    {
     "data": {
      "application/vnd.jupyter.widget-view+json": {
       "model_id": "5e43ed91e3da49fd9b769818f5f4c9c9",
       "version_major": 2,
       "version_minor": 0
      },
      "text/plain": [
       "  0%|          | 0/100 [00:00<?, ?it/s]"
      ]
     },
     "metadata": {},
     "output_type": "display_data"
    },
    {
     "name": "stdout",
     "output_type": "stream",
     "text": [
      "Best validation score: 1.0\n"
     ]
    },
    {
     "data": {
      "application/vnd.jupyter.widget-view+json": {
       "model_id": "65b69996c5cb45f089f3cc3dcd281e8b",
       "version_major": 2,
       "version_minor": 0
      },
      "text/plain": [
       "  0%|          | 0/100 [00:00<?, ?it/s]"
      ]
     },
     "metadata": {},
     "output_type": "display_data"
    },
    {
     "name": "stdout",
     "output_type": "stream",
     "text": [
      "Best validation score: 1.0\n"
     ]
    },
    {
     "data": {
      "application/vnd.jupyter.widget-view+json": {
       "model_id": "be85da77e96446a2bdefcdc0de5675c6",
       "version_major": 2,
       "version_minor": 0
      },
      "text/plain": [
       "  0%|          | 0/100 [00:00<?, ?it/s]"
      ]
     },
     "metadata": {},
     "output_type": "display_data"
    },
    {
     "name": "stdout",
     "output_type": "stream",
     "text": [
      "Best validation score: 1.0\n",
      "Benchmark Complete!\n",
      "Training CTGAN: vae - ae_dim - 256_128_64_32 - embed_dim - 64 - gan_layers - 256_256 - dstep - 1 - pac - 16\n",
      "Training Complete!\n",
      "Benchmarking on MLP100\n"
     ]
    },
    {
     "name": "stderr",
     "output_type": "stream",
     "text": [
      "/home/y2k/CSC2516_Project/code/ctgan/utils.py:132: PerformanceWarning: DataFrame is highly fragmented.  This is usually the result of calling `frame.insert` many times, which has poor performance.  Consider joining all columns at once using pd.concat(axis=1) instead. To get a de-fragmented frame, use `newframe = frame.copy()`\n",
      "  fake_df[col_name] = 0\n"
     ]
    },
    {
     "data": {
      "application/vnd.jupyter.widget-view+json": {
       "model_id": "2d9595c7e88846dd948a6a9d7b54df2d",
       "version_major": 2,
       "version_minor": 0
      },
      "text/plain": [
       "  0%|          | 0/100 [00:00<?, ?it/s]"
      ]
     },
     "metadata": {},
     "output_type": "display_data"
    },
    {
     "name": "stdout",
     "output_type": "stream",
     "text": [
      "Best validation score: 1.0\n"
     ]
    },
    {
     "data": {
      "application/vnd.jupyter.widget-view+json": {
       "model_id": "6eb713de28384d398cbf31ba5df12d80",
       "version_major": 2,
       "version_minor": 0
      },
      "text/plain": [
       "  0%|          | 0/100 [00:00<?, ?it/s]"
      ]
     },
     "metadata": {},
     "output_type": "display_data"
    },
    {
     "name": "stdout",
     "output_type": "stream",
     "text": [
      "Best validation score: 1.0\n"
     ]
    },
    {
     "data": {
      "application/vnd.jupyter.widget-view+json": {
       "model_id": "e1d8a9ffc43a47f4af8213baeafeda01",
       "version_major": 2,
       "version_minor": 0
      },
      "text/plain": [
       "  0%|          | 0/100 [00:00<?, ?it/s]"
      ]
     },
     "metadata": {},
     "output_type": "display_data"
    },
    {
     "name": "stdout",
     "output_type": "stream",
     "text": [
      "Best validation score: 1.0\n",
      "Benchmark Complete!\n",
      "Training CTGAN: vae - ae_dim - 256_128_64_32 - embed_dim - 64 - gan_layers - 256_256 - dstep - 5 - pac - 4\n",
      "Training Complete!\n",
      "Benchmarking on MLP100\n"
     ]
    },
    {
     "name": "stderr",
     "output_type": "stream",
     "text": [
      "/home/y2k/CSC2516_Project/code/ctgan/utils.py:132: PerformanceWarning: DataFrame is highly fragmented.  This is usually the result of calling `frame.insert` many times, which has poor performance.  Consider joining all columns at once using pd.concat(axis=1) instead. To get a de-fragmented frame, use `newframe = frame.copy()`\n",
      "  fake_df[col_name] = 0\n"
     ]
    },
    {
     "data": {
      "application/vnd.jupyter.widget-view+json": {
       "model_id": "ff109c4de5184a47948abe4aeff5ede5",
       "version_major": 2,
       "version_minor": 0
      },
      "text/plain": [
       "  0%|          | 0/100 [00:00<?, ?it/s]"
      ]
     },
     "metadata": {},
     "output_type": "display_data"
    },
    {
     "name": "stdout",
     "output_type": "stream",
     "text": [
      "Best validation score: 1.0\n"
     ]
    },
    {
     "data": {
      "application/vnd.jupyter.widget-view+json": {
       "model_id": "e567edfbc0d04a61ad5fac57f66ad83e",
       "version_major": 2,
       "version_minor": 0
      },
      "text/plain": [
       "  0%|          | 0/100 [00:00<?, ?it/s]"
      ]
     },
     "metadata": {},
     "output_type": "display_data"
    },
    {
     "name": "stdout",
     "output_type": "stream",
     "text": [
      "Best validation score: 1.0\n"
     ]
    },
    {
     "data": {
      "application/vnd.jupyter.widget-view+json": {
       "model_id": "0c0578567e9046aca2a4455965372cc7",
       "version_major": 2,
       "version_minor": 0
      },
      "text/plain": [
       "  0%|          | 0/100 [00:00<?, ?it/s]"
      ]
     },
     "metadata": {},
     "output_type": "display_data"
    },
    {
     "name": "stdout",
     "output_type": "stream",
     "text": [
      "Best validation score: 1.0\n",
      "Benchmark Complete!\n",
      "Training CTGAN: vae - ae_dim - 256_128_64_32 - embed_dim - 64 - gan_layers - 256_256 - dstep - 5 - pac - 8\n",
      "Training Complete!\n",
      "Benchmarking on MLP100\n"
     ]
    },
    {
     "name": "stderr",
     "output_type": "stream",
     "text": [
      "/home/y2k/CSC2516_Project/code/ctgan/utils.py:132: PerformanceWarning: DataFrame is highly fragmented.  This is usually the result of calling `frame.insert` many times, which has poor performance.  Consider joining all columns at once using pd.concat(axis=1) instead. To get a de-fragmented frame, use `newframe = frame.copy()`\n",
      "  fake_df[col_name] = 0\n"
     ]
    },
    {
     "data": {
      "application/vnd.jupyter.widget-view+json": {
       "model_id": "48b04b05c4c74a9585c2b14efab24e0b",
       "version_major": 2,
       "version_minor": 0
      },
      "text/plain": [
       "  0%|          | 0/100 [00:00<?, ?it/s]"
      ]
     },
     "metadata": {},
     "output_type": "display_data"
    },
    {
     "name": "stdout",
     "output_type": "stream",
     "text": [
      "Best validation score: 1.0\n"
     ]
    },
    {
     "data": {
      "application/vnd.jupyter.widget-view+json": {
       "model_id": "8fda7118ade144f68f6466b0d9acd470",
       "version_major": 2,
       "version_minor": 0
      },
      "text/plain": [
       "  0%|          | 0/100 [00:00<?, ?it/s]"
      ]
     },
     "metadata": {},
     "output_type": "display_data"
    },
    {
     "name": "stdout",
     "output_type": "stream",
     "text": [
      "Best validation score: 1.0\n"
     ]
    },
    {
     "data": {
      "application/vnd.jupyter.widget-view+json": {
       "model_id": "97074aeca7234b24816eeed16aa6d5fe",
       "version_major": 2,
       "version_minor": 0
      },
      "text/plain": [
       "  0%|          | 0/100 [00:00<?, ?it/s]"
      ]
     },
     "metadata": {},
     "output_type": "display_data"
    },
    {
     "name": "stdout",
     "output_type": "stream",
     "text": [
      "Best validation score: 1.0\n",
      "Benchmark Complete!\n",
      "Training CTGAN: vae - ae_dim - 256_128_64_32 - embed_dim - 64 - gan_layers - 256_256 - dstep - 5 - pac - 16\n",
      "Training Complete!\n",
      "Benchmarking on MLP100\n"
     ]
    },
    {
     "data": {
      "application/vnd.jupyter.widget-view+json": {
       "model_id": "f91cd784b4be4cfcbb9ef43a9fc16380",
       "version_major": 2,
       "version_minor": 0
      },
      "text/plain": [
       "  0%|          | 0/100 [00:00<?, ?it/s]"
      ]
     },
     "metadata": {},
     "output_type": "display_data"
    },
    {
     "name": "stdout",
     "output_type": "stream",
     "text": [
      "Best validation score: 1.0\n"
     ]
    },
    {
     "data": {
      "application/vnd.jupyter.widget-view+json": {
       "model_id": "a7244e1cbb8c447cb03b40c9627680e4",
       "version_major": 2,
       "version_minor": 0
      },
      "text/plain": [
       "  0%|          | 0/100 [00:00<?, ?it/s]"
      ]
     },
     "metadata": {},
     "output_type": "display_data"
    },
    {
     "name": "stdout",
     "output_type": "stream",
     "text": [
      "Best validation score: 1.0\n"
     ]
    },
    {
     "data": {
      "application/vnd.jupyter.widget-view+json": {
       "model_id": "e6a23a2dcd1a4547ae1a13f06f656e5d",
       "version_major": 2,
       "version_minor": 0
      },
      "text/plain": [
       "  0%|          | 0/100 [00:00<?, ?it/s]"
      ]
     },
     "metadata": {},
     "output_type": "display_data"
    },
    {
     "name": "stdout",
     "output_type": "stream",
     "text": [
      "Best validation score: 1.0\n",
      "Benchmark Complete!\n",
      "Training CTGAN: ee - ae_dim - 256_128_64 - embed_dim - 128 - gan_layers - 256_256_256_256 - dstep - 1 - pac - 4\n",
      "Training Complete!\n",
      "Benchmarking on MLP100\n"
     ]
    },
    {
     "data": {
      "application/vnd.jupyter.widget-view+json": {
       "model_id": "d651902eecc143088a6a6fb2c25f8221",
       "version_major": 2,
       "version_minor": 0
      },
      "text/plain": [
       "  0%|          | 0/100 [00:00<?, ?it/s]"
      ]
     },
     "metadata": {},
     "output_type": "display_data"
    },
    {
     "name": "stdout",
     "output_type": "stream",
     "text": [
      "Best validation score: 1.0\n"
     ]
    },
    {
     "data": {
      "application/vnd.jupyter.widget-view+json": {
       "model_id": "57ca501d86b6439599b0d5cf718b7867",
       "version_major": 2,
       "version_minor": 0
      },
      "text/plain": [
       "  0%|          | 0/100 [00:00<?, ?it/s]"
      ]
     },
     "metadata": {},
     "output_type": "display_data"
    },
    {
     "name": "stdout",
     "output_type": "stream",
     "text": [
      "Best validation score: 1.0\n"
     ]
    },
    {
     "data": {
      "application/vnd.jupyter.widget-view+json": {
       "model_id": "537bf5aa7a6f4306addc972628b05413",
       "version_major": 2,
       "version_minor": 0
      },
      "text/plain": [
       "  0%|          | 0/100 [00:00<?, ?it/s]"
      ]
     },
     "metadata": {},
     "output_type": "display_data"
    },
    {
     "name": "stdout",
     "output_type": "stream",
     "text": [
      "Best validation score: 1.0\n",
      "Benchmark Complete!\n",
      "Training CTGAN: ee - ae_dim - 256_128_64 - embed_dim - 128 - gan_layers - 256_256_256_256 - dstep - 1 - pac - 8\n",
      "Training Complete!\n",
      "Benchmarking on MLP100\n"
     ]
    },
    {
     "data": {
      "application/vnd.jupyter.widget-view+json": {
       "model_id": "873a5c0b80314e20acb46f9aad839729",
       "version_major": 2,
       "version_minor": 0
      },
      "text/plain": [
       "  0%|          | 0/100 [00:00<?, ?it/s]"
      ]
     },
     "metadata": {},
     "output_type": "display_data"
    },
    {
     "name": "stdout",
     "output_type": "stream",
     "text": [
      "Best validation score: 1.0\n"
     ]
    },
    {
     "data": {
      "application/vnd.jupyter.widget-view+json": {
       "model_id": "41ad6cb528ca4ebea314cfcf9758615c",
       "version_major": 2,
       "version_minor": 0
      },
      "text/plain": [
       "  0%|          | 0/100 [00:00<?, ?it/s]"
      ]
     },
     "metadata": {},
     "output_type": "display_data"
    },
    {
     "name": "stdout",
     "output_type": "stream",
     "text": [
      "Best validation score: 1.0\n"
     ]
    },
    {
     "data": {
      "application/vnd.jupyter.widget-view+json": {
       "model_id": "b65c39b1330649c2be6cbe18d41567a2",
       "version_major": 2,
       "version_minor": 0
      },
      "text/plain": [
       "  0%|          | 0/100 [00:00<?, ?it/s]"
      ]
     },
     "metadata": {},
     "output_type": "display_data"
    },
    {
     "name": "stdout",
     "output_type": "stream",
     "text": [
      "Best validation score: 1.0\n",
      "Benchmark Complete!\n",
      "Training CTGAN: ee - ae_dim - 256_128_64 - embed_dim - 128 - gan_layers - 256_256_256_256 - dstep - 1 - pac - 16\n",
      "Training Complete!\n",
      "Benchmarking on MLP100\n"
     ]
    },
    {
     "data": {
      "application/vnd.jupyter.widget-view+json": {
       "model_id": "76160e034abc4aab823adde0b52f9fa6",
       "version_major": 2,
       "version_minor": 0
      },
      "text/plain": [
       "  0%|          | 0/100 [00:00<?, ?it/s]"
      ]
     },
     "metadata": {},
     "output_type": "display_data"
    },
    {
     "name": "stdout",
     "output_type": "stream",
     "text": [
      "Best validation score: 0.9752764105796814\n"
     ]
    },
    {
     "data": {
      "application/vnd.jupyter.widget-view+json": {
       "model_id": "5a81af950ed5457d8dca9cbb723efa49",
       "version_major": 2,
       "version_minor": 0
      },
      "text/plain": [
       "  0%|          | 0/100 [00:00<?, ?it/s]"
      ]
     },
     "metadata": {},
     "output_type": "display_data"
    },
    {
     "name": "stdout",
     "output_type": "stream",
     "text": [
      "Best validation score: 0.9543918967247009\n"
     ]
    },
    {
     "data": {
      "application/vnd.jupyter.widget-view+json": {
       "model_id": "b1ee90b71cac427aace019b48ceaeb2b",
       "version_major": 2,
       "version_minor": 0
      },
      "text/plain": [
       "  0%|          | 0/100 [00:00<?, ?it/s]"
      ]
     },
     "metadata": {},
     "output_type": "display_data"
    },
    {
     "name": "stdout",
     "output_type": "stream",
     "text": [
      "Best validation score: 0.9543918967247009\n",
      "Benchmark Complete!\n",
      "Training CTGAN: ee - ae_dim - 256_128_64 - embed_dim - 128 - gan_layers - 256_256_256_256 - dstep - 5 - pac - 4\n",
      "Training Complete!\n",
      "Benchmarking on MLP100\n"
     ]
    },
    {
     "data": {
      "application/vnd.jupyter.widget-view+json": {
       "model_id": "a28b819f824746b6a4685461660e9f5e",
       "version_major": 2,
       "version_minor": 0
      },
      "text/plain": [
       "  0%|          | 0/100 [00:00<?, ?it/s]"
      ]
     },
     "metadata": {},
     "output_type": "display_data"
    },
    {
     "name": "stdout",
     "output_type": "stream",
     "text": [
      "Best validation score: 1.0\n"
     ]
    },
    {
     "data": {
      "application/vnd.jupyter.widget-view+json": {
       "model_id": "059024b2c49e444bb73964cdea6ba92e",
       "version_major": 2,
       "version_minor": 0
      },
      "text/plain": [
       "  0%|          | 0/100 [00:00<?, ?it/s]"
      ]
     },
     "metadata": {},
     "output_type": "display_data"
    },
    {
     "name": "stdout",
     "output_type": "stream",
     "text": [
      "Best validation score: 1.0\n"
     ]
    },
    {
     "data": {
      "application/vnd.jupyter.widget-view+json": {
       "model_id": "df7964e37e67484a9c75f648aa29b436",
       "version_major": 2,
       "version_minor": 0
      },
      "text/plain": [
       "  0%|          | 0/100 [00:00<?, ?it/s]"
      ]
     },
     "metadata": {},
     "output_type": "display_data"
    },
    {
     "name": "stdout",
     "output_type": "stream",
     "text": [
      "Best validation score: 1.0\n",
      "Benchmark Complete!\n",
      "Training CTGAN: ee - ae_dim - 256_128_64 - embed_dim - 128 - gan_layers - 256_256_256_256 - dstep - 5 - pac - 8\n",
      "Training Complete!\n",
      "Benchmarking on MLP100\n"
     ]
    },
    {
     "data": {
      "application/vnd.jupyter.widget-view+json": {
       "model_id": "962d3b66d71f42f4abd0e3f79adf84f3",
       "version_major": 2,
       "version_minor": 0
      },
      "text/plain": [
       "  0%|          | 0/100 [00:00<?, ?it/s]"
      ]
     },
     "metadata": {},
     "output_type": "display_data"
    },
    {
     "name": "stdout",
     "output_type": "stream",
     "text": [
      "Best validation score: 0.9725123047828674\n"
     ]
    },
    {
     "data": {
      "application/vnd.jupyter.widget-view+json": {
       "model_id": "430c63f1d84040558085ee3593abf5dc",
       "version_major": 2,
       "version_minor": 0
      },
      "text/plain": [
       "  0%|          | 0/100 [00:00<?, ?it/s]"
      ]
     },
     "metadata": {},
     "output_type": "display_data"
    },
    {
     "name": "stdout",
     "output_type": "stream",
     "text": [
      "Best validation score: 0.9989250898361206\n"
     ]
    },
    {
     "data": {
      "application/vnd.jupyter.widget-view+json": {
       "model_id": "ea6d490fd42f4cb284b5e2bb06dbf0ad",
       "version_major": 2,
       "version_minor": 0
      },
      "text/plain": [
       "  0%|          | 0/100 [00:00<?, ?it/s]"
      ]
     },
     "metadata": {},
     "output_type": "display_data"
    },
    {
     "name": "stdout",
     "output_type": "stream",
     "text": [
      "Best validation score: 0.9711301922798157\n",
      "Benchmark Complete!\n",
      "Training CTGAN: ee - ae_dim - 256_128_64 - embed_dim - 128 - gan_layers - 256_256_256_256 - dstep - 5 - pac - 16\n",
      "Training Complete!\n",
      "Benchmarking on MLP100\n"
     ]
    },
    {
     "data": {
      "application/vnd.jupyter.widget-view+json": {
       "model_id": "0bf7bede47794c4d8eb966dcc15c7053",
       "version_major": 2,
       "version_minor": 0
      },
      "text/plain": [
       "  0%|          | 0/100 [00:00<?, ?it/s]"
      ]
     },
     "metadata": {},
     "output_type": "display_data"
    },
    {
     "name": "stdout",
     "output_type": "stream",
     "text": [
      "Best validation score: 1.0\n"
     ]
    },
    {
     "data": {
      "application/vnd.jupyter.widget-view+json": {
       "model_id": "14630723b09a4b9fabf57beed3778ec9",
       "version_major": 2,
       "version_minor": 0
      },
      "text/plain": [
       "  0%|          | 0/100 [00:00<?, ?it/s]"
      ]
     },
     "metadata": {},
     "output_type": "display_data"
    },
    {
     "name": "stdout",
     "output_type": "stream",
     "text": [
      "Best validation score: 1.0\n"
     ]
    },
    {
     "data": {
      "application/vnd.jupyter.widget-view+json": {
       "model_id": "8fe787038ece4c5aa9918f7d6217a62c",
       "version_major": 2,
       "version_minor": 0
      },
      "text/plain": [
       "  0%|          | 0/100 [00:00<?, ?it/s]"
      ]
     },
     "metadata": {},
     "output_type": "display_data"
    },
    {
     "name": "stdout",
     "output_type": "stream",
     "text": [
      "Best validation score: 1.0\n",
      "Benchmark Complete!\n"
     ]
    }
   ],
   "source": [
    "hp = 'dstep_pac'\n",
    "dstep_pac = list(itertools.product(HP['discriminator_steps'], HP['pac']))\n",
    "\n",
    "for ae_type in AE_TYPES:\n",
    "    hp_scores = dict()\n",
    "    printable_ae_dim = max(hp_vals[ae_type]['ae_dim'].items(), key=lambda x: x[1])[0]\n",
    "    ae_dim = tuple(map(int, printable_ae_dim.split('_')))\n",
    "    embedding_dim = int(max(hp_vals[ae_type]['embedding_dim'].items(), key=lambda x: x[1])[0])\n",
    "    printable_gan_layers = max(hp_vals[ae_type]['gan_layers'].items(), key=lambda x: x[1])[0]\n",
    "    gan_layers = tuple(map(int, printable_gan_layers.split('_')))\n",
    "    for v1, v2 in dstep_pac:\n",
    "        k = '_'.join(map(str,[v1,v2]))\n",
    "        if not os.path.exists(f\"../../models/ae_gan_{ae_type}_ae_dim_{printable_ae_dim}_emb_{embedding_dim}_gla_{gan_layers}_dstep_{v1}_pac_{v2}.pth\"):\n",
    "            # Train the AE_GAN\n",
    "            print(f\"Training CTGAN: {ae_type} - ae_dim - {printable_ae_dim} - embed_dim - {embedding_dim} - gan_layers - {printable_gan_layers} - dstep - {v1} - pac - {v2}\")\n",
    "            ae_gan = CTGANV2(ae_type=ae_type, ae_dim=ae_dim, embedding_dim=embedding_dim,\n",
    "                                generator_dim=gan_layers, discriminator_dim=gan_layers,\n",
    "                                discriminator_steps=v1, pac=v2)\n",
    "            ae_gan.fit(td['train'], dt=dt, is_transformed=True, target_index=target_idx)\n",
    "            print(\"Training Complete!\")\n",
    "            # save model\n",
    "            ae_gan.save(f\"../../models/ae_gan_{ae_type}_ae_dim_{printable_ae_dim}_emb_{embedding_dim}_gla_{gan_layers}_dstep_{v1}_pac_{v2}.pth\")\n",
    "        else:\n",
    "            print(f\"Loading CTGAN: {ae_type} - ae_dim - {printable_ae_dim} - embed_dim - {embedding_dim} - gan_layers - {printable_gan_layers} - dstep - {v1} - pac - {v2}\")\n",
    "            ae_gan = CTGANV2().load(f\"../../models/ae_gan_{ae_type}_ae_dim_{printable_ae_dim}_emb_{embedding_dim}_gla_{gan_layers}_dstep_{v1}_pac_{v2}.pth\")\n",
    "\n",
    "        best_score = torch.tensor([0.0])\n",
    "        try:\n",
    "            # Sample fake data\n",
    "            fake_data, real_data = sample_fake_adult(dt,td,ae_gan)\n",
    "            \n",
    "            print(\"Benchmarking on MLP100\")\n",
    "            # Train the MLP on fake validation data\n",
    "            for _ in range(3):\n",
    "                test_score = train_model(\n",
    "                                fake_data[0],\n",
    "                                fake_data[1],\n",
    "                                fake_data[2],\n",
    "                                fake_data[3],\n",
    "                                real_data[0],\n",
    "                                real_data[1],\n",
    "                                batch_size=256,\n",
    "                                num_epochs=100,\n",
    "                                model_type=\"classification\",\n",
    "                                verbose=False,\n",
    "                                scorer_type=\"accuracy\",\n",
    "                            )\n",
    "                if test_score > best_score:\n",
    "                    best_score = test_score\n",
    "            print(\"Benchmark Complete!\")\n",
    "        except:\n",
    "            pass\n",
    "        hp_scores[k] = best_score.item()\n",
    "    \n",
    "    hp_vals[ae_type][hp] = hp_scores\n",
    "    with open(\"adult_opt_hp.json\", 'w') as f:\n",
    "        f.write(json.dumps(hp_vals))"
   ]
  },
  {
   "cell_type": "markdown",
   "metadata": {},
   "source": [
    "#### (5) Find the optimal GAN LR, GAN BatchSize-Epoch, AE LR, AE BatchSize-Epoch"
   ]
  },
  {
   "cell_type": "code",
   "execution_count": 2,
   "metadata": {},
   "outputs": [
    {
     "data": {
      "application/vnd.jupyter.widget-view+json": {
       "model_id": "2d3be2c7e53c43a88c534c63827ccb02",
       "version_major": 2,
       "version_minor": 0
      },
      "text/plain": [
       "  0%|          | 0/4 [00:00<?, ?it/s]"
      ]
     },
     "metadata": {},
     "output_type": "display_data"
    },
    {
     "data": {
      "application/vnd.jupyter.widget-view+json": {
       "model_id": "7b5dff32c4174d76ae2ed7db58fa1ae5",
       "version_major": 2,
       "version_minor": 0
      },
      "text/plain": [
       "  0%|          | 0/12 [00:00<?, ?it/s]"
      ]
     },
     "metadata": {},
     "output_type": "display_data"
    },
    {
     "name": "stdout",
     "output_type": "stream",
     "text": [
      "Training CTGAN: vanilla - ae_dim - 256_128 - embed_dim - 64 - gan_layers - 256_256 - dstep - 5 - pac - 8 - gan_lr - 1e-05 - gan_batch_epoch - 256_150 - ae_lr - 0.0001 - ae_batch_epoch - 256_50\n"
     ]
    },
    {
     "data": {
      "application/vnd.jupyter.widget-view+json": {
       "model_id": "6bad68c2746d408e8de0af30b391dca6",
       "version_major": 2,
       "version_minor": 0
      },
      "text/plain": [
       "AE Train:   0%|          | 0/50 [00:00<?, ?it/s]"
      ]
     },
     "metadata": {},
     "output_type": "display_data"
    },
    {
     "data": {
      "application/vnd.jupyter.widget-view+json": {
       "model_id": "b317657c5fd9422382603eefd4fd267f",
       "version_major": 2,
       "version_minor": 0
      },
      "text/plain": [
       "GAN Train:   0%|          | 0/150 [00:00<?, ?it/s]"
      ]
     },
     "metadata": {},
     "output_type": "display_data"
    },
    {
     "name": "stdout",
     "output_type": "stream",
     "text": [
      "Training Complete!\n",
      "Benchmarking on MLP100\n"
     ]
    },
    {
     "data": {
      "application/vnd.jupyter.widget-view+json": {
       "model_id": "0c38944124d34028805f846158108f3f",
       "version_major": 2,
       "version_minor": 0
      },
      "text/plain": [
       "  0%|          | 0/100 [00:00<?, ?it/s]"
      ]
     },
     "metadata": {},
     "output_type": "display_data"
    },
    {
     "data": {
      "application/vnd.jupyter.widget-view+json": {
       "model_id": "aecd5aad3d8943d1a24f193a717a8506",
       "version_major": 2,
       "version_minor": 0
      },
      "text/plain": [
       "  0%|          | 0/100 [00:00<?, ?it/s]"
      ]
     },
     "metadata": {},
     "output_type": "display_data"
    },
    {
     "data": {
      "application/vnd.jupyter.widget-view+json": {
       "model_id": "e052fd1b4c054ea9b0e8c4bf3d2a0eef",
       "version_major": 2,
       "version_minor": 0
      },
      "text/plain": [
       "  0%|          | 0/100 [00:00<?, ?it/s]"
      ]
     },
     "metadata": {},
     "output_type": "display_data"
    },
    {
     "name": "stdout",
     "output_type": "stream",
     "text": [
      "Benchmark Complete!\n",
      "Training CTGAN: vanilla - ae_dim - 256_128 - embed_dim - 64 - gan_layers - 256_256 - dstep - 5 - pac - 8 - gan_lr - 1e-05 - gan_batch_epoch - 256_150 - ae_lr - 0.0002 - ae_batch_epoch - 256_50\n"
     ]
    },
    {
     "data": {
      "application/vnd.jupyter.widget-view+json": {
       "model_id": "2a8bfb4c21244e70aac26b46a2b12428",
       "version_major": 2,
       "version_minor": 0
      },
      "text/plain": [
       "AE Train:   0%|          | 0/50 [00:00<?, ?it/s]"
      ]
     },
     "metadata": {},
     "output_type": "display_data"
    },
    {
     "data": {
      "application/vnd.jupyter.widget-view+json": {
       "model_id": "3621a492092640f2af9d4f9fb29d5680",
       "version_major": 2,
       "version_minor": 0
      },
      "text/plain": [
       "GAN Train:   0%|          | 0/150 [00:00<?, ?it/s]"
      ]
     },
     "metadata": {},
     "output_type": "display_data"
    },
    {
     "name": "stdout",
     "output_type": "stream",
     "text": [
      "Training Complete!\n",
      "Benchmarking on MLP100\n"
     ]
    },
    {
     "data": {
      "application/vnd.jupyter.widget-view+json": {
       "model_id": "07470cf3e4b64e209e4a13ff9999aa61",
       "version_major": 2,
       "version_minor": 0
      },
      "text/plain": [
       "  0%|          | 0/100 [00:00<?, ?it/s]"
      ]
     },
     "metadata": {},
     "output_type": "display_data"
    },
    {
     "data": {
      "application/vnd.jupyter.widget-view+json": {
       "model_id": "8f1a7799e2db47f0b8e29185ed7c5916",
       "version_major": 2,
       "version_minor": 0
      },
      "text/plain": [
       "  0%|          | 0/100 [00:00<?, ?it/s]"
      ]
     },
     "metadata": {},
     "output_type": "display_data"
    },
    {
     "data": {
      "application/vnd.jupyter.widget-view+json": {
       "model_id": "fea65c964c044ec0886109c52ba5637e",
       "version_major": 2,
       "version_minor": 0
      },
      "text/plain": [
       "  0%|          | 0/100 [00:00<?, ?it/s]"
      ]
     },
     "metadata": {},
     "output_type": "display_data"
    },
    {
     "name": "stdout",
     "output_type": "stream",
     "text": [
      "Benchmark Complete!\n",
      "Training CTGAN: vanilla - ae_dim - 256_128 - embed_dim - 64 - gan_layers - 256_256 - dstep - 5 - pac - 8 - gan_lr - 1e-05 - gan_batch_epoch - 256_150 - ae_lr - 0.001 - ae_batch_epoch - 256_50\n"
     ]
    },
    {
     "data": {
      "application/vnd.jupyter.widget-view+json": {
       "model_id": "47f86c19bbb540f99e0f941d421c1a3c",
       "version_major": 2,
       "version_minor": 0
      },
      "text/plain": [
       "AE Train:   0%|          | 0/50 [00:00<?, ?it/s]"
      ]
     },
     "metadata": {},
     "output_type": "display_data"
    },
    {
     "data": {
      "application/vnd.jupyter.widget-view+json": {
       "model_id": "c78cb7663e794de6aa18025e8524826d",
       "version_major": 2,
       "version_minor": 0
      },
      "text/plain": [
       "GAN Train:   0%|          | 0/150 [00:00<?, ?it/s]"
      ]
     },
     "metadata": {},
     "output_type": "display_data"
    },
    {
     "name": "stdout",
     "output_type": "stream",
     "text": [
      "Training Complete!\n",
      "Benchmarking on MLP100\n"
     ]
    },
    {
     "data": {
      "application/vnd.jupyter.widget-view+json": {
       "model_id": "f77f6acb16a142c1ac0876ebc5d86441",
       "version_major": 2,
       "version_minor": 0
      },
      "text/plain": [
       "  0%|          | 0/100 [00:00<?, ?it/s]"
      ]
     },
     "metadata": {},
     "output_type": "display_data"
    },
    {
     "data": {
      "application/vnd.jupyter.widget-view+json": {
       "model_id": "3199dbbb7cdb4697b83d5f2cf8b76b2a",
       "version_major": 2,
       "version_minor": 0
      },
      "text/plain": [
       "  0%|          | 0/100 [00:00<?, ?it/s]"
      ]
     },
     "metadata": {},
     "output_type": "display_data"
    },
    {
     "data": {
      "application/vnd.jupyter.widget-view+json": {
       "model_id": "9f4b6c59335c4c538aa6a557a9b7e855",
       "version_major": 2,
       "version_minor": 0
      },
      "text/plain": [
       "  0%|          | 0/100 [00:00<?, ?it/s]"
      ]
     },
     "metadata": {},
     "output_type": "display_data"
    },
    {
     "name": "stdout",
     "output_type": "stream",
     "text": [
      "Benchmark Complete!\n",
      "Training CTGAN: vanilla - ae_dim - 256_128 - embed_dim - 64 - gan_layers - 256_256 - dstep - 5 - pac - 8 - gan_lr - 1e-05 - gan_batch_epoch - 512_300 - ae_lr - 0.0001 - ae_batch_epoch - 512_100\n"
     ]
    },
    {
     "data": {
      "application/vnd.jupyter.widget-view+json": {
       "model_id": "bfde35deff144916b4afac0b760d6e7a",
       "version_major": 2,
       "version_minor": 0
      },
      "text/plain": [
       "AE Train:   0%|          | 0/100 [00:00<?, ?it/s]"
      ]
     },
     "metadata": {},
     "output_type": "display_data"
    },
    {
     "data": {
      "application/vnd.jupyter.widget-view+json": {
       "model_id": "469e35d4df4840869dc1b336145ad996",
       "version_major": 2,
       "version_minor": 0
      },
      "text/plain": [
       "GAN Train:   0%|          | 0/300 [00:00<?, ?it/s]"
      ]
     },
     "metadata": {},
     "output_type": "display_data"
    },
    {
     "name": "stdout",
     "output_type": "stream",
     "text": [
      "Training Complete!\n",
      "Benchmarking on MLP100\n"
     ]
    },
    {
     "data": {
      "application/vnd.jupyter.widget-view+json": {
       "model_id": "9f9075e3a1a74c3a91375224ab1820b2",
       "version_major": 2,
       "version_minor": 0
      },
      "text/plain": [
       "  0%|          | 0/100 [00:00<?, ?it/s]"
      ]
     },
     "metadata": {},
     "output_type": "display_data"
    },
    {
     "data": {
      "application/vnd.jupyter.widget-view+json": {
       "model_id": "91efe7d7354e4fcea1ab3bfd874ef037",
       "version_major": 2,
       "version_minor": 0
      },
      "text/plain": [
       "  0%|          | 0/100 [00:00<?, ?it/s]"
      ]
     },
     "metadata": {},
     "output_type": "display_data"
    },
    {
     "data": {
      "application/vnd.jupyter.widget-view+json": {
       "model_id": "a2cb3ea3280c4dfbbb426a7633742b92",
       "version_major": 2,
       "version_minor": 0
      },
      "text/plain": [
       "  0%|          | 0/100 [00:00<?, ?it/s]"
      ]
     },
     "metadata": {},
     "output_type": "display_data"
    },
    {
     "name": "stdout",
     "output_type": "stream",
     "text": [
      "Benchmark Complete!\n",
      "Training CTGAN: vanilla - ae_dim - 256_128 - embed_dim - 64 - gan_layers - 256_256 - dstep - 5 - pac - 8 - gan_lr - 1e-05 - gan_batch_epoch - 512_300 - ae_lr - 0.0002 - ae_batch_epoch - 512_100\n"
     ]
    },
    {
     "data": {
      "application/vnd.jupyter.widget-view+json": {
       "model_id": "1264c8f24d274213823ec734b03b70e7",
       "version_major": 2,
       "version_minor": 0
      },
      "text/plain": [
       "AE Train:   0%|          | 0/100 [00:00<?, ?it/s]"
      ]
     },
     "metadata": {},
     "output_type": "display_data"
    },
    {
     "data": {
      "application/vnd.jupyter.widget-view+json": {
       "model_id": "4255d622f9b749e282dada809a3704dc",
       "version_major": 2,
       "version_minor": 0
      },
      "text/plain": [
       "GAN Train:   0%|          | 0/300 [00:00<?, ?it/s]"
      ]
     },
     "metadata": {},
     "output_type": "display_data"
    },
    {
     "name": "stdout",
     "output_type": "stream",
     "text": [
      "Training Complete!\n",
      "Benchmarking on MLP100\n"
     ]
    },
    {
     "data": {
      "application/vnd.jupyter.widget-view+json": {
       "model_id": "87dfef4740114d419d6f6330f27bd101",
       "version_major": 2,
       "version_minor": 0
      },
      "text/plain": [
       "  0%|          | 0/100 [00:00<?, ?it/s]"
      ]
     },
     "metadata": {},
     "output_type": "display_data"
    },
    {
     "data": {
      "application/vnd.jupyter.widget-view+json": {
       "model_id": "03a8484725484ed8bcb55d3c60b66a38",
       "version_major": 2,
       "version_minor": 0
      },
      "text/plain": [
       "  0%|          | 0/100 [00:00<?, ?it/s]"
      ]
     },
     "metadata": {},
     "output_type": "display_data"
    },
    {
     "data": {
      "application/vnd.jupyter.widget-view+json": {
       "model_id": "7945cb181cb74dc09ebdc2021a42181b",
       "version_major": 2,
       "version_minor": 0
      },
      "text/plain": [
       "  0%|          | 0/100 [00:00<?, ?it/s]"
      ]
     },
     "metadata": {},
     "output_type": "display_data"
    },
    {
     "name": "stdout",
     "output_type": "stream",
     "text": [
      "Benchmark Complete!\n",
      "Training CTGAN: vanilla - ae_dim - 256_128 - embed_dim - 64 - gan_layers - 256_256 - dstep - 5 - pac - 8 - gan_lr - 1e-05 - gan_batch_epoch - 512_300 - ae_lr - 0.001 - ae_batch_epoch - 512_100\n"
     ]
    },
    {
     "data": {
      "application/vnd.jupyter.widget-view+json": {
       "model_id": "1d7da0a128de4a8c9b5451730b5e4548",
       "version_major": 2,
       "version_minor": 0
      },
      "text/plain": [
       "AE Train:   0%|          | 0/100 [00:00<?, ?it/s]"
      ]
     },
     "metadata": {},
     "output_type": "display_data"
    },
    {
     "data": {
      "application/vnd.jupyter.widget-view+json": {
       "model_id": "0748927e043c4cb4af20e927c66bf0c8",
       "version_major": 2,
       "version_minor": 0
      },
      "text/plain": [
       "GAN Train:   0%|          | 0/300 [00:00<?, ?it/s]"
      ]
     },
     "metadata": {},
     "output_type": "display_data"
    },
    {
     "name": "stdout",
     "output_type": "stream",
     "text": [
      "Training Complete!\n",
      "Benchmarking on MLP100\n"
     ]
    },
    {
     "data": {
      "application/vnd.jupyter.widget-view+json": {
       "model_id": "5c2d058fe9b84b839e8492beff4972c1",
       "version_major": 2,
       "version_minor": 0
      },
      "text/plain": [
       "  0%|          | 0/100 [00:00<?, ?it/s]"
      ]
     },
     "metadata": {},
     "output_type": "display_data"
    },
    {
     "data": {
      "application/vnd.jupyter.widget-view+json": {
       "model_id": "4ef556d2659641d4a7444fd2332c6aa2",
       "version_major": 2,
       "version_minor": 0
      },
      "text/plain": [
       "  0%|          | 0/100 [00:00<?, ?it/s]"
      ]
     },
     "metadata": {},
     "output_type": "display_data"
    },
    {
     "data": {
      "application/vnd.jupyter.widget-view+json": {
       "model_id": "e8a8367205fc4b09874a94605bcc0268",
       "version_major": 2,
       "version_minor": 0
      },
      "text/plain": [
       "  0%|          | 0/100 [00:00<?, ?it/s]"
      ]
     },
     "metadata": {},
     "output_type": "display_data"
    },
    {
     "name": "stdout",
     "output_type": "stream",
     "text": [
      "Benchmark Complete!\n",
      "Training CTGAN: vanilla - ae_dim - 256_128 - embed_dim - 64 - gan_layers - 256_256 - dstep - 5 - pac - 8 - gan_lr - 0.0002 - gan_batch_epoch - 256_150 - ae_lr - 0.0001 - ae_batch_epoch - 256_50\n"
     ]
    },
    {
     "data": {
      "application/vnd.jupyter.widget-view+json": {
       "model_id": "4d74db542e08454581452b39a6a9db20",
       "version_major": 2,
       "version_minor": 0
      },
      "text/plain": [
       "AE Train:   0%|          | 0/50 [00:00<?, ?it/s]"
      ]
     },
     "metadata": {},
     "output_type": "display_data"
    },
    {
     "data": {
      "application/vnd.jupyter.widget-view+json": {
       "model_id": "3922f60162ef40459cef703be4c7fbd3",
       "version_major": 2,
       "version_minor": 0
      },
      "text/plain": [
       "GAN Train:   0%|          | 0/150 [00:00<?, ?it/s]"
      ]
     },
     "metadata": {},
     "output_type": "display_data"
    },
    {
     "name": "stdout",
     "output_type": "stream",
     "text": [
      "Training Complete!\n",
      "Benchmarking on MLP100\n"
     ]
    },
    {
     "data": {
      "application/vnd.jupyter.widget-view+json": {
       "model_id": "74fea58c43094d7a9195f31b3ce0892d",
       "version_major": 2,
       "version_minor": 0
      },
      "text/plain": [
       "  0%|          | 0/100 [00:00<?, ?it/s]"
      ]
     },
     "metadata": {},
     "output_type": "display_data"
    },
    {
     "data": {
      "application/vnd.jupyter.widget-view+json": {
       "model_id": "d4f405c373f74e689ce262574785520d",
       "version_major": 2,
       "version_minor": 0
      },
      "text/plain": [
       "  0%|          | 0/100 [00:00<?, ?it/s]"
      ]
     },
     "metadata": {},
     "output_type": "display_data"
    },
    {
     "data": {
      "application/vnd.jupyter.widget-view+json": {
       "model_id": "6c4b7ae4c83848508cb35a91aeb60f3e",
       "version_major": 2,
       "version_minor": 0
      },
      "text/plain": [
       "  0%|          | 0/100 [00:00<?, ?it/s]"
      ]
     },
     "metadata": {},
     "output_type": "display_data"
    },
    {
     "name": "stdout",
     "output_type": "stream",
     "text": [
      "Benchmark Complete!\n",
      "Training CTGAN: vanilla - ae_dim - 256_128 - embed_dim - 64 - gan_layers - 256_256 - dstep - 5 - pac - 8 - gan_lr - 0.0002 - gan_batch_epoch - 256_150 - ae_lr - 0.0002 - ae_batch_epoch - 256_50\n"
     ]
    },
    {
     "data": {
      "application/vnd.jupyter.widget-view+json": {
       "model_id": "bf331a592b4244ac9817e311282f5dc3",
       "version_major": 2,
       "version_minor": 0
      },
      "text/plain": [
       "AE Train:   0%|          | 0/50 [00:00<?, ?it/s]"
      ]
     },
     "metadata": {},
     "output_type": "display_data"
    },
    {
     "data": {
      "application/vnd.jupyter.widget-view+json": {
       "model_id": "334354fe359a401984ccc1d9e138d608",
       "version_major": 2,
       "version_minor": 0
      },
      "text/plain": [
       "GAN Train:   0%|          | 0/150 [00:00<?, ?it/s]"
      ]
     },
     "metadata": {},
     "output_type": "display_data"
    },
    {
     "name": "stdout",
     "output_type": "stream",
     "text": [
      "Training Complete!\n",
      "Benchmarking on MLP100\n"
     ]
    },
    {
     "data": {
      "application/vnd.jupyter.widget-view+json": {
       "model_id": "1185d64aef764ee28f48673bf1be8a4b",
       "version_major": 2,
       "version_minor": 0
      },
      "text/plain": [
       "  0%|          | 0/100 [00:00<?, ?it/s]"
      ]
     },
     "metadata": {},
     "output_type": "display_data"
    },
    {
     "data": {
      "application/vnd.jupyter.widget-view+json": {
       "model_id": "d8cba30dfb7c4e66a6a8bb13559a0245",
       "version_major": 2,
       "version_minor": 0
      },
      "text/plain": [
       "  0%|          | 0/100 [00:00<?, ?it/s]"
      ]
     },
     "metadata": {},
     "output_type": "display_data"
    },
    {
     "data": {
      "application/vnd.jupyter.widget-view+json": {
       "model_id": "45477c046cb64dfd91c6b55625440c8c",
       "version_major": 2,
       "version_minor": 0
      },
      "text/plain": [
       "  0%|          | 0/100 [00:00<?, ?it/s]"
      ]
     },
     "metadata": {},
     "output_type": "display_data"
    },
    {
     "name": "stdout",
     "output_type": "stream",
     "text": [
      "Benchmark Complete!\n",
      "Training CTGAN: vanilla - ae_dim - 256_128 - embed_dim - 64 - gan_layers - 256_256 - dstep - 5 - pac - 8 - gan_lr - 0.0002 - gan_batch_epoch - 256_150 - ae_lr - 0.001 - ae_batch_epoch - 256_50\n"
     ]
    },
    {
     "data": {
      "application/vnd.jupyter.widget-view+json": {
       "model_id": "0cd63aa1edf04ba486cad0e8effd09db",
       "version_major": 2,
       "version_minor": 0
      },
      "text/plain": [
       "AE Train:   0%|          | 0/50 [00:00<?, ?it/s]"
      ]
     },
     "metadata": {},
     "output_type": "display_data"
    },
    {
     "data": {
      "application/vnd.jupyter.widget-view+json": {
       "model_id": "b6a994a9fd4b4fbdb2fe4137b764328d",
       "version_major": 2,
       "version_minor": 0
      },
      "text/plain": [
       "GAN Train:   0%|          | 0/150 [00:00<?, ?it/s]"
      ]
     },
     "metadata": {},
     "output_type": "display_data"
    },
    {
     "name": "stdout",
     "output_type": "stream",
     "text": [
      "Training Complete!\n",
      "Benchmarking on MLP100\n"
     ]
    },
    {
     "data": {
      "application/vnd.jupyter.widget-view+json": {
       "model_id": "bfd0d43072ea49278e625fe81e0c2cde",
       "version_major": 2,
       "version_minor": 0
      },
      "text/plain": [
       "  0%|          | 0/100 [00:00<?, ?it/s]"
      ]
     },
     "metadata": {},
     "output_type": "display_data"
    },
    {
     "data": {
      "application/vnd.jupyter.widget-view+json": {
       "model_id": "66424bfceda549688ca9a6c8adca64dd",
       "version_major": 2,
       "version_minor": 0
      },
      "text/plain": [
       "  0%|          | 0/100 [00:00<?, ?it/s]"
      ]
     },
     "metadata": {},
     "output_type": "display_data"
    },
    {
     "data": {
      "application/vnd.jupyter.widget-view+json": {
       "model_id": "dc3dbbde9fb34c51b73b6f96721cdfa9",
       "version_major": 2,
       "version_minor": 0
      },
      "text/plain": [
       "  0%|          | 0/100 [00:00<?, ?it/s]"
      ]
     },
     "metadata": {},
     "output_type": "display_data"
    },
    {
     "name": "stdout",
     "output_type": "stream",
     "text": [
      "Benchmark Complete!\n",
      "Training CTGAN: vanilla - ae_dim - 256_128 - embed_dim - 64 - gan_layers - 256_256 - dstep - 5 - pac - 8 - gan_lr - 0.0002 - gan_batch_epoch - 512_300 - ae_lr - 0.0001 - ae_batch_epoch - 512_100\n"
     ]
    },
    {
     "data": {
      "application/vnd.jupyter.widget-view+json": {
       "model_id": "ac132778052e45d5ac1416e8d75d0129",
       "version_major": 2,
       "version_minor": 0
      },
      "text/plain": [
       "AE Train:   0%|          | 0/100 [00:00<?, ?it/s]"
      ]
     },
     "metadata": {},
     "output_type": "display_data"
    },
    {
     "data": {
      "application/vnd.jupyter.widget-view+json": {
       "model_id": "34c7e3c30f004497a96b3a0b321a237e",
       "version_major": 2,
       "version_minor": 0
      },
      "text/plain": [
       "GAN Train:   0%|          | 0/300 [00:00<?, ?it/s]"
      ]
     },
     "metadata": {},
     "output_type": "display_data"
    },
    {
     "name": "stdout",
     "output_type": "stream",
     "text": [
      "Training Complete!\n",
      "Benchmarking on MLP100\n"
     ]
    },
    {
     "data": {
      "application/vnd.jupyter.widget-view+json": {
       "model_id": "e80fba79539c412ab6f1cfed13af7372",
       "version_major": 2,
       "version_minor": 0
      },
      "text/plain": [
       "  0%|          | 0/100 [00:00<?, ?it/s]"
      ]
     },
     "metadata": {},
     "output_type": "display_data"
    },
    {
     "data": {
      "application/vnd.jupyter.widget-view+json": {
       "model_id": "c4392eb7ca724ad7bf4e0e4519ff05a4",
       "version_major": 2,
       "version_minor": 0
      },
      "text/plain": [
       "  0%|          | 0/100 [00:00<?, ?it/s]"
      ]
     },
     "metadata": {},
     "output_type": "display_data"
    },
    {
     "data": {
      "application/vnd.jupyter.widget-view+json": {
       "model_id": "51620f4dca49425791213efa63c1d4c1",
       "version_major": 2,
       "version_minor": 0
      },
      "text/plain": [
       "  0%|          | 0/100 [00:00<?, ?it/s]"
      ]
     },
     "metadata": {},
     "output_type": "display_data"
    },
    {
     "name": "stdout",
     "output_type": "stream",
     "text": [
      "Benchmark Complete!\n",
      "Training CTGAN: vanilla - ae_dim - 256_128 - embed_dim - 64 - gan_layers - 256_256 - dstep - 5 - pac - 8 - gan_lr - 0.0002 - gan_batch_epoch - 512_300 - ae_lr - 0.0002 - ae_batch_epoch - 512_100\n"
     ]
    },
    {
     "data": {
      "application/vnd.jupyter.widget-view+json": {
       "model_id": "d97355b8bc734fddb086c48ad23e319c",
       "version_major": 2,
       "version_minor": 0
      },
      "text/plain": [
       "AE Train:   0%|          | 0/100 [00:00<?, ?it/s]"
      ]
     },
     "metadata": {},
     "output_type": "display_data"
    },
    {
     "data": {
      "application/vnd.jupyter.widget-view+json": {
       "model_id": "dd3461d109864411ae2056fb5fd987a9",
       "version_major": 2,
       "version_minor": 0
      },
      "text/plain": [
       "GAN Train:   0%|          | 0/300 [00:00<?, ?it/s]"
      ]
     },
     "metadata": {},
     "output_type": "display_data"
    },
    {
     "name": "stdout",
     "output_type": "stream",
     "text": [
      "Training Complete!\n",
      "Benchmarking on MLP100\n"
     ]
    },
    {
     "data": {
      "application/vnd.jupyter.widget-view+json": {
       "model_id": "44c11cf51f2a48c9bbe1472776519f32",
       "version_major": 2,
       "version_minor": 0
      },
      "text/plain": [
       "  0%|          | 0/100 [00:00<?, ?it/s]"
      ]
     },
     "metadata": {},
     "output_type": "display_data"
    },
    {
     "data": {
      "application/vnd.jupyter.widget-view+json": {
       "model_id": "977eed93e3b44b29928d5463d052a1da",
       "version_major": 2,
       "version_minor": 0
      },
      "text/plain": [
       "  0%|          | 0/100 [00:00<?, ?it/s]"
      ]
     },
     "metadata": {},
     "output_type": "display_data"
    },
    {
     "data": {
      "application/vnd.jupyter.widget-view+json": {
       "model_id": "dc423ed3546642ecb51c06b3d7055a9d",
       "version_major": 2,
       "version_minor": 0
      },
      "text/plain": [
       "  0%|          | 0/100 [00:00<?, ?it/s]"
      ]
     },
     "metadata": {},
     "output_type": "display_data"
    },
    {
     "name": "stdout",
     "output_type": "stream",
     "text": [
      "Benchmark Complete!\n",
      "Training CTGAN: vanilla - ae_dim - 256_128 - embed_dim - 64 - gan_layers - 256_256 - dstep - 5 - pac - 8 - gan_lr - 0.0002 - gan_batch_epoch - 512_300 - ae_lr - 0.001 - ae_batch_epoch - 512_100\n"
     ]
    },
    {
     "data": {
      "application/vnd.jupyter.widget-view+json": {
       "model_id": "666dfe75689b423caf88e3bb844c6770",
       "version_major": 2,
       "version_minor": 0
      },
      "text/plain": [
       "AE Train:   0%|          | 0/100 [00:00<?, ?it/s]"
      ]
     },
     "metadata": {},
     "output_type": "display_data"
    },
    {
     "data": {
      "application/vnd.jupyter.widget-view+json": {
       "model_id": "c182047fb512432d98c53e4b5b53d358",
       "version_major": 2,
       "version_minor": 0
      },
      "text/plain": [
       "GAN Train:   0%|          | 0/300 [00:00<?, ?it/s]"
      ]
     },
     "metadata": {},
     "output_type": "display_data"
    },
    {
     "name": "stdout",
     "output_type": "stream",
     "text": [
      "Training Complete!\n",
      "Benchmarking on MLP100\n"
     ]
    },
    {
     "data": {
      "application/vnd.jupyter.widget-view+json": {
       "model_id": "2895c66c0eaa48219a81913cee6c8b14",
       "version_major": 2,
       "version_minor": 0
      },
      "text/plain": [
       "  0%|          | 0/100 [00:00<?, ?it/s]"
      ]
     },
     "metadata": {},
     "output_type": "display_data"
    },
    {
     "data": {
      "application/vnd.jupyter.widget-view+json": {
       "model_id": "76792f7e2eda404fbde875fb758a85e9",
       "version_major": 2,
       "version_minor": 0
      },
      "text/plain": [
       "  0%|          | 0/100 [00:00<?, ?it/s]"
      ]
     },
     "metadata": {},
     "output_type": "display_data"
    },
    {
     "data": {
      "application/vnd.jupyter.widget-view+json": {
       "model_id": "e12b6d8550044207bc23c60ad0a86b44",
       "version_major": 2,
       "version_minor": 0
      },
      "text/plain": [
       "  0%|          | 0/100 [00:00<?, ?it/s]"
      ]
     },
     "metadata": {},
     "output_type": "display_data"
    },
    {
     "name": "stdout",
     "output_type": "stream",
     "text": [
      "Benchmark Complete!\n"
     ]
    },
    {
     "data": {
      "application/vnd.jupyter.widget-view+json": {
       "model_id": "e487cdfa3f934cc280683e18f99e9583",
       "version_major": 2,
       "version_minor": 0
      },
      "text/plain": [
       "  0%|          | 0/12 [00:00<?, ?it/s]"
      ]
     },
     "metadata": {},
     "output_type": "display_data"
    },
    {
     "name": "stdout",
     "output_type": "stream",
     "text": [
      "Training CTGAN: denoising - ae_dim - 256_128 - embed_dim - 256 - gan_layers - 256_256 - dstep - 5 - pac - 8 - gan_lr - 1e-05 - gan_batch_epoch - 256_150 - ae_lr - 0.0001 - ae_batch_epoch - 256_50\n"
     ]
    },
    {
     "data": {
      "application/vnd.jupyter.widget-view+json": {
       "model_id": "a8c225aefd0d4e83ba2a818a6c711fee",
       "version_major": 2,
       "version_minor": 0
      },
      "text/plain": [
       "AE Train:   0%|          | 0/50 [00:00<?, ?it/s]"
      ]
     },
     "metadata": {},
     "output_type": "display_data"
    },
    {
     "data": {
      "application/vnd.jupyter.widget-view+json": {
       "model_id": "a07780c4b9ce4101b283c5c1b7a36be8",
       "version_major": 2,
       "version_minor": 0
      },
      "text/plain": [
       "GAN Train:   0%|          | 0/150 [00:00<?, ?it/s]"
      ]
     },
     "metadata": {},
     "output_type": "display_data"
    },
    {
     "name": "stdout",
     "output_type": "stream",
     "text": [
      "Training Complete!\n",
      "Benchmarking on MLP100\n"
     ]
    },
    {
     "data": {
      "application/vnd.jupyter.widget-view+json": {
       "model_id": "c9aa918e36984b93893fa15bad98610f",
       "version_major": 2,
       "version_minor": 0
      },
      "text/plain": [
       "  0%|          | 0/100 [00:00<?, ?it/s]"
      ]
     },
     "metadata": {},
     "output_type": "display_data"
    },
    {
     "data": {
      "application/vnd.jupyter.widget-view+json": {
       "model_id": "257a7650701f4ffd80af1d203a527d37",
       "version_major": 2,
       "version_minor": 0
      },
      "text/plain": [
       "  0%|          | 0/100 [00:00<?, ?it/s]"
      ]
     },
     "metadata": {},
     "output_type": "display_data"
    },
    {
     "data": {
      "application/vnd.jupyter.widget-view+json": {
       "model_id": "5a3290dcaf064e7f82183a6ec646b35a",
       "version_major": 2,
       "version_minor": 0
      },
      "text/plain": [
       "  0%|          | 0/100 [00:00<?, ?it/s]"
      ]
     },
     "metadata": {},
     "output_type": "display_data"
    },
    {
     "name": "stdout",
     "output_type": "stream",
     "text": [
      "Benchmark Complete!\n",
      "Training CTGAN: denoising - ae_dim - 256_128 - embed_dim - 256 - gan_layers - 256_256 - dstep - 5 - pac - 8 - gan_lr - 1e-05 - gan_batch_epoch - 256_150 - ae_lr - 0.0002 - ae_batch_epoch - 256_50\n"
     ]
    },
    {
     "data": {
      "application/vnd.jupyter.widget-view+json": {
       "model_id": "bda1c28105344b6c9918785b6f691741",
       "version_major": 2,
       "version_minor": 0
      },
      "text/plain": [
       "AE Train:   0%|          | 0/50 [00:00<?, ?it/s]"
      ]
     },
     "metadata": {},
     "output_type": "display_data"
    },
    {
     "data": {
      "application/vnd.jupyter.widget-view+json": {
       "model_id": "b2614c18383c472b9eb198883b6f7dbf",
       "version_major": 2,
       "version_minor": 0
      },
      "text/plain": [
       "GAN Train:   0%|          | 0/150 [00:00<?, ?it/s]"
      ]
     },
     "metadata": {},
     "output_type": "display_data"
    },
    {
     "name": "stdout",
     "output_type": "stream",
     "text": [
      "Training Complete!\n",
      "Benchmarking on MLP100\n"
     ]
    },
    {
     "data": {
      "application/vnd.jupyter.widget-view+json": {
       "model_id": "45b0326efbca43acbc30f44d511dae25",
       "version_major": 2,
       "version_minor": 0
      },
      "text/plain": [
       "  0%|          | 0/100 [00:00<?, ?it/s]"
      ]
     },
     "metadata": {},
     "output_type": "display_data"
    },
    {
     "data": {
      "application/vnd.jupyter.widget-view+json": {
       "model_id": "ea96331ba32445d594f24873fb2b0753",
       "version_major": 2,
       "version_minor": 0
      },
      "text/plain": [
       "  0%|          | 0/100 [00:00<?, ?it/s]"
      ]
     },
     "metadata": {},
     "output_type": "display_data"
    },
    {
     "data": {
      "application/vnd.jupyter.widget-view+json": {
       "model_id": "c1cb04a6ca184d8d98932644ea78660f",
       "version_major": 2,
       "version_minor": 0
      },
      "text/plain": [
       "  0%|          | 0/100 [00:00<?, ?it/s]"
      ]
     },
     "metadata": {},
     "output_type": "display_data"
    },
    {
     "name": "stdout",
     "output_type": "stream",
     "text": [
      "Benchmark Complete!\n",
      "Training CTGAN: denoising - ae_dim - 256_128 - embed_dim - 256 - gan_layers - 256_256 - dstep - 5 - pac - 8 - gan_lr - 1e-05 - gan_batch_epoch - 256_150 - ae_lr - 0.001 - ae_batch_epoch - 256_50\n"
     ]
    },
    {
     "data": {
      "application/vnd.jupyter.widget-view+json": {
       "model_id": "b1222dc974bc4a998ceb48f8aab5b1f8",
       "version_major": 2,
       "version_minor": 0
      },
      "text/plain": [
       "AE Train:   0%|          | 0/50 [00:00<?, ?it/s]"
      ]
     },
     "metadata": {},
     "output_type": "display_data"
    },
    {
     "data": {
      "application/vnd.jupyter.widget-view+json": {
       "model_id": "1ad687a49123453fb437dfa2058be16c",
       "version_major": 2,
       "version_minor": 0
      },
      "text/plain": [
       "GAN Train:   0%|          | 0/150 [00:00<?, ?it/s]"
      ]
     },
     "metadata": {},
     "output_type": "display_data"
    },
    {
     "name": "stdout",
     "output_type": "stream",
     "text": [
      "Training Complete!\n",
      "Benchmarking on MLP100\n"
     ]
    },
    {
     "data": {
      "application/vnd.jupyter.widget-view+json": {
       "model_id": "d8d233ed36514b65b9e00f81a308a1b3",
       "version_major": 2,
       "version_minor": 0
      },
      "text/plain": [
       "  0%|          | 0/100 [00:00<?, ?it/s]"
      ]
     },
     "metadata": {},
     "output_type": "display_data"
    },
    {
     "data": {
      "application/vnd.jupyter.widget-view+json": {
       "model_id": "c4595c85494b4af1869c15442013a714",
       "version_major": 2,
       "version_minor": 0
      },
      "text/plain": [
       "  0%|          | 0/100 [00:00<?, ?it/s]"
      ]
     },
     "metadata": {},
     "output_type": "display_data"
    },
    {
     "data": {
      "application/vnd.jupyter.widget-view+json": {
       "model_id": "77353ec7c83648d0b83d696b2341525a",
       "version_major": 2,
       "version_minor": 0
      },
      "text/plain": [
       "  0%|          | 0/100 [00:00<?, ?it/s]"
      ]
     },
     "metadata": {},
     "output_type": "display_data"
    },
    {
     "name": "stdout",
     "output_type": "stream",
     "text": [
      "Benchmark Complete!\n",
      "Training CTGAN: denoising - ae_dim - 256_128 - embed_dim - 256 - gan_layers - 256_256 - dstep - 5 - pac - 8 - gan_lr - 1e-05 - gan_batch_epoch - 512_300 - ae_lr - 0.0001 - ae_batch_epoch - 512_100\n"
     ]
    },
    {
     "data": {
      "application/vnd.jupyter.widget-view+json": {
       "model_id": "98fc44eae6c94e2b8dc08f8ecdc07a0b",
       "version_major": 2,
       "version_minor": 0
      },
      "text/plain": [
       "AE Train:   0%|          | 0/100 [00:00<?, ?it/s]"
      ]
     },
     "metadata": {},
     "output_type": "display_data"
    },
    {
     "data": {
      "application/vnd.jupyter.widget-view+json": {
       "model_id": "640aaca68b564d2ea8264a3e3ced1a38",
       "version_major": 2,
       "version_minor": 0
      },
      "text/plain": [
       "GAN Train:   0%|          | 0/300 [00:00<?, ?it/s]"
      ]
     },
     "metadata": {},
     "output_type": "display_data"
    },
    {
     "name": "stdout",
     "output_type": "stream",
     "text": [
      "Training Complete!\n",
      "Benchmarking on MLP100\n"
     ]
    },
    {
     "data": {
      "application/vnd.jupyter.widget-view+json": {
       "model_id": "2122549ff1c34ab4b0ea4aa1be2a3889",
       "version_major": 2,
       "version_minor": 0
      },
      "text/plain": [
       "  0%|          | 0/100 [00:00<?, ?it/s]"
      ]
     },
     "metadata": {},
     "output_type": "display_data"
    },
    {
     "data": {
      "application/vnd.jupyter.widget-view+json": {
       "model_id": "d46c6b33a1984bd59d7be6cafd640afa",
       "version_major": 2,
       "version_minor": 0
      },
      "text/plain": [
       "  0%|          | 0/100 [00:00<?, ?it/s]"
      ]
     },
     "metadata": {},
     "output_type": "display_data"
    },
    {
     "data": {
      "application/vnd.jupyter.widget-view+json": {
       "model_id": "02360a1d4f99464c8c0ac92a21483bf3",
       "version_major": 2,
       "version_minor": 0
      },
      "text/plain": [
       "  0%|          | 0/100 [00:00<?, ?it/s]"
      ]
     },
     "metadata": {},
     "output_type": "display_data"
    },
    {
     "name": "stdout",
     "output_type": "stream",
     "text": [
      "Benchmark Complete!\n",
      "Training CTGAN: denoising - ae_dim - 256_128 - embed_dim - 256 - gan_layers - 256_256 - dstep - 5 - pac - 8 - gan_lr - 1e-05 - gan_batch_epoch - 512_300 - ae_lr - 0.0002 - ae_batch_epoch - 512_100\n"
     ]
    },
    {
     "data": {
      "application/vnd.jupyter.widget-view+json": {
       "model_id": "3b03bec6334845da967143fb2d098eb6",
       "version_major": 2,
       "version_minor": 0
      },
      "text/plain": [
       "AE Train:   0%|          | 0/100 [00:00<?, ?it/s]"
      ]
     },
     "metadata": {},
     "output_type": "display_data"
    },
    {
     "data": {
      "application/vnd.jupyter.widget-view+json": {
       "model_id": "43ae7e2ab9b9491793bc91ef4057bfc5",
       "version_major": 2,
       "version_minor": 0
      },
      "text/plain": [
       "GAN Train:   0%|          | 0/300 [00:00<?, ?it/s]"
      ]
     },
     "metadata": {},
     "output_type": "display_data"
    },
    {
     "name": "stdout",
     "output_type": "stream",
     "text": [
      "Training Complete!\n",
      "Benchmarking on MLP100\n"
     ]
    },
    {
     "data": {
      "application/vnd.jupyter.widget-view+json": {
       "model_id": "ff37307bcea64c87ab7c5e72d04aae11",
       "version_major": 2,
       "version_minor": 0
      },
      "text/plain": [
       "  0%|          | 0/100 [00:00<?, ?it/s]"
      ]
     },
     "metadata": {},
     "output_type": "display_data"
    },
    {
     "data": {
      "application/vnd.jupyter.widget-view+json": {
       "model_id": "4d35d14dacfc4d979774afee36d1d74e",
       "version_major": 2,
       "version_minor": 0
      },
      "text/plain": [
       "  0%|          | 0/100 [00:00<?, ?it/s]"
      ]
     },
     "metadata": {},
     "output_type": "display_data"
    },
    {
     "data": {
      "application/vnd.jupyter.widget-view+json": {
       "model_id": "74443736b80749089b19cf69a21daed0",
       "version_major": 2,
       "version_minor": 0
      },
      "text/plain": [
       "  0%|          | 0/100 [00:00<?, ?it/s]"
      ]
     },
     "metadata": {},
     "output_type": "display_data"
    },
    {
     "name": "stdout",
     "output_type": "stream",
     "text": [
      "Benchmark Complete!\n",
      "Training CTGAN: denoising - ae_dim - 256_128 - embed_dim - 256 - gan_layers - 256_256 - dstep - 5 - pac - 8 - gan_lr - 1e-05 - gan_batch_epoch - 512_300 - ae_lr - 0.001 - ae_batch_epoch - 512_100\n"
     ]
    },
    {
     "data": {
      "application/vnd.jupyter.widget-view+json": {
       "model_id": "e1dd82bb2f6546fd8366612b3319d647",
       "version_major": 2,
       "version_minor": 0
      },
      "text/plain": [
       "AE Train:   0%|          | 0/100 [00:00<?, ?it/s]"
      ]
     },
     "metadata": {},
     "output_type": "display_data"
    },
    {
     "data": {
      "application/vnd.jupyter.widget-view+json": {
       "model_id": "5268dfccb3ce4b669cf8ce4ead4e4dc6",
       "version_major": 2,
       "version_minor": 0
      },
      "text/plain": [
       "GAN Train:   0%|          | 0/300 [00:00<?, ?it/s]"
      ]
     },
     "metadata": {},
     "output_type": "display_data"
    },
    {
     "name": "stdout",
     "output_type": "stream",
     "text": [
      "Training Complete!\n",
      "Benchmarking on MLP100\n"
     ]
    },
    {
     "data": {
      "application/vnd.jupyter.widget-view+json": {
       "model_id": "07028881764c48beb11d7f41d8a2cd27",
       "version_major": 2,
       "version_minor": 0
      },
      "text/plain": [
       "  0%|          | 0/100 [00:00<?, ?it/s]"
      ]
     },
     "metadata": {},
     "output_type": "display_data"
    },
    {
     "data": {
      "application/vnd.jupyter.widget-view+json": {
       "model_id": "0cadca333a014c01898990218050e29a",
       "version_major": 2,
       "version_minor": 0
      },
      "text/plain": [
       "  0%|          | 0/100 [00:00<?, ?it/s]"
      ]
     },
     "metadata": {},
     "output_type": "display_data"
    },
    {
     "data": {
      "application/vnd.jupyter.widget-view+json": {
       "model_id": "3ce67d1f2d66483fb3f1e02c30c97fbf",
       "version_major": 2,
       "version_minor": 0
      },
      "text/plain": [
       "  0%|          | 0/100 [00:00<?, ?it/s]"
      ]
     },
     "metadata": {},
     "output_type": "display_data"
    },
    {
     "name": "stdout",
     "output_type": "stream",
     "text": [
      "Benchmark Complete!\n",
      "Training CTGAN: denoising - ae_dim - 256_128 - embed_dim - 256 - gan_layers - 256_256 - dstep - 5 - pac - 8 - gan_lr - 0.0002 - gan_batch_epoch - 256_150 - ae_lr - 0.0001 - ae_batch_epoch - 256_50\n"
     ]
    },
    {
     "data": {
      "application/vnd.jupyter.widget-view+json": {
       "model_id": "534e01b2308d49669aab2f9f8afeb40f",
       "version_major": 2,
       "version_minor": 0
      },
      "text/plain": [
       "AE Train:   0%|          | 0/50 [00:00<?, ?it/s]"
      ]
     },
     "metadata": {},
     "output_type": "display_data"
    },
    {
     "data": {
      "application/vnd.jupyter.widget-view+json": {
       "model_id": "3140a652b4534c759085c5f613463fb4",
       "version_major": 2,
       "version_minor": 0
      },
      "text/plain": [
       "GAN Train:   0%|          | 0/150 [00:00<?, ?it/s]"
      ]
     },
     "metadata": {},
     "output_type": "display_data"
    },
    {
     "name": "stdout",
     "output_type": "stream",
     "text": [
      "Training Complete!\n",
      "Benchmarking on MLP100\n"
     ]
    },
    {
     "data": {
      "application/vnd.jupyter.widget-view+json": {
       "model_id": "4715b8ccced14113b09b22d2bcbc9c94",
       "version_major": 2,
       "version_minor": 0
      },
      "text/plain": [
       "  0%|          | 0/100 [00:00<?, ?it/s]"
      ]
     },
     "metadata": {},
     "output_type": "display_data"
    },
    {
     "data": {
      "application/vnd.jupyter.widget-view+json": {
       "model_id": "d316aae27cdf49148fff511dc986db83",
       "version_major": 2,
       "version_minor": 0
      },
      "text/plain": [
       "  0%|          | 0/100 [00:00<?, ?it/s]"
      ]
     },
     "metadata": {},
     "output_type": "display_data"
    },
    {
     "data": {
      "application/vnd.jupyter.widget-view+json": {
       "model_id": "7ae7d5411ed4450680db52b31e6a908c",
       "version_major": 2,
       "version_minor": 0
      },
      "text/plain": [
       "  0%|          | 0/100 [00:00<?, ?it/s]"
      ]
     },
     "metadata": {},
     "output_type": "display_data"
    },
    {
     "name": "stdout",
     "output_type": "stream",
     "text": [
      "Benchmark Complete!\n",
      "Training CTGAN: denoising - ae_dim - 256_128 - embed_dim - 256 - gan_layers - 256_256 - dstep - 5 - pac - 8 - gan_lr - 0.0002 - gan_batch_epoch - 256_150 - ae_lr - 0.0002 - ae_batch_epoch - 256_50\n"
     ]
    },
    {
     "data": {
      "application/vnd.jupyter.widget-view+json": {
       "model_id": "d1a64a18407a47e59d31cdfc1117145b",
       "version_major": 2,
       "version_minor": 0
      },
      "text/plain": [
       "AE Train:   0%|          | 0/50 [00:00<?, ?it/s]"
      ]
     },
     "metadata": {},
     "output_type": "display_data"
    },
    {
     "data": {
      "application/vnd.jupyter.widget-view+json": {
       "model_id": "a373bd3b199c445fb41ff19471460718",
       "version_major": 2,
       "version_minor": 0
      },
      "text/plain": [
       "GAN Train:   0%|          | 0/150 [00:00<?, ?it/s]"
      ]
     },
     "metadata": {},
     "output_type": "display_data"
    },
    {
     "name": "stdout",
     "output_type": "stream",
     "text": [
      "Training Complete!\n",
      "Benchmarking on MLP100\n"
     ]
    },
    {
     "data": {
      "application/vnd.jupyter.widget-view+json": {
       "model_id": "9e1610fa8a344ffca019624e5b380e7a",
       "version_major": 2,
       "version_minor": 0
      },
      "text/plain": [
       "  0%|          | 0/100 [00:00<?, ?it/s]"
      ]
     },
     "metadata": {},
     "output_type": "display_data"
    },
    {
     "data": {
      "application/vnd.jupyter.widget-view+json": {
       "model_id": "c4322769bbd4452f83b6ceb9945c767b",
       "version_major": 2,
       "version_minor": 0
      },
      "text/plain": [
       "  0%|          | 0/100 [00:00<?, ?it/s]"
      ]
     },
     "metadata": {},
     "output_type": "display_data"
    },
    {
     "data": {
      "application/vnd.jupyter.widget-view+json": {
       "model_id": "712a103177a34c2ebf79b58efa5e3d90",
       "version_major": 2,
       "version_minor": 0
      },
      "text/plain": [
       "  0%|          | 0/100 [00:00<?, ?it/s]"
      ]
     },
     "metadata": {},
     "output_type": "display_data"
    },
    {
     "name": "stdout",
     "output_type": "stream",
     "text": [
      "Benchmark Complete!\n",
      "Training CTGAN: denoising - ae_dim - 256_128 - embed_dim - 256 - gan_layers - 256_256 - dstep - 5 - pac - 8 - gan_lr - 0.0002 - gan_batch_epoch - 256_150 - ae_lr - 0.001 - ae_batch_epoch - 256_50\n"
     ]
    },
    {
     "data": {
      "application/vnd.jupyter.widget-view+json": {
       "model_id": "26896c75eace410aa2f10978321d3677",
       "version_major": 2,
       "version_minor": 0
      },
      "text/plain": [
       "AE Train:   0%|          | 0/50 [00:00<?, ?it/s]"
      ]
     },
     "metadata": {},
     "output_type": "display_data"
    },
    {
     "data": {
      "application/vnd.jupyter.widget-view+json": {
       "model_id": "fdcf6cc9b8954559bbb2be37f68ef8e5",
       "version_major": 2,
       "version_minor": 0
      },
      "text/plain": [
       "GAN Train:   0%|          | 0/150 [00:00<?, ?it/s]"
      ]
     },
     "metadata": {},
     "output_type": "display_data"
    },
    {
     "name": "stdout",
     "output_type": "stream",
     "text": [
      "Training Complete!\n",
      "Benchmarking on MLP100\n"
     ]
    },
    {
     "data": {
      "application/vnd.jupyter.widget-view+json": {
       "model_id": "934ae958fe43463baf0cccdbf2527f56",
       "version_major": 2,
       "version_minor": 0
      },
      "text/plain": [
       "  0%|          | 0/100 [00:00<?, ?it/s]"
      ]
     },
     "metadata": {},
     "output_type": "display_data"
    },
    {
     "data": {
      "application/vnd.jupyter.widget-view+json": {
       "model_id": "1b8e313577cc4469a07c29e95e96f17f",
       "version_major": 2,
       "version_minor": 0
      },
      "text/plain": [
       "  0%|          | 0/100 [00:00<?, ?it/s]"
      ]
     },
     "metadata": {},
     "output_type": "display_data"
    },
    {
     "data": {
      "application/vnd.jupyter.widget-view+json": {
       "model_id": "3432b5c4748146cea073aef7f48677fa",
       "version_major": 2,
       "version_minor": 0
      },
      "text/plain": [
       "  0%|          | 0/100 [00:00<?, ?it/s]"
      ]
     },
     "metadata": {},
     "output_type": "display_data"
    },
    {
     "name": "stdout",
     "output_type": "stream",
     "text": [
      "Benchmark Complete!\n",
      "Training CTGAN: denoising - ae_dim - 256_128 - embed_dim - 256 - gan_layers - 256_256 - dstep - 5 - pac - 8 - gan_lr - 0.0002 - gan_batch_epoch - 512_300 - ae_lr - 0.0001 - ae_batch_epoch - 512_100\n"
     ]
    },
    {
     "data": {
      "application/vnd.jupyter.widget-view+json": {
       "model_id": "c053f5b2573444f1a6969cf4e4c9eb7a",
       "version_major": 2,
       "version_minor": 0
      },
      "text/plain": [
       "AE Train:   0%|          | 0/100 [00:00<?, ?it/s]"
      ]
     },
     "metadata": {},
     "output_type": "display_data"
    },
    {
     "data": {
      "application/vnd.jupyter.widget-view+json": {
       "model_id": "5b504dd892fb4e58a810bd796beed880",
       "version_major": 2,
       "version_minor": 0
      },
      "text/plain": [
       "GAN Train:   0%|          | 0/300 [00:00<?, ?it/s]"
      ]
     },
     "metadata": {},
     "output_type": "display_data"
    },
    {
     "name": "stdout",
     "output_type": "stream",
     "text": [
      "Training Complete!\n",
      "Benchmarking on MLP100\n"
     ]
    },
    {
     "data": {
      "application/vnd.jupyter.widget-view+json": {
       "model_id": "b9cf78fa73374ee7be10ae571a98b531",
       "version_major": 2,
       "version_minor": 0
      },
      "text/plain": [
       "  0%|          | 0/100 [00:00<?, ?it/s]"
      ]
     },
     "metadata": {},
     "output_type": "display_data"
    },
    {
     "data": {
      "application/vnd.jupyter.widget-view+json": {
       "model_id": "c3a52d80d2754a30bc961c2f769fd57c",
       "version_major": 2,
       "version_minor": 0
      },
      "text/plain": [
       "  0%|          | 0/100 [00:00<?, ?it/s]"
      ]
     },
     "metadata": {},
     "output_type": "display_data"
    },
    {
     "data": {
      "application/vnd.jupyter.widget-view+json": {
       "model_id": "6bf1d7aeebb5417ab9cce2f3b9bd9ee0",
       "version_major": 2,
       "version_minor": 0
      },
      "text/plain": [
       "  0%|          | 0/100 [00:00<?, ?it/s]"
      ]
     },
     "metadata": {},
     "output_type": "display_data"
    },
    {
     "name": "stdout",
     "output_type": "stream",
     "text": [
      "Benchmark Complete!\n",
      "Training CTGAN: denoising - ae_dim - 256_128 - embed_dim - 256 - gan_layers - 256_256 - dstep - 5 - pac - 8 - gan_lr - 0.0002 - gan_batch_epoch - 512_300 - ae_lr - 0.0002 - ae_batch_epoch - 512_100\n"
     ]
    },
    {
     "data": {
      "application/vnd.jupyter.widget-view+json": {
       "model_id": "956f9ec27ed34b1395d8bcf73ebb9e2f",
       "version_major": 2,
       "version_minor": 0
      },
      "text/plain": [
       "AE Train:   0%|          | 0/100 [00:00<?, ?it/s]"
      ]
     },
     "metadata": {},
     "output_type": "display_data"
    },
    {
     "data": {
      "application/vnd.jupyter.widget-view+json": {
       "model_id": "c47656365cb5408eb035a4ae77357799",
       "version_major": 2,
       "version_minor": 0
      },
      "text/plain": [
       "GAN Train:   0%|          | 0/300 [00:00<?, ?it/s]"
      ]
     },
     "metadata": {},
     "output_type": "display_data"
    },
    {
     "name": "stdout",
     "output_type": "stream",
     "text": [
      "Training Complete!\n",
      "Benchmarking on MLP100\n"
     ]
    },
    {
     "data": {
      "application/vnd.jupyter.widget-view+json": {
       "model_id": "c48fd52e4cac4de0870abb9871d29f44",
       "version_major": 2,
       "version_minor": 0
      },
      "text/plain": [
       "  0%|          | 0/100 [00:00<?, ?it/s]"
      ]
     },
     "metadata": {},
     "output_type": "display_data"
    },
    {
     "data": {
      "application/vnd.jupyter.widget-view+json": {
       "model_id": "17f0e1fc25674891b943ea3224256233",
       "version_major": 2,
       "version_minor": 0
      },
      "text/plain": [
       "  0%|          | 0/100 [00:00<?, ?it/s]"
      ]
     },
     "metadata": {},
     "output_type": "display_data"
    },
    {
     "data": {
      "application/vnd.jupyter.widget-view+json": {
       "model_id": "11f3bf519303477398b282568da18d34",
       "version_major": 2,
       "version_minor": 0
      },
      "text/plain": [
       "  0%|          | 0/100 [00:00<?, ?it/s]"
      ]
     },
     "metadata": {},
     "output_type": "display_data"
    },
    {
     "name": "stdout",
     "output_type": "stream",
     "text": [
      "Benchmark Complete!\n",
      "Training CTGAN: denoising - ae_dim - 256_128 - embed_dim - 256 - gan_layers - 256_256 - dstep - 5 - pac - 8 - gan_lr - 0.0002 - gan_batch_epoch - 512_300 - ae_lr - 0.001 - ae_batch_epoch - 512_100\n"
     ]
    },
    {
     "data": {
      "application/vnd.jupyter.widget-view+json": {
       "model_id": "df612093352149b4ab2b9248a1390645",
       "version_major": 2,
       "version_minor": 0
      },
      "text/plain": [
       "AE Train:   0%|          | 0/100 [00:00<?, ?it/s]"
      ]
     },
     "metadata": {},
     "output_type": "display_data"
    },
    {
     "data": {
      "application/vnd.jupyter.widget-view+json": {
       "model_id": "9c3d48e6320a4e23a697c9fdec3ac528",
       "version_major": 2,
       "version_minor": 0
      },
      "text/plain": [
       "GAN Train:   0%|          | 0/300 [00:00<?, ?it/s]"
      ]
     },
     "metadata": {},
     "output_type": "display_data"
    },
    {
     "name": "stdout",
     "output_type": "stream",
     "text": [
      "Training Complete!\n",
      "Benchmarking on MLP100\n"
     ]
    },
    {
     "data": {
      "application/vnd.jupyter.widget-view+json": {
       "model_id": "24c175efc7644f70bbedc28febe77355",
       "version_major": 2,
       "version_minor": 0
      },
      "text/plain": [
       "  0%|          | 0/100 [00:00<?, ?it/s]"
      ]
     },
     "metadata": {},
     "output_type": "display_data"
    },
    {
     "data": {
      "application/vnd.jupyter.widget-view+json": {
       "model_id": "9aef402381054db9ba7657a2bb7dd544",
       "version_major": 2,
       "version_minor": 0
      },
      "text/plain": [
       "  0%|          | 0/100 [00:00<?, ?it/s]"
      ]
     },
     "metadata": {},
     "output_type": "display_data"
    },
    {
     "data": {
      "application/vnd.jupyter.widget-view+json": {
       "model_id": "403d6155876b475ea1296806f4d911dd",
       "version_major": 2,
       "version_minor": 0
      },
      "text/plain": [
       "  0%|          | 0/100 [00:00<?, ?it/s]"
      ]
     },
     "metadata": {},
     "output_type": "display_data"
    },
    {
     "name": "stdout",
     "output_type": "stream",
     "text": [
      "Benchmark Complete!\n"
     ]
    },
    {
     "data": {
      "application/vnd.jupyter.widget-view+json": {
       "model_id": "8bc8537c298349edaebe3abfd1f20d80",
       "version_major": 2,
       "version_minor": 0
      },
      "text/plain": [
       "  0%|          | 0/12 [00:00<?, ?it/s]"
      ]
     },
     "metadata": {},
     "output_type": "display_data"
    },
    {
     "name": "stdout",
     "output_type": "stream",
     "text": [
      "Training CTGAN: vae - ae_dim - 256_128_64_32 - embed_dim - 64 - gan_layers - 256_256 - dstep - 5 - pac - 8 - gan_lr - 1e-05 - gan_batch_epoch - 256_150 - ae_lr - 0.0001 - ae_batch_epoch - 256_50\n"
     ]
    },
    {
     "data": {
      "application/vnd.jupyter.widget-view+json": {
       "model_id": "8787407a054a497baf5855d07f3c399e",
       "version_major": 2,
       "version_minor": 0
      },
      "text/plain": [
       "AE Train:   0%|          | 0/50 [00:00<?, ?it/s]"
      ]
     },
     "metadata": {},
     "output_type": "display_data"
    },
    {
     "data": {
      "application/vnd.jupyter.widget-view+json": {
       "model_id": "9533f66deefe4d56a5b22851d1578031",
       "version_major": 2,
       "version_minor": 0
      },
      "text/plain": [
       "GAN Train:   0%|          | 0/150 [00:00<?, ?it/s]"
      ]
     },
     "metadata": {},
     "output_type": "display_data"
    },
    {
     "name": "stdout",
     "output_type": "stream",
     "text": [
      "Training Complete!\n",
      "Benchmarking on MLP100\n"
     ]
    },
    {
     "name": "stderr",
     "output_type": "stream",
     "text": [
      "/home/y2k/CSC2516_Project/code/ctgan/utils.py:132: PerformanceWarning: DataFrame is highly fragmented.  This is usually the result of calling `frame.insert` many times, which has poor performance.  Consider joining all columns at once using pd.concat(axis=1) instead. To get a de-fragmented frame, use `newframe = frame.copy()`\n",
      "  fake_df[col_name] = 0\n",
      "/home/y2k/CSC2516_Project/code/ctgan/utils.py:132: PerformanceWarning: DataFrame is highly fragmented.  This is usually the result of calling `frame.insert` many times, which has poor performance.  Consider joining all columns at once using pd.concat(axis=1) instead. To get a de-fragmented frame, use `newframe = frame.copy()`\n",
      "  fake_df[col_name] = 0\n"
     ]
    },
    {
     "data": {
      "application/vnd.jupyter.widget-view+json": {
       "model_id": "deac583fcaaf4f348c8986a43fe917dc",
       "version_major": 2,
       "version_minor": 0
      },
      "text/plain": [
       "  0%|          | 0/100 [00:00<?, ?it/s]"
      ]
     },
     "metadata": {},
     "output_type": "display_data"
    },
    {
     "data": {
      "application/vnd.jupyter.widget-view+json": {
       "model_id": "af95fc61e46b43d1bcb28c0b6bfc8d85",
       "version_major": 2,
       "version_minor": 0
      },
      "text/plain": [
       "  0%|          | 0/100 [00:00<?, ?it/s]"
      ]
     },
     "metadata": {},
     "output_type": "display_data"
    },
    {
     "data": {
      "application/vnd.jupyter.widget-view+json": {
       "model_id": "d80857e557d946ebb4be62aed0914890",
       "version_major": 2,
       "version_minor": 0
      },
      "text/plain": [
       "  0%|          | 0/100 [00:00<?, ?it/s]"
      ]
     },
     "metadata": {},
     "output_type": "display_data"
    },
    {
     "name": "stdout",
     "output_type": "stream",
     "text": [
      "Benchmark Complete!\n",
      "Training CTGAN: vae - ae_dim - 256_128_64_32 - embed_dim - 64 - gan_layers - 256_256 - dstep - 5 - pac - 8 - gan_lr - 1e-05 - gan_batch_epoch - 256_150 - ae_lr - 0.0002 - ae_batch_epoch - 256_50\n"
     ]
    },
    {
     "data": {
      "application/vnd.jupyter.widget-view+json": {
       "model_id": "f59bd67dff914862b55bcd72c0cfeaed",
       "version_major": 2,
       "version_minor": 0
      },
      "text/plain": [
       "AE Train:   0%|          | 0/50 [00:00<?, ?it/s]"
      ]
     },
     "metadata": {},
     "output_type": "display_data"
    },
    {
     "data": {
      "application/vnd.jupyter.widget-view+json": {
       "model_id": "d14fb23b847e4796b66a05d0f0687e79",
       "version_major": 2,
       "version_minor": 0
      },
      "text/plain": [
       "GAN Train:   0%|          | 0/150 [00:00<?, ?it/s]"
      ]
     },
     "metadata": {},
     "output_type": "display_data"
    },
    {
     "name": "stdout",
     "output_type": "stream",
     "text": [
      "Training Complete!\n",
      "Benchmarking on MLP100\n"
     ]
    },
    {
     "name": "stderr",
     "output_type": "stream",
     "text": [
      "/home/y2k/CSC2516_Project/code/ctgan/utils.py:132: PerformanceWarning: DataFrame is highly fragmented.  This is usually the result of calling `frame.insert` many times, which has poor performance.  Consider joining all columns at once using pd.concat(axis=1) instead. To get a de-fragmented frame, use `newframe = frame.copy()`\n",
      "  fake_df[col_name] = 0\n",
      "/home/y2k/CSC2516_Project/code/ctgan/utils.py:132: PerformanceWarning: DataFrame is highly fragmented.  This is usually the result of calling `frame.insert` many times, which has poor performance.  Consider joining all columns at once using pd.concat(axis=1) instead. To get a de-fragmented frame, use `newframe = frame.copy()`\n",
      "  fake_df[col_name] = 0\n"
     ]
    },
    {
     "data": {
      "application/vnd.jupyter.widget-view+json": {
       "model_id": "415591970f784ec3a44c81b4de215556",
       "version_major": 2,
       "version_minor": 0
      },
      "text/plain": [
       "  0%|          | 0/100 [00:00<?, ?it/s]"
      ]
     },
     "metadata": {},
     "output_type": "display_data"
    },
    {
     "data": {
      "application/vnd.jupyter.widget-view+json": {
       "model_id": "32d9b5f994ad4745911f600e0734f771",
       "version_major": 2,
       "version_minor": 0
      },
      "text/plain": [
       "  0%|          | 0/100 [00:00<?, ?it/s]"
      ]
     },
     "metadata": {},
     "output_type": "display_data"
    },
    {
     "data": {
      "application/vnd.jupyter.widget-view+json": {
       "model_id": "d4a519e7e8184e639d189bf7462f2009",
       "version_major": 2,
       "version_minor": 0
      },
      "text/plain": [
       "  0%|          | 0/100 [00:00<?, ?it/s]"
      ]
     },
     "metadata": {},
     "output_type": "display_data"
    },
    {
     "name": "stdout",
     "output_type": "stream",
     "text": [
      "Benchmark Complete!\n",
      "Training CTGAN: vae - ae_dim - 256_128_64_32 - embed_dim - 64 - gan_layers - 256_256 - dstep - 5 - pac - 8 - gan_lr - 1e-05 - gan_batch_epoch - 256_150 - ae_lr - 0.001 - ae_batch_epoch - 256_50\n"
     ]
    },
    {
     "data": {
      "application/vnd.jupyter.widget-view+json": {
       "model_id": "2f15697bf64f49999b0f61fb1e06c21e",
       "version_major": 2,
       "version_minor": 0
      },
      "text/plain": [
       "AE Train:   0%|          | 0/50 [00:00<?, ?it/s]"
      ]
     },
     "metadata": {},
     "output_type": "display_data"
    },
    {
     "data": {
      "application/vnd.jupyter.widget-view+json": {
       "model_id": "457686a2a51d4901a46042529c339783",
       "version_major": 2,
       "version_minor": 0
      },
      "text/plain": [
       "GAN Train:   0%|          | 0/150 [00:00<?, ?it/s]"
      ]
     },
     "metadata": {},
     "output_type": "display_data"
    },
    {
     "name": "stdout",
     "output_type": "stream",
     "text": [
      "Training Complete!\n",
      "Benchmarking on MLP100\n"
     ]
    },
    {
     "name": "stderr",
     "output_type": "stream",
     "text": [
      "/home/y2k/CSC2516_Project/code/ctgan/utils.py:132: PerformanceWarning: DataFrame is highly fragmented.  This is usually the result of calling `frame.insert` many times, which has poor performance.  Consider joining all columns at once using pd.concat(axis=1) instead. To get a de-fragmented frame, use `newframe = frame.copy()`\n",
      "  fake_df[col_name] = 0\n",
      "/home/y2k/CSC2516_Project/code/ctgan/utils.py:132: PerformanceWarning: DataFrame is highly fragmented.  This is usually the result of calling `frame.insert` many times, which has poor performance.  Consider joining all columns at once using pd.concat(axis=1) instead. To get a de-fragmented frame, use `newframe = frame.copy()`\n",
      "  fake_df[col_name] = 0\n",
      "/home/y2k/CSC2516_Project/code/ctgan/utils.py:132: PerformanceWarning: DataFrame is highly fragmented.  This is usually the result of calling `frame.insert` many times, which has poor performance.  Consider joining all columns at once using pd.concat(axis=1) instead. To get a de-fragmented frame, use `newframe = frame.copy()`\n",
      "  fake_df[col_name] = 0\n"
     ]
    },
    {
     "data": {
      "application/vnd.jupyter.widget-view+json": {
       "model_id": "8bb826218a15491ba9bab64f818ab1da",
       "version_major": 2,
       "version_minor": 0
      },
      "text/plain": [
       "  0%|          | 0/100 [00:00<?, ?it/s]"
      ]
     },
     "metadata": {},
     "output_type": "display_data"
    },
    {
     "data": {
      "application/vnd.jupyter.widget-view+json": {
       "model_id": "88d8be78943f4f758190f29ea39de633",
       "version_major": 2,
       "version_minor": 0
      },
      "text/plain": [
       "  0%|          | 0/100 [00:00<?, ?it/s]"
      ]
     },
     "metadata": {},
     "output_type": "display_data"
    },
    {
     "data": {
      "application/vnd.jupyter.widget-view+json": {
       "model_id": "d4a97ac45ed640bbb74bffe520d7df87",
       "version_major": 2,
       "version_minor": 0
      },
      "text/plain": [
       "  0%|          | 0/100 [00:00<?, ?it/s]"
      ]
     },
     "metadata": {},
     "output_type": "display_data"
    },
    {
     "name": "stdout",
     "output_type": "stream",
     "text": [
      "Benchmark Complete!\n",
      "Training CTGAN: vae - ae_dim - 256_128_64_32 - embed_dim - 64 - gan_layers - 256_256 - dstep - 5 - pac - 8 - gan_lr - 1e-05 - gan_batch_epoch - 512_300 - ae_lr - 0.0001 - ae_batch_epoch - 512_100\n"
     ]
    },
    {
     "data": {
      "application/vnd.jupyter.widget-view+json": {
       "model_id": "cfab43d00ef14be38d833426150ff768",
       "version_major": 2,
       "version_minor": 0
      },
      "text/plain": [
       "AE Train:   0%|          | 0/100 [00:00<?, ?it/s]"
      ]
     },
     "metadata": {},
     "output_type": "display_data"
    },
    {
     "data": {
      "application/vnd.jupyter.widget-view+json": {
       "model_id": "71603fb1a4f8490fadd19a2ee3669f8a",
       "version_major": 2,
       "version_minor": 0
      },
      "text/plain": [
       "GAN Train:   0%|          | 0/300 [00:00<?, ?it/s]"
      ]
     },
     "metadata": {},
     "output_type": "display_data"
    },
    {
     "name": "stdout",
     "output_type": "stream",
     "text": [
      "Training Complete!\n",
      "Benchmarking on MLP100\n"
     ]
    },
    {
     "name": "stderr",
     "output_type": "stream",
     "text": [
      "/home/y2k/CSC2516_Project/code/ctgan/utils.py:132: PerformanceWarning: DataFrame is highly fragmented.  This is usually the result of calling `frame.insert` many times, which has poor performance.  Consider joining all columns at once using pd.concat(axis=1) instead. To get a de-fragmented frame, use `newframe = frame.copy()`\n",
      "  fake_df[col_name] = 0\n"
     ]
    },
    {
     "data": {
      "application/vnd.jupyter.widget-view+json": {
       "model_id": "6d3b4b48b9e44d29912d00bf1add5a1f",
       "version_major": 2,
       "version_minor": 0
      },
      "text/plain": [
       "  0%|          | 0/100 [00:00<?, ?it/s]"
      ]
     },
     "metadata": {},
     "output_type": "display_data"
    },
    {
     "data": {
      "application/vnd.jupyter.widget-view+json": {
       "model_id": "6dd374e5da8340bba13fbb33e32f2996",
       "version_major": 2,
       "version_minor": 0
      },
      "text/plain": [
       "  0%|          | 0/100 [00:00<?, ?it/s]"
      ]
     },
     "metadata": {},
     "output_type": "display_data"
    },
    {
     "data": {
      "application/vnd.jupyter.widget-view+json": {
       "model_id": "ae9abd7637804a02adfdb305a18b2fa9",
       "version_major": 2,
       "version_minor": 0
      },
      "text/plain": [
       "  0%|          | 0/100 [00:00<?, ?it/s]"
      ]
     },
     "metadata": {},
     "output_type": "display_data"
    },
    {
     "name": "stdout",
     "output_type": "stream",
     "text": [
      "Benchmark Complete!\n",
      "Training CTGAN: vae - ae_dim - 256_128_64_32 - embed_dim - 64 - gan_layers - 256_256 - dstep - 5 - pac - 8 - gan_lr - 1e-05 - gan_batch_epoch - 512_300 - ae_lr - 0.0002 - ae_batch_epoch - 512_100\n"
     ]
    },
    {
     "data": {
      "application/vnd.jupyter.widget-view+json": {
       "model_id": "85483eee11d84e299932e0be77914380",
       "version_major": 2,
       "version_minor": 0
      },
      "text/plain": [
       "AE Train:   0%|          | 0/100 [00:00<?, ?it/s]"
      ]
     },
     "metadata": {},
     "output_type": "display_data"
    },
    {
     "data": {
      "application/vnd.jupyter.widget-view+json": {
       "model_id": "6267bc5a12244ac3a75059849b1a8408",
       "version_major": 2,
       "version_minor": 0
      },
      "text/plain": [
       "GAN Train:   0%|          | 0/300 [00:00<?, ?it/s]"
      ]
     },
     "metadata": {},
     "output_type": "display_data"
    },
    {
     "name": "stdout",
     "output_type": "stream",
     "text": [
      "Training Complete!\n",
      "Benchmarking on MLP100\n"
     ]
    },
    {
     "name": "stderr",
     "output_type": "stream",
     "text": [
      "/home/y2k/CSC2516_Project/code/ctgan/utils.py:132: PerformanceWarning: DataFrame is highly fragmented.  This is usually the result of calling `frame.insert` many times, which has poor performance.  Consider joining all columns at once using pd.concat(axis=1) instead. To get a de-fragmented frame, use `newframe = frame.copy()`\n",
      "  fake_df[col_name] = 0\n",
      "/home/y2k/CSC2516_Project/code/ctgan/utils.py:132: PerformanceWarning: DataFrame is highly fragmented.  This is usually the result of calling `frame.insert` many times, which has poor performance.  Consider joining all columns at once using pd.concat(axis=1) instead. To get a de-fragmented frame, use `newframe = frame.copy()`\n",
      "  fake_df[col_name] = 0\n",
      "/home/y2k/CSC2516_Project/code/ctgan/utils.py:132: PerformanceWarning: DataFrame is highly fragmented.  This is usually the result of calling `frame.insert` many times, which has poor performance.  Consider joining all columns at once using pd.concat(axis=1) instead. To get a de-fragmented frame, use `newframe = frame.copy()`\n",
      "  fake_df[col_name] = 0\n"
     ]
    },
    {
     "data": {
      "application/vnd.jupyter.widget-view+json": {
       "model_id": "75bf966fa8684b9da191860dc2629493",
       "version_major": 2,
       "version_minor": 0
      },
      "text/plain": [
       "  0%|          | 0/100 [00:00<?, ?it/s]"
      ]
     },
     "metadata": {},
     "output_type": "display_data"
    },
    {
     "data": {
      "application/vnd.jupyter.widget-view+json": {
       "model_id": "f12f1bc2013743ffab18b9a60fe3d427",
       "version_major": 2,
       "version_minor": 0
      },
      "text/plain": [
       "  0%|          | 0/100 [00:00<?, ?it/s]"
      ]
     },
     "metadata": {},
     "output_type": "display_data"
    },
    {
     "data": {
      "application/vnd.jupyter.widget-view+json": {
       "model_id": "5780b43eefff40a9af7b4bad293d17db",
       "version_major": 2,
       "version_minor": 0
      },
      "text/plain": [
       "  0%|          | 0/100 [00:00<?, ?it/s]"
      ]
     },
     "metadata": {},
     "output_type": "display_data"
    },
    {
     "name": "stdout",
     "output_type": "stream",
     "text": [
      "Benchmark Complete!\n",
      "Training CTGAN: vae - ae_dim - 256_128_64_32 - embed_dim - 64 - gan_layers - 256_256 - dstep - 5 - pac - 8 - gan_lr - 1e-05 - gan_batch_epoch - 512_300 - ae_lr - 0.001 - ae_batch_epoch - 512_100\n"
     ]
    },
    {
     "data": {
      "application/vnd.jupyter.widget-view+json": {
       "model_id": "4acc10bbf80f4351b7ca023c5490f106",
       "version_major": 2,
       "version_minor": 0
      },
      "text/plain": [
       "AE Train:   0%|          | 0/100 [00:00<?, ?it/s]"
      ]
     },
     "metadata": {},
     "output_type": "display_data"
    },
    {
     "data": {
      "application/vnd.jupyter.widget-view+json": {
       "model_id": "1e0951cd03124052a7c27c328ed52c57",
       "version_major": 2,
       "version_minor": 0
      },
      "text/plain": [
       "GAN Train:   0%|          | 0/300 [00:00<?, ?it/s]"
      ]
     },
     "metadata": {},
     "output_type": "display_data"
    },
    {
     "name": "stdout",
     "output_type": "stream",
     "text": [
      "Training Complete!\n",
      "Benchmarking on MLP100\n"
     ]
    },
    {
     "name": "stderr",
     "output_type": "stream",
     "text": [
      "/home/y2k/CSC2516_Project/code/ctgan/utils.py:132: PerformanceWarning: DataFrame is highly fragmented.  This is usually the result of calling `frame.insert` many times, which has poor performance.  Consider joining all columns at once using pd.concat(axis=1) instead. To get a de-fragmented frame, use `newframe = frame.copy()`\n",
      "  fake_df[col_name] = 0\n",
      "/home/y2k/CSC2516_Project/code/ctgan/utils.py:132: PerformanceWarning: DataFrame is highly fragmented.  This is usually the result of calling `frame.insert` many times, which has poor performance.  Consider joining all columns at once using pd.concat(axis=1) instead. To get a de-fragmented frame, use `newframe = frame.copy()`\n",
      "  fake_df[col_name] = 0\n",
      "/home/y2k/CSC2516_Project/code/ctgan/utils.py:132: PerformanceWarning: DataFrame is highly fragmented.  This is usually the result of calling `frame.insert` many times, which has poor performance.  Consider joining all columns at once using pd.concat(axis=1) instead. To get a de-fragmented frame, use `newframe = frame.copy()`\n",
      "  fake_df[col_name] = 0\n"
     ]
    },
    {
     "data": {
      "application/vnd.jupyter.widget-view+json": {
       "model_id": "9463439da4c2469fa6dc07c4493b00ed",
       "version_major": 2,
       "version_minor": 0
      },
      "text/plain": [
       "  0%|          | 0/100 [00:00<?, ?it/s]"
      ]
     },
     "metadata": {},
     "output_type": "display_data"
    },
    {
     "data": {
      "application/vnd.jupyter.widget-view+json": {
       "model_id": "0496e2e39aac4c4398ebf714c1457d04",
       "version_major": 2,
       "version_minor": 0
      },
      "text/plain": [
       "  0%|          | 0/100 [00:00<?, ?it/s]"
      ]
     },
     "metadata": {},
     "output_type": "display_data"
    },
    {
     "data": {
      "application/vnd.jupyter.widget-view+json": {
       "model_id": "8886a87126c54d1d966facc623675a6a",
       "version_major": 2,
       "version_minor": 0
      },
      "text/plain": [
       "  0%|          | 0/100 [00:00<?, ?it/s]"
      ]
     },
     "metadata": {},
     "output_type": "display_data"
    },
    {
     "name": "stdout",
     "output_type": "stream",
     "text": [
      "Benchmark Complete!\n",
      "Training CTGAN: vae - ae_dim - 256_128_64_32 - embed_dim - 64 - gan_layers - 256_256 - dstep - 5 - pac - 8 - gan_lr - 0.0002 - gan_batch_epoch - 256_150 - ae_lr - 0.0001 - ae_batch_epoch - 256_50\n"
     ]
    },
    {
     "data": {
      "application/vnd.jupyter.widget-view+json": {
       "model_id": "c3de431734f3412d9152e2429ca4ff58",
       "version_major": 2,
       "version_minor": 0
      },
      "text/plain": [
       "AE Train:   0%|          | 0/50 [00:00<?, ?it/s]"
      ]
     },
     "metadata": {},
     "output_type": "display_data"
    },
    {
     "data": {
      "application/vnd.jupyter.widget-view+json": {
       "model_id": "5bfccbf379ce4da6a8ec2c487f79a3db",
       "version_major": 2,
       "version_minor": 0
      },
      "text/plain": [
       "GAN Train:   0%|          | 0/150 [00:00<?, ?it/s]"
      ]
     },
     "metadata": {},
     "output_type": "display_data"
    },
    {
     "name": "stdout",
     "output_type": "stream",
     "text": [
      "Training Complete!\n",
      "Benchmarking on MLP100\n"
     ]
    },
    {
     "data": {
      "application/vnd.jupyter.widget-view+json": {
       "model_id": "8d53d8b03e7040e482d8803e418f42e8",
       "version_major": 2,
       "version_minor": 0
      },
      "text/plain": [
       "  0%|          | 0/100 [00:00<?, ?it/s]"
      ]
     },
     "metadata": {},
     "output_type": "display_data"
    },
    {
     "data": {
      "application/vnd.jupyter.widget-view+json": {
       "model_id": "9b9ea0b89cbb48ee891b373dea5b1ff0",
       "version_major": 2,
       "version_minor": 0
      },
      "text/plain": [
       "  0%|          | 0/100 [00:00<?, ?it/s]"
      ]
     },
     "metadata": {},
     "output_type": "display_data"
    },
    {
     "data": {
      "application/vnd.jupyter.widget-view+json": {
       "model_id": "fc4c1f69362b4a7cb62dafb9deaf241d",
       "version_major": 2,
       "version_minor": 0
      },
      "text/plain": [
       "  0%|          | 0/100 [00:00<?, ?it/s]"
      ]
     },
     "metadata": {},
     "output_type": "display_data"
    },
    {
     "name": "stdout",
     "output_type": "stream",
     "text": [
      "Benchmark Complete!\n",
      "Training CTGAN: vae - ae_dim - 256_128_64_32 - embed_dim - 64 - gan_layers - 256_256 - dstep - 5 - pac - 8 - gan_lr - 0.0002 - gan_batch_epoch - 256_150 - ae_lr - 0.0002 - ae_batch_epoch - 256_50\n"
     ]
    },
    {
     "data": {
      "application/vnd.jupyter.widget-view+json": {
       "model_id": "871e1a5d00f446a9a6b63aaa6217cda9",
       "version_major": 2,
       "version_minor": 0
      },
      "text/plain": [
       "AE Train:   0%|          | 0/50 [00:00<?, ?it/s]"
      ]
     },
     "metadata": {},
     "output_type": "display_data"
    },
    {
     "data": {
      "application/vnd.jupyter.widget-view+json": {
       "model_id": "093e177d565f48179655b23532e6bb82",
       "version_major": 2,
       "version_minor": 0
      },
      "text/plain": [
       "GAN Train:   0%|          | 0/150 [00:00<?, ?it/s]"
      ]
     },
     "metadata": {},
     "output_type": "display_data"
    },
    {
     "name": "stdout",
     "output_type": "stream",
     "text": [
      "Training Complete!\n",
      "Benchmarking on MLP100\n"
     ]
    },
    {
     "name": "stderr",
     "output_type": "stream",
     "text": [
      "/home/y2k/CSC2516_Project/code/ctgan/utils.py:132: PerformanceWarning: DataFrame is highly fragmented.  This is usually the result of calling `frame.insert` many times, which has poor performance.  Consider joining all columns at once using pd.concat(axis=1) instead. To get a de-fragmented frame, use `newframe = frame.copy()`\n",
      "  fake_df[col_name] = 0\n",
      "/home/y2k/CSC2516_Project/code/ctgan/utils.py:132: PerformanceWarning: DataFrame is highly fragmented.  This is usually the result of calling `frame.insert` many times, which has poor performance.  Consider joining all columns at once using pd.concat(axis=1) instead. To get a de-fragmented frame, use `newframe = frame.copy()`\n",
      "  fake_df[col_name] = 0\n",
      "/home/y2k/CSC2516_Project/code/ctgan/utils.py:132: PerformanceWarning: DataFrame is highly fragmented.  This is usually the result of calling `frame.insert` many times, which has poor performance.  Consider joining all columns at once using pd.concat(axis=1) instead. To get a de-fragmented frame, use `newframe = frame.copy()`\n",
      "  fake_df[col_name] = 0\n"
     ]
    },
    {
     "data": {
      "application/vnd.jupyter.widget-view+json": {
       "model_id": "202e8dc7a5684d2191a2958fb03bcc16",
       "version_major": 2,
       "version_minor": 0
      },
      "text/plain": [
       "  0%|          | 0/100 [00:00<?, ?it/s]"
      ]
     },
     "metadata": {},
     "output_type": "display_data"
    },
    {
     "data": {
      "application/vnd.jupyter.widget-view+json": {
       "model_id": "84f514a200bf4f2995bc0bf47222f91c",
       "version_major": 2,
       "version_minor": 0
      },
      "text/plain": [
       "  0%|          | 0/100 [00:00<?, ?it/s]"
      ]
     },
     "metadata": {},
     "output_type": "display_data"
    },
    {
     "data": {
      "application/vnd.jupyter.widget-view+json": {
       "model_id": "3875a1d6433a4364981c9b3c157985a7",
       "version_major": 2,
       "version_minor": 0
      },
      "text/plain": [
       "  0%|          | 0/100 [00:00<?, ?it/s]"
      ]
     },
     "metadata": {},
     "output_type": "display_data"
    },
    {
     "name": "stdout",
     "output_type": "stream",
     "text": [
      "Benchmark Complete!\n",
      "Training CTGAN: vae - ae_dim - 256_128_64_32 - embed_dim - 64 - gan_layers - 256_256 - dstep - 5 - pac - 8 - gan_lr - 0.0002 - gan_batch_epoch - 256_150 - ae_lr - 0.001 - ae_batch_epoch - 256_50\n"
     ]
    },
    {
     "data": {
      "application/vnd.jupyter.widget-view+json": {
       "model_id": "e65e57c36a5d4b51a42e6aa0c8c9094d",
       "version_major": 2,
       "version_minor": 0
      },
      "text/plain": [
       "AE Train:   0%|          | 0/50 [00:00<?, ?it/s]"
      ]
     },
     "metadata": {},
     "output_type": "display_data"
    },
    {
     "data": {
      "application/vnd.jupyter.widget-view+json": {
       "model_id": "4510c1481a2743758bcac4dd9eb5e0ce",
       "version_major": 2,
       "version_minor": 0
      },
      "text/plain": [
       "GAN Train:   0%|          | 0/150 [00:00<?, ?it/s]"
      ]
     },
     "metadata": {},
     "output_type": "display_data"
    },
    {
     "name": "stdout",
     "output_type": "stream",
     "text": [
      "Training Complete!\n",
      "Benchmarking on MLP100\n"
     ]
    },
    {
     "name": "stderr",
     "output_type": "stream",
     "text": [
      "/home/y2k/CSC2516_Project/code/ctgan/utils.py:132: PerformanceWarning: DataFrame is highly fragmented.  This is usually the result of calling `frame.insert` many times, which has poor performance.  Consider joining all columns at once using pd.concat(axis=1) instead. To get a de-fragmented frame, use `newframe = frame.copy()`\n",
      "  fake_df[col_name] = 0\n",
      "/home/y2k/CSC2516_Project/code/ctgan/utils.py:132: PerformanceWarning: DataFrame is highly fragmented.  This is usually the result of calling `frame.insert` many times, which has poor performance.  Consider joining all columns at once using pd.concat(axis=1) instead. To get a de-fragmented frame, use `newframe = frame.copy()`\n",
      "  fake_df[col_name] = 0\n",
      "/home/y2k/CSC2516_Project/code/ctgan/utils.py:132: PerformanceWarning: DataFrame is highly fragmented.  This is usually the result of calling `frame.insert` many times, which has poor performance.  Consider joining all columns at once using pd.concat(axis=1) instead. To get a de-fragmented frame, use `newframe = frame.copy()`\n",
      "  fake_df[col_name] = 0\n"
     ]
    },
    {
     "data": {
      "application/vnd.jupyter.widget-view+json": {
       "model_id": "a6c2101426694b86bc05a7a616255124",
       "version_major": 2,
       "version_minor": 0
      },
      "text/plain": [
       "  0%|          | 0/100 [00:00<?, ?it/s]"
      ]
     },
     "metadata": {},
     "output_type": "display_data"
    },
    {
     "data": {
      "application/vnd.jupyter.widget-view+json": {
       "model_id": "2b9c0a35785c47af8a460ab74430bc1e",
       "version_major": 2,
       "version_minor": 0
      },
      "text/plain": [
       "  0%|          | 0/100 [00:00<?, ?it/s]"
      ]
     },
     "metadata": {},
     "output_type": "display_data"
    },
    {
     "data": {
      "application/vnd.jupyter.widget-view+json": {
       "model_id": "1c0cd0c8e5ca4f7c800713b3fa1f056f",
       "version_major": 2,
       "version_minor": 0
      },
      "text/plain": [
       "  0%|          | 0/100 [00:00<?, ?it/s]"
      ]
     },
     "metadata": {},
     "output_type": "display_data"
    },
    {
     "name": "stdout",
     "output_type": "stream",
     "text": [
      "Benchmark Complete!\n",
      "Training CTGAN: vae - ae_dim - 256_128_64_32 - embed_dim - 64 - gan_layers - 256_256 - dstep - 5 - pac - 8 - gan_lr - 0.0002 - gan_batch_epoch - 512_300 - ae_lr - 0.0001 - ae_batch_epoch - 512_100\n"
     ]
    },
    {
     "data": {
      "application/vnd.jupyter.widget-view+json": {
       "model_id": "712a32a29d8f4f24b144b2147f7a095e",
       "version_major": 2,
       "version_minor": 0
      },
      "text/plain": [
       "AE Train:   0%|          | 0/100 [00:00<?, ?it/s]"
      ]
     },
     "metadata": {},
     "output_type": "display_data"
    },
    {
     "data": {
      "application/vnd.jupyter.widget-view+json": {
       "model_id": "2d282fbdec7140e6939e908236102f88",
       "version_major": 2,
       "version_minor": 0
      },
      "text/plain": [
       "GAN Train:   0%|          | 0/300 [00:00<?, ?it/s]"
      ]
     },
     "metadata": {},
     "output_type": "display_data"
    },
    {
     "name": "stdout",
     "output_type": "stream",
     "text": [
      "Training Complete!\n",
      "Benchmarking on MLP100\n"
     ]
    },
    {
     "name": "stderr",
     "output_type": "stream",
     "text": [
      "/home/y2k/CSC2516_Project/code/ctgan/utils.py:132: PerformanceWarning: DataFrame is highly fragmented.  This is usually the result of calling `frame.insert` many times, which has poor performance.  Consider joining all columns at once using pd.concat(axis=1) instead. To get a de-fragmented frame, use `newframe = frame.copy()`\n",
      "  fake_df[col_name] = 0\n",
      "/home/y2k/CSC2516_Project/code/ctgan/utils.py:132: PerformanceWarning: DataFrame is highly fragmented.  This is usually the result of calling `frame.insert` many times, which has poor performance.  Consider joining all columns at once using pd.concat(axis=1) instead. To get a de-fragmented frame, use `newframe = frame.copy()`\n",
      "  fake_df[col_name] = 0\n"
     ]
    },
    {
     "data": {
      "application/vnd.jupyter.widget-view+json": {
       "model_id": "b35ec97d82b248d8bcae43085074005a",
       "version_major": 2,
       "version_minor": 0
      },
      "text/plain": [
       "  0%|          | 0/100 [00:00<?, ?it/s]"
      ]
     },
     "metadata": {},
     "output_type": "display_data"
    },
    {
     "data": {
      "application/vnd.jupyter.widget-view+json": {
       "model_id": "2fd9dc4cb7104f7aa5f675e21f7fbb0b",
       "version_major": 2,
       "version_minor": 0
      },
      "text/plain": [
       "  0%|          | 0/100 [00:00<?, ?it/s]"
      ]
     },
     "metadata": {},
     "output_type": "display_data"
    },
    {
     "data": {
      "application/vnd.jupyter.widget-view+json": {
       "model_id": "f1f4402bab96468081ad1f5e090951ea",
       "version_major": 2,
       "version_minor": 0
      },
      "text/plain": [
       "  0%|          | 0/100 [00:00<?, ?it/s]"
      ]
     },
     "metadata": {},
     "output_type": "display_data"
    },
    {
     "name": "stdout",
     "output_type": "stream",
     "text": [
      "Benchmark Complete!\n",
      "Training CTGAN: vae - ae_dim - 256_128_64_32 - embed_dim - 64 - gan_layers - 256_256 - dstep - 5 - pac - 8 - gan_lr - 0.0002 - gan_batch_epoch - 512_300 - ae_lr - 0.0002 - ae_batch_epoch - 512_100\n"
     ]
    },
    {
     "data": {
      "application/vnd.jupyter.widget-view+json": {
       "model_id": "191ea487fc294dcd80c2dec18219a9c9",
       "version_major": 2,
       "version_minor": 0
      },
      "text/plain": [
       "AE Train:   0%|          | 0/100 [00:00<?, ?it/s]"
      ]
     },
     "metadata": {},
     "output_type": "display_data"
    },
    {
     "data": {
      "application/vnd.jupyter.widget-view+json": {
       "model_id": "df760cc5d7a046ae89c1b49f8d832704",
       "version_major": 2,
       "version_minor": 0
      },
      "text/plain": [
       "GAN Train:   0%|          | 0/300 [00:00<?, ?it/s]"
      ]
     },
     "metadata": {},
     "output_type": "display_data"
    },
    {
     "name": "stdout",
     "output_type": "stream",
     "text": [
      "Training Complete!\n",
      "Benchmarking on MLP100\n"
     ]
    },
    {
     "data": {
      "application/vnd.jupyter.widget-view+json": {
       "model_id": "f751c7970b9d4e698de5cb97f2d8950c",
       "version_major": 2,
       "version_minor": 0
      },
      "text/plain": [
       "  0%|          | 0/100 [00:00<?, ?it/s]"
      ]
     },
     "metadata": {},
     "output_type": "display_data"
    },
    {
     "data": {
      "application/vnd.jupyter.widget-view+json": {
       "model_id": "80fadb1cfb2c4dc99ecef5348ff6c95b",
       "version_major": 2,
       "version_minor": 0
      },
      "text/plain": [
       "  0%|          | 0/100 [00:00<?, ?it/s]"
      ]
     },
     "metadata": {},
     "output_type": "display_data"
    },
    {
     "data": {
      "application/vnd.jupyter.widget-view+json": {
       "model_id": "de47a37c82a4488ebc8c02484ce996f2",
       "version_major": 2,
       "version_minor": 0
      },
      "text/plain": [
       "  0%|          | 0/100 [00:00<?, ?it/s]"
      ]
     },
     "metadata": {},
     "output_type": "display_data"
    },
    {
     "name": "stdout",
     "output_type": "stream",
     "text": [
      "Benchmark Complete!\n",
      "Training CTGAN: vae - ae_dim - 256_128_64_32 - embed_dim - 64 - gan_layers - 256_256 - dstep - 5 - pac - 8 - gan_lr - 0.0002 - gan_batch_epoch - 512_300 - ae_lr - 0.001 - ae_batch_epoch - 512_100\n"
     ]
    },
    {
     "data": {
      "application/vnd.jupyter.widget-view+json": {
       "model_id": "0a309406ff884979b50aa49faa2ea69c",
       "version_major": 2,
       "version_minor": 0
      },
      "text/plain": [
       "AE Train:   0%|          | 0/100 [00:00<?, ?it/s]"
      ]
     },
     "metadata": {},
     "output_type": "display_data"
    },
    {
     "data": {
      "application/vnd.jupyter.widget-view+json": {
       "model_id": "3b44672d851a48cc82367c808a50ffe4",
       "version_major": 2,
       "version_minor": 0
      },
      "text/plain": [
       "GAN Train:   0%|          | 0/300 [00:00<?, ?it/s]"
      ]
     },
     "metadata": {},
     "output_type": "display_data"
    },
    {
     "name": "stdout",
     "output_type": "stream",
     "text": [
      "Training Complete!\n",
      "Benchmarking on MLP100\n"
     ]
    },
    {
     "name": "stderr",
     "output_type": "stream",
     "text": [
      "/home/y2k/CSC2516_Project/code/ctgan/utils.py:132: PerformanceWarning: DataFrame is highly fragmented.  This is usually the result of calling `frame.insert` many times, which has poor performance.  Consider joining all columns at once using pd.concat(axis=1) instead. To get a de-fragmented frame, use `newframe = frame.copy()`\n",
      "  fake_df[col_name] = 0\n",
      "/home/y2k/CSC2516_Project/code/ctgan/utils.py:132: PerformanceWarning: DataFrame is highly fragmented.  This is usually the result of calling `frame.insert` many times, which has poor performance.  Consider joining all columns at once using pd.concat(axis=1) instead. To get a de-fragmented frame, use `newframe = frame.copy()`\n",
      "  fake_df[col_name] = 0\n",
      "/home/y2k/CSC2516_Project/code/ctgan/utils.py:132: PerformanceWarning: DataFrame is highly fragmented.  This is usually the result of calling `frame.insert` many times, which has poor performance.  Consider joining all columns at once using pd.concat(axis=1) instead. To get a de-fragmented frame, use `newframe = frame.copy()`\n",
      "  fake_df[col_name] = 0\n"
     ]
    },
    {
     "data": {
      "application/vnd.jupyter.widget-view+json": {
       "model_id": "5c97361f897042ca9b761308f406cc0c",
       "version_major": 2,
       "version_minor": 0
      },
      "text/plain": [
       "  0%|          | 0/100 [00:00<?, ?it/s]"
      ]
     },
     "metadata": {},
     "output_type": "display_data"
    },
    {
     "data": {
      "application/vnd.jupyter.widget-view+json": {
       "model_id": "8be6d77f5b0b4bf2b868a904bc07a7c9",
       "version_major": 2,
       "version_minor": 0
      },
      "text/plain": [
       "  0%|          | 0/100 [00:00<?, ?it/s]"
      ]
     },
     "metadata": {},
     "output_type": "display_data"
    },
    {
     "data": {
      "application/vnd.jupyter.widget-view+json": {
       "model_id": "e3feff81add54c6cb0bb9e5d581695b4",
       "version_major": 2,
       "version_minor": 0
      },
      "text/plain": [
       "  0%|          | 0/100 [00:00<?, ?it/s]"
      ]
     },
     "metadata": {},
     "output_type": "display_data"
    },
    {
     "name": "stdout",
     "output_type": "stream",
     "text": [
      "Benchmark Complete!\n"
     ]
    },
    {
     "data": {
      "application/vnd.jupyter.widget-view+json": {
       "model_id": "1b7b54ad4c5349e7b63f50f2f34d3bff",
       "version_major": 2,
       "version_minor": 0
      },
      "text/plain": [
       "  0%|          | 0/12 [00:00<?, ?it/s]"
      ]
     },
     "metadata": {},
     "output_type": "display_data"
    },
    {
     "name": "stdout",
     "output_type": "stream",
     "text": [
      "Training CTGAN: ee - ae_dim - 256_128_64 - embed_dim - 128 - gan_layers - 256_256_256_256 - dstep - 5 - pac - 8 - gan_lr - 1e-05 - gan_batch_epoch - 256_150 - ae_lr - 0.0001 - ae_batch_epoch - 256_50\n"
     ]
    },
    {
     "data": {
      "application/vnd.jupyter.widget-view+json": {
       "model_id": "142a3de88e514e0c9adb7477e8fd365b",
       "version_major": 2,
       "version_minor": 0
      },
      "text/plain": [
       "AE Train:   0%|          | 0/50 [00:00<?, ?it/s]"
      ]
     },
     "metadata": {},
     "output_type": "display_data"
    },
    {
     "data": {
      "application/vnd.jupyter.widget-view+json": {
       "model_id": "7cccb967dafa40dcaaaee3e35100c6b7",
       "version_major": 2,
       "version_minor": 0
      },
      "text/plain": [
       "GAN Train:   0%|          | 0/150 [00:00<?, ?it/s]"
      ]
     },
     "metadata": {},
     "output_type": "display_data"
    },
    {
     "name": "stdout",
     "output_type": "stream",
     "text": [
      "Training Complete!\n",
      "Benchmarking on MLP100\n"
     ]
    },
    {
     "data": {
      "application/vnd.jupyter.widget-view+json": {
       "model_id": "fa542c847eaa42a8b954ea51a2f489d6",
       "version_major": 2,
       "version_minor": 0
      },
      "text/plain": [
       "  0%|          | 0/100 [00:00<?, ?it/s]"
      ]
     },
     "metadata": {},
     "output_type": "display_data"
    },
    {
     "data": {
      "application/vnd.jupyter.widget-view+json": {
       "model_id": "674ffde67ff84b6ca5e0791735a239bb",
       "version_major": 2,
       "version_minor": 0
      },
      "text/plain": [
       "  0%|          | 0/100 [00:00<?, ?it/s]"
      ]
     },
     "metadata": {},
     "output_type": "display_data"
    },
    {
     "data": {
      "application/vnd.jupyter.widget-view+json": {
       "model_id": "83bb04d7a04849e5ad27dce427eccf21",
       "version_major": 2,
       "version_minor": 0
      },
      "text/plain": [
       "  0%|          | 0/100 [00:00<?, ?it/s]"
      ]
     },
     "metadata": {},
     "output_type": "display_data"
    },
    {
     "name": "stdout",
     "output_type": "stream",
     "text": [
      "Benchmark Complete!\n",
      "Training CTGAN: ee - ae_dim - 256_128_64 - embed_dim - 128 - gan_layers - 256_256_256_256 - dstep - 5 - pac - 8 - gan_lr - 1e-05 - gan_batch_epoch - 256_150 - ae_lr - 0.0002 - ae_batch_epoch - 256_50\n"
     ]
    },
    {
     "data": {
      "application/vnd.jupyter.widget-view+json": {
       "model_id": "ff4fd6ebc52a4affbedcfa4517da6820",
       "version_major": 2,
       "version_minor": 0
      },
      "text/plain": [
       "AE Train:   0%|          | 0/50 [00:00<?, ?it/s]"
      ]
     },
     "metadata": {},
     "output_type": "display_data"
    },
    {
     "data": {
      "application/vnd.jupyter.widget-view+json": {
       "model_id": "0823ffea1b6d4d5c81286022a51c1396",
       "version_major": 2,
       "version_minor": 0
      },
      "text/plain": [
       "GAN Train:   0%|          | 0/150 [00:00<?, ?it/s]"
      ]
     },
     "metadata": {},
     "output_type": "display_data"
    },
    {
     "name": "stdout",
     "output_type": "stream",
     "text": [
      "Training Complete!\n",
      "Benchmarking on MLP100\n"
     ]
    },
    {
     "data": {
      "application/vnd.jupyter.widget-view+json": {
       "model_id": "a76585bdb0014d0d9cf683125d277727",
       "version_major": 2,
       "version_minor": 0
      },
      "text/plain": [
       "  0%|          | 0/100 [00:00<?, ?it/s]"
      ]
     },
     "metadata": {},
     "output_type": "display_data"
    },
    {
     "data": {
      "application/vnd.jupyter.widget-view+json": {
       "model_id": "74de857dac134795aea2b9d0184eb67b",
       "version_major": 2,
       "version_minor": 0
      },
      "text/plain": [
       "  0%|          | 0/100 [00:00<?, ?it/s]"
      ]
     },
     "metadata": {},
     "output_type": "display_data"
    },
    {
     "data": {
      "application/vnd.jupyter.widget-view+json": {
       "model_id": "0340d636c66d4bd2b110fcc78290393c",
       "version_major": 2,
       "version_minor": 0
      },
      "text/plain": [
       "  0%|          | 0/100 [00:00<?, ?it/s]"
      ]
     },
     "metadata": {},
     "output_type": "display_data"
    },
    {
     "name": "stdout",
     "output_type": "stream",
     "text": [
      "Benchmark Complete!\n",
      "Training CTGAN: ee - ae_dim - 256_128_64 - embed_dim - 128 - gan_layers - 256_256_256_256 - dstep - 5 - pac - 8 - gan_lr - 1e-05 - gan_batch_epoch - 256_150 - ae_lr - 0.001 - ae_batch_epoch - 256_50\n"
     ]
    },
    {
     "data": {
      "application/vnd.jupyter.widget-view+json": {
       "model_id": "f29cd281284c43db90976fd1240d6ce3",
       "version_major": 2,
       "version_minor": 0
      },
      "text/plain": [
       "AE Train:   0%|          | 0/50 [00:00<?, ?it/s]"
      ]
     },
     "metadata": {},
     "output_type": "display_data"
    },
    {
     "data": {
      "application/vnd.jupyter.widget-view+json": {
       "model_id": "fcd139c4a76d4f8aa799fcadd1ac71a5",
       "version_major": 2,
       "version_minor": 0
      },
      "text/plain": [
       "GAN Train:   0%|          | 0/150 [00:00<?, ?it/s]"
      ]
     },
     "metadata": {},
     "output_type": "display_data"
    },
    {
     "name": "stdout",
     "output_type": "stream",
     "text": [
      "Training Complete!\n",
      "Benchmarking on MLP100\n"
     ]
    },
    {
     "data": {
      "application/vnd.jupyter.widget-view+json": {
       "model_id": "d221f4ac44284580ab84647717bbaff8",
       "version_major": 2,
       "version_minor": 0
      },
      "text/plain": [
       "  0%|          | 0/100 [00:00<?, ?it/s]"
      ]
     },
     "metadata": {},
     "output_type": "display_data"
    },
    {
     "data": {
      "application/vnd.jupyter.widget-view+json": {
       "model_id": "3507f1d814424b47ae0a038a60fd313b",
       "version_major": 2,
       "version_minor": 0
      },
      "text/plain": [
       "  0%|          | 0/100 [00:00<?, ?it/s]"
      ]
     },
     "metadata": {},
     "output_type": "display_data"
    },
    {
     "data": {
      "application/vnd.jupyter.widget-view+json": {
       "model_id": "a7dda220f5334887843b635742221dc7",
       "version_major": 2,
       "version_minor": 0
      },
      "text/plain": [
       "  0%|          | 0/100 [00:00<?, ?it/s]"
      ]
     },
     "metadata": {},
     "output_type": "display_data"
    },
    {
     "name": "stdout",
     "output_type": "stream",
     "text": [
      "Benchmark Complete!\n",
      "Training CTGAN: ee - ae_dim - 256_128_64 - embed_dim - 128 - gan_layers - 256_256_256_256 - dstep - 5 - pac - 8 - gan_lr - 1e-05 - gan_batch_epoch - 512_300 - ae_lr - 0.0001 - ae_batch_epoch - 512_100\n"
     ]
    },
    {
     "data": {
      "application/vnd.jupyter.widget-view+json": {
       "model_id": "5085e6901f994d8b899eac0cabedd5eb",
       "version_major": 2,
       "version_minor": 0
      },
      "text/plain": [
       "AE Train:   0%|          | 0/100 [00:00<?, ?it/s]"
      ]
     },
     "metadata": {},
     "output_type": "display_data"
    },
    {
     "data": {
      "application/vnd.jupyter.widget-view+json": {
       "model_id": "2e21f7eda91b42fda8eda971bdbda7eb",
       "version_major": 2,
       "version_minor": 0
      },
      "text/plain": [
       "GAN Train:   0%|          | 0/300 [00:00<?, ?it/s]"
      ]
     },
     "metadata": {},
     "output_type": "display_data"
    },
    {
     "name": "stdout",
     "output_type": "stream",
     "text": [
      "Training Complete!\n",
      "Benchmarking on MLP100\n"
     ]
    },
    {
     "data": {
      "application/vnd.jupyter.widget-view+json": {
       "model_id": "53209b2539e5445ba783cc6c032827d4",
       "version_major": 2,
       "version_minor": 0
      },
      "text/plain": [
       "  0%|          | 0/100 [00:00<?, ?it/s]"
      ]
     },
     "metadata": {},
     "output_type": "display_data"
    },
    {
     "data": {
      "application/vnd.jupyter.widget-view+json": {
       "model_id": "f9bf60174ed84fef99d81936f44def24",
       "version_major": 2,
       "version_minor": 0
      },
      "text/plain": [
       "  0%|          | 0/100 [00:00<?, ?it/s]"
      ]
     },
     "metadata": {},
     "output_type": "display_data"
    },
    {
     "data": {
      "application/vnd.jupyter.widget-view+json": {
       "model_id": "a12b96f0534d46108dda4155064da6de",
       "version_major": 2,
       "version_minor": 0
      },
      "text/plain": [
       "  0%|          | 0/100 [00:00<?, ?it/s]"
      ]
     },
     "metadata": {},
     "output_type": "display_data"
    },
    {
     "name": "stdout",
     "output_type": "stream",
     "text": [
      "Benchmark Complete!\n",
      "Training CTGAN: ee - ae_dim - 256_128_64 - embed_dim - 128 - gan_layers - 256_256_256_256 - dstep - 5 - pac - 8 - gan_lr - 1e-05 - gan_batch_epoch - 512_300 - ae_lr - 0.0002 - ae_batch_epoch - 512_100\n"
     ]
    },
    {
     "data": {
      "application/vnd.jupyter.widget-view+json": {
       "model_id": "af2ee4a5c7944916a0d2d2d50e95f2c1",
       "version_major": 2,
       "version_minor": 0
      },
      "text/plain": [
       "AE Train:   0%|          | 0/100 [00:00<?, ?it/s]"
      ]
     },
     "metadata": {},
     "output_type": "display_data"
    },
    {
     "data": {
      "application/vnd.jupyter.widget-view+json": {
       "model_id": "88c1f95bc05e4677909c8d23cd7af671",
       "version_major": 2,
       "version_minor": 0
      },
      "text/plain": [
       "GAN Train:   0%|          | 0/300 [00:00<?, ?it/s]"
      ]
     },
     "metadata": {},
     "output_type": "display_data"
    },
    {
     "name": "stdout",
     "output_type": "stream",
     "text": [
      "Training Complete!\n",
      "Benchmarking on MLP100\n"
     ]
    },
    {
     "data": {
      "application/vnd.jupyter.widget-view+json": {
       "model_id": "7ea2d3be04264db18d2309bf7c9d8a26",
       "version_major": 2,
       "version_minor": 0
      },
      "text/plain": [
       "  0%|          | 0/100 [00:00<?, ?it/s]"
      ]
     },
     "metadata": {},
     "output_type": "display_data"
    },
    {
     "data": {
      "application/vnd.jupyter.widget-view+json": {
       "model_id": "bf1b9dedaf904974a813bf02232c979e",
       "version_major": 2,
       "version_minor": 0
      },
      "text/plain": [
       "  0%|          | 0/100 [00:00<?, ?it/s]"
      ]
     },
     "metadata": {},
     "output_type": "display_data"
    },
    {
     "data": {
      "application/vnd.jupyter.widget-view+json": {
       "model_id": "8820cd5d46cb49a7a8d7325f87f07de9",
       "version_major": 2,
       "version_minor": 0
      },
      "text/plain": [
       "  0%|          | 0/100 [00:00<?, ?it/s]"
      ]
     },
     "metadata": {},
     "output_type": "display_data"
    },
    {
     "name": "stdout",
     "output_type": "stream",
     "text": [
      "Benchmark Complete!\n",
      "Training CTGAN: ee - ae_dim - 256_128_64 - embed_dim - 128 - gan_layers - 256_256_256_256 - dstep - 5 - pac - 8 - gan_lr - 1e-05 - gan_batch_epoch - 512_300 - ae_lr - 0.001 - ae_batch_epoch - 512_100\n"
     ]
    },
    {
     "data": {
      "application/vnd.jupyter.widget-view+json": {
       "model_id": "655fa84f54134076a4f0cdb6a8fd44e2",
       "version_major": 2,
       "version_minor": 0
      },
      "text/plain": [
       "AE Train:   0%|          | 0/100 [00:00<?, ?it/s]"
      ]
     },
     "metadata": {},
     "output_type": "display_data"
    },
    {
     "data": {
      "application/vnd.jupyter.widget-view+json": {
       "model_id": "ff659a7ab92a475e817d801b15121332",
       "version_major": 2,
       "version_minor": 0
      },
      "text/plain": [
       "GAN Train:   0%|          | 0/300 [00:00<?, ?it/s]"
      ]
     },
     "metadata": {},
     "output_type": "display_data"
    },
    {
     "name": "stdout",
     "output_type": "stream",
     "text": [
      "Training Complete!\n",
      "Benchmarking on MLP100\n"
     ]
    },
    {
     "data": {
      "application/vnd.jupyter.widget-view+json": {
       "model_id": "22fe19e0e051460ea8af7f280eea76ed",
       "version_major": 2,
       "version_minor": 0
      },
      "text/plain": [
       "  0%|          | 0/100 [00:00<?, ?it/s]"
      ]
     },
     "metadata": {},
     "output_type": "display_data"
    },
    {
     "data": {
      "application/vnd.jupyter.widget-view+json": {
       "model_id": "268fea5bcd1246afaaafcf05c0dc274a",
       "version_major": 2,
       "version_minor": 0
      },
      "text/plain": [
       "  0%|          | 0/100 [00:00<?, ?it/s]"
      ]
     },
     "metadata": {},
     "output_type": "display_data"
    },
    {
     "data": {
      "application/vnd.jupyter.widget-view+json": {
       "model_id": "b37b9c01b6aa4101a61b82292c3893ff",
       "version_major": 2,
       "version_minor": 0
      },
      "text/plain": [
       "  0%|          | 0/100 [00:00<?, ?it/s]"
      ]
     },
     "metadata": {},
     "output_type": "display_data"
    },
    {
     "name": "stdout",
     "output_type": "stream",
     "text": [
      "Benchmark Complete!\n",
      "Training CTGAN: ee - ae_dim - 256_128_64 - embed_dim - 128 - gan_layers - 256_256_256_256 - dstep - 5 - pac - 8 - gan_lr - 0.0002 - gan_batch_epoch - 256_150 - ae_lr - 0.0001 - ae_batch_epoch - 256_50\n"
     ]
    },
    {
     "data": {
      "application/vnd.jupyter.widget-view+json": {
       "model_id": "4a644290a19d437f82d50f2b137d2b0b",
       "version_major": 2,
       "version_minor": 0
      },
      "text/plain": [
       "AE Train:   0%|          | 0/50 [00:00<?, ?it/s]"
      ]
     },
     "metadata": {},
     "output_type": "display_data"
    },
    {
     "data": {
      "application/vnd.jupyter.widget-view+json": {
       "model_id": "8976620fb16041caaa335f48cb46cd68",
       "version_major": 2,
       "version_minor": 0
      },
      "text/plain": [
       "GAN Train:   0%|          | 0/150 [00:00<?, ?it/s]"
      ]
     },
     "metadata": {},
     "output_type": "display_data"
    },
    {
     "name": "stdout",
     "output_type": "stream",
     "text": [
      "Training Complete!\n",
      "Benchmarking on MLP100\n"
     ]
    },
    {
     "data": {
      "application/vnd.jupyter.widget-view+json": {
       "model_id": "cf9e744c60b44c0680078406eee01b1c",
       "version_major": 2,
       "version_minor": 0
      },
      "text/plain": [
       "  0%|          | 0/100 [00:00<?, ?it/s]"
      ]
     },
     "metadata": {},
     "output_type": "display_data"
    },
    {
     "data": {
      "application/vnd.jupyter.widget-view+json": {
       "model_id": "5c7d634003254b118211cf0570f203b7",
       "version_major": 2,
       "version_minor": 0
      },
      "text/plain": [
       "  0%|          | 0/100 [00:00<?, ?it/s]"
      ]
     },
     "metadata": {},
     "output_type": "display_data"
    },
    {
     "data": {
      "application/vnd.jupyter.widget-view+json": {
       "model_id": "e8dbf51512064f0cb5c62ee28fe4a5e9",
       "version_major": 2,
       "version_minor": 0
      },
      "text/plain": [
       "  0%|          | 0/100 [00:00<?, ?it/s]"
      ]
     },
     "metadata": {},
     "output_type": "display_data"
    },
    {
     "name": "stdout",
     "output_type": "stream",
     "text": [
      "Benchmark Complete!\n",
      "Training CTGAN: ee - ae_dim - 256_128_64 - embed_dim - 128 - gan_layers - 256_256_256_256 - dstep - 5 - pac - 8 - gan_lr - 0.0002 - gan_batch_epoch - 256_150 - ae_lr - 0.0002 - ae_batch_epoch - 256_50\n"
     ]
    },
    {
     "data": {
      "application/vnd.jupyter.widget-view+json": {
       "model_id": "0701791b202b426299c77e0f3145532b",
       "version_major": 2,
       "version_minor": 0
      },
      "text/plain": [
       "AE Train:   0%|          | 0/50 [00:00<?, ?it/s]"
      ]
     },
     "metadata": {},
     "output_type": "display_data"
    },
    {
     "data": {
      "application/vnd.jupyter.widget-view+json": {
       "model_id": "4f0fda5037c14cfc99047655e9129b10",
       "version_major": 2,
       "version_minor": 0
      },
      "text/plain": [
       "GAN Train:   0%|          | 0/150 [00:00<?, ?it/s]"
      ]
     },
     "metadata": {},
     "output_type": "display_data"
    },
    {
     "name": "stdout",
     "output_type": "stream",
     "text": [
      "Training Complete!\n",
      "Benchmarking on MLP100\n"
     ]
    },
    {
     "data": {
      "application/vnd.jupyter.widget-view+json": {
       "model_id": "0ee9a6d7768f4b3cbebbb0dc11ec8abc",
       "version_major": 2,
       "version_minor": 0
      },
      "text/plain": [
       "  0%|          | 0/100 [00:00<?, ?it/s]"
      ]
     },
     "metadata": {},
     "output_type": "display_data"
    },
    {
     "data": {
      "application/vnd.jupyter.widget-view+json": {
       "model_id": "5e960e9475134cc7850b005e49503af4",
       "version_major": 2,
       "version_minor": 0
      },
      "text/plain": [
       "  0%|          | 0/100 [00:00<?, ?it/s]"
      ]
     },
     "metadata": {},
     "output_type": "display_data"
    },
    {
     "data": {
      "application/vnd.jupyter.widget-view+json": {
       "model_id": "32165a59553948c0a8560de22049cd52",
       "version_major": 2,
       "version_minor": 0
      },
      "text/plain": [
       "  0%|          | 0/100 [00:00<?, ?it/s]"
      ]
     },
     "metadata": {},
     "output_type": "display_data"
    },
    {
     "name": "stdout",
     "output_type": "stream",
     "text": [
      "Benchmark Complete!\n",
      "Training CTGAN: ee - ae_dim - 256_128_64 - embed_dim - 128 - gan_layers - 256_256_256_256 - dstep - 5 - pac - 8 - gan_lr - 0.0002 - gan_batch_epoch - 256_150 - ae_lr - 0.001 - ae_batch_epoch - 256_50\n"
     ]
    },
    {
     "data": {
      "application/vnd.jupyter.widget-view+json": {
       "model_id": "cd8723619ee649e18ba84575c7b2bb3d",
       "version_major": 2,
       "version_minor": 0
      },
      "text/plain": [
       "AE Train:   0%|          | 0/50 [00:00<?, ?it/s]"
      ]
     },
     "metadata": {},
     "output_type": "display_data"
    },
    {
     "data": {
      "application/vnd.jupyter.widget-view+json": {
       "model_id": "f05a62e433fc4de69f1cc68b98a6fd5d",
       "version_major": 2,
       "version_minor": 0
      },
      "text/plain": [
       "GAN Train:   0%|          | 0/150 [00:00<?, ?it/s]"
      ]
     },
     "metadata": {},
     "output_type": "display_data"
    },
    {
     "name": "stdout",
     "output_type": "stream",
     "text": [
      "Training Complete!\n",
      "Benchmarking on MLP100\n"
     ]
    },
    {
     "data": {
      "application/vnd.jupyter.widget-view+json": {
       "model_id": "357ec692a23245afb7d77e31bde12a63",
       "version_major": 2,
       "version_minor": 0
      },
      "text/plain": [
       "  0%|          | 0/100 [00:00<?, ?it/s]"
      ]
     },
     "metadata": {},
     "output_type": "display_data"
    },
    {
     "data": {
      "application/vnd.jupyter.widget-view+json": {
       "model_id": "227a201a04a941a2ad128f898ab9a8a9",
       "version_major": 2,
       "version_minor": 0
      },
      "text/plain": [
       "  0%|          | 0/100 [00:00<?, ?it/s]"
      ]
     },
     "metadata": {},
     "output_type": "display_data"
    },
    {
     "data": {
      "application/vnd.jupyter.widget-view+json": {
       "model_id": "f927caf24740415bb71f7ea22aad16f0",
       "version_major": 2,
       "version_minor": 0
      },
      "text/plain": [
       "  0%|          | 0/100 [00:00<?, ?it/s]"
      ]
     },
     "metadata": {},
     "output_type": "display_data"
    },
    {
     "name": "stdout",
     "output_type": "stream",
     "text": [
      "Benchmark Complete!\n",
      "Training CTGAN: ee - ae_dim - 256_128_64 - embed_dim - 128 - gan_layers - 256_256_256_256 - dstep - 5 - pac - 8 - gan_lr - 0.0002 - gan_batch_epoch - 512_300 - ae_lr - 0.0001 - ae_batch_epoch - 512_100\n"
     ]
    },
    {
     "data": {
      "application/vnd.jupyter.widget-view+json": {
       "model_id": "88d138764fc045e8b6304c1840c9b313",
       "version_major": 2,
       "version_minor": 0
      },
      "text/plain": [
       "AE Train:   0%|          | 0/100 [00:00<?, ?it/s]"
      ]
     },
     "metadata": {},
     "output_type": "display_data"
    },
    {
     "data": {
      "application/vnd.jupyter.widget-view+json": {
       "model_id": "cb705e2c00da4a37883c596897ee0d16",
       "version_major": 2,
       "version_minor": 0
      },
      "text/plain": [
       "GAN Train:   0%|          | 0/300 [00:00<?, ?it/s]"
      ]
     },
     "metadata": {},
     "output_type": "display_data"
    },
    {
     "name": "stdout",
     "output_type": "stream",
     "text": [
      "Training Complete!\n",
      "Benchmarking on MLP100\n"
     ]
    },
    {
     "data": {
      "application/vnd.jupyter.widget-view+json": {
       "model_id": "33c31b48b42d4d2b8be78e68d7a9dbd4",
       "version_major": 2,
       "version_minor": 0
      },
      "text/plain": [
       "  0%|          | 0/100 [00:00<?, ?it/s]"
      ]
     },
     "metadata": {},
     "output_type": "display_data"
    },
    {
     "data": {
      "application/vnd.jupyter.widget-view+json": {
       "model_id": "571f19c971ea471ba3d577bb912c383d",
       "version_major": 2,
       "version_minor": 0
      },
      "text/plain": [
       "  0%|          | 0/100 [00:00<?, ?it/s]"
      ]
     },
     "metadata": {},
     "output_type": "display_data"
    },
    {
     "data": {
      "application/vnd.jupyter.widget-view+json": {
       "model_id": "3be717de5c3e4b63b63d0ca045d57da6",
       "version_major": 2,
       "version_minor": 0
      },
      "text/plain": [
       "  0%|          | 0/100 [00:00<?, ?it/s]"
      ]
     },
     "metadata": {},
     "output_type": "display_data"
    },
    {
     "name": "stdout",
     "output_type": "stream",
     "text": [
      "Benchmark Complete!\n",
      "Training CTGAN: ee - ae_dim - 256_128_64 - embed_dim - 128 - gan_layers - 256_256_256_256 - dstep - 5 - pac - 8 - gan_lr - 0.0002 - gan_batch_epoch - 512_300 - ae_lr - 0.0002 - ae_batch_epoch - 512_100\n"
     ]
    },
    {
     "data": {
      "application/vnd.jupyter.widget-view+json": {
       "model_id": "5077fd5e2fcf4ccb8f8d49dac4d3714b",
       "version_major": 2,
       "version_minor": 0
      },
      "text/plain": [
       "AE Train:   0%|          | 0/100 [00:00<?, ?it/s]"
      ]
     },
     "metadata": {},
     "output_type": "display_data"
    },
    {
     "data": {
      "application/vnd.jupyter.widget-view+json": {
       "model_id": "da4c472b13494d5b9d0a50ae202f6eaa",
       "version_major": 2,
       "version_minor": 0
      },
      "text/plain": [
       "GAN Train:   0%|          | 0/300 [00:00<?, ?it/s]"
      ]
     },
     "metadata": {},
     "output_type": "display_data"
    },
    {
     "name": "stdout",
     "output_type": "stream",
     "text": [
      "Training Complete!\n",
      "Benchmarking on MLP100\n"
     ]
    },
    {
     "data": {
      "application/vnd.jupyter.widget-view+json": {
       "model_id": "94349c9afab74b599964e0e832189f4e",
       "version_major": 2,
       "version_minor": 0
      },
      "text/plain": [
       "  0%|          | 0/100 [00:00<?, ?it/s]"
      ]
     },
     "metadata": {},
     "output_type": "display_data"
    },
    {
     "data": {
      "application/vnd.jupyter.widget-view+json": {
       "model_id": "788c84ac7a5a48bd93efc2789b0ac566",
       "version_major": 2,
       "version_minor": 0
      },
      "text/plain": [
       "  0%|          | 0/100 [00:00<?, ?it/s]"
      ]
     },
     "metadata": {},
     "output_type": "display_data"
    },
    {
     "data": {
      "application/vnd.jupyter.widget-view+json": {
       "model_id": "622d02277130482d85fc7a65755821e6",
       "version_major": 2,
       "version_minor": 0
      },
      "text/plain": [
       "  0%|          | 0/100 [00:00<?, ?it/s]"
      ]
     },
     "metadata": {},
     "output_type": "display_data"
    },
    {
     "name": "stdout",
     "output_type": "stream",
     "text": [
      "Benchmark Complete!\n",
      "Training CTGAN: ee - ae_dim - 256_128_64 - embed_dim - 128 - gan_layers - 256_256_256_256 - dstep - 5 - pac - 8 - gan_lr - 0.0002 - gan_batch_epoch - 512_300 - ae_lr - 0.001 - ae_batch_epoch - 512_100\n"
     ]
    },
    {
     "data": {
      "application/vnd.jupyter.widget-view+json": {
       "model_id": "a42b26cef5944e14a47231274b23d18f",
       "version_major": 2,
       "version_minor": 0
      },
      "text/plain": [
       "AE Train:   0%|          | 0/100 [00:00<?, ?it/s]"
      ]
     },
     "metadata": {},
     "output_type": "display_data"
    },
    {
     "data": {
      "application/vnd.jupyter.widget-view+json": {
       "model_id": "ff1acba727324b109e0aa1000545676a",
       "version_major": 2,
       "version_minor": 0
      },
      "text/plain": [
       "GAN Train:   0%|          | 0/300 [00:00<?, ?it/s]"
      ]
     },
     "metadata": {},
     "output_type": "display_data"
    },
    {
     "name": "stdout",
     "output_type": "stream",
     "text": [
      "Training Complete!\n",
      "Benchmarking on MLP100\n"
     ]
    },
    {
     "data": {
      "application/vnd.jupyter.widget-view+json": {
       "model_id": "2be85fd4261f47cd8144b0553e73d94f",
       "version_major": 2,
       "version_minor": 0
      },
      "text/plain": [
       "  0%|          | 0/100 [00:00<?, ?it/s]"
      ]
     },
     "metadata": {},
     "output_type": "display_data"
    },
    {
     "data": {
      "application/vnd.jupyter.widget-view+json": {
       "model_id": "cd748b6458104544b1a868db5a9114f5",
       "version_major": 2,
       "version_minor": 0
      },
      "text/plain": [
       "  0%|          | 0/100 [00:00<?, ?it/s]"
      ]
     },
     "metadata": {},
     "output_type": "display_data"
    },
    {
     "data": {
      "application/vnd.jupyter.widget-view+json": {
       "model_id": "e64fbe38dc6647e69e3e332fc8a31a46",
       "version_major": 2,
       "version_minor": 0
      },
      "text/plain": [
       "  0%|          | 0/100 [00:00<?, ?it/s]"
      ]
     },
     "metadata": {},
     "output_type": "display_data"
    },
    {
     "name": "stdout",
     "output_type": "stream",
     "text": [
      "Benchmark Complete!\n"
     ]
    }
   ],
   "source": [
    "from tqdm.notebook import tqdm\n",
    "hp = 'gbe_aeb'\n",
    "gbe_aeb = list(itertools.product(HP['gan_lr'], HP['gan_batch_epoch'], HP['ae_lr'], HP['ae_batch_epoch']))\n",
    "gbe_aeb = [elem for elem in gbe_aeb if not ((elem[3] == (256, 50) and elem[1] == (512, 300)) or (elem[1] == (256, 150) and elem[3] == (512, 100)))]\n",
    "\n",
    "for ae_type in tqdm(AE_TYPES):\n",
    "    hp_scores = dict()\n",
    "    printable_ae_dim = max(hp_vals[ae_type]['ae_dim'].items(), key=lambda x: x[1])[0]\n",
    "    ae_dim = tuple(map(int, printable_ae_dim.split('_')))\n",
    "    embedding_dim = int(max(hp_vals[ae_type]['embedding_dim'].items(), key=lambda x: x[1])[0])\n",
    "    printable_gan_layers = max(hp_vals[ae_type]['gan_layers'].items(), key=lambda x: x[1])[0]\n",
    "    gan_layers = tuple(map(int, printable_gan_layers.split('_')))\n",
    "    d_step, pac = list(map(int,max(hp_vals[ae_type]['dstep_pac'].items(), key=lambda x: x[1])[0].split('_')))\n",
    "    for v1, v2, v3, v4 in tqdm(gbe_aeb):\n",
    "        pv2 = '_'.join(map(str,v2))\n",
    "        pv4 = '_'.join(map(str,v4))\n",
    "        k = '_'.join(map(str,[v1,pv2,v3,pv4]))\n",
    "        mpath = f\"../../models/ae_gan_{ae_type}_ae_dim_{printable_ae_dim}_emb_{embedding_dim}_gla_{gan_layers}_dstep_{d_step}_pac_{pac}_glr_{v1}_gbe_{pv2}_alr_{v3}_aeb_{pv4}.pth\"\n",
    "        if not os.path.exists(mpath):\n",
    "            # Train the AE_GAN\n",
    "            print(f\"Training CTGAN: {ae_type} - ae_dim - {printable_ae_dim} - embed_dim - {embedding_dim} - gan_layers - {printable_gan_layers} - dstep - {d_step} - pac - {pac} - gan_lr - {v1} - gan_batch_epoch - {pv2} - ae_lr - {v3} - ae_batch_epoch - {pv4}\")\n",
    "            ae_gan = CTGANV2(ae_type=ae_type, ae_dim=ae_dim, embedding_dim=embedding_dim,\n",
    "                                generator_dim=gan_layers, discriminator_dim=gan_layers,\n",
    "                                discriminator_steps=d_step, pac=pac, generator_lr=v1, discriminator_lr=v1,\n",
    "                                batch_size=v2[0], epochs=v2[1], autoencoder_lr=v3, ae_batch_size=v4[0], ae_epochs=v4[1])\n",
    "            ae_gan.fit(td['train'], dt=dt, is_transformed=True, target_index=target_idx)\n",
    "            print(\"Training Complete!\")\n",
    "            # save model\n",
    "            ae_gan.save(mpath)\n",
    "        else:\n",
    "            print(f\"Loading CTGAN: {ae_type} - ae_dim - {printable_ae_dim} - embed_dim - {embedding_dim} - gan_layers - {printable_gan_layers} - dstep - {d_step} - pac - {pac} - gan_lr - {v1} - gan_batch_epoch - {pv2} - ae_lr - {v3} - ae_batch_epoch - {pv4}\")\n",
    "            ae_gan = CTGANV2().load(mpath)\n",
    "\n",
    "        best_score = torch.tensor([0.0])\n",
    "        try:\n",
    "            # Sample fake data\n",
    "            fake_data, real_data = sample_fake_adult(dt,td,ae_gan)\n",
    "            \n",
    "            print(\"Benchmarking on MLP100\")\n",
    "            # Train the MLP on fake validation data\n",
    "            for _ in range(3):\n",
    "                test_score = train_model(\n",
    "                                fake_data[0],\n",
    "                                fake_data[1],\n",
    "                                fake_data[2],\n",
    "                                fake_data[3],\n",
    "                                real_data[0],\n",
    "                                real_data[1],\n",
    "                                batch_size=256,\n",
    "                                num_epochs=100,\n",
    "                                model_type=\"classification\",\n",
    "                                verbose=False,\n",
    "                                scorer_type=\"accuracy\",\n",
    "                            )\n",
    "                if test_score > best_score:\n",
    "                    best_score = test_score\n",
    "            print(\"Benchmark Complete!\")\n",
    "        except:\n",
    "            pass\n",
    "        hp_scores[k] = best_score.item()\n",
    "    \n",
    "    hp_vals[ae_type][hp] = hp_scores\n",
    "    with open(\"adult_opt_hp.json\", 'w') as f:\n",
    "        f.write(json.dumps(hp_vals))"
   ]
  }
 ],
 "metadata": {
  "kernelspec": {
   "display_name": "csc2516",
   "language": "python",
   "name": "python3"
  },
  "language_info": {
   "codemirror_mode": {
    "name": "ipython",
    "version": 3
   },
   "file_extension": ".py",
   "mimetype": "text/x-python",
   "name": "python",
   "nbconvert_exporter": "python",
   "pygments_lexer": "ipython3",
   "version": "3.9.16"
  },
  "orig_nbformat": 4
 },
 "nbformat": 4,
 "nbformat_minor": 2
}
