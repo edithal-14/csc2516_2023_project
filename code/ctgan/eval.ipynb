{
 "cells": [
  {
   "cell_type": "markdown",
   "metadata": {},
   "source": [
    "from utils import write_transform_to_file\n",
    "write_transform_to_file('adult') # needs to be run only once per dataset"
   ]
  },
  {
   "attachments": {},
   "cell_type": "markdown",
   "metadata": {},
   "source": [
    "#### Load the data transformer and the transformed data"
   ]
  },
  {
   "cell_type": "code",
   "execution_count": 1,
   "metadata": {},
   "outputs": [
    {
     "name": "stdout",
     "output_type": "stream",
     "text": [
      "Data transformer loaded\n",
      "Transformed data loaded\n"
     ]
    }
   ],
   "source": [
    "import json\n",
    "import itertools\n",
    "import os\n",
    "import torch\n",
    "\n",
    "from ctgan.synthesizers.ae_gan import CTGANV2\n",
    "from benchmark import train_model\n",
    "from utils import load_transform_from_file, read_target_idx, sample_fake_adult\n",
    "\n",
    "\n",
    "AE_TYPES = ['vanilla', 'denoising', 'vae', 'ee']\n",
    "HP = {\n",
    "    'ae_dim' : [(256,128), (256,128,64), (256,128,64,32)], # (1)\n",
    "    'embedding_dim' : [64, 128, 256], #(2)\n",
    "    'gan_layers': [(256,256), (256,256,256,256)], # (3)\n",
    "    'discriminator_steps': [1, 5], # (4)\n",
    "    'pac': [4, 8, 16], # (4)\n",
    "    'gan_lr': [1e-5, 2e-4], # (5)\n",
    "    'gan_batch_epoch': [(256,150), (512,300)], # (5)\n",
    "    'ae_lr': [1e-4, 2e-4, 1e-3], # (5)\n",
    "    'ae_batch_epoch': [(256,50), (512,100)], # (5)\n",
    "}\n",
    "if os.path.exists(\"adult_opt_hp.json\"):\n",
    "    with open(\"adult_opt_hp.json\", 'r') as f:\n",
    "        hp_vals = json.load(f)\n",
    "else:\n",
    "    hp_vals = {k:dict.fromkeys(HP.keys()) for k in AE_TYPES}\n",
    "    for method in hp_vals.keys():\n",
    "        hp_vals[method]['dstep_pac'] = hp_vals[method].pop('discriminator_steps')\n",
    "        del hp_vals[method]['pac']\n",
    "        hp_vals[method]['gbe_aeb'] = hp_vals[method].pop('gan_lr')\n",
    "        del hp_vals[method]['gan_batch_epoch']\n",
    "        del hp_vals[method]['ae_lr']\n",
    "        del hp_vals[method]['ae_batch_epoch']\n",
    "\n",
    "# Load the transformed data\n",
    "dt, td = load_transform_from_file('adult')\n",
    "target_idx = read_target_idx('adult')"
   ]
  },
  {
   "attachments": {},
   "cell_type": "markdown",
   "metadata": {},
   "source": [
    "#### (1) Find the optimal AE dimension"
   ]
  },
  {
   "cell_type": "code",
   "execution_count": 2,
   "metadata": {},
   "outputs": [
    {
     "name": "stdout",
     "output_type": "stream",
     "text": [
      "Loading CTGAN: vanilla - ae_dim - (256, 128)\n",
      "Benchmarking on MLP100\n"
     ]
    },
    {
     "data": {
      "application/vnd.jupyter.widget-view+json": {
       "model_id": "e49cd69d41e2491c80ab541e38681cdc",
       "version_major": 2,
       "version_minor": 0
      },
      "text/plain": [
       "  0%|          | 0/100 [00:00<?, ?it/s]"
      ]
     },
     "metadata": {},
     "output_type": "display_data"
    },
    {
     "name": "stdout",
     "output_type": "stream",
     "text": [
      "Best validation score: 0.8885135054588318\n"
     ]
    },
    {
     "data": {
      "application/vnd.jupyter.widget-view+json": {
       "model_id": "b3f87811cd334f1981e78988adcc0937",
       "version_major": 2,
       "version_minor": 0
      },
      "text/plain": [
       "  0%|          | 0/100 [00:00<?, ?it/s]"
      ]
     },
     "metadata": {},
     "output_type": "display_data"
    },
    {
     "name": "stdout",
     "output_type": "stream",
     "text": [
      "Best validation score: 0.9006449580192566\n"
     ]
    },
    {
     "data": {
      "application/vnd.jupyter.widget-view+json": {
       "model_id": "3b976cf7adc74aee8bee969e668fbca3",
       "version_major": 2,
       "version_minor": 0
      },
      "text/plain": [
       "  0%|          | 0/100 [00:00<?, ?it/s]"
      ]
     },
     "metadata": {},
     "output_type": "display_data"
    },
    {
     "name": "stdout",
     "output_type": "stream",
     "text": [
      "Best validation score: 0.9055589437484741\n",
      "Benchmark Complete!\n",
      "<class 'float'>\n",
      "Loading CTGAN: vanilla - ae_dim - (256, 128, 64)\n",
      "Benchmarking on MLP100\n"
     ]
    },
    {
     "data": {
      "application/vnd.jupyter.widget-view+json": {
       "model_id": "87a4b78a827b47d09d58217cff5755f7",
       "version_major": 2,
       "version_minor": 0
      },
      "text/plain": [
       "  0%|          | 0/100 [00:00<?, ?it/s]"
      ]
     },
     "metadata": {},
     "output_type": "display_data"
    },
    {
     "name": "stdout",
     "output_type": "stream",
     "text": [
      "Best validation score: 1.0\n"
     ]
    },
    {
     "data": {
      "application/vnd.jupyter.widget-view+json": {
       "model_id": "f9b926a42730433086b66bcdd6222d2c",
       "version_major": 2,
       "version_minor": 0
      },
      "text/plain": [
       "  0%|          | 0/100 [00:00<?, ?it/s]"
      ]
     },
     "metadata": {},
     "output_type": "display_data"
    },
    {
     "name": "stdout",
     "output_type": "stream",
     "text": [
      "Best validation score: 1.0\n"
     ]
    },
    {
     "data": {
      "application/vnd.jupyter.widget-view+json": {
       "model_id": "a3cefe518b274b89b97ae9d48de684b3",
       "version_major": 2,
       "version_minor": 0
      },
      "text/plain": [
       "  0%|          | 0/100 [00:00<?, ?it/s]"
      ]
     },
     "metadata": {},
     "output_type": "display_data"
    },
    {
     "name": "stdout",
     "output_type": "stream",
     "text": [
      "Best validation score: 1.0\n",
      "Benchmark Complete!\n",
      "<class 'float'>\n",
      "Loading CTGAN: vanilla - ae_dim - (256, 128, 64, 32)\n",
      "Benchmarking on MLP100\n"
     ]
    },
    {
     "data": {
      "application/vnd.jupyter.widget-view+json": {
       "model_id": "d9ac3fe7dd1e497ab4b536382d34f07c",
       "version_major": 2,
       "version_minor": 0
      },
      "text/plain": [
       "  0%|          | 0/100 [00:00<?, ?it/s]"
      ]
     },
     "metadata": {},
     "output_type": "display_data"
    },
    {
     "name": "stdout",
     "output_type": "stream",
     "text": [
      "Best validation score: 1.0\n"
     ]
    },
    {
     "data": {
      "application/vnd.jupyter.widget-view+json": {
       "model_id": "2c1574b52aa044a7a7af23e057765b3b",
       "version_major": 2,
       "version_minor": 0
      },
      "text/plain": [
       "  0%|          | 0/100 [00:00<?, ?it/s]"
      ]
     },
     "metadata": {},
     "output_type": "display_data"
    },
    {
     "name": "stdout",
     "output_type": "stream",
     "text": [
      "Best validation score: 1.0\n"
     ]
    },
    {
     "data": {
      "application/vnd.jupyter.widget-view+json": {
       "model_id": "1885293b4c734f9781a2c0f5c8d5c058",
       "version_major": 2,
       "version_minor": 0
      },
      "text/plain": [
       "  0%|          | 0/100 [00:00<?, ?it/s]"
      ]
     },
     "metadata": {},
     "output_type": "display_data"
    },
    {
     "name": "stdout",
     "output_type": "stream",
     "text": [
      "Best validation score: 1.0\n",
      "Benchmark Complete!\n",
      "<class 'float'>\n",
      "Training CTGAN: denoising - ae_dim - (256, 128)\n",
      "Training Complete!\n",
      "Benchmarking on MLP100\n"
     ]
    },
    {
     "data": {
      "application/vnd.jupyter.widget-view+json": {
       "model_id": "7fb00af500054403aa21bf2b08cd64ec",
       "version_major": 2,
       "version_minor": 0
      },
      "text/plain": [
       "  0%|          | 0/100 [00:00<?, ?it/s]"
      ]
     },
     "metadata": {},
     "output_type": "display_data"
    },
    {
     "name": "stdout",
     "output_type": "stream",
     "text": [
      "Best validation score: 0.8991093635559082\n"
     ]
    },
    {
     "data": {
      "application/vnd.jupyter.widget-view+json": {
       "model_id": "1224e4ba40f3411198b61a84f1a0aa7c",
       "version_major": 2,
       "version_minor": 0
      },
      "text/plain": [
       "  0%|          | 0/100 [00:00<?, ?it/s]"
      ]
     },
     "metadata": {},
     "output_type": "display_data"
    },
    {
     "name": "stdout",
     "output_type": "stream",
     "text": [
      "Best validation score: 0.896652340888977\n"
     ]
    },
    {
     "data": {
      "application/vnd.jupyter.widget-view+json": {
       "model_id": "612874ff3792460cbfb0fc89be3cd954",
       "version_major": 2,
       "version_minor": 0
      },
      "text/plain": [
       "  0%|          | 0/100 [00:00<?, ?it/s]"
      ]
     },
     "metadata": {},
     "output_type": "display_data"
    },
    {
     "name": "stdout",
     "output_type": "stream",
     "text": [
      "Best validation score: 0.9018734693527222\n",
      "Benchmark Complete!\n",
      "<class 'float'>\n",
      "Training CTGAN: denoising - ae_dim - (256, 128, 64)\n",
      "Training Complete!\n",
      "Benchmarking on MLP100\n"
     ]
    },
    {
     "data": {
      "application/vnd.jupyter.widget-view+json": {
       "model_id": "7e12fa5d5aa543439b1b45d6305516f4",
       "version_major": 2,
       "version_minor": 0
      },
      "text/plain": [
       "  0%|          | 0/100 [00:00<?, ?it/s]"
      ]
     },
     "metadata": {},
     "output_type": "display_data"
    },
    {
     "name": "stdout",
     "output_type": "stream",
     "text": [
      "Best validation score: 0.898034393787384\n"
     ]
    },
    {
     "data": {
      "application/vnd.jupyter.widget-view+json": {
       "model_id": "134bf6d2059146a1b73884031c684238",
       "version_major": 2,
       "version_minor": 0
      },
      "text/plain": [
       "  0%|          | 0/100 [00:00<?, ?it/s]"
      ]
     },
     "metadata": {},
     "output_type": "display_data"
    },
    {
     "name": "stdout",
     "output_type": "stream",
     "text": [
      "Best validation score: 0.9077088236808777\n"
     ]
    },
    {
     "data": {
      "application/vnd.jupyter.widget-view+json": {
       "model_id": "4c9468b5ea8741729234da278ea15067",
       "version_major": 2,
       "version_minor": 0
      },
      "text/plain": [
       "  0%|          | 0/100 [00:00<?, ?it/s]"
      ]
     },
     "metadata": {},
     "output_type": "display_data"
    },
    {
     "name": "stdout",
     "output_type": "stream",
     "text": [
      "Best validation score: 0.8992629051208496\n",
      "Benchmark Complete!\n",
      "<class 'float'>\n",
      "Training CTGAN: denoising - ae_dim - (256, 128, 64, 32)\n",
      "Training Complete!\n",
      "Benchmarking on MLP100\n"
     ]
    },
    {
     "data": {
      "application/vnd.jupyter.widget-view+json": {
       "model_id": "ac8596732f9a466faea838fc4f158536",
       "version_major": 2,
       "version_minor": 0
      },
      "text/plain": [
       "  0%|          | 0/100 [00:00<?, ?it/s]"
      ]
     },
     "metadata": {},
     "output_type": "display_data"
    },
    {
     "name": "stdout",
     "output_type": "stream",
     "text": [
      "Best validation score: 1.0\n"
     ]
    },
    {
     "data": {
      "application/vnd.jupyter.widget-view+json": {
       "model_id": "35018c271613480abf4fa92490063358",
       "version_major": 2,
       "version_minor": 0
      },
      "text/plain": [
       "  0%|          | 0/100 [00:00<?, ?it/s]"
      ]
     },
     "metadata": {},
     "output_type": "display_data"
    },
    {
     "name": "stdout",
     "output_type": "stream",
     "text": [
      "Best validation score: 1.0\n"
     ]
    },
    {
     "data": {
      "application/vnd.jupyter.widget-view+json": {
       "model_id": "db0090411d004600bdee5d61ad0a871e",
       "version_major": 2,
       "version_minor": 0
      },
      "text/plain": [
       "  0%|          | 0/100 [00:00<?, ?it/s]"
      ]
     },
     "metadata": {},
     "output_type": "display_data"
    },
    {
     "name": "stdout",
     "output_type": "stream",
     "text": [
      "Best validation score: 1.0\n",
      "Benchmark Complete!\n",
      "<class 'float'>\n",
      "Training CTGAN: vae - ae_dim - (256, 128)\n",
      "Training Complete!\n",
      "Benchmarking on MLP100\n"
     ]
    },
    {
     "data": {
      "application/vnd.jupyter.widget-view+json": {
       "model_id": "af5387f37fbd484697fff250106a62bb",
       "version_major": 2,
       "version_minor": 0
      },
      "text/plain": [
       "  0%|          | 0/100 [00:00<?, ?it/s]"
      ]
     },
     "metadata": {},
     "output_type": "display_data"
    },
    {
     "name": "stdout",
     "output_type": "stream",
     "text": [
      "Best validation score: 1.0\n"
     ]
    },
    {
     "data": {
      "application/vnd.jupyter.widget-view+json": {
       "model_id": "148476f072e74ac3b1f205fab5dc22cd",
       "version_major": 2,
       "version_minor": 0
      },
      "text/plain": [
       "  0%|          | 0/100 [00:00<?, ?it/s]"
      ]
     },
     "metadata": {},
     "output_type": "display_data"
    },
    {
     "name": "stdout",
     "output_type": "stream",
     "text": [
      "Best validation score: 1.0\n"
     ]
    },
    {
     "data": {
      "application/vnd.jupyter.widget-view+json": {
       "model_id": "5d16ebbaae8242bc8668f7503c406455",
       "version_major": 2,
       "version_minor": 0
      },
      "text/plain": [
       "  0%|          | 0/100 [00:00<?, ?it/s]"
      ]
     },
     "metadata": {},
     "output_type": "display_data"
    },
    {
     "name": "stdout",
     "output_type": "stream",
     "text": [
      "Best validation score: 1.0\n",
      "Benchmark Complete!\n",
      "<class 'float'>\n",
      "Training CTGAN: vae - ae_dim - (256, 128, 64)\n",
      "Training Complete!\n",
      "Benchmarking on MLP100\n"
     ]
    },
    {
     "name": "stderr",
     "output_type": "stream",
     "text": [
      "/home/y2k/CSC2516_Project/code/ctgan/utils.py:132: PerformanceWarning: DataFrame is highly fragmented.  This is usually the result of calling `frame.insert` many times, which has poor performance.  Consider joining all columns at once using pd.concat(axis=1) instead. To get a de-fragmented frame, use `newframe = frame.copy()`\n",
      "  fake_df[col_name] = 0\n"
     ]
    },
    {
     "data": {
      "application/vnd.jupyter.widget-view+json": {
       "model_id": "725d6ce8cf9c491fb02490918538438c",
       "version_major": 2,
       "version_minor": 0
      },
      "text/plain": [
       "  0%|          | 0/100 [00:00<?, ?it/s]"
      ]
     },
     "metadata": {},
     "output_type": "display_data"
    },
    {
     "name": "stdout",
     "output_type": "stream",
     "text": [
      "Best validation score: 1.0\n"
     ]
    },
    {
     "data": {
      "application/vnd.jupyter.widget-view+json": {
       "model_id": "cece79c5a8614756b022cde615310984",
       "version_major": 2,
       "version_minor": 0
      },
      "text/plain": [
       "  0%|          | 0/100 [00:00<?, ?it/s]"
      ]
     },
     "metadata": {},
     "output_type": "display_data"
    },
    {
     "name": "stdout",
     "output_type": "stream",
     "text": [
      "Best validation score: 1.0\n"
     ]
    },
    {
     "data": {
      "application/vnd.jupyter.widget-view+json": {
       "model_id": "46bfc8e6fd974b24a9c6dca4f0b35d9a",
       "version_major": 2,
       "version_minor": 0
      },
      "text/plain": [
       "  0%|          | 0/100 [00:00<?, ?it/s]"
      ]
     },
     "metadata": {},
     "output_type": "display_data"
    },
    {
     "name": "stdout",
     "output_type": "stream",
     "text": [
      "Best validation score: 1.0\n",
      "Benchmark Complete!\n",
      "<class 'float'>\n",
      "Training CTGAN: vae - ae_dim - (256, 128, 64, 32)\n",
      "Training Complete!\n",
      "Benchmarking on MLP100\n"
     ]
    },
    {
     "name": "stderr",
     "output_type": "stream",
     "text": [
      "/home/y2k/CSC2516_Project/code/ctgan/utils.py:132: PerformanceWarning: DataFrame is highly fragmented.  This is usually the result of calling `frame.insert` many times, which has poor performance.  Consider joining all columns at once using pd.concat(axis=1) instead. To get a de-fragmented frame, use `newframe = frame.copy()`\n",
      "  fake_df[col_name] = 0\n"
     ]
    },
    {
     "data": {
      "application/vnd.jupyter.widget-view+json": {
       "model_id": "2885f48753a349a38bbf39a9148f4ea3",
       "version_major": 2,
       "version_minor": 0
      },
      "text/plain": [
       "  0%|          | 0/100 [00:00<?, ?it/s]"
      ]
     },
     "metadata": {},
     "output_type": "display_data"
    },
    {
     "name": "stdout",
     "output_type": "stream",
     "text": [
      "Best validation score: 1.0\n"
     ]
    },
    {
     "data": {
      "application/vnd.jupyter.widget-view+json": {
       "model_id": "53b806b6d02c464fa1b13174c84cad8d",
       "version_major": 2,
       "version_minor": 0
      },
      "text/plain": [
       "  0%|          | 0/100 [00:00<?, ?it/s]"
      ]
     },
     "metadata": {},
     "output_type": "display_data"
    },
    {
     "name": "stdout",
     "output_type": "stream",
     "text": [
      "Best validation score: 1.0\n"
     ]
    },
    {
     "data": {
      "application/vnd.jupyter.widget-view+json": {
       "model_id": "60020383ddf346f698c8eb8e331b8d91",
       "version_major": 2,
       "version_minor": 0
      },
      "text/plain": [
       "  0%|          | 0/100 [00:00<?, ?it/s]"
      ]
     },
     "metadata": {},
     "output_type": "display_data"
    },
    {
     "name": "stdout",
     "output_type": "stream",
     "text": [
      "Best validation score: 1.0\n",
      "Benchmark Complete!\n",
      "<class 'float'>\n",
      "Training CTGAN: ee - ae_dim - (256, 128)\n",
      "Training Complete!\n",
      "Benchmarking on MLP100\n"
     ]
    },
    {
     "data": {
      "application/vnd.jupyter.widget-view+json": {
       "model_id": "d6613911823b42aa8246bf20cf99eda0",
       "version_major": 2,
       "version_minor": 0
      },
      "text/plain": [
       "  0%|          | 0/100 [00:00<?, ?it/s]"
      ]
     },
     "metadata": {},
     "output_type": "display_data"
    },
    {
     "name": "stdout",
     "output_type": "stream",
     "text": [
      "Best validation score: 0.8929668068885803\n"
     ]
    },
    {
     "data": {
      "application/vnd.jupyter.widget-view+json": {
       "model_id": "52812aae607c4b54824b3098d350767e",
       "version_major": 2,
       "version_minor": 0
      },
      "text/plain": [
       "  0%|          | 0/100 [00:00<?, ?it/s]"
      ]
     },
     "metadata": {},
     "output_type": "display_data"
    },
    {
     "name": "stdout",
     "output_type": "stream",
     "text": [
      "Best validation score: 0.8657862544059753\n"
     ]
    },
    {
     "data": {
      "application/vnd.jupyter.widget-view+json": {
       "model_id": "58ba8a13714a46c7ae6b4d288b5522b1",
       "version_major": 2,
       "version_minor": 0
      },
      "text/plain": [
       "  0%|          | 0/100 [00:00<?, ?it/s]"
      ]
     },
     "metadata": {},
     "output_type": "display_data"
    },
    {
     "name": "stdout",
     "output_type": "stream",
     "text": [
      "Best validation score: 0.8650184273719788\n",
      "Benchmark Complete!\n",
      "<class 'float'>\n",
      "Training CTGAN: ee - ae_dim - (256, 128, 64)\n",
      "Training Complete!\n",
      "Benchmarking on MLP100\n"
     ]
    },
    {
     "data": {
      "application/vnd.jupyter.widget-view+json": {
       "model_id": "eb95348c1ed34d02b8c811b2273a5b03",
       "version_major": 2,
       "version_minor": 0
      },
      "text/plain": [
       "  0%|          | 0/100 [00:00<?, ?it/s]"
      ]
     },
     "metadata": {},
     "output_type": "display_data"
    },
    {
     "name": "stdout",
     "output_type": "stream",
     "text": [
      "Best validation score: 0.999539315700531\n"
     ]
    },
    {
     "data": {
      "application/vnd.jupyter.widget-view+json": {
       "model_id": "009f3d08808441ea992a52cde91ffbe6",
       "version_major": 2,
       "version_minor": 0
      },
      "text/plain": [
       "  0%|          | 0/100 [00:00<?, ?it/s]"
      ]
     },
     "metadata": {},
     "output_type": "display_data"
    },
    {
     "name": "stdout",
     "output_type": "stream",
     "text": [
      "Best validation score: 0.999539315700531\n"
     ]
    },
    {
     "data": {
      "application/vnd.jupyter.widget-view+json": {
       "model_id": "017e3ac3898349a0a8301d92c0d23a2a",
       "version_major": 2,
       "version_minor": 0
      },
      "text/plain": [
       "  0%|          | 0/100 [00:00<?, ?it/s]"
      ]
     },
     "metadata": {},
     "output_type": "display_data"
    },
    {
     "name": "stdout",
     "output_type": "stream",
     "text": [
      "Best validation score: 0.999539315700531\n",
      "Benchmark Complete!\n",
      "<class 'float'>\n",
      "Training CTGAN: ee - ae_dim - (256, 128, 64, 32)\n",
      "Training Complete!\n",
      "Benchmarking on MLP100\n"
     ]
    },
    {
     "name": "stderr",
     "output_type": "stream",
     "text": [
      "/home/y2k/CSC2516_Project/code/ctgan/utils.py:132: PerformanceWarning: DataFrame is highly fragmented.  This is usually the result of calling `frame.insert` many times, which has poor performance.  Consider joining all columns at once using pd.concat(axis=1) instead. To get a de-fragmented frame, use `newframe = frame.copy()`\n",
      "  fake_df[col_name] = 0\n",
      "/home/y2k/CSC2516_Project/code/ctgan/utils.py:132: PerformanceWarning: DataFrame is highly fragmented.  This is usually the result of calling `frame.insert` many times, which has poor performance.  Consider joining all columns at once using pd.concat(axis=1) instead. To get a de-fragmented frame, use `newframe = frame.copy()`\n",
      "  fake_df[col_name] = 0\n"
     ]
    },
    {
     "data": {
      "application/vnd.jupyter.widget-view+json": {
       "model_id": "0c443f51f33b46e59701deadc789279f",
       "version_major": 2,
       "version_minor": 0
      },
      "text/plain": [
       "  0%|          | 0/100 [00:00<?, ?it/s]"
      ]
     },
     "metadata": {},
     "output_type": "display_data"
    },
    {
     "name": "stdout",
     "output_type": "stream",
     "text": [
      "Best validation score: 1.0\n"
     ]
    },
    {
     "data": {
      "application/vnd.jupyter.widget-view+json": {
       "model_id": "01347a7e42ff490387a12cfb9c727abc",
       "version_major": 2,
       "version_minor": 0
      },
      "text/plain": [
       "  0%|          | 0/100 [00:00<?, ?it/s]"
      ]
     },
     "metadata": {},
     "output_type": "display_data"
    },
    {
     "name": "stdout",
     "output_type": "stream",
     "text": [
      "Best validation score: 1.0\n"
     ]
    },
    {
     "data": {
      "application/vnd.jupyter.widget-view+json": {
       "model_id": "7b63e7d7ab6c4ae78887eb3e07680ab4",
       "version_major": 2,
       "version_minor": 0
      },
      "text/plain": [
       "  0%|          | 0/100 [00:00<?, ?it/s]"
      ]
     },
     "metadata": {},
     "output_type": "display_data"
    },
    {
     "name": "stdout",
     "output_type": "stream",
     "text": [
      "Best validation score: 1.0\n",
      "Benchmark Complete!\n",
      "<class 'float'>\n",
      "{\n",
      "    \"vanilla\": {\n",
      "        \"ae_dim\": {\n",
      "            \"256_128\": 0.7751842737197876,\n",
      "            \"256_128_64\": 0.7592137455940247,\n",
      "            \"256_128_64_32\": 0.7598280310630798\n",
      "        },\n",
      "        \"embedding_dim\": null,\n",
      "        \"gan_layers\": null,\n",
      "        \"discriminator_steps\": null,\n",
      "        \"pac\": null,\n",
      "        \"gan_lr\": null,\n",
      "        \"gan_batch_epoch\": null,\n",
      "        \"ae_lr\": null,\n",
      "        \"ae_batch_epoch\": null\n",
      "    },\n",
      "    \"denoising\": {\n",
      "        \"ae_dim\": {\n",
      "            \"256_128\": 0.7714987993240356,\n",
      "            \"256_128_64\": 0.30850738286972046,\n",
      "            \"256_128_64_32\": 0.7624385952949524\n",
      "        },\n",
      "        \"embedding_dim\": null,\n",
      "        \"gan_layers\": null,\n",
      "        \"discriminator_steps\": null,\n",
      "        \"pac\": null,\n",
      "        \"gan_lr\": null,\n",
      "        \"gan_batch_epoch\": null,\n",
      "        \"ae_lr\": null,\n",
      "        \"ae_batch_epoch\": null\n",
      "    },\n",
      "    \"vae\": {\n",
      "        \"ae_dim\": {\n",
      "            \"256_128\": 0.7592137455940247,\n",
      "            \"256_128_64\": 0.7593673467636108,\n",
      "            \"256_128_64_32\": 0.7619779109954834\n",
      "        },\n",
      "        \"embedding_dim\": null,\n",
      "        \"gan_layers\": null,\n",
      "        \"discriminator_steps\": null,\n",
      "        \"pac\": null,\n",
      "        \"gan_lr\": null,\n",
      "        \"gan_batch_epoch\": null,\n",
      "        \"ae_lr\": null,\n",
      "        \"ae_batch_epoch\": null\n",
      "    },\n",
      "    \"ee\": {\n",
      "        \"ae_dim\": {\n",
      "            \"256_128\": 0.7599815726280212,\n",
      "            \"256_128_64\": 0.7693489193916321,\n",
      "            \"256_128_64_32\": 0.7595208883285522\n",
      "        },\n",
      "        \"embedding_dim\": null,\n",
      "        \"gan_layers\": null,\n",
      "        \"discriminator_steps\": null,\n",
      "        \"pac\": null,\n",
      "        \"gan_lr\": null,\n",
      "        \"gan_batch_epoch\": null,\n",
      "        \"ae_lr\": null,\n",
      "        \"ae_batch_epoch\": null\n",
      "    }\n",
      "}\n"
     ]
    }
   ],
   "source": [
    "hp = 'ae_dim'\n",
    "\n",
    "for ae_type in AE_TYPES:\n",
    "    hp_scores = dict()\n",
    "    for v in HP[hp]:\n",
    "        k = '_'.join(str(i) for i in v)\n",
    "        if not os.path.exists(f\"../../models/ae_gan_{ae_type}_{hp}_{k}.pth\"):\n",
    "            # Train the AE_GAN\n",
    "            print(f\"Training CTGAN: {ae_type} - {hp} - {v}\")\n",
    "            ae_gan = CTGANV2(ae_type=ae_type, ae_dim=v)\n",
    "            ae_gan.fit(td['train'],dt=dt,is_transformed=True, target_index=target_idx)\n",
    "            print(\"Training Complete!\")\n",
    "            # save model\n",
    "            ae_gan.save(f\"../../models/ae_gan_{ae_type}_{hp}_{k}.pth\")\n",
    "        else:\n",
    "            print(f\"Loading CTGAN: {ae_type} - {hp} - {v}\")\n",
    "            ae_gan = CTGANV2().load(f\"../../models/ae_gan_{ae_type}_{hp}_{k}.pth\")\n",
    "\n",
    "        best_score = torch.tensor([0.0])\n",
    "        try:\n",
    "            # Sample fake data\n",
    "            fake_data, real_data = sample_fake_adult(dt,td,ae_gan)\n",
    "            \n",
    "            print(\"Benchmarking on MLP100\")\n",
    "            # Train the MLP on fake validation data\n",
    "            for _ in range(3):\n",
    "                test_score = train_model(\n",
    "                                fake_data[0],\n",
    "                                fake_data[1],\n",
    "                                fake_data[2],\n",
    "                                fake_data[3],\n",
    "                                real_data[0],\n",
    "                                real_data[1],\n",
    "                                batch_size=256,\n",
    "                                num_epochs=100,\n",
    "                                model_type=\"classification\",\n",
    "                                verbose=False,\n",
    "                                scorer_type=\"accuracy\",\n",
    "                            )\n",
    "                if test_score > best_score:\n",
    "                    best_score = test_score\n",
    "            print(\"Benchmark Complete!\")\n",
    "        except:\n",
    "            pass\n",
    "        hp_scores[k] = best_score.item()\n",
    "    \n",
    "    hp_vals[ae_type][hp] = hp_scores\n",
    "    with open(\"adult_opt_hp.json\", 'w') as f:\n",
    "        f.write(json.dumps(hp_vals))"
   ]
  },
  {
   "attachments": {},
   "cell_type": "markdown",
   "metadata": {},
   "source": [
    "#### (2) Find the optimal G latent dimension"
   ]
  },
  {
   "cell_type": "code",
   "execution_count": 8,
   "metadata": {},
   "outputs": [
    {
     "name": "stdout",
     "output_type": "stream",
     "text": [
      "Loading CTGAN: vanilla - ae_dim - 256_128 - embedding_dim - 64\n",
      "Benchmarking on MLP100\n"
     ]
    },
    {
     "data": {
      "application/vnd.jupyter.widget-view+json": {
       "model_id": "1ede670df30f44a580ce3629433d1e27",
       "version_major": 2,
       "version_minor": 0
      },
      "text/plain": [
       "  0%|          | 0/100 [00:00<?, ?it/s]"
      ]
     },
     "metadata": {},
     "output_type": "display_data"
    },
    {
     "name": "stdout",
     "output_type": "stream",
     "text": [
      "Best validation score: 0.937039315700531\n"
     ]
    },
    {
     "data": {
      "application/vnd.jupyter.widget-view+json": {
       "model_id": "8320a10bc75a49c9b673023fb98404eb",
       "version_major": 2,
       "version_minor": 0
      },
      "text/plain": [
       "  0%|          | 0/100 [00:00<?, ?it/s]"
      ]
     },
     "metadata": {},
     "output_type": "display_data"
    },
    {
     "name": "stdout",
     "output_type": "stream",
     "text": [
      "Best validation score: 0.9348894357681274\n"
     ]
    },
    {
     "data": {
      "application/vnd.jupyter.widget-view+json": {
       "model_id": "9c056205453a4dc08292b22277e60d31",
       "version_major": 2,
       "version_minor": 0
      },
      "text/plain": [
       "  0%|          | 0/100 [00:00<?, ?it/s]"
      ]
     },
     "metadata": {},
     "output_type": "display_data"
    },
    {
     "name": "stdout",
     "output_type": "stream",
     "text": [
      "Best validation score: 0.9298218488693237\n",
      "Benchmark Complete!\n",
      "Loading CTGAN: vanilla - ae_dim - 256_128 - embedding_dim - 128\n",
      "Benchmarking on MLP100\n"
     ]
    },
    {
     "data": {
      "application/vnd.jupyter.widget-view+json": {
       "model_id": "06caa41520b94ee780c7911ab13cfcc3",
       "version_major": 2,
       "version_minor": 0
      },
      "text/plain": [
       "  0%|          | 0/100 [00:00<?, ?it/s]"
      ]
     },
     "metadata": {},
     "output_type": "display_data"
    },
    {
     "name": "stdout",
     "output_type": "stream",
     "text": [
      "Best validation score: 0.8582616448402405\n"
     ]
    },
    {
     "data": {
      "application/vnd.jupyter.widget-view+json": {
       "model_id": "86cc20f56aed419990b383a6d9b911d3",
       "version_major": 2,
       "version_minor": 0
      },
      "text/plain": [
       "  0%|          | 0/100 [00:00<?, ?it/s]"
      ]
     },
     "metadata": {},
     "output_type": "display_data"
    },
    {
     "name": "stdout",
     "output_type": "stream",
     "text": [
      "Best validation score: 0.8816031813621521\n"
     ]
    },
    {
     "data": {
      "application/vnd.jupyter.widget-view+json": {
       "model_id": "1d2e423f1c254cf9affe8e477e59a8b1",
       "version_major": 2,
       "version_minor": 0
      },
      "text/plain": [
       "  0%|          | 0/100 [00:00<?, ?it/s]"
      ]
     },
     "metadata": {},
     "output_type": "display_data"
    },
    {
     "name": "stdout",
     "output_type": "stream",
     "text": [
      "Best validation score: 0.8828316926956177\n",
      "Benchmark Complete!\n",
      "Loading CTGAN: vanilla - ae_dim - 256_128 - embedding_dim - 256\n",
      "Benchmarking on MLP100\n"
     ]
    },
    {
     "data": {
      "application/vnd.jupyter.widget-view+json": {
       "model_id": "f95e24ee7f7b4b7ba684a6e989a272e3",
       "version_major": 2,
       "version_minor": 0
      },
      "text/plain": [
       "  0%|          | 0/100 [00:00<?, ?it/s]"
      ]
     },
     "metadata": {},
     "output_type": "display_data"
    },
    {
     "name": "stdout",
     "output_type": "stream",
     "text": [
      "Best validation score: 0.9190725088119507\n"
     ]
    },
    {
     "data": {
      "application/vnd.jupyter.widget-view+json": {
       "model_id": "57b80b822c3c4c2b9d036c44f85b4f08",
       "version_major": 2,
       "version_minor": 0
      },
      "text/plain": [
       "  0%|          | 0/100 [00:00<?, ?it/s]"
      ]
     },
     "metadata": {},
     "output_type": "display_data"
    },
    {
     "name": "stdout",
     "output_type": "stream",
     "text": [
      "Best validation score: 0.9179975390434265\n"
     ]
    },
    {
     "data": {
      "application/vnd.jupyter.widget-view+json": {
       "model_id": "cfbf0df0797b43b3934718a07ec0bd81",
       "version_major": 2,
       "version_minor": 0
      },
      "text/plain": [
       "  0%|          | 0/100 [00:00<?, ?it/s]"
      ]
     },
     "metadata": {},
     "output_type": "display_data"
    },
    {
     "name": "stdout",
     "output_type": "stream",
     "text": [
      "Best validation score: 0.9252150058746338\n",
      "Benchmark Complete!\n",
      "Loading CTGAN: denoising - ae_dim - 256_128 - embedding_dim - 64\n",
      "Benchmarking on MLP100\n"
     ]
    },
    {
     "data": {
      "application/vnd.jupyter.widget-view+json": {
       "model_id": "bcc59317761a4da4846a3202d3d4b6e8",
       "version_major": 2,
       "version_minor": 0
      },
      "text/plain": [
       "  0%|          | 0/100 [00:00<?, ?it/s]"
      ]
     },
     "metadata": {},
     "output_type": "display_data"
    },
    {
     "name": "stdout",
     "output_type": "stream",
     "text": [
      "Best validation score: 0.9037162065505981\n"
     ]
    },
    {
     "data": {
      "application/vnd.jupyter.widget-view+json": {
       "model_id": "5c503bf2034f4fde88a9013f430e437f",
       "version_major": 2,
       "version_minor": 0
      },
      "text/plain": [
       "  0%|          | 0/100 [00:00<?, ?it/s]"
      ]
     },
     "metadata": {},
     "output_type": "display_data"
    },
    {
     "name": "stdout",
     "output_type": "stream",
     "text": [
      "Best validation score: 0.8802211284637451\n"
     ]
    },
    {
     "data": {
      "application/vnd.jupyter.widget-view+json": {
       "model_id": "22d4e4e51dd34035a0029ae0bf643484",
       "version_major": 2,
       "version_minor": 0
      },
      "text/plain": [
       "  0%|          | 0/100 [00:00<?, ?it/s]"
      ]
     },
     "metadata": {},
     "output_type": "display_data"
    },
    {
     "name": "stdout",
     "output_type": "stream",
     "text": [
      "Best validation score: 0.9077088236808777\n",
      "Benchmark Complete!\n",
      "Loading CTGAN: denoising - ae_dim - 256_128 - embedding_dim - 128\n",
      "Benchmarking on MLP100\n"
     ]
    },
    {
     "data": {
      "application/vnd.jupyter.widget-view+json": {
       "model_id": "e974db2b2bde46f7b2dd2277f223cd54",
       "version_major": 2,
       "version_minor": 0
      },
      "text/plain": [
       "  0%|          | 0/100 [00:00<?, ?it/s]"
      ]
     },
     "metadata": {},
     "output_type": "display_data"
    },
    {
     "name": "stdout",
     "output_type": "stream",
     "text": [
      "Best validation score: 0.8687039017677307\n"
     ]
    },
    {
     "data": {
      "application/vnd.jupyter.widget-view+json": {
       "model_id": "d0c0091ea41747beb10cc756fad8995f",
       "version_major": 2,
       "version_minor": 0
      },
      "text/plain": [
       "  0%|          | 0/100 [00:00<?, ?it/s]"
      ]
     },
     "metadata": {},
     "output_type": "display_data"
    },
    {
     "name": "stdout",
     "output_type": "stream",
     "text": [
      "Best validation score: 0.8493550419807434\n"
     ]
    },
    {
     "data": {
      "application/vnd.jupyter.widget-view+json": {
       "model_id": "ec1b9d8932764aedb787a0842cfd39c6",
       "version_major": 2,
       "version_minor": 0
      },
      "text/plain": [
       "  0%|          | 0/100 [00:00<?, ?it/s]"
      ]
     },
     "metadata": {},
     "output_type": "display_data"
    },
    {
     "name": "stdout",
     "output_type": "stream",
     "text": [
      "Best validation score: 0.8690110445022583\n",
      "Benchmark Complete!\n",
      "Loading CTGAN: denoising - ae_dim - 256_128 - embedding_dim - 256\n",
      "Benchmarking on MLP100\n"
     ]
    },
    {
     "data": {
      "application/vnd.jupyter.widget-view+json": {
       "model_id": "77b473e7972a40698d90df10b2375dad",
       "version_major": 2,
       "version_minor": 0
      },
      "text/plain": [
       "  0%|          | 0/100 [00:00<?, ?it/s]"
      ]
     },
     "metadata": {},
     "output_type": "display_data"
    },
    {
     "name": "stdout",
     "output_type": "stream",
     "text": [
      "Best validation score: 0.9950860142707825\n"
     ]
    },
    {
     "data": {
      "application/vnd.jupyter.widget-view+json": {
       "model_id": "b3309a47c3dc44f9a2b18977308fed30",
       "version_major": 2,
       "version_minor": 0
      },
      "text/plain": [
       "  0%|          | 0/100 [00:00<?, ?it/s]"
      ]
     },
     "metadata": {},
     "output_type": "display_data"
    },
    {
     "name": "stdout",
     "output_type": "stream",
     "text": [
      "Best validation score: 0.9946253299713135\n"
     ]
    },
    {
     "data": {
      "application/vnd.jupyter.widget-view+json": {
       "model_id": "1234a66d1f8b44e6b552f746a22b7df4",
       "version_major": 2,
       "version_minor": 0
      },
      "text/plain": [
       "  0%|          | 0/100 [00:00<?, ?it/s]"
      ]
     },
     "metadata": {},
     "output_type": "display_data"
    },
    {
     "name": "stdout",
     "output_type": "stream",
     "text": [
      "Best validation score: 0.9950860142707825\n",
      "Benchmark Complete!\n",
      "Loading CTGAN: vae - ae_dim - 256_128_64_32 - embedding_dim - 64\n",
      "Benchmarking on MLP100\n"
     ]
    },
    {
     "name": "stderr",
     "output_type": "stream",
     "text": [
      "/home/y2k/CSC2516_Project/code/ctgan/utils.py:132: PerformanceWarning: DataFrame is highly fragmented.  This is usually the result of calling `frame.insert` many times, which has poor performance.  Consider joining all columns at once using pd.concat(axis=1) instead. To get a de-fragmented frame, use `newframe = frame.copy()`\n",
      "  fake_df[col_name] = 0\n"
     ]
    },
    {
     "data": {
      "application/vnd.jupyter.widget-view+json": {
       "model_id": "3d3ab40027f44a068ca663489d70fdb9",
       "version_major": 2,
       "version_minor": 0
      },
      "text/plain": [
       "  0%|          | 0/100 [00:00<?, ?it/s]"
      ]
     },
     "metadata": {},
     "output_type": "display_data"
    },
    {
     "name": "stdout",
     "output_type": "stream",
     "text": [
      "Best validation score: 1.0\n"
     ]
    },
    {
     "data": {
      "application/vnd.jupyter.widget-view+json": {
       "model_id": "82285febe70044ed85d009fbb5cfc82c",
       "version_major": 2,
       "version_minor": 0
      },
      "text/plain": [
       "  0%|          | 0/100 [00:00<?, ?it/s]"
      ]
     },
     "metadata": {},
     "output_type": "display_data"
    },
    {
     "name": "stdout",
     "output_type": "stream",
     "text": [
      "Best validation score: 1.0\n"
     ]
    },
    {
     "data": {
      "application/vnd.jupyter.widget-view+json": {
       "model_id": "72b77375d0e34ef3a2dffea8176cbbf2",
       "version_major": 2,
       "version_minor": 0
      },
      "text/plain": [
       "  0%|          | 0/100 [00:00<?, ?it/s]"
      ]
     },
     "metadata": {},
     "output_type": "display_data"
    },
    {
     "name": "stdout",
     "output_type": "stream",
     "text": [
      "Best validation score: 1.0\n",
      "Benchmark Complete!\n",
      "Loading CTGAN: vae - ae_dim - 256_128_64_32 - embedding_dim - 128\n",
      "Benchmarking on MLP100\n"
     ]
    },
    {
     "name": "stderr",
     "output_type": "stream",
     "text": [
      "/home/y2k/CSC2516_Project/code/ctgan/utils.py:132: PerformanceWarning: DataFrame is highly fragmented.  This is usually the result of calling `frame.insert` many times, which has poor performance.  Consider joining all columns at once using pd.concat(axis=1) instead. To get a de-fragmented frame, use `newframe = frame.copy()`\n",
      "  fake_df[col_name] = 0\n",
      "/home/y2k/CSC2516_Project/code/ctgan/utils.py:132: PerformanceWarning: DataFrame is highly fragmented.  This is usually the result of calling `frame.insert` many times, which has poor performance.  Consider joining all columns at once using pd.concat(axis=1) instead. To get a de-fragmented frame, use `newframe = frame.copy()`\n",
      "  fake_df[col_name] = 0\n"
     ]
    },
    {
     "data": {
      "application/vnd.jupyter.widget-view+json": {
       "model_id": "cfa0d6a20ca94c1cb4fe13e24176bebb",
       "version_major": 2,
       "version_minor": 0
      },
      "text/plain": [
       "  0%|          | 0/100 [00:00<?, ?it/s]"
      ]
     },
     "metadata": {},
     "output_type": "display_data"
    },
    {
     "name": "stdout",
     "output_type": "stream",
     "text": [
      "Best validation score: 1.0\n"
     ]
    },
    {
     "data": {
      "application/vnd.jupyter.widget-view+json": {
       "model_id": "ad69c5d4ca324866800dea86b79e2071",
       "version_major": 2,
       "version_minor": 0
      },
      "text/plain": [
       "  0%|          | 0/100 [00:00<?, ?it/s]"
      ]
     },
     "metadata": {},
     "output_type": "display_data"
    },
    {
     "name": "stdout",
     "output_type": "stream",
     "text": [
      "Best validation score: 1.0\n"
     ]
    },
    {
     "data": {
      "application/vnd.jupyter.widget-view+json": {
       "model_id": "ab822941fe21494cbcd0342c0dac09b5",
       "version_major": 2,
       "version_minor": 0
      },
      "text/plain": [
       "  0%|          | 0/100 [00:00<?, ?it/s]"
      ]
     },
     "metadata": {},
     "output_type": "display_data"
    },
    {
     "name": "stdout",
     "output_type": "stream",
     "text": [
      "Best validation score: 1.0\n",
      "Benchmark Complete!\n",
      "Loading CTGAN: vae - ae_dim - 256_128_64_32 - embedding_dim - 256\n",
      "Benchmarking on MLP100\n"
     ]
    },
    {
     "name": "stderr",
     "output_type": "stream",
     "text": [
      "/home/y2k/CSC2516_Project/code/ctgan/utils.py:132: PerformanceWarning: DataFrame is highly fragmented.  This is usually the result of calling `frame.insert` many times, which has poor performance.  Consider joining all columns at once using pd.concat(axis=1) instead. To get a de-fragmented frame, use `newframe = frame.copy()`\n",
      "  fake_df[col_name] = 0\n"
     ]
    },
    {
     "data": {
      "application/vnd.jupyter.widget-view+json": {
       "model_id": "04733c69d3554f30b78bf5b7e00ce565",
       "version_major": 2,
       "version_minor": 0
      },
      "text/plain": [
       "  0%|          | 0/100 [00:00<?, ?it/s]"
      ]
     },
     "metadata": {},
     "output_type": "display_data"
    },
    {
     "name": "stdout",
     "output_type": "stream",
     "text": [
      "Best validation score: 1.0\n"
     ]
    },
    {
     "data": {
      "application/vnd.jupyter.widget-view+json": {
       "model_id": "46e05f1fc8944314ae162b67a1207511",
       "version_major": 2,
       "version_minor": 0
      },
      "text/plain": [
       "  0%|          | 0/100 [00:00<?, ?it/s]"
      ]
     },
     "metadata": {},
     "output_type": "display_data"
    },
    {
     "name": "stdout",
     "output_type": "stream",
     "text": [
      "Best validation score: 1.0\n"
     ]
    },
    {
     "data": {
      "application/vnd.jupyter.widget-view+json": {
       "model_id": "3099f03bc5534d5784d2adc1cad4eae2",
       "version_major": 2,
       "version_minor": 0
      },
      "text/plain": [
       "  0%|          | 0/100 [00:00<?, ?it/s]"
      ]
     },
     "metadata": {},
     "output_type": "display_data"
    },
    {
     "name": "stdout",
     "output_type": "stream",
     "text": [
      "Best validation score: 1.0\n",
      "Benchmark Complete!\n",
      "Loading CTGAN: ee - ae_dim - 256_128_64 - embedding_dim - 64\n",
      "Benchmarking on MLP100\n"
     ]
    },
    {
     "data": {
      "application/vnd.jupyter.widget-view+json": {
       "model_id": "820c31cb9be645c4a39aefab7413d812",
       "version_major": 2,
       "version_minor": 0
      },
      "text/plain": [
       "  0%|          | 0/100 [00:00<?, ?it/s]"
      ]
     },
     "metadata": {},
     "output_type": "display_data"
    },
    {
     "name": "stdout",
     "output_type": "stream",
     "text": [
      "Best validation score: 0.9887899160385132\n"
     ]
    },
    {
     "data": {
      "application/vnd.jupyter.widget-view+json": {
       "model_id": "c84c6d44a3604173b332b63d0406c43e",
       "version_major": 2,
       "version_minor": 0
      },
      "text/plain": [
       "  0%|          | 0/100 [00:00<?, ?it/s]"
      ]
     },
     "metadata": {},
     "output_type": "display_data"
    },
    {
     "name": "stdout",
     "output_type": "stream",
     "text": [
      "Best validation score: 0.9872543215751648\n"
     ]
    },
    {
     "data": {
      "application/vnd.jupyter.widget-view+json": {
       "model_id": "153a730609324be8b960132126c3551b",
       "version_major": 2,
       "version_minor": 0
      },
      "text/plain": [
       "  0%|          | 0/100 [00:00<?, ?it/s]"
      ]
     },
     "metadata": {},
     "output_type": "display_data"
    },
    {
     "name": "stdout",
     "output_type": "stream",
     "text": [
      "Best validation score: 0.9832616448402405\n",
      "Benchmark Complete!\n",
      "Loading CTGAN: ee - ae_dim - 256_128_64 - embedding_dim - 128\n",
      "Benchmarking on MLP100\n"
     ]
    },
    {
     "data": {
      "application/vnd.jupyter.widget-view+json": {
       "model_id": "cc9d6d44bcfe4775b7cbbc5f46db3774",
       "version_major": 2,
       "version_minor": 0
      },
      "text/plain": [
       "  0%|          | 0/100 [00:00<?, ?it/s]"
      ]
     },
     "metadata": {},
     "output_type": "display_data"
    },
    {
     "name": "stdout",
     "output_type": "stream",
     "text": [
      "Best validation score: 1.0\n"
     ]
    },
    {
     "data": {
      "application/vnd.jupyter.widget-view+json": {
       "model_id": "4c5534a375b441c18946a3438ea07e23",
       "version_major": 2,
       "version_minor": 0
      },
      "text/plain": [
       "  0%|          | 0/100 [00:00<?, ?it/s]"
      ]
     },
     "metadata": {},
     "output_type": "display_data"
    },
    {
     "name": "stdout",
     "output_type": "stream",
     "text": [
      "Best validation score: 1.0\n"
     ]
    },
    {
     "data": {
      "application/vnd.jupyter.widget-view+json": {
       "model_id": "a84e9ee30696412b91c3d0be383210d9",
       "version_major": 2,
       "version_minor": 0
      },
      "text/plain": [
       "  0%|          | 0/100 [00:00<?, ?it/s]"
      ]
     },
     "metadata": {},
     "output_type": "display_data"
    },
    {
     "name": "stdout",
     "output_type": "stream",
     "text": [
      "Best validation score: 1.0\n",
      "Benchmark Complete!\n",
      "Loading CTGAN: ee - ae_dim - 256_128_64 - embedding_dim - 256\n"
     ]
    }
   ],
   "source": [
    "hp = 'embedding_dim'\n",
    "\n",
    "for ae_type in AE_TYPES:\n",
    "    hp_scores = dict()\n",
    "    printable_ae_dim = max(hp_vals[ae_type]['ae_dim'].items(), key=lambda x: x[1])[0]\n",
    "    ae_dim = tuple(map(int, printable_ae_dim.split('_')))\n",
    "    for v in HP[hp]:\n",
    "        if not os.path.exists(f\"../../models/ae_gan_{ae_type}_ae_dim_{printable_ae_dim}_{hp}_{v}.pth\"):\n",
    "            # Train the AE_GAN\n",
    "            print(f\"Training CTGAN: {ae_type} - ae_dim - {printable_ae_dim} - {hp} - {v}\")\n",
    "            ae_gan = CTGANV2(ae_type=ae_type, ae_dim=ae_dim, embedding_dim=v)\n",
    "            ae_gan.fit(td['train'],dt=dt,is_transformed=True, target_index=target_idx)\n",
    "            print(\"Training Complete!\")\n",
    "            # save model\n",
    "            ae_gan.save(f\"../../models/ae_gan_{ae_type}_ae_dim_{printable_ae_dim}_{hp}_{v}.pth\")\n",
    "        else:\n",
    "            print(f\"Loading CTGAN: {ae_type} - ae_dim - {printable_ae_dim} - {hp} - {v}\")\n",
    "            ae_gan = CTGANV2().load(f\"../../models/ae_gan_{ae_type}_ae_dim_{printable_ae_dim}_{hp}_{v}.pth\")\n",
    "\n",
    "        best_score = torch.tensor([0.0])\n",
    "        try:\n",
    "            # Sample fake data\n",
    "            fake_data, real_data = sample_fake_adult(dt,td,ae_gan)\n",
    "            \n",
    "            print(\"Benchmarking on MLP100\")\n",
    "            # Train the MLP on fake validation data\n",
    "            for _ in range(3):\n",
    "                test_score = train_model(\n",
    "                                fake_data[0],\n",
    "                                fake_data[1],\n",
    "                                fake_data[2],\n",
    "                                fake_data[3],\n",
    "                                real_data[0],\n",
    "                                real_data[1],\n",
    "                                batch_size=256,\n",
    "                                num_epochs=100,\n",
    "                                model_type=\"classification\",\n",
    "                                verbose=False,\n",
    "                                scorer_type=\"accuracy\",\n",
    "                            )\n",
    "                if test_score > best_score:\n",
    "                    best_score = test_score\n",
    "            print(\"Benchmark Complete!\")\n",
    "        except:\n",
    "            pass\n",
    "        hp_scores[v] = best_score.item()\n",
    "    \n",
    "    hp_vals[ae_type][hp] = hp_scores\n",
    "    with open(\"adult_opt_hp.json\", 'w') as f:\n",
    "        f.write(json.dumps(hp_vals))"
   ]
  },
  {
   "attachments": {},
   "cell_type": "markdown",
   "metadata": {},
   "source": [
    "#### (3) Find the optimal no G/D layers"
   ]
  },
  {
   "cell_type": "code",
   "execution_count": 10,
   "metadata": {},
   "outputs": [
    {
     "name": "stdout",
     "output_type": "stream",
     "text": [
      "Training CTGAN: vanilla - ae_dim - 256_128 - embed_dim - 64 - gan_layers - (256, 256)\n",
      "Training Complete!\n",
      "Benchmarking on MLP100\n"
     ]
    },
    {
     "data": {
      "application/vnd.jupyter.widget-view+json": {
       "model_id": "772eb9293d4e44919382d44fa1b87a64",
       "version_major": 2,
       "version_minor": 0
      },
      "text/plain": [
       "  0%|          | 0/100 [00:00<?, ?it/s]"
      ]
     },
     "metadata": {},
     "output_type": "display_data"
    },
    {
     "name": "stdout",
     "output_type": "stream",
     "text": [
      "Best validation score: 0.9887899160385132\n"
     ]
    },
    {
     "data": {
      "application/vnd.jupyter.widget-view+json": {
       "model_id": "d671f2baf992414fa7c2217d223b3737",
       "version_major": 2,
       "version_minor": 0
      },
      "text/plain": [
       "  0%|          | 0/100 [00:00<?, ?it/s]"
      ]
     },
     "metadata": {},
     "output_type": "display_data"
    },
    {
     "name": "stdout",
     "output_type": "stream",
     "text": [
      "Best validation score: 0.9874078631401062\n"
     ]
    },
    {
     "data": {
      "application/vnd.jupyter.widget-view+json": {
       "model_id": "cfd2c6f7f80b40719bc564e2d0d8b4e3",
       "version_major": 2,
       "version_minor": 0
      },
      "text/plain": [
       "  0%|          | 0/100 [00:00<?, ?it/s]"
      ]
     },
     "metadata": {},
     "output_type": "display_data"
    },
    {
     "name": "stdout",
     "output_type": "stream",
     "text": [
      "Best validation score: 0.9883292317390442\n",
      "Benchmark Complete!\n",
      "Training CTGAN: vanilla - ae_dim - 256_128 - embed_dim - 64 - gan_layers - (256, 256, 256, 256)\n",
      "Training Complete!\n",
      "Benchmarking on MLP100\n"
     ]
    },
    {
     "data": {
      "application/vnd.jupyter.widget-view+json": {
       "model_id": "af7d319f487d46d2acbcc6bce3531823",
       "version_major": 2,
       "version_minor": 0
      },
      "text/plain": [
       "  0%|          | 0/100 [00:00<?, ?it/s]"
      ]
     },
     "metadata": {},
     "output_type": "display_data"
    },
    {
     "name": "stdout",
     "output_type": "stream",
     "text": [
      "Best validation score: 0.9141584634780884\n"
     ]
    },
    {
     "data": {
      "application/vnd.jupyter.widget-view+json": {
       "model_id": "a356510220494c93b177e0e6f2256375",
       "version_major": 2,
       "version_minor": 0
      },
      "text/plain": [
       "  0%|          | 0/100 [00:00<?, ?it/s]"
      ]
     },
     "metadata": {},
     "output_type": "display_data"
    },
    {
     "name": "stdout",
     "output_type": "stream",
     "text": [
      "Best validation score: 0.913083553314209\n"
     ]
    },
    {
     "data": {
      "application/vnd.jupyter.widget-view+json": {
       "model_id": "6f50865f2531454eb4d4d9f3aeb73d8e",
       "version_major": 2,
       "version_minor": 0
      },
      "text/plain": [
       "  0%|          | 0/100 [00:00<?, ?it/s]"
      ]
     },
     "metadata": {},
     "output_type": "display_data"
    },
    {
     "name": "stdout",
     "output_type": "stream",
     "text": [
      "Best validation score: 0.8997235894203186\n",
      "Benchmark Complete!\n",
      "Training CTGAN: denoising - ae_dim - 256_128 - embed_dim - 256 - gan_layers - (256, 256)\n",
      "Training Complete!\n",
      "Benchmarking on MLP100\n"
     ]
    },
    {
     "data": {
      "application/vnd.jupyter.widget-view+json": {
       "model_id": "e23d30af4bd944bfb7e18e725ab04e6d",
       "version_major": 2,
       "version_minor": 0
      },
      "text/plain": [
       "  0%|          | 0/100 [00:00<?, ?it/s]"
      ]
     },
     "metadata": {},
     "output_type": "display_data"
    },
    {
     "name": "stdout",
     "output_type": "stream",
     "text": [
      "Best validation score: 0.8518120646476746\n"
     ]
    },
    {
     "data": {
      "application/vnd.jupyter.widget-view+json": {
       "model_id": "95068122558c4bc7a46853a288a3f4a7",
       "version_major": 2,
       "version_minor": 0
      },
      "text/plain": [
       "  0%|          | 0/100 [00:00<?, ?it/s]"
      ]
     },
     "metadata": {},
     "output_type": "display_data"
    },
    {
     "name": "stdout",
     "output_type": "stream",
     "text": [
      "Best validation score: 0.8780712485313416\n"
     ]
    },
    {
     "data": {
      "application/vnd.jupyter.widget-view+json": {
       "model_id": "04cc69badad64286b93a67ebb202d53e",
       "version_major": 2,
       "version_minor": 0
      },
      "text/plain": [
       "  0%|          | 0/100 [00:00<?, ?it/s]"
      ]
     },
     "metadata": {},
     "output_type": "display_data"
    },
    {
     "name": "stdout",
     "output_type": "stream",
     "text": [
      "Best validation score: 0.8648648858070374\n",
      "Benchmark Complete!\n",
      "Training CTGAN: denoising - ae_dim - 256_128 - embed_dim - 256 - gan_layers - (256, 256, 256, 256)\n",
      "Training Complete!\n",
      "Benchmarking on MLP100\n"
     ]
    },
    {
     "data": {
      "application/vnd.jupyter.widget-view+json": {
       "model_id": "a2ddc064990542df8bf01b03503ad59d",
       "version_major": 2,
       "version_minor": 0
      },
      "text/plain": [
       "  0%|          | 0/100 [00:00<?, ?it/s]"
      ]
     },
     "metadata": {},
     "output_type": "display_data"
    },
    {
     "name": "stdout",
     "output_type": "stream",
     "text": [
      "Best validation score: 0.8725429773330688\n"
     ]
    },
    {
     "data": {
      "application/vnd.jupyter.widget-view+json": {
       "model_id": "e387ce09dd4e4754b8abfc1c5a0c7f7f",
       "version_major": 2,
       "version_minor": 0
      },
      "text/plain": [
       "  0%|          | 0/100 [00:00<?, ?it/s]"
      ]
     },
     "metadata": {},
     "output_type": "display_data"
    },
    {
     "name": "stdout",
     "output_type": "stream",
     "text": [
      "Best validation score: 0.8808353543281555\n"
     ]
    },
    {
     "data": {
      "application/vnd.jupyter.widget-view+json": {
       "model_id": "c1754fc24b5b4d1ba9060287717dde06",
       "version_major": 2,
       "version_minor": 0
      },
      "text/plain": [
       "  0%|          | 0/100 [00:00<?, ?it/s]"
      ]
     },
     "metadata": {},
     "output_type": "display_data"
    },
    {
     "name": "stdout",
     "output_type": "stream",
     "text": [
      "Best validation score: 0.8952702879905701\n",
      "Benchmark Complete!\n",
      "Training CTGAN: vae - ae_dim - 256_128_64_32 - embed_dim - 64 - gan_layers - (256, 256)\n",
      "Training Complete!\n",
      "Benchmarking on MLP100\n"
     ]
    },
    {
     "name": "stderr",
     "output_type": "stream",
     "text": [
      "/home/y2k/CSC2516_Project/code/ctgan/utils.py:132: PerformanceWarning: DataFrame is highly fragmented.  This is usually the result of calling `frame.insert` many times, which has poor performance.  Consider joining all columns at once using pd.concat(axis=1) instead. To get a de-fragmented frame, use `newframe = frame.copy()`\n",
      "  fake_df[col_name] = 0\n"
     ]
    },
    {
     "data": {
      "application/vnd.jupyter.widget-view+json": {
       "model_id": "d9e24aedea6a4042918b3c74de557eb6",
       "version_major": 2,
       "version_minor": 0
      },
      "text/plain": [
       "  0%|          | 0/100 [00:00<?, ?it/s]"
      ]
     },
     "metadata": {},
     "output_type": "display_data"
    },
    {
     "name": "stdout",
     "output_type": "stream",
     "text": [
      "Best validation score: 1.0\n"
     ]
    },
    {
     "data": {
      "application/vnd.jupyter.widget-view+json": {
       "model_id": "f67e0647db2b4e3792c52e3632df2c2c",
       "version_major": 2,
       "version_minor": 0
      },
      "text/plain": [
       "  0%|          | 0/100 [00:00<?, ?it/s]"
      ]
     },
     "metadata": {},
     "output_type": "display_data"
    },
    {
     "name": "stdout",
     "output_type": "stream",
     "text": [
      "Best validation score: 1.0\n"
     ]
    },
    {
     "data": {
      "application/vnd.jupyter.widget-view+json": {
       "model_id": "01ff3afe38c9445eb2200cffbf270543",
       "version_major": 2,
       "version_minor": 0
      },
      "text/plain": [
       "  0%|          | 0/100 [00:00<?, ?it/s]"
      ]
     },
     "metadata": {},
     "output_type": "display_data"
    },
    {
     "name": "stdout",
     "output_type": "stream",
     "text": [
      "Best validation score: 1.0\n",
      "Benchmark Complete!\n",
      "Training CTGAN: vae - ae_dim - 256_128_64_32 - embed_dim - 64 - gan_layers - (256, 256, 256, 256)\n",
      "Training Complete!\n",
      "Benchmarking on MLP100\n"
     ]
    },
    {
     "name": "stderr",
     "output_type": "stream",
     "text": [
      "/home/y2k/CSC2516_Project/code/ctgan/utils.py:132: PerformanceWarning: DataFrame is highly fragmented.  This is usually the result of calling `frame.insert` many times, which has poor performance.  Consider joining all columns at once using pd.concat(axis=1) instead. To get a de-fragmented frame, use `newframe = frame.copy()`\n",
      "  fake_df[col_name] = 0\n",
      "/home/y2k/CSC2516_Project/code/ctgan/utils.py:132: PerformanceWarning: DataFrame is highly fragmented.  This is usually the result of calling `frame.insert` many times, which has poor performance.  Consider joining all columns at once using pd.concat(axis=1) instead. To get a de-fragmented frame, use `newframe = frame.copy()`\n",
      "  fake_df[col_name] = 0\n"
     ]
    },
    {
     "data": {
      "application/vnd.jupyter.widget-view+json": {
       "model_id": "dffdc9cea9c64012a91eb6d7480f95d8",
       "version_major": 2,
       "version_minor": 0
      },
      "text/plain": [
       "  0%|          | 0/100 [00:00<?, ?it/s]"
      ]
     },
     "metadata": {},
     "output_type": "display_data"
    },
    {
     "name": "stdout",
     "output_type": "stream",
     "text": [
      "Best validation score: 1.0\n"
     ]
    },
    {
     "data": {
      "application/vnd.jupyter.widget-view+json": {
       "model_id": "94399073dbab4439ae392dfa5c571c72",
       "version_major": 2,
       "version_minor": 0
      },
      "text/plain": [
       "  0%|          | 0/100 [00:00<?, ?it/s]"
      ]
     },
     "metadata": {},
     "output_type": "display_data"
    },
    {
     "name": "stdout",
     "output_type": "stream",
     "text": [
      "Best validation score: 1.0\n"
     ]
    },
    {
     "data": {
      "application/vnd.jupyter.widget-view+json": {
       "model_id": "cb231e474cf14d319001a1b306ac87fa",
       "version_major": 2,
       "version_minor": 0
      },
      "text/plain": [
       "  0%|          | 0/100 [00:00<?, ?it/s]"
      ]
     },
     "metadata": {},
     "output_type": "display_data"
    },
    {
     "name": "stdout",
     "output_type": "stream",
     "text": [
      "Best validation score: 1.0\n",
      "Benchmark Complete!\n",
      "Training CTGAN: ee - ae_dim - 256_128_64 - embed_dim - 128 - gan_layers - (256, 256)\n",
      "Training Complete!\n",
      "Benchmarking on MLP100\n"
     ]
    },
    {
     "data": {
      "application/vnd.jupyter.widget-view+json": {
       "model_id": "92cc547b4868454183c886f6960c57e7",
       "version_major": 2,
       "version_minor": 0
      },
      "text/plain": [
       "  0%|          | 0/100 [00:00<?, ?it/s]"
      ]
     },
     "metadata": {},
     "output_type": "display_data"
    },
    {
     "name": "stdout",
     "output_type": "stream",
     "text": [
      "Best validation score: 0.9680589437484741\n"
     ]
    },
    {
     "data": {
      "application/vnd.jupyter.widget-view+json": {
       "model_id": "81bdf64f4af94aa0a28d3c5b91cbb8fc",
       "version_major": 2,
       "version_minor": 0
      },
      "text/plain": [
       "  0%|          | 0/100 [00:00<?, ?it/s]"
      ]
     },
     "metadata": {},
     "output_type": "display_data"
    },
    {
     "name": "stdout",
     "output_type": "stream",
     "text": [
      "Best validation score: 0.9685196280479431\n"
     ]
    },
    {
     "data": {
      "application/vnd.jupyter.widget-view+json": {
       "model_id": "fc4f0b2837c5432aac6b6f76afce02d2",
       "version_major": 2,
       "version_minor": 0
      },
      "text/plain": [
       "  0%|          | 0/100 [00:00<?, ?it/s]"
      ]
     },
     "metadata": {},
     "output_type": "display_data"
    },
    {
     "name": "stdout",
     "output_type": "stream",
     "text": [
      "Best validation score: 0.9700552821159363\n",
      "Benchmark Complete!\n",
      "Training CTGAN: ee - ae_dim - 256_128_64 - embed_dim - 128 - gan_layers - (256, 256, 256, 256)\n",
      "Training Complete!\n",
      "Benchmarking on MLP100\n"
     ]
    },
    {
     "data": {
      "application/vnd.jupyter.widget-view+json": {
       "model_id": "824583d2cbb8463fbc48ead099b8aed3",
       "version_major": 2,
       "version_minor": 0
      },
      "text/plain": [
       "  0%|          | 0/100 [00:00<?, ?it/s]"
      ]
     },
     "metadata": {},
     "output_type": "display_data"
    },
    {
     "name": "stdout",
     "output_type": "stream",
     "text": [
      "Best validation score: 0.9989250898361206\n"
     ]
    },
    {
     "data": {
      "application/vnd.jupyter.widget-view+json": {
       "model_id": "336139aa894c454190bd3feba91f20f1",
       "version_major": 2,
       "version_minor": 0
      },
      "text/plain": [
       "  0%|          | 0/100 [00:00<?, ?it/s]"
      ]
     },
     "metadata": {},
     "output_type": "display_data"
    },
    {
     "name": "stdout",
     "output_type": "stream",
     "text": [
      "Best validation score: 0.9987714886665344\n"
     ]
    },
    {
     "data": {
      "application/vnd.jupyter.widget-view+json": {
       "model_id": "ecd1db908348474981bf015c9a00a414",
       "version_major": 2,
       "version_minor": 0
      },
      "text/plain": [
       "  0%|          | 0/100 [00:00<?, ?it/s]"
      ]
     },
     "metadata": {},
     "output_type": "display_data"
    },
    {
     "name": "stdout",
     "output_type": "stream",
     "text": [
      "Best validation score: 0.9989250898361206\n",
      "Benchmark Complete!\n"
     ]
    }
   ],
   "source": [
    "hp = 'gan_layers'\n",
    "\n",
    "for ae_type in AE_TYPES:\n",
    "    hp_scores = dict()\n",
    "    printable_ae_dim = max(hp_vals[ae_type]['ae_dim'].items(), key=lambda x: x[1])[0]\n",
    "    ae_dim = tuple(map(int, printable_ae_dim.split('_')))\n",
    "    embedding_dim = int(max(hp_vals[ae_type]['embedding_dim'].items(), key=lambda x: x[1])[0])\n",
    "    for v in HP[hp]:\n",
    "        k = '_'.join(str(i) for i in v)\n",
    "        if not os.path.exists(f\"../../models/ae_gan_{ae_type}_ae_dim_{printable_ae_dim}_emb_{embedding_dim}_{hp}_{v}.pth\"):\n",
    "            # Train the AE_GAN\n",
    "            print(f\"Training CTGAN: {ae_type} - ae_dim - {printable_ae_dim} - embed_dim - {embedding_dim} - {hp} - {v}\")\n",
    "            ae_gan = CTGANV2(ae_type=ae_type, ae_dim=ae_dim,\n",
    "                             embedding_dim=embedding_dim, generator_dim=v, discriminator_dim=v)\n",
    "            ae_gan.fit(td['train'], dt=dt, is_transformed=True, target_index=target_idx)\n",
    "            print(\"Training Complete!\")\n",
    "            # save model\n",
    "            ae_gan.save(f\"../../models/ae_gan_{ae_type}_ae_dim_{printable_ae_dim}_emb_{embedding_dim}_{hp}_{v}.pth\")\n",
    "        else:\n",
    "            print(f\"Loading CTGAN: {ae_type} - ae_dim - {printable_ae_dim} - embed_dim - {embedding_dim} - {hp} - {v}\")\n",
    "            ae_gan = CTGANV2().load(f\"../../models/ae_gan_{ae_type}_ae_dim_{printable_ae_dim}_emb_{embedding_dim}_{hp}_{v}.pth\")\n",
    "\n",
    "        best_score = torch.tensor([0.0])\n",
    "        try:\n",
    "            # Sample fake data\n",
    "            fake_data, real_data = sample_fake_adult(dt,td,ae_gan)\n",
    "            \n",
    "            print(\"Benchmarking on MLP100\")\n",
    "            # Train the MLP on fake validation data\n",
    "            for _ in range(3):\n",
    "                test_score = train_model(\n",
    "                                fake_data[0],\n",
    "                                fake_data[1],\n",
    "                                fake_data[2],\n",
    "                                fake_data[3],\n",
    "                                real_data[0],\n",
    "                                real_data[1],\n",
    "                                batch_size=256,\n",
    "                                num_epochs=100,\n",
    "                                model_type=\"classification\",\n",
    "                                verbose=False,\n",
    "                                scorer_type=\"accuracy\",\n",
    "                            )\n",
    "                if test_score > best_score:\n",
    "                    best_score = test_score\n",
    "            print(\"Benchmark Complete!\")\n",
    "        except:\n",
    "            pass\n",
    "        hp_scores[k] = best_score.item()\n",
    "    \n",
    "    hp_vals[ae_type][hp] = hp_scores\n",
    "    with open(\"adult_opt_hp.json\", 'w') as f:\n",
    "        f.write(json.dumps(hp_vals))"
   ]
  },
  {
   "attachments": {},
   "cell_type": "markdown",
   "metadata": {},
   "source": [
    "#### (4) Find the optimal no D_steps and pac"
   ]
  },
  {
   "cell_type": "code",
   "execution_count": 2,
   "metadata": {},
   "outputs": [
    {
     "name": "stdout",
     "output_type": "stream",
     "text": [
      "Training CTGAN: vanilla - ae_dim - 256_128 - embed_dim - 64 - gan_layers - 256_256 - dstep - 1 - pac - 4\n",
      "Training Complete!\n",
      "Benchmarking on MLP100\n"
     ]
    },
    {
     "data": {
      "application/vnd.jupyter.widget-view+json": {
       "model_id": "6f84b0ff937142128a19dd557f45bc18",
       "version_major": 2,
       "version_minor": 0
      },
      "text/plain": [
       "  0%|          | 0/100 [00:00<?, ?it/s]"
      ]
     },
     "metadata": {},
     "output_type": "display_data"
    },
    {
     "name": "stdout",
     "output_type": "stream",
     "text": [
      "Best validation score: 0.9390356540679932\n"
     ]
    },
    {
     "data": {
      "application/vnd.jupyter.widget-view+json": {
       "model_id": "f539f22a11b6457590d26278910146ef",
       "version_major": 2,
       "version_minor": 0
      },
      "text/plain": [
       "  0%|          | 0/100 [00:00<?, ?it/s]"
      ]
     },
     "metadata": {},
     "output_type": "display_data"
    },
    {
     "name": "stdout",
     "output_type": "stream",
     "text": [
      "Best validation score: 0.9269042015075684\n"
     ]
    },
    {
     "data": {
      "application/vnd.jupyter.widget-view+json": {
       "model_id": "8a3f83c140f34cefaf33467bed13092c",
       "version_major": 2,
       "version_minor": 0
      },
      "text/plain": [
       "  0%|          | 0/100 [00:00<?, ?it/s]"
      ]
     },
     "metadata": {},
     "output_type": "display_data"
    },
    {
     "name": "stdout",
     "output_type": "stream",
     "text": [
      "Best validation score: 0.9206081032752991\n",
      "Benchmark Complete!\n",
      "Training CTGAN: vanilla - ae_dim - 256_128 - embed_dim - 64 - gan_layers - 256_256 - dstep - 1 - pac - 8\n",
      "Training Complete!\n",
      "Benchmarking on MLP100\n"
     ]
    },
    {
     "data": {
      "application/vnd.jupyter.widget-view+json": {
       "model_id": "485b686c9d43431d82fa6edaae2ad809",
       "version_major": 2,
       "version_minor": 0
      },
      "text/plain": [
       "  0%|          | 0/100 [00:00<?, ?it/s]"
      ]
     },
     "metadata": {},
     "output_type": "display_data"
    },
    {
     "name": "stdout",
     "output_type": "stream",
     "text": [
      "Best validation score: 0.8725429773330688\n"
     ]
    },
    {
     "data": {
      "application/vnd.jupyter.widget-view+json": {
       "model_id": "001f3360810a4c92a98f7a77086a4aa4",
       "version_major": 2,
       "version_minor": 0
      },
      "text/plain": [
       "  0%|          | 0/100 [00:00<?, ?it/s]"
      ]
     },
     "metadata": {},
     "output_type": "display_data"
    },
    {
     "name": "stdout",
     "output_type": "stream",
     "text": [
      "Best validation score: 0.8817567825317383\n"
     ]
    },
    {
     "data": {
      "application/vnd.jupyter.widget-view+json": {
       "model_id": "f4b1ef431b904ba38edb5952c5997eaa",
       "version_major": 2,
       "version_minor": 0
      },
      "text/plain": [
       "  0%|          | 0/100 [00:00<?, ?it/s]"
      ]
     },
     "metadata": {},
     "output_type": "display_data"
    },
    {
     "name": "stdout",
     "output_type": "stream",
     "text": [
      "Best validation score: 0.852886974811554\n",
      "Benchmark Complete!\n",
      "Training CTGAN: vanilla - ae_dim - 256_128 - embed_dim - 64 - gan_layers - 256_256 - dstep - 1 - pac - 16\n",
      "Training Complete!\n",
      "Benchmarking on MLP100\n"
     ]
    },
    {
     "data": {
      "application/vnd.jupyter.widget-view+json": {
       "model_id": "09d868513d644b68b55bcae6b6c2f423",
       "version_major": 2,
       "version_minor": 0
      },
      "text/plain": [
       "  0%|          | 0/100 [00:00<?, ?it/s]"
      ]
     },
     "metadata": {},
     "output_type": "display_data"
    },
    {
     "name": "stdout",
     "output_type": "stream",
     "text": [
      "Best validation score: 0.8177211284637451\n"
     ]
    },
    {
     "data": {
      "application/vnd.jupyter.widget-view+json": {
       "model_id": "88d9296131cf456ebdc7d3d8b2ffa28e",
       "version_major": 2,
       "version_minor": 0
      },
      "text/plain": [
       "  0%|          | 0/100 [00:00<?, ?it/s]"
      ]
     },
     "metadata": {},
     "output_type": "display_data"
    },
    {
     "name": "stdout",
     "output_type": "stream",
     "text": [
      "Best validation score: 0.8249385952949524\n"
     ]
    },
    {
     "data": {
      "application/vnd.jupyter.widget-view+json": {
       "model_id": "28551cf2428e4f2dbaf0c2c0a3e1fb48",
       "version_major": 2,
       "version_minor": 0
      },
      "text/plain": [
       "  0%|          | 0/100 [00:00<?, ?it/s]"
      ]
     },
     "metadata": {},
     "output_type": "display_data"
    },
    {
     "name": "stdout",
     "output_type": "stream",
     "text": [
      "Best validation score: 0.8198710083961487\n",
      "Benchmark Complete!\n",
      "Training CTGAN: vanilla - ae_dim - 256_128 - embed_dim - 64 - gan_layers - 256_256 - dstep - 5 - pac - 4\n",
      "Training Complete!\n",
      "Benchmarking on MLP100\n"
     ]
    },
    {
     "data": {
      "application/vnd.jupyter.widget-view+json": {
       "model_id": "da4f20824c4347bd9b94bd9a18b5bc49",
       "version_major": 2,
       "version_minor": 0
      },
      "text/plain": [
       "  0%|          | 0/100 [00:00<?, ?it/s]"
      ]
     },
     "metadata": {},
     "output_type": "display_data"
    },
    {
     "name": "stdout",
     "output_type": "stream",
     "text": [
      "Best validation score: 0.9527027010917664\n"
     ]
    },
    {
     "data": {
      "application/vnd.jupyter.widget-view+json": {
       "model_id": "a5c3d487354a41119d9c317f60976857",
       "version_major": 2,
       "version_minor": 0
      },
      "text/plain": [
       "  0%|          | 0/100 [00:00<?, ?it/s]"
      ]
     },
     "metadata": {},
     "output_type": "display_data"
    },
    {
     "name": "stdout",
     "output_type": "stream",
     "text": [
      "Best validation score: 0.9594594836235046\n"
     ]
    },
    {
     "data": {
      "application/vnd.jupyter.widget-view+json": {
       "model_id": "194625b392334f849359343cc4f24360",
       "version_major": 2,
       "version_minor": 0
      },
      "text/plain": [
       "  0%|          | 0/100 [00:00<?, ?it/s]"
      ]
     },
     "metadata": {},
     "output_type": "display_data"
    },
    {
     "name": "stdout",
     "output_type": "stream",
     "text": [
      "Best validation score: 0.9522420167922974\n",
      "Benchmark Complete!\n",
      "Training CTGAN: vanilla - ae_dim - 256_128 - embed_dim - 64 - gan_layers - 256_256 - dstep - 5 - pac - 8\n",
      "Training Complete!\n",
      "Benchmarking on MLP100\n"
     ]
    },
    {
     "data": {
      "application/vnd.jupyter.widget-view+json": {
       "model_id": "f65098658a8541dcb7e9e39248e3f386",
       "version_major": 2,
       "version_minor": 0
      },
      "text/plain": [
       "  0%|          | 0/100 [00:00<?, ?it/s]"
      ]
     },
     "metadata": {},
     "output_type": "display_data"
    },
    {
     "name": "stdout",
     "output_type": "stream",
     "text": [
      "Best validation score: 0.9473280310630798\n"
     ]
    },
    {
     "data": {
      "application/vnd.jupyter.widget-view+json": {
       "model_id": "167754b541174318a32101901c52e545",
       "version_major": 2,
       "version_minor": 0
      },
      "text/plain": [
       "  0%|          | 0/100 [00:00<?, ?it/s]"
      ]
     },
     "metadata": {},
     "output_type": "display_data"
    },
    {
     "name": "stdout",
     "output_type": "stream",
     "text": [
      "Best validation score: 0.9282862544059753\n"
     ]
    },
    {
     "data": {
      "application/vnd.jupyter.widget-view+json": {
       "model_id": "6b93a518e5e346c1b36f3b5071899032",
       "version_major": 2,
       "version_minor": 0
      },
      "text/plain": [
       "  0%|          | 0/100 [00:00<?, ?it/s]"
      ]
     },
     "metadata": {},
     "output_type": "display_data"
    },
    {
     "name": "stdout",
     "output_type": "stream",
     "text": [
      "Best validation score: 0.9460995197296143\n",
      "Benchmark Complete!\n",
      "Training CTGAN: vanilla - ae_dim - 256_128 - embed_dim - 64 - gan_layers - 256_256 - dstep - 5 - pac - 16\n",
      "Training Complete!\n",
      "Benchmarking on MLP100\n"
     ]
    },
    {
     "data": {
      "application/vnd.jupyter.widget-view+json": {
       "model_id": "0f4bc6986928453ca179a4db6ef9d0f3",
       "version_major": 2,
       "version_minor": 0
      },
      "text/plain": [
       "  0%|          | 0/100 [00:00<?, ?it/s]"
      ]
     },
     "metadata": {},
     "output_type": "display_data"
    },
    {
     "name": "stdout",
     "output_type": "stream",
     "text": [
      "Best validation score: 0.9212223291397095\n"
     ]
    },
    {
     "data": {
      "application/vnd.jupyter.widget-view+json": {
       "model_id": "6255983f441e48d98117d79366ad939e",
       "version_major": 2,
       "version_minor": 0
      },
      "text/plain": [
       "  0%|          | 0/100 [00:00<?, ?it/s]"
      ]
     },
     "metadata": {},
     "output_type": "display_data"
    },
    {
     "name": "stdout",
     "output_type": "stream",
     "text": [
      "Best validation score: 0.9175368547439575\n"
     ]
    },
    {
     "data": {
      "application/vnd.jupyter.widget-view+json": {
       "model_id": "42a586d77e30463d8296e45c84b53033",
       "version_major": 2,
       "version_minor": 0
      },
      "text/plain": [
       "  0%|          | 0/100 [00:00<?, ?it/s]"
      ]
     },
     "metadata": {},
     "output_type": "display_data"
    },
    {
     "name": "stdout",
     "output_type": "stream",
     "text": [
      "Best validation score: 0.9087837934494019\n",
      "Benchmark Complete!\n",
      "Training CTGAN: denoising - ae_dim - 256_128 - embed_dim - 256 - gan_layers - 256_256 - dstep - 1 - pac - 4\n",
      "Training Complete!\n",
      "Benchmarking on MLP100\n"
     ]
    },
    {
     "data": {
      "application/vnd.jupyter.widget-view+json": {
       "model_id": "053026cd1ce8403aa683e148933b129c",
       "version_major": 2,
       "version_minor": 0
      },
      "text/plain": [
       "  0%|          | 0/100 [00:00<?, ?it/s]"
      ]
     },
     "metadata": {},
     "output_type": "display_data"
    },
    {
     "name": "stdout",
     "output_type": "stream",
     "text": [
      "Best validation score: 0.889127790927887\n"
     ]
    },
    {
     "data": {
      "application/vnd.jupyter.widget-view+json": {
       "model_id": "b9f41117edea42acb1b9df2b0f634216",
       "version_major": 2,
       "version_minor": 0
      },
      "text/plain": [
       "  0%|          | 0/100 [00:00<?, ?it/s]"
      ]
     },
     "metadata": {},
     "output_type": "display_data"
    },
    {
     "name": "stdout",
     "output_type": "stream",
     "text": [
      "Best validation score: 0.8871314525604248\n"
     ]
    },
    {
     "data": {
      "application/vnd.jupyter.widget-view+json": {
       "model_id": "78aa38d9a11845488b3c99f61d60379d",
       "version_major": 2,
       "version_minor": 0
      },
      "text/plain": [
       "  0%|          | 0/100 [00:00<?, ?it/s]"
      ]
     },
     "metadata": {},
     "output_type": "display_data"
    },
    {
     "name": "stdout",
     "output_type": "stream",
     "text": [
      "Best validation score: 0.8792997598648071\n",
      "Benchmark Complete!\n",
      "Training CTGAN: denoising - ae_dim - 256_128 - embed_dim - 256 - gan_layers - 256_256 - dstep - 1 - pac - 8\n",
      "Training Complete!\n",
      "Benchmarking on MLP100\n"
     ]
    },
    {
     "data": {
      "application/vnd.jupyter.widget-view+json": {
       "model_id": "5cf4526b1d0143c7b735d36b9de1c720",
       "version_major": 2,
       "version_minor": 0
      },
      "text/plain": [
       "  0%|          | 0/100 [00:00<?, ?it/s]"
      ]
     },
     "metadata": {},
     "output_type": "display_data"
    },
    {
     "name": "stdout",
     "output_type": "stream",
     "text": [
      "Best validation score: 0.871775209903717\n"
     ]
    },
    {
     "data": {
      "application/vnd.jupyter.widget-view+json": {
       "model_id": "1f340afd04d644cea17d745c5badf1cb",
       "version_major": 2,
       "version_minor": 0
      },
      "text/plain": [
       "  0%|          | 0/100 [00:00<?, ?it/s]"
      ]
     },
     "metadata": {},
     "output_type": "display_data"
    },
    {
     "name": "stdout",
     "output_type": "stream",
     "text": [
      "Best validation score: 0.8868243098258972\n"
     ]
    },
    {
     "data": {
      "application/vnd.jupyter.widget-view+json": {
       "model_id": "4993739ed9f64374a52dd92d413841e6",
       "version_major": 2,
       "version_minor": 0
      },
      "text/plain": [
       "  0%|          | 0/100 [00:00<?, ?it/s]"
      ]
     },
     "metadata": {},
     "output_type": "display_data"
    },
    {
     "name": "stdout",
     "output_type": "stream",
     "text": [
      "Best validation score: 0.8842137455940247\n",
      "Benchmark Complete!\n",
      "Training CTGAN: denoising - ae_dim - 256_128 - embed_dim - 256 - gan_layers - 256_256 - dstep - 1 - pac - 16\n",
      "Training Complete!\n",
      "Benchmarking on MLP100\n"
     ]
    },
    {
     "data": {
      "application/vnd.jupyter.widget-view+json": {
       "model_id": "5d5cfc0158bb44ea88407084e032f17e",
       "version_major": 2,
       "version_minor": 0
      },
      "text/plain": [
       "  0%|          | 0/100 [00:00<?, ?it/s]"
      ]
     },
     "metadata": {},
     "output_type": "display_data"
    },
    {
     "name": "stdout",
     "output_type": "stream",
     "text": [
      "Best validation score: 0.7882370948791504\n"
     ]
    },
    {
     "data": {
      "application/vnd.jupyter.widget-view+json": {
       "model_id": "5cc597cd322e4149891f77c9da4c7241",
       "version_major": 2,
       "version_minor": 0
      },
      "text/plain": [
       "  0%|          | 0/100 [00:00<?, ?it/s]"
      ]
     },
     "metadata": {},
     "output_type": "display_data"
    },
    {
     "name": "stdout",
     "output_type": "stream",
     "text": [
      "Best validation score: 0.789004921913147\n"
     ]
    },
    {
     "data": {
      "application/vnd.jupyter.widget-view+json": {
       "model_id": "ad899f0747cc43ccb80213f9de1a09e5",
       "version_major": 2,
       "version_minor": 0
      },
      "text/plain": [
       "  0%|          | 0/100 [00:00<?, ?it/s]"
      ]
     },
     "metadata": {},
     "output_type": "display_data"
    },
    {
     "name": "stdout",
     "output_type": "stream",
     "text": [
      "Best validation score: 0.789926290512085\n",
      "Benchmark Complete!\n",
      "Training CTGAN: denoising - ae_dim - 256_128 - embed_dim - 256 - gan_layers - 256_256 - dstep - 5 - pac - 4\n",
      "Training Complete!\n",
      "Benchmarking on MLP100\n"
     ]
    },
    {
     "data": {
      "application/vnd.jupyter.widget-view+json": {
       "model_id": "f26023097b5f487c9c60351ade6b680f",
       "version_major": 2,
       "version_minor": 0
      },
      "text/plain": [
       "  0%|          | 0/100 [00:00<?, ?it/s]"
      ]
     },
     "metadata": {},
     "output_type": "display_data"
    },
    {
     "name": "stdout",
     "output_type": "stream",
     "text": [
      "Best validation score: 0.9318181872367859\n"
     ]
    },
    {
     "data": {
      "application/vnd.jupyter.widget-view+json": {
       "model_id": "c889e09e815b4242b96eb273beb19c9b",
       "version_major": 2,
       "version_minor": 0
      },
      "text/plain": [
       "  0%|          | 0/100 [00:00<?, ?it/s]"
      ]
     },
     "metadata": {},
     "output_type": "display_data"
    },
    {
     "name": "stdout",
     "output_type": "stream",
     "text": [
      "Best validation score: 0.9179975390434265\n"
     ]
    },
    {
     "data": {
      "application/vnd.jupyter.widget-view+json": {
       "model_id": "fef216321d794ce7848d1a14d25312c2",
       "version_major": 2,
       "version_minor": 0
      },
      "text/plain": [
       "  0%|          | 0/100 [00:00<?, ?it/s]"
      ]
     },
     "metadata": {},
     "output_type": "display_data"
    },
    {
     "name": "stdout",
     "output_type": "stream",
     "text": [
      "Best validation score: 0.9413390755653381\n",
      "Benchmark Complete!\n",
      "Training CTGAN: denoising - ae_dim - 256_128 - embed_dim - 256 - gan_layers - 256_256 - dstep - 5 - pac - 8\n",
      "Training Complete!\n",
      "Benchmarking on MLP100\n"
     ]
    },
    {
     "data": {
      "application/vnd.jupyter.widget-view+json": {
       "model_id": "a200c82288924fc89a26373ab05e4baa",
       "version_major": 2,
       "version_minor": 0
      },
      "text/plain": [
       "  0%|          | 0/100 [00:00<?, ?it/s]"
      ]
     },
     "metadata": {},
     "output_type": "display_data"
    },
    {
     "name": "stdout",
     "output_type": "stream",
     "text": [
      "Best validation score: 0.8859029412269592\n"
     ]
    },
    {
     "data": {
      "application/vnd.jupyter.widget-view+json": {
       "model_id": "7ab97a4d53a94a7aae9fbb2911fae9f6",
       "version_major": 2,
       "version_minor": 0
      },
      "text/plain": [
       "  0%|          | 0/100 [00:00<?, ?it/s]"
      ]
     },
     "metadata": {},
     "output_type": "display_data"
    },
    {
     "name": "stdout",
     "output_type": "stream",
     "text": [
      "Best validation score: 0.8823710083961487\n"
     ]
    },
    {
     "data": {
      "application/vnd.jupyter.widget-view+json": {
       "model_id": "74dfed5bd1bf442eb2335d1c879ecce3",
       "version_major": 2,
       "version_minor": 0
      },
      "text/plain": [
       "  0%|          | 0/100 [00:00<?, ?it/s]"
      ]
     },
     "metadata": {},
     "output_type": "display_data"
    },
    {
     "name": "stdout",
     "output_type": "stream",
     "text": [
      "Best validation score: 0.8819103240966797\n",
      "Benchmark Complete!\n",
      "Training CTGAN: denoising - ae_dim - 256_128 - embed_dim - 256 - gan_layers - 256_256 - dstep - 5 - pac - 16\n",
      "Training Complete!\n",
      "Benchmarking on MLP100\n"
     ]
    },
    {
     "data": {
      "application/vnd.jupyter.widget-view+json": {
       "model_id": "40fc93bc9a1d4c2e9a67d81c79bf5350",
       "version_major": 2,
       "version_minor": 0
      },
      "text/plain": [
       "  0%|          | 0/100 [00:00<?, ?it/s]"
      ]
     },
     "metadata": {},
     "output_type": "display_data"
    },
    {
     "name": "stdout",
     "output_type": "stream",
     "text": [
      "Best validation score: 0.9313575029373169\n"
     ]
    },
    {
     "data": {
      "application/vnd.jupyter.widget-view+json": {
       "model_id": "4d5e35b19f0b4e6f9b63b4fbcaad4f46",
       "version_major": 2,
       "version_minor": 0
      },
      "text/plain": [
       "  0%|          | 0/100 [00:00<?, ?it/s]"
      ]
     },
     "metadata": {},
     "output_type": "display_data"
    },
    {
     "name": "stdout",
     "output_type": "stream",
     "text": [
      "Best validation score: 0.9235258102416992\n"
     ]
    },
    {
     "data": {
      "application/vnd.jupyter.widget-view+json": {
       "model_id": "58122e939f394bd7aa9c89e531232100",
       "version_major": 2,
       "version_minor": 0
      },
      "text/plain": [
       "  0%|          | 0/100 [00:00<?, ?it/s]"
      ]
     },
     "metadata": {},
     "output_type": "display_data"
    },
    {
     "name": "stdout",
     "output_type": "stream",
     "text": [
      "Best validation score: 0.9457923769950867\n",
      "Benchmark Complete!\n",
      "Training CTGAN: vae - ae_dim - 256_128_64_32 - embed_dim - 64 - gan_layers - 256_256 - dstep - 1 - pac - 4\n",
      "Training Complete!\n",
      "Benchmarking on MLP100\n"
     ]
    },
    {
     "data": {
      "application/vnd.jupyter.widget-view+json": {
       "model_id": "634ea0b2af26460c9e553ac5303b270b",
       "version_major": 2,
       "version_minor": 0
      },
      "text/plain": [
       "  0%|          | 0/100 [00:00<?, ?it/s]"
      ]
     },
     "metadata": {},
     "output_type": "display_data"
    },
    {
     "name": "stdout",
     "output_type": "stream",
     "text": [
      "Best validation score: 1.0\n"
     ]
    },
    {
     "data": {
      "application/vnd.jupyter.widget-view+json": {
       "model_id": "ba9c3a8f7e624101bdf8ad5597e5ae40",
       "version_major": 2,
       "version_minor": 0
      },
      "text/plain": [
       "  0%|          | 0/100 [00:00<?, ?it/s]"
      ]
     },
     "metadata": {},
     "output_type": "display_data"
    },
    {
     "name": "stdout",
     "output_type": "stream",
     "text": [
      "Best validation score: 1.0\n"
     ]
    },
    {
     "data": {
      "application/vnd.jupyter.widget-view+json": {
       "model_id": "4a6bd7237ef6496990a379eb6e7b3ca7",
       "version_major": 2,
       "version_minor": 0
      },
      "text/plain": [
       "  0%|          | 0/100 [00:00<?, ?it/s]"
      ]
     },
     "metadata": {},
     "output_type": "display_data"
    },
    {
     "name": "stdout",
     "output_type": "stream",
     "text": [
      "Best validation score: 1.0\n",
      "Benchmark Complete!\n",
      "Training CTGAN: vae - ae_dim - 256_128_64_32 - embed_dim - 64 - gan_layers - 256_256 - dstep - 1 - pac - 8\n",
      "Training Complete!\n",
      "Benchmarking on MLP100\n"
     ]
    },
    {
     "data": {
      "application/vnd.jupyter.widget-view+json": {
       "model_id": "5e43ed91e3da49fd9b769818f5f4c9c9",
       "version_major": 2,
       "version_minor": 0
      },
      "text/plain": [
       "  0%|          | 0/100 [00:00<?, ?it/s]"
      ]
     },
     "metadata": {},
     "output_type": "display_data"
    },
    {
     "name": "stdout",
     "output_type": "stream",
     "text": [
      "Best validation score: 1.0\n"
     ]
    },
    {
     "data": {
      "application/vnd.jupyter.widget-view+json": {
       "model_id": "65b69996c5cb45f089f3cc3dcd281e8b",
       "version_major": 2,
       "version_minor": 0
      },
      "text/plain": [
       "  0%|          | 0/100 [00:00<?, ?it/s]"
      ]
     },
     "metadata": {},
     "output_type": "display_data"
    },
    {
     "name": "stdout",
     "output_type": "stream",
     "text": [
      "Best validation score: 1.0\n"
     ]
    },
    {
     "data": {
      "application/vnd.jupyter.widget-view+json": {
       "model_id": "be85da77e96446a2bdefcdc0de5675c6",
       "version_major": 2,
       "version_minor": 0
      },
      "text/plain": [
       "  0%|          | 0/100 [00:00<?, ?it/s]"
      ]
     },
     "metadata": {},
     "output_type": "display_data"
    },
    {
     "name": "stdout",
     "output_type": "stream",
     "text": [
      "Best validation score: 1.0\n",
      "Benchmark Complete!\n",
      "Training CTGAN: vae - ae_dim - 256_128_64_32 - embed_dim - 64 - gan_layers - 256_256 - dstep - 1 - pac - 16\n",
      "Training Complete!\n",
      "Benchmarking on MLP100\n"
     ]
    },
    {
     "name": "stderr",
     "output_type": "stream",
     "text": [
      "/home/y2k/CSC2516_Project/code/ctgan/utils.py:132: PerformanceWarning: DataFrame is highly fragmented.  This is usually the result of calling `frame.insert` many times, which has poor performance.  Consider joining all columns at once using pd.concat(axis=1) instead. To get a de-fragmented frame, use `newframe = frame.copy()`\n",
      "  fake_df[col_name] = 0\n"
     ]
    },
    {
     "data": {
      "application/vnd.jupyter.widget-view+json": {
       "model_id": "2d9595c7e88846dd948a6a9d7b54df2d",
       "version_major": 2,
       "version_minor": 0
      },
      "text/plain": [
       "  0%|          | 0/100 [00:00<?, ?it/s]"
      ]
     },
     "metadata": {},
     "output_type": "display_data"
    },
    {
     "name": "stdout",
     "output_type": "stream",
     "text": [
      "Best validation score: 1.0\n"
     ]
    },
    {
     "data": {
      "application/vnd.jupyter.widget-view+json": {
       "model_id": "6eb713de28384d398cbf31ba5df12d80",
       "version_major": 2,
       "version_minor": 0
      },
      "text/plain": [
       "  0%|          | 0/100 [00:00<?, ?it/s]"
      ]
     },
     "metadata": {},
     "output_type": "display_data"
    },
    {
     "name": "stdout",
     "output_type": "stream",
     "text": [
      "Best validation score: 1.0\n"
     ]
    },
    {
     "data": {
      "application/vnd.jupyter.widget-view+json": {
       "model_id": "e1d8a9ffc43a47f4af8213baeafeda01",
       "version_major": 2,
       "version_minor": 0
      },
      "text/plain": [
       "  0%|          | 0/100 [00:00<?, ?it/s]"
      ]
     },
     "metadata": {},
     "output_type": "display_data"
    },
    {
     "name": "stdout",
     "output_type": "stream",
     "text": [
      "Best validation score: 1.0\n",
      "Benchmark Complete!\n",
      "Training CTGAN: vae - ae_dim - 256_128_64_32 - embed_dim - 64 - gan_layers - 256_256 - dstep - 5 - pac - 4\n",
      "Training Complete!\n",
      "Benchmarking on MLP100\n"
     ]
    },
    {
     "name": "stderr",
     "output_type": "stream",
     "text": [
      "/home/y2k/CSC2516_Project/code/ctgan/utils.py:132: PerformanceWarning: DataFrame is highly fragmented.  This is usually the result of calling `frame.insert` many times, which has poor performance.  Consider joining all columns at once using pd.concat(axis=1) instead. To get a de-fragmented frame, use `newframe = frame.copy()`\n",
      "  fake_df[col_name] = 0\n"
     ]
    },
    {
     "data": {
      "application/vnd.jupyter.widget-view+json": {
       "model_id": "ff109c4de5184a47948abe4aeff5ede5",
       "version_major": 2,
       "version_minor": 0
      },
      "text/plain": [
       "  0%|          | 0/100 [00:00<?, ?it/s]"
      ]
     },
     "metadata": {},
     "output_type": "display_data"
    },
    {
     "name": "stdout",
     "output_type": "stream",
     "text": [
      "Best validation score: 1.0\n"
     ]
    },
    {
     "data": {
      "application/vnd.jupyter.widget-view+json": {
       "model_id": "e567edfbc0d04a61ad5fac57f66ad83e",
       "version_major": 2,
       "version_minor": 0
      },
      "text/plain": [
       "  0%|          | 0/100 [00:00<?, ?it/s]"
      ]
     },
     "metadata": {},
     "output_type": "display_data"
    },
    {
     "name": "stdout",
     "output_type": "stream",
     "text": [
      "Best validation score: 1.0\n"
     ]
    },
    {
     "data": {
      "application/vnd.jupyter.widget-view+json": {
       "model_id": "0c0578567e9046aca2a4455965372cc7",
       "version_major": 2,
       "version_minor": 0
      },
      "text/plain": [
       "  0%|          | 0/100 [00:00<?, ?it/s]"
      ]
     },
     "metadata": {},
     "output_type": "display_data"
    },
    {
     "name": "stdout",
     "output_type": "stream",
     "text": [
      "Best validation score: 1.0\n",
      "Benchmark Complete!\n",
      "Training CTGAN: vae - ae_dim - 256_128_64_32 - embed_dim - 64 - gan_layers - 256_256 - dstep - 5 - pac - 8\n",
      "Training Complete!\n",
      "Benchmarking on MLP100\n"
     ]
    },
    {
     "name": "stderr",
     "output_type": "stream",
     "text": [
      "/home/y2k/CSC2516_Project/code/ctgan/utils.py:132: PerformanceWarning: DataFrame is highly fragmented.  This is usually the result of calling `frame.insert` many times, which has poor performance.  Consider joining all columns at once using pd.concat(axis=1) instead. To get a de-fragmented frame, use `newframe = frame.copy()`\n",
      "  fake_df[col_name] = 0\n"
     ]
    },
    {
     "data": {
      "application/vnd.jupyter.widget-view+json": {
       "model_id": "48b04b05c4c74a9585c2b14efab24e0b",
       "version_major": 2,
       "version_minor": 0
      },
      "text/plain": [
       "  0%|          | 0/100 [00:00<?, ?it/s]"
      ]
     },
     "metadata": {},
     "output_type": "display_data"
    },
    {
     "name": "stdout",
     "output_type": "stream",
     "text": [
      "Best validation score: 1.0\n"
     ]
    },
    {
     "data": {
      "application/vnd.jupyter.widget-view+json": {
       "model_id": "8fda7118ade144f68f6466b0d9acd470",
       "version_major": 2,
       "version_minor": 0
      },
      "text/plain": [
       "  0%|          | 0/100 [00:00<?, ?it/s]"
      ]
     },
     "metadata": {},
     "output_type": "display_data"
    },
    {
     "name": "stdout",
     "output_type": "stream",
     "text": [
      "Best validation score: 1.0\n"
     ]
    },
    {
     "data": {
      "application/vnd.jupyter.widget-view+json": {
       "model_id": "97074aeca7234b24816eeed16aa6d5fe",
       "version_major": 2,
       "version_minor": 0
      },
      "text/plain": [
       "  0%|          | 0/100 [00:00<?, ?it/s]"
      ]
     },
     "metadata": {},
     "output_type": "display_data"
    },
    {
     "name": "stdout",
     "output_type": "stream",
     "text": [
      "Best validation score: 1.0\n",
      "Benchmark Complete!\n",
      "Training CTGAN: vae - ae_dim - 256_128_64_32 - embed_dim - 64 - gan_layers - 256_256 - dstep - 5 - pac - 16\n",
      "Training Complete!\n",
      "Benchmarking on MLP100\n"
     ]
    },
    {
     "data": {
      "application/vnd.jupyter.widget-view+json": {
       "model_id": "f91cd784b4be4cfcbb9ef43a9fc16380",
       "version_major": 2,
       "version_minor": 0
      },
      "text/plain": [
       "  0%|          | 0/100 [00:00<?, ?it/s]"
      ]
     },
     "metadata": {},
     "output_type": "display_data"
    },
    {
     "name": "stdout",
     "output_type": "stream",
     "text": [
      "Best validation score: 1.0\n"
     ]
    },
    {
     "data": {
      "application/vnd.jupyter.widget-view+json": {
       "model_id": "a7244e1cbb8c447cb03b40c9627680e4",
       "version_major": 2,
       "version_minor": 0
      },
      "text/plain": [
       "  0%|          | 0/100 [00:00<?, ?it/s]"
      ]
     },
     "metadata": {},
     "output_type": "display_data"
    },
    {
     "name": "stdout",
     "output_type": "stream",
     "text": [
      "Best validation score: 1.0\n"
     ]
    },
    {
     "data": {
      "application/vnd.jupyter.widget-view+json": {
       "model_id": "e6a23a2dcd1a4547ae1a13f06f656e5d",
       "version_major": 2,
       "version_minor": 0
      },
      "text/plain": [
       "  0%|          | 0/100 [00:00<?, ?it/s]"
      ]
     },
     "metadata": {},
     "output_type": "display_data"
    },
    {
     "name": "stdout",
     "output_type": "stream",
     "text": [
      "Best validation score: 1.0\n",
      "Benchmark Complete!\n",
      "Training CTGAN: ee - ae_dim - 256_128_64 - embed_dim - 128 - gan_layers - 256_256_256_256 - dstep - 1 - pac - 4\n",
      "Training Complete!\n",
      "Benchmarking on MLP100\n"
     ]
    },
    {
     "data": {
      "application/vnd.jupyter.widget-view+json": {
       "model_id": "d651902eecc143088a6a6fb2c25f8221",
       "version_major": 2,
       "version_minor": 0
      },
      "text/plain": [
       "  0%|          | 0/100 [00:00<?, ?it/s]"
      ]
     },
     "metadata": {},
     "output_type": "display_data"
    },
    {
     "name": "stdout",
     "output_type": "stream",
     "text": [
      "Best validation score: 1.0\n"
     ]
    },
    {
     "data": {
      "application/vnd.jupyter.widget-view+json": {
       "model_id": "57ca501d86b6439599b0d5cf718b7867",
       "version_major": 2,
       "version_minor": 0
      },
      "text/plain": [
       "  0%|          | 0/100 [00:00<?, ?it/s]"
      ]
     },
     "metadata": {},
     "output_type": "display_data"
    },
    {
     "name": "stdout",
     "output_type": "stream",
     "text": [
      "Best validation score: 1.0\n"
     ]
    },
    {
     "data": {
      "application/vnd.jupyter.widget-view+json": {
       "model_id": "537bf5aa7a6f4306addc972628b05413",
       "version_major": 2,
       "version_minor": 0
      },
      "text/plain": [
       "  0%|          | 0/100 [00:00<?, ?it/s]"
      ]
     },
     "metadata": {},
     "output_type": "display_data"
    },
    {
     "name": "stdout",
     "output_type": "stream",
     "text": [
      "Best validation score: 1.0\n",
      "Benchmark Complete!\n",
      "Training CTGAN: ee - ae_dim - 256_128_64 - embed_dim - 128 - gan_layers - 256_256_256_256 - dstep - 1 - pac - 8\n",
      "Training Complete!\n",
      "Benchmarking on MLP100\n"
     ]
    },
    {
     "data": {
      "application/vnd.jupyter.widget-view+json": {
       "model_id": "873a5c0b80314e20acb46f9aad839729",
       "version_major": 2,
       "version_minor": 0
      },
      "text/plain": [
       "  0%|          | 0/100 [00:00<?, ?it/s]"
      ]
     },
     "metadata": {},
     "output_type": "display_data"
    },
    {
     "name": "stdout",
     "output_type": "stream",
     "text": [
      "Best validation score: 1.0\n"
     ]
    },
    {
     "data": {
      "application/vnd.jupyter.widget-view+json": {
       "model_id": "41ad6cb528ca4ebea314cfcf9758615c",
       "version_major": 2,
       "version_minor": 0
      },
      "text/plain": [
       "  0%|          | 0/100 [00:00<?, ?it/s]"
      ]
     },
     "metadata": {},
     "output_type": "display_data"
    },
    {
     "name": "stdout",
     "output_type": "stream",
     "text": [
      "Best validation score: 1.0\n"
     ]
    },
    {
     "data": {
      "application/vnd.jupyter.widget-view+json": {
       "model_id": "b65c39b1330649c2be6cbe18d41567a2",
       "version_major": 2,
       "version_minor": 0
      },
      "text/plain": [
       "  0%|          | 0/100 [00:00<?, ?it/s]"
      ]
     },
     "metadata": {},
     "output_type": "display_data"
    },
    {
     "name": "stdout",
     "output_type": "stream",
     "text": [
      "Best validation score: 1.0\n",
      "Benchmark Complete!\n",
      "Training CTGAN: ee - ae_dim - 256_128_64 - embed_dim - 128 - gan_layers - 256_256_256_256 - dstep - 1 - pac - 16\n",
      "Training Complete!\n",
      "Benchmarking on MLP100\n"
     ]
    },
    {
     "data": {
      "application/vnd.jupyter.widget-view+json": {
       "model_id": "76160e034abc4aab823adde0b52f9fa6",
       "version_major": 2,
       "version_minor": 0
      },
      "text/plain": [
       "  0%|          | 0/100 [00:00<?, ?it/s]"
      ]
     },
     "metadata": {},
     "output_type": "display_data"
    },
    {
     "name": "stdout",
     "output_type": "stream",
     "text": [
      "Best validation score: 0.9752764105796814\n"
     ]
    },
    {
     "data": {
      "application/vnd.jupyter.widget-view+json": {
       "model_id": "5a81af950ed5457d8dca9cbb723efa49",
       "version_major": 2,
       "version_minor": 0
      },
      "text/plain": [
       "  0%|          | 0/100 [00:00<?, ?it/s]"
      ]
     },
     "metadata": {},
     "output_type": "display_data"
    },
    {
     "name": "stdout",
     "output_type": "stream",
     "text": [
      "Best validation score: 0.9543918967247009\n"
     ]
    },
    {
     "data": {
      "application/vnd.jupyter.widget-view+json": {
       "model_id": "b1ee90b71cac427aace019b48ceaeb2b",
       "version_major": 2,
       "version_minor": 0
      },
      "text/plain": [
       "  0%|          | 0/100 [00:00<?, ?it/s]"
      ]
     },
     "metadata": {},
     "output_type": "display_data"
    },
    {
     "name": "stdout",
     "output_type": "stream",
     "text": [
      "Best validation score: 0.9543918967247009\n",
      "Benchmark Complete!\n",
      "Training CTGAN: ee - ae_dim - 256_128_64 - embed_dim - 128 - gan_layers - 256_256_256_256 - dstep - 5 - pac - 4\n",
      "Training Complete!\n",
      "Benchmarking on MLP100\n"
     ]
    },
    {
     "data": {
      "application/vnd.jupyter.widget-view+json": {
       "model_id": "a28b819f824746b6a4685461660e9f5e",
       "version_major": 2,
       "version_minor": 0
      },
      "text/plain": [
       "  0%|          | 0/100 [00:00<?, ?it/s]"
      ]
     },
     "metadata": {},
     "output_type": "display_data"
    },
    {
     "name": "stdout",
     "output_type": "stream",
     "text": [
      "Best validation score: 1.0\n"
     ]
    },
    {
     "data": {
      "application/vnd.jupyter.widget-view+json": {
       "model_id": "059024b2c49e444bb73964cdea6ba92e",
       "version_major": 2,
       "version_minor": 0
      },
      "text/plain": [
       "  0%|          | 0/100 [00:00<?, ?it/s]"
      ]
     },
     "metadata": {},
     "output_type": "display_data"
    },
    {
     "name": "stdout",
     "output_type": "stream",
     "text": [
      "Best validation score: 1.0\n"
     ]
    },
    {
     "data": {
      "application/vnd.jupyter.widget-view+json": {
       "model_id": "df7964e37e67484a9c75f648aa29b436",
       "version_major": 2,
       "version_minor": 0
      },
      "text/plain": [
       "  0%|          | 0/100 [00:00<?, ?it/s]"
      ]
     },
     "metadata": {},
     "output_type": "display_data"
    },
    {
     "name": "stdout",
     "output_type": "stream",
     "text": [
      "Best validation score: 1.0\n",
      "Benchmark Complete!\n",
      "Training CTGAN: ee - ae_dim - 256_128_64 - embed_dim - 128 - gan_layers - 256_256_256_256 - dstep - 5 - pac - 8\n",
      "Training Complete!\n",
      "Benchmarking on MLP100\n"
     ]
    },
    {
     "data": {
      "application/vnd.jupyter.widget-view+json": {
       "model_id": "962d3b66d71f42f4abd0e3f79adf84f3",
       "version_major": 2,
       "version_minor": 0
      },
      "text/plain": [
       "  0%|          | 0/100 [00:00<?, ?it/s]"
      ]
     },
     "metadata": {},
     "output_type": "display_data"
    },
    {
     "name": "stdout",
     "output_type": "stream",
     "text": [
      "Best validation score: 0.9725123047828674\n"
     ]
    },
    {
     "data": {
      "application/vnd.jupyter.widget-view+json": {
       "model_id": "430c63f1d84040558085ee3593abf5dc",
       "version_major": 2,
       "version_minor": 0
      },
      "text/plain": [
       "  0%|          | 0/100 [00:00<?, ?it/s]"
      ]
     },
     "metadata": {},
     "output_type": "display_data"
    },
    {
     "name": "stdout",
     "output_type": "stream",
     "text": [
      "Best validation score: 0.9989250898361206\n"
     ]
    },
    {
     "data": {
      "application/vnd.jupyter.widget-view+json": {
       "model_id": "ea6d490fd42f4cb284b5e2bb06dbf0ad",
       "version_major": 2,
       "version_minor": 0
      },
      "text/plain": [
       "  0%|          | 0/100 [00:00<?, ?it/s]"
      ]
     },
     "metadata": {},
     "output_type": "display_data"
    },
    {
     "name": "stdout",
     "output_type": "stream",
     "text": [
      "Best validation score: 0.9711301922798157\n",
      "Benchmark Complete!\n",
      "Training CTGAN: ee - ae_dim - 256_128_64 - embed_dim - 128 - gan_layers - 256_256_256_256 - dstep - 5 - pac - 16\n",
      "Training Complete!\n",
      "Benchmarking on MLP100\n"
     ]
    },
    {
     "data": {
      "application/vnd.jupyter.widget-view+json": {
       "model_id": "0bf7bede47794c4d8eb966dcc15c7053",
       "version_major": 2,
       "version_minor": 0
      },
      "text/plain": [
       "  0%|          | 0/100 [00:00<?, ?it/s]"
      ]
     },
     "metadata": {},
     "output_type": "display_data"
    },
    {
     "name": "stdout",
     "output_type": "stream",
     "text": [
      "Best validation score: 1.0\n"
     ]
    },
    {
     "data": {
      "application/vnd.jupyter.widget-view+json": {
       "model_id": "14630723b09a4b9fabf57beed3778ec9",
       "version_major": 2,
       "version_minor": 0
      },
      "text/plain": [
       "  0%|          | 0/100 [00:00<?, ?it/s]"
      ]
     },
     "metadata": {},
     "output_type": "display_data"
    },
    {
     "name": "stdout",
     "output_type": "stream",
     "text": [
      "Best validation score: 1.0\n"
     ]
    },
    {
     "data": {
      "application/vnd.jupyter.widget-view+json": {
       "model_id": "8fe787038ece4c5aa9918f7d6217a62c",
       "version_major": 2,
       "version_minor": 0
      },
      "text/plain": [
       "  0%|          | 0/100 [00:00<?, ?it/s]"
      ]
     },
     "metadata": {},
     "output_type": "display_data"
    },
    {
     "name": "stdout",
     "output_type": "stream",
     "text": [
      "Best validation score: 1.0\n",
      "Benchmark Complete!\n"
     ]
    }
   ],
   "source": [
    "hp = 'dstep_pac'\n",
    "dstep_pac = list(itertools.product(HP['discriminator_steps'], HP['pac']))\n",
    "\n",
    "for ae_type in AE_TYPES:\n",
    "    hp_scores = dict()\n",
    "    printable_ae_dim = max(hp_vals[ae_type]['ae_dim'].items(), key=lambda x: x[1])[0]\n",
    "    ae_dim = tuple(map(int, printable_ae_dim.split('_')))\n",
    "    embedding_dim = int(max(hp_vals[ae_type]['embedding_dim'].items(), key=lambda x: x[1])[0])\n",
    "    printable_gan_layers = max(hp_vals[ae_type]['gan_layers'].items(), key=lambda x: x[1])[0]\n",
    "    gan_layers = tuple(map(int, printable_gan_layers.split('_')))\n",
    "    for v1, v2 in dstep_pac:\n",
    "        k = '_'.join(map(str,[v1,v2]))\n",
    "        if not os.path.exists(f\"../../models/ae_gan_{ae_type}_ae_dim_{printable_ae_dim}_emb_{embedding_dim}_gla_{gan_layers}_dstep_{v1}_pac_{v2}.pth\"):\n",
    "            # Train the AE_GAN\n",
    "            print(f\"Training CTGAN: {ae_type} - ae_dim - {printable_ae_dim} - embed_dim - {embedding_dim} - gan_layers - {printable_gan_layers} - dstep - {v1} - pac - {v2}\")\n",
    "            ae_gan = CTGANV2(ae_type=ae_type, ae_dim=ae_dim, embedding_dim=embedding_dim,\n",
    "                                generator_dim=gan_layers, discriminator_dim=gan_layers,\n",
    "                                discriminator_steps=v1, pac=v2)\n",
    "            ae_gan.fit(td['train'], dt=dt, is_transformed=True, target_index=target_idx)\n",
    "            print(\"Training Complete!\")\n",
    "            # save model\n",
    "            ae_gan.save(f\"../../models/ae_gan_{ae_type}_ae_dim_{printable_ae_dim}_emb_{embedding_dim}_gla_{gan_layers}_dstep_{v1}_pac_{v2}.pth\")\n",
    "        else:\n",
    "            print(f\"Loading CTGAN: {ae_type} - ae_dim - {printable_ae_dim} - embed_dim - {embedding_dim} - gan_layers - {printable_gan_layers} - dstep - {v1} - pac - {v2}\")\n",
    "            ae_gan = CTGANV2().load(f\"../../models/ae_gan_{ae_type}_ae_dim_{printable_ae_dim}_emb_{embedding_dim}_gla_{gan_layers}_dstep_{v1}_pac_{v2}.pth\")\n",
    "\n",
    "        best_score = torch.tensor([0.0])\n",
    "        try:\n",
    "            # Sample fake data\n",
    "            fake_data, real_data = sample_fake_adult(dt,td,ae_gan)\n",
    "            \n",
    "            print(\"Benchmarking on MLP100\")\n",
    "            # Train the MLP on fake validation data\n",
    "            for _ in range(3):\n",
    "                test_score = train_model(\n",
    "                                fake_data[0],\n",
    "                                fake_data[1],\n",
    "                                fake_data[2],\n",
    "                                fake_data[3],\n",
    "                                real_data[0],\n",
    "                                real_data[1],\n",
    "                                batch_size=256,\n",
    "                                num_epochs=100,\n",
    "                                model_type=\"classification\",\n",
    "                                verbose=False,\n",
    "                                scorer_type=\"accuracy\",\n",
    "                            )\n",
    "                if test_score > best_score:\n",
    "                    best_score = test_score\n",
    "            print(\"Benchmark Complete!\")\n",
    "        except:\n",
    "            pass\n",
    "        hp_scores[k] = best_score.item()\n",
    "    \n",
    "    hp_vals[ae_type][hp] = hp_scores\n",
    "    with open(\"adult_opt_hp.json\", 'w') as f:\n",
    "        f.write(json.dumps(hp_vals))"
   ]
  },
  {
   "cell_type": "markdown",
   "metadata": {},
   "source": [
    "#### (5) Find the optimal GAN LR, GAN BatchSize-Epoch, AE LR, AE BatchSize-Epoch"
   ]
  },
  {
   "cell_type": "code",
   "execution_count": 9,
   "metadata": {},
   "outputs": [
    {
     "data": {
      "application/vnd.jupyter.widget-view+json": {
       "model_id": "64cf86b817304f75a56fbea0ce43d451",
       "version_major": 2,
       "version_minor": 0
      },
      "text/plain": [
       "  0%|          | 0/4 [00:00<?, ?it/s]"
      ]
     },
     "metadata": {},
     "output_type": "display_data"
    },
    {
     "data": {
      "application/vnd.jupyter.widget-view+json": {
       "model_id": "d53241558a9349c9913750dbb099e099",
       "version_major": 2,
       "version_minor": 0
      },
      "text/plain": [
       "  0%|          | 0/24 [00:00<?, ?it/s]"
      ]
     },
     "metadata": {},
     "output_type": "display_data"
    },
    {
     "name": "stdout",
     "output_type": "stream",
     "text": [
      "Training CTGAN: vanilla - ae_dim - 256_128 - embed_dim - 64 -                   gan_layers - 256_256 - dstep - 1e-05 - pac - (256, 150) -                   gan_lr - 1e-05 - gan_batch_epoch - 256_150 - ae_lr - 0.0001 - ae_batch_epoch - 256_50\n"
     ]
    },
    {
     "ename": "KeyboardInterrupt",
     "evalue": "",
     "output_type": "error",
     "traceback": [
      "\u001b[0;31m---------------------------------------------------------------------------\u001b[0m",
      "\u001b[0;31mKeyboardInterrupt\u001b[0m                         Traceback (most recent call last)",
      "Cell \u001b[0;32mIn[9], line 27\u001b[0m\n\u001b[1;32m     20\u001b[0m \u001b[39mprint\u001b[39m(\u001b[39mf\u001b[39m\u001b[39m\"\u001b[39m\u001b[39mTraining CTGAN: \u001b[39m\u001b[39m{\u001b[39;00mae_type\u001b[39m}\u001b[39;00m\u001b[39m - ae_dim - \u001b[39m\u001b[39m{\u001b[39;00mprintable_ae_dim\u001b[39m}\u001b[39;00m\u001b[39m - embed_dim - \u001b[39m\u001b[39m{\u001b[39;00membedding_dim\u001b[39m}\u001b[39;00m\u001b[39m - \u001b[39m\u001b[39m\\\u001b[39;00m\n\u001b[1;32m     21\u001b[0m \u001b[39m      gan_layers - \u001b[39m\u001b[39m{\u001b[39;00mprintable_gan_layers\u001b[39m}\u001b[39;00m\u001b[39m - dstep - \u001b[39m\u001b[39m{\u001b[39;00mv1\u001b[39m}\u001b[39;00m\u001b[39m - pac - \u001b[39m\u001b[39m{\u001b[39;00mv2\u001b[39m}\u001b[39;00m\u001b[39m - \u001b[39m\u001b[39m\\\u001b[39;00m\n\u001b[1;32m     22\u001b[0m \u001b[39m      gan_lr - \u001b[39m\u001b[39m{\u001b[39;00mv1\u001b[39m}\u001b[39;00m\u001b[39m - gan_batch_epoch - \u001b[39m\u001b[39m{\u001b[39;00mpv2\u001b[39m}\u001b[39;00m\u001b[39m - ae_lr - \u001b[39m\u001b[39m{\u001b[39;00mv3\u001b[39m}\u001b[39;00m\u001b[39m - ae_batch_epoch - \u001b[39m\u001b[39m{\u001b[39;00mpv4\u001b[39m}\u001b[39;00m\u001b[39m\"\u001b[39m)\n\u001b[1;32m     23\u001b[0m ae_gan \u001b[39m=\u001b[39m CTGANV2(ae_type\u001b[39m=\u001b[39mae_type, ae_dim\u001b[39m=\u001b[39mae_dim, embedding_dim\u001b[39m=\u001b[39membedding_dim,\n\u001b[1;32m     24\u001b[0m                     generator_dim\u001b[39m=\u001b[39mgan_layers, discriminator_dim\u001b[39m=\u001b[39mgan_layers,\n\u001b[1;32m     25\u001b[0m                     discriminator_steps\u001b[39m=\u001b[39md_step, pac\u001b[39m=\u001b[39mpac, generator_lr\u001b[39m=\u001b[39mv1, discriminator_lr\u001b[39m=\u001b[39mv1,\n\u001b[1;32m     26\u001b[0m                     batch_size\u001b[39m=\u001b[39mv2[\u001b[39m0\u001b[39m], epochs\u001b[39m=\u001b[39mv2[\u001b[39m1\u001b[39m])\n\u001b[0;32m---> 27\u001b[0m ae_gan\u001b[39m.\u001b[39;49mfit(td[\u001b[39m'\u001b[39;49m\u001b[39mtrain\u001b[39;49m\u001b[39m'\u001b[39;49m], dt\u001b[39m=\u001b[39;49mdt, is_transformed\u001b[39m=\u001b[39;49m\u001b[39mTrue\u001b[39;49;00m, target_index\u001b[39m=\u001b[39;49mtarget_idx)\n\u001b[1;32m     28\u001b[0m \u001b[39mprint\u001b[39m(\u001b[39m\"\u001b[39m\u001b[39mTraining Complete!\u001b[39m\u001b[39m\"\u001b[39m)\n\u001b[1;32m     29\u001b[0m \u001b[39m# save model\u001b[39;00m\n",
      "File \u001b[0;32m~/CSC2516_Project/code/ctgan/ctgan/synthesizers/base.py:50\u001b[0m, in \u001b[0;36mrandom_state.<locals>.wrapper\u001b[0;34m(self, *args, **kwargs)\u001b[0m\n\u001b[1;32m     48\u001b[0m \u001b[39mdef\u001b[39;00m \u001b[39mwrapper\u001b[39m(\u001b[39mself\u001b[39m, \u001b[39m*\u001b[39margs, \u001b[39m*\u001b[39m\u001b[39m*\u001b[39mkwargs):\n\u001b[1;32m     49\u001b[0m     \u001b[39mif\u001b[39;00m \u001b[39mself\u001b[39m\u001b[39m.\u001b[39mrandom_states \u001b[39mis\u001b[39;00m \u001b[39mNone\u001b[39;00m:\n\u001b[0;32m---> 50\u001b[0m         \u001b[39mreturn\u001b[39;00m function(\u001b[39mself\u001b[39;49m, \u001b[39m*\u001b[39;49margs, \u001b[39m*\u001b[39;49m\u001b[39m*\u001b[39;49mkwargs)\n\u001b[1;32m     52\u001b[0m     \u001b[39melse\u001b[39;00m:\n\u001b[1;32m     53\u001b[0m         \u001b[39mwith\u001b[39;00m set_random_states(\u001b[39mself\u001b[39m\u001b[39m.\u001b[39mrandom_states, \u001b[39mself\u001b[39m\u001b[39m.\u001b[39mset_random_state):\n",
      "File \u001b[0;32m~/CSC2516_Project/code/ctgan/ctgan/synthesizers/ae_gan.py:558\u001b[0m, in \u001b[0;36mCTGANV2.fit\u001b[0;34m(self, train_data, discrete_columns, epochs, ae_epochs, target_index, dt, is_transformed)\u001b[0m\n\u001b[1;32m    555\u001b[0m y_real \u001b[39m=\u001b[39m discriminator(real_cat)\n\u001b[1;32m    557\u001b[0m \u001b[39m# discriminator loss\u001b[39;00m\n\u001b[0;32m--> 558\u001b[0m pen \u001b[39m=\u001b[39m discriminator\u001b[39m.\u001b[39;49mcalc_gradient_penalty(\n\u001b[1;32m    559\u001b[0m     real_cat, fake_cat, \u001b[39mself\u001b[39;49m\u001b[39m.\u001b[39;49m_device, \u001b[39mself\u001b[39;49m\u001b[39m.\u001b[39;49mpac)\n\u001b[1;32m    560\u001b[0m loss_d \u001b[39m=\u001b[39m \u001b[39m-\u001b[39m(torch\u001b[39m.\u001b[39mmean(y_real) \u001b[39m-\u001b[39m torch\u001b[39m.\u001b[39mmean(y_fake))\n\u001b[1;32m    562\u001b[0m \u001b[39m# discriminator backprop\u001b[39;00m\n",
      "File \u001b[0;32m~/CSC2516_Project/code/ctgan/ctgan/synthesizers/ae_gan.py:133\u001b[0m, in \u001b[0;36mDiscriminator.calc_gradient_penalty\u001b[0;34m(self, real_data, fake_data, device, pac, lambda_)\u001b[0m\n\u001b[1;32m    129\u001b[0m interpolates \u001b[39m=\u001b[39m alpha \u001b[39m*\u001b[39m real_data \u001b[39m+\u001b[39m ((\u001b[39m1\u001b[39m \u001b[39m-\u001b[39m alpha) \u001b[39m*\u001b[39m fake_data)\n\u001b[1;32m    131\u001b[0m disc_interpolates \u001b[39m=\u001b[39m \u001b[39mself\u001b[39m(interpolates)\n\u001b[0;32m--> 133\u001b[0m gradients \u001b[39m=\u001b[39m torch\u001b[39m.\u001b[39;49mautograd\u001b[39m.\u001b[39;49mgrad(\n\u001b[1;32m    134\u001b[0m     outputs\u001b[39m=\u001b[39;49mdisc_interpolates, inputs\u001b[39m=\u001b[39;49minterpolates,\n\u001b[1;32m    135\u001b[0m     grad_outputs\u001b[39m=\u001b[39;49mtorch\u001b[39m.\u001b[39;49mones(disc_interpolates\u001b[39m.\u001b[39;49msize(), device\u001b[39m=\u001b[39;49mdevice),\n\u001b[1;32m    136\u001b[0m     create_graph\u001b[39m=\u001b[39;49m\u001b[39mTrue\u001b[39;49;00m, retain_graph\u001b[39m=\u001b[39;49m\u001b[39mTrue\u001b[39;49;00m, only_inputs\u001b[39m=\u001b[39;49m\u001b[39mTrue\u001b[39;49;00m\n\u001b[1;32m    137\u001b[0m )[\u001b[39m0\u001b[39m]\n\u001b[1;32m    139\u001b[0m gradients_view \u001b[39m=\u001b[39m gradients\u001b[39m.\u001b[39mview(\u001b[39m-\u001b[39m\u001b[39m1\u001b[39m, pac \u001b[39m*\u001b[39m real_data\u001b[39m.\u001b[39msize(\u001b[39m1\u001b[39m))\u001b[39m.\u001b[39mnorm(\u001b[39m2\u001b[39m, dim\u001b[39m=\u001b[39m\u001b[39m1\u001b[39m) \u001b[39m-\u001b[39m \u001b[39m1\u001b[39m\n\u001b[1;32m    140\u001b[0m gradient_penalty \u001b[39m=\u001b[39m ((gradients_view) \u001b[39m*\u001b[39m\u001b[39m*\u001b[39m \u001b[39m2\u001b[39m)\u001b[39m.\u001b[39mmean() \u001b[39m*\u001b[39m lambda_\n",
      "File \u001b[0;32m~/anaconda3/envs/csc2516/lib/python3.9/site-packages/torch/autograd/__init__.py:300\u001b[0m, in \u001b[0;36mgrad\u001b[0;34m(outputs, inputs, grad_outputs, retain_graph, create_graph, only_inputs, allow_unused, is_grads_batched)\u001b[0m\n\u001b[1;32m    298\u001b[0m     \u001b[39mreturn\u001b[39;00m _vmap_internals\u001b[39m.\u001b[39m_vmap(vjp, \u001b[39m0\u001b[39m, \u001b[39m0\u001b[39m, allow_none_pass_through\u001b[39m=\u001b[39m\u001b[39mTrue\u001b[39;00m)(grad_outputs_)\n\u001b[1;32m    299\u001b[0m \u001b[39melse\u001b[39;00m:\n\u001b[0;32m--> 300\u001b[0m     \u001b[39mreturn\u001b[39;00m Variable\u001b[39m.\u001b[39;49m_execution_engine\u001b[39m.\u001b[39;49mrun_backward(  \u001b[39m# Calls into the C++ engine to run the backward pass\u001b[39;49;00m\n\u001b[1;32m    301\u001b[0m         t_outputs, grad_outputs_, retain_graph, create_graph, t_inputs,\n\u001b[1;32m    302\u001b[0m         allow_unused, accumulate_grad\u001b[39m=\u001b[39;49m\u001b[39mFalse\u001b[39;49;00m)\n",
      "\u001b[0;31mKeyboardInterrupt\u001b[0m: "
     ]
    }
   ],
   "source": [
    "from tqdm.notebook import tqdm\n",
    "hp = 'gbe_aeb'\n",
    "gbe_aeb = list(itertools.product(HP['gan_lr'], HP['gan_batch_epoch'], HP['ae_lr'], HP['ae_batch_epoch']))\n",
    "\n",
    "for ae_type in tqdm(AE_TYPES):\n",
    "    hp_scores = dict()\n",
    "    printable_ae_dim = max(hp_vals[ae_type]['ae_dim'].items(), key=lambda x: x[1])[0]\n",
    "    ae_dim = tuple(map(int, printable_ae_dim.split('_')))\n",
    "    embedding_dim = int(max(hp_vals[ae_type]['embedding_dim'].items(), key=lambda x: x[1])[0])\n",
    "    printable_gan_layers = max(hp_vals[ae_type]['gan_layers'].items(), key=lambda x: x[1])[0]\n",
    "    gan_layers = tuple(map(int, printable_gan_layers.split('_')))\n",
    "    d_step, pac = list(map(int,max(hp_vals[ae_type]['dstep_pac'].items(), key=lambda x: x[1])[0].split('_')))\n",
    "    for v1, v2, v3, v4 in tqdm(gbe_aeb):\n",
    "        pv2 = '_'.join(map(str,v2))\n",
    "        pv4 = '_'.join(map(str,v4))\n",
    "        k = '_'.join(map(str,[v1,pv2,v3,pv4]))\n",
    "        mpath = f\"../../models/ae_gan_{ae_type}_ae_dim_{printable_ae_dim}_emb_{embedding_dim}_gla_{gan_layers}_dstep_{d_step}_pac_{pac}_glr_{v1}_gbe_{pv2}_alr_{v3}_aeb_{pv4}.pth\"\n",
    "        if not os.path.exists(mpath):\n",
    "            # Train the AE_GAN\n",
    "            print(f\"Training CTGAN: {ae_type} - ae_dim - {printable_ae_dim} - embed_dim - {embedding_dim} - gan_layers - {printable_gan_layers} - dstep - {d_step} - pac - {pac} - gan_lr - {v1} - gan_batch_epoch - {pv2} - ae_lr - {v3} - ae_batch_epoch - {pv4}\")\n",
    "            ae_gan = CTGANV2(ae_type=ae_type, ae_dim=ae_dim, embedding_dim=embedding_dim,\n",
    "                                generator_dim=gan_layers, discriminator_dim=gan_layers,\n",
    "                                discriminator_steps=d_step, pac=pac, generator_lr=v1, discriminator_lr=v1,\n",
    "                                batch_size=v2[0], epochs=v2[1], autoencoder_lr=v3, ae_batch_size=v4[0], ae_epochs=v4[1])\n",
    "            ae_gan.fit(td['train'], dt=dt, is_transformed=True, target_index=target_idx)\n",
    "            print(\"Training Complete!\")\n",
    "            # save model\n",
    "            ae_gan.save(mpath)\n",
    "        else:\n",
    "            print(f\"Loading CTGAN: {ae_type} - ae_dim - {printable_ae_dim} - embed_dim - {embedding_dim} - gan_layers - {printable_gan_layers} - dstep - {d_step} - pac - {pac} - gan_lr - {v1} - gan_batch_epoch - {pv2} - ae_lr - {v3} - ae_batch_epoch - {pv4}\")\n",
    "            ae_gan = CTGANV2().load(mpath)\n",
    "\n",
    "        best_score = torch.tensor([0.0])\n",
    "        try:\n",
    "            # Sample fake data\n",
    "            fake_data, real_data = sample_fake_adult(dt,td,ae_gan)\n",
    "            \n",
    "            print(\"Benchmarking on MLP100\")\n",
    "            # Train the MLP on fake validation data\n",
    "            for _ in range(3):\n",
    "                test_score = train_model(\n",
    "                                fake_data[0],\n",
    "                                fake_data[1],\n",
    "                                fake_data[2],\n",
    "                                fake_data[3],\n",
    "                                real_data[0],\n",
    "                                real_data[1],\n",
    "                                batch_size=256,\n",
    "                                num_epochs=100,\n",
    "                                model_type=\"classification\",\n",
    "                                verbose=False,\n",
    "                                scorer_type=\"accuracy\",\n",
    "                            )\n",
    "                if test_score > best_score:\n",
    "                    best_score = test_score\n",
    "            print(\"Benchmark Complete!\")\n",
    "        except:\n",
    "            pass\n",
    "        hp_scores[k] = best_score.item()\n",
    "    \n",
    "    hp_vals[ae_type][hp] = hp_scores\n",
    "    with open(\"adult_opt_hp.json\", 'w') as f:\n",
    "        f.write(json.dumps(hp_vals))"
   ]
  },
  {
   "cell_type": "code",
   "execution_count": null,
   "metadata": {},
   "outputs": [],
   "source": []
  }
 ],
 "metadata": {
  "kernelspec": {
   "display_name": "csc2516",
   "language": "python",
   "name": "python3"
  },
  "language_info": {
   "codemirror_mode": {
    "name": "ipython",
    "version": 3
   },
   "file_extension": ".py",
   "mimetype": "text/x-python",
   "name": "python",
   "nbconvert_exporter": "python",
   "pygments_lexer": "ipython3",
   "version": "3.9.16"
  },
  "orig_nbformat": 4
 },
 "nbformat": 4,
 "nbformat_minor": 2
}
