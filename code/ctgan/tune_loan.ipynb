{
 "cells": [
  {
   "cell_type": "markdown",
   "metadata": {},
   "source": [
    "from utils import write_transform_to_file\n",
    "write_transform_to_file('loan') # needs to be run only once per dataset"
   ]
  },
  {
   "attachments": {},
   "cell_type": "markdown",
   "metadata": {},
   "source": [
    "#### Load the data transformer and the transformed data"
   ]
  },
  {
   "cell_type": "code",
   "execution_count": 1,
   "metadata": {},
   "outputs": [
    {
     "name": "stdout",
     "output_type": "stream",
     "text": [
      "Data transformer loaded\n",
      "Transformed data loaded\n"
     ]
    }
   ],
   "source": [
    "import json\n",
    "import itertools\n",
    "import os\n",
    "import torch\n",
    "\n",
    "from ctgan.synthesizers.ae_gan import CTGANV2\n",
    "from benchmark import train_model\n",
    "from utils import load_transform_from_file, read_target_idx, sample_fake_loan\n",
    "\n",
    "\n",
    "AE_TYPES = ['vanilla', 'denoising', 'vae', 'ee']\n",
    "HP = {\n",
    "    'ae_dim' : [(256,128,64), (256,128,64,32)], # (1)\n",
    "    'embedding_dim' : [64, 128, 256], #(2)\n",
    "    'gan_layers': [(256,256), (256,256,256,256)], # (3)\n",
    "    'discriminator_steps': [1, 5], # (4)\n",
    "    'pac': [4, 8, 16], # (4)\n",
    "    'gan_lr': [1e-5, 2e-4], # (5)\n",
    "    'gan_batch_epoch': [(256,150), (512,300)], # (5)\n",
    "    'ae_lr': [1e-4, 2e-4, 1e-3], # (5)\n",
    "    'ae_batch_epoch': [(256,50), (512,100)], # (5)\n",
    "}\n",
    "if os.path.exists(\"loan_opt_hp.json\"):\n",
    "    with open(\"loan_opt_hp.json\", 'r') as f:\n",
    "        hp_vals = json.load(f)\n",
    "else:\n",
    "    hp_vals = {k:dict.fromkeys(HP.keys()) for k in AE_TYPES}\n",
    "    for method in hp_vals.keys():\n",
    "        hp_vals[method]['dstep_pac'] = hp_vals[method].pop('discriminator_steps')\n",
    "        del hp_vals[method]['pac']\n",
    "        hp_vals[method]['gbe_aeb'] = hp_vals[method].pop('gan_lr')\n",
    "        del hp_vals[method]['gan_batch_epoch']\n",
    "        del hp_vals[method]['ae_lr']\n",
    "        del hp_vals[method]['ae_batch_epoch']\n",
    "\n",
    "# Load the transformed data\n",
    "dt, td = load_transform_from_file('loan')\n",
    "target_idx = read_target_idx('loan')"
   ]
  },
  {
   "attachments": {},
   "cell_type": "markdown",
   "metadata": {},
   "source": [
    "#### (1) Find the optimal AE dimension"
   ]
  },
  {
   "cell_type": "code",
   "execution_count": 2,
   "metadata": {},
   "outputs": [
    {
     "name": "stdout",
     "output_type": "stream",
     "text": [
      "Training CTGAN: vanilla - ae_dim - (256, 128, 64)\n"
     ]
    },
    {
     "data": {
      "application/vnd.jupyter.widget-view+json": {
       "model_id": "b2f0e82645334b6ea392407231f7eebe",
       "version_major": 2,
       "version_minor": 0
      },
      "text/plain": [
       "AE Train:   0%|          | 0/100 [00:00<?, ?it/s]"
      ]
     },
     "metadata": {},
     "output_type": "display_data"
    },
    {
     "data": {
      "application/vnd.jupyter.widget-view+json": {
       "model_id": "a63ebb4e8a6e40ac94a8d6347d0571a5",
       "version_major": 2,
       "version_minor": 0
      },
      "text/plain": [
       "GAN Train:   0%|          | 0/100 [00:00<?, ?it/s]"
      ]
     },
     "metadata": {},
     "output_type": "display_data"
    },
    {
     "name": "stdout",
     "output_type": "stream",
     "text": [
      "Training Complete!\n",
      "Benchmarking on MLP100\n"
     ]
    },
    {
     "data": {
      "application/vnd.jupyter.widget-view+json": {
       "model_id": "35d67f1d16374fdda2166a33d0d02443",
       "version_major": 2,
       "version_minor": 0
      },
      "text/plain": [
       "  0%|          | 0/100 [00:00<?, ?it/s]"
      ]
     },
     "metadata": {},
     "output_type": "display_data"
    },
    {
     "data": {
      "application/vnd.jupyter.widget-view+json": {
       "model_id": "1a1b2d39e32a4b26911a737ea3943319",
       "version_major": 2,
       "version_minor": 0
      },
      "text/plain": [
       "  0%|          | 0/100 [00:00<?, ?it/s]"
      ]
     },
     "metadata": {},
     "output_type": "display_data"
    },
    {
     "data": {
      "application/vnd.jupyter.widget-view+json": {
       "model_id": "ab0b3beaddeb43a2a0258ea2c1bdb50b",
       "version_major": 2,
       "version_minor": 0
      },
      "text/plain": [
       "  0%|          | 0/100 [00:00<?, ?it/s]"
      ]
     },
     "metadata": {},
     "output_type": "display_data"
    },
    {
     "name": "stdout",
     "output_type": "stream",
     "text": [
      "Benchmark Complete!\n",
      "Training CTGAN: vanilla - ae_dim - (256, 128, 64, 32)\n"
     ]
    },
    {
     "data": {
      "application/vnd.jupyter.widget-view+json": {
       "model_id": "17a1ea8787c14dfcb5b8ed521d66d7e7",
       "version_major": 2,
       "version_minor": 0
      },
      "text/plain": [
       "AE Train:   0%|          | 0/100 [00:00<?, ?it/s]"
      ]
     },
     "metadata": {},
     "output_type": "display_data"
    },
    {
     "data": {
      "application/vnd.jupyter.widget-view+json": {
       "model_id": "c5472f22cc1f45f1bd574a9c2d6eddda",
       "version_major": 2,
       "version_minor": 0
      },
      "text/plain": [
       "GAN Train:   0%|          | 0/100 [00:00<?, ?it/s]"
      ]
     },
     "metadata": {},
     "output_type": "display_data"
    },
    {
     "name": "stdout",
     "output_type": "stream",
     "text": [
      "Training Complete!\n",
      "Benchmarking on MLP100\n"
     ]
    },
    {
     "data": {
      "application/vnd.jupyter.widget-view+json": {
       "model_id": "69bac197ca024f9cb1122c2b6da3d38f",
       "version_major": 2,
       "version_minor": 0
      },
      "text/plain": [
       "  0%|          | 0/100 [00:00<?, ?it/s]"
      ]
     },
     "metadata": {},
     "output_type": "display_data"
    },
    {
     "data": {
      "application/vnd.jupyter.widget-view+json": {
       "model_id": "98ea4fe33ef841b1ad39fc6e54eafb49",
       "version_major": 2,
       "version_minor": 0
      },
      "text/plain": [
       "  0%|          | 0/100 [00:00<?, ?it/s]"
      ]
     },
     "metadata": {},
     "output_type": "display_data"
    },
    {
     "data": {
      "application/vnd.jupyter.widget-view+json": {
       "model_id": "29daf1ad1cc6418ab6cbe89aec538454",
       "version_major": 2,
       "version_minor": 0
      },
      "text/plain": [
       "  0%|          | 0/100 [00:00<?, ?it/s]"
      ]
     },
     "metadata": {},
     "output_type": "display_data"
    },
    {
     "name": "stdout",
     "output_type": "stream",
     "text": [
      "Benchmark Complete!\n",
      "Training CTGAN: denoising - ae_dim - (256, 128, 64)\n"
     ]
    },
    {
     "data": {
      "application/vnd.jupyter.widget-view+json": {
       "model_id": "03f053ae04ca4afca47117ba06345d59",
       "version_major": 2,
       "version_minor": 0
      },
      "text/plain": [
       "AE Train:   0%|          | 0/100 [00:00<?, ?it/s]"
      ]
     },
     "metadata": {},
     "output_type": "display_data"
    },
    {
     "data": {
      "application/vnd.jupyter.widget-view+json": {
       "model_id": "8b0b6f0d220e46e497c3cef9a204c791",
       "version_major": 2,
       "version_minor": 0
      },
      "text/plain": [
       "GAN Train:   0%|          | 0/100 [00:00<?, ?it/s]"
      ]
     },
     "metadata": {},
     "output_type": "display_data"
    },
    {
     "name": "stdout",
     "output_type": "stream",
     "text": [
      "Training Complete!\n",
      "Benchmarking on MLP100\n"
     ]
    },
    {
     "data": {
      "application/vnd.jupyter.widget-view+json": {
       "model_id": "5e4444f38f7640668c18e3fb36991a06",
       "version_major": 2,
       "version_minor": 0
      },
      "text/plain": [
       "  0%|          | 0/100 [00:00<?, ?it/s]"
      ]
     },
     "metadata": {},
     "output_type": "display_data"
    },
    {
     "data": {
      "application/vnd.jupyter.widget-view+json": {
       "model_id": "47b19078a40a4be4afb0130811b58009",
       "version_major": 2,
       "version_minor": 0
      },
      "text/plain": [
       "  0%|          | 0/100 [00:00<?, ?it/s]"
      ]
     },
     "metadata": {},
     "output_type": "display_data"
    },
    {
     "data": {
      "application/vnd.jupyter.widget-view+json": {
       "model_id": "9505a3051b2047029405007f9f7ce2d8",
       "version_major": 2,
       "version_minor": 0
      },
      "text/plain": [
       "  0%|          | 0/100 [00:00<?, ?it/s]"
      ]
     },
     "metadata": {},
     "output_type": "display_data"
    },
    {
     "name": "stdout",
     "output_type": "stream",
     "text": [
      "Benchmark Complete!\n",
      "Training CTGAN: denoising - ae_dim - (256, 128, 64, 32)\n"
     ]
    },
    {
     "data": {
      "application/vnd.jupyter.widget-view+json": {
       "model_id": "8f2871d626d34badaa0f4a30c83e14de",
       "version_major": 2,
       "version_minor": 0
      },
      "text/plain": [
       "AE Train:   0%|          | 0/100 [00:00<?, ?it/s]"
      ]
     },
     "metadata": {},
     "output_type": "display_data"
    },
    {
     "data": {
      "application/vnd.jupyter.widget-view+json": {
       "model_id": "0f2ccb87ee254ecda1a1d808a9f88fe8",
       "version_major": 2,
       "version_minor": 0
      },
      "text/plain": [
       "GAN Train:   0%|          | 0/100 [00:00<?, ?it/s]"
      ]
     },
     "metadata": {},
     "output_type": "display_data"
    },
    {
     "name": "stdout",
     "output_type": "stream",
     "text": [
      "Training Complete!\n",
      "Benchmarking on MLP100\n"
     ]
    },
    {
     "data": {
      "application/vnd.jupyter.widget-view+json": {
       "model_id": "6755ae5726f34bea8747cd5fd11607d1",
       "version_major": 2,
       "version_minor": 0
      },
      "text/plain": [
       "  0%|          | 0/100 [00:00<?, ?it/s]"
      ]
     },
     "metadata": {},
     "output_type": "display_data"
    },
    {
     "data": {
      "application/vnd.jupyter.widget-view+json": {
       "model_id": "7111f3ad650d4c998d9812b8cdcfb08f",
       "version_major": 2,
       "version_minor": 0
      },
      "text/plain": [
       "  0%|          | 0/100 [00:00<?, ?it/s]"
      ]
     },
     "metadata": {},
     "output_type": "display_data"
    },
    {
     "data": {
      "application/vnd.jupyter.widget-view+json": {
       "model_id": "6c4593edae734b15a36f43db3bee5082",
       "version_major": 2,
       "version_minor": 0
      },
      "text/plain": [
       "  0%|          | 0/100 [00:00<?, ?it/s]"
      ]
     },
     "metadata": {},
     "output_type": "display_data"
    },
    {
     "name": "stdout",
     "output_type": "stream",
     "text": [
      "Benchmark Complete!\n",
      "Training CTGAN: vae - ae_dim - (256, 128, 64)\n"
     ]
    },
    {
     "data": {
      "application/vnd.jupyter.widget-view+json": {
       "model_id": "492a94d76ad4442b80af7bac6754ffc5",
       "version_major": 2,
       "version_minor": 0
      },
      "text/plain": [
       "AE Train:   0%|          | 0/100 [00:00<?, ?it/s]"
      ]
     },
     "metadata": {},
     "output_type": "display_data"
    },
    {
     "data": {
      "application/vnd.jupyter.widget-view+json": {
       "model_id": "3b314bc64704465a975ba1859b8445a0",
       "version_major": 2,
       "version_minor": 0
      },
      "text/plain": [
       "GAN Train:   0%|          | 0/100 [00:00<?, ?it/s]"
      ]
     },
     "metadata": {},
     "output_type": "display_data"
    },
    {
     "name": "stdout",
     "output_type": "stream",
     "text": [
      "Training Complete!\n",
      "Benchmarking on MLP100\n"
     ]
    },
    {
     "data": {
      "application/vnd.jupyter.widget-view+json": {
       "model_id": "e8b67af2ebfb47cba32a7a161acdb08a",
       "version_major": 2,
       "version_minor": 0
      },
      "text/plain": [
       "  0%|          | 0/100 [00:00<?, ?it/s]"
      ]
     },
     "metadata": {},
     "output_type": "display_data"
    },
    {
     "data": {
      "application/vnd.jupyter.widget-view+json": {
       "model_id": "76c4764426764d919e2acb8bc14b6dbf",
       "version_major": 2,
       "version_minor": 0
      },
      "text/plain": [
       "  0%|          | 0/100 [00:00<?, ?it/s]"
      ]
     },
     "metadata": {},
     "output_type": "display_data"
    },
    {
     "data": {
      "application/vnd.jupyter.widget-view+json": {
       "model_id": "858023669f414e88905c2dbbbabae199",
       "version_major": 2,
       "version_minor": 0
      },
      "text/plain": [
       "  0%|          | 0/100 [00:00<?, ?it/s]"
      ]
     },
     "metadata": {},
     "output_type": "display_data"
    },
    {
     "name": "stdout",
     "output_type": "stream",
     "text": [
      "Benchmark Complete!\n",
      "Training CTGAN: vae - ae_dim - (256, 128, 64, 32)\n"
     ]
    },
    {
     "data": {
      "application/vnd.jupyter.widget-view+json": {
       "model_id": "4a72caa80e76454f8c0c16b3be243cb9",
       "version_major": 2,
       "version_minor": 0
      },
      "text/plain": [
       "AE Train:   0%|          | 0/100 [00:00<?, ?it/s]"
      ]
     },
     "metadata": {},
     "output_type": "display_data"
    },
    {
     "data": {
      "application/vnd.jupyter.widget-view+json": {
       "model_id": "0d5d0d3bdad04aaeae76d081b7720318",
       "version_major": 2,
       "version_minor": 0
      },
      "text/plain": [
       "GAN Train:   0%|          | 0/100 [00:00<?, ?it/s]"
      ]
     },
     "metadata": {},
     "output_type": "display_data"
    },
    {
     "name": "stdout",
     "output_type": "stream",
     "text": [
      "Training Complete!\n",
      "Benchmarking on MLP100\n"
     ]
    },
    {
     "data": {
      "application/vnd.jupyter.widget-view+json": {
       "model_id": "50e20fc6d9d44a46b0926ac4790f63ed",
       "version_major": 2,
       "version_minor": 0
      },
      "text/plain": [
       "  0%|          | 0/100 [00:00<?, ?it/s]"
      ]
     },
     "metadata": {},
     "output_type": "display_data"
    },
    {
     "data": {
      "application/vnd.jupyter.widget-view+json": {
       "model_id": "f21f924b60734911ac1138b6b3cd6d71",
       "version_major": 2,
       "version_minor": 0
      },
      "text/plain": [
       "  0%|          | 0/100 [00:00<?, ?it/s]"
      ]
     },
     "metadata": {},
     "output_type": "display_data"
    },
    {
     "data": {
      "application/vnd.jupyter.widget-view+json": {
       "model_id": "467a64b956384fd596c38346dd8aa120",
       "version_major": 2,
       "version_minor": 0
      },
      "text/plain": [
       "  0%|          | 0/100 [00:00<?, ?it/s]"
      ]
     },
     "metadata": {},
     "output_type": "display_data"
    },
    {
     "name": "stdout",
     "output_type": "stream",
     "text": [
      "Benchmark Complete!\n",
      "Training CTGAN: ee - ae_dim - (256, 128, 64)\n"
     ]
    },
    {
     "data": {
      "application/vnd.jupyter.widget-view+json": {
       "model_id": "311f391101b14506ba1cf7c20e540d21",
       "version_major": 2,
       "version_minor": 0
      },
      "text/plain": [
       "AE Train:   0%|          | 0/100 [00:00<?, ?it/s]"
      ]
     },
     "metadata": {},
     "output_type": "display_data"
    },
    {
     "data": {
      "application/vnd.jupyter.widget-view+json": {
       "model_id": "b3fb62bf92fe461cb451bc8f21ce4eff",
       "version_major": 2,
       "version_minor": 0
      },
      "text/plain": [
       "GAN Train:   0%|          | 0/100 [00:00<?, ?it/s]"
      ]
     },
     "metadata": {},
     "output_type": "display_data"
    },
    {
     "name": "stdout",
     "output_type": "stream",
     "text": [
      "Training Complete!\n",
      "Benchmarking on MLP100\n"
     ]
    },
    {
     "data": {
      "application/vnd.jupyter.widget-view+json": {
       "model_id": "3632ae23983b4d6a8cee4b1918ca1e31",
       "version_major": 2,
       "version_minor": 0
      },
      "text/plain": [
       "  0%|          | 0/100 [00:00<?, ?it/s]"
      ]
     },
     "metadata": {},
     "output_type": "display_data"
    },
    {
     "data": {
      "application/vnd.jupyter.widget-view+json": {
       "model_id": "4221199de95b4701b7d79a913d6d7c63",
       "version_major": 2,
       "version_minor": 0
      },
      "text/plain": [
       "  0%|          | 0/100 [00:00<?, ?it/s]"
      ]
     },
     "metadata": {},
     "output_type": "display_data"
    },
    {
     "data": {
      "application/vnd.jupyter.widget-view+json": {
       "model_id": "4b067ad822a44baeba755480e8763ab7",
       "version_major": 2,
       "version_minor": 0
      },
      "text/plain": [
       "  0%|          | 0/100 [00:00<?, ?it/s]"
      ]
     },
     "metadata": {},
     "output_type": "display_data"
    },
    {
     "name": "stdout",
     "output_type": "stream",
     "text": [
      "Benchmark Complete!\n",
      "Training CTGAN: ee - ae_dim - (256, 128, 64, 32)\n"
     ]
    },
    {
     "data": {
      "application/vnd.jupyter.widget-view+json": {
       "model_id": "1aae0fc9c6c94307b3b053654cef1f1f",
       "version_major": 2,
       "version_minor": 0
      },
      "text/plain": [
       "AE Train:   0%|          | 0/100 [00:00<?, ?it/s]"
      ]
     },
     "metadata": {},
     "output_type": "display_data"
    },
    {
     "data": {
      "application/vnd.jupyter.widget-view+json": {
       "model_id": "abdcbb9c897c471f9f35ff8fbafbb3d8",
       "version_major": 2,
       "version_minor": 0
      },
      "text/plain": [
       "GAN Train:   0%|          | 0/100 [00:00<?, ?it/s]"
      ]
     },
     "metadata": {},
     "output_type": "display_data"
    },
    {
     "name": "stdout",
     "output_type": "stream",
     "text": [
      "Training Complete!\n",
      "Benchmarking on MLP100\n"
     ]
    },
    {
     "data": {
      "application/vnd.jupyter.widget-view+json": {
       "model_id": "fecc2051206f4544ad7eedd64e8158c4",
       "version_major": 2,
       "version_minor": 0
      },
      "text/plain": [
       "  0%|          | 0/100 [00:00<?, ?it/s]"
      ]
     },
     "metadata": {},
     "output_type": "display_data"
    },
    {
     "data": {
      "application/vnd.jupyter.widget-view+json": {
       "model_id": "d40725f2ef8945aaad4cc5db1643911a",
       "version_major": 2,
       "version_minor": 0
      },
      "text/plain": [
       "  0%|          | 0/100 [00:00<?, ?it/s]"
      ]
     },
     "metadata": {},
     "output_type": "display_data"
    },
    {
     "data": {
      "application/vnd.jupyter.widget-view+json": {
       "model_id": "e1f5d9e4d7034f758cb8959f095fe49c",
       "version_major": 2,
       "version_minor": 0
      },
      "text/plain": [
       "  0%|          | 0/100 [00:00<?, ?it/s]"
      ]
     },
     "metadata": {},
     "output_type": "display_data"
    },
    {
     "name": "stdout",
     "output_type": "stream",
     "text": [
      "Benchmark Complete!\n"
     ]
    }
   ],
   "source": [
    "hp = 'ae_dim'\n",
    "\n",
    "for ae_type in AE_TYPES:\n",
    "    hp_scores = dict()\n",
    "    for v in HP[hp]:\n",
    "        k = '_'.join(str(i) for i in v)\n",
    "        if not os.path.exists(f\"../../models/tmp/loan/ae_gan_{ae_type}_{hp}_{k}.pth\"):\n",
    "            # Train the AE_GAN\n",
    "            print(f\"Training CTGAN: {ae_type} - {hp} - {v}\")\n",
    "            ae_gan = CTGANV2(ae_type=ae_type, ae_dim=v)\n",
    "            ae_gan.fit(td['train'],dt=dt,is_transformed=True, target_index=target_idx)\n",
    "            print(\"Training Complete!\")\n",
    "            # save model\n",
    "            ae_gan.save(f\"../../models/tmp/loan/ae_gan_{ae_type}_{hp}_{k}.pth\")\n",
    "        else:\n",
    "            print(f\"Loading CTGAN: {ae_type} - {hp} - {v}\")\n",
    "            ae_gan = CTGANV2().load(f\"../../models/tmp/loan/ae_gan_{ae_type}_{hp}_{k}.pth\")\n",
    "\n",
    "        best_score = torch.tensor([0.0])\n",
    "        try:\n",
    "            # Sample fake data\n",
    "            fake_data, real_data = sample_fake_loan(dt,td,ae_gan)\n",
    "            \n",
    "            print(\"Benchmarking on MLP100\")\n",
    "            # Train the MLP on fake validation data\n",
    "            for _ in range(3):\n",
    "                test_score = train_model(\n",
    "                                fake_data[0],\n",
    "                                fake_data[1],\n",
    "                                fake_data[2],\n",
    "                                fake_data[3],\n",
    "                                real_data[0],\n",
    "                                real_data[1],\n",
    "                                batch_size=256,\n",
    "                                num_epochs=100,\n",
    "                                model_type=\"classification\",\n",
    "                                verbose=False,\n",
    "                                scorer_type=\"f1_micro\",\n",
    "                            )\n",
    "                if test_score > best_score:\n",
    "                    best_score = test_score\n",
    "            print(\"Benchmark Complete!\")\n",
    "        except:\n",
    "            pass\n",
    "        hp_scores[k] = best_score.item()\n",
    "    \n",
    "    hp_vals[ae_type][hp] = hp_scores\n",
    "    with open(\"loan_opt_hp.json\", 'w') as f:\n",
    "        f.write(json.dumps(hp_vals))"
   ]
  },
  {
   "attachments": {},
   "cell_type": "markdown",
   "metadata": {},
   "source": [
    "#### (2) Find the optimal G latent dimension"
   ]
  },
  {
   "cell_type": "code",
   "execution_count": 3,
   "metadata": {},
   "outputs": [
    {
     "name": "stdout",
     "output_type": "stream",
     "text": [
      "Training CTGAN: vanilla - ae_dim - 256_128_64 - embedding_dim - 64\n"
     ]
    },
    {
     "data": {
      "application/vnd.jupyter.widget-view+json": {
       "model_id": "ae275e6c86ab4d698080ecbce9a2f317",
       "version_major": 2,
       "version_minor": 0
      },
      "text/plain": [
       "AE Train:   0%|          | 0/100 [00:00<?, ?it/s]"
      ]
     },
     "metadata": {},
     "output_type": "display_data"
    },
    {
     "data": {
      "application/vnd.jupyter.widget-view+json": {
       "model_id": "b505a56ee5334101bc898aad2a67cbcc",
       "version_major": 2,
       "version_minor": 0
      },
      "text/plain": [
       "GAN Train:   0%|          | 0/100 [00:00<?, ?it/s]"
      ]
     },
     "metadata": {},
     "output_type": "display_data"
    },
    {
     "name": "stdout",
     "output_type": "stream",
     "text": [
      "Training Complete!\n",
      "Benchmarking on MLP100\n"
     ]
    },
    {
     "data": {
      "application/vnd.jupyter.widget-view+json": {
       "model_id": "d200aaf1a3924d41a50d1985362eee5e",
       "version_major": 2,
       "version_minor": 0
      },
      "text/plain": [
       "  0%|          | 0/100 [00:00<?, ?it/s]"
      ]
     },
     "metadata": {},
     "output_type": "display_data"
    },
    {
     "data": {
      "application/vnd.jupyter.widget-view+json": {
       "model_id": "2933424ea61f4242a34dd8b853890e74",
       "version_major": 2,
       "version_minor": 0
      },
      "text/plain": [
       "  0%|          | 0/100 [00:00<?, ?it/s]"
      ]
     },
     "metadata": {},
     "output_type": "display_data"
    },
    {
     "data": {
      "application/vnd.jupyter.widget-view+json": {
       "model_id": "e8b0be829f5247ecba788909bd584b3e",
       "version_major": 2,
       "version_minor": 0
      },
      "text/plain": [
       "  0%|          | 0/100 [00:00<?, ?it/s]"
      ]
     },
     "metadata": {},
     "output_type": "display_data"
    },
    {
     "name": "stdout",
     "output_type": "stream",
     "text": [
      "Benchmark Complete!\n",
      "Training CTGAN: vanilla - ae_dim - 256_128_64 - embedding_dim - 128\n"
     ]
    },
    {
     "data": {
      "application/vnd.jupyter.widget-view+json": {
       "model_id": "c89fd876c2b04af19e3ae237d9ecaf44",
       "version_major": 2,
       "version_minor": 0
      },
      "text/plain": [
       "AE Train:   0%|          | 0/100 [00:00<?, ?it/s]"
      ]
     },
     "metadata": {},
     "output_type": "display_data"
    },
    {
     "data": {
      "application/vnd.jupyter.widget-view+json": {
       "model_id": "c6e4bd48dced4b4e837d0052df33eb42",
       "version_major": 2,
       "version_minor": 0
      },
      "text/plain": [
       "GAN Train:   0%|          | 0/100 [00:00<?, ?it/s]"
      ]
     },
     "metadata": {},
     "output_type": "display_data"
    },
    {
     "name": "stdout",
     "output_type": "stream",
     "text": [
      "Training Complete!\n",
      "Benchmarking on MLP100\n"
     ]
    },
    {
     "data": {
      "application/vnd.jupyter.widget-view+json": {
       "model_id": "3432bbe9a64142f0926dfd7fa9a63f99",
       "version_major": 2,
       "version_minor": 0
      },
      "text/plain": [
       "  0%|          | 0/100 [00:00<?, ?it/s]"
      ]
     },
     "metadata": {},
     "output_type": "display_data"
    },
    {
     "data": {
      "application/vnd.jupyter.widget-view+json": {
       "model_id": "b07a952b02394ff89cc897710137b4c5",
       "version_major": 2,
       "version_minor": 0
      },
      "text/plain": [
       "  0%|          | 0/100 [00:00<?, ?it/s]"
      ]
     },
     "metadata": {},
     "output_type": "display_data"
    },
    {
     "data": {
      "application/vnd.jupyter.widget-view+json": {
       "model_id": "ef360ccea9264c25b1dbdefb184de65d",
       "version_major": 2,
       "version_minor": 0
      },
      "text/plain": [
       "  0%|          | 0/100 [00:00<?, ?it/s]"
      ]
     },
     "metadata": {},
     "output_type": "display_data"
    },
    {
     "name": "stdout",
     "output_type": "stream",
     "text": [
      "Benchmark Complete!\n",
      "Training CTGAN: vanilla - ae_dim - 256_128_64 - embedding_dim - 256\n"
     ]
    },
    {
     "data": {
      "application/vnd.jupyter.widget-view+json": {
       "model_id": "77c4987b94ac42748249dd43aca28d4f",
       "version_major": 2,
       "version_minor": 0
      },
      "text/plain": [
       "AE Train:   0%|          | 0/100 [00:00<?, ?it/s]"
      ]
     },
     "metadata": {},
     "output_type": "display_data"
    },
    {
     "data": {
      "application/vnd.jupyter.widget-view+json": {
       "model_id": "bb1d2e651fe44ca9b9947a5bd9439566",
       "version_major": 2,
       "version_minor": 0
      },
      "text/plain": [
       "GAN Train:   0%|          | 0/100 [00:00<?, ?it/s]"
      ]
     },
     "metadata": {},
     "output_type": "display_data"
    },
    {
     "name": "stdout",
     "output_type": "stream",
     "text": [
      "Training Complete!\n",
      "Benchmarking on MLP100\n"
     ]
    },
    {
     "data": {
      "application/vnd.jupyter.widget-view+json": {
       "model_id": "be800803e43840f5873bc1d18d3150fa",
       "version_major": 2,
       "version_minor": 0
      },
      "text/plain": [
       "  0%|          | 0/100 [00:00<?, ?it/s]"
      ]
     },
     "metadata": {},
     "output_type": "display_data"
    },
    {
     "data": {
      "application/vnd.jupyter.widget-view+json": {
       "model_id": "598b1d70da3349f899989642ca27a84d",
       "version_major": 2,
       "version_minor": 0
      },
      "text/plain": [
       "  0%|          | 0/100 [00:00<?, ?it/s]"
      ]
     },
     "metadata": {},
     "output_type": "display_data"
    },
    {
     "data": {
      "application/vnd.jupyter.widget-view+json": {
       "model_id": "469ba572c60c4d1e8000f9386147d7cf",
       "version_major": 2,
       "version_minor": 0
      },
      "text/plain": [
       "  0%|          | 0/100 [00:00<?, ?it/s]"
      ]
     },
     "metadata": {},
     "output_type": "display_data"
    },
    {
     "name": "stdout",
     "output_type": "stream",
     "text": [
      "Benchmark Complete!\n",
      "Training CTGAN: denoising - ae_dim - 256_128_64 - embedding_dim - 64\n"
     ]
    },
    {
     "data": {
      "application/vnd.jupyter.widget-view+json": {
       "model_id": "14bdad88850f4c7eb02165d9ca6672c8",
       "version_major": 2,
       "version_minor": 0
      },
      "text/plain": [
       "AE Train:   0%|          | 0/100 [00:00<?, ?it/s]"
      ]
     },
     "metadata": {},
     "output_type": "display_data"
    },
    {
     "data": {
      "application/vnd.jupyter.widget-view+json": {
       "model_id": "91efd5e3a54f4ac497b96e479e34ecee",
       "version_major": 2,
       "version_minor": 0
      },
      "text/plain": [
       "GAN Train:   0%|          | 0/100 [00:00<?, ?it/s]"
      ]
     },
     "metadata": {},
     "output_type": "display_data"
    },
    {
     "name": "stdout",
     "output_type": "stream",
     "text": [
      "Training Complete!\n",
      "Benchmarking on MLP100\n"
     ]
    },
    {
     "data": {
      "application/vnd.jupyter.widget-view+json": {
       "model_id": "fc0dfdbe71e44dff945eca3b260867cf",
       "version_major": 2,
       "version_minor": 0
      },
      "text/plain": [
       "  0%|          | 0/100 [00:00<?, ?it/s]"
      ]
     },
     "metadata": {},
     "output_type": "display_data"
    },
    {
     "data": {
      "application/vnd.jupyter.widget-view+json": {
       "model_id": "8f5658ef1a3f4aba86038ad49f9bf106",
       "version_major": 2,
       "version_minor": 0
      },
      "text/plain": [
       "  0%|          | 0/100 [00:00<?, ?it/s]"
      ]
     },
     "metadata": {},
     "output_type": "display_data"
    },
    {
     "data": {
      "application/vnd.jupyter.widget-view+json": {
       "model_id": "bd33cb2c9b15428e9ca2d82cf4c42771",
       "version_major": 2,
       "version_minor": 0
      },
      "text/plain": [
       "  0%|          | 0/100 [00:00<?, ?it/s]"
      ]
     },
     "metadata": {},
     "output_type": "display_data"
    },
    {
     "name": "stdout",
     "output_type": "stream",
     "text": [
      "Benchmark Complete!\n",
      "Training CTGAN: denoising - ae_dim - 256_128_64 - embedding_dim - 128\n"
     ]
    },
    {
     "data": {
      "application/vnd.jupyter.widget-view+json": {
       "model_id": "0df8da40172e4eba8ba95d81efd6e94a",
       "version_major": 2,
       "version_minor": 0
      },
      "text/plain": [
       "AE Train:   0%|          | 0/100 [00:00<?, ?it/s]"
      ]
     },
     "metadata": {},
     "output_type": "display_data"
    },
    {
     "data": {
      "application/vnd.jupyter.widget-view+json": {
       "model_id": "25b0fc475ee44d6e9eed0d7b2268621b",
       "version_major": 2,
       "version_minor": 0
      },
      "text/plain": [
       "GAN Train:   0%|          | 0/100 [00:00<?, ?it/s]"
      ]
     },
     "metadata": {},
     "output_type": "display_data"
    },
    {
     "name": "stdout",
     "output_type": "stream",
     "text": [
      "Training Complete!\n",
      "Benchmarking on MLP100\n"
     ]
    },
    {
     "data": {
      "application/vnd.jupyter.widget-view+json": {
       "model_id": "9246c3f5ac5c4040ac93593bf541db8b",
       "version_major": 2,
       "version_minor": 0
      },
      "text/plain": [
       "  0%|          | 0/100 [00:00<?, ?it/s]"
      ]
     },
     "metadata": {},
     "output_type": "display_data"
    },
    {
     "data": {
      "application/vnd.jupyter.widget-view+json": {
       "model_id": "c626a241993f4e01a49fcf48709056f1",
       "version_major": 2,
       "version_minor": 0
      },
      "text/plain": [
       "  0%|          | 0/100 [00:00<?, ?it/s]"
      ]
     },
     "metadata": {},
     "output_type": "display_data"
    },
    {
     "data": {
      "application/vnd.jupyter.widget-view+json": {
       "model_id": "7aa68cbfbfbe4b6faa8e3392e35b1800",
       "version_major": 2,
       "version_minor": 0
      },
      "text/plain": [
       "  0%|          | 0/100 [00:00<?, ?it/s]"
      ]
     },
     "metadata": {},
     "output_type": "display_data"
    },
    {
     "name": "stdout",
     "output_type": "stream",
     "text": [
      "Benchmark Complete!\n",
      "Training CTGAN: denoising - ae_dim - 256_128_64 - embedding_dim - 256\n"
     ]
    },
    {
     "data": {
      "application/vnd.jupyter.widget-view+json": {
       "model_id": "722837a967404a8b8bea29cbc7641d54",
       "version_major": 2,
       "version_minor": 0
      },
      "text/plain": [
       "AE Train:   0%|          | 0/100 [00:00<?, ?it/s]"
      ]
     },
     "metadata": {},
     "output_type": "display_data"
    },
    {
     "data": {
      "application/vnd.jupyter.widget-view+json": {
       "model_id": "f3e51911335c4445bd25c8b88d3061a3",
       "version_major": 2,
       "version_minor": 0
      },
      "text/plain": [
       "GAN Train:   0%|          | 0/100 [00:00<?, ?it/s]"
      ]
     },
     "metadata": {},
     "output_type": "display_data"
    },
    {
     "name": "stdout",
     "output_type": "stream",
     "text": [
      "Training Complete!\n",
      "Benchmarking on MLP100\n"
     ]
    },
    {
     "data": {
      "application/vnd.jupyter.widget-view+json": {
       "model_id": "b13a78a1895249dabae298f8765561c3",
       "version_major": 2,
       "version_minor": 0
      },
      "text/plain": [
       "  0%|          | 0/100 [00:00<?, ?it/s]"
      ]
     },
     "metadata": {},
     "output_type": "display_data"
    },
    {
     "data": {
      "application/vnd.jupyter.widget-view+json": {
       "model_id": "0b2a022295fc485c912f3121d8d5ba52",
       "version_major": 2,
       "version_minor": 0
      },
      "text/plain": [
       "  0%|          | 0/100 [00:00<?, ?it/s]"
      ]
     },
     "metadata": {},
     "output_type": "display_data"
    },
    {
     "data": {
      "application/vnd.jupyter.widget-view+json": {
       "model_id": "ead72045d7e84744bca94f81bd2045ac",
       "version_major": 2,
       "version_minor": 0
      },
      "text/plain": [
       "  0%|          | 0/100 [00:00<?, ?it/s]"
      ]
     },
     "metadata": {},
     "output_type": "display_data"
    },
    {
     "name": "stdout",
     "output_type": "stream",
     "text": [
      "Benchmark Complete!\n",
      "Training CTGAN: vae - ae_dim - 256_128_64 - embedding_dim - 64\n"
     ]
    },
    {
     "data": {
      "application/vnd.jupyter.widget-view+json": {
       "model_id": "6bf28813887a4ed7978606014ba0c149",
       "version_major": 2,
       "version_minor": 0
      },
      "text/plain": [
       "AE Train:   0%|          | 0/100 [00:00<?, ?it/s]"
      ]
     },
     "metadata": {},
     "output_type": "display_data"
    },
    {
     "data": {
      "application/vnd.jupyter.widget-view+json": {
       "model_id": "b8ddf07ad1694f99897add6065e175bd",
       "version_major": 2,
       "version_minor": 0
      },
      "text/plain": [
       "GAN Train:   0%|          | 0/100 [00:00<?, ?it/s]"
      ]
     },
     "metadata": {},
     "output_type": "display_data"
    },
    {
     "name": "stdout",
     "output_type": "stream",
     "text": [
      "Training Complete!\n",
      "Benchmarking on MLP100\n"
     ]
    },
    {
     "data": {
      "application/vnd.jupyter.widget-view+json": {
       "model_id": "810aac5285e84c3896acf5765cf5477c",
       "version_major": 2,
       "version_minor": 0
      },
      "text/plain": [
       "  0%|          | 0/100 [00:00<?, ?it/s]"
      ]
     },
     "metadata": {},
     "output_type": "display_data"
    },
    {
     "data": {
      "application/vnd.jupyter.widget-view+json": {
       "model_id": "18e81a5450b447c6bb8c7be1f48a86c1",
       "version_major": 2,
       "version_minor": 0
      },
      "text/plain": [
       "  0%|          | 0/100 [00:00<?, ?it/s]"
      ]
     },
     "metadata": {},
     "output_type": "display_data"
    },
    {
     "data": {
      "application/vnd.jupyter.widget-view+json": {
       "model_id": "3f508f745705408da5200b15c4e25337",
       "version_major": 2,
       "version_minor": 0
      },
      "text/plain": [
       "  0%|          | 0/100 [00:00<?, ?it/s]"
      ]
     },
     "metadata": {},
     "output_type": "display_data"
    },
    {
     "name": "stdout",
     "output_type": "stream",
     "text": [
      "Benchmark Complete!\n",
      "Training CTGAN: vae - ae_dim - 256_128_64 - embedding_dim - 128\n"
     ]
    },
    {
     "data": {
      "application/vnd.jupyter.widget-view+json": {
       "model_id": "90e0bc16fd524d088b0229ed11b715c3",
       "version_major": 2,
       "version_minor": 0
      },
      "text/plain": [
       "AE Train:   0%|          | 0/100 [00:00<?, ?it/s]"
      ]
     },
     "metadata": {},
     "output_type": "display_data"
    },
    {
     "data": {
      "application/vnd.jupyter.widget-view+json": {
       "model_id": "9899918f584a47fbb116981a7ab8b833",
       "version_major": 2,
       "version_minor": 0
      },
      "text/plain": [
       "GAN Train:   0%|          | 0/100 [00:00<?, ?it/s]"
      ]
     },
     "metadata": {},
     "output_type": "display_data"
    },
    {
     "name": "stdout",
     "output_type": "stream",
     "text": [
      "Training Complete!\n",
      "Benchmarking on MLP100\n"
     ]
    },
    {
     "data": {
      "application/vnd.jupyter.widget-view+json": {
       "model_id": "fc9f1295b6c948edb792c8b3d5263797",
       "version_major": 2,
       "version_minor": 0
      },
      "text/plain": [
       "  0%|          | 0/100 [00:00<?, ?it/s]"
      ]
     },
     "metadata": {},
     "output_type": "display_data"
    },
    {
     "data": {
      "application/vnd.jupyter.widget-view+json": {
       "model_id": "808e6d4b163a43b991960e4698389478",
       "version_major": 2,
       "version_minor": 0
      },
      "text/plain": [
       "  0%|          | 0/100 [00:00<?, ?it/s]"
      ]
     },
     "metadata": {},
     "output_type": "display_data"
    },
    {
     "data": {
      "application/vnd.jupyter.widget-view+json": {
       "model_id": "c479c1b12a324f6e9fb79c63a3ee18df",
       "version_major": 2,
       "version_minor": 0
      },
      "text/plain": [
       "  0%|          | 0/100 [00:00<?, ?it/s]"
      ]
     },
     "metadata": {},
     "output_type": "display_data"
    },
    {
     "name": "stdout",
     "output_type": "stream",
     "text": [
      "Benchmark Complete!\n",
      "Training CTGAN: vae - ae_dim - 256_128_64 - embedding_dim - 256\n"
     ]
    },
    {
     "data": {
      "application/vnd.jupyter.widget-view+json": {
       "model_id": "415d0b941ae04ddd94df0acc1f20d177",
       "version_major": 2,
       "version_minor": 0
      },
      "text/plain": [
       "AE Train:   0%|          | 0/100 [00:00<?, ?it/s]"
      ]
     },
     "metadata": {},
     "output_type": "display_data"
    },
    {
     "data": {
      "application/vnd.jupyter.widget-view+json": {
       "model_id": "5038708e605e4b87976d4bd1bc2a2c89",
       "version_major": 2,
       "version_minor": 0
      },
      "text/plain": [
       "GAN Train:   0%|          | 0/100 [00:00<?, ?it/s]"
      ]
     },
     "metadata": {},
     "output_type": "display_data"
    },
    {
     "name": "stdout",
     "output_type": "stream",
     "text": [
      "Training Complete!\n",
      "Benchmarking on MLP100\n"
     ]
    },
    {
     "data": {
      "application/vnd.jupyter.widget-view+json": {
       "model_id": "3b49865eb6464b56a6d71da4e50bbba1",
       "version_major": 2,
       "version_minor": 0
      },
      "text/plain": [
       "  0%|          | 0/100 [00:00<?, ?it/s]"
      ]
     },
     "metadata": {},
     "output_type": "display_data"
    },
    {
     "data": {
      "application/vnd.jupyter.widget-view+json": {
       "model_id": "d22c3a8c1d2d4a35acd14bd70707893b",
       "version_major": 2,
       "version_minor": 0
      },
      "text/plain": [
       "  0%|          | 0/100 [00:00<?, ?it/s]"
      ]
     },
     "metadata": {},
     "output_type": "display_data"
    },
    {
     "data": {
      "application/vnd.jupyter.widget-view+json": {
       "model_id": "938d23dab1f849b3af53411a4d93d140",
       "version_major": 2,
       "version_minor": 0
      },
      "text/plain": [
       "  0%|          | 0/100 [00:00<?, ?it/s]"
      ]
     },
     "metadata": {},
     "output_type": "display_data"
    },
    {
     "name": "stdout",
     "output_type": "stream",
     "text": [
      "Benchmark Complete!\n",
      "Training CTGAN: ee - ae_dim - 256_128_64_32 - embedding_dim - 64\n"
     ]
    },
    {
     "data": {
      "application/vnd.jupyter.widget-view+json": {
       "model_id": "d80526d4575f4ea09aca6c88918bc833",
       "version_major": 2,
       "version_minor": 0
      },
      "text/plain": [
       "AE Train:   0%|          | 0/100 [00:00<?, ?it/s]"
      ]
     },
     "metadata": {},
     "output_type": "display_data"
    },
    {
     "data": {
      "application/vnd.jupyter.widget-view+json": {
       "model_id": "c80251a44ed74021a9725f051bb4e175",
       "version_major": 2,
       "version_minor": 0
      },
      "text/plain": [
       "GAN Train:   0%|          | 0/100 [00:00<?, ?it/s]"
      ]
     },
     "metadata": {},
     "output_type": "display_data"
    },
    {
     "name": "stdout",
     "output_type": "stream",
     "text": [
      "Training Complete!\n",
      "Benchmarking on MLP100\n"
     ]
    },
    {
     "data": {
      "application/vnd.jupyter.widget-view+json": {
       "model_id": "293b820beb214c4dad3c0b0d24fe429f",
       "version_major": 2,
       "version_minor": 0
      },
      "text/plain": [
       "  0%|          | 0/100 [00:00<?, ?it/s]"
      ]
     },
     "metadata": {},
     "output_type": "display_data"
    },
    {
     "data": {
      "application/vnd.jupyter.widget-view+json": {
       "model_id": "f0208ba29d634e85b327f8743c39999d",
       "version_major": 2,
       "version_minor": 0
      },
      "text/plain": [
       "  0%|          | 0/100 [00:00<?, ?it/s]"
      ]
     },
     "metadata": {},
     "output_type": "display_data"
    },
    {
     "data": {
      "application/vnd.jupyter.widget-view+json": {
       "model_id": "ea06ee80fd714548aa0462fe3f0293f5",
       "version_major": 2,
       "version_minor": 0
      },
      "text/plain": [
       "  0%|          | 0/100 [00:00<?, ?it/s]"
      ]
     },
     "metadata": {},
     "output_type": "display_data"
    },
    {
     "name": "stdout",
     "output_type": "stream",
     "text": [
      "Benchmark Complete!\n",
      "Training CTGAN: ee - ae_dim - 256_128_64_32 - embedding_dim - 128\n"
     ]
    },
    {
     "data": {
      "application/vnd.jupyter.widget-view+json": {
       "model_id": "f9d1c933be434512a95638914d5e9cbe",
       "version_major": 2,
       "version_minor": 0
      },
      "text/plain": [
       "AE Train:   0%|          | 0/100 [00:00<?, ?it/s]"
      ]
     },
     "metadata": {},
     "output_type": "display_data"
    },
    {
     "data": {
      "application/vnd.jupyter.widget-view+json": {
       "model_id": "077a007b666e47589f97bddcdbc6b2ca",
       "version_major": 2,
       "version_minor": 0
      },
      "text/plain": [
       "GAN Train:   0%|          | 0/100 [00:00<?, ?it/s]"
      ]
     },
     "metadata": {},
     "output_type": "display_data"
    },
    {
     "name": "stdout",
     "output_type": "stream",
     "text": [
      "Training Complete!\n",
      "Benchmarking on MLP100\n"
     ]
    },
    {
     "data": {
      "application/vnd.jupyter.widget-view+json": {
       "model_id": "3e18b49b020141a391aedaecfece31a9",
       "version_major": 2,
       "version_minor": 0
      },
      "text/plain": [
       "  0%|          | 0/100 [00:00<?, ?it/s]"
      ]
     },
     "metadata": {},
     "output_type": "display_data"
    },
    {
     "data": {
      "application/vnd.jupyter.widget-view+json": {
       "model_id": "bd324fceda204587895b2c3435a38c04",
       "version_major": 2,
       "version_minor": 0
      },
      "text/plain": [
       "  0%|          | 0/100 [00:00<?, ?it/s]"
      ]
     },
     "metadata": {},
     "output_type": "display_data"
    },
    {
     "data": {
      "application/vnd.jupyter.widget-view+json": {
       "model_id": "8e59fad76442476aaadf52eaa5ee8f66",
       "version_major": 2,
       "version_minor": 0
      },
      "text/plain": [
       "  0%|          | 0/100 [00:00<?, ?it/s]"
      ]
     },
     "metadata": {},
     "output_type": "display_data"
    },
    {
     "name": "stdout",
     "output_type": "stream",
     "text": [
      "Benchmark Complete!\n",
      "Training CTGAN: ee - ae_dim - 256_128_64_32 - embedding_dim - 256\n"
     ]
    },
    {
     "data": {
      "application/vnd.jupyter.widget-view+json": {
       "model_id": "f0368c102f3e419095f3c97b526ce822",
       "version_major": 2,
       "version_minor": 0
      },
      "text/plain": [
       "AE Train:   0%|          | 0/100 [00:00<?, ?it/s]"
      ]
     },
     "metadata": {},
     "output_type": "display_data"
    },
    {
     "data": {
      "application/vnd.jupyter.widget-view+json": {
       "model_id": "b7679752f22c4d499c500dde25269d9c",
       "version_major": 2,
       "version_minor": 0
      },
      "text/plain": [
       "GAN Train:   0%|          | 0/100 [00:00<?, ?it/s]"
      ]
     },
     "metadata": {},
     "output_type": "display_data"
    },
    {
     "name": "stdout",
     "output_type": "stream",
     "text": [
      "Training Complete!\n",
      "Benchmarking on MLP100\n"
     ]
    },
    {
     "data": {
      "application/vnd.jupyter.widget-view+json": {
       "model_id": "ac8c0dff3cc64d26ab3852c2481d908f",
       "version_major": 2,
       "version_minor": 0
      },
      "text/plain": [
       "  0%|          | 0/100 [00:00<?, ?it/s]"
      ]
     },
     "metadata": {},
     "output_type": "display_data"
    },
    {
     "data": {
      "application/vnd.jupyter.widget-view+json": {
       "model_id": "b7c43162d8cf453594297773c57a26f8",
       "version_major": 2,
       "version_minor": 0
      },
      "text/plain": [
       "  0%|          | 0/100 [00:00<?, ?it/s]"
      ]
     },
     "metadata": {},
     "output_type": "display_data"
    },
    {
     "data": {
      "application/vnd.jupyter.widget-view+json": {
       "model_id": "9da6cb57dbc540bd9de51d27bab7ce11",
       "version_major": 2,
       "version_minor": 0
      },
      "text/plain": [
       "  0%|          | 0/100 [00:00<?, ?it/s]"
      ]
     },
     "metadata": {},
     "output_type": "display_data"
    },
    {
     "name": "stdout",
     "output_type": "stream",
     "text": [
      "Benchmark Complete!\n"
     ]
    }
   ],
   "source": [
    "hp = 'embedding_dim'\n",
    "\n",
    "for ae_type in AE_TYPES:\n",
    "    hp_scores = dict()\n",
    "    printable_ae_dim = max(hp_vals[ae_type]['ae_dim'].items(), key=lambda x: x[1])[0]\n",
    "    ae_dim = tuple(map(int, printable_ae_dim.split('_')))\n",
    "    for v in HP[hp]:\n",
    "        if not os.path.exists(f\"../../models/tmp/loan/ae_gan_{ae_type}_ae_dim_{printable_ae_dim}_{hp}_{v}.pth\"):\n",
    "            # Train the AE_GAN\n",
    "            print(f\"Training CTGAN: {ae_type} - ae_dim - {printable_ae_dim} - {hp} - {v}\")\n",
    "            ae_gan = CTGANV2(ae_type=ae_type, ae_dim=ae_dim, embedding_dim=v)\n",
    "            ae_gan.fit(td['train'],dt=dt,is_transformed=True, target_index=target_idx)\n",
    "            print(\"Training Complete!\")\n",
    "            # save model\n",
    "            ae_gan.save(f\"../../models/tmp/loan/ae_gan_{ae_type}_ae_dim_{printable_ae_dim}_{hp}_{v}.pth\")\n",
    "        else:\n",
    "            print(f\"Loading CTGAN: {ae_type} - ae_dim - {printable_ae_dim} - {hp} - {v}\")\n",
    "            ae_gan = CTGANV2().load(f\"../../models/tmp/loan/ae_gan_{ae_type}_ae_dim_{printable_ae_dim}_{hp}_{v}.pth\")\n",
    "\n",
    "        best_score = torch.tensor([0.0])\n",
    "        try:\n",
    "            # Sample fake data\n",
    "            fake_data, real_data = sample_fake_loan(dt,td,ae_gan)\n",
    "            \n",
    "            print(\"Benchmarking on MLP100\")\n",
    "            # Train the MLP on fake validation data\n",
    "            for _ in range(3):\n",
    "                test_score = train_model(\n",
    "                                fake_data[0],\n",
    "                                fake_data[1],\n",
    "                                fake_data[2],\n",
    "                                fake_data[3],\n",
    "                                real_data[0],\n",
    "                                real_data[1],\n",
    "                                batch_size=256,\n",
    "                                num_epochs=100,\n",
    "                                model_type=\"classification\",\n",
    "                                verbose=False,\n",
    "                                scorer_type=\"f1_micro\",\n",
    "                            )\n",
    "                if test_score > best_score:\n",
    "                    best_score = test_score\n",
    "            print(\"Benchmark Complete!\")\n",
    "        except:\n",
    "            pass\n",
    "        hp_scores[v] = best_score.item()\n",
    "    \n",
    "    hp_vals[ae_type][hp] = hp_scores\n",
    "    with open(\"loan_opt_hp.json\", 'w') as f:\n",
    "        f.write(json.dumps(hp_vals))"
   ]
  },
  {
   "attachments": {},
   "cell_type": "markdown",
   "metadata": {},
   "source": [
    "#### (3) Find the optimal no G/D layers"
   ]
  },
  {
   "cell_type": "code",
   "execution_count": 4,
   "metadata": {},
   "outputs": [
    {
     "name": "stdout",
     "output_type": "stream",
     "text": [
      "Training CTGAN: vanilla - ae_dim - 256_128_64 - embed_dim - 64 - gan_layers - (256, 256)\n"
     ]
    },
    {
     "data": {
      "application/vnd.jupyter.widget-view+json": {
       "model_id": "f3964442890c4895a9c857c099081fc0",
       "version_major": 2,
       "version_minor": 0
      },
      "text/plain": [
       "AE Train:   0%|          | 0/100 [00:00<?, ?it/s]"
      ]
     },
     "metadata": {},
     "output_type": "display_data"
    },
    {
     "data": {
      "application/vnd.jupyter.widget-view+json": {
       "model_id": "01dcf41de3754af3bb40a3a58fcb5041",
       "version_major": 2,
       "version_minor": 0
      },
      "text/plain": [
       "GAN Train:   0%|          | 0/100 [00:00<?, ?it/s]"
      ]
     },
     "metadata": {},
     "output_type": "display_data"
    },
    {
     "name": "stdout",
     "output_type": "stream",
     "text": [
      "Training Complete!\n",
      "Benchmarking on MLP100\n"
     ]
    },
    {
     "data": {
      "application/vnd.jupyter.widget-view+json": {
       "model_id": "7880e08f38784809913ce0ede8033656",
       "version_major": 2,
       "version_minor": 0
      },
      "text/plain": [
       "  0%|          | 0/100 [00:00<?, ?it/s]"
      ]
     },
     "metadata": {},
     "output_type": "display_data"
    },
    {
     "data": {
      "application/vnd.jupyter.widget-view+json": {
       "model_id": "2d7b28ef71464b4486d5555f628c994f",
       "version_major": 2,
       "version_minor": 0
      },
      "text/plain": [
       "  0%|          | 0/100 [00:00<?, ?it/s]"
      ]
     },
     "metadata": {},
     "output_type": "display_data"
    },
    {
     "data": {
      "application/vnd.jupyter.widget-view+json": {
       "model_id": "449d154c7dfc443c8d81966064d15e96",
       "version_major": 2,
       "version_minor": 0
      },
      "text/plain": [
       "  0%|          | 0/100 [00:00<?, ?it/s]"
      ]
     },
     "metadata": {},
     "output_type": "display_data"
    },
    {
     "name": "stdout",
     "output_type": "stream",
     "text": [
      "Benchmark Complete!\n",
      "Training CTGAN: vanilla - ae_dim - 256_128_64 - embed_dim - 64 - gan_layers - (256, 256, 256, 256)\n"
     ]
    },
    {
     "data": {
      "application/vnd.jupyter.widget-view+json": {
       "model_id": "dc20f5a0732e4bcb9a9384b9a061b7c7",
       "version_major": 2,
       "version_minor": 0
      },
      "text/plain": [
       "AE Train:   0%|          | 0/100 [00:00<?, ?it/s]"
      ]
     },
     "metadata": {},
     "output_type": "display_data"
    },
    {
     "data": {
      "application/vnd.jupyter.widget-view+json": {
       "model_id": "d60b963c94a7486b9d36aad037a96867",
       "version_major": 2,
       "version_minor": 0
      },
      "text/plain": [
       "GAN Train:   0%|          | 0/100 [00:00<?, ?it/s]"
      ]
     },
     "metadata": {},
     "output_type": "display_data"
    },
    {
     "name": "stdout",
     "output_type": "stream",
     "text": [
      "Training Complete!\n",
      "Benchmarking on MLP100\n"
     ]
    },
    {
     "data": {
      "application/vnd.jupyter.widget-view+json": {
       "model_id": "a5f045a3bac549af964a1d4a44323168",
       "version_major": 2,
       "version_minor": 0
      },
      "text/plain": [
       "  0%|          | 0/100 [00:00<?, ?it/s]"
      ]
     },
     "metadata": {},
     "output_type": "display_data"
    },
    {
     "data": {
      "application/vnd.jupyter.widget-view+json": {
       "model_id": "2f0335aade234a9f8e9c61802e51f602",
       "version_major": 2,
       "version_minor": 0
      },
      "text/plain": [
       "  0%|          | 0/100 [00:00<?, ?it/s]"
      ]
     },
     "metadata": {},
     "output_type": "display_data"
    },
    {
     "data": {
      "application/vnd.jupyter.widget-view+json": {
       "model_id": "09a72df425d444bfbcb362d586b5ea86",
       "version_major": 2,
       "version_minor": 0
      },
      "text/plain": [
       "  0%|          | 0/100 [00:00<?, ?it/s]"
      ]
     },
     "metadata": {},
     "output_type": "display_data"
    },
    {
     "name": "stdout",
     "output_type": "stream",
     "text": [
      "Benchmark Complete!\n",
      "Training CTGAN: denoising - ae_dim - 256_128_64 - embed_dim - 64 - gan_layers - (256, 256)\n"
     ]
    },
    {
     "data": {
      "application/vnd.jupyter.widget-view+json": {
       "model_id": "4968ede9f2a743b4b3c7baf7d226594d",
       "version_major": 2,
       "version_minor": 0
      },
      "text/plain": [
       "AE Train:   0%|          | 0/100 [00:00<?, ?it/s]"
      ]
     },
     "metadata": {},
     "output_type": "display_data"
    },
    {
     "data": {
      "application/vnd.jupyter.widget-view+json": {
       "model_id": "f6ba8202f44545d7840bcb4e51f97f6e",
       "version_major": 2,
       "version_minor": 0
      },
      "text/plain": [
       "GAN Train:   0%|          | 0/100 [00:00<?, ?it/s]"
      ]
     },
     "metadata": {},
     "output_type": "display_data"
    },
    {
     "name": "stdout",
     "output_type": "stream",
     "text": [
      "Training Complete!\n",
      "Benchmarking on MLP100\n"
     ]
    },
    {
     "data": {
      "application/vnd.jupyter.widget-view+json": {
       "model_id": "d74c4146c2c84132a1885f25aa79deef",
       "version_major": 2,
       "version_minor": 0
      },
      "text/plain": [
       "  0%|          | 0/100 [00:00<?, ?it/s]"
      ]
     },
     "metadata": {},
     "output_type": "display_data"
    },
    {
     "data": {
      "application/vnd.jupyter.widget-view+json": {
       "model_id": "63ee55ed05714a439be853a762858e4f",
       "version_major": 2,
       "version_minor": 0
      },
      "text/plain": [
       "  0%|          | 0/100 [00:00<?, ?it/s]"
      ]
     },
     "metadata": {},
     "output_type": "display_data"
    },
    {
     "data": {
      "application/vnd.jupyter.widget-view+json": {
       "model_id": "6814031eb99e44ee99e95e3c36b16637",
       "version_major": 2,
       "version_minor": 0
      },
      "text/plain": [
       "  0%|          | 0/100 [00:00<?, ?it/s]"
      ]
     },
     "metadata": {},
     "output_type": "display_data"
    },
    {
     "name": "stdout",
     "output_type": "stream",
     "text": [
      "Benchmark Complete!\n",
      "Training CTGAN: denoising - ae_dim - 256_128_64 - embed_dim - 64 - gan_layers - (256, 256, 256, 256)\n"
     ]
    },
    {
     "data": {
      "application/vnd.jupyter.widget-view+json": {
       "model_id": "e1929b407ec04270808a63100b578efd",
       "version_major": 2,
       "version_minor": 0
      },
      "text/plain": [
       "AE Train:   0%|          | 0/100 [00:00<?, ?it/s]"
      ]
     },
     "metadata": {},
     "output_type": "display_data"
    },
    {
     "data": {
      "application/vnd.jupyter.widget-view+json": {
       "model_id": "d096279c9b9443c3a52bde12ceb9cead",
       "version_major": 2,
       "version_minor": 0
      },
      "text/plain": [
       "GAN Train:   0%|          | 0/100 [00:00<?, ?it/s]"
      ]
     },
     "metadata": {},
     "output_type": "display_data"
    },
    {
     "name": "stdout",
     "output_type": "stream",
     "text": [
      "Training Complete!\n",
      "Benchmarking on MLP100\n"
     ]
    },
    {
     "data": {
      "application/vnd.jupyter.widget-view+json": {
       "model_id": "131cdeff8fef4af4888303cf0314cc1b",
       "version_major": 2,
       "version_minor": 0
      },
      "text/plain": [
       "  0%|          | 0/100 [00:00<?, ?it/s]"
      ]
     },
     "metadata": {},
     "output_type": "display_data"
    },
    {
     "data": {
      "application/vnd.jupyter.widget-view+json": {
       "model_id": "caa62d51059641a0a376e75240f37f31",
       "version_major": 2,
       "version_minor": 0
      },
      "text/plain": [
       "  0%|          | 0/100 [00:00<?, ?it/s]"
      ]
     },
     "metadata": {},
     "output_type": "display_data"
    },
    {
     "data": {
      "application/vnd.jupyter.widget-view+json": {
       "model_id": "757835c50a014e87b04341228bf2d758",
       "version_major": 2,
       "version_minor": 0
      },
      "text/plain": [
       "  0%|          | 0/100 [00:00<?, ?it/s]"
      ]
     },
     "metadata": {},
     "output_type": "display_data"
    },
    {
     "name": "stdout",
     "output_type": "stream",
     "text": [
      "Benchmark Complete!\n",
      "Training CTGAN: vae - ae_dim - 256_128_64 - embed_dim - 64 - gan_layers - (256, 256)\n"
     ]
    },
    {
     "data": {
      "application/vnd.jupyter.widget-view+json": {
       "model_id": "c8a40d3a6d574352a4ea99cbb4266081",
       "version_major": 2,
       "version_minor": 0
      },
      "text/plain": [
       "AE Train:   0%|          | 0/100 [00:00<?, ?it/s]"
      ]
     },
     "metadata": {},
     "output_type": "display_data"
    },
    {
     "data": {
      "application/vnd.jupyter.widget-view+json": {
       "model_id": "147515a26fe84fefaf0e5d1ca14750f1",
       "version_major": 2,
       "version_minor": 0
      },
      "text/plain": [
       "GAN Train:   0%|          | 0/100 [00:00<?, ?it/s]"
      ]
     },
     "metadata": {},
     "output_type": "display_data"
    },
    {
     "name": "stdout",
     "output_type": "stream",
     "text": [
      "Training Complete!\n",
      "Benchmarking on MLP100\n"
     ]
    },
    {
     "data": {
      "application/vnd.jupyter.widget-view+json": {
       "model_id": "ea9e9206d4f74258ae507010dbc7a2c7",
       "version_major": 2,
       "version_minor": 0
      },
      "text/plain": [
       "  0%|          | 0/100 [00:00<?, ?it/s]"
      ]
     },
     "metadata": {},
     "output_type": "display_data"
    },
    {
     "data": {
      "application/vnd.jupyter.widget-view+json": {
       "model_id": "a04be56d63464d98a68f97c1fd1c4f22",
       "version_major": 2,
       "version_minor": 0
      },
      "text/plain": [
       "  0%|          | 0/100 [00:00<?, ?it/s]"
      ]
     },
     "metadata": {},
     "output_type": "display_data"
    },
    {
     "data": {
      "application/vnd.jupyter.widget-view+json": {
       "model_id": "b10311be60024e1ea1c73ad9af5edf9b",
       "version_major": 2,
       "version_minor": 0
      },
      "text/plain": [
       "  0%|          | 0/100 [00:00<?, ?it/s]"
      ]
     },
     "metadata": {},
     "output_type": "display_data"
    },
    {
     "name": "stdout",
     "output_type": "stream",
     "text": [
      "Benchmark Complete!\n",
      "Training CTGAN: vae - ae_dim - 256_128_64 - embed_dim - 64 - gan_layers - (256, 256, 256, 256)\n"
     ]
    },
    {
     "data": {
      "application/vnd.jupyter.widget-view+json": {
       "model_id": "a87f4f91a8aa4561b0ff67074e4fc6e5",
       "version_major": 2,
       "version_minor": 0
      },
      "text/plain": [
       "AE Train:   0%|          | 0/100 [00:00<?, ?it/s]"
      ]
     },
     "metadata": {},
     "output_type": "display_data"
    },
    {
     "data": {
      "application/vnd.jupyter.widget-view+json": {
       "model_id": "8a9b8690187148e683fb6c8a05f4551f",
       "version_major": 2,
       "version_minor": 0
      },
      "text/plain": [
       "GAN Train:   0%|          | 0/100 [00:00<?, ?it/s]"
      ]
     },
     "metadata": {},
     "output_type": "display_data"
    },
    {
     "name": "stdout",
     "output_type": "stream",
     "text": [
      "Training Complete!\n",
      "Benchmarking on MLP100\n"
     ]
    },
    {
     "data": {
      "application/vnd.jupyter.widget-view+json": {
       "model_id": "0d16486ff9c1487faeee6db296b68826",
       "version_major": 2,
       "version_minor": 0
      },
      "text/plain": [
       "  0%|          | 0/100 [00:00<?, ?it/s]"
      ]
     },
     "metadata": {},
     "output_type": "display_data"
    },
    {
     "data": {
      "application/vnd.jupyter.widget-view+json": {
       "model_id": "bb483a43def04703ae8868369030bc64",
       "version_major": 2,
       "version_minor": 0
      },
      "text/plain": [
       "  0%|          | 0/100 [00:00<?, ?it/s]"
      ]
     },
     "metadata": {},
     "output_type": "display_data"
    },
    {
     "data": {
      "application/vnd.jupyter.widget-view+json": {
       "model_id": "0dea594fc61746e2b36a734283723ddc",
       "version_major": 2,
       "version_minor": 0
      },
      "text/plain": [
       "  0%|          | 0/100 [00:00<?, ?it/s]"
      ]
     },
     "metadata": {},
     "output_type": "display_data"
    },
    {
     "name": "stdout",
     "output_type": "stream",
     "text": [
      "Benchmark Complete!\n",
      "Training CTGAN: ee - ae_dim - 256_128_64_32 - embed_dim - 64 - gan_layers - (256, 256)\n"
     ]
    },
    {
     "data": {
      "application/vnd.jupyter.widget-view+json": {
       "model_id": "686060d62ce5431196c0a0eafce31dc5",
       "version_major": 2,
       "version_minor": 0
      },
      "text/plain": [
       "AE Train:   0%|          | 0/100 [00:00<?, ?it/s]"
      ]
     },
     "metadata": {},
     "output_type": "display_data"
    },
    {
     "data": {
      "application/vnd.jupyter.widget-view+json": {
       "model_id": "8f47c42f701e458caac577c59654d433",
       "version_major": 2,
       "version_minor": 0
      },
      "text/plain": [
       "GAN Train:   0%|          | 0/100 [00:00<?, ?it/s]"
      ]
     },
     "metadata": {},
     "output_type": "display_data"
    },
    {
     "name": "stdout",
     "output_type": "stream",
     "text": [
      "Training Complete!\n",
      "Benchmarking on MLP100\n"
     ]
    },
    {
     "data": {
      "application/vnd.jupyter.widget-view+json": {
       "model_id": "c4e3abc8e4584e958f4173c75b02891e",
       "version_major": 2,
       "version_minor": 0
      },
      "text/plain": [
       "  0%|          | 0/100 [00:00<?, ?it/s]"
      ]
     },
     "metadata": {},
     "output_type": "display_data"
    },
    {
     "data": {
      "application/vnd.jupyter.widget-view+json": {
       "model_id": "6ff7923da4cb4b5c835bc3c16d35d88a",
       "version_major": 2,
       "version_minor": 0
      },
      "text/plain": [
       "  0%|          | 0/100 [00:00<?, ?it/s]"
      ]
     },
     "metadata": {},
     "output_type": "display_data"
    },
    {
     "data": {
      "application/vnd.jupyter.widget-view+json": {
       "model_id": "ba20d44e7a084e5f9a2b9838b5bd9732",
       "version_major": 2,
       "version_minor": 0
      },
      "text/plain": [
       "  0%|          | 0/100 [00:00<?, ?it/s]"
      ]
     },
     "metadata": {},
     "output_type": "display_data"
    },
    {
     "name": "stdout",
     "output_type": "stream",
     "text": [
      "Benchmark Complete!\n",
      "Training CTGAN: ee - ae_dim - 256_128_64_32 - embed_dim - 64 - gan_layers - (256, 256, 256, 256)\n"
     ]
    },
    {
     "data": {
      "application/vnd.jupyter.widget-view+json": {
       "model_id": "e3545f1121aa4166af104a257643de03",
       "version_major": 2,
       "version_minor": 0
      },
      "text/plain": [
       "AE Train:   0%|          | 0/100 [00:00<?, ?it/s]"
      ]
     },
     "metadata": {},
     "output_type": "display_data"
    },
    {
     "data": {
      "application/vnd.jupyter.widget-view+json": {
       "model_id": "ad205ef6fcf447399a07e9ac869f5ced",
       "version_major": 2,
       "version_minor": 0
      },
      "text/plain": [
       "GAN Train:   0%|          | 0/100 [00:00<?, ?it/s]"
      ]
     },
     "metadata": {},
     "output_type": "display_data"
    },
    {
     "name": "stdout",
     "output_type": "stream",
     "text": [
      "Training Complete!\n",
      "Benchmarking on MLP100\n"
     ]
    },
    {
     "data": {
      "application/vnd.jupyter.widget-view+json": {
       "model_id": "c73568368365405d890137f9a4259597",
       "version_major": 2,
       "version_minor": 0
      },
      "text/plain": [
       "  0%|          | 0/100 [00:00<?, ?it/s]"
      ]
     },
     "metadata": {},
     "output_type": "display_data"
    },
    {
     "data": {
      "application/vnd.jupyter.widget-view+json": {
       "model_id": "a6fa6ad62434431ab7fefa49c2f80e56",
       "version_major": 2,
       "version_minor": 0
      },
      "text/plain": [
       "  0%|          | 0/100 [00:00<?, ?it/s]"
      ]
     },
     "metadata": {},
     "output_type": "display_data"
    },
    {
     "data": {
      "application/vnd.jupyter.widget-view+json": {
       "model_id": "cda9b7b547b34afdba7f167876598882",
       "version_major": 2,
       "version_minor": 0
      },
      "text/plain": [
       "  0%|          | 0/100 [00:00<?, ?it/s]"
      ]
     },
     "metadata": {},
     "output_type": "display_data"
    },
    {
     "name": "stdout",
     "output_type": "stream",
     "text": [
      "Benchmark Complete!\n"
     ]
    }
   ],
   "source": [
    "hp = 'gan_layers'\n",
    "\n",
    "for ae_type in AE_TYPES:\n",
    "    hp_scores = dict()\n",
    "    printable_ae_dim = max(hp_vals[ae_type]['ae_dim'].items(), key=lambda x: x[1])[0]\n",
    "    ae_dim = tuple(map(int, printable_ae_dim.split('_')))\n",
    "    embedding_dim = int(max(hp_vals[ae_type]['embedding_dim'].items(), key=lambda x: x[1])[0])\n",
    "    for v in HP[hp]:\n",
    "        k = '_'.join(str(i) for i in v)\n",
    "        if not os.path.exists(f\"../../models/tmp/loan/ae_gan_{ae_type}_ae_dim_{printable_ae_dim}_emb_{embedding_dim}_{hp}_{v}.pth\"):\n",
    "            # Train the AE_GAN\n",
    "            print(f\"Training CTGAN: {ae_type} - ae_dim - {printable_ae_dim} - embed_dim - {embedding_dim} - {hp} - {v}\")\n",
    "            ae_gan = CTGANV2(ae_type=ae_type, ae_dim=ae_dim,\n",
    "                             embedding_dim=embedding_dim, generator_dim=v, discriminator_dim=v)\n",
    "            ae_gan.fit(td['train'], dt=dt, is_transformed=True, target_index=target_idx)\n",
    "            print(\"Training Complete!\")\n",
    "            # save model\n",
    "            ae_gan.save(f\"../../models/tmp/loan/ae_gan_{ae_type}_ae_dim_{printable_ae_dim}_emb_{embedding_dim}_{hp}_{v}.pth\")\n",
    "        else:\n",
    "            print(f\"Loading CTGAN: {ae_type} - ae_dim - {printable_ae_dim} - embed_dim - {embedding_dim} - {hp} - {v}\")\n",
    "            ae_gan = CTGANV2().load(f\"../../models/tmp/loan/ae_gan_{ae_type}_ae_dim_{printable_ae_dim}_emb_{embedding_dim}_{hp}_{v}.pth\")\n",
    "\n",
    "        best_score = torch.tensor([0.0])\n",
    "        try:\n",
    "            # Sample fake data\n",
    "            fake_data, real_data = sample_fake_loan(dt,td,ae_gan)\n",
    "            \n",
    "            print(\"Benchmarking on MLP100\")\n",
    "            # Train the MLP on fake validation data\n",
    "            for _ in range(3):\n",
    "                test_score = train_model(\n",
    "                                fake_data[0],\n",
    "                                fake_data[1],\n",
    "                                fake_data[2],\n",
    "                                fake_data[3],\n",
    "                                real_data[0],\n",
    "                                real_data[1],\n",
    "                                batch_size=256,\n",
    "                                num_epochs=100,\n",
    "                                model_type=\"classification\",\n",
    "                                verbose=False,\n",
    "                                scorer_type=\"f1_micro\",\n",
    "                            )\n",
    "                if test_score > best_score:\n",
    "                    best_score = test_score\n",
    "            print(\"Benchmark Complete!\")\n",
    "        except:\n",
    "            pass\n",
    "        hp_scores[k] = best_score.item()\n",
    "    \n",
    "    hp_vals[ae_type][hp] = hp_scores\n",
    "    with open(\"loan_opt_hp.json\", 'w') as f:\n",
    "        f.write(json.dumps(hp_vals))"
   ]
  },
  {
   "attachments": {},
   "cell_type": "markdown",
   "metadata": {},
   "source": [
    "#### (4) Find the optimal no D_steps and pac"
   ]
  },
  {
   "cell_type": "code",
   "execution_count": 5,
   "metadata": {},
   "outputs": [
    {
     "name": "stdout",
     "output_type": "stream",
     "text": [
      "Training CTGAN: vanilla - ae_dim - 256_128_64 - embed_dim - 64 - gan_layers - 256_256 - dstep - 1 - pac - 4\n"
     ]
    },
    {
     "data": {
      "application/vnd.jupyter.widget-view+json": {
       "model_id": "fe96dd1adbb74089a18db5c4227de260",
       "version_major": 2,
       "version_minor": 0
      },
      "text/plain": [
       "AE Train:   0%|          | 0/100 [00:00<?, ?it/s]"
      ]
     },
     "metadata": {},
     "output_type": "display_data"
    },
    {
     "data": {
      "application/vnd.jupyter.widget-view+json": {
       "model_id": "34cfea81fd0a45f4b9a8b84e00cff0ab",
       "version_major": 2,
       "version_minor": 0
      },
      "text/plain": [
       "GAN Train:   0%|          | 0/100 [00:00<?, ?it/s]"
      ]
     },
     "metadata": {},
     "output_type": "display_data"
    },
    {
     "name": "stdout",
     "output_type": "stream",
     "text": [
      "Training Complete!\n",
      "Benchmarking on MLP100\n"
     ]
    },
    {
     "data": {
      "application/vnd.jupyter.widget-view+json": {
       "model_id": "7bcd41dcf98246bd9771ced7eefa224c",
       "version_major": 2,
       "version_minor": 0
      },
      "text/plain": [
       "  0%|          | 0/100 [00:00<?, ?it/s]"
      ]
     },
     "metadata": {},
     "output_type": "display_data"
    },
    {
     "data": {
      "application/vnd.jupyter.widget-view+json": {
       "model_id": "602d982b6941435580114be369b60d59",
       "version_major": 2,
       "version_minor": 0
      },
      "text/plain": [
       "  0%|          | 0/100 [00:00<?, ?it/s]"
      ]
     },
     "metadata": {},
     "output_type": "display_data"
    },
    {
     "data": {
      "application/vnd.jupyter.widget-view+json": {
       "model_id": "a0e50ab3bc36479bbd98a960e851c5c2",
       "version_major": 2,
       "version_minor": 0
      },
      "text/plain": [
       "  0%|          | 0/100 [00:00<?, ?it/s]"
      ]
     },
     "metadata": {},
     "output_type": "display_data"
    },
    {
     "name": "stdout",
     "output_type": "stream",
     "text": [
      "Benchmark Complete!\n",
      "Training CTGAN: vanilla - ae_dim - 256_128_64 - embed_dim - 64 - gan_layers - 256_256 - dstep - 1 - pac - 8\n"
     ]
    },
    {
     "data": {
      "application/vnd.jupyter.widget-view+json": {
       "model_id": "266ccc2cab0a4392a6150f45ff4ffa4c",
       "version_major": 2,
       "version_minor": 0
      },
      "text/plain": [
       "AE Train:   0%|          | 0/100 [00:00<?, ?it/s]"
      ]
     },
     "metadata": {},
     "output_type": "display_data"
    },
    {
     "data": {
      "application/vnd.jupyter.widget-view+json": {
       "model_id": "43258a4e2cbf4e17a886a51c95c41998",
       "version_major": 2,
       "version_minor": 0
      },
      "text/plain": [
       "GAN Train:   0%|          | 0/100 [00:00<?, ?it/s]"
      ]
     },
     "metadata": {},
     "output_type": "display_data"
    },
    {
     "name": "stdout",
     "output_type": "stream",
     "text": [
      "Training Complete!\n",
      "Benchmarking on MLP100\n"
     ]
    },
    {
     "data": {
      "application/vnd.jupyter.widget-view+json": {
       "model_id": "351577e550944d0b84a3877903065f14",
       "version_major": 2,
       "version_minor": 0
      },
      "text/plain": [
       "  0%|          | 0/100 [00:00<?, ?it/s]"
      ]
     },
     "metadata": {},
     "output_type": "display_data"
    },
    {
     "data": {
      "application/vnd.jupyter.widget-view+json": {
       "model_id": "bea9243d71f040a19ad192a938a72666",
       "version_major": 2,
       "version_minor": 0
      },
      "text/plain": [
       "  0%|          | 0/100 [00:00<?, ?it/s]"
      ]
     },
     "metadata": {},
     "output_type": "display_data"
    },
    {
     "data": {
      "application/vnd.jupyter.widget-view+json": {
       "model_id": "4ae4ea960c4b4e4eabe5b5ddcc8b717a",
       "version_major": 2,
       "version_minor": 0
      },
      "text/plain": [
       "  0%|          | 0/100 [00:00<?, ?it/s]"
      ]
     },
     "metadata": {},
     "output_type": "display_data"
    },
    {
     "name": "stdout",
     "output_type": "stream",
     "text": [
      "Benchmark Complete!\n",
      "Training CTGAN: vanilla - ae_dim - 256_128_64 - embed_dim - 64 - gan_layers - 256_256 - dstep - 1 - pac - 16\n"
     ]
    },
    {
     "data": {
      "application/vnd.jupyter.widget-view+json": {
       "model_id": "de22b21b436a4980ba086e389a866b16",
       "version_major": 2,
       "version_minor": 0
      },
      "text/plain": [
       "AE Train:   0%|          | 0/100 [00:00<?, ?it/s]"
      ]
     },
     "metadata": {},
     "output_type": "display_data"
    },
    {
     "data": {
      "application/vnd.jupyter.widget-view+json": {
       "model_id": "8ef7d8c929244a8cae18a20dcadea9da",
       "version_major": 2,
       "version_minor": 0
      },
      "text/plain": [
       "GAN Train:   0%|          | 0/100 [00:00<?, ?it/s]"
      ]
     },
     "metadata": {},
     "output_type": "display_data"
    },
    {
     "name": "stdout",
     "output_type": "stream",
     "text": [
      "Training Complete!\n",
      "Benchmarking on MLP100\n"
     ]
    },
    {
     "data": {
      "application/vnd.jupyter.widget-view+json": {
       "model_id": "c4541909cd244b509d6b83aeec633dac",
       "version_major": 2,
       "version_minor": 0
      },
      "text/plain": [
       "  0%|          | 0/100 [00:00<?, ?it/s]"
      ]
     },
     "metadata": {},
     "output_type": "display_data"
    },
    {
     "data": {
      "application/vnd.jupyter.widget-view+json": {
       "model_id": "b6cd7f212c6e4cb5abdd0a7d32db15f9",
       "version_major": 2,
       "version_minor": 0
      },
      "text/plain": [
       "  0%|          | 0/100 [00:00<?, ?it/s]"
      ]
     },
     "metadata": {},
     "output_type": "display_data"
    },
    {
     "data": {
      "application/vnd.jupyter.widget-view+json": {
       "model_id": "9a6e3d5fd9e64753b47ae4e70233ba7a",
       "version_major": 2,
       "version_minor": 0
      },
      "text/plain": [
       "  0%|          | 0/100 [00:00<?, ?it/s]"
      ]
     },
     "metadata": {},
     "output_type": "display_data"
    },
    {
     "name": "stdout",
     "output_type": "stream",
     "text": [
      "Benchmark Complete!\n",
      "Training CTGAN: vanilla - ae_dim - 256_128_64 - embed_dim - 64 - gan_layers - 256_256 - dstep - 5 - pac - 4\n"
     ]
    },
    {
     "data": {
      "application/vnd.jupyter.widget-view+json": {
       "model_id": "520a7384c289434e89291c0a045aad07",
       "version_major": 2,
       "version_minor": 0
      },
      "text/plain": [
       "AE Train:   0%|          | 0/100 [00:00<?, ?it/s]"
      ]
     },
     "metadata": {},
     "output_type": "display_data"
    },
    {
     "data": {
      "application/vnd.jupyter.widget-view+json": {
       "model_id": "3d16457e52c64761aba8b1a01375fdc3",
       "version_major": 2,
       "version_minor": 0
      },
      "text/plain": [
       "GAN Train:   0%|          | 0/100 [00:00<?, ?it/s]"
      ]
     },
     "metadata": {},
     "output_type": "display_data"
    },
    {
     "name": "stdout",
     "output_type": "stream",
     "text": [
      "Training Complete!\n",
      "Benchmarking on MLP100\n"
     ]
    },
    {
     "data": {
      "application/vnd.jupyter.widget-view+json": {
       "model_id": "77b14fc77b9746049a203b9195bbc19c",
       "version_major": 2,
       "version_minor": 0
      },
      "text/plain": [
       "  0%|          | 0/100 [00:00<?, ?it/s]"
      ]
     },
     "metadata": {},
     "output_type": "display_data"
    },
    {
     "data": {
      "application/vnd.jupyter.widget-view+json": {
       "model_id": "38af46bfda944d69a6e405f0fb552942",
       "version_major": 2,
       "version_minor": 0
      },
      "text/plain": [
       "  0%|          | 0/100 [00:00<?, ?it/s]"
      ]
     },
     "metadata": {},
     "output_type": "display_data"
    },
    {
     "data": {
      "application/vnd.jupyter.widget-view+json": {
       "model_id": "fccc3d7c64c04b0cbf33043d79331359",
       "version_major": 2,
       "version_minor": 0
      },
      "text/plain": [
       "  0%|          | 0/100 [00:00<?, ?it/s]"
      ]
     },
     "metadata": {},
     "output_type": "display_data"
    },
    {
     "name": "stdout",
     "output_type": "stream",
     "text": [
      "Benchmark Complete!\n",
      "Training CTGAN: vanilla - ae_dim - 256_128_64 - embed_dim - 64 - gan_layers - 256_256 - dstep - 5 - pac - 8\n"
     ]
    },
    {
     "data": {
      "application/vnd.jupyter.widget-view+json": {
       "model_id": "e0fea867da69437892855a5820ba7f28",
       "version_major": 2,
       "version_minor": 0
      },
      "text/plain": [
       "AE Train:   0%|          | 0/100 [00:00<?, ?it/s]"
      ]
     },
     "metadata": {},
     "output_type": "display_data"
    },
    {
     "data": {
      "application/vnd.jupyter.widget-view+json": {
       "model_id": "548b1b6589364ad19f00f1d585b719b8",
       "version_major": 2,
       "version_minor": 0
      },
      "text/plain": [
       "GAN Train:   0%|          | 0/100 [00:00<?, ?it/s]"
      ]
     },
     "metadata": {},
     "output_type": "display_data"
    },
    {
     "name": "stdout",
     "output_type": "stream",
     "text": [
      "Training Complete!\n",
      "Benchmarking on MLP100\n"
     ]
    },
    {
     "data": {
      "application/vnd.jupyter.widget-view+json": {
       "model_id": "075c950fb9414790ade2b9f5d33b6165",
       "version_major": 2,
       "version_minor": 0
      },
      "text/plain": [
       "  0%|          | 0/100 [00:00<?, ?it/s]"
      ]
     },
     "metadata": {},
     "output_type": "display_data"
    },
    {
     "data": {
      "application/vnd.jupyter.widget-view+json": {
       "model_id": "0695e888a812412a844bfb92ed93e147",
       "version_major": 2,
       "version_minor": 0
      },
      "text/plain": [
       "  0%|          | 0/100 [00:00<?, ?it/s]"
      ]
     },
     "metadata": {},
     "output_type": "display_data"
    },
    {
     "data": {
      "application/vnd.jupyter.widget-view+json": {
       "model_id": "af78ca3f757241288844cbb588001cb2",
       "version_major": 2,
       "version_minor": 0
      },
      "text/plain": [
       "  0%|          | 0/100 [00:00<?, ?it/s]"
      ]
     },
     "metadata": {},
     "output_type": "display_data"
    },
    {
     "name": "stdout",
     "output_type": "stream",
     "text": [
      "Benchmark Complete!\n",
      "Training CTGAN: vanilla - ae_dim - 256_128_64 - embed_dim - 64 - gan_layers - 256_256 - dstep - 5 - pac - 16\n"
     ]
    },
    {
     "data": {
      "application/vnd.jupyter.widget-view+json": {
       "model_id": "d6554618a66e4356a573a003525033c3",
       "version_major": 2,
       "version_minor": 0
      },
      "text/plain": [
       "AE Train:   0%|          | 0/100 [00:00<?, ?it/s]"
      ]
     },
     "metadata": {},
     "output_type": "display_data"
    },
    {
     "data": {
      "application/vnd.jupyter.widget-view+json": {
       "model_id": "5ab57c2e793e4a71aa17f515853b66ec",
       "version_major": 2,
       "version_minor": 0
      },
      "text/plain": [
       "GAN Train:   0%|          | 0/100 [00:00<?, ?it/s]"
      ]
     },
     "metadata": {},
     "output_type": "display_data"
    },
    {
     "name": "stdout",
     "output_type": "stream",
     "text": [
      "Training Complete!\n",
      "Benchmarking on MLP100\n"
     ]
    },
    {
     "data": {
      "application/vnd.jupyter.widget-view+json": {
       "model_id": "256bb1da5b5b4cbfbf19dd57be33e851",
       "version_major": 2,
       "version_minor": 0
      },
      "text/plain": [
       "  0%|          | 0/100 [00:00<?, ?it/s]"
      ]
     },
     "metadata": {},
     "output_type": "display_data"
    },
    {
     "data": {
      "application/vnd.jupyter.widget-view+json": {
       "model_id": "fb82a1dc745a404498c266ad038a389b",
       "version_major": 2,
       "version_minor": 0
      },
      "text/plain": [
       "  0%|          | 0/100 [00:00<?, ?it/s]"
      ]
     },
     "metadata": {},
     "output_type": "display_data"
    },
    {
     "data": {
      "application/vnd.jupyter.widget-view+json": {
       "model_id": "f1e8c823689e43d3a3dcc48bf31e47d7",
       "version_major": 2,
       "version_minor": 0
      },
      "text/plain": [
       "  0%|          | 0/100 [00:00<?, ?it/s]"
      ]
     },
     "metadata": {},
     "output_type": "display_data"
    },
    {
     "name": "stdout",
     "output_type": "stream",
     "text": [
      "Benchmark Complete!\n",
      "Training CTGAN: denoising - ae_dim - 256_128_64 - embed_dim - 64 - gan_layers - 256_256 - dstep - 1 - pac - 4\n"
     ]
    },
    {
     "data": {
      "application/vnd.jupyter.widget-view+json": {
       "model_id": "f5e1501d1a3b4d6cbf479a766da90c99",
       "version_major": 2,
       "version_minor": 0
      },
      "text/plain": [
       "AE Train:   0%|          | 0/100 [00:00<?, ?it/s]"
      ]
     },
     "metadata": {},
     "output_type": "display_data"
    },
    {
     "data": {
      "application/vnd.jupyter.widget-view+json": {
       "model_id": "acaf640506c74b6e92a287647fa6c452",
       "version_major": 2,
       "version_minor": 0
      },
      "text/plain": [
       "GAN Train:   0%|          | 0/100 [00:00<?, ?it/s]"
      ]
     },
     "metadata": {},
     "output_type": "display_data"
    },
    {
     "name": "stdout",
     "output_type": "stream",
     "text": [
      "Training Complete!\n",
      "Benchmarking on MLP100\n"
     ]
    },
    {
     "data": {
      "application/vnd.jupyter.widget-view+json": {
       "model_id": "48f3027b8494450aa6cef34f7716b103",
       "version_major": 2,
       "version_minor": 0
      },
      "text/plain": [
       "  0%|          | 0/100 [00:00<?, ?it/s]"
      ]
     },
     "metadata": {},
     "output_type": "display_data"
    },
    {
     "data": {
      "application/vnd.jupyter.widget-view+json": {
       "model_id": "a4ae6a3c32e949dd93d54832cecbc579",
       "version_major": 2,
       "version_minor": 0
      },
      "text/plain": [
       "  0%|          | 0/100 [00:00<?, ?it/s]"
      ]
     },
     "metadata": {},
     "output_type": "display_data"
    },
    {
     "data": {
      "application/vnd.jupyter.widget-view+json": {
       "model_id": "6bbc6e2626e0412797d632e4b5b922d1",
       "version_major": 2,
       "version_minor": 0
      },
      "text/plain": [
       "  0%|          | 0/100 [00:00<?, ?it/s]"
      ]
     },
     "metadata": {},
     "output_type": "display_data"
    },
    {
     "name": "stdout",
     "output_type": "stream",
     "text": [
      "Benchmark Complete!\n",
      "Training CTGAN: denoising - ae_dim - 256_128_64 - embed_dim - 64 - gan_layers - 256_256 - dstep - 1 - pac - 8\n"
     ]
    },
    {
     "data": {
      "application/vnd.jupyter.widget-view+json": {
       "model_id": "eab953371b8c4abfbf0d3576d79b662c",
       "version_major": 2,
       "version_minor": 0
      },
      "text/plain": [
       "AE Train:   0%|          | 0/100 [00:00<?, ?it/s]"
      ]
     },
     "metadata": {},
     "output_type": "display_data"
    },
    {
     "data": {
      "application/vnd.jupyter.widget-view+json": {
       "model_id": "3b54a769c6604e31aa30cda82c681d9c",
       "version_major": 2,
       "version_minor": 0
      },
      "text/plain": [
       "GAN Train:   0%|          | 0/100 [00:00<?, ?it/s]"
      ]
     },
     "metadata": {},
     "output_type": "display_data"
    },
    {
     "name": "stdout",
     "output_type": "stream",
     "text": [
      "Training Complete!\n",
      "Benchmarking on MLP100\n"
     ]
    },
    {
     "data": {
      "application/vnd.jupyter.widget-view+json": {
       "model_id": "dbcaa19a7ec24f67a158bd31ccc6e9fe",
       "version_major": 2,
       "version_minor": 0
      },
      "text/plain": [
       "  0%|          | 0/100 [00:00<?, ?it/s]"
      ]
     },
     "metadata": {},
     "output_type": "display_data"
    },
    {
     "data": {
      "application/vnd.jupyter.widget-view+json": {
       "model_id": "a225f22c73fe4c94b9d1c4d341393e19",
       "version_major": 2,
       "version_minor": 0
      },
      "text/plain": [
       "  0%|          | 0/100 [00:00<?, ?it/s]"
      ]
     },
     "metadata": {},
     "output_type": "display_data"
    },
    {
     "data": {
      "application/vnd.jupyter.widget-view+json": {
       "model_id": "ecc16f5db1ee4a9d900b61492ab8be7f",
       "version_major": 2,
       "version_minor": 0
      },
      "text/plain": [
       "  0%|          | 0/100 [00:00<?, ?it/s]"
      ]
     },
     "metadata": {},
     "output_type": "display_data"
    },
    {
     "name": "stdout",
     "output_type": "stream",
     "text": [
      "Benchmark Complete!\n",
      "Training CTGAN: denoising - ae_dim - 256_128_64 - embed_dim - 64 - gan_layers - 256_256 - dstep - 1 - pac - 16\n"
     ]
    },
    {
     "data": {
      "application/vnd.jupyter.widget-view+json": {
       "model_id": "1e5574102c264a8bb104b729b881e998",
       "version_major": 2,
       "version_minor": 0
      },
      "text/plain": [
       "AE Train:   0%|          | 0/100 [00:00<?, ?it/s]"
      ]
     },
     "metadata": {},
     "output_type": "display_data"
    },
    {
     "data": {
      "application/vnd.jupyter.widget-view+json": {
       "model_id": "5406dcf1a55044a7a8eeafdc9f2358bf",
       "version_major": 2,
       "version_minor": 0
      },
      "text/plain": [
       "GAN Train:   0%|          | 0/100 [00:00<?, ?it/s]"
      ]
     },
     "metadata": {},
     "output_type": "display_data"
    },
    {
     "name": "stdout",
     "output_type": "stream",
     "text": [
      "Training Complete!\n",
      "Benchmarking on MLP100\n"
     ]
    },
    {
     "data": {
      "application/vnd.jupyter.widget-view+json": {
       "model_id": "4dc7f18f805445eb9bc6facd659cb64c",
       "version_major": 2,
       "version_minor": 0
      },
      "text/plain": [
       "  0%|          | 0/100 [00:00<?, ?it/s]"
      ]
     },
     "metadata": {},
     "output_type": "display_data"
    },
    {
     "data": {
      "application/vnd.jupyter.widget-view+json": {
       "model_id": "1c70360b1dcc4cf2ace2cddd225d7944",
       "version_major": 2,
       "version_minor": 0
      },
      "text/plain": [
       "  0%|          | 0/100 [00:00<?, ?it/s]"
      ]
     },
     "metadata": {},
     "output_type": "display_data"
    },
    {
     "data": {
      "application/vnd.jupyter.widget-view+json": {
       "model_id": "64a8b5d7ebb7406580c652b1164969a3",
       "version_major": 2,
       "version_minor": 0
      },
      "text/plain": [
       "  0%|          | 0/100 [00:00<?, ?it/s]"
      ]
     },
     "metadata": {},
     "output_type": "display_data"
    },
    {
     "name": "stdout",
     "output_type": "stream",
     "text": [
      "Benchmark Complete!\n",
      "Training CTGAN: denoising - ae_dim - 256_128_64 - embed_dim - 64 - gan_layers - 256_256 - dstep - 5 - pac - 4\n"
     ]
    },
    {
     "data": {
      "application/vnd.jupyter.widget-view+json": {
       "model_id": "12fee84875b54bf9b7831b22e4f512f4",
       "version_major": 2,
       "version_minor": 0
      },
      "text/plain": [
       "AE Train:   0%|          | 0/100 [00:00<?, ?it/s]"
      ]
     },
     "metadata": {},
     "output_type": "display_data"
    },
    {
     "data": {
      "application/vnd.jupyter.widget-view+json": {
       "model_id": "345e28add9a0460d8ee4e8da339c87df",
       "version_major": 2,
       "version_minor": 0
      },
      "text/plain": [
       "GAN Train:   0%|          | 0/100 [00:00<?, ?it/s]"
      ]
     },
     "metadata": {},
     "output_type": "display_data"
    },
    {
     "name": "stdout",
     "output_type": "stream",
     "text": [
      "Training Complete!\n",
      "Benchmarking on MLP100\n"
     ]
    },
    {
     "data": {
      "application/vnd.jupyter.widget-view+json": {
       "model_id": "bc147e959ce845c7beee47c46c1f5b43",
       "version_major": 2,
       "version_minor": 0
      },
      "text/plain": [
       "  0%|          | 0/100 [00:00<?, ?it/s]"
      ]
     },
     "metadata": {},
     "output_type": "display_data"
    },
    {
     "data": {
      "application/vnd.jupyter.widget-view+json": {
       "model_id": "fd74295d722e4e9db0ed4177956f7b11",
       "version_major": 2,
       "version_minor": 0
      },
      "text/plain": [
       "  0%|          | 0/100 [00:00<?, ?it/s]"
      ]
     },
     "metadata": {},
     "output_type": "display_data"
    },
    {
     "data": {
      "application/vnd.jupyter.widget-view+json": {
       "model_id": "e28c24e8a9ab456498b2b4e351aff4ac",
       "version_major": 2,
       "version_minor": 0
      },
      "text/plain": [
       "  0%|          | 0/100 [00:00<?, ?it/s]"
      ]
     },
     "metadata": {},
     "output_type": "display_data"
    },
    {
     "name": "stdout",
     "output_type": "stream",
     "text": [
      "Benchmark Complete!\n",
      "Training CTGAN: denoising - ae_dim - 256_128_64 - embed_dim - 64 - gan_layers - 256_256 - dstep - 5 - pac - 8\n"
     ]
    },
    {
     "data": {
      "application/vnd.jupyter.widget-view+json": {
       "model_id": "99736836065d4c4db6825d26cc2193f5",
       "version_major": 2,
       "version_minor": 0
      },
      "text/plain": [
       "AE Train:   0%|          | 0/100 [00:00<?, ?it/s]"
      ]
     },
     "metadata": {},
     "output_type": "display_data"
    },
    {
     "data": {
      "application/vnd.jupyter.widget-view+json": {
       "model_id": "78c91d49ca8d409b96493eb2d981eb16",
       "version_major": 2,
       "version_minor": 0
      },
      "text/plain": [
       "GAN Train:   0%|          | 0/100 [00:00<?, ?it/s]"
      ]
     },
     "metadata": {},
     "output_type": "display_data"
    },
    {
     "name": "stdout",
     "output_type": "stream",
     "text": [
      "Training Complete!\n",
      "Benchmarking on MLP100\n"
     ]
    },
    {
     "data": {
      "application/vnd.jupyter.widget-view+json": {
       "model_id": "133999ac69574b2cba09beef05363a6a",
       "version_major": 2,
       "version_minor": 0
      },
      "text/plain": [
       "  0%|          | 0/100 [00:00<?, ?it/s]"
      ]
     },
     "metadata": {},
     "output_type": "display_data"
    },
    {
     "data": {
      "application/vnd.jupyter.widget-view+json": {
       "model_id": "5340c483c57e4c2abe5f1af73f85e53a",
       "version_major": 2,
       "version_minor": 0
      },
      "text/plain": [
       "  0%|          | 0/100 [00:00<?, ?it/s]"
      ]
     },
     "metadata": {},
     "output_type": "display_data"
    },
    {
     "data": {
      "application/vnd.jupyter.widget-view+json": {
       "model_id": "220a526e817c4c28a35bb539b4b376cb",
       "version_major": 2,
       "version_minor": 0
      },
      "text/plain": [
       "  0%|          | 0/100 [00:00<?, ?it/s]"
      ]
     },
     "metadata": {},
     "output_type": "display_data"
    },
    {
     "name": "stdout",
     "output_type": "stream",
     "text": [
      "Benchmark Complete!\n",
      "Training CTGAN: denoising - ae_dim - 256_128_64 - embed_dim - 64 - gan_layers - 256_256 - dstep - 5 - pac - 16\n"
     ]
    },
    {
     "data": {
      "application/vnd.jupyter.widget-view+json": {
       "model_id": "17211897b22346da8440e61d58bd0f4e",
       "version_major": 2,
       "version_minor": 0
      },
      "text/plain": [
       "AE Train:   0%|          | 0/100 [00:00<?, ?it/s]"
      ]
     },
     "metadata": {},
     "output_type": "display_data"
    },
    {
     "data": {
      "application/vnd.jupyter.widget-view+json": {
       "model_id": "b4c3cb8dfd0c4bb48f353d3f85c50c5c",
       "version_major": 2,
       "version_minor": 0
      },
      "text/plain": [
       "GAN Train:   0%|          | 0/100 [00:00<?, ?it/s]"
      ]
     },
     "metadata": {},
     "output_type": "display_data"
    },
    {
     "name": "stdout",
     "output_type": "stream",
     "text": [
      "Training Complete!\n",
      "Benchmarking on MLP100\n"
     ]
    },
    {
     "data": {
      "application/vnd.jupyter.widget-view+json": {
       "model_id": "41613758cfa94774ab5c0fe7c7d75a45",
       "version_major": 2,
       "version_minor": 0
      },
      "text/plain": [
       "  0%|          | 0/100 [00:00<?, ?it/s]"
      ]
     },
     "metadata": {},
     "output_type": "display_data"
    },
    {
     "data": {
      "application/vnd.jupyter.widget-view+json": {
       "model_id": "dac5bc533361401d8e5c954a9bb431e4",
       "version_major": 2,
       "version_minor": 0
      },
      "text/plain": [
       "  0%|          | 0/100 [00:00<?, ?it/s]"
      ]
     },
     "metadata": {},
     "output_type": "display_data"
    },
    {
     "data": {
      "application/vnd.jupyter.widget-view+json": {
       "model_id": "d8c7e178ecc34391920b6a7ffeb7e13f",
       "version_major": 2,
       "version_minor": 0
      },
      "text/plain": [
       "  0%|          | 0/100 [00:00<?, ?it/s]"
      ]
     },
     "metadata": {},
     "output_type": "display_data"
    },
    {
     "name": "stdout",
     "output_type": "stream",
     "text": [
      "Benchmark Complete!\n",
      "Training CTGAN: vae - ae_dim - 256_128_64 - embed_dim - 64 - gan_layers - 256_256 - dstep - 1 - pac - 4\n"
     ]
    },
    {
     "data": {
      "application/vnd.jupyter.widget-view+json": {
       "model_id": "88c2d08e3b8342d780474855eeef5741",
       "version_major": 2,
       "version_minor": 0
      },
      "text/plain": [
       "AE Train:   0%|          | 0/100 [00:00<?, ?it/s]"
      ]
     },
     "metadata": {},
     "output_type": "display_data"
    },
    {
     "data": {
      "application/vnd.jupyter.widget-view+json": {
       "model_id": "47af3a54972c4519b198829b1ad5848f",
       "version_major": 2,
       "version_minor": 0
      },
      "text/plain": [
       "GAN Train:   0%|          | 0/100 [00:00<?, ?it/s]"
      ]
     },
     "metadata": {},
     "output_type": "display_data"
    },
    {
     "name": "stdout",
     "output_type": "stream",
     "text": [
      "Training Complete!\n",
      "Benchmarking on MLP100\n"
     ]
    },
    {
     "data": {
      "application/vnd.jupyter.widget-view+json": {
       "model_id": "3015247ba9a94a8692ae0a16f806ae5e",
       "version_major": 2,
       "version_minor": 0
      },
      "text/plain": [
       "  0%|          | 0/100 [00:00<?, ?it/s]"
      ]
     },
     "metadata": {},
     "output_type": "display_data"
    },
    {
     "data": {
      "application/vnd.jupyter.widget-view+json": {
       "model_id": "c3168042f2b54a75bf7dd7fb817b83e7",
       "version_major": 2,
       "version_minor": 0
      },
      "text/plain": [
       "  0%|          | 0/100 [00:00<?, ?it/s]"
      ]
     },
     "metadata": {},
     "output_type": "display_data"
    },
    {
     "data": {
      "application/vnd.jupyter.widget-view+json": {
       "model_id": "24cd60496a49477ebafb00ee002faba0",
       "version_major": 2,
       "version_minor": 0
      },
      "text/plain": [
       "  0%|          | 0/100 [00:00<?, ?it/s]"
      ]
     },
     "metadata": {},
     "output_type": "display_data"
    },
    {
     "name": "stdout",
     "output_type": "stream",
     "text": [
      "Benchmark Complete!\n",
      "Training CTGAN: vae - ae_dim - 256_128_64 - embed_dim - 64 - gan_layers - 256_256 - dstep - 1 - pac - 8\n"
     ]
    },
    {
     "data": {
      "application/vnd.jupyter.widget-view+json": {
       "model_id": "9d8fe8232c434feab40ca15813518cfb",
       "version_major": 2,
       "version_minor": 0
      },
      "text/plain": [
       "AE Train:   0%|          | 0/100 [00:00<?, ?it/s]"
      ]
     },
     "metadata": {},
     "output_type": "display_data"
    },
    {
     "data": {
      "application/vnd.jupyter.widget-view+json": {
       "model_id": "8a90019b8ea944b396c765cc4500cc99",
       "version_major": 2,
       "version_minor": 0
      },
      "text/plain": [
       "GAN Train:   0%|          | 0/100 [00:00<?, ?it/s]"
      ]
     },
     "metadata": {},
     "output_type": "display_data"
    },
    {
     "name": "stdout",
     "output_type": "stream",
     "text": [
      "Training Complete!\n",
      "Benchmarking on MLP100\n"
     ]
    },
    {
     "data": {
      "application/vnd.jupyter.widget-view+json": {
       "model_id": "51d4a0b5cedb48d392913bbc82aee63e",
       "version_major": 2,
       "version_minor": 0
      },
      "text/plain": [
       "  0%|          | 0/100 [00:00<?, ?it/s]"
      ]
     },
     "metadata": {},
     "output_type": "display_data"
    },
    {
     "data": {
      "application/vnd.jupyter.widget-view+json": {
       "model_id": "ec576d5ef82b4fe2b48220e35c0b2fa6",
       "version_major": 2,
       "version_minor": 0
      },
      "text/plain": [
       "  0%|          | 0/100 [00:00<?, ?it/s]"
      ]
     },
     "metadata": {},
     "output_type": "display_data"
    },
    {
     "data": {
      "application/vnd.jupyter.widget-view+json": {
       "model_id": "f502d76958c7454aa3775fd633290a26",
       "version_major": 2,
       "version_minor": 0
      },
      "text/plain": [
       "  0%|          | 0/100 [00:00<?, ?it/s]"
      ]
     },
     "metadata": {},
     "output_type": "display_data"
    },
    {
     "name": "stdout",
     "output_type": "stream",
     "text": [
      "Benchmark Complete!\n",
      "Training CTGAN: vae - ae_dim - 256_128_64 - embed_dim - 64 - gan_layers - 256_256 - dstep - 1 - pac - 16\n"
     ]
    },
    {
     "data": {
      "application/vnd.jupyter.widget-view+json": {
       "model_id": "eb24e86b657742c5b9b5a72010159c13",
       "version_major": 2,
       "version_minor": 0
      },
      "text/plain": [
       "AE Train:   0%|          | 0/100 [00:00<?, ?it/s]"
      ]
     },
     "metadata": {},
     "output_type": "display_data"
    },
    {
     "data": {
      "application/vnd.jupyter.widget-view+json": {
       "model_id": "ed24bf08457a486a9e6ed48116811f05",
       "version_major": 2,
       "version_minor": 0
      },
      "text/plain": [
       "GAN Train:   0%|          | 0/100 [00:00<?, ?it/s]"
      ]
     },
     "metadata": {},
     "output_type": "display_data"
    },
    {
     "name": "stdout",
     "output_type": "stream",
     "text": [
      "Training Complete!\n",
      "Benchmarking on MLP100\n"
     ]
    },
    {
     "data": {
      "application/vnd.jupyter.widget-view+json": {
       "model_id": "8809a16ab88745429df423313a435c9b",
       "version_major": 2,
       "version_minor": 0
      },
      "text/plain": [
       "  0%|          | 0/100 [00:00<?, ?it/s]"
      ]
     },
     "metadata": {},
     "output_type": "display_data"
    },
    {
     "data": {
      "application/vnd.jupyter.widget-view+json": {
       "model_id": "c5af351348104c69af18c7d6d0b3d553",
       "version_major": 2,
       "version_minor": 0
      },
      "text/plain": [
       "  0%|          | 0/100 [00:00<?, ?it/s]"
      ]
     },
     "metadata": {},
     "output_type": "display_data"
    },
    {
     "data": {
      "application/vnd.jupyter.widget-view+json": {
       "model_id": "225544583e954b5b88d43ae7d3d7e3d1",
       "version_major": 2,
       "version_minor": 0
      },
      "text/plain": [
       "  0%|          | 0/100 [00:00<?, ?it/s]"
      ]
     },
     "metadata": {},
     "output_type": "display_data"
    },
    {
     "name": "stdout",
     "output_type": "stream",
     "text": [
      "Benchmark Complete!\n",
      "Training CTGAN: vae - ae_dim - 256_128_64 - embed_dim - 64 - gan_layers - 256_256 - dstep - 5 - pac - 4\n"
     ]
    },
    {
     "data": {
      "application/vnd.jupyter.widget-view+json": {
       "model_id": "439044511e6c4f2ebab545830de2f559",
       "version_major": 2,
       "version_minor": 0
      },
      "text/plain": [
       "AE Train:   0%|          | 0/100 [00:00<?, ?it/s]"
      ]
     },
     "metadata": {},
     "output_type": "display_data"
    },
    {
     "data": {
      "application/vnd.jupyter.widget-view+json": {
       "model_id": "a25a2c737b4049579fc0a68fc9f879a5",
       "version_major": 2,
       "version_minor": 0
      },
      "text/plain": [
       "GAN Train:   0%|          | 0/100 [00:00<?, ?it/s]"
      ]
     },
     "metadata": {},
     "output_type": "display_data"
    },
    {
     "name": "stdout",
     "output_type": "stream",
     "text": [
      "Training Complete!\n",
      "Benchmarking on MLP100\n"
     ]
    },
    {
     "data": {
      "application/vnd.jupyter.widget-view+json": {
       "model_id": "b9540a9e27a04a999e0affe7f45f925a",
       "version_major": 2,
       "version_minor": 0
      },
      "text/plain": [
       "  0%|          | 0/100 [00:00<?, ?it/s]"
      ]
     },
     "metadata": {},
     "output_type": "display_data"
    },
    {
     "data": {
      "application/vnd.jupyter.widget-view+json": {
       "model_id": "614b1f24ae4b406a8bdba8a6676ad1ce",
       "version_major": 2,
       "version_minor": 0
      },
      "text/plain": [
       "  0%|          | 0/100 [00:00<?, ?it/s]"
      ]
     },
     "metadata": {},
     "output_type": "display_data"
    },
    {
     "data": {
      "application/vnd.jupyter.widget-view+json": {
       "model_id": "61a0ff16a9864101bbe86f23c29a0856",
       "version_major": 2,
       "version_minor": 0
      },
      "text/plain": [
       "  0%|          | 0/100 [00:00<?, ?it/s]"
      ]
     },
     "metadata": {},
     "output_type": "display_data"
    },
    {
     "name": "stdout",
     "output_type": "stream",
     "text": [
      "Benchmark Complete!\n",
      "Training CTGAN: vae - ae_dim - 256_128_64 - embed_dim - 64 - gan_layers - 256_256 - dstep - 5 - pac - 8\n"
     ]
    },
    {
     "data": {
      "application/vnd.jupyter.widget-view+json": {
       "model_id": "340d11a4724c46ffbeb6ed67a081633d",
       "version_major": 2,
       "version_minor": 0
      },
      "text/plain": [
       "AE Train:   0%|          | 0/100 [00:00<?, ?it/s]"
      ]
     },
     "metadata": {},
     "output_type": "display_data"
    },
    {
     "data": {
      "application/vnd.jupyter.widget-view+json": {
       "model_id": "d458d22a89f94bd3ad293145dc3a1e17",
       "version_major": 2,
       "version_minor": 0
      },
      "text/plain": [
       "GAN Train:   0%|          | 0/100 [00:00<?, ?it/s]"
      ]
     },
     "metadata": {},
     "output_type": "display_data"
    },
    {
     "name": "stdout",
     "output_type": "stream",
     "text": [
      "Training Complete!\n",
      "Benchmarking on MLP100\n"
     ]
    },
    {
     "data": {
      "application/vnd.jupyter.widget-view+json": {
       "model_id": "365f72a2fc8a46a39a6606960de757dc",
       "version_major": 2,
       "version_minor": 0
      },
      "text/plain": [
       "  0%|          | 0/100 [00:00<?, ?it/s]"
      ]
     },
     "metadata": {},
     "output_type": "display_data"
    },
    {
     "data": {
      "application/vnd.jupyter.widget-view+json": {
       "model_id": "6256371f7fc94863a760a437c037a830",
       "version_major": 2,
       "version_minor": 0
      },
      "text/plain": [
       "  0%|          | 0/100 [00:00<?, ?it/s]"
      ]
     },
     "metadata": {},
     "output_type": "display_data"
    },
    {
     "data": {
      "application/vnd.jupyter.widget-view+json": {
       "model_id": "90bf988a453b46d59c2685bb7f916963",
       "version_major": 2,
       "version_minor": 0
      },
      "text/plain": [
       "  0%|          | 0/100 [00:00<?, ?it/s]"
      ]
     },
     "metadata": {},
     "output_type": "display_data"
    },
    {
     "name": "stdout",
     "output_type": "stream",
     "text": [
      "Benchmark Complete!\n",
      "Training CTGAN: vae - ae_dim - 256_128_64 - embed_dim - 64 - gan_layers - 256_256 - dstep - 5 - pac - 16\n"
     ]
    },
    {
     "data": {
      "application/vnd.jupyter.widget-view+json": {
       "model_id": "86c6234b338c41e784846dd61fce15a4",
       "version_major": 2,
       "version_minor": 0
      },
      "text/plain": [
       "AE Train:   0%|          | 0/100 [00:00<?, ?it/s]"
      ]
     },
     "metadata": {},
     "output_type": "display_data"
    },
    {
     "data": {
      "application/vnd.jupyter.widget-view+json": {
       "model_id": "fef34027a6a24e26b3b8bbbcc50be5ca",
       "version_major": 2,
       "version_minor": 0
      },
      "text/plain": [
       "GAN Train:   0%|          | 0/100 [00:00<?, ?it/s]"
      ]
     },
     "metadata": {},
     "output_type": "display_data"
    },
    {
     "name": "stdout",
     "output_type": "stream",
     "text": [
      "Training Complete!\n",
      "Benchmarking on MLP100\n"
     ]
    },
    {
     "data": {
      "application/vnd.jupyter.widget-view+json": {
       "model_id": "87f39602b9f8454fa19001ff1acac428",
       "version_major": 2,
       "version_minor": 0
      },
      "text/plain": [
       "  0%|          | 0/100 [00:00<?, ?it/s]"
      ]
     },
     "metadata": {},
     "output_type": "display_data"
    },
    {
     "data": {
      "application/vnd.jupyter.widget-view+json": {
       "model_id": "edb932937a624a43998f925f126110e4",
       "version_major": 2,
       "version_minor": 0
      },
      "text/plain": [
       "  0%|          | 0/100 [00:00<?, ?it/s]"
      ]
     },
     "metadata": {},
     "output_type": "display_data"
    },
    {
     "data": {
      "application/vnd.jupyter.widget-view+json": {
       "model_id": "e36e7737c119419fa65b103d3ade76ed",
       "version_major": 2,
       "version_minor": 0
      },
      "text/plain": [
       "  0%|          | 0/100 [00:00<?, ?it/s]"
      ]
     },
     "metadata": {},
     "output_type": "display_data"
    },
    {
     "name": "stdout",
     "output_type": "stream",
     "text": [
      "Benchmark Complete!\n",
      "Training CTGAN: ee - ae_dim - 256_128_64_32 - embed_dim - 64 - gan_layers - 256_256 - dstep - 1 - pac - 4\n"
     ]
    },
    {
     "data": {
      "application/vnd.jupyter.widget-view+json": {
       "model_id": "f5489b4fc22b4581a5ce3219ae49d01c",
       "version_major": 2,
       "version_minor": 0
      },
      "text/plain": [
       "AE Train:   0%|          | 0/100 [00:00<?, ?it/s]"
      ]
     },
     "metadata": {},
     "output_type": "display_data"
    },
    {
     "data": {
      "application/vnd.jupyter.widget-view+json": {
       "model_id": "3af04253bdfb439a8bfa469300590349",
       "version_major": 2,
       "version_minor": 0
      },
      "text/plain": [
       "GAN Train:   0%|          | 0/100 [00:00<?, ?it/s]"
      ]
     },
     "metadata": {},
     "output_type": "display_data"
    },
    {
     "name": "stdout",
     "output_type": "stream",
     "text": [
      "Training Complete!\n",
      "Benchmarking on MLP100\n"
     ]
    },
    {
     "data": {
      "application/vnd.jupyter.widget-view+json": {
       "model_id": "fcbdf312ad6b469d81e08d8f1e363732",
       "version_major": 2,
       "version_minor": 0
      },
      "text/plain": [
       "  0%|          | 0/100 [00:00<?, ?it/s]"
      ]
     },
     "metadata": {},
     "output_type": "display_data"
    },
    {
     "data": {
      "application/vnd.jupyter.widget-view+json": {
       "model_id": "417944fe91a2497faadb676291902a75",
       "version_major": 2,
       "version_minor": 0
      },
      "text/plain": [
       "  0%|          | 0/100 [00:00<?, ?it/s]"
      ]
     },
     "metadata": {},
     "output_type": "display_data"
    },
    {
     "data": {
      "application/vnd.jupyter.widget-view+json": {
       "model_id": "502374c9f8c64538b14916ec43e9723e",
       "version_major": 2,
       "version_minor": 0
      },
      "text/plain": [
       "  0%|          | 0/100 [00:00<?, ?it/s]"
      ]
     },
     "metadata": {},
     "output_type": "display_data"
    },
    {
     "name": "stdout",
     "output_type": "stream",
     "text": [
      "Benchmark Complete!\n",
      "Training CTGAN: ee - ae_dim - 256_128_64_32 - embed_dim - 64 - gan_layers - 256_256 - dstep - 1 - pac - 8\n"
     ]
    },
    {
     "data": {
      "application/vnd.jupyter.widget-view+json": {
       "model_id": "f5223d191f1b4c47a9d5513b5e914058",
       "version_major": 2,
       "version_minor": 0
      },
      "text/plain": [
       "AE Train:   0%|          | 0/100 [00:00<?, ?it/s]"
      ]
     },
     "metadata": {},
     "output_type": "display_data"
    },
    {
     "data": {
      "application/vnd.jupyter.widget-view+json": {
       "model_id": "36d287fa29824876b2f7ca75b68bfed3",
       "version_major": 2,
       "version_minor": 0
      },
      "text/plain": [
       "GAN Train:   0%|          | 0/100 [00:00<?, ?it/s]"
      ]
     },
     "metadata": {},
     "output_type": "display_data"
    },
    {
     "name": "stdout",
     "output_type": "stream",
     "text": [
      "Training Complete!\n",
      "Benchmarking on MLP100\n"
     ]
    },
    {
     "data": {
      "application/vnd.jupyter.widget-view+json": {
       "model_id": "1b1d59b44f3548c2a8f12762512eb90e",
       "version_major": 2,
       "version_minor": 0
      },
      "text/plain": [
       "  0%|          | 0/100 [00:00<?, ?it/s]"
      ]
     },
     "metadata": {},
     "output_type": "display_data"
    },
    {
     "data": {
      "application/vnd.jupyter.widget-view+json": {
       "model_id": "344b184199644997a81f4384b5b09392",
       "version_major": 2,
       "version_minor": 0
      },
      "text/plain": [
       "  0%|          | 0/100 [00:00<?, ?it/s]"
      ]
     },
     "metadata": {},
     "output_type": "display_data"
    },
    {
     "data": {
      "application/vnd.jupyter.widget-view+json": {
       "model_id": "54b9c570d29544a8b9e7af3169c7a611",
       "version_major": 2,
       "version_minor": 0
      },
      "text/plain": [
       "  0%|          | 0/100 [00:00<?, ?it/s]"
      ]
     },
     "metadata": {},
     "output_type": "display_data"
    },
    {
     "name": "stdout",
     "output_type": "stream",
     "text": [
      "Benchmark Complete!\n",
      "Training CTGAN: ee - ae_dim - 256_128_64_32 - embed_dim - 64 - gan_layers - 256_256 - dstep - 1 - pac - 16\n"
     ]
    },
    {
     "data": {
      "application/vnd.jupyter.widget-view+json": {
       "model_id": "cbe937d175224874877340cac5cdbc03",
       "version_major": 2,
       "version_minor": 0
      },
      "text/plain": [
       "AE Train:   0%|          | 0/100 [00:00<?, ?it/s]"
      ]
     },
     "metadata": {},
     "output_type": "display_data"
    },
    {
     "data": {
      "application/vnd.jupyter.widget-view+json": {
       "model_id": "4eee32d33d9e4a23a3e9a8c7ac5062b7",
       "version_major": 2,
       "version_minor": 0
      },
      "text/plain": [
       "GAN Train:   0%|          | 0/100 [00:00<?, ?it/s]"
      ]
     },
     "metadata": {},
     "output_type": "display_data"
    },
    {
     "name": "stdout",
     "output_type": "stream",
     "text": [
      "Training Complete!\n",
      "Benchmarking on MLP100\n"
     ]
    },
    {
     "data": {
      "application/vnd.jupyter.widget-view+json": {
       "model_id": "da6c8e6c496e41259079e2c0b467cdf8",
       "version_major": 2,
       "version_minor": 0
      },
      "text/plain": [
       "  0%|          | 0/100 [00:00<?, ?it/s]"
      ]
     },
     "metadata": {},
     "output_type": "display_data"
    },
    {
     "data": {
      "application/vnd.jupyter.widget-view+json": {
       "model_id": "52bdb13ade624a42a784fb3165d65f2a",
       "version_major": 2,
       "version_minor": 0
      },
      "text/plain": [
       "  0%|          | 0/100 [00:00<?, ?it/s]"
      ]
     },
     "metadata": {},
     "output_type": "display_data"
    },
    {
     "data": {
      "application/vnd.jupyter.widget-view+json": {
       "model_id": "8930a7ed8ffd41a58d151b2f456d8f87",
       "version_major": 2,
       "version_minor": 0
      },
      "text/plain": [
       "  0%|          | 0/100 [00:00<?, ?it/s]"
      ]
     },
     "metadata": {},
     "output_type": "display_data"
    },
    {
     "name": "stdout",
     "output_type": "stream",
     "text": [
      "Benchmark Complete!\n",
      "Training CTGAN: ee - ae_dim - 256_128_64_32 - embed_dim - 64 - gan_layers - 256_256 - dstep - 5 - pac - 4\n"
     ]
    },
    {
     "data": {
      "application/vnd.jupyter.widget-view+json": {
       "model_id": "33b881507d4c43c9a06387eef5fc4aa6",
       "version_major": 2,
       "version_minor": 0
      },
      "text/plain": [
       "AE Train:   0%|          | 0/100 [00:00<?, ?it/s]"
      ]
     },
     "metadata": {},
     "output_type": "display_data"
    },
    {
     "data": {
      "application/vnd.jupyter.widget-view+json": {
       "model_id": "26ee737e888949b6b31ae288233e90d0",
       "version_major": 2,
       "version_minor": 0
      },
      "text/plain": [
       "GAN Train:   0%|          | 0/100 [00:00<?, ?it/s]"
      ]
     },
     "metadata": {},
     "output_type": "display_data"
    },
    {
     "name": "stdout",
     "output_type": "stream",
     "text": [
      "Training Complete!\n",
      "Benchmarking on MLP100\n"
     ]
    },
    {
     "data": {
      "application/vnd.jupyter.widget-view+json": {
       "model_id": "5877d5842a4b44aeb207452f31f63940",
       "version_major": 2,
       "version_minor": 0
      },
      "text/plain": [
       "  0%|          | 0/100 [00:00<?, ?it/s]"
      ]
     },
     "metadata": {},
     "output_type": "display_data"
    },
    {
     "data": {
      "application/vnd.jupyter.widget-view+json": {
       "model_id": "e4561b486e224b0fa812d666002cdd81",
       "version_major": 2,
       "version_minor": 0
      },
      "text/plain": [
       "  0%|          | 0/100 [00:00<?, ?it/s]"
      ]
     },
     "metadata": {},
     "output_type": "display_data"
    },
    {
     "data": {
      "application/vnd.jupyter.widget-view+json": {
       "model_id": "af19e54ac8244d6fbcb718e51413702c",
       "version_major": 2,
       "version_minor": 0
      },
      "text/plain": [
       "  0%|          | 0/100 [00:00<?, ?it/s]"
      ]
     },
     "metadata": {},
     "output_type": "display_data"
    },
    {
     "name": "stdout",
     "output_type": "stream",
     "text": [
      "Benchmark Complete!\n",
      "Training CTGAN: ee - ae_dim - 256_128_64_32 - embed_dim - 64 - gan_layers - 256_256 - dstep - 5 - pac - 8\n"
     ]
    },
    {
     "data": {
      "application/vnd.jupyter.widget-view+json": {
       "model_id": "28120ef156f244e592a81270bc839184",
       "version_major": 2,
       "version_minor": 0
      },
      "text/plain": [
       "AE Train:   0%|          | 0/100 [00:00<?, ?it/s]"
      ]
     },
     "metadata": {},
     "output_type": "display_data"
    },
    {
     "data": {
      "application/vnd.jupyter.widget-view+json": {
       "model_id": "ac6b65d204ea48dea9442b4677541567",
       "version_major": 2,
       "version_minor": 0
      },
      "text/plain": [
       "GAN Train:   0%|          | 0/100 [00:00<?, ?it/s]"
      ]
     },
     "metadata": {},
     "output_type": "display_data"
    },
    {
     "name": "stdout",
     "output_type": "stream",
     "text": [
      "Training Complete!\n",
      "Benchmarking on MLP100\n"
     ]
    },
    {
     "data": {
      "application/vnd.jupyter.widget-view+json": {
       "model_id": "bf80338fe1dd4f628ca900a12f77e2ac",
       "version_major": 2,
       "version_minor": 0
      },
      "text/plain": [
       "  0%|          | 0/100 [00:00<?, ?it/s]"
      ]
     },
     "metadata": {},
     "output_type": "display_data"
    },
    {
     "data": {
      "application/vnd.jupyter.widget-view+json": {
       "model_id": "6fee479d622c4648874908faff200a7a",
       "version_major": 2,
       "version_minor": 0
      },
      "text/plain": [
       "  0%|          | 0/100 [00:00<?, ?it/s]"
      ]
     },
     "metadata": {},
     "output_type": "display_data"
    },
    {
     "data": {
      "application/vnd.jupyter.widget-view+json": {
       "model_id": "8fcb96a224154a34a3fb6362af66eed8",
       "version_major": 2,
       "version_minor": 0
      },
      "text/plain": [
       "  0%|          | 0/100 [00:00<?, ?it/s]"
      ]
     },
     "metadata": {},
     "output_type": "display_data"
    },
    {
     "name": "stdout",
     "output_type": "stream",
     "text": [
      "Benchmark Complete!\n",
      "Training CTGAN: ee - ae_dim - 256_128_64_32 - embed_dim - 64 - gan_layers - 256_256 - dstep - 5 - pac - 16\n"
     ]
    },
    {
     "data": {
      "application/vnd.jupyter.widget-view+json": {
       "model_id": "1baa8cb2d8b64046aea6ab1c98e60bcb",
       "version_major": 2,
       "version_minor": 0
      },
      "text/plain": [
       "AE Train:   0%|          | 0/100 [00:00<?, ?it/s]"
      ]
     },
     "metadata": {},
     "output_type": "display_data"
    },
    {
     "data": {
      "application/vnd.jupyter.widget-view+json": {
       "model_id": "e3594ee75d3d47b2a0ed02a28bdb10f4",
       "version_major": 2,
       "version_minor": 0
      },
      "text/plain": [
       "GAN Train:   0%|          | 0/100 [00:00<?, ?it/s]"
      ]
     },
     "metadata": {},
     "output_type": "display_data"
    },
    {
     "name": "stdout",
     "output_type": "stream",
     "text": [
      "Training Complete!\n",
      "Benchmarking on MLP100\n"
     ]
    },
    {
     "data": {
      "application/vnd.jupyter.widget-view+json": {
       "model_id": "e9078e64aff84890b0c0aaf7ef89a986",
       "version_major": 2,
       "version_minor": 0
      },
      "text/plain": [
       "  0%|          | 0/100 [00:00<?, ?it/s]"
      ]
     },
     "metadata": {},
     "output_type": "display_data"
    },
    {
     "data": {
      "application/vnd.jupyter.widget-view+json": {
       "model_id": "0d2716145ae3471d9089d2874a2a57f8",
       "version_major": 2,
       "version_minor": 0
      },
      "text/plain": [
       "  0%|          | 0/100 [00:00<?, ?it/s]"
      ]
     },
     "metadata": {},
     "output_type": "display_data"
    },
    {
     "data": {
      "application/vnd.jupyter.widget-view+json": {
       "model_id": "287fe04ec5114934bc41d1fa3a1db350",
       "version_major": 2,
       "version_minor": 0
      },
      "text/plain": [
       "  0%|          | 0/100 [00:00<?, ?it/s]"
      ]
     },
     "metadata": {},
     "output_type": "display_data"
    },
    {
     "name": "stdout",
     "output_type": "stream",
     "text": [
      "Benchmark Complete!\n"
     ]
    }
   ],
   "source": [
    "hp = 'dstep_pac'\n",
    "dstep_pac = list(itertools.product(HP['discriminator_steps'], HP['pac']))\n",
    "\n",
    "for ae_type in AE_TYPES:\n",
    "    hp_scores = dict()\n",
    "    printable_ae_dim = max(hp_vals[ae_type]['ae_dim'].items(), key=lambda x: x[1])[0]\n",
    "    ae_dim = tuple(map(int, printable_ae_dim.split('_')))\n",
    "    embedding_dim = int(max(hp_vals[ae_type]['embedding_dim'].items(), key=lambda x: x[1])[0])\n",
    "    printable_gan_layers = max(hp_vals[ae_type]['gan_layers'].items(), key=lambda x: x[1])[0]\n",
    "    gan_layers = tuple(map(int, printable_gan_layers.split('_')))\n",
    "    for v1, v2 in dstep_pac:\n",
    "        k = '_'.join(map(str,[v1,v2]))\n",
    "        if not os.path.exists(f\"../../models/tmp/loan/ae_gan_{ae_type}_ae_dim_{printable_ae_dim}_emb_{embedding_dim}_gla_{gan_layers}_dstep_{v1}_pac_{v2}.pth\"):\n",
    "            # Train the AE_GAN\n",
    "            print(f\"Training CTGAN: {ae_type} - ae_dim - {printable_ae_dim} - embed_dim - {embedding_dim} - gan_layers - {printable_gan_layers} - dstep - {v1} - pac - {v2}\")\n",
    "            ae_gan = CTGANV2(ae_type=ae_type, ae_dim=ae_dim, embedding_dim=embedding_dim,\n",
    "                                generator_dim=gan_layers, discriminator_dim=gan_layers,\n",
    "                                discriminator_steps=v1, pac=v2)\n",
    "            ae_gan.fit(td['train'], dt=dt, is_transformed=True, target_index=target_idx)\n",
    "            print(\"Training Complete!\")\n",
    "            # save model\n",
    "            ae_gan.save(f\"../../models/tmp/loan/ae_gan_{ae_type}_ae_dim_{printable_ae_dim}_emb_{embedding_dim}_gla_{gan_layers}_dstep_{v1}_pac_{v2}.pth\")\n",
    "        else:\n",
    "            print(f\"Loading CTGAN: {ae_type} - ae_dim - {printable_ae_dim} - embed_dim - {embedding_dim} - gan_layers - {printable_gan_layers} - dstep - {v1} - pac - {v2}\")\n",
    "            ae_gan = CTGANV2().load(f\"../../models/tmp/loan/ae_gan_{ae_type}_ae_dim_{printable_ae_dim}_emb_{embedding_dim}_gla_{gan_layers}_dstep_{v1}_pac_{v2}.pth\")\n",
    "\n",
    "        best_score = torch.tensor([0.0])\n",
    "        try:\n",
    "            # Sample fake data\n",
    "            fake_data, real_data = sample_fake_loan(dt,td,ae_gan)\n",
    "            \n",
    "            print(\"Benchmarking on MLP100\")\n",
    "            # Train the MLP on fake validation data\n",
    "            for _ in range(3):\n",
    "                test_score = train_model(\n",
    "                                fake_data[0],\n",
    "                                fake_data[1],\n",
    "                                fake_data[2],\n",
    "                                fake_data[3],\n",
    "                                real_data[0],\n",
    "                                real_data[1],\n",
    "                                batch_size=256,\n",
    "                                num_epochs=100,\n",
    "                                model_type=\"classification\",\n",
    "                                verbose=False,\n",
    "                                scorer_type=\"f1_micro\",\n",
    "                            )\n",
    "                if test_score > best_score:\n",
    "                    best_score = test_score\n",
    "            print(\"Benchmark Complete!\")\n",
    "        except:\n",
    "            pass\n",
    "        hp_scores[k] = best_score.item()\n",
    "    \n",
    "    hp_vals[ae_type][hp] = hp_scores\n",
    "    with open(\"loan_opt_hp.json\", 'w') as f:\n",
    "        f.write(json.dumps(hp_vals))"
   ]
  },
  {
   "cell_type": "markdown",
   "metadata": {},
   "source": [
    "#### (5) Find the optimal GAN LR, GAN BatchSize-Epoch, AE LR, AE BatchSize-Epoch"
   ]
  },
  {
   "cell_type": "code",
   "execution_count": 6,
   "metadata": {},
   "outputs": [
    {
     "data": {
      "application/vnd.jupyter.widget-view+json": {
       "model_id": "d09427c6cbcb4122b1f0ed704c3582e2",
       "version_major": 2,
       "version_minor": 0
      },
      "text/plain": [
       "  0%|          | 0/4 [00:00<?, ?it/s]"
      ]
     },
     "metadata": {},
     "output_type": "display_data"
    },
    {
     "data": {
      "application/vnd.jupyter.widget-view+json": {
       "model_id": "671826aadab44bfcae5c6c8865fb5a01",
       "version_major": 2,
       "version_minor": 0
      },
      "text/plain": [
       "  0%|          | 0/12 [00:00<?, ?it/s]"
      ]
     },
     "metadata": {},
     "output_type": "display_data"
    },
    {
     "name": "stdout",
     "output_type": "stream",
     "text": [
      "Training CTGAN: vanilla - ae_dim - 256_128_64 - embed_dim - 64 - gan_layers - 256_256 - dstep - 1 - pac - 8 - gan_lr - 1e-05 - gan_batch_epoch - 256_150 - ae_lr - 0.0001 - ae_batch_epoch - 256_50\n"
     ]
    },
    {
     "data": {
      "application/vnd.jupyter.widget-view+json": {
       "model_id": "f3236d16722c4c84b9a4b6ed5cac4a96",
       "version_major": 2,
       "version_minor": 0
      },
      "text/plain": [
       "AE Train:   0%|          | 0/50 [00:00<?, ?it/s]"
      ]
     },
     "metadata": {},
     "output_type": "display_data"
    },
    {
     "data": {
      "application/vnd.jupyter.widget-view+json": {
       "model_id": "89e39470f00a4f64b777bff4b03f54be",
       "version_major": 2,
       "version_minor": 0
      },
      "text/plain": [
       "GAN Train:   0%|          | 0/150 [00:00<?, ?it/s]"
      ]
     },
     "metadata": {},
     "output_type": "display_data"
    },
    {
     "name": "stdout",
     "output_type": "stream",
     "text": [
      "Training Complete!\n",
      "Benchmarking on MLP100\n"
     ]
    },
    {
     "data": {
      "application/vnd.jupyter.widget-view+json": {
       "model_id": "7bc5888647214972929e218845d92140",
       "version_major": 2,
       "version_minor": 0
      },
      "text/plain": [
       "  0%|          | 0/100 [00:00<?, ?it/s]"
      ]
     },
     "metadata": {},
     "output_type": "display_data"
    },
    {
     "data": {
      "application/vnd.jupyter.widget-view+json": {
       "model_id": "2aceb19633f84e07a41c46eb490841b0",
       "version_major": 2,
       "version_minor": 0
      },
      "text/plain": [
       "  0%|          | 0/100 [00:00<?, ?it/s]"
      ]
     },
     "metadata": {},
     "output_type": "display_data"
    },
    {
     "data": {
      "application/vnd.jupyter.widget-view+json": {
       "model_id": "fb544784df8e4ff9b3636bbe286ec6fa",
       "version_major": 2,
       "version_minor": 0
      },
      "text/plain": [
       "  0%|          | 0/100 [00:00<?, ?it/s]"
      ]
     },
     "metadata": {},
     "output_type": "display_data"
    },
    {
     "name": "stdout",
     "output_type": "stream",
     "text": [
      "Benchmark Complete!\n",
      "Training CTGAN: vanilla - ae_dim - 256_128_64 - embed_dim - 64 - gan_layers - 256_256 - dstep - 1 - pac - 8 - gan_lr - 1e-05 - gan_batch_epoch - 256_150 - ae_lr - 0.0002 - ae_batch_epoch - 256_50\n"
     ]
    },
    {
     "data": {
      "application/vnd.jupyter.widget-view+json": {
       "model_id": "038f5a7e0a5946968c0661a73327e7d4",
       "version_major": 2,
       "version_minor": 0
      },
      "text/plain": [
       "AE Train:   0%|          | 0/50 [00:00<?, ?it/s]"
      ]
     },
     "metadata": {},
     "output_type": "display_data"
    },
    {
     "data": {
      "application/vnd.jupyter.widget-view+json": {
       "model_id": "db3cd47ba9cb418bb9a8dfd7b1f906a6",
       "version_major": 2,
       "version_minor": 0
      },
      "text/plain": [
       "GAN Train:   0%|          | 0/150 [00:00<?, ?it/s]"
      ]
     },
     "metadata": {},
     "output_type": "display_data"
    },
    {
     "name": "stdout",
     "output_type": "stream",
     "text": [
      "Training Complete!\n",
      "Benchmarking on MLP100\n"
     ]
    },
    {
     "data": {
      "application/vnd.jupyter.widget-view+json": {
       "model_id": "2d66eef3dc7e4ff086682c025c9adeeb",
       "version_major": 2,
       "version_minor": 0
      },
      "text/plain": [
       "  0%|          | 0/100 [00:00<?, ?it/s]"
      ]
     },
     "metadata": {},
     "output_type": "display_data"
    },
    {
     "data": {
      "application/vnd.jupyter.widget-view+json": {
       "model_id": "53dd6f4d53eb4ae08cb667109dcef0d7",
       "version_major": 2,
       "version_minor": 0
      },
      "text/plain": [
       "  0%|          | 0/100 [00:00<?, ?it/s]"
      ]
     },
     "metadata": {},
     "output_type": "display_data"
    },
    {
     "data": {
      "application/vnd.jupyter.widget-view+json": {
       "model_id": "9c2bcafc74c743d6b9f0321f54377b58",
       "version_major": 2,
       "version_minor": 0
      },
      "text/plain": [
       "  0%|          | 0/100 [00:00<?, ?it/s]"
      ]
     },
     "metadata": {},
     "output_type": "display_data"
    },
    {
     "name": "stdout",
     "output_type": "stream",
     "text": [
      "Benchmark Complete!\n",
      "Training CTGAN: vanilla - ae_dim - 256_128_64 - embed_dim - 64 - gan_layers - 256_256 - dstep - 1 - pac - 8 - gan_lr - 1e-05 - gan_batch_epoch - 256_150 - ae_lr - 0.001 - ae_batch_epoch - 256_50\n"
     ]
    },
    {
     "data": {
      "application/vnd.jupyter.widget-view+json": {
       "model_id": "6d78ae642d344be685d979a7790d5e47",
       "version_major": 2,
       "version_minor": 0
      },
      "text/plain": [
       "AE Train:   0%|          | 0/50 [00:00<?, ?it/s]"
      ]
     },
     "metadata": {},
     "output_type": "display_data"
    },
    {
     "data": {
      "application/vnd.jupyter.widget-view+json": {
       "model_id": "4021dd93932d45289ed913e335a5ed6d",
       "version_major": 2,
       "version_minor": 0
      },
      "text/plain": [
       "GAN Train:   0%|          | 0/150 [00:00<?, ?it/s]"
      ]
     },
     "metadata": {},
     "output_type": "display_data"
    },
    {
     "name": "stdout",
     "output_type": "stream",
     "text": [
      "Training Complete!\n",
      "Benchmarking on MLP100\n"
     ]
    },
    {
     "data": {
      "application/vnd.jupyter.widget-view+json": {
       "model_id": "a826aca5a7fb4b12a8780017e67b4f73",
       "version_major": 2,
       "version_minor": 0
      },
      "text/plain": [
       "  0%|          | 0/100 [00:00<?, ?it/s]"
      ]
     },
     "metadata": {},
     "output_type": "display_data"
    },
    {
     "data": {
      "application/vnd.jupyter.widget-view+json": {
       "model_id": "de3aacbd2d3e4ed186c6d6933ef1f502",
       "version_major": 2,
       "version_minor": 0
      },
      "text/plain": [
       "  0%|          | 0/100 [00:00<?, ?it/s]"
      ]
     },
     "metadata": {},
     "output_type": "display_data"
    },
    {
     "data": {
      "application/vnd.jupyter.widget-view+json": {
       "model_id": "ed77863491464eb5976d4b53360eb474",
       "version_major": 2,
       "version_minor": 0
      },
      "text/plain": [
       "  0%|          | 0/100 [00:00<?, ?it/s]"
      ]
     },
     "metadata": {},
     "output_type": "display_data"
    },
    {
     "name": "stdout",
     "output_type": "stream",
     "text": [
      "Benchmark Complete!\n",
      "Training CTGAN: vanilla - ae_dim - 256_128_64 - embed_dim - 64 - gan_layers - 256_256 - dstep - 1 - pac - 8 - gan_lr - 1e-05 - gan_batch_epoch - 512_300 - ae_lr - 0.0001 - ae_batch_epoch - 512_100\n"
     ]
    },
    {
     "data": {
      "application/vnd.jupyter.widget-view+json": {
       "model_id": "f0c0d89f9ec74f00bc9e4f3127a3018c",
       "version_major": 2,
       "version_minor": 0
      },
      "text/plain": [
       "AE Train:   0%|          | 0/100 [00:00<?, ?it/s]"
      ]
     },
     "metadata": {},
     "output_type": "display_data"
    },
    {
     "data": {
      "application/vnd.jupyter.widget-view+json": {
       "model_id": "c6c897529e7e4cfe95364459cc565b93",
       "version_major": 2,
       "version_minor": 0
      },
      "text/plain": [
       "GAN Train:   0%|          | 0/300 [00:00<?, ?it/s]"
      ]
     },
     "metadata": {},
     "output_type": "display_data"
    },
    {
     "name": "stdout",
     "output_type": "stream",
     "text": [
      "Training Complete!\n",
      "Benchmarking on MLP100\n"
     ]
    },
    {
     "data": {
      "application/vnd.jupyter.widget-view+json": {
       "model_id": "c82586747a644a18870a779a54db7c73",
       "version_major": 2,
       "version_minor": 0
      },
      "text/plain": [
       "  0%|          | 0/100 [00:00<?, ?it/s]"
      ]
     },
     "metadata": {},
     "output_type": "display_data"
    },
    {
     "data": {
      "application/vnd.jupyter.widget-view+json": {
       "model_id": "518643ca850d420e9aa52281089d3425",
       "version_major": 2,
       "version_minor": 0
      },
      "text/plain": [
       "  0%|          | 0/100 [00:00<?, ?it/s]"
      ]
     },
     "metadata": {},
     "output_type": "display_data"
    },
    {
     "data": {
      "application/vnd.jupyter.widget-view+json": {
       "model_id": "aca0f1aab81842c2bbd64625cd2c096b",
       "version_major": 2,
       "version_minor": 0
      },
      "text/plain": [
       "  0%|          | 0/100 [00:00<?, ?it/s]"
      ]
     },
     "metadata": {},
     "output_type": "display_data"
    },
    {
     "name": "stdout",
     "output_type": "stream",
     "text": [
      "Benchmark Complete!\n",
      "Training CTGAN: vanilla - ae_dim - 256_128_64 - embed_dim - 64 - gan_layers - 256_256 - dstep - 1 - pac - 8 - gan_lr - 1e-05 - gan_batch_epoch - 512_300 - ae_lr - 0.0002 - ae_batch_epoch - 512_100\n"
     ]
    },
    {
     "data": {
      "application/vnd.jupyter.widget-view+json": {
       "model_id": "52b3fcd7644a4028a47a5a003d01f0b2",
       "version_major": 2,
       "version_minor": 0
      },
      "text/plain": [
       "AE Train:   0%|          | 0/100 [00:00<?, ?it/s]"
      ]
     },
     "metadata": {},
     "output_type": "display_data"
    },
    {
     "data": {
      "application/vnd.jupyter.widget-view+json": {
       "model_id": "4795b680c7ea429980023b061173747f",
       "version_major": 2,
       "version_minor": 0
      },
      "text/plain": [
       "GAN Train:   0%|          | 0/300 [00:00<?, ?it/s]"
      ]
     },
     "metadata": {},
     "output_type": "display_data"
    },
    {
     "name": "stdout",
     "output_type": "stream",
     "text": [
      "Training Complete!\n",
      "Benchmarking on MLP100\n"
     ]
    },
    {
     "data": {
      "application/vnd.jupyter.widget-view+json": {
       "model_id": "9acf82b548d34599b2a6d7bc6e267922",
       "version_major": 2,
       "version_minor": 0
      },
      "text/plain": [
       "  0%|          | 0/100 [00:00<?, ?it/s]"
      ]
     },
     "metadata": {},
     "output_type": "display_data"
    },
    {
     "data": {
      "application/vnd.jupyter.widget-view+json": {
       "model_id": "d8b56391379e46dda3c3a1259a416e09",
       "version_major": 2,
       "version_minor": 0
      },
      "text/plain": [
       "  0%|          | 0/100 [00:00<?, ?it/s]"
      ]
     },
     "metadata": {},
     "output_type": "display_data"
    },
    {
     "data": {
      "application/vnd.jupyter.widget-view+json": {
       "model_id": "892a1bc3b98b4097b6f3ad2ed1c29329",
       "version_major": 2,
       "version_minor": 0
      },
      "text/plain": [
       "  0%|          | 0/100 [00:00<?, ?it/s]"
      ]
     },
     "metadata": {},
     "output_type": "display_data"
    },
    {
     "name": "stdout",
     "output_type": "stream",
     "text": [
      "Benchmark Complete!\n",
      "Training CTGAN: vanilla - ae_dim - 256_128_64 - embed_dim - 64 - gan_layers - 256_256 - dstep - 1 - pac - 8 - gan_lr - 1e-05 - gan_batch_epoch - 512_300 - ae_lr - 0.001 - ae_batch_epoch - 512_100\n"
     ]
    },
    {
     "data": {
      "application/vnd.jupyter.widget-view+json": {
       "model_id": "b658c09ffe5b45e9b734b46364616030",
       "version_major": 2,
       "version_minor": 0
      },
      "text/plain": [
       "AE Train:   0%|          | 0/100 [00:00<?, ?it/s]"
      ]
     },
     "metadata": {},
     "output_type": "display_data"
    },
    {
     "data": {
      "application/vnd.jupyter.widget-view+json": {
       "model_id": "99b6ec1a94684537bcde11c4e75ffbf3",
       "version_major": 2,
       "version_minor": 0
      },
      "text/plain": [
       "GAN Train:   0%|          | 0/300 [00:00<?, ?it/s]"
      ]
     },
     "metadata": {},
     "output_type": "display_data"
    },
    {
     "name": "stdout",
     "output_type": "stream",
     "text": [
      "Training Complete!\n",
      "Benchmarking on MLP100\n"
     ]
    },
    {
     "data": {
      "application/vnd.jupyter.widget-view+json": {
       "model_id": "eda83236b85e4641a5e516a478a35f76",
       "version_major": 2,
       "version_minor": 0
      },
      "text/plain": [
       "  0%|          | 0/100 [00:00<?, ?it/s]"
      ]
     },
     "metadata": {},
     "output_type": "display_data"
    },
    {
     "data": {
      "application/vnd.jupyter.widget-view+json": {
       "model_id": "7318937c96254aa88ed825462dbe41a9",
       "version_major": 2,
       "version_minor": 0
      },
      "text/plain": [
       "  0%|          | 0/100 [00:00<?, ?it/s]"
      ]
     },
     "metadata": {},
     "output_type": "display_data"
    },
    {
     "data": {
      "application/vnd.jupyter.widget-view+json": {
       "model_id": "da56579f8cc543aca88091beb681a6e0",
       "version_major": 2,
       "version_minor": 0
      },
      "text/plain": [
       "  0%|          | 0/100 [00:00<?, ?it/s]"
      ]
     },
     "metadata": {},
     "output_type": "display_data"
    },
    {
     "name": "stdout",
     "output_type": "stream",
     "text": [
      "Benchmark Complete!\n",
      "Training CTGAN: vanilla - ae_dim - 256_128_64 - embed_dim - 64 - gan_layers - 256_256 - dstep - 1 - pac - 8 - gan_lr - 0.0002 - gan_batch_epoch - 256_150 - ae_lr - 0.0001 - ae_batch_epoch - 256_50\n"
     ]
    },
    {
     "data": {
      "application/vnd.jupyter.widget-view+json": {
       "model_id": "4794146c1345406e9db30bd2c4ec7c7d",
       "version_major": 2,
       "version_minor": 0
      },
      "text/plain": [
       "AE Train:   0%|          | 0/50 [00:00<?, ?it/s]"
      ]
     },
     "metadata": {},
     "output_type": "display_data"
    },
    {
     "data": {
      "application/vnd.jupyter.widget-view+json": {
       "model_id": "91ae0e261fd6460a9c137bdb222039da",
       "version_major": 2,
       "version_minor": 0
      },
      "text/plain": [
       "GAN Train:   0%|          | 0/150 [00:00<?, ?it/s]"
      ]
     },
     "metadata": {},
     "output_type": "display_data"
    },
    {
     "name": "stdout",
     "output_type": "stream",
     "text": [
      "Training Complete!\n",
      "Benchmarking on MLP100\n"
     ]
    },
    {
     "data": {
      "application/vnd.jupyter.widget-view+json": {
       "model_id": "95be1a6dff04485f867f3efa63562800",
       "version_major": 2,
       "version_minor": 0
      },
      "text/plain": [
       "  0%|          | 0/100 [00:00<?, ?it/s]"
      ]
     },
     "metadata": {},
     "output_type": "display_data"
    },
    {
     "data": {
      "application/vnd.jupyter.widget-view+json": {
       "model_id": "ab44797c1289408ea4d54d54fa4eb8d9",
       "version_major": 2,
       "version_minor": 0
      },
      "text/plain": [
       "  0%|          | 0/100 [00:00<?, ?it/s]"
      ]
     },
     "metadata": {},
     "output_type": "display_data"
    },
    {
     "data": {
      "application/vnd.jupyter.widget-view+json": {
       "model_id": "edc10da622be4c9a94fb8e06ab2bf449",
       "version_major": 2,
       "version_minor": 0
      },
      "text/plain": [
       "  0%|          | 0/100 [00:00<?, ?it/s]"
      ]
     },
     "metadata": {},
     "output_type": "display_data"
    },
    {
     "name": "stdout",
     "output_type": "stream",
     "text": [
      "Benchmark Complete!\n",
      "Training CTGAN: vanilla - ae_dim - 256_128_64 - embed_dim - 64 - gan_layers - 256_256 - dstep - 1 - pac - 8 - gan_lr - 0.0002 - gan_batch_epoch - 256_150 - ae_lr - 0.0002 - ae_batch_epoch - 256_50\n"
     ]
    },
    {
     "data": {
      "application/vnd.jupyter.widget-view+json": {
       "model_id": "1845da1f21e14e9798ff68808ee145d1",
       "version_major": 2,
       "version_minor": 0
      },
      "text/plain": [
       "AE Train:   0%|          | 0/50 [00:00<?, ?it/s]"
      ]
     },
     "metadata": {},
     "output_type": "display_data"
    },
    {
     "data": {
      "application/vnd.jupyter.widget-view+json": {
       "model_id": "5070b38c00764d54a251965d4a0746f8",
       "version_major": 2,
       "version_minor": 0
      },
      "text/plain": [
       "GAN Train:   0%|          | 0/150 [00:00<?, ?it/s]"
      ]
     },
     "metadata": {},
     "output_type": "display_data"
    },
    {
     "name": "stdout",
     "output_type": "stream",
     "text": [
      "Training Complete!\n",
      "Benchmarking on MLP100\n"
     ]
    },
    {
     "data": {
      "application/vnd.jupyter.widget-view+json": {
       "model_id": "4fe4a4bd2dfc4d64999d1202f1c04781",
       "version_major": 2,
       "version_minor": 0
      },
      "text/plain": [
       "  0%|          | 0/100 [00:00<?, ?it/s]"
      ]
     },
     "metadata": {},
     "output_type": "display_data"
    },
    {
     "data": {
      "application/vnd.jupyter.widget-view+json": {
       "model_id": "919135fb2dd241f28b71d4e24b232ad3",
       "version_major": 2,
       "version_minor": 0
      },
      "text/plain": [
       "  0%|          | 0/100 [00:00<?, ?it/s]"
      ]
     },
     "metadata": {},
     "output_type": "display_data"
    },
    {
     "data": {
      "application/vnd.jupyter.widget-view+json": {
       "model_id": "dd50dcd24fde473386e1762dbc61ac50",
       "version_major": 2,
       "version_minor": 0
      },
      "text/plain": [
       "  0%|          | 0/100 [00:00<?, ?it/s]"
      ]
     },
     "metadata": {},
     "output_type": "display_data"
    },
    {
     "name": "stdout",
     "output_type": "stream",
     "text": [
      "Benchmark Complete!\n",
      "Training CTGAN: vanilla - ae_dim - 256_128_64 - embed_dim - 64 - gan_layers - 256_256 - dstep - 1 - pac - 8 - gan_lr - 0.0002 - gan_batch_epoch - 256_150 - ae_lr - 0.001 - ae_batch_epoch - 256_50\n"
     ]
    },
    {
     "data": {
      "application/vnd.jupyter.widget-view+json": {
       "model_id": "1e02b3f375ed4466861efb79395b2f36",
       "version_major": 2,
       "version_minor": 0
      },
      "text/plain": [
       "AE Train:   0%|          | 0/50 [00:00<?, ?it/s]"
      ]
     },
     "metadata": {},
     "output_type": "display_data"
    },
    {
     "data": {
      "application/vnd.jupyter.widget-view+json": {
       "model_id": "7599ea70e06d425aa7cfe937323e6b8d",
       "version_major": 2,
       "version_minor": 0
      },
      "text/plain": [
       "GAN Train:   0%|          | 0/150 [00:00<?, ?it/s]"
      ]
     },
     "metadata": {},
     "output_type": "display_data"
    },
    {
     "name": "stdout",
     "output_type": "stream",
     "text": [
      "Training Complete!\n",
      "Benchmarking on MLP100\n"
     ]
    },
    {
     "data": {
      "application/vnd.jupyter.widget-view+json": {
       "model_id": "ee55cf75612a4c3299728b1c404a895e",
       "version_major": 2,
       "version_minor": 0
      },
      "text/plain": [
       "  0%|          | 0/100 [00:00<?, ?it/s]"
      ]
     },
     "metadata": {},
     "output_type": "display_data"
    },
    {
     "data": {
      "application/vnd.jupyter.widget-view+json": {
       "model_id": "b2b9b7c633164e0e9511da0d76f1fc2e",
       "version_major": 2,
       "version_minor": 0
      },
      "text/plain": [
       "  0%|          | 0/100 [00:00<?, ?it/s]"
      ]
     },
     "metadata": {},
     "output_type": "display_data"
    },
    {
     "data": {
      "application/vnd.jupyter.widget-view+json": {
       "model_id": "05ca579358fc45f2ad27b9c295b257d8",
       "version_major": 2,
       "version_minor": 0
      },
      "text/plain": [
       "  0%|          | 0/100 [00:00<?, ?it/s]"
      ]
     },
     "metadata": {},
     "output_type": "display_data"
    },
    {
     "name": "stdout",
     "output_type": "stream",
     "text": [
      "Benchmark Complete!\n",
      "Training CTGAN: vanilla - ae_dim - 256_128_64 - embed_dim - 64 - gan_layers - 256_256 - dstep - 1 - pac - 8 - gan_lr - 0.0002 - gan_batch_epoch - 512_300 - ae_lr - 0.0001 - ae_batch_epoch - 512_100\n"
     ]
    },
    {
     "data": {
      "application/vnd.jupyter.widget-view+json": {
       "model_id": "384ac3257b9d4df1bb040a6e8750c2bd",
       "version_major": 2,
       "version_minor": 0
      },
      "text/plain": [
       "AE Train:   0%|          | 0/100 [00:00<?, ?it/s]"
      ]
     },
     "metadata": {},
     "output_type": "display_data"
    },
    {
     "data": {
      "application/vnd.jupyter.widget-view+json": {
       "model_id": "e41acae7136c4bf995f720c16c332e88",
       "version_major": 2,
       "version_minor": 0
      },
      "text/plain": [
       "GAN Train:   0%|          | 0/300 [00:00<?, ?it/s]"
      ]
     },
     "metadata": {},
     "output_type": "display_data"
    },
    {
     "name": "stdout",
     "output_type": "stream",
     "text": [
      "Training Complete!\n",
      "Benchmarking on MLP100\n"
     ]
    },
    {
     "data": {
      "application/vnd.jupyter.widget-view+json": {
       "model_id": "8ccf0492fca5480aa02f24f8d5f940ee",
       "version_major": 2,
       "version_minor": 0
      },
      "text/plain": [
       "  0%|          | 0/100 [00:00<?, ?it/s]"
      ]
     },
     "metadata": {},
     "output_type": "display_data"
    },
    {
     "data": {
      "application/vnd.jupyter.widget-view+json": {
       "model_id": "16a70e9b56584f579b774d5534a9411d",
       "version_major": 2,
       "version_minor": 0
      },
      "text/plain": [
       "  0%|          | 0/100 [00:00<?, ?it/s]"
      ]
     },
     "metadata": {},
     "output_type": "display_data"
    },
    {
     "data": {
      "application/vnd.jupyter.widget-view+json": {
       "model_id": "ee43f09697a444cf9c6d38ee0323599b",
       "version_major": 2,
       "version_minor": 0
      },
      "text/plain": [
       "  0%|          | 0/100 [00:00<?, ?it/s]"
      ]
     },
     "metadata": {},
     "output_type": "display_data"
    },
    {
     "name": "stdout",
     "output_type": "stream",
     "text": [
      "Benchmark Complete!\n",
      "Training CTGAN: vanilla - ae_dim - 256_128_64 - embed_dim - 64 - gan_layers - 256_256 - dstep - 1 - pac - 8 - gan_lr - 0.0002 - gan_batch_epoch - 512_300 - ae_lr - 0.0002 - ae_batch_epoch - 512_100\n"
     ]
    },
    {
     "data": {
      "application/vnd.jupyter.widget-view+json": {
       "model_id": "0e4599163e164c1382ee63361c73224f",
       "version_major": 2,
       "version_minor": 0
      },
      "text/plain": [
       "AE Train:   0%|          | 0/100 [00:00<?, ?it/s]"
      ]
     },
     "metadata": {},
     "output_type": "display_data"
    },
    {
     "data": {
      "application/vnd.jupyter.widget-view+json": {
       "model_id": "35b8dea3c5b34fcfb330e61b843e1638",
       "version_major": 2,
       "version_minor": 0
      },
      "text/plain": [
       "GAN Train:   0%|          | 0/300 [00:00<?, ?it/s]"
      ]
     },
     "metadata": {},
     "output_type": "display_data"
    },
    {
     "name": "stdout",
     "output_type": "stream",
     "text": [
      "Training Complete!\n",
      "Benchmarking on MLP100\n"
     ]
    },
    {
     "data": {
      "application/vnd.jupyter.widget-view+json": {
       "model_id": "2eceba47496342238fb7542d438d992a",
       "version_major": 2,
       "version_minor": 0
      },
      "text/plain": [
       "  0%|          | 0/100 [00:00<?, ?it/s]"
      ]
     },
     "metadata": {},
     "output_type": "display_data"
    },
    {
     "data": {
      "application/vnd.jupyter.widget-view+json": {
       "model_id": "f4007cbca5e94e389892378ad6490563",
       "version_major": 2,
       "version_minor": 0
      },
      "text/plain": [
       "  0%|          | 0/100 [00:00<?, ?it/s]"
      ]
     },
     "metadata": {},
     "output_type": "display_data"
    },
    {
     "data": {
      "application/vnd.jupyter.widget-view+json": {
       "model_id": "e3755972563940ab8f3e584b12c84add",
       "version_major": 2,
       "version_minor": 0
      },
      "text/plain": [
       "  0%|          | 0/100 [00:00<?, ?it/s]"
      ]
     },
     "metadata": {},
     "output_type": "display_data"
    },
    {
     "name": "stdout",
     "output_type": "stream",
     "text": [
      "Benchmark Complete!\n",
      "Training CTGAN: vanilla - ae_dim - 256_128_64 - embed_dim - 64 - gan_layers - 256_256 - dstep - 1 - pac - 8 - gan_lr - 0.0002 - gan_batch_epoch - 512_300 - ae_lr - 0.001 - ae_batch_epoch - 512_100\n"
     ]
    },
    {
     "data": {
      "application/vnd.jupyter.widget-view+json": {
       "model_id": "5adcfce1f6914ee88c2b71fd4c951356",
       "version_major": 2,
       "version_minor": 0
      },
      "text/plain": [
       "AE Train:   0%|          | 0/100 [00:00<?, ?it/s]"
      ]
     },
     "metadata": {},
     "output_type": "display_data"
    },
    {
     "data": {
      "application/vnd.jupyter.widget-view+json": {
       "model_id": "7a2868e58e7140399d3195140245d2cd",
       "version_major": 2,
       "version_minor": 0
      },
      "text/plain": [
       "GAN Train:   0%|          | 0/300 [00:00<?, ?it/s]"
      ]
     },
     "metadata": {},
     "output_type": "display_data"
    },
    {
     "name": "stdout",
     "output_type": "stream",
     "text": [
      "Training Complete!\n",
      "Benchmarking on MLP100\n"
     ]
    },
    {
     "data": {
      "application/vnd.jupyter.widget-view+json": {
       "model_id": "ca5fc2a09aaf4e01a40e6603ef0f508a",
       "version_major": 2,
       "version_minor": 0
      },
      "text/plain": [
       "  0%|          | 0/100 [00:00<?, ?it/s]"
      ]
     },
     "metadata": {},
     "output_type": "display_data"
    },
    {
     "data": {
      "application/vnd.jupyter.widget-view+json": {
       "model_id": "cee5b5490e564129812180acb0cba72d",
       "version_major": 2,
       "version_minor": 0
      },
      "text/plain": [
       "  0%|          | 0/100 [00:00<?, ?it/s]"
      ]
     },
     "metadata": {},
     "output_type": "display_data"
    },
    {
     "data": {
      "application/vnd.jupyter.widget-view+json": {
       "model_id": "a716aaf2520342cd9fb4ec1eed12eeee",
       "version_major": 2,
       "version_minor": 0
      },
      "text/plain": [
       "  0%|          | 0/100 [00:00<?, ?it/s]"
      ]
     },
     "metadata": {},
     "output_type": "display_data"
    },
    {
     "name": "stdout",
     "output_type": "stream",
     "text": [
      "Benchmark Complete!\n"
     ]
    },
    {
     "data": {
      "application/vnd.jupyter.widget-view+json": {
       "model_id": "5fa9fdb2ce4e481ab1bb643b50627bca",
       "version_major": 2,
       "version_minor": 0
      },
      "text/plain": [
       "  0%|          | 0/12 [00:00<?, ?it/s]"
      ]
     },
     "metadata": {},
     "output_type": "display_data"
    },
    {
     "name": "stdout",
     "output_type": "stream",
     "text": [
      "Training CTGAN: denoising - ae_dim - 256_128_64 - embed_dim - 64 - gan_layers - 256_256 - dstep - 1 - pac - 4 - gan_lr - 1e-05 - gan_batch_epoch - 256_150 - ae_lr - 0.0001 - ae_batch_epoch - 256_50\n"
     ]
    },
    {
     "data": {
      "application/vnd.jupyter.widget-view+json": {
       "model_id": "3ca74a3f398f407fac77fea68a3c02e5",
       "version_major": 2,
       "version_minor": 0
      },
      "text/plain": [
       "AE Train:   0%|          | 0/50 [00:00<?, ?it/s]"
      ]
     },
     "metadata": {},
     "output_type": "display_data"
    },
    {
     "data": {
      "application/vnd.jupyter.widget-view+json": {
       "model_id": "7c081d8520bf44a39032efa8a9305261",
       "version_major": 2,
       "version_minor": 0
      },
      "text/plain": [
       "GAN Train:   0%|          | 0/150 [00:00<?, ?it/s]"
      ]
     },
     "metadata": {},
     "output_type": "display_data"
    },
    {
     "name": "stdout",
     "output_type": "stream",
     "text": [
      "Training Complete!\n",
      "Benchmarking on MLP100\n"
     ]
    },
    {
     "data": {
      "application/vnd.jupyter.widget-view+json": {
       "model_id": "3b909af1f70e49dab97322d552e24d5c",
       "version_major": 2,
       "version_minor": 0
      },
      "text/plain": [
       "  0%|          | 0/100 [00:00<?, ?it/s]"
      ]
     },
     "metadata": {},
     "output_type": "display_data"
    },
    {
     "data": {
      "application/vnd.jupyter.widget-view+json": {
       "model_id": "e4aba6d95cb54ed18556241aa19dc8ac",
       "version_major": 2,
       "version_minor": 0
      },
      "text/plain": [
       "  0%|          | 0/100 [00:00<?, ?it/s]"
      ]
     },
     "metadata": {},
     "output_type": "display_data"
    },
    {
     "data": {
      "application/vnd.jupyter.widget-view+json": {
       "model_id": "013301f278f34adc8cd0acd229629066",
       "version_major": 2,
       "version_minor": 0
      },
      "text/plain": [
       "  0%|          | 0/100 [00:00<?, ?it/s]"
      ]
     },
     "metadata": {},
     "output_type": "display_data"
    },
    {
     "name": "stdout",
     "output_type": "stream",
     "text": [
      "Benchmark Complete!\n",
      "Training CTGAN: denoising - ae_dim - 256_128_64 - embed_dim - 64 - gan_layers - 256_256 - dstep - 1 - pac - 4 - gan_lr - 1e-05 - gan_batch_epoch - 256_150 - ae_lr - 0.0002 - ae_batch_epoch - 256_50\n"
     ]
    },
    {
     "data": {
      "application/vnd.jupyter.widget-view+json": {
       "model_id": "8786f0b2c0e94c539ed5a474b43e4dce",
       "version_major": 2,
       "version_minor": 0
      },
      "text/plain": [
       "AE Train:   0%|          | 0/50 [00:00<?, ?it/s]"
      ]
     },
     "metadata": {},
     "output_type": "display_data"
    },
    {
     "data": {
      "application/vnd.jupyter.widget-view+json": {
       "model_id": "6d827828e7974b0ca51591449f0a19fd",
       "version_major": 2,
       "version_minor": 0
      },
      "text/plain": [
       "GAN Train:   0%|          | 0/150 [00:00<?, ?it/s]"
      ]
     },
     "metadata": {},
     "output_type": "display_data"
    },
    {
     "name": "stdout",
     "output_type": "stream",
     "text": [
      "Training Complete!\n",
      "Benchmarking on MLP100\n"
     ]
    },
    {
     "data": {
      "application/vnd.jupyter.widget-view+json": {
       "model_id": "12acc8a1ef0445a19e42f0cce55a3fb1",
       "version_major": 2,
       "version_minor": 0
      },
      "text/plain": [
       "  0%|          | 0/100 [00:00<?, ?it/s]"
      ]
     },
     "metadata": {},
     "output_type": "display_data"
    },
    {
     "data": {
      "application/vnd.jupyter.widget-view+json": {
       "model_id": "ee853c8c2577494dac4ff65cea0bf4e6",
       "version_major": 2,
       "version_minor": 0
      },
      "text/plain": [
       "  0%|          | 0/100 [00:00<?, ?it/s]"
      ]
     },
     "metadata": {},
     "output_type": "display_data"
    },
    {
     "data": {
      "application/vnd.jupyter.widget-view+json": {
       "model_id": "cd409a4502de484ca42e6509d8a69125",
       "version_major": 2,
       "version_minor": 0
      },
      "text/plain": [
       "  0%|          | 0/100 [00:00<?, ?it/s]"
      ]
     },
     "metadata": {},
     "output_type": "display_data"
    },
    {
     "name": "stdout",
     "output_type": "stream",
     "text": [
      "Benchmark Complete!\n",
      "Training CTGAN: denoising - ae_dim - 256_128_64 - embed_dim - 64 - gan_layers - 256_256 - dstep - 1 - pac - 4 - gan_lr - 1e-05 - gan_batch_epoch - 256_150 - ae_lr - 0.001 - ae_batch_epoch - 256_50\n"
     ]
    },
    {
     "data": {
      "application/vnd.jupyter.widget-view+json": {
       "model_id": "1cfcedce6a3640aeb6bf7043a55e386d",
       "version_major": 2,
       "version_minor": 0
      },
      "text/plain": [
       "AE Train:   0%|          | 0/50 [00:00<?, ?it/s]"
      ]
     },
     "metadata": {},
     "output_type": "display_data"
    },
    {
     "data": {
      "application/vnd.jupyter.widget-view+json": {
       "model_id": "26cb0ab7dbf8409ab73b3fe2506ba003",
       "version_major": 2,
       "version_minor": 0
      },
      "text/plain": [
       "GAN Train:   0%|          | 0/150 [00:00<?, ?it/s]"
      ]
     },
     "metadata": {},
     "output_type": "display_data"
    },
    {
     "name": "stdout",
     "output_type": "stream",
     "text": [
      "Training Complete!\n",
      "Benchmarking on MLP100\n"
     ]
    },
    {
     "data": {
      "application/vnd.jupyter.widget-view+json": {
       "model_id": "91b21f09a9ab4ecc83310036e918980a",
       "version_major": 2,
       "version_minor": 0
      },
      "text/plain": [
       "  0%|          | 0/100 [00:00<?, ?it/s]"
      ]
     },
     "metadata": {},
     "output_type": "display_data"
    },
    {
     "data": {
      "application/vnd.jupyter.widget-view+json": {
       "model_id": "fa47e4c25969485793e579e710964f81",
       "version_major": 2,
       "version_minor": 0
      },
      "text/plain": [
       "  0%|          | 0/100 [00:00<?, ?it/s]"
      ]
     },
     "metadata": {},
     "output_type": "display_data"
    },
    {
     "data": {
      "application/vnd.jupyter.widget-view+json": {
       "model_id": "f0dec495ae544fed8d861f579cb47ef2",
       "version_major": 2,
       "version_minor": 0
      },
      "text/plain": [
       "  0%|          | 0/100 [00:00<?, ?it/s]"
      ]
     },
     "metadata": {},
     "output_type": "display_data"
    },
    {
     "name": "stdout",
     "output_type": "stream",
     "text": [
      "Benchmark Complete!\n",
      "Training CTGAN: denoising - ae_dim - 256_128_64 - embed_dim - 64 - gan_layers - 256_256 - dstep - 1 - pac - 4 - gan_lr - 1e-05 - gan_batch_epoch - 512_300 - ae_lr - 0.0001 - ae_batch_epoch - 512_100\n"
     ]
    },
    {
     "data": {
      "application/vnd.jupyter.widget-view+json": {
       "model_id": "21b66dc7c2fc4ec0ac6c27e0f96cc379",
       "version_major": 2,
       "version_minor": 0
      },
      "text/plain": [
       "AE Train:   0%|          | 0/100 [00:00<?, ?it/s]"
      ]
     },
     "metadata": {},
     "output_type": "display_data"
    },
    {
     "data": {
      "application/vnd.jupyter.widget-view+json": {
       "model_id": "3eedd76e8c8e454a9a7d4f477f1d435e",
       "version_major": 2,
       "version_minor": 0
      },
      "text/plain": [
       "GAN Train:   0%|          | 0/300 [00:00<?, ?it/s]"
      ]
     },
     "metadata": {},
     "output_type": "display_data"
    },
    {
     "name": "stdout",
     "output_type": "stream",
     "text": [
      "Training Complete!\n",
      "Benchmarking on MLP100\n"
     ]
    },
    {
     "data": {
      "application/vnd.jupyter.widget-view+json": {
       "model_id": "11d0f7b2267740069ffc90a3243a80bc",
       "version_major": 2,
       "version_minor": 0
      },
      "text/plain": [
       "  0%|          | 0/100 [00:00<?, ?it/s]"
      ]
     },
     "metadata": {},
     "output_type": "display_data"
    },
    {
     "data": {
      "application/vnd.jupyter.widget-view+json": {
       "model_id": "5b1d2f7560dc4f11a738e5ab607b2994",
       "version_major": 2,
       "version_minor": 0
      },
      "text/plain": [
       "  0%|          | 0/100 [00:00<?, ?it/s]"
      ]
     },
     "metadata": {},
     "output_type": "display_data"
    },
    {
     "data": {
      "application/vnd.jupyter.widget-view+json": {
       "model_id": "b619e8a98d6d4034a61746a3129cb3c1",
       "version_major": 2,
       "version_minor": 0
      },
      "text/plain": [
       "  0%|          | 0/100 [00:00<?, ?it/s]"
      ]
     },
     "metadata": {},
     "output_type": "display_data"
    },
    {
     "name": "stdout",
     "output_type": "stream",
     "text": [
      "Benchmark Complete!\n",
      "Training CTGAN: denoising - ae_dim - 256_128_64 - embed_dim - 64 - gan_layers - 256_256 - dstep - 1 - pac - 4 - gan_lr - 1e-05 - gan_batch_epoch - 512_300 - ae_lr - 0.0002 - ae_batch_epoch - 512_100\n"
     ]
    },
    {
     "data": {
      "application/vnd.jupyter.widget-view+json": {
       "model_id": "58e4e5724f99468dab9e19a7733ddd5f",
       "version_major": 2,
       "version_minor": 0
      },
      "text/plain": [
       "AE Train:   0%|          | 0/100 [00:00<?, ?it/s]"
      ]
     },
     "metadata": {},
     "output_type": "display_data"
    },
    {
     "data": {
      "application/vnd.jupyter.widget-view+json": {
       "model_id": "403a36e29ac04e32adb3ebf837dd1255",
       "version_major": 2,
       "version_minor": 0
      },
      "text/plain": [
       "GAN Train:   0%|          | 0/300 [00:00<?, ?it/s]"
      ]
     },
     "metadata": {},
     "output_type": "display_data"
    },
    {
     "name": "stdout",
     "output_type": "stream",
     "text": [
      "Training Complete!\n",
      "Benchmarking on MLP100\n"
     ]
    },
    {
     "data": {
      "application/vnd.jupyter.widget-view+json": {
       "model_id": "89f2c36e5ec8441bb48cbe2810679ce7",
       "version_major": 2,
       "version_minor": 0
      },
      "text/plain": [
       "  0%|          | 0/100 [00:00<?, ?it/s]"
      ]
     },
     "metadata": {},
     "output_type": "display_data"
    },
    {
     "data": {
      "application/vnd.jupyter.widget-view+json": {
       "model_id": "fb049d93633e4830b62bc353a6f2c248",
       "version_major": 2,
       "version_minor": 0
      },
      "text/plain": [
       "  0%|          | 0/100 [00:00<?, ?it/s]"
      ]
     },
     "metadata": {},
     "output_type": "display_data"
    },
    {
     "data": {
      "application/vnd.jupyter.widget-view+json": {
       "model_id": "fa9d876f3a2f47ccbc5b804d9150993c",
       "version_major": 2,
       "version_minor": 0
      },
      "text/plain": [
       "  0%|          | 0/100 [00:00<?, ?it/s]"
      ]
     },
     "metadata": {},
     "output_type": "display_data"
    },
    {
     "name": "stdout",
     "output_type": "stream",
     "text": [
      "Benchmark Complete!\n",
      "Training CTGAN: denoising - ae_dim - 256_128_64 - embed_dim - 64 - gan_layers - 256_256 - dstep - 1 - pac - 4 - gan_lr - 1e-05 - gan_batch_epoch - 512_300 - ae_lr - 0.001 - ae_batch_epoch - 512_100\n"
     ]
    },
    {
     "data": {
      "application/vnd.jupyter.widget-view+json": {
       "model_id": "0d2c42810c884b51b6b6e8cd880ad864",
       "version_major": 2,
       "version_minor": 0
      },
      "text/plain": [
       "AE Train:   0%|          | 0/100 [00:00<?, ?it/s]"
      ]
     },
     "metadata": {},
     "output_type": "display_data"
    },
    {
     "data": {
      "application/vnd.jupyter.widget-view+json": {
       "model_id": "a91961973e104af396efcb379f43d4a1",
       "version_major": 2,
       "version_minor": 0
      },
      "text/plain": [
       "GAN Train:   0%|          | 0/300 [00:00<?, ?it/s]"
      ]
     },
     "metadata": {},
     "output_type": "display_data"
    },
    {
     "name": "stdout",
     "output_type": "stream",
     "text": [
      "Training Complete!\n",
      "Benchmarking on MLP100\n"
     ]
    },
    {
     "data": {
      "application/vnd.jupyter.widget-view+json": {
       "model_id": "65cad945b19b4b5b9801fcaaa6775f08",
       "version_major": 2,
       "version_minor": 0
      },
      "text/plain": [
       "  0%|          | 0/100 [00:00<?, ?it/s]"
      ]
     },
     "metadata": {},
     "output_type": "display_data"
    },
    {
     "data": {
      "application/vnd.jupyter.widget-view+json": {
       "model_id": "a60f227f82344d11a3be386ea2fb9337",
       "version_major": 2,
       "version_minor": 0
      },
      "text/plain": [
       "  0%|          | 0/100 [00:00<?, ?it/s]"
      ]
     },
     "metadata": {},
     "output_type": "display_data"
    },
    {
     "data": {
      "application/vnd.jupyter.widget-view+json": {
       "model_id": "48faf46db7444e84a57b49578919da43",
       "version_major": 2,
       "version_minor": 0
      },
      "text/plain": [
       "  0%|          | 0/100 [00:00<?, ?it/s]"
      ]
     },
     "metadata": {},
     "output_type": "display_data"
    },
    {
     "name": "stdout",
     "output_type": "stream",
     "text": [
      "Benchmark Complete!\n",
      "Training CTGAN: denoising - ae_dim - 256_128_64 - embed_dim - 64 - gan_layers - 256_256 - dstep - 1 - pac - 4 - gan_lr - 0.0002 - gan_batch_epoch - 256_150 - ae_lr - 0.0001 - ae_batch_epoch - 256_50\n"
     ]
    },
    {
     "data": {
      "application/vnd.jupyter.widget-view+json": {
       "model_id": "11c65d5809454316a9fc43511549d9c3",
       "version_major": 2,
       "version_minor": 0
      },
      "text/plain": [
       "AE Train:   0%|          | 0/50 [00:00<?, ?it/s]"
      ]
     },
     "metadata": {},
     "output_type": "display_data"
    },
    {
     "data": {
      "application/vnd.jupyter.widget-view+json": {
       "model_id": "e09753c4915e4e2582257c58c95ebd02",
       "version_major": 2,
       "version_minor": 0
      },
      "text/plain": [
       "GAN Train:   0%|          | 0/150 [00:00<?, ?it/s]"
      ]
     },
     "metadata": {},
     "output_type": "display_data"
    },
    {
     "name": "stdout",
     "output_type": "stream",
     "text": [
      "Training Complete!\n",
      "Benchmarking on MLP100\n"
     ]
    },
    {
     "data": {
      "application/vnd.jupyter.widget-view+json": {
       "model_id": "a130c20bfbcd4cc2b49bb6b749c77080",
       "version_major": 2,
       "version_minor": 0
      },
      "text/plain": [
       "  0%|          | 0/100 [00:00<?, ?it/s]"
      ]
     },
     "metadata": {},
     "output_type": "display_data"
    },
    {
     "data": {
      "application/vnd.jupyter.widget-view+json": {
       "model_id": "e5015a5225fa4e67be3c729d67c13448",
       "version_major": 2,
       "version_minor": 0
      },
      "text/plain": [
       "  0%|          | 0/100 [00:00<?, ?it/s]"
      ]
     },
     "metadata": {},
     "output_type": "display_data"
    },
    {
     "data": {
      "application/vnd.jupyter.widget-view+json": {
       "model_id": "734a0daba5b743d6b98af22884cb54a8",
       "version_major": 2,
       "version_minor": 0
      },
      "text/plain": [
       "  0%|          | 0/100 [00:00<?, ?it/s]"
      ]
     },
     "metadata": {},
     "output_type": "display_data"
    },
    {
     "name": "stdout",
     "output_type": "stream",
     "text": [
      "Benchmark Complete!\n",
      "Training CTGAN: denoising - ae_dim - 256_128_64 - embed_dim - 64 - gan_layers - 256_256 - dstep - 1 - pac - 4 - gan_lr - 0.0002 - gan_batch_epoch - 256_150 - ae_lr - 0.0002 - ae_batch_epoch - 256_50\n"
     ]
    },
    {
     "data": {
      "application/vnd.jupyter.widget-view+json": {
       "model_id": "809bc3bc1a4340c1a40c2f4c6682724c",
       "version_major": 2,
       "version_minor": 0
      },
      "text/plain": [
       "AE Train:   0%|          | 0/50 [00:00<?, ?it/s]"
      ]
     },
     "metadata": {},
     "output_type": "display_data"
    },
    {
     "data": {
      "application/vnd.jupyter.widget-view+json": {
       "model_id": "04d4d3f5b90049deaa86b83ebd8ce7e3",
       "version_major": 2,
       "version_minor": 0
      },
      "text/plain": [
       "GAN Train:   0%|          | 0/150 [00:00<?, ?it/s]"
      ]
     },
     "metadata": {},
     "output_type": "display_data"
    },
    {
     "name": "stdout",
     "output_type": "stream",
     "text": [
      "Training Complete!\n",
      "Benchmarking on MLP100\n"
     ]
    },
    {
     "data": {
      "application/vnd.jupyter.widget-view+json": {
       "model_id": "bed1a23b127e4573a58bd4c1a625819d",
       "version_major": 2,
       "version_minor": 0
      },
      "text/plain": [
       "  0%|          | 0/100 [00:00<?, ?it/s]"
      ]
     },
     "metadata": {},
     "output_type": "display_data"
    },
    {
     "data": {
      "application/vnd.jupyter.widget-view+json": {
       "model_id": "fecddd92e6d44d908019e33360f3bd9a",
       "version_major": 2,
       "version_minor": 0
      },
      "text/plain": [
       "  0%|          | 0/100 [00:00<?, ?it/s]"
      ]
     },
     "metadata": {},
     "output_type": "display_data"
    },
    {
     "data": {
      "application/vnd.jupyter.widget-view+json": {
       "model_id": "513dd0cc98ef48a69d84a63a2dcada0c",
       "version_major": 2,
       "version_minor": 0
      },
      "text/plain": [
       "  0%|          | 0/100 [00:00<?, ?it/s]"
      ]
     },
     "metadata": {},
     "output_type": "display_data"
    },
    {
     "name": "stdout",
     "output_type": "stream",
     "text": [
      "Benchmark Complete!\n",
      "Training CTGAN: denoising - ae_dim - 256_128_64 - embed_dim - 64 - gan_layers - 256_256 - dstep - 1 - pac - 4 - gan_lr - 0.0002 - gan_batch_epoch - 256_150 - ae_lr - 0.001 - ae_batch_epoch - 256_50\n"
     ]
    },
    {
     "data": {
      "application/vnd.jupyter.widget-view+json": {
       "model_id": "db2ebf8a1c064fbfaff08746dd38224b",
       "version_major": 2,
       "version_minor": 0
      },
      "text/plain": [
       "AE Train:   0%|          | 0/50 [00:00<?, ?it/s]"
      ]
     },
     "metadata": {},
     "output_type": "display_data"
    },
    {
     "data": {
      "application/vnd.jupyter.widget-view+json": {
       "model_id": "0cf1fd01318e4ada94172089cd573413",
       "version_major": 2,
       "version_minor": 0
      },
      "text/plain": [
       "GAN Train:   0%|          | 0/150 [00:00<?, ?it/s]"
      ]
     },
     "metadata": {},
     "output_type": "display_data"
    },
    {
     "name": "stdout",
     "output_type": "stream",
     "text": [
      "Training Complete!\n",
      "Benchmarking on MLP100\n"
     ]
    },
    {
     "data": {
      "application/vnd.jupyter.widget-view+json": {
       "model_id": "2da94d69f48046e78cad3e2c598cc891",
       "version_major": 2,
       "version_minor": 0
      },
      "text/plain": [
       "  0%|          | 0/100 [00:00<?, ?it/s]"
      ]
     },
     "metadata": {},
     "output_type": "display_data"
    },
    {
     "data": {
      "application/vnd.jupyter.widget-view+json": {
       "model_id": "e943e83cc532479d909f9d0d395d5893",
       "version_major": 2,
       "version_minor": 0
      },
      "text/plain": [
       "  0%|          | 0/100 [00:00<?, ?it/s]"
      ]
     },
     "metadata": {},
     "output_type": "display_data"
    },
    {
     "data": {
      "application/vnd.jupyter.widget-view+json": {
       "model_id": "cdc05369d0db4a30b9c05a3e0b4d5fc3",
       "version_major": 2,
       "version_minor": 0
      },
      "text/plain": [
       "  0%|          | 0/100 [00:00<?, ?it/s]"
      ]
     },
     "metadata": {},
     "output_type": "display_data"
    },
    {
     "name": "stdout",
     "output_type": "stream",
     "text": [
      "Benchmark Complete!\n",
      "Training CTGAN: denoising - ae_dim - 256_128_64 - embed_dim - 64 - gan_layers - 256_256 - dstep - 1 - pac - 4 - gan_lr - 0.0002 - gan_batch_epoch - 512_300 - ae_lr - 0.0001 - ae_batch_epoch - 512_100\n"
     ]
    },
    {
     "data": {
      "application/vnd.jupyter.widget-view+json": {
       "model_id": "667fc37b23b64ea0aa9922b12f6b85a7",
       "version_major": 2,
       "version_minor": 0
      },
      "text/plain": [
       "AE Train:   0%|          | 0/100 [00:00<?, ?it/s]"
      ]
     },
     "metadata": {},
     "output_type": "display_data"
    },
    {
     "data": {
      "application/vnd.jupyter.widget-view+json": {
       "model_id": "f3cde1febbed43a1888339ee335caf37",
       "version_major": 2,
       "version_minor": 0
      },
      "text/plain": [
       "GAN Train:   0%|          | 0/300 [00:00<?, ?it/s]"
      ]
     },
     "metadata": {},
     "output_type": "display_data"
    },
    {
     "name": "stdout",
     "output_type": "stream",
     "text": [
      "Training Complete!\n",
      "Benchmarking on MLP100\n"
     ]
    },
    {
     "data": {
      "application/vnd.jupyter.widget-view+json": {
       "model_id": "6b30096ca9c449e1adf03bf2aea20769",
       "version_major": 2,
       "version_minor": 0
      },
      "text/plain": [
       "  0%|          | 0/100 [00:00<?, ?it/s]"
      ]
     },
     "metadata": {},
     "output_type": "display_data"
    },
    {
     "data": {
      "application/vnd.jupyter.widget-view+json": {
       "model_id": "f4ca7dcdcf794f3b9cd1d254c4389e7e",
       "version_major": 2,
       "version_minor": 0
      },
      "text/plain": [
       "  0%|          | 0/100 [00:00<?, ?it/s]"
      ]
     },
     "metadata": {},
     "output_type": "display_data"
    },
    {
     "data": {
      "application/vnd.jupyter.widget-view+json": {
       "model_id": "5a694e63584b4c869edeb80c9cb1b3f2",
       "version_major": 2,
       "version_minor": 0
      },
      "text/plain": [
       "  0%|          | 0/100 [00:00<?, ?it/s]"
      ]
     },
     "metadata": {},
     "output_type": "display_data"
    },
    {
     "name": "stdout",
     "output_type": "stream",
     "text": [
      "Benchmark Complete!\n",
      "Training CTGAN: denoising - ae_dim - 256_128_64 - embed_dim - 64 - gan_layers - 256_256 - dstep - 1 - pac - 4 - gan_lr - 0.0002 - gan_batch_epoch - 512_300 - ae_lr - 0.0002 - ae_batch_epoch - 512_100\n"
     ]
    },
    {
     "data": {
      "application/vnd.jupyter.widget-view+json": {
       "model_id": "57c1d00bb67a41b990518f9ece921360",
       "version_major": 2,
       "version_minor": 0
      },
      "text/plain": [
       "AE Train:   0%|          | 0/100 [00:00<?, ?it/s]"
      ]
     },
     "metadata": {},
     "output_type": "display_data"
    },
    {
     "data": {
      "application/vnd.jupyter.widget-view+json": {
       "model_id": "1b437dcfe55748289a786280e1ec02eb",
       "version_major": 2,
       "version_minor": 0
      },
      "text/plain": [
       "GAN Train:   0%|          | 0/300 [00:00<?, ?it/s]"
      ]
     },
     "metadata": {},
     "output_type": "display_data"
    },
    {
     "name": "stdout",
     "output_type": "stream",
     "text": [
      "Training Complete!\n",
      "Benchmarking on MLP100\n"
     ]
    },
    {
     "data": {
      "application/vnd.jupyter.widget-view+json": {
       "model_id": "b4e1a1932d8d4d33919b6f4442916af3",
       "version_major": 2,
       "version_minor": 0
      },
      "text/plain": [
       "  0%|          | 0/100 [00:00<?, ?it/s]"
      ]
     },
     "metadata": {},
     "output_type": "display_data"
    },
    {
     "data": {
      "application/vnd.jupyter.widget-view+json": {
       "model_id": "ebcc43f6779f49e29f200aac83c6eb41",
       "version_major": 2,
       "version_minor": 0
      },
      "text/plain": [
       "  0%|          | 0/100 [00:00<?, ?it/s]"
      ]
     },
     "metadata": {},
     "output_type": "display_data"
    },
    {
     "data": {
      "application/vnd.jupyter.widget-view+json": {
       "model_id": "5b6229b647bd4cdcb873ff42859fbe76",
       "version_major": 2,
       "version_minor": 0
      },
      "text/plain": [
       "  0%|          | 0/100 [00:00<?, ?it/s]"
      ]
     },
     "metadata": {},
     "output_type": "display_data"
    },
    {
     "name": "stdout",
     "output_type": "stream",
     "text": [
      "Benchmark Complete!\n",
      "Training CTGAN: denoising - ae_dim - 256_128_64 - embed_dim - 64 - gan_layers - 256_256 - dstep - 1 - pac - 4 - gan_lr - 0.0002 - gan_batch_epoch - 512_300 - ae_lr - 0.001 - ae_batch_epoch - 512_100\n"
     ]
    },
    {
     "data": {
      "application/vnd.jupyter.widget-view+json": {
       "model_id": "690a6b60811c46a6b2e7167a295ae57a",
       "version_major": 2,
       "version_minor": 0
      },
      "text/plain": [
       "AE Train:   0%|          | 0/100 [00:00<?, ?it/s]"
      ]
     },
     "metadata": {},
     "output_type": "display_data"
    },
    {
     "data": {
      "application/vnd.jupyter.widget-view+json": {
       "model_id": "7c12045ca9bc4a36b503473e443a896c",
       "version_major": 2,
       "version_minor": 0
      },
      "text/plain": [
       "GAN Train:   0%|          | 0/300 [00:00<?, ?it/s]"
      ]
     },
     "metadata": {},
     "output_type": "display_data"
    },
    {
     "name": "stdout",
     "output_type": "stream",
     "text": [
      "Training Complete!\n",
      "Benchmarking on MLP100\n"
     ]
    },
    {
     "data": {
      "application/vnd.jupyter.widget-view+json": {
       "model_id": "fb27e1a7debd4b44bc8b77ca3727746d",
       "version_major": 2,
       "version_minor": 0
      },
      "text/plain": [
       "  0%|          | 0/100 [00:00<?, ?it/s]"
      ]
     },
     "metadata": {},
     "output_type": "display_data"
    },
    {
     "data": {
      "application/vnd.jupyter.widget-view+json": {
       "model_id": "871e8f9171d442189a78fe00154cb60c",
       "version_major": 2,
       "version_minor": 0
      },
      "text/plain": [
       "  0%|          | 0/100 [00:00<?, ?it/s]"
      ]
     },
     "metadata": {},
     "output_type": "display_data"
    },
    {
     "data": {
      "application/vnd.jupyter.widget-view+json": {
       "model_id": "109a6b553e334fc4b4d7db2b2cb45d99",
       "version_major": 2,
       "version_minor": 0
      },
      "text/plain": [
       "  0%|          | 0/100 [00:00<?, ?it/s]"
      ]
     },
     "metadata": {},
     "output_type": "display_data"
    },
    {
     "name": "stdout",
     "output_type": "stream",
     "text": [
      "Benchmark Complete!\n"
     ]
    },
    {
     "data": {
      "application/vnd.jupyter.widget-view+json": {
       "model_id": "1784d3e8614a49398134156d2adf4d35",
       "version_major": 2,
       "version_minor": 0
      },
      "text/plain": [
       "  0%|          | 0/12 [00:00<?, ?it/s]"
      ]
     },
     "metadata": {},
     "output_type": "display_data"
    },
    {
     "name": "stdout",
     "output_type": "stream",
     "text": [
      "Training CTGAN: vae - ae_dim - 256_128_64 - embed_dim - 64 - gan_layers - 256_256 - dstep - 1 - pac - 4 - gan_lr - 1e-05 - gan_batch_epoch - 256_150 - ae_lr - 0.0001 - ae_batch_epoch - 256_50\n"
     ]
    },
    {
     "data": {
      "application/vnd.jupyter.widget-view+json": {
       "model_id": "be45069f04be447f8ba5dc8c124a18bd",
       "version_major": 2,
       "version_minor": 0
      },
      "text/plain": [
       "AE Train:   0%|          | 0/50 [00:00<?, ?it/s]"
      ]
     },
     "metadata": {},
     "output_type": "display_data"
    },
    {
     "data": {
      "application/vnd.jupyter.widget-view+json": {
       "model_id": "c9d0df92b8b3439f964cd84d6c001f19",
       "version_major": 2,
       "version_minor": 0
      },
      "text/plain": [
       "GAN Train:   0%|          | 0/150 [00:00<?, ?it/s]"
      ]
     },
     "metadata": {},
     "output_type": "display_data"
    },
    {
     "name": "stdout",
     "output_type": "stream",
     "text": [
      "Training Complete!\n",
      "Benchmarking on MLP100\n"
     ]
    },
    {
     "data": {
      "application/vnd.jupyter.widget-view+json": {
       "model_id": "e090361ac3114f69ba3331bb9d1b1964",
       "version_major": 2,
       "version_minor": 0
      },
      "text/plain": [
       "  0%|          | 0/100 [00:00<?, ?it/s]"
      ]
     },
     "metadata": {},
     "output_type": "display_data"
    },
    {
     "data": {
      "application/vnd.jupyter.widget-view+json": {
       "model_id": "644fc28361b945ce937ab3305df52c10",
       "version_major": 2,
       "version_minor": 0
      },
      "text/plain": [
       "  0%|          | 0/100 [00:00<?, ?it/s]"
      ]
     },
     "metadata": {},
     "output_type": "display_data"
    },
    {
     "data": {
      "application/vnd.jupyter.widget-view+json": {
       "model_id": "98e5f22a0e9d49abab4773d2112aee1b",
       "version_major": 2,
       "version_minor": 0
      },
      "text/plain": [
       "  0%|          | 0/100 [00:00<?, ?it/s]"
      ]
     },
     "metadata": {},
     "output_type": "display_data"
    },
    {
     "name": "stdout",
     "output_type": "stream",
     "text": [
      "Benchmark Complete!\n",
      "Training CTGAN: vae - ae_dim - 256_128_64 - embed_dim - 64 - gan_layers - 256_256 - dstep - 1 - pac - 4 - gan_lr - 1e-05 - gan_batch_epoch - 256_150 - ae_lr - 0.0002 - ae_batch_epoch - 256_50\n"
     ]
    },
    {
     "data": {
      "application/vnd.jupyter.widget-view+json": {
       "model_id": "89e1c8557b6b41beb0c2c55432cc8aac",
       "version_major": 2,
       "version_minor": 0
      },
      "text/plain": [
       "AE Train:   0%|          | 0/50 [00:00<?, ?it/s]"
      ]
     },
     "metadata": {},
     "output_type": "display_data"
    },
    {
     "data": {
      "application/vnd.jupyter.widget-view+json": {
       "model_id": "2c5e69d9964041a4b97b0c6731b8ddbb",
       "version_major": 2,
       "version_minor": 0
      },
      "text/plain": [
       "GAN Train:   0%|          | 0/150 [00:00<?, ?it/s]"
      ]
     },
     "metadata": {},
     "output_type": "display_data"
    },
    {
     "name": "stdout",
     "output_type": "stream",
     "text": [
      "Training Complete!\n",
      "Benchmarking on MLP100\n"
     ]
    },
    {
     "data": {
      "application/vnd.jupyter.widget-view+json": {
       "model_id": "c0524d4dd7f8461e9ad7da49ee618059",
       "version_major": 2,
       "version_minor": 0
      },
      "text/plain": [
       "  0%|          | 0/100 [00:00<?, ?it/s]"
      ]
     },
     "metadata": {},
     "output_type": "display_data"
    },
    {
     "data": {
      "application/vnd.jupyter.widget-view+json": {
       "model_id": "59fa0d573c85469780ed5111f7ab8364",
       "version_major": 2,
       "version_minor": 0
      },
      "text/plain": [
       "  0%|          | 0/100 [00:00<?, ?it/s]"
      ]
     },
     "metadata": {},
     "output_type": "display_data"
    },
    {
     "data": {
      "application/vnd.jupyter.widget-view+json": {
       "model_id": "fffe9b5de0f14ee394138b5c9ecba615",
       "version_major": 2,
       "version_minor": 0
      },
      "text/plain": [
       "  0%|          | 0/100 [00:00<?, ?it/s]"
      ]
     },
     "metadata": {},
     "output_type": "display_data"
    },
    {
     "name": "stdout",
     "output_type": "stream",
     "text": [
      "Benchmark Complete!\n",
      "Training CTGAN: vae - ae_dim - 256_128_64 - embed_dim - 64 - gan_layers - 256_256 - dstep - 1 - pac - 4 - gan_lr - 1e-05 - gan_batch_epoch - 256_150 - ae_lr - 0.001 - ae_batch_epoch - 256_50\n"
     ]
    },
    {
     "data": {
      "application/vnd.jupyter.widget-view+json": {
       "model_id": "1f5b08729f024a6eb5695a1e022d2b19",
       "version_major": 2,
       "version_minor": 0
      },
      "text/plain": [
       "AE Train:   0%|          | 0/50 [00:00<?, ?it/s]"
      ]
     },
     "metadata": {},
     "output_type": "display_data"
    },
    {
     "data": {
      "application/vnd.jupyter.widget-view+json": {
       "model_id": "b3ee11e96cad4c6bbc4c24a60bb70b99",
       "version_major": 2,
       "version_minor": 0
      },
      "text/plain": [
       "GAN Train:   0%|          | 0/150 [00:00<?, ?it/s]"
      ]
     },
     "metadata": {},
     "output_type": "display_data"
    },
    {
     "name": "stdout",
     "output_type": "stream",
     "text": [
      "Training Complete!\n",
      "Benchmarking on MLP100\n"
     ]
    },
    {
     "data": {
      "application/vnd.jupyter.widget-view+json": {
       "model_id": "3a78a2f76f4f4e34a6d888c7b1301758",
       "version_major": 2,
       "version_minor": 0
      },
      "text/plain": [
       "  0%|          | 0/100 [00:00<?, ?it/s]"
      ]
     },
     "metadata": {},
     "output_type": "display_data"
    },
    {
     "data": {
      "application/vnd.jupyter.widget-view+json": {
       "model_id": "d268717e7bff4da188e828393cee249d",
       "version_major": 2,
       "version_minor": 0
      },
      "text/plain": [
       "  0%|          | 0/100 [00:00<?, ?it/s]"
      ]
     },
     "metadata": {},
     "output_type": "display_data"
    },
    {
     "data": {
      "application/vnd.jupyter.widget-view+json": {
       "model_id": "66b018ddff9e405eb9dc6fdf1b4bb06c",
       "version_major": 2,
       "version_minor": 0
      },
      "text/plain": [
       "  0%|          | 0/100 [00:00<?, ?it/s]"
      ]
     },
     "metadata": {},
     "output_type": "display_data"
    },
    {
     "name": "stdout",
     "output_type": "stream",
     "text": [
      "Benchmark Complete!\n",
      "Training CTGAN: vae - ae_dim - 256_128_64 - embed_dim - 64 - gan_layers - 256_256 - dstep - 1 - pac - 4 - gan_lr - 1e-05 - gan_batch_epoch - 512_300 - ae_lr - 0.0001 - ae_batch_epoch - 512_100\n"
     ]
    },
    {
     "data": {
      "application/vnd.jupyter.widget-view+json": {
       "model_id": "53f4e14ba8ad4670ae06b5cdca3d8d5f",
       "version_major": 2,
       "version_minor": 0
      },
      "text/plain": [
       "AE Train:   0%|          | 0/100 [00:00<?, ?it/s]"
      ]
     },
     "metadata": {},
     "output_type": "display_data"
    },
    {
     "data": {
      "application/vnd.jupyter.widget-view+json": {
       "model_id": "9b80971c780c4f199a12fc1ddccd7243",
       "version_major": 2,
       "version_minor": 0
      },
      "text/plain": [
       "GAN Train:   0%|          | 0/300 [00:00<?, ?it/s]"
      ]
     },
     "metadata": {},
     "output_type": "display_data"
    },
    {
     "name": "stdout",
     "output_type": "stream",
     "text": [
      "Training Complete!\n",
      "Benchmarking on MLP100\n"
     ]
    },
    {
     "data": {
      "application/vnd.jupyter.widget-view+json": {
       "model_id": "e876e0a9b7ca487cb341f21da1ae4bfd",
       "version_major": 2,
       "version_minor": 0
      },
      "text/plain": [
       "  0%|          | 0/100 [00:00<?, ?it/s]"
      ]
     },
     "metadata": {},
     "output_type": "display_data"
    },
    {
     "data": {
      "application/vnd.jupyter.widget-view+json": {
       "model_id": "33f645fe5888496c81edcfe653663f22",
       "version_major": 2,
       "version_minor": 0
      },
      "text/plain": [
       "  0%|          | 0/100 [00:00<?, ?it/s]"
      ]
     },
     "metadata": {},
     "output_type": "display_data"
    },
    {
     "data": {
      "application/vnd.jupyter.widget-view+json": {
       "model_id": "950e45ba9bf24594b6d21d1be45ec7e1",
       "version_major": 2,
       "version_minor": 0
      },
      "text/plain": [
       "  0%|          | 0/100 [00:00<?, ?it/s]"
      ]
     },
     "metadata": {},
     "output_type": "display_data"
    },
    {
     "name": "stdout",
     "output_type": "stream",
     "text": [
      "Benchmark Complete!\n",
      "Training CTGAN: vae - ae_dim - 256_128_64 - embed_dim - 64 - gan_layers - 256_256 - dstep - 1 - pac - 4 - gan_lr - 1e-05 - gan_batch_epoch - 512_300 - ae_lr - 0.0002 - ae_batch_epoch - 512_100\n"
     ]
    },
    {
     "data": {
      "application/vnd.jupyter.widget-view+json": {
       "model_id": "ff80a5891b634cd8be18bff7cf793fdd",
       "version_major": 2,
       "version_minor": 0
      },
      "text/plain": [
       "AE Train:   0%|          | 0/100 [00:00<?, ?it/s]"
      ]
     },
     "metadata": {},
     "output_type": "display_data"
    },
    {
     "data": {
      "application/vnd.jupyter.widget-view+json": {
       "model_id": "05e5179bfa684b4ea018e541b630c5cd",
       "version_major": 2,
       "version_minor": 0
      },
      "text/plain": [
       "GAN Train:   0%|          | 0/300 [00:00<?, ?it/s]"
      ]
     },
     "metadata": {},
     "output_type": "display_data"
    },
    {
     "name": "stdout",
     "output_type": "stream",
     "text": [
      "Training Complete!\n",
      "Benchmarking on MLP100\n"
     ]
    },
    {
     "data": {
      "application/vnd.jupyter.widget-view+json": {
       "model_id": "6b30c17e1d894a00b662cd0391332872",
       "version_major": 2,
       "version_minor": 0
      },
      "text/plain": [
       "  0%|          | 0/100 [00:00<?, ?it/s]"
      ]
     },
     "metadata": {},
     "output_type": "display_data"
    },
    {
     "data": {
      "application/vnd.jupyter.widget-view+json": {
       "model_id": "14500eab407a4468a53d77af043e65e8",
       "version_major": 2,
       "version_minor": 0
      },
      "text/plain": [
       "  0%|          | 0/100 [00:00<?, ?it/s]"
      ]
     },
     "metadata": {},
     "output_type": "display_data"
    },
    {
     "data": {
      "application/vnd.jupyter.widget-view+json": {
       "model_id": "ff68bfc14ab44abe83481fdafbd75438",
       "version_major": 2,
       "version_minor": 0
      },
      "text/plain": [
       "  0%|          | 0/100 [00:00<?, ?it/s]"
      ]
     },
     "metadata": {},
     "output_type": "display_data"
    },
    {
     "name": "stdout",
     "output_type": "stream",
     "text": [
      "Benchmark Complete!\n",
      "Training CTGAN: vae - ae_dim - 256_128_64 - embed_dim - 64 - gan_layers - 256_256 - dstep - 1 - pac - 4 - gan_lr - 1e-05 - gan_batch_epoch - 512_300 - ae_lr - 0.001 - ae_batch_epoch - 512_100\n"
     ]
    },
    {
     "data": {
      "application/vnd.jupyter.widget-view+json": {
       "model_id": "72032a471a1e4f79b0b621b548120a9e",
       "version_major": 2,
       "version_minor": 0
      },
      "text/plain": [
       "AE Train:   0%|          | 0/100 [00:00<?, ?it/s]"
      ]
     },
     "metadata": {},
     "output_type": "display_data"
    },
    {
     "data": {
      "application/vnd.jupyter.widget-view+json": {
       "model_id": "094e647234cd4c0aa3eb819ed13cab8a",
       "version_major": 2,
       "version_minor": 0
      },
      "text/plain": [
       "GAN Train:   0%|          | 0/300 [00:00<?, ?it/s]"
      ]
     },
     "metadata": {},
     "output_type": "display_data"
    },
    {
     "name": "stdout",
     "output_type": "stream",
     "text": [
      "Training Complete!\n",
      "Benchmarking on MLP100\n"
     ]
    },
    {
     "data": {
      "application/vnd.jupyter.widget-view+json": {
       "model_id": "099ad45271ae4ab58f566a29aba92fbb",
       "version_major": 2,
       "version_minor": 0
      },
      "text/plain": [
       "  0%|          | 0/100 [00:00<?, ?it/s]"
      ]
     },
     "metadata": {},
     "output_type": "display_data"
    },
    {
     "data": {
      "application/vnd.jupyter.widget-view+json": {
       "model_id": "e31fa9ac497b4ffd95c789d161f76d55",
       "version_major": 2,
       "version_minor": 0
      },
      "text/plain": [
       "  0%|          | 0/100 [00:00<?, ?it/s]"
      ]
     },
     "metadata": {},
     "output_type": "display_data"
    },
    {
     "data": {
      "application/vnd.jupyter.widget-view+json": {
       "model_id": "a7114b73032c41debee585f94a57bcbe",
       "version_major": 2,
       "version_minor": 0
      },
      "text/plain": [
       "  0%|          | 0/100 [00:00<?, ?it/s]"
      ]
     },
     "metadata": {},
     "output_type": "display_data"
    },
    {
     "name": "stdout",
     "output_type": "stream",
     "text": [
      "Benchmark Complete!\n",
      "Training CTGAN: vae - ae_dim - 256_128_64 - embed_dim - 64 - gan_layers - 256_256 - dstep - 1 - pac - 4 - gan_lr - 0.0002 - gan_batch_epoch - 256_150 - ae_lr - 0.0001 - ae_batch_epoch - 256_50\n"
     ]
    },
    {
     "data": {
      "application/vnd.jupyter.widget-view+json": {
       "model_id": "23833a08e90f4aef8b583d7247fea5e0",
       "version_major": 2,
       "version_minor": 0
      },
      "text/plain": [
       "AE Train:   0%|          | 0/50 [00:00<?, ?it/s]"
      ]
     },
     "metadata": {},
     "output_type": "display_data"
    },
    {
     "data": {
      "application/vnd.jupyter.widget-view+json": {
       "model_id": "311ddcbf9c4f430b906cf33893ba8c29",
       "version_major": 2,
       "version_minor": 0
      },
      "text/plain": [
       "GAN Train:   0%|          | 0/150 [00:00<?, ?it/s]"
      ]
     },
     "metadata": {},
     "output_type": "display_data"
    },
    {
     "name": "stdout",
     "output_type": "stream",
     "text": [
      "Training Complete!\n",
      "Benchmarking on MLP100\n"
     ]
    },
    {
     "data": {
      "application/vnd.jupyter.widget-view+json": {
       "model_id": "49961796242748bdb0db26f0e7eb70a4",
       "version_major": 2,
       "version_minor": 0
      },
      "text/plain": [
       "  0%|          | 0/100 [00:00<?, ?it/s]"
      ]
     },
     "metadata": {},
     "output_type": "display_data"
    },
    {
     "data": {
      "application/vnd.jupyter.widget-view+json": {
       "model_id": "f4137f3c56d74920b40f303db5cc27b6",
       "version_major": 2,
       "version_minor": 0
      },
      "text/plain": [
       "  0%|          | 0/100 [00:00<?, ?it/s]"
      ]
     },
     "metadata": {},
     "output_type": "display_data"
    },
    {
     "data": {
      "application/vnd.jupyter.widget-view+json": {
       "model_id": "be0db51568b24c88af47fc9545767662",
       "version_major": 2,
       "version_minor": 0
      },
      "text/plain": [
       "  0%|          | 0/100 [00:00<?, ?it/s]"
      ]
     },
     "metadata": {},
     "output_type": "display_data"
    },
    {
     "name": "stdout",
     "output_type": "stream",
     "text": [
      "Benchmark Complete!\n",
      "Training CTGAN: vae - ae_dim - 256_128_64 - embed_dim - 64 - gan_layers - 256_256 - dstep - 1 - pac - 4 - gan_lr - 0.0002 - gan_batch_epoch - 256_150 - ae_lr - 0.0002 - ae_batch_epoch - 256_50\n"
     ]
    },
    {
     "data": {
      "application/vnd.jupyter.widget-view+json": {
       "model_id": "a2d65cfd973044b096b7162946d6f022",
       "version_major": 2,
       "version_minor": 0
      },
      "text/plain": [
       "AE Train:   0%|          | 0/50 [00:00<?, ?it/s]"
      ]
     },
     "metadata": {},
     "output_type": "display_data"
    },
    {
     "data": {
      "application/vnd.jupyter.widget-view+json": {
       "model_id": "ca393b523c4e4ed688dce4f2dc83efe6",
       "version_major": 2,
       "version_minor": 0
      },
      "text/plain": [
       "GAN Train:   0%|          | 0/150 [00:00<?, ?it/s]"
      ]
     },
     "metadata": {},
     "output_type": "display_data"
    },
    {
     "name": "stdout",
     "output_type": "stream",
     "text": [
      "Training Complete!\n",
      "Benchmarking on MLP100\n"
     ]
    },
    {
     "data": {
      "application/vnd.jupyter.widget-view+json": {
       "model_id": "31e11f68cdbb40e68acb010ec0050c31",
       "version_major": 2,
       "version_minor": 0
      },
      "text/plain": [
       "  0%|          | 0/100 [00:00<?, ?it/s]"
      ]
     },
     "metadata": {},
     "output_type": "display_data"
    },
    {
     "data": {
      "application/vnd.jupyter.widget-view+json": {
       "model_id": "487808f4916144ee99469035cd57460e",
       "version_major": 2,
       "version_minor": 0
      },
      "text/plain": [
       "  0%|          | 0/100 [00:00<?, ?it/s]"
      ]
     },
     "metadata": {},
     "output_type": "display_data"
    },
    {
     "data": {
      "application/vnd.jupyter.widget-view+json": {
       "model_id": "9b99bdfa2d5f4980bd9e668e29f3bc44",
       "version_major": 2,
       "version_minor": 0
      },
      "text/plain": [
       "  0%|          | 0/100 [00:00<?, ?it/s]"
      ]
     },
     "metadata": {},
     "output_type": "display_data"
    },
    {
     "name": "stdout",
     "output_type": "stream",
     "text": [
      "Benchmark Complete!\n",
      "Training CTGAN: vae - ae_dim - 256_128_64 - embed_dim - 64 - gan_layers - 256_256 - dstep - 1 - pac - 4 - gan_lr - 0.0002 - gan_batch_epoch - 256_150 - ae_lr - 0.001 - ae_batch_epoch - 256_50\n"
     ]
    },
    {
     "data": {
      "application/vnd.jupyter.widget-view+json": {
       "model_id": "720ce3ed017947dd8d1cd2ef6ee90ef0",
       "version_major": 2,
       "version_minor": 0
      },
      "text/plain": [
       "AE Train:   0%|          | 0/50 [00:00<?, ?it/s]"
      ]
     },
     "metadata": {},
     "output_type": "display_data"
    },
    {
     "data": {
      "application/vnd.jupyter.widget-view+json": {
       "model_id": "dbe0c334b21f43e7bfc28b630de14b91",
       "version_major": 2,
       "version_minor": 0
      },
      "text/plain": [
       "GAN Train:   0%|          | 0/150 [00:00<?, ?it/s]"
      ]
     },
     "metadata": {},
     "output_type": "display_data"
    },
    {
     "name": "stdout",
     "output_type": "stream",
     "text": [
      "Training Complete!\n",
      "Benchmarking on MLP100\n"
     ]
    },
    {
     "data": {
      "application/vnd.jupyter.widget-view+json": {
       "model_id": "b4a5807ad1214b8494851ad506766718",
       "version_major": 2,
       "version_minor": 0
      },
      "text/plain": [
       "  0%|          | 0/100 [00:00<?, ?it/s]"
      ]
     },
     "metadata": {},
     "output_type": "display_data"
    },
    {
     "data": {
      "application/vnd.jupyter.widget-view+json": {
       "model_id": "a393108b5ade417bb0174c1d516e1d92",
       "version_major": 2,
       "version_minor": 0
      },
      "text/plain": [
       "  0%|          | 0/100 [00:00<?, ?it/s]"
      ]
     },
     "metadata": {},
     "output_type": "display_data"
    },
    {
     "data": {
      "application/vnd.jupyter.widget-view+json": {
       "model_id": "ec7dd261f6ea47b29c729dd64b44dc51",
       "version_major": 2,
       "version_minor": 0
      },
      "text/plain": [
       "  0%|          | 0/100 [00:00<?, ?it/s]"
      ]
     },
     "metadata": {},
     "output_type": "display_data"
    },
    {
     "name": "stdout",
     "output_type": "stream",
     "text": [
      "Benchmark Complete!\n",
      "Training CTGAN: vae - ae_dim - 256_128_64 - embed_dim - 64 - gan_layers - 256_256 - dstep - 1 - pac - 4 - gan_lr - 0.0002 - gan_batch_epoch - 512_300 - ae_lr - 0.0001 - ae_batch_epoch - 512_100\n"
     ]
    },
    {
     "data": {
      "application/vnd.jupyter.widget-view+json": {
       "model_id": "2e0c3f2793d44d6ca259a9d744ac7abb",
       "version_major": 2,
       "version_minor": 0
      },
      "text/plain": [
       "AE Train:   0%|          | 0/100 [00:00<?, ?it/s]"
      ]
     },
     "metadata": {},
     "output_type": "display_data"
    },
    {
     "data": {
      "application/vnd.jupyter.widget-view+json": {
       "model_id": "fb04b77ee1fd4cc0bf52c03e0c5183df",
       "version_major": 2,
       "version_minor": 0
      },
      "text/plain": [
       "GAN Train:   0%|          | 0/300 [00:00<?, ?it/s]"
      ]
     },
     "metadata": {},
     "output_type": "display_data"
    },
    {
     "name": "stdout",
     "output_type": "stream",
     "text": [
      "Training Complete!\n",
      "Benchmarking on MLP100\n"
     ]
    },
    {
     "data": {
      "application/vnd.jupyter.widget-view+json": {
       "model_id": "bfa5ade96c20437f823aec19cfd03bf7",
       "version_major": 2,
       "version_minor": 0
      },
      "text/plain": [
       "  0%|          | 0/100 [00:00<?, ?it/s]"
      ]
     },
     "metadata": {},
     "output_type": "display_data"
    },
    {
     "data": {
      "application/vnd.jupyter.widget-view+json": {
       "model_id": "96948c497fec485fa259ac48ed366b67",
       "version_major": 2,
       "version_minor": 0
      },
      "text/plain": [
       "  0%|          | 0/100 [00:00<?, ?it/s]"
      ]
     },
     "metadata": {},
     "output_type": "display_data"
    },
    {
     "data": {
      "application/vnd.jupyter.widget-view+json": {
       "model_id": "42476b7104814196a798b71013c66e38",
       "version_major": 2,
       "version_minor": 0
      },
      "text/plain": [
       "  0%|          | 0/100 [00:00<?, ?it/s]"
      ]
     },
     "metadata": {},
     "output_type": "display_data"
    },
    {
     "name": "stdout",
     "output_type": "stream",
     "text": [
      "Benchmark Complete!\n",
      "Training CTGAN: vae - ae_dim - 256_128_64 - embed_dim - 64 - gan_layers - 256_256 - dstep - 1 - pac - 4 - gan_lr - 0.0002 - gan_batch_epoch - 512_300 - ae_lr - 0.0002 - ae_batch_epoch - 512_100\n"
     ]
    },
    {
     "data": {
      "application/vnd.jupyter.widget-view+json": {
       "model_id": "8fdf7bdc9ef64373b273abce3dcf3685",
       "version_major": 2,
       "version_minor": 0
      },
      "text/plain": [
       "AE Train:   0%|          | 0/100 [00:00<?, ?it/s]"
      ]
     },
     "metadata": {},
     "output_type": "display_data"
    },
    {
     "data": {
      "application/vnd.jupyter.widget-view+json": {
       "model_id": "bce00475b293471597859d7e92cf5064",
       "version_major": 2,
       "version_minor": 0
      },
      "text/plain": [
       "GAN Train:   0%|          | 0/300 [00:00<?, ?it/s]"
      ]
     },
     "metadata": {},
     "output_type": "display_data"
    },
    {
     "name": "stdout",
     "output_type": "stream",
     "text": [
      "Training Complete!\n",
      "Benchmarking on MLP100\n"
     ]
    },
    {
     "data": {
      "application/vnd.jupyter.widget-view+json": {
       "model_id": "6df8d16d4c7645f89b0c813a2c10624f",
       "version_major": 2,
       "version_minor": 0
      },
      "text/plain": [
       "  0%|          | 0/100 [00:00<?, ?it/s]"
      ]
     },
     "metadata": {},
     "output_type": "display_data"
    },
    {
     "data": {
      "application/vnd.jupyter.widget-view+json": {
       "model_id": "f8a3cbfd1ba64c3d86db01cce6ae79f1",
       "version_major": 2,
       "version_minor": 0
      },
      "text/plain": [
       "  0%|          | 0/100 [00:00<?, ?it/s]"
      ]
     },
     "metadata": {},
     "output_type": "display_data"
    },
    {
     "data": {
      "application/vnd.jupyter.widget-view+json": {
       "model_id": "787df6ccda534fc489fcc83f51d32633",
       "version_major": 2,
       "version_minor": 0
      },
      "text/plain": [
       "  0%|          | 0/100 [00:00<?, ?it/s]"
      ]
     },
     "metadata": {},
     "output_type": "display_data"
    },
    {
     "name": "stdout",
     "output_type": "stream",
     "text": [
      "Benchmark Complete!\n",
      "Training CTGAN: vae - ae_dim - 256_128_64 - embed_dim - 64 - gan_layers - 256_256 - dstep - 1 - pac - 4 - gan_lr - 0.0002 - gan_batch_epoch - 512_300 - ae_lr - 0.001 - ae_batch_epoch - 512_100\n"
     ]
    },
    {
     "data": {
      "application/vnd.jupyter.widget-view+json": {
       "model_id": "dd5ce62549d44ab59185cb175537b6a3",
       "version_major": 2,
       "version_minor": 0
      },
      "text/plain": [
       "AE Train:   0%|          | 0/100 [00:00<?, ?it/s]"
      ]
     },
     "metadata": {},
     "output_type": "display_data"
    },
    {
     "data": {
      "application/vnd.jupyter.widget-view+json": {
       "model_id": "853c93cba4b549518d06ca56d36dd7b0",
       "version_major": 2,
       "version_minor": 0
      },
      "text/plain": [
       "GAN Train:   0%|          | 0/300 [00:00<?, ?it/s]"
      ]
     },
     "metadata": {},
     "output_type": "display_data"
    },
    {
     "name": "stdout",
     "output_type": "stream",
     "text": [
      "Training Complete!\n",
      "Benchmarking on MLP100\n"
     ]
    },
    {
     "data": {
      "application/vnd.jupyter.widget-view+json": {
       "model_id": "738662068de64dc48d893a1bfcd8fb8e",
       "version_major": 2,
       "version_minor": 0
      },
      "text/plain": [
       "  0%|          | 0/100 [00:00<?, ?it/s]"
      ]
     },
     "metadata": {},
     "output_type": "display_data"
    },
    {
     "data": {
      "application/vnd.jupyter.widget-view+json": {
       "model_id": "54a70cbff8284e3daae904d4ecc7fe89",
       "version_major": 2,
       "version_minor": 0
      },
      "text/plain": [
       "  0%|          | 0/100 [00:00<?, ?it/s]"
      ]
     },
     "metadata": {},
     "output_type": "display_data"
    },
    {
     "data": {
      "application/vnd.jupyter.widget-view+json": {
       "model_id": "b0207f94924f4be69a0a929d69b04e8a",
       "version_major": 2,
       "version_minor": 0
      },
      "text/plain": [
       "  0%|          | 0/100 [00:00<?, ?it/s]"
      ]
     },
     "metadata": {},
     "output_type": "display_data"
    },
    {
     "name": "stdout",
     "output_type": "stream",
     "text": [
      "Benchmark Complete!\n"
     ]
    },
    {
     "data": {
      "application/vnd.jupyter.widget-view+json": {
       "model_id": "8f80166298924ec69a5cd49c9c252671",
       "version_major": 2,
       "version_minor": 0
      },
      "text/plain": [
       "  0%|          | 0/12 [00:00<?, ?it/s]"
      ]
     },
     "metadata": {},
     "output_type": "display_data"
    },
    {
     "name": "stdout",
     "output_type": "stream",
     "text": [
      "Training CTGAN: ee - ae_dim - 256_128_64_32 - embed_dim - 64 - gan_layers - 256_256 - dstep - 1 - pac - 8 - gan_lr - 1e-05 - gan_batch_epoch - 256_150 - ae_lr - 0.0001 - ae_batch_epoch - 256_50\n"
     ]
    },
    {
     "data": {
      "application/vnd.jupyter.widget-view+json": {
       "model_id": "de5fd10f825b43c7b134477afe41b8cd",
       "version_major": 2,
       "version_minor": 0
      },
      "text/plain": [
       "AE Train:   0%|          | 0/50 [00:00<?, ?it/s]"
      ]
     },
     "metadata": {},
     "output_type": "display_data"
    },
    {
     "data": {
      "application/vnd.jupyter.widget-view+json": {
       "model_id": "d5be1e7496264bb8ab79aed080b2f183",
       "version_major": 2,
       "version_minor": 0
      },
      "text/plain": [
       "GAN Train:   0%|          | 0/150 [00:00<?, ?it/s]"
      ]
     },
     "metadata": {},
     "output_type": "display_data"
    },
    {
     "name": "stdout",
     "output_type": "stream",
     "text": [
      "Training Complete!\n",
      "Benchmarking on MLP100\n"
     ]
    },
    {
     "data": {
      "application/vnd.jupyter.widget-view+json": {
       "model_id": "3e809cf4261f46958b3c25eb7d65274f",
       "version_major": 2,
       "version_minor": 0
      },
      "text/plain": [
       "  0%|          | 0/100 [00:00<?, ?it/s]"
      ]
     },
     "metadata": {},
     "output_type": "display_data"
    },
    {
     "data": {
      "application/vnd.jupyter.widget-view+json": {
       "model_id": "ba911de1d62e47638d99b2feea807580",
       "version_major": 2,
       "version_minor": 0
      },
      "text/plain": [
       "  0%|          | 0/100 [00:00<?, ?it/s]"
      ]
     },
     "metadata": {},
     "output_type": "display_data"
    },
    {
     "data": {
      "application/vnd.jupyter.widget-view+json": {
       "model_id": "207947d7641945688ec0a251b1244040",
       "version_major": 2,
       "version_minor": 0
      },
      "text/plain": [
       "  0%|          | 0/100 [00:00<?, ?it/s]"
      ]
     },
     "metadata": {},
     "output_type": "display_data"
    },
    {
     "name": "stdout",
     "output_type": "stream",
     "text": [
      "Benchmark Complete!\n",
      "Training CTGAN: ee - ae_dim - 256_128_64_32 - embed_dim - 64 - gan_layers - 256_256 - dstep - 1 - pac - 8 - gan_lr - 1e-05 - gan_batch_epoch - 256_150 - ae_lr - 0.0002 - ae_batch_epoch - 256_50\n"
     ]
    },
    {
     "data": {
      "application/vnd.jupyter.widget-view+json": {
       "model_id": "c3d71b3cee584f50902653dda34b9d71",
       "version_major": 2,
       "version_minor": 0
      },
      "text/plain": [
       "AE Train:   0%|          | 0/50 [00:00<?, ?it/s]"
      ]
     },
     "metadata": {},
     "output_type": "display_data"
    },
    {
     "data": {
      "application/vnd.jupyter.widget-view+json": {
       "model_id": "6d7caebe50864f41a5025311bf900b89",
       "version_major": 2,
       "version_minor": 0
      },
      "text/plain": [
       "GAN Train:   0%|          | 0/150 [00:00<?, ?it/s]"
      ]
     },
     "metadata": {},
     "output_type": "display_data"
    },
    {
     "name": "stdout",
     "output_type": "stream",
     "text": [
      "Training Complete!\n",
      "Benchmarking on MLP100\n"
     ]
    },
    {
     "data": {
      "application/vnd.jupyter.widget-view+json": {
       "model_id": "ef2f26b52227435185f8f3d62794e234",
       "version_major": 2,
       "version_minor": 0
      },
      "text/plain": [
       "  0%|          | 0/100 [00:00<?, ?it/s]"
      ]
     },
     "metadata": {},
     "output_type": "display_data"
    },
    {
     "data": {
      "application/vnd.jupyter.widget-view+json": {
       "model_id": "cfb16d557ceb404fadc1d7f36718df5a",
       "version_major": 2,
       "version_minor": 0
      },
      "text/plain": [
       "  0%|          | 0/100 [00:00<?, ?it/s]"
      ]
     },
     "metadata": {},
     "output_type": "display_data"
    },
    {
     "data": {
      "application/vnd.jupyter.widget-view+json": {
       "model_id": "a0a5164e1af64f3c8e8333e3701de8e1",
       "version_major": 2,
       "version_minor": 0
      },
      "text/plain": [
       "  0%|          | 0/100 [00:00<?, ?it/s]"
      ]
     },
     "metadata": {},
     "output_type": "display_data"
    },
    {
     "name": "stdout",
     "output_type": "stream",
     "text": [
      "Benchmark Complete!\n",
      "Training CTGAN: ee - ae_dim - 256_128_64_32 - embed_dim - 64 - gan_layers - 256_256 - dstep - 1 - pac - 8 - gan_lr - 1e-05 - gan_batch_epoch - 256_150 - ae_lr - 0.001 - ae_batch_epoch - 256_50\n"
     ]
    },
    {
     "data": {
      "application/vnd.jupyter.widget-view+json": {
       "model_id": "98bc8fa16e7847d7b64807aff5069fbe",
       "version_major": 2,
       "version_minor": 0
      },
      "text/plain": [
       "AE Train:   0%|          | 0/50 [00:00<?, ?it/s]"
      ]
     },
     "metadata": {},
     "output_type": "display_data"
    },
    {
     "data": {
      "application/vnd.jupyter.widget-view+json": {
       "model_id": "6cb2dcc7869245ba95bd8e4136018e04",
       "version_major": 2,
       "version_minor": 0
      },
      "text/plain": [
       "GAN Train:   0%|          | 0/150 [00:00<?, ?it/s]"
      ]
     },
     "metadata": {},
     "output_type": "display_data"
    },
    {
     "name": "stdout",
     "output_type": "stream",
     "text": [
      "Training Complete!\n",
      "Benchmarking on MLP100\n"
     ]
    },
    {
     "data": {
      "application/vnd.jupyter.widget-view+json": {
       "model_id": "8c5f7e6532b84f7b975b650989ce96ab",
       "version_major": 2,
       "version_minor": 0
      },
      "text/plain": [
       "  0%|          | 0/100 [00:00<?, ?it/s]"
      ]
     },
     "metadata": {},
     "output_type": "display_data"
    },
    {
     "data": {
      "application/vnd.jupyter.widget-view+json": {
       "model_id": "f45456621a6a429f80260f144327c813",
       "version_major": 2,
       "version_minor": 0
      },
      "text/plain": [
       "  0%|          | 0/100 [00:00<?, ?it/s]"
      ]
     },
     "metadata": {},
     "output_type": "display_data"
    },
    {
     "data": {
      "application/vnd.jupyter.widget-view+json": {
       "model_id": "69b7f69f091f4f9e9654d2c287295e4b",
       "version_major": 2,
       "version_minor": 0
      },
      "text/plain": [
       "  0%|          | 0/100 [00:00<?, ?it/s]"
      ]
     },
     "metadata": {},
     "output_type": "display_data"
    },
    {
     "name": "stdout",
     "output_type": "stream",
     "text": [
      "Benchmark Complete!\n",
      "Training CTGAN: ee - ae_dim - 256_128_64_32 - embed_dim - 64 - gan_layers - 256_256 - dstep - 1 - pac - 8 - gan_lr - 1e-05 - gan_batch_epoch - 512_300 - ae_lr - 0.0001 - ae_batch_epoch - 512_100\n"
     ]
    },
    {
     "data": {
      "application/vnd.jupyter.widget-view+json": {
       "model_id": "fa9059c6a0164551b3be294d37887c78",
       "version_major": 2,
       "version_minor": 0
      },
      "text/plain": [
       "AE Train:   0%|          | 0/100 [00:00<?, ?it/s]"
      ]
     },
     "metadata": {},
     "output_type": "display_data"
    },
    {
     "data": {
      "application/vnd.jupyter.widget-view+json": {
       "model_id": "ec73bfed946b409c8af20426f7578d31",
       "version_major": 2,
       "version_minor": 0
      },
      "text/plain": [
       "GAN Train:   0%|          | 0/300 [00:00<?, ?it/s]"
      ]
     },
     "metadata": {},
     "output_type": "display_data"
    },
    {
     "name": "stdout",
     "output_type": "stream",
     "text": [
      "Training Complete!\n",
      "Benchmarking on MLP100\n"
     ]
    },
    {
     "data": {
      "application/vnd.jupyter.widget-view+json": {
       "model_id": "e84414787a254be99be4ab752bba3e0b",
       "version_major": 2,
       "version_minor": 0
      },
      "text/plain": [
       "  0%|          | 0/100 [00:00<?, ?it/s]"
      ]
     },
     "metadata": {},
     "output_type": "display_data"
    },
    {
     "data": {
      "application/vnd.jupyter.widget-view+json": {
       "model_id": "b4feb823d1374d6386ef2bd9f8070666",
       "version_major": 2,
       "version_minor": 0
      },
      "text/plain": [
       "  0%|          | 0/100 [00:00<?, ?it/s]"
      ]
     },
     "metadata": {},
     "output_type": "display_data"
    },
    {
     "data": {
      "application/vnd.jupyter.widget-view+json": {
       "model_id": "ae4d5f086a3842279dc0ef8362b44b27",
       "version_major": 2,
       "version_minor": 0
      },
      "text/plain": [
       "  0%|          | 0/100 [00:00<?, ?it/s]"
      ]
     },
     "metadata": {},
     "output_type": "display_data"
    },
    {
     "name": "stdout",
     "output_type": "stream",
     "text": [
      "Benchmark Complete!\n",
      "Training CTGAN: ee - ae_dim - 256_128_64_32 - embed_dim - 64 - gan_layers - 256_256 - dstep - 1 - pac - 8 - gan_lr - 1e-05 - gan_batch_epoch - 512_300 - ae_lr - 0.0002 - ae_batch_epoch - 512_100\n"
     ]
    },
    {
     "data": {
      "application/vnd.jupyter.widget-view+json": {
       "model_id": "5bc3905117144bcaa98e058bcb507aec",
       "version_major": 2,
       "version_minor": 0
      },
      "text/plain": [
       "AE Train:   0%|          | 0/100 [00:00<?, ?it/s]"
      ]
     },
     "metadata": {},
     "output_type": "display_data"
    },
    {
     "data": {
      "application/vnd.jupyter.widget-view+json": {
       "model_id": "dce9a35afaf2488a8b128d2d1c09499f",
       "version_major": 2,
       "version_minor": 0
      },
      "text/plain": [
       "GAN Train:   0%|          | 0/300 [00:00<?, ?it/s]"
      ]
     },
     "metadata": {},
     "output_type": "display_data"
    },
    {
     "name": "stdout",
     "output_type": "stream",
     "text": [
      "Training Complete!\n",
      "Benchmarking on MLP100\n"
     ]
    },
    {
     "data": {
      "application/vnd.jupyter.widget-view+json": {
       "model_id": "bd55c342b1b848c9b96691c10eef38e2",
       "version_major": 2,
       "version_minor": 0
      },
      "text/plain": [
       "  0%|          | 0/100 [00:00<?, ?it/s]"
      ]
     },
     "metadata": {},
     "output_type": "display_data"
    },
    {
     "data": {
      "application/vnd.jupyter.widget-view+json": {
       "model_id": "755a2ee8a9eb40568f8642090e549832",
       "version_major": 2,
       "version_minor": 0
      },
      "text/plain": [
       "  0%|          | 0/100 [00:00<?, ?it/s]"
      ]
     },
     "metadata": {},
     "output_type": "display_data"
    },
    {
     "data": {
      "application/vnd.jupyter.widget-view+json": {
       "model_id": "e94cbc1a4b964bfc9104ef1458c37731",
       "version_major": 2,
       "version_minor": 0
      },
      "text/plain": [
       "  0%|          | 0/100 [00:00<?, ?it/s]"
      ]
     },
     "metadata": {},
     "output_type": "display_data"
    },
    {
     "name": "stdout",
     "output_type": "stream",
     "text": [
      "Benchmark Complete!\n",
      "Training CTGAN: ee - ae_dim - 256_128_64_32 - embed_dim - 64 - gan_layers - 256_256 - dstep - 1 - pac - 8 - gan_lr - 1e-05 - gan_batch_epoch - 512_300 - ae_lr - 0.001 - ae_batch_epoch - 512_100\n"
     ]
    },
    {
     "data": {
      "application/vnd.jupyter.widget-view+json": {
       "model_id": "cebd9963cd6e45fab3b751def819bca6",
       "version_major": 2,
       "version_minor": 0
      },
      "text/plain": [
       "AE Train:   0%|          | 0/100 [00:00<?, ?it/s]"
      ]
     },
     "metadata": {},
     "output_type": "display_data"
    },
    {
     "data": {
      "application/vnd.jupyter.widget-view+json": {
       "model_id": "74a041033c4c4b8eafb9d73cef77c6a5",
       "version_major": 2,
       "version_minor": 0
      },
      "text/plain": [
       "GAN Train:   0%|          | 0/300 [00:00<?, ?it/s]"
      ]
     },
     "metadata": {},
     "output_type": "display_data"
    },
    {
     "name": "stdout",
     "output_type": "stream",
     "text": [
      "Training Complete!\n",
      "Benchmarking on MLP100\n"
     ]
    },
    {
     "data": {
      "application/vnd.jupyter.widget-view+json": {
       "model_id": "e80f002fc1224ad48959c641f5805594",
       "version_major": 2,
       "version_minor": 0
      },
      "text/plain": [
       "  0%|          | 0/100 [00:00<?, ?it/s]"
      ]
     },
     "metadata": {},
     "output_type": "display_data"
    },
    {
     "data": {
      "application/vnd.jupyter.widget-view+json": {
       "model_id": "91c57606ba3b418f89e837beea8e1be2",
       "version_major": 2,
       "version_minor": 0
      },
      "text/plain": [
       "  0%|          | 0/100 [00:00<?, ?it/s]"
      ]
     },
     "metadata": {},
     "output_type": "display_data"
    },
    {
     "data": {
      "application/vnd.jupyter.widget-view+json": {
       "model_id": "1e15681aee2640629c48bb4064206a7b",
       "version_major": 2,
       "version_minor": 0
      },
      "text/plain": [
       "  0%|          | 0/100 [00:00<?, ?it/s]"
      ]
     },
     "metadata": {},
     "output_type": "display_data"
    },
    {
     "name": "stdout",
     "output_type": "stream",
     "text": [
      "Benchmark Complete!\n",
      "Training CTGAN: ee - ae_dim - 256_128_64_32 - embed_dim - 64 - gan_layers - 256_256 - dstep - 1 - pac - 8 - gan_lr - 0.0002 - gan_batch_epoch - 256_150 - ae_lr - 0.0001 - ae_batch_epoch - 256_50\n"
     ]
    },
    {
     "data": {
      "application/vnd.jupyter.widget-view+json": {
       "model_id": "ac90315890d34ed1a4769ba4d73282a3",
       "version_major": 2,
       "version_minor": 0
      },
      "text/plain": [
       "AE Train:   0%|          | 0/50 [00:00<?, ?it/s]"
      ]
     },
     "metadata": {},
     "output_type": "display_data"
    },
    {
     "data": {
      "application/vnd.jupyter.widget-view+json": {
       "model_id": "695db412d62f4fdba03be7ac5655d646",
       "version_major": 2,
       "version_minor": 0
      },
      "text/plain": [
       "GAN Train:   0%|          | 0/150 [00:00<?, ?it/s]"
      ]
     },
     "metadata": {},
     "output_type": "display_data"
    },
    {
     "name": "stdout",
     "output_type": "stream",
     "text": [
      "Training Complete!\n",
      "Benchmarking on MLP100\n"
     ]
    },
    {
     "data": {
      "application/vnd.jupyter.widget-view+json": {
       "model_id": "86c951f1dab1489bb752f83508a62364",
       "version_major": 2,
       "version_minor": 0
      },
      "text/plain": [
       "  0%|          | 0/100 [00:00<?, ?it/s]"
      ]
     },
     "metadata": {},
     "output_type": "display_data"
    },
    {
     "data": {
      "application/vnd.jupyter.widget-view+json": {
       "model_id": "762ffee632164fc2a503f664d3730255",
       "version_major": 2,
       "version_minor": 0
      },
      "text/plain": [
       "  0%|          | 0/100 [00:00<?, ?it/s]"
      ]
     },
     "metadata": {},
     "output_type": "display_data"
    },
    {
     "data": {
      "application/vnd.jupyter.widget-view+json": {
       "model_id": "75fef5b3ec4440cf8ce4ce3c778c2f7c",
       "version_major": 2,
       "version_minor": 0
      },
      "text/plain": [
       "  0%|          | 0/100 [00:00<?, ?it/s]"
      ]
     },
     "metadata": {},
     "output_type": "display_data"
    },
    {
     "name": "stdout",
     "output_type": "stream",
     "text": [
      "Benchmark Complete!\n",
      "Training CTGAN: ee - ae_dim - 256_128_64_32 - embed_dim - 64 - gan_layers - 256_256 - dstep - 1 - pac - 8 - gan_lr - 0.0002 - gan_batch_epoch - 256_150 - ae_lr - 0.0002 - ae_batch_epoch - 256_50\n"
     ]
    },
    {
     "data": {
      "application/vnd.jupyter.widget-view+json": {
       "model_id": "faeee0fdd12c449cad79766a99f6d110",
       "version_major": 2,
       "version_minor": 0
      },
      "text/plain": [
       "AE Train:   0%|          | 0/50 [00:00<?, ?it/s]"
      ]
     },
     "metadata": {},
     "output_type": "display_data"
    },
    {
     "data": {
      "application/vnd.jupyter.widget-view+json": {
       "model_id": "d023eb83fe6d4bd7a0dc2521602fe94f",
       "version_major": 2,
       "version_minor": 0
      },
      "text/plain": [
       "GAN Train:   0%|          | 0/150 [00:00<?, ?it/s]"
      ]
     },
     "metadata": {},
     "output_type": "display_data"
    },
    {
     "name": "stdout",
     "output_type": "stream",
     "text": [
      "Training Complete!\n",
      "Benchmarking on MLP100\n"
     ]
    },
    {
     "data": {
      "application/vnd.jupyter.widget-view+json": {
       "model_id": "2024e3e61c994812ab7bcbd7dfae2595",
       "version_major": 2,
       "version_minor": 0
      },
      "text/plain": [
       "  0%|          | 0/100 [00:00<?, ?it/s]"
      ]
     },
     "metadata": {},
     "output_type": "display_data"
    },
    {
     "data": {
      "application/vnd.jupyter.widget-view+json": {
       "model_id": "2ac3917360644174b50de9d7dff3ef1a",
       "version_major": 2,
       "version_minor": 0
      },
      "text/plain": [
       "  0%|          | 0/100 [00:00<?, ?it/s]"
      ]
     },
     "metadata": {},
     "output_type": "display_data"
    },
    {
     "data": {
      "application/vnd.jupyter.widget-view+json": {
       "model_id": "e68f366e4d7f4fb89529bd6437e4eccd",
       "version_major": 2,
       "version_minor": 0
      },
      "text/plain": [
       "  0%|          | 0/100 [00:00<?, ?it/s]"
      ]
     },
     "metadata": {},
     "output_type": "display_data"
    },
    {
     "name": "stdout",
     "output_type": "stream",
     "text": [
      "Benchmark Complete!\n",
      "Training CTGAN: ee - ae_dim - 256_128_64_32 - embed_dim - 64 - gan_layers - 256_256 - dstep - 1 - pac - 8 - gan_lr - 0.0002 - gan_batch_epoch - 256_150 - ae_lr - 0.001 - ae_batch_epoch - 256_50\n"
     ]
    },
    {
     "data": {
      "application/vnd.jupyter.widget-view+json": {
       "model_id": "2353165cf6844005975badebb57db740",
       "version_major": 2,
       "version_minor": 0
      },
      "text/plain": [
       "AE Train:   0%|          | 0/50 [00:00<?, ?it/s]"
      ]
     },
     "metadata": {},
     "output_type": "display_data"
    },
    {
     "data": {
      "application/vnd.jupyter.widget-view+json": {
       "model_id": "59be46157eea4983b0da024e3aaada62",
       "version_major": 2,
       "version_minor": 0
      },
      "text/plain": [
       "GAN Train:   0%|          | 0/150 [00:00<?, ?it/s]"
      ]
     },
     "metadata": {},
     "output_type": "display_data"
    },
    {
     "name": "stdout",
     "output_type": "stream",
     "text": [
      "Training Complete!\n",
      "Benchmarking on MLP100\n"
     ]
    },
    {
     "data": {
      "application/vnd.jupyter.widget-view+json": {
       "model_id": "642a10be7f1e4d60ade67d09d7b39903",
       "version_major": 2,
       "version_minor": 0
      },
      "text/plain": [
       "  0%|          | 0/100 [00:00<?, ?it/s]"
      ]
     },
     "metadata": {},
     "output_type": "display_data"
    },
    {
     "data": {
      "application/vnd.jupyter.widget-view+json": {
       "model_id": "98db5e9aa12442a6a6a190dac4b7aa29",
       "version_major": 2,
       "version_minor": 0
      },
      "text/plain": [
       "  0%|          | 0/100 [00:00<?, ?it/s]"
      ]
     },
     "metadata": {},
     "output_type": "display_data"
    },
    {
     "data": {
      "application/vnd.jupyter.widget-view+json": {
       "model_id": "6c6515b432c344f593359227dd3be79a",
       "version_major": 2,
       "version_minor": 0
      },
      "text/plain": [
       "  0%|          | 0/100 [00:00<?, ?it/s]"
      ]
     },
     "metadata": {},
     "output_type": "display_data"
    },
    {
     "name": "stdout",
     "output_type": "stream",
     "text": [
      "Benchmark Complete!\n",
      "Training CTGAN: ee - ae_dim - 256_128_64_32 - embed_dim - 64 - gan_layers - 256_256 - dstep - 1 - pac - 8 - gan_lr - 0.0002 - gan_batch_epoch - 512_300 - ae_lr - 0.0001 - ae_batch_epoch - 512_100\n"
     ]
    },
    {
     "data": {
      "application/vnd.jupyter.widget-view+json": {
       "model_id": "2c03157a736146c8a43d09fadf7d89da",
       "version_major": 2,
       "version_minor": 0
      },
      "text/plain": [
       "AE Train:   0%|          | 0/100 [00:00<?, ?it/s]"
      ]
     },
     "metadata": {},
     "output_type": "display_data"
    },
    {
     "data": {
      "application/vnd.jupyter.widget-view+json": {
       "model_id": "ab440f895af94eb4af77a38c9327e173",
       "version_major": 2,
       "version_minor": 0
      },
      "text/plain": [
       "GAN Train:   0%|          | 0/300 [00:00<?, ?it/s]"
      ]
     },
     "metadata": {},
     "output_type": "display_data"
    },
    {
     "name": "stdout",
     "output_type": "stream",
     "text": [
      "Training Complete!\n",
      "Benchmarking on MLP100\n"
     ]
    },
    {
     "data": {
      "application/vnd.jupyter.widget-view+json": {
       "model_id": "9ac1a052ffa54b1b95aee8dee5ce82a4",
       "version_major": 2,
       "version_minor": 0
      },
      "text/plain": [
       "  0%|          | 0/100 [00:00<?, ?it/s]"
      ]
     },
     "metadata": {},
     "output_type": "display_data"
    },
    {
     "data": {
      "application/vnd.jupyter.widget-view+json": {
       "model_id": "1c7fd65e596740eaa2658e32222e6c26",
       "version_major": 2,
       "version_minor": 0
      },
      "text/plain": [
       "  0%|          | 0/100 [00:00<?, ?it/s]"
      ]
     },
     "metadata": {},
     "output_type": "display_data"
    },
    {
     "data": {
      "application/vnd.jupyter.widget-view+json": {
       "model_id": "2872c8ef0ac64b57b850f1f56427bd77",
       "version_major": 2,
       "version_minor": 0
      },
      "text/plain": [
       "  0%|          | 0/100 [00:00<?, ?it/s]"
      ]
     },
     "metadata": {},
     "output_type": "display_data"
    },
    {
     "name": "stdout",
     "output_type": "stream",
     "text": [
      "Benchmark Complete!\n",
      "Training CTGAN: ee - ae_dim - 256_128_64_32 - embed_dim - 64 - gan_layers - 256_256 - dstep - 1 - pac - 8 - gan_lr - 0.0002 - gan_batch_epoch - 512_300 - ae_lr - 0.0002 - ae_batch_epoch - 512_100\n"
     ]
    },
    {
     "data": {
      "application/vnd.jupyter.widget-view+json": {
       "model_id": "d648f96bef754afbbe88b1cc8c8686e2",
       "version_major": 2,
       "version_minor": 0
      },
      "text/plain": [
       "AE Train:   0%|          | 0/100 [00:00<?, ?it/s]"
      ]
     },
     "metadata": {},
     "output_type": "display_data"
    },
    {
     "data": {
      "application/vnd.jupyter.widget-view+json": {
       "model_id": "3be61402642643bf9db3e0053ea3ebc5",
       "version_major": 2,
       "version_minor": 0
      },
      "text/plain": [
       "GAN Train:   0%|          | 0/300 [00:00<?, ?it/s]"
      ]
     },
     "metadata": {},
     "output_type": "display_data"
    },
    {
     "name": "stdout",
     "output_type": "stream",
     "text": [
      "Training Complete!\n",
      "Benchmarking on MLP100\n"
     ]
    },
    {
     "data": {
      "application/vnd.jupyter.widget-view+json": {
       "model_id": "364b00bc77034635a1b50eb422303f5b",
       "version_major": 2,
       "version_minor": 0
      },
      "text/plain": [
       "  0%|          | 0/100 [00:00<?, ?it/s]"
      ]
     },
     "metadata": {},
     "output_type": "display_data"
    },
    {
     "data": {
      "application/vnd.jupyter.widget-view+json": {
       "model_id": "c2ff6dbcdd5548c5bfbedf4f1be1d112",
       "version_major": 2,
       "version_minor": 0
      },
      "text/plain": [
       "  0%|          | 0/100 [00:00<?, ?it/s]"
      ]
     },
     "metadata": {},
     "output_type": "display_data"
    },
    {
     "data": {
      "application/vnd.jupyter.widget-view+json": {
       "model_id": "c581054b4ed44d0d81930272253d6ff9",
       "version_major": 2,
       "version_minor": 0
      },
      "text/plain": [
       "  0%|          | 0/100 [00:00<?, ?it/s]"
      ]
     },
     "metadata": {},
     "output_type": "display_data"
    },
    {
     "name": "stdout",
     "output_type": "stream",
     "text": [
      "Benchmark Complete!\n",
      "Training CTGAN: ee - ae_dim - 256_128_64_32 - embed_dim - 64 - gan_layers - 256_256 - dstep - 1 - pac - 8 - gan_lr - 0.0002 - gan_batch_epoch - 512_300 - ae_lr - 0.001 - ae_batch_epoch - 512_100\n"
     ]
    },
    {
     "data": {
      "application/vnd.jupyter.widget-view+json": {
       "model_id": "dbb252e6063d4c208aceca68bf7e9176",
       "version_major": 2,
       "version_minor": 0
      },
      "text/plain": [
       "AE Train:   0%|          | 0/100 [00:00<?, ?it/s]"
      ]
     },
     "metadata": {},
     "output_type": "display_data"
    },
    {
     "data": {
      "application/vnd.jupyter.widget-view+json": {
       "model_id": "45e5c4bb95814f6aa29aff2fa2d5a62d",
       "version_major": 2,
       "version_minor": 0
      },
      "text/plain": [
       "GAN Train:   0%|          | 0/300 [00:00<?, ?it/s]"
      ]
     },
     "metadata": {},
     "output_type": "display_data"
    },
    {
     "name": "stdout",
     "output_type": "stream",
     "text": [
      "Training Complete!\n",
      "Benchmarking on MLP100\n"
     ]
    },
    {
     "data": {
      "application/vnd.jupyter.widget-view+json": {
       "model_id": "49003f8c3d9c49b9b37d282e96605d89",
       "version_major": 2,
       "version_minor": 0
      },
      "text/plain": [
       "  0%|          | 0/100 [00:00<?, ?it/s]"
      ]
     },
     "metadata": {},
     "output_type": "display_data"
    },
    {
     "data": {
      "application/vnd.jupyter.widget-view+json": {
       "model_id": "36edf60148df401a8a7685747a96fb6a",
       "version_major": 2,
       "version_minor": 0
      },
      "text/plain": [
       "  0%|          | 0/100 [00:00<?, ?it/s]"
      ]
     },
     "metadata": {},
     "output_type": "display_data"
    },
    {
     "data": {
      "application/vnd.jupyter.widget-view+json": {
       "model_id": "d8b9464b6f6b4f71ae8bc240039f384a",
       "version_major": 2,
       "version_minor": 0
      },
      "text/plain": [
       "  0%|          | 0/100 [00:00<?, ?it/s]"
      ]
     },
     "metadata": {},
     "output_type": "display_data"
    },
    {
     "name": "stdout",
     "output_type": "stream",
     "text": [
      "Benchmark Complete!\n"
     ]
    }
   ],
   "source": [
    "from tqdm.notebook import tqdm\n",
    "hp = 'gbe_aeb'\n",
    "gbe_aeb = list(itertools.product(HP['gan_lr'], HP['gan_batch_epoch'], HP['ae_lr'], HP['ae_batch_epoch']))\n",
    "gbe_aeb = [elem for elem in gbe_aeb if not ((elem[3] == (256, 50) and elem[1] == (512, 300)) or (elem[1] == (256, 150) and elem[3] == (512, 100)))]\n",
    "\n",
    "for ae_type in tqdm(AE_TYPES):\n",
    "    hp_scores = dict()\n",
    "    printable_ae_dim = max(hp_vals[ae_type]['ae_dim'].items(), key=lambda x: x[1])[0]\n",
    "    ae_dim = tuple(map(int, printable_ae_dim.split('_')))\n",
    "    embedding_dim = int(max(hp_vals[ae_type]['embedding_dim'].items(), key=lambda x: x[1])[0])\n",
    "    printable_gan_layers = max(hp_vals[ae_type]['gan_layers'].items(), key=lambda x: x[1])[0]\n",
    "    gan_layers = tuple(map(int, printable_gan_layers.split('_')))\n",
    "    d_step, pac = list(map(int,max(hp_vals[ae_type]['dstep_pac'].items(), key=lambda x: x[1])[0].split('_')))\n",
    "    for v1, v2, v3, v4 in tqdm(gbe_aeb):\n",
    "        pv2 = '_'.join(map(str,v2))\n",
    "        pv4 = '_'.join(map(str,v4))\n",
    "        k = '_'.join(map(str,[v1,pv2,v3,pv4]))\n",
    "        mpath = f\"../../models/tmp/loan/ae_gan_{ae_type}_ae_dim_{printable_ae_dim}_emb_{embedding_dim}_gla_{gan_layers}_dstep_{d_step}_pac_{pac}_glr_{v1}_gbe_{pv2}_alr_{v3}_aeb_{pv4}.pth\"\n",
    "        if not os.path.exists(mpath):\n",
    "            # Train the AE_GAN\n",
    "            print(f\"Training CTGAN: {ae_type} - ae_dim - {printable_ae_dim} - embed_dim - {embedding_dim} - gan_layers - {printable_gan_layers} - dstep - {d_step} - pac - {pac} - gan_lr - {v1} - gan_batch_epoch - {pv2} - ae_lr - {v3} - ae_batch_epoch - {pv4}\")\n",
    "            ae_gan = CTGANV2(ae_type=ae_type, ae_dim=ae_dim, embedding_dim=embedding_dim,\n",
    "                                generator_dim=gan_layers, discriminator_dim=gan_layers,\n",
    "                                discriminator_steps=d_step, pac=pac, generator_lr=v1, discriminator_lr=v1,\n",
    "                                batch_size=v2[0], epochs=v2[1], autoencoder_lr=v3, ae_batch_size=v4[0], ae_epochs=v4[1])\n",
    "            ae_gan.fit(td['train'], dt=dt, is_transformed=True, target_index=target_idx)\n",
    "            print(\"Training Complete!\")\n",
    "            # save model\n",
    "            ae_gan.save(mpath)\n",
    "        else:\n",
    "            print(f\"Loading CTGAN: {ae_type} - ae_dim - {printable_ae_dim} - embed_dim - {embedding_dim} - gan_layers - {printable_gan_layers} - dstep - {d_step} - pac - {pac} - gan_lr - {v1} - gan_batch_epoch - {pv2} - ae_lr - {v3} - ae_batch_epoch - {pv4}\")\n",
    "            ae_gan = CTGANV2().load(mpath)\n",
    "\n",
    "        best_score = torch.tensor([0.0])\n",
    "        try:\n",
    "            # Sample fake data\n",
    "            fake_data, real_data = sample_fake_loan(dt,td,ae_gan)\n",
    "            \n",
    "            print(\"Benchmarking on MLP100\")\n",
    "            # Train the MLP on fake validation data\n",
    "            for _ in range(3):\n",
    "                test_score = train_model(\n",
    "                                fake_data[0],\n",
    "                                fake_data[1],\n",
    "                                fake_data[2],\n",
    "                                fake_data[3],\n",
    "                                real_data[0],\n",
    "                                real_data[1],\n",
    "                                batch_size=256,\n",
    "                                num_epochs=100,\n",
    "                                model_type=\"classification\",\n",
    "                                verbose=False,\n",
    "                                scorer_type=\"f1_micro\",\n",
    "                            )\n",
    "                if test_score > best_score:\n",
    "                    best_score = test_score\n",
    "            print(\"Benchmark Complete!\")\n",
    "        except:\n",
    "            pass\n",
    "        hp_scores[k] = best_score.item()\n",
    "    \n",
    "    hp_vals[ae_type][hp] = hp_scores\n",
    "    with open(\"loan_opt_hp.json\", 'w') as f:\n",
    "        f.write(json.dumps(hp_vals))"
   ]
  },
  {
   "cell_type": "code",
   "execution_count": null,
   "metadata": {},
   "outputs": [],
   "source": []
  }
 ],
 "metadata": {
  "kernelspec": {
   "display_name": "csc2516",
   "language": "python",
   "name": "python3"
  },
  "language_info": {
   "codemirror_mode": {
    "name": "ipython",
    "version": 3
   },
   "file_extension": ".py",
   "mimetype": "text/x-python",
   "name": "python",
   "nbconvert_exporter": "python",
   "pygments_lexer": "ipython3",
   "version": "3.9.16"
  },
  "orig_nbformat": 4
 },
 "nbformat": 4,
 "nbformat_minor": 2
}
