{
 "cells": [
  {
   "cell_type": "code",
   "execution_count": 1,
   "metadata": {},
   "outputs": [],
   "source": [
    "from ctgan.synthesizers.ae_gan import CTGANV2, AutoEncoderType\n",
    "from aegan_utils import train_model, IntrusionDataset\n",
    "from sklearn.model_selection import train_test_split\n",
    "import datetime\n",
    "import pandas as pd\n",
    "import numpy as np\n",
    "import pickle\n",
    "import os"
   ]
  },
  {
   "cell_type": "code",
   "execution_count": 2,
   "metadata": {},
   "outputs": [],
   "source": [
    "dataloader = IntrusionDataset(path=\"../dataset/intrusion/\")"
   ]
  },
  {
   "cell_type": "code",
   "execution_count": 3,
   "metadata": {},
   "outputs": [],
   "source": [
    "intrusion_train_df, intrusion_valid_df, intrusion_test_df, intrusion_discrete_columns = dataloader.load_intrusion()"
   ]
  },
  {
   "attachments": {},
   "cell_type": "markdown",
   "metadata": {},
   "source": [
    "### Tune based on F1 macro score on real intrusion validation dataset"
   ]
  },
  {
   "attachments": {},
   "cell_type": "markdown",
   "metadata": {},
   "source": [
    "### Vanilla AE"
   ]
  },
  {
   "attachments": {},
   "cell_type": "markdown",
   "metadata": {},
   "source": [
    "- AE dimension\n",
    "    - (256, 128)\n",
    "        - 0.090\n",
    "    - (256, 128, 64)\n",
    "        - 0.055\n",
    "    - (256, 128, 64, 32)\n",
    "        - 0.026\n",
    "    - Best: (256, 128)\n",
    "\n",
    ".\n",
    "\n",
    "- G hidden dimension\n",
    "    - 64\n",
    "        - 0.087\n",
    "    - 128\n",
    "        - 0.037\n",
    "    - 256\n",
    "        - 0.058\n",
    "    - Best: 64\n",
    "\n",
    ".\n",
    "\n",
    "- G and D layers\n",
    "  - 256 * 2\n",
    "    - 0.086\n",
    "  - 256 * 4\n",
    "    - 0.070\n",
    "  - Best: 256 * 2\n",
    "\n",
    ".\n",
    "\n",
    "- D steps (1, 5) and PAC value (4, 8, 16)\n",
    "  - 1, 4\n",
    "    - 0.228\n",
    "  - 1, 8\n",
    "    - 0.097\n",
    "  - 1, 16\n",
    "    - 0.061\n",
    "  - 5, 4\n",
    "    - 0.108\n",
    "  - 5, 8\n",
    "    - 0.079\n",
    "  - 5, 16\n",
    "    - 0.101\n",
    "  - Best: D steps = 1, PAC value = 4\n",
    "\n",
    ".\n",
    "\n",
    "- LR, batch size, epochs\n",
    "  - AE LR: 1e-4, GAN LR: 1e-5, batch size: 512, GAN epochs: 300, AE epochs: 100\n",
    "    - 0.039\n",
    "  - AE LR: 1e-4, GAN LR: 1e-5, batch size: 256, GAN epochs: 150, AE epochs: 50\n",
    "    - NA\n",
    "  - AE LR: 1e-4, GAN LR: 2e-4, batch size: 512, GAN epochs: 300, AE epochs: 100\n",
    "    - 0.035\n",
    "  - AE LR: 1e-4, GAN LR: 2e-4, batch size: 256, GAN epochs: 150, AE epochs: 50\n",
    "    - 0.109\n",
    "  - AE LR: 2e-4, GAN LR: 1e-5, batch size: 512, GAN epochs: 300, AE epochs: 100\n",
    "    - 0.171\n",
    "  - AE LR: 2e-4, GAN LR: 1e-5, batch size: 256, GAN epochs: 150, AE epochs: 50\n",
    "    - 0.117\n",
    "  - AE LR: 2e-4, GAN LR: 2e-4, batch size: 512, GAN epochs: 300, AE epochs: 100\n",
    "    - 0.096\n",
    "  - AE LR: 2e-4, GAN LR: 2e-4, batch size: 256, GAN epochs: 150, AE epochs: 50\n",
    "    - 0.120\n",
    "  - AE LR: 1e-3, GAN LR: 1e-5, batch size: 512, GAN epochs: 300, AE epochs: 100\n",
    "    - 0.123\n",
    "  - AE LR: 1e-3, GAN LR: 1e-5, batch size: 256, GAN epochs: 150, AE epochs: 50\n",
    "    - 0.147\n",
    "  - AE LR: 1e-3, GAN LR: 2e-4, batch size: 512, GAN epochs: 300, AE epochs: 100\n",
    "    - 0.227\n",
    "  - AE LR: 1e-3, GAN LR: 2e-4, batch size: 256, GAN epochs: 150, AE epochs: 50\n",
    "    - 0.055\n",
    "  - Best: AE LR: 1e-3, GAN LR: 2e-4, batch size: 512, GAN epochs: 300, AE epochs: 100"
   ]
  },
  {
   "attachments": {},
   "cell_type": "markdown",
   "metadata": {},
   "source": [
    "### Denoising AE"
   ]
  },
  {
   "attachments": {},
   "cell_type": "markdown",
   "metadata": {},
   "source": [
    "\n",
    "- AE dimension\n",
    "    - (256, 128)\n",
    "        - 0.049\n",
    "    - (256, 128, 64)\n",
    "        - 0.048\n",
    "    - (256, 128, 64, 32)\n",
    "        - 0.030\n",
    "    - Best: (256, 128)\n",
    "\n",
    ".\n",
    "\n",
    "- G hidden dimension\n",
    "    - 64\n",
    "        - 0.175\n",
    "    - 128\n",
    "        - 0.113\n",
    "    - 256\n",
    "        - 0.028\n",
    "    - Best: 64\n",
    "\n",
    ".\n",
    "\n",
    "- G and D layers\n",
    "  - 256 * 2\n",
    "    - 0.168\n",
    "  - 256 * 4\n",
    "    - 0.074\n",
    "  - Best: 256 * 2\n",
    "\n",
    ".\n",
    "\n",
    "- D steps (1, 5) and PAC value (4, 8, 16)\n",
    "  - 1, 4\n",
    "    - 0.003\n",
    "  - 1, 8\n",
    "    - 0.080\n",
    "  - 1, 16\n",
    "    - 0.177\n",
    "  - 5, 4\n",
    "    - 0.129\n",
    "  - 5, 8\n",
    "    - 0.022\n",
    "  - 5, 16\n",
    "    - 0.072\n",
    "  - Best: D steps = 1, PAC value = 16\n",
    "\n",
    ".\n",
    "\n",
    "- LR, batch size, epochs\n",
    "  - AE LR: 1e-4, GAN LR: 1e-5, batch size: 512, GAN epochs: 300, AE epochs: 100\n",
    "    - 0.120\n",
    "  - AE LR: 1e-4, GAN LR: 1e-5, batch size: 256, GAN epochs: 150, AE epochs: 50\n",
    "    - 0.035\n",
    "  - AE LR: 1e-4, GAN LR: 2e-4, batch size: 512, GAN epochs: 300, AE epochs: 100\n",
    "    - 0.003\n",
    "  - AE LR: 1e-4, GAN LR: 2e-4, batch size: 256, GAN epochs: 150, AE epochs: 50\n",
    "    - 0.154\n",
    "  - AE LR: 2e-4, GAN LR: 1e-5, batch size: 512, GAN epochs: 300, AE epochs: 100\n",
    "    - 0.043\n",
    "  - AE LR: 2e-4, GAN LR: 1e-5, batch size: 256, GAN epochs: 150, AE epochs: 50\n",
    "    - 0.140\n",
    "  - AE LR: 2e-4, GAN LR: 2e-4, batch size: 512, GAN epochs: 300, AE epochs: 100\n",
    "    - 0.106\n",
    "  - AE LR: 2e-4, GAN LR: 2e-4, batch size: 256, GAN epochs: 150, AE epochs: 50\n",
    "    - 0.035\n",
    "  - AE LR: 1e-3, GAN LR: 1e-5, batch size: 512, GAN epochs: 300, AE epochs: 100\n",
    "    - 0.143\n",
    "  - AE LR: 1e-3, GAN LR: 1e-5, batch size: 256, GAN epochs: 150, AE epochs: 50\n",
    "    - 0.066\n",
    "  - AE LR: 1e-3, GAN LR: 2e-4, batch size: 512, GAN epochs: 300, AE epochs: 100\n",
    "    - 0.010\n",
    "  - AE LR: 1e-3, GAN LR: 2e-4, batch size: 256, GAN epochs: 150, AE epochs: 50\n",
    "    - 0.047\n",
    "  - Best: AE LR: 1e-4, GAN LR: 2e-4, batch size: 256, GAN epochs: 150, AE epochs: 50"
   ]
  },
  {
   "cell_type": "markdown",
   "metadata": {},
   "source": [
    "### Entity AE"
   ]
  },
  {
   "attachments": {},
   "cell_type": "markdown",
   "metadata": {},
   "source": [
    "\n",
    "- AE dimension\n",
    "    - (256, 128)\n",
    "        - 0.093\n",
    "    - (256, 128, 64)\n",
    "        - 0.008\n",
    "    - (256, 128, 64, 32)\n",
    "        - 0.029\n",
    "    - Best: (256, 128)\n",
    "\n",
    ".\n",
    "\n",
    "- G hidden dimension\n",
    "    - 64\n",
    "        - 0.138\n",
    "    - 128\n",
    "        - 0.011\n",
    "    - 256\n",
    "        - 0.134\n",
    "    - Best: 64\n",
    "\n",
    ".\n",
    "\n",
    "- G and D layers\n",
    "  - 256 * 2\n",
    "    - 0.09\n",
    "  - 256 * 4\n",
    "    - 0.163\n",
    "  - Best: 256 * 4\n",
    "\n",
    ".\n",
    "\n",
    "- D steps (1, 5) and PAC value (4, 8, 16)\n",
    "  - 1, 4\n",
    "    - 0.120\n",
    "  - 1, 8\n",
    "    - 0.000\n",
    "  - 1, 16\n",
    "    - 0.054\n",
    "  - 5, 4\n",
    "    - 0.115\n",
    "  - 5, 8\n",
    "    - 0.100\n",
    "  - 5, 16\n",
    "    - 0.024\n",
    "  - Best: D steps = 1, PAC value = 4\n",
    "\n",
    ".\n",
    "\n",
    "- LR, batch size, epochs\n",
    "  - AE LR: 1e-4, GAN LR: 1e-5, batch size: 512, GAN epochs: 300, AE epochs: 100\n",
    "    - 0.136\n",
    "  - AE LR: 1e-4, GAN LR: 1e-5, batch size: 256, GAN epochs: 150, AE epochs: 50\n",
    "    - 0.061\n",
    "  - AE LR: 1e-4, GAN LR: 2e-4, batch size: 512, GAN epochs: 300, AE epochs: 100\n",
    "    - 0.087\n",
    "  - AE LR: 1e-4, GAN LR: 2e-4, batch size: 256, GAN epochs: 150, AE epochs: 50\n",
    "    - 0.181\n",
    "  - AE LR: 2e-4, GAN LR: 1e-5, batch size: 512, GAN epochs: 300, AE epochs: 100\n",
    "    - 0.067\n",
    "  - AE LR: 2e-4, GAN LR: 1e-5, batch size: 256, GAN epochs: 150, AE epochs: 50\n",
    "    - 0.158\n",
    "  - AE LR: 2e-4, GAN LR: 2e-4, batch size: 512, GAN epochs: 300, AE epochs: 100\n",
    "    - 0.074\n",
    "  - AE LR: 2e-4, GAN LR: 2e-4, batch size: 256, GAN epochs: 150, AE epochs: 50\n",
    "    - 0.092\n",
    "  - AE LR: 1e-3, GAN LR: 1e-5, batch size: 512, GAN epochs: 300, AE epochs: 100\n",
    "    - 0.138\n",
    "  - AE LR: 1e-3, GAN LR: 1e-5, batch size: 256, GAN epochs: 150, AE epochs: 50\n",
    "    - 0.108\n",
    "  - AE LR: 1e-3, GAN LR: 2e-4, batch size: 512, GAN epochs: 300, AE epochs: 100\n",
    "    - 0.140\n",
    "  - AE LR: 1e-3, GAN LR: 2e-4, batch size: 256, GAN epochs: 150, AE epochs: 50\n",
    "    - 0.232\n",
    "  - Best: AE LR: 1e-3, GAN LR: 2e-4, batch size: 256, GAN epochs: 150, AE epochs: 50"
   ]
  },
  {
   "cell_type": "markdown",
   "metadata": {},
   "source": [
    "### Variational AE"
   ]
  },
  {
   "attachments": {},
   "cell_type": "markdown",
   "metadata": {},
   "source": [
    "\n",
    "- AE dimension\n",
    "    - (256, 128)\n",
    "        - 0.066\n",
    "    - (256, 128, 64)\n",
    "        - 0.072\n",
    "    - (256, 128, 64, 32)\n",
    "        - 0.083\n",
    "    - Best: (256, 128, 64, 32)\n",
    "\n",
    ".\n",
    "\n",
    "- G hidden dimension\n",
    "    - 64\n",
    "        - 0.096\n",
    "    - 128\n",
    "        - 0.085\n",
    "    - 256\n",
    "        - 0.083\n",
    "    - Best: 64\n",
    "\n",
    ".\n",
    "\n",
    "- G and D layers\n",
    "  - 256 * 2\n",
    "    - 0.09\n",
    "  - 256 * 4\n",
    "    - 0.06\n",
    "  - Best: 256 * 2\n",
    "\n",
    ".\n",
    "\n",
    "- D steps (1, 5) and PAC value (4, 8, 16)\n",
    "  - 1, 4\n",
    "    - 0.071\n",
    "  - 1, 8\n",
    "    - 0.100\n",
    "  - 1, 16\n",
    "    - 0.123\n",
    "  - 5, 4\n",
    "    - 0.132\n",
    "  - 5, 8\n",
    "    - 0.075\n",
    "  - 5, 16\n",
    "    - 0.073\n",
    "  - Best: D steps = 5, PAC value = 4\n",
    "\n",
    ".\n",
    "\n",
    "- LR, batch size, epochs\n",
    "  - AE LR: 1e-4, GAN LR: 1e-5, batch size: 512, GAN epochs: 300, AE epochs: 100\n",
    "    - 0.082\n",
    "  - AE LR: 1e-4, GAN LR: 1e-5, batch size: 256, GAN epochs: 150, AE epochs: 50\n",
    "    - 0.075\n",
    "  - AE LR: 1e-4, GAN LR: 2e-4, batch size: 512, GAN epochs: 300, AE epochs: 100\n",
    "    - 0.123\n",
    "  - AE LR: 1e-4, GAN LR: 2e-4, batch size: 256, GAN epochs: 150, AE epochs: 50\n",
    "    - 0.119\n",
    "  - AE LR: 2e-4, GAN LR: 1e-5, batch size: 512, GAN epochs: 300, AE epochs: 100\n",
    "    - 0.093\n",
    "  - AE LR: 2e-4, GAN LR: 1e-5, batch size: 256, GAN epochs: 150, AE epochs: 50\n",
    "    - 0.070\n",
    "  - AE LR: 2e-4, GAN LR: 2e-4, batch size: 512, GAN epochs: 300, AE epochs: 100\n",
    "    - 0.089\n",
    "  - AE LR: 2e-4, GAN LR: 2e-4, batch size: 256, GAN epochs: 150, AE epochs: 50\n",
    "    - 0.130\n",
    "  - AE LR: 1e-3, GAN LR: 1e-5, batch size: 512, GAN epochs: 300, AE epochs: 100\n",
    "    - 0.069\n",
    "  - AE LR: 1e-3, GAN LR: 1e-5, batch size: 256, GAN epochs: 150, AE epochs: 50\n",
    "    - 0.078\n",
    "  - AE LR: 1e-3, GAN LR: 2e-4, batch size: 512, GAN epochs: 300, AE epochs: 100\n",
    "    - 0.079\n",
    "  - AE LR: 1e-3, GAN LR: 2e-4, batch size: 256, GAN epochs: 150, AE epochs: 50\n",
    "    - 0.073\n",
    "  - Best: AE LR: 2e-4, GAN LR: 2e-4, batch size: 256, GAN epochs: 150, AE epochs: 50"
   ]
  },
  {
   "cell_type": "code",
   "execution_count": null,
   "metadata": {},
   "outputs": [],
   "source": [
    "# model = CTGANV2()\n",
    "# intrusion_trans = model.transform(intrusion_train_df, discrete_columns=intrusion_discrete_columns)\n",
    "# # Save data transformer and transformed data to a file\n",
    "# with open(\"../dataset/intrusion/data_transformer.pkl\", \"wb\") as fp:\n",
    "#     pickle.dump(model._transformer, fp)\n",
    "# with open(\"../dataset/intrusion/transformed_data.pkl\", \"wb\") as fp:\n",
    "#     pickle.dump(intrusion_trans, fp)"
   ]
  },
  {
   "cell_type": "code",
   "execution_count": null,
   "metadata": {},
   "outputs": [],
   "source": [
    "# Load data transformer and transformed data\n",
    "# with open(\"../dataset/intrusion/data_transformer.pkl\", \"rb\") as fp:\n",
    "#     dt = pickle.load(fp)\n",
    "# with open(\"../dataset/intrusion/transformed_data.pkl\", \"rb\") as fp:\n",
    "#     intrusion_trans = pickle.load(fp)"
   ]
  },
  {
   "cell_type": "code",
   "execution_count": null,
   "metadata": {},
   "outputs": [],
   "source": [
    "# model = CTGANV2(epochs=2, ae_epochs=1)\n",
    "\n",
    "# model.fit(intrusion_trans, discrete_columns=intrusion_discrete_columns, dt=dt, is_pre_transformed=True, target_index=intrusion_train_df.shape[1]-1)"
   ]
  },
  {
   "cell_type": "code",
   "execution_count": null,
   "metadata": {},
   "outputs": [],
   "source": [
    "# model.save(f\"../models/intrusion_ae_gan_1.pkl\")"
   ]
  },
  {
   "cell_type": "code",
   "execution_count": 4,
   "metadata": {},
   "outputs": [],
   "source": [
    "model = CTGANV2.load(\"../models/tuned_intrusion_denoising.pkl\")"
   ]
  },
  {
   "cell_type": "code",
   "execution_count": 5,
   "metadata": {},
   "outputs": [],
   "source": [
    "# Sample fake train and validation data, if fails then re-attempt\n",
    "intrusion_fake_df = model.sample(intrusion_train_df.shape[0] + intrusion_valid_df.shape[0])\n",
    "intrusion_fake_X, intrusion_fake_y = dataloader.get_Xy(intrusion_fake_df)\n",
    "intrusion_fake_train_X, intrusion_fake_valid_X, intrusion_fake_train_y, intrusion_fake_valid_y = train_test_split(\n",
    "    intrusion_fake_X, intrusion_fake_y, test_size=intrusion_valid_df.shape[0], random_state=1, shuffle=True, stratify=intrusion_fake_y.argmax(-1)\n",
    ")"
   ]
  },
  {
   "cell_type": "code",
   "execution_count": null,
   "metadata": {},
   "outputs": [],
   "source": [
    "# Get real validation data\n",
    "intrusion_valid_X, intrusion_valid_y = dataloader.get_Xy(intrusion_valid_df)"
   ]
  },
  {
   "cell_type": "code",
   "execution_count": 6,
   "metadata": {},
   "outputs": [],
   "source": [
    "# Get real test data\n",
    "intrusion_test_X, intrusion_test_y = dataloader.get_Xy(intrusion_test_df)"
   ]
  },
  {
   "cell_type": "code",
   "execution_count": 7,
   "metadata": {},
   "outputs": [
    {
     "name": "stderr",
     "output_type": "stream",
     "text": [
      "  2%|▏         | 6/300 [00:00<00:27, 10.87it/s]"
     ]
    },
    {
     "name": "stdout",
     "output_type": "stream",
     "text": [
      "Epoch: 1, Training Loss: 0.0433, Valid Loss: 0.0030, Valid score: 0.3015\n"
     ]
    },
    {
     "name": "stderr",
     "output_type": "stream",
     "text": [
      " 10%|█         | 31/300 [00:01<00:07, 36.08it/s]"
     ]
    },
    {
     "name": "stdout",
     "output_type": "stream",
     "text": [
      "Epoch: 26, Training Loss: 0.0003, Valid Loss: 0.0001, Valid score: 0.9753\n"
     ]
    },
    {
     "name": "stderr",
     "output_type": "stream",
     "text": [
      " 19%|█▊        | 56/300 [00:01<00:05, 43.59it/s]"
     ]
    },
    {
     "name": "stdout",
     "output_type": "stream",
     "text": [
      "Epoch: 51, Training Loss: 0.0003, Valid Loss: 0.0000, Valid score: 0.9761\n"
     ]
    },
    {
     "name": "stderr",
     "output_type": "stream",
     "text": [
      " 27%|██▋       | 81/300 [00:02<00:04, 44.56it/s]"
     ]
    },
    {
     "name": "stdout",
     "output_type": "stream",
     "text": [
      "Epoch: 76, Training Loss: 0.0002, Valid Loss: 0.0000, Valid score: 0.9838\n"
     ]
    },
    {
     "name": "stderr",
     "output_type": "stream",
     "text": [
      " 35%|███▌      | 106/300 [00:02<00:04, 46.97it/s]"
     ]
    },
    {
     "name": "stdout",
     "output_type": "stream",
     "text": [
      "Epoch: 101, Training Loss: 0.0003, Valid Loss: 0.0000, Valid score: 0.9881\n"
     ]
    },
    {
     "name": "stderr",
     "output_type": "stream",
     "text": [
      " 44%|████▍     | 132/300 [00:03<00:03, 47.65it/s]"
     ]
    },
    {
     "name": "stdout",
     "output_type": "stream",
     "text": [
      "Epoch: 126, Training Loss: 0.0004, Valid Loss: 0.0000, Valid score: 0.9827\n"
     ]
    },
    {
     "name": "stderr",
     "output_type": "stream",
     "text": [
      " 53%|█████▎    | 159/300 [00:04<00:02, 48.05it/s]"
     ]
    },
    {
     "name": "stdout",
     "output_type": "stream",
     "text": [
      "Epoch: 151, Training Loss: 0.0002, Valid Loss: 0.0001, Valid score: 0.9888\n"
     ]
    },
    {
     "name": "stderr",
     "output_type": "stream",
     "text": [
      " 61%|██████▏   | 184/300 [00:04<00:02, 41.66it/s]"
     ]
    },
    {
     "name": "stdout",
     "output_type": "stream",
     "text": [
      "Epoch: 176, Training Loss: 0.0003, Valid Loss: 0.0001, Valid score: 0.9886\n"
     ]
    },
    {
     "name": "stderr",
     "output_type": "stream",
     "text": [
      " 70%|██████▉   | 209/300 [00:05<00:01, 46.14it/s]"
     ]
    },
    {
     "name": "stdout",
     "output_type": "stream",
     "text": [
      "Epoch: 201, Training Loss: 0.0000, Valid Loss: 0.0000, Valid score: 0.9922\n"
     ]
    },
    {
     "name": "stderr",
     "output_type": "stream",
     "text": [
      " 76%|███████▋  | 229/300 [00:05<00:01, 40.95it/s]"
     ]
    },
    {
     "name": "stdout",
     "output_type": "stream",
     "text": [
      "Epoch: 226, Training Loss: 0.0000, Valid Loss: 0.0000, Valid score: 0.9923\n"
     ]
    },
    {
     "name": "stderr",
     "output_type": "stream",
     "text": [
      " 87%|████████▋ | 260/300 [00:06<00:00, 47.28it/s]"
     ]
    },
    {
     "name": "stdout",
     "output_type": "stream",
     "text": [
      "Epoch: 251, Training Loss: 0.0003, Valid Loss: 0.0001, Valid score: 0.9850\n"
     ]
    },
    {
     "name": "stderr",
     "output_type": "stream",
     "text": [
      " 95%|█████████▌| 285/300 [00:06<00:00, 47.20it/s]"
     ]
    },
    {
     "name": "stdout",
     "output_type": "stream",
     "text": [
      "Epoch: 276, Training Loss: 0.0000, Valid Loss: 0.0000, Valid score: 0.9923\n"
     ]
    },
    {
     "name": "stderr",
     "output_type": "stream",
     "text": [
      "100%|██████████| 300/300 [00:07<00:00, 41.50it/s]"
     ]
    },
    {
     "name": "stdout",
     "output_type": "stream",
     "text": [
      "Best validation score: 0.9938615862956602\n",
      "Test score: 0.020918892904044032\n"
     ]
    },
    {
     "name": "stderr",
     "output_type": "stream",
     "text": [
      "\n"
     ]
    }
   ],
   "source": [
    "# Check ML efficacy\n",
    "test_score = train_model(\n",
    "    intrusion_fake_train_X,\n",
    "    intrusion_fake_train_y,\n",
    "    intrusion_fake_valid_X,\n",
    "    intrusion_fake_valid_y,\n",
    "    intrusion_test_X,\n",
    "    intrusion_test_y,\n",
    "    input_dim=215,\n",
    "    output_dim=23,\n",
    "    batch_size=2048,\n",
    "    num_epochs=300,\n",
    "    model_type=\"classification\",\n",
    "    show_print_training_score=False,\n",
    "    verbose=False,\n",
    "    scorer_type=\"f1_macro\",\n",
    ")\n",
    "print(f\"Test score: {test_score}\")"
   ]
  },
  {
   "cell_type": "code",
   "execution_count": null,
   "metadata": {},
   "outputs": [],
   "source": [
    "n_models = 12\n",
    "\n",
    "scores = []\n",
    "\n",
    "for i in range(n_models):\n",
    "    print(f\"Processing {i+1} model\")\n",
    "    model_file = f\"../models/intrusion_ae_gan_{i+1}.pkl\"\n",
    "    if not os.path.exists(model_file):\n",
    "        print(f\"Skipping {i+1} model\")\n",
    "        continue\n",
    "    model = CTGANV2.load(model_file)\n",
    "    # Sample fake train and validation data\n",
    "    idx = 0\n",
    "    while True:\n",
    "        if idx >= 5:\n",
    "            raise Exception(f\"Failed to generate fake data after {idx} tries\")\n",
    "        try:\n",
    "            intrusion_fake_df = model.sample(intrusion_train_df.shape[0] + intrusion_valid_df.shape[0])\n",
    "            intrusion_fake_X, intrusion_fake_y = dataloader.get_Xy(intrusion_fake_df)\n",
    "            intrusion_fake_train_X, intrusion_fake_valid_X, intrusion_fake_train_y, intrusion_fake_valid_y = train_test_split(\n",
    "                intrusion_fake_X, intrusion_fake_y, test_size=intrusion_valid_df.shape[0], random_state=1, shuffle=True, stratify=intrusion_fake_y.argmax(-1)\n",
    "            )\n",
    "            break\n",
    "        except:\n",
    "            print(\"Invalid fake data generated, trying again...\")\n",
    "            idx+=1\n",
    "            continue\n",
    "\n",
    "    best_test_score = -float(\"inf\")\n",
    "    for i in range(5):\n",
    "        test_score = train_model(\n",
    "            intrusion_fake_train_X,\n",
    "            intrusion_fake_train_y,\n",
    "            intrusion_fake_valid_X,\n",
    "            intrusion_fake_valid_y,\n",
    "            intrusion_valid_X,\n",
    "            intrusion_valid_y,\n",
    "            input_dim=215,\n",
    "            output_dim=23,\n",
    "            batch_size=2048,\n",
    "            num_epochs=300,\n",
    "            model_type=\"classification\",\n",
    "            show_print_training_score=False,\n",
    "            verbose=False,\n",
    "            scorer_type=\"f1_macro\",\n",
    "        )\n",
    "        if test_score > best_test_score:\n",
    "            best_test_score = test_score\n",
    "    print(f\"Test score: {best_test_score}\")\n",
    "    scores.append(best_test_score)"
   ]
  }
 ],
 "metadata": {
  "kernelspec": {
   "display_name": "vanilla",
   "language": "python",
   "name": "python3"
  },
  "language_info": {
   "codemirror_mode": {
    "name": "ipython",
    "version": 3
   },
   "file_extension": ".py",
   "mimetype": "text/x-python",
   "name": "python",
   "nbconvert_exporter": "python",
   "pygments_lexer": "ipython3",
   "version": "3.10.11"
  },
  "orig_nbformat": 4
 },
 "nbformat": 4,
 "nbformat_minor": 2
}
