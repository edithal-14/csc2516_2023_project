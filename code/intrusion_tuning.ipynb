{
 "cells": [
  {
   "cell_type": "code",
   "execution_count": 1,
   "metadata": {},
   "outputs": [],
   "source": [
    "from ctgan.synthesizers.ae_gan import CTGANV2, AutoEncoderType\n",
    "from aegan_utils import train_model, IntrusionDataset\n",
    "from sklearn.model_selection import train_test_split\n",
    "import datetime\n",
    "import pandas as pd\n",
    "import numpy as np\n",
    "import pickle\n",
    "import os"
   ]
  },
  {
   "cell_type": "code",
   "execution_count": 2,
   "metadata": {},
   "outputs": [],
   "source": [
    "dataloader = IntrusionDataset(path=\"../dataset/intrusion/\")"
   ]
  },
  {
   "cell_type": "code",
   "execution_count": 3,
   "metadata": {},
   "outputs": [],
   "source": [
    "intrusion_train_df, intrusion_valid_df, intrusion_test_df, intrusion_discrete_columns = dataloader.load_intrusion()"
   ]
  },
  {
   "attachments": {},
   "cell_type": "markdown",
   "metadata": {},
   "source": [
    "### Tune based on F1 macro score on real intrusion validation dataset"
   ]
  },
  {
   "attachments": {},
   "cell_type": "markdown",
   "metadata": {},
   "source": [
    "### Vanilla AE"
   ]
  },
  {
   "attachments": {},
   "cell_type": "markdown",
   "metadata": {},
   "source": [
    "- AE dimension\n",
    "    - (256, 128)\n",
    "        - 0.090\n",
    "    - (256, 128, 64)\n",
    "        - 0.055\n",
    "    - (256, 128, 64, 32)\n",
    "        - 0.026\n",
    "    - Best: (256, 128)\n",
    "\n",
    ".\n",
    "\n",
    "- G hidden dimension\n",
    "    - 64\n",
    "        - 0.087\n",
    "    - 128\n",
    "        - 0.037\n",
    "    - 256\n",
    "        - 0.058\n",
    "    - Best: 64\n",
    "\n",
    ".\n",
    "\n",
    "- G and D layers\n",
    "  - 256 * 2\n",
    "    - ?\n",
    "  - 256 * 4\n",
    "    - ?\n",
    "  - Best: ?\n",
    "\n",
    ".\n",
    "\n",
    "- D steps (1, 5) and PAC value (4, 8, 16)\n",
    "  - 1, 4\n",
    "    - ?\n",
    "  - 1, 8\n",
    "    - ?\n",
    "  - 1, 16\n",
    "    - ?\n",
    "  - 5, 4\n",
    "    - ?\n",
    "  - 5, 8\n",
    "    - ?\n",
    "  - 5, 16\n",
    "    - ?\n",
    "  - Best: ?\n",
    "\n",
    ".\n",
    "\n",
    "- LR, batch size, epochs\n",
    "  - AE LR: 1e-4, GAN LR: 1e-5, batch size: 512, GAN epochs: 300, AE epochs: 100\n",
    "    - ?\n",
    "  - AE LR: 1e-4, GAN LR: 1e-5, batch size: 256, GAN epochs: 150, AE epochs: 50\n",
    "    - ?\n",
    "  - AE LR: 1e-4, GAN LR: 2e-4, batch size: 512, GAN epochs: 300, AE epochs: 100\n",
    "    - ?\n",
    "  - AE LR: 1e-4, GAN LR: 2e-4, batch size: 256, GAN epochs: 150, AE epochs: 50\n",
    "    - ?\n",
    "  - AE LR: 2e-4, GAN LR: 1e-5, batch size: 512, GAN epochs: 300, AE epochs: 100\n",
    "    - ?\n",
    "  - AE LR: 2e-4, GAN LR: 1e-5, batch size: 256, GAN epochs: 150, AE epochs: 50\n",
    "    - ?\n",
    "  - AE LR: 2e-4, GAN LR: 2e-4, batch size: 512, GAN epochs: 300, AE epochs: 100\n",
    "    - ?\n",
    "  - AE LR: 2e-4, GAN LR: 2e-4, batch size: 256, GAN epochs: 150, AE epochs: 50\n",
    "    - ?\n",
    "  - AE LR: 1e-3, GAN LR: 1e-5, batch size: 512, GAN epochs: 300, AE epochs: 100\n",
    "    - ?\n",
    "  - AE LR: 1e-3, GAN LR: 1e-5, batch size: 256, GAN epochs: 150, AE epochs: 50\n",
    "    - ?\n",
    "  - AE LR: 1e-3, GAN LR: 2e-4, batch size: 512, GAN epochs: 300, AE epochs: 100\n",
    "    - ?\n",
    "  - AE LR: 1e-3, GAN LR: 2e-4, batch size: 256, GAN epochs: 150, AE epochs: 50\n",
    "    - ?\n",
    "  - Best: ?"
   ]
  },
  {
   "attachments": {},
   "cell_type": "markdown",
   "metadata": {},
   "source": [
    "### Denoising AE"
   ]
  },
  {
   "attachments": {},
   "cell_type": "markdown",
   "metadata": {},
   "source": [
    "\n",
    "- AE dimension\n",
    "    - (256, 128)\n",
    "        - 0.049\n",
    "    - (256, 128, 64)\n",
    "        - 0.048\n",
    "    - (256, 128, 64, 32)\n",
    "        - 0.030\n",
    "    - Best: (256, 128)\n",
    "\n",
    ".\n",
    "\n",
    "- G hidden dimension\n",
    "    - 64\n",
    "        - 0.175\n",
    "    - 128\n",
    "        - 0.113\n",
    "    - 256\n",
    "        - 0.028\n",
    "    - Best: 64\n",
    "\n",
    ".\n",
    "\n",
    "- G and D layers\n",
    "  - 256 * 2\n",
    "    - ?\n",
    "  - 256 * 4\n",
    "    - ?\n",
    "  - Best: ?\n",
    "\n",
    ".\n",
    "\n",
    "- D steps (1, 5) and PAC value (4, 8, 16)\n",
    "  - 1, 4\n",
    "    - ?\n",
    "  - 1, 8\n",
    "    - ?\n",
    "  - 1, 16\n",
    "    - ?\n",
    "  - 5, 4\n",
    "    - ?\n",
    "  - 5, 8\n",
    "    - ?\n",
    "  - 5, 16\n",
    "    - ?\n",
    "  - Best: ?\n",
    "\n",
    ".\n",
    "\n",
    "- LR, batch size, epochs\n",
    "  - AE LR: 1e-4, GAN LR: 1e-5, batch size: 512, GAN epochs: 300, AE epochs: 100\n",
    "    - ?\n",
    "  - AE LR: 1e-4, GAN LR: 1e-5, batch size: 256, GAN epochs: 150, AE epochs: 50\n",
    "    - ?\n",
    "  - AE LR: 1e-4, GAN LR: 2e-4, batch size: 512, GAN epochs: 300, AE epochs: 100\n",
    "    - ?\n",
    "  - AE LR: 1e-4, GAN LR: 2e-4, batch size: 256, GAN epochs: 150, AE epochs: 50\n",
    "    - ?\n",
    "  - AE LR: 2e-4, GAN LR: 1e-5, batch size: 512, GAN epochs: 300, AE epochs: 100\n",
    "    - ?\n",
    "  - AE LR: 2e-4, GAN LR: 1e-5, batch size: 256, GAN epochs: 150, AE epochs: 50\n",
    "    - ?\n",
    "  - AE LR: 2e-4, GAN LR: 2e-4, batch size: 512, GAN epochs: 300, AE epochs: 100\n",
    "    - ?\n",
    "  - AE LR: 2e-4, GAN LR: 2e-4, batch size: 256, GAN epochs: 150, AE epochs: 50\n",
    "    - ?\n",
    "  - AE LR: 1e-3, GAN LR: 1e-5, batch size: 512, GAN epochs: 300, AE epochs: 100\n",
    "    - ?\n",
    "  - AE LR: 1e-3, GAN LR: 1e-5, batch size: 256, GAN epochs: 150, AE epochs: 50\n",
    "    - ?\n",
    "  - AE LR: 1e-3, GAN LR: 2e-4, batch size: 512, GAN epochs: 300, AE epochs: 100\n",
    "    - ?\n",
    "  - AE LR: 1e-3, GAN LR: 2e-4, batch size: 256, GAN epochs: 150, AE epochs: 50\n",
    "    - ?\n",
    "  - Best: ?"
   ]
  },
  {
   "cell_type": "markdown",
   "metadata": {},
   "source": [
    "### Entity AE"
   ]
  },
  {
   "attachments": {},
   "cell_type": "markdown",
   "metadata": {},
   "source": [
    "\n",
    "- AE dimension\n",
    "    - (256, 128)\n",
    "        - 0.093\n",
    "    - (256, 128, 64)\n",
    "        - 0.008\n",
    "    - (256, 128, 64, 32)\n",
    "        - 0.029\n",
    "    - Best: (256, 128)\n",
    "\n",
    ".\n",
    "\n",
    "- G hidden dimension\n",
    "    - 64\n",
    "        - 0.138\n",
    "    - 128\n",
    "        - 0.011\n",
    "    - 256\n",
    "        - 0.134\n",
    "    - Best: 64\n",
    "\n",
    ".\n",
    "\n",
    "- G and D layers\n",
    "  - 256 * 2\n",
    "    - ?\n",
    "  - 256 * 4\n",
    "    - ?\n",
    "  - Best: ?\n",
    "\n",
    ".\n",
    "\n",
    "- D steps (1, 5) and PAC value (4, 8, 16)\n",
    "  - 1, 4\n",
    "    - ?\n",
    "  - 1, 8\n",
    "    - ?\n",
    "  - 1, 16\n",
    "    - ?\n",
    "  - 5, 4\n",
    "    - ?\n",
    "  - 5, 8\n",
    "    - ?\n",
    "  - 5, 16\n",
    "    - ?\n",
    "  - Best: ?\n",
    "\n",
    ".\n",
    "\n",
    "- LR, batch size, epochs\n",
    "  - AE LR: 1e-4, GAN LR: 1e-5, batch size: 512, GAN epochs: 300, AE epochs: 100\n",
    "    - ?\n",
    "  - AE LR: 1e-4, GAN LR: 1e-5, batch size: 256, GAN epochs: 150, AE epochs: 50\n",
    "    - ?\n",
    "  - AE LR: 1e-4, GAN LR: 2e-4, batch size: 512, GAN epochs: 300, AE epochs: 100\n",
    "    - ?\n",
    "  - AE LR: 1e-4, GAN LR: 2e-4, batch size: 256, GAN epochs: 150, AE epochs: 50\n",
    "    - ?\n",
    "  - AE LR: 2e-4, GAN LR: 1e-5, batch size: 512, GAN epochs: 300, AE epochs: 100\n",
    "    - ?\n",
    "  - AE LR: 2e-4, GAN LR: 1e-5, batch size: 256, GAN epochs: 150, AE epochs: 50\n",
    "    - ?\n",
    "  - AE LR: 2e-4, GAN LR: 2e-4, batch size: 512, GAN epochs: 300, AE epochs: 100\n",
    "    - ?\n",
    "  - AE LR: 2e-4, GAN LR: 2e-4, batch size: 256, GAN epochs: 150, AE epochs: 50\n",
    "    - ?\n",
    "  - AE LR: 1e-3, GAN LR: 1e-5, batch size: 512, GAN epochs: 300, AE epochs: 100\n",
    "    - ?\n",
    "  - AE LR: 1e-3, GAN LR: 1e-5, batch size: 256, GAN epochs: 150, AE epochs: 50\n",
    "    - ?\n",
    "  - AE LR: 1e-3, GAN LR: 2e-4, batch size: 512, GAN epochs: 300, AE epochs: 100\n",
    "    - ?\n",
    "  - AE LR: 1e-3, GAN LR: 2e-4, batch size: 256, GAN epochs: 150, AE epochs: 50\n",
    "    - ?\n",
    "  - Best: ?"
   ]
  },
  {
   "cell_type": "markdown",
   "metadata": {},
   "source": [
    "### Variational AE"
   ]
  },
  {
   "attachments": {},
   "cell_type": "markdown",
   "metadata": {},
   "source": [
    "\n",
    "- AE dimension\n",
    "    - (256, 128)\n",
    "        - 0.066\n",
    "    - (256, 128, 64)\n",
    "        - 0.072\n",
    "    - (256, 128, 64, 32)\n",
    "        - 0.083\n",
    "    - Best: (256, 128, 64, 32)\n",
    "\n",
    ".\n",
    "\n",
    "- G hidden dimension\n",
    "    - 64\n",
    "        - 0.096\n",
    "    - 128\n",
    "        - 0.085\n",
    "    - 256\n",
    "        - 0.083\n",
    "    - Best: 64\n",
    "\n",
    ".\n",
    "\n",
    "- G and D layers\n",
    "  - 256 * 2\n",
    "    - ?\n",
    "  - 256 * 4\n",
    "    - ?\n",
    "  - Best: ?\n",
    "\n",
    ".\n",
    "\n",
    "- D steps (1, 5) and PAC value (4, 8, 16)\n",
    "  - 1, 4\n",
    "    - ?\n",
    "  - 1, 8\n",
    "    - ?\n",
    "  - 1, 16\n",
    "    - ?\n",
    "  - 5, 4\n",
    "    - ?\n",
    "  - 5, 8\n",
    "    - ?\n",
    "  - 5, 16\n",
    "    - ?\n",
    "  - Best: ?\n",
    "\n",
    ".\n",
    "\n",
    "- LR, batch size, epochs\n",
    "  - AE LR: 1e-4, GAN LR: 1e-5, batch size: 512, GAN epochs: 300, AE epochs: 100\n",
    "    - ?\n",
    "  - AE LR: 1e-4, GAN LR: 1e-5, batch size: 256, GAN epochs: 150, AE epochs: 50\n",
    "    - ?\n",
    "  - AE LR: 1e-4, GAN LR: 2e-4, batch size: 512, GAN epochs: 300, AE epochs: 100\n",
    "    - ?\n",
    "  - AE LR: 1e-4, GAN LR: 2e-4, batch size: 256, GAN epochs: 150, AE epochs: 50\n",
    "    - ?\n",
    "  - AE LR: 2e-4, GAN LR: 1e-5, batch size: 512, GAN epochs: 300, AE epochs: 100\n",
    "    - ?\n",
    "  - AE LR: 2e-4, GAN LR: 1e-5, batch size: 256, GAN epochs: 150, AE epochs: 50\n",
    "    - ?\n",
    "  - AE LR: 2e-4, GAN LR: 2e-4, batch size: 512, GAN epochs: 300, AE epochs: 100\n",
    "    - ?\n",
    "  - AE LR: 2e-4, GAN LR: 2e-4, batch size: 256, GAN epochs: 150, AE epochs: 50\n",
    "    - ?\n",
    "  - AE LR: 1e-3, GAN LR: 1e-5, batch size: 512, GAN epochs: 300, AE epochs: 100\n",
    "    - ?\n",
    "  - AE LR: 1e-3, GAN LR: 1e-5, batch size: 256, GAN epochs: 150, AE epochs: 50\n",
    "    - ?\n",
    "  - AE LR: 1e-3, GAN LR: 2e-4, batch size: 512, GAN epochs: 300, AE epochs: 100\n",
    "    - ?\n",
    "  - AE LR: 1e-3, GAN LR: 2e-4, batch size: 256, GAN epochs: 150, AE epochs: 50\n",
    "    - ?\n",
    "  - Best: ?"
   ]
  },
  {
   "cell_type": "code",
   "execution_count": 4,
   "metadata": {},
   "outputs": [],
   "source": [
    "# model = CTGANV2()\n",
    "# intrusion_trans = model.transform(intrusion_train_df, discrete_columns=intrusion_discrete_columns)\n",
    "# # Save data transformer and transformed data to a file\n",
    "# with open(\"../dataset/intrusion/data_transformer.pkl\", \"wb\") as fp:\n",
    "#     pickle.dump(model._transformer, fp)\n",
    "# with open(\"../dataset/intrusion/transformed_data.pkl\", \"wb\") as fp:\n",
    "#     pickle.dump(intrusion_trans, fp)"
   ]
  },
  {
   "cell_type": "code",
   "execution_count": 5,
   "metadata": {},
   "outputs": [],
   "source": [
    "# Load data transformer and transformed data\n",
    "# with open(\"../dataset/intrusion/data_transformer.pkl\", \"rb\") as fp:\n",
    "#     dt = pickle.load(fp)\n",
    "# with open(\"../dataset/intrusion/transformed_data.pkl\", \"rb\") as fp:\n",
    "#     intrusion_trans = pickle.load(fp)"
   ]
  },
  {
   "cell_type": "code",
   "execution_count": 6,
   "metadata": {},
   "outputs": [],
   "source": [
    "# model = CTGANV2(epochs=2)\n",
    "\n",
    "# model.fit(intrusion_trans, discrete_columns=intrusion_discrete_columns, dt=dt, is_pre_transformed=True, target_index=intrusion_train_df.shape[1]-1)"
   ]
  },
  {
   "cell_type": "code",
   "execution_count": 7,
   "metadata": {},
   "outputs": [],
   "source": [
    "# model.save(f\"../models/intrusion_ae_gan_1.pkl\")"
   ]
  },
  {
   "cell_type": "code",
   "execution_count": 5,
   "metadata": {},
   "outputs": [],
   "source": [
    "# model = CTGANV2.load(\"../models/intrusion_ae_gan_1.pkl\")"
   ]
  },
  {
   "cell_type": "code",
   "execution_count": 6,
   "metadata": {},
   "outputs": [],
   "source": [
    "# Sample fake train and validation data, if fails then re-attempt\n",
    "# intrusion_fake_df = model.sample(intrusion_train_df.shape[0] + intrusion_valid_df.shape[0])\n",
    "# intrusion_fake_X, intrusion_fake_y = dataloader.get_Xy(intrusion_fake_df)\n",
    "# intrusion_fake_train_X, intrusion_fake_valid_X, intrusion_fake_train_y, intrusion_fake_valid_y = train_test_split(\n",
    "#     intrusion_fake_X, intrusion_fake_y, test_size=intrusion_valid_df.shape[0], random_state=1, shuffle=True, stratify=intrusion_fake_y.argmax(-1)\n",
    "# )"
   ]
  },
  {
   "cell_type": "code",
   "execution_count": 4,
   "metadata": {},
   "outputs": [],
   "source": [
    "# Get real validation data\n",
    "# intrusion_valid_X, intrusion_valid_y = dataloader.get_Xy(intrusion_valid_df)"
   ]
  },
  {
   "cell_type": "code",
   "execution_count": 15,
   "metadata": {},
   "outputs": [
    {
     "name": "stderr",
     "output_type": "stream",
     "text": [
      "  3%|▎         | 10/300 [00:00<00:06, 45.09it/s]"
     ]
    },
    {
     "name": "stdout",
     "output_type": "stream",
     "text": [
      "Epoch: 1, Training Loss: 0.0959, Valid Loss: 0.0072, Valid score: 0.0978\n"
     ]
    },
    {
     "name": "stderr",
     "output_type": "stream",
     "text": [
      " 12%|█▏        | 35/300 [00:00<00:05, 47.35it/s]"
     ]
    },
    {
     "name": "stdout",
     "output_type": "stream",
     "text": [
      "Epoch: 26, Training Loss: 0.0006, Valid Loss: 0.0002, Valid score: 0.4736\n"
     ]
    },
    {
     "name": "stderr",
     "output_type": "stream",
     "text": [
      " 19%|█▉        | 57/300 [00:01<00:04, 49.19it/s]"
     ]
    },
    {
     "name": "stdout",
     "output_type": "stream",
     "text": [
      "Epoch: 51, Training Loss: 0.0004, Valid Loss: 0.0001, Valid score: 0.5599\n"
     ]
    },
    {
     "name": "stderr",
     "output_type": "stream",
     "text": [
      " 29%|██▊       | 86/300 [00:01<00:04, 51.00it/s]"
     ]
    },
    {
     "name": "stdout",
     "output_type": "stream",
     "text": [
      "Epoch: 76, Training Loss: 0.0004, Valid Loss: 0.0002, Valid score: 0.5190\n"
     ]
    },
    {
     "name": "stderr",
     "output_type": "stream",
     "text": [
      " 37%|███▋      | 110/300 [00:02<00:03, 50.98it/s]"
     ]
    },
    {
     "name": "stdout",
     "output_type": "stream",
     "text": [
      "Epoch: 101, Training Loss: 0.0003, Valid Loss: 0.0001, Valid score: 0.5591\n"
     ]
    },
    {
     "name": "stderr",
     "output_type": "stream",
     "text": [
      " 44%|████▍     | 132/300 [00:02<00:03, 46.72it/s]"
     ]
    },
    {
     "name": "stdout",
     "output_type": "stream",
     "text": [
      "Epoch: 126, Training Loss: 0.0003, Valid Loss: 0.0001, Valid score: 0.6366\n"
     ]
    },
    {
     "name": "stderr",
     "output_type": "stream",
     "text": [
      " 53%|█████▎    | 159/300 [00:03<00:02, 47.64it/s]"
     ]
    },
    {
     "name": "stdout",
     "output_type": "stream",
     "text": [
      "Epoch: 151, Training Loss: 0.0004, Valid Loss: 0.0002, Valid score: 0.5759\n"
     ]
    },
    {
     "name": "stderr",
     "output_type": "stream",
     "text": [
      " 62%|██████▏   | 185/300 [00:03<00:02, 48.52it/s]"
     ]
    },
    {
     "name": "stdout",
     "output_type": "stream",
     "text": [
      "Epoch: 176, Training Loss: 0.0003, Valid Loss: 0.0001, Valid score: 0.6317\n"
     ]
    },
    {
     "name": "stderr",
     "output_type": "stream",
     "text": [
      " 70%|███████   | 210/300 [00:04<00:01, 47.29it/s]"
     ]
    },
    {
     "name": "stdout",
     "output_type": "stream",
     "text": [
      "Epoch: 201, Training Loss: 0.0003, Valid Loss: 0.0001, Valid score: 0.6858\n"
     ]
    },
    {
     "name": "stderr",
     "output_type": "stream",
     "text": [
      " 77%|███████▋  | 231/300 [00:04<00:01, 47.65it/s]"
     ]
    },
    {
     "name": "stdout",
     "output_type": "stream",
     "text": [
      "Epoch: 226, Training Loss: 0.0005, Valid Loss: 0.0001, Valid score: 0.5760\n"
     ]
    },
    {
     "name": "stderr",
     "output_type": "stream",
     "text": [
      " 86%|████████▌ | 257/300 [00:05<00:00, 48.38it/s]"
     ]
    },
    {
     "name": "stdout",
     "output_type": "stream",
     "text": [
      "Epoch: 251, Training Loss: 0.0003, Valid Loss: 0.0001, Valid score: 0.7114\n"
     ]
    },
    {
     "name": "stderr",
     "output_type": "stream",
     "text": [
      " 95%|█████████▍| 284/300 [00:05<00:00, 49.62it/s]"
     ]
    },
    {
     "name": "stdout",
     "output_type": "stream",
     "text": [
      "Epoch: 276, Training Loss: 0.0003, Valid Loss: 0.0001, Valid score: 0.6977\n"
     ]
    },
    {
     "name": "stderr",
     "output_type": "stream",
     "text": [
      "100%|██████████| 300/300 [00:06<00:00, 47.88it/s]"
     ]
    },
    {
     "name": "stdout",
     "output_type": "stream",
     "text": [
      "Best validation score: 0.7241637469293323\n",
      "Test score: 0.17499796797030934\n"
     ]
    },
    {
     "name": "stderr",
     "output_type": "stream",
     "text": [
      "\n"
     ]
    }
   ],
   "source": [
    "# Check ML efficacy\n",
    "# test_score = train_model(\n",
    "#     intrusion_fake_train_X,\n",
    "#     intrusion_fake_train_y,\n",
    "#     intrusion_fake_valid_X,\n",
    "#     intrusion_fake_valid_y,\n",
    "#     intrusion_test_X,\n",
    "#     intrusion_test_y,\n",
    "#     input_dim=215,\n",
    "#     output_dim=23,\n",
    "#     batch_size=2048,\n",
    "#     num_epochs=300,\n",
    "#     model_type=\"classification\",\n",
    "#     show_print_training_score=False,\n",
    "#     verbose=False,\n",
    "#     scorer_type=\"f1_macro\",\n",
    "# )\n",
    "# print(f\"Test score: {test_score}\")"
   ]
  },
  {
   "cell_type": "code",
   "execution_count": 4,
   "metadata": {},
   "outputs": [
    {
     "name": "stdout",
     "output_type": "stream",
     "text": [
      "Processing 1 model\n"
     ]
    }
   ],
   "source": [
    "n_models = 12\n",
    "\n",
    "scores = []\n",
    "\n",
    "for i in range(n_models):\n",
    "    print(f\"Processing {i+1} model\")\n",
    "    model_file = f\"../models/intrusion_ae_gan_{i+1}.pkl\"\n",
    "    if not os.path.exists(model_file):\n",
    "        print(f\"Skipping {i+1} model\")\n",
    "        continue\n",
    "    model = CTGANV2.load(model_file)\n",
    "    # Sample fake train and validation data\n",
    "    idx = 0\n",
    "    while True:\n",
    "        if idx >= 5:\n",
    "            raise Exception(f\"Failed to generate fake data after {idx} tries\")\n",
    "        try:\n",
    "            intrusion_fake_df = model.sample(intrusion_train_df.shape[0] + intrusion_valid_df.shape[0])\n",
    "            intrusion_fake_X, intrusion_fake_y = dataloader.get_Xy(intrusion_fake_df)\n",
    "            intrusion_fake_train_X, intrusion_fake_valid_X, intrusion_fake_train_y, intrusion_fake_valid_y = train_test_split(\n",
    "                intrusion_fake_X, intrusion_fake_y, test_size=intrusion_valid_df.shape[0], random_state=1, shuffle=True, stratify=intrusion_fake_y.argmax(-1)\n",
    "            )\n",
    "            break\n",
    "        except:\n",
    "            print(\"Invalid fake data generated, trying again...\")\n",
    "            idx+=1\n",
    "            continue\n",
    "\n",
    "    best_test_score = -float(\"inf\")\n",
    "    for i in range(5):\n",
    "        test_score = train_model(\n",
    "            intrusion_fake_train_X,\n",
    "            intrusion_fake_train_y,\n",
    "            intrusion_fake_valid_X,\n",
    "            intrusion_fake_valid_y,\n",
    "            intrusion_valid_X,\n",
    "            intrusion_valid_y,\n",
    "            input_dim=215,\n",
    "            output_dim=23,\n",
    "            batch_size=2048,\n",
    "            num_epochs=300,\n",
    "            model_type=\"classification\",\n",
    "            show_print_training_score=False,\n",
    "            verbose=False,\n",
    "            scorer_type=\"f1_macro\",\n",
    "        )\n",
    "        if test_score > best_test_score:\n",
    "            best_test_score = test_score\n",
    "    print(f\"Test score: {best_test_score}\")\n",
    "    scores.append(best_test_score)"
   ]
  }
 ],
 "metadata": {
  "kernelspec": {
   "display_name": "vanilla",
   "language": "python",
   "name": "python3"
  },
  "language_info": {
   "codemirror_mode": {
    "name": "ipython",
    "version": 3
   },
   "file_extension": ".py",
   "mimetype": "text/x-python",
   "name": "python",
   "nbconvert_exporter": "python",
   "pygments_lexer": "ipython3",
   "version": "3.10.11"
  },
  "orig_nbformat": 4
 },
 "nbformat": 4,
 "nbformat_minor": 2
}
